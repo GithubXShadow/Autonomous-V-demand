{
 "cells": [
  {
   "cell_type": "code",
   "execution_count": 24,
   "metadata": {
    "collapsed": true
   },
   "outputs": [],
   "source": [
    "import numpy as np\n",
    "import pandas as pd\n",
    "import matplotlib as plt\n",
    "import networkx as nx\n",
    "%matplotlib inline\n",
    "# from DYNASMART_Process import *\n",
    "from Modules import DYNASMART_Process as dy\n",
    "# import preprocessing_read_skim_file as rs\n",
    "from Modules import AV_functions as av\n",
    "from Modules import Solve_DARP as sod\n",
    "from Modules import Postprocess_DARP as pod\n",
    "from Modules import Preprocess_DARP as prd\n",
    "from Modules import DARP_to_DYNA as dtd\n",
    "from gurobipy import *\n",
    "from Modules import *\n",
    "import datetime\n",
    "import requests\n",
    "import math\n",
    "import importlib\n",
    "%load_ext autoreload\n",
    "%autoreload 2"
   ]
  },
  {
   "cell_type": "code",
   "execution_count": 25,
   "metadata": {},
   "outputs": [
    {
     "name": "stdout",
     "output_type": "stream",
     "text": [
      "56 57 72\n"
     ]
    }
   ],
   "source": [
    "#Read in the basic traveler and trips informationa and joint the houshold id\n",
    "# traveler_info=pd.read_csv('input/traveler.csv')\n",
    "personData=pd.read_csv('input/personData_1.csv')\n",
    "person_type_dic=dict(zip(personData.person_id,personData.type))\n",
    "traveler_trips=pd.read_csv('input/traveler_trip_info_improved.csv')\n",
    "num_zones,num_nodes,num_links,node_detail,node_id,link_detail,link_id=dy.read_network('input/network.dat')\n",
    "nodexy=dy.read_xy('input/xy.dat')\n",
    "superzone_filepath='Input/SuperZone.dat'\n",
    "linktraveltime_filepath='Input/output_td_linktraveltime.dat'\n",
    "superzone_map=dy.read_superzone_info(superzone_filepath)\n",
    "origin_path='Input/origin.dat'\n",
    "destination_path='Input/destination.dat'\n",
    "origins,destinations,origin_links=dy.read_origin_destion(origin_path,destination_path)\n",
    "VPNRSkim_folder_filepath='Input/vehicularPNRSkim'\n",
    "Vehicular_Skim,Vehicular_Skim_Dict=dy.read_vehicle_skim(VPNRSkim_folder_filepath)\n",
    "transit_skim_folderpath='Input/'\n",
    "TransitMazTazFlag,drivingweight,walkingweight,TransitSkimTimeIntervalLength,MaxNumTransitSkimTimeInterval,WalkSpeed,transit_zone_candidates,Transit_AB_Cost_Skim,Transit_AB_Time_Skim,three_link_walk=dy.read_transitskim(transit_skim_folderpath)"
   ]
  },
  {
   "cell_type": "code",
   "execution_count": 34,
   "metadata": {},
   "outputs": [
    {
     "data": {
      "text/html": [
       "<div>\n",
       "<style>\n",
       "    .dataframe thead tr:only-child th {\n",
       "        text-align: right;\n",
       "    }\n",
       "\n",
       "    .dataframe thead th {\n",
       "        text-align: left;\n",
       "    }\n",
       "\n",
       "    .dataframe tbody tr th {\n",
       "        vertical-align: top;\n",
       "    }\n",
       "</style>\n",
       "<table border=\"1\" class=\"dataframe\">\n",
       "  <thead>\n",
       "    <tr style=\"text-align: right;\">\n",
       "      <th></th>\n",
       "      <th></th>\n",
       "      <th></th>\n",
       "      <th></th>\n",
       "      <th>Cost</th>\n",
       "      <th>Dist</th>\n",
       "      <th>Time</th>\n",
       "      <th>Vot</th>\n",
       "    </tr>\n",
       "    <tr>\n",
       "      <th>O</th>\n",
       "      <th>D</th>\n",
       "      <th>TI</th>\n",
       "      <th>VotIndex</th>\n",
       "      <th></th>\n",
       "      <th></th>\n",
       "      <th></th>\n",
       "      <th></th>\n",
       "    </tr>\n",
       "  </thead>\n",
       "  <tbody>\n",
       "    <tr>\n",
       "      <th rowspan=\"5\" valign=\"top\">1</th>\n",
       "      <th rowspan=\"5\" valign=\"top\">1</th>\n",
       "      <th>1</th>\n",
       "      <th>1</th>\n",
       "      <td>0.0</td>\n",
       "      <td>1.26</td>\n",
       "      <td>0.3</td>\n",
       "      <td>1.0</td>\n",
       "    </tr>\n",
       "    <tr>\n",
       "      <th>2</th>\n",
       "      <th>1</th>\n",
       "      <td>0.0</td>\n",
       "      <td>1.26</td>\n",
       "      <td>0.3</td>\n",
       "      <td>1.0</td>\n",
       "    </tr>\n",
       "    <tr>\n",
       "      <th>3</th>\n",
       "      <th>1</th>\n",
       "      <td>0.0</td>\n",
       "      <td>1.26</td>\n",
       "      <td>0.3</td>\n",
       "      <td>1.0</td>\n",
       "    </tr>\n",
       "    <tr>\n",
       "      <th>4</th>\n",
       "      <th>1</th>\n",
       "      <td>0.0</td>\n",
       "      <td>1.26</td>\n",
       "      <td>0.3</td>\n",
       "      <td>1.0</td>\n",
       "    </tr>\n",
       "    <tr>\n",
       "      <th>5</th>\n",
       "      <th>1</th>\n",
       "      <td>0.0</td>\n",
       "      <td>1.26</td>\n",
       "      <td>0.3</td>\n",
       "      <td>1.0</td>\n",
       "    </tr>\n",
       "  </tbody>\n",
       "</table>\n",
       "</div>"
      ],
      "text/plain": [
       "                 Cost  Dist  Time  Vot\n",
       "O D TI VotIndex                       \n",
       "1 1 1  1          0.0  1.26   0.3  1.0\n",
       "    2  1          0.0  1.26   0.3  1.0\n",
       "    3  1          0.0  1.26   0.3  1.0\n",
       "    4  1          0.0  1.26   0.3  1.0\n",
       "    5  1          0.0  1.26   0.3  1.0"
      ]
     },
     "execution_count": 34,
     "metadata": {},
     "output_type": "execute_result"
    }
   ],
   "source": [
    "output_flag=1\n",
    "target_hh_id=2287301\n",
    "# target_hh_id=2744264\n",
    "min_length=15\n",
    "max_length=20\n",
    "single_model_runtime=60*0.5\n",
    "drivingcost_per_mile=1\n",
    "transit_fare=1\n",
    "reward_mode=2\n",
    "run_mode=0\n",
    "darp_solutions=[]\n",
    "cav_use_mode=1\n",
    "num_time_interval=1\n",
    "TL=[i*1440/num_time_interval for i in range(num_time_interval)]\n",
    "TU=[(i+1)*1440/num_time_interval for i in range(num_time_interval)]\n",
    "target_hh=traveler_trips[traveler_trips['hh_id']==target_hh_id].drop_duplicates(subset=['orig_maz','dest_maz','orig_purpose','dest_purpose','starttime','joint_trip_flag'])\n",
    "#Sort all trips based on start time. This step could reduce the solving time and make it easier to track\n",
    "sorted_trips=target_hh.sort_values(\"starttime\")\n",
    "#hh_index give an index to all trips within the household for tracking purpose\n",
    "hh_num_trips=sorted_trips.shape[0]\n",
    "sorted_trips[\"hh_index\"]=(range(hh_num_trips))\n",
    "# sorted_trips=sorted_trips.loc[sorted_trips.tripmode<=6]\n",
    "\n",
    "num_cav=2\n",
    "share_ride_factor=1.5\n",
    "time_window_flag=0"
   ]
  },
  {
   "cell_type": "code",
   "execution_count": 62,
   "metadata": {},
   "outputs": [
    {
     "data": {
      "text/plain": [
       "0"
      ]
     },
     "execution_count": 62,
     "metadata": {},
     "output_type": "execute_result"
    }
   ],
   "source": [
    "len(list(range(144)))-len(Vehicular_Skim1.loc[1,1,:,1])"
   ]
  },
  {
   "cell_type": "code",
   "execution_count": 69,
   "metadata": {},
   "outputs": [
    {
     "data": {
      "text/plain": [
       "<matplotlib.collections.PathCollection at 0x23cd22e0eb8>"
      ]
     },
     "execution_count": 69,
     "metadata": {},
     "output_type": "execute_result"
    },
    {
     "data": {
      "image/png": "[encoded data removed]",
      "text/plain": [
       "<matplotlib.figure.Figure at 0x23cd2177780>"
      ]
     },
     "metadata": {},
     "output_type": "display_data"
    }
   ],
   "source": [
    "plt.pyplot.scatter(list(range(144)),Vehicular_Skim1.loc[1,1,:,1].Time)\n",
    "# plt.pyplot.scatter([2*i for i in range(72)],Vehicular_Skim.loc[1,1,:,1].Time)"
   ]
  },
  {
   "cell_type": "code",
   "execution_count": 47,
   "metadata": {},
   "outputs": [
    {
     "data": {
      "text/plain": [
       "4.2805619834710811"
      ]
     },
     "execution_count": 47,
     "metadata": {},
     "output_type": "execute_result"
    }
   ],
   "source": [
    "sum(z1)/len(z1)"
   ]
  },
  {
   "cell_type": "code",
   "execution_count": 48,
   "metadata": {},
   "outputs": [
    {
     "data": {
      "text/plain": [
       "5.6534876033057895"
      ]
     },
     "execution_count": 48,
     "metadata": {},
     "output_type": "execute_result"
    }
   ],
   "source": [
    "sum(z)/len(z)"
   ]
  },
  {
   "cell_type": "code",
   "execution_count": 42,
   "metadata": {},
   "outputs": [],
   "source": [
    "z=[]\n",
    "for i in range(1,56):\n",
    "    for j in range(1,56):\n",
    "        z.extend([Vehicular_Skim1.loc[i,j,:,1].Time.max()-Vehicular_Skim1.loc[i,j,:,1].Time.min()])"
   ]
  },
  {
   "cell_type": "code",
   "execution_count": 43,
   "metadata": {
    "collapsed": true
   },
   "outputs": [],
   "source": [
    "z1=[]\n",
    "for i in range(1,56):\n",
    "    for j in range(1,56):\n",
    "        z1.extend([Vehicular_Skim.loc[i,j,:,1].Time.max()-Vehicular_Skim.loc[i,j,:,1].Time.min()])"
   ]
  },
  {
   "cell_type": "code",
   "execution_count": 33,
   "metadata": {},
   "outputs": [
    {
     "name": "stdout",
     "output_type": "stream",
     "text": [
      "{'VOT': 0.01, 'Cost': 0.0, 'Time': 4.3, 'Dist': 4.186} {'VOT': 1.0, 'Cost': 0.0, 'Time': 6.1, 'Dist': 4.439}\n",
      "{'VOT': 0.01, 'Cost': 0.0, 'Time': 4.3, 'Dist': 4.186} {'VOT': 1.0, 'Cost': 0.0, 'Time': 6.4, 'Dist': 4.439}\n",
      "{'VOT': 0.01, 'Cost': 0.0, 'Time': 4.3, 'Dist': 4.186} {'VOT': 1.0, 'Cost': 0.0, 'Time': 6.1, 'Dist': 4.439}\n",
      "{'VOT': 0.01, 'Cost': 0.0, 'Time': 4.4, 'Dist': 4.186} {'VOT': 1.0, 'Cost': 0.0, 'Time': 6.0, 'Dist': 4.439}\n",
      "{'VOT': 0.01, 'Cost': 0.0, 'Time': 4.4, 'Dist': 4.186} {'VOT': 1.0, 'Cost': 0.0, 'Time': 5.8, 'Dist': 4.439}\n",
      "{'VOT': 0.01, 'Cost': 0.0, 'Time': 4.5, 'Dist': 4.186} {'VOT': 1.0, 'Cost': 0.0, 'Time': 5.8, 'Dist': 4.439}\n",
      "{'VOT': 0.01, 'Cost': 0.0, 'Time': 4.7, 'Dist': 4.186} {'VOT': 1.0, 'Cost': 0.0, 'Time': 5.8, 'Dist': 4.439}\n",
      "{'VOT': 0.01, 'Cost': 0.0, 'Time': 5.0, 'Dist': 4.186} {'VOT': 1.0, 'Cost': 0.0, 'Time': 5.9, 'Dist': 4.439}\n",
      "{'VOT': 0.01, 'Cost': 0.0, 'Time': 5.8, 'Dist': 4.84} {'VOT': 1.0, 'Cost': 0.0, 'Time': 5.8, 'Dist': 4.439}\n",
      "{'VOT': 0.01, 'Cost': 0.0, 'Time': 5.3, 'Dist': 4.216} {'VOT': 1.0, 'Cost': 0.0, 'Time': 5.7, 'Dist': 4.439}\n",
      "{'VOT': 0.01, 'Cost': 0.0, 'Time': 5.2, 'Dist': 4.186} {'VOT': 1.0, 'Cost': 0.0, 'Time': 5.7, 'Dist': 4.439}\n",
      "{'VOT': 0.01, 'Cost': 0.0, 'Time': 5.3, 'Dist': 4.186} {'VOT': 1.0, 'Cost': 0.0, 'Time': 5.7, 'Dist': 4.439}\n",
      "{'VOT': 0.01, 'Cost': 0.0, 'Time': 5.4, 'Dist': 4.186} {'VOT': 1.0, 'Cost': 0.0, 'Time': 5.7, 'Dist': 4.439}\n",
      "{'VOT': 0.01, 'Cost': 0.0, 'Time': 5.2, 'Dist': 4.186} {'VOT': 1.0, 'Cost': 0.0, 'Time': 5.6, 'Dist': 4.439}\n",
      "{'VOT': 0.01, 'Cost': 0.0, 'Time': 5.2, 'Dist': 4.186} {'VOT': 1.0, 'Cost': 0.0, 'Time': 5.6, 'Dist': 4.439}\n",
      "{'VOT': 0.01, 'Cost': 0.0, 'Time': 5.1, 'Dist': 4.186} {'VOT': 1.0, 'Cost': 0.0, 'Time': 5.6, 'Dist': 4.439}\n",
      "{'VOT': 0.01, 'Cost': 0.0, 'Time': 5.5, 'Dist': 4.186} {'VOT': 1.0, 'Cost': 0.0, 'Time': 5.6, 'Dist': 4.439}\n",
      "{'VOT': 0.01, 'Cost': 0.0, 'Time': 6.2, 'Dist': 4.216} {'VOT': 1.0, 'Cost': 0.0, 'Time': 5.6, 'Dist': 4.439}\n",
      "{'VOT': 0.01, 'Cost': 0.0, 'Time': 5.6, 'Dist': 4.186} {'VOT': 1.0, 'Cost': 0.0, 'Time': 5.6, 'Dist': 4.439}\n",
      "{'VOT': 0.01, 'Cost': 0.0, 'Time': 5.0, 'Dist': 4.216} {'VOT': 1.0, 'Cost': 0.0, 'Time': 5.6, 'Dist': 4.439}\n",
      "{'VOT': 0.01, 'Cost': 0.0, 'Time': 4.9, 'Dist': 4.186} {'VOT': 1.0, 'Cost': 0.0, 'Time': 5.6, 'Dist': 4.439}\n",
      "{'VOT': 0.01, 'Cost': 0.0, 'Time': 4.8, 'Dist': 4.186} {'VOT': 1.0, 'Cost': 0.0, 'Time': 5.6, 'Dist': 4.439}\n",
      "{'VOT': 0.01, 'Cost': 0.0, 'Time': 4.8, 'Dist': 4.186} {'VOT': 1.0, 'Cost': 0.0, 'Time': 5.6, 'Dist': 4.439}\n",
      "{'VOT': 0.01, 'Cost': 0.0, 'Time': 4.9, 'Dist': 4.186} {'VOT': 1.0, 'Cost': 0.0, 'Time': 5.5, 'Dist': 4.439}\n",
      "{'VOT': 0.01, 'Cost': 0.0, 'Time': 5.0, 'Dist': 4.186} {'VOT': 1.0, 'Cost': 0.0, 'Time': 5.5, 'Dist': 4.439}\n",
      "{'VOT': 0.01, 'Cost': 0.0, 'Time': 5.1, 'Dist': 4.186} {'VOT': 1.0, 'Cost': 0.0, 'Time': 4.3, 'Dist': 4.16}\n",
      "{'VOT': 0.01, 'Cost': 0.0, 'Time': 5.1, 'Dist': 4.186} {'VOT': 1.0, 'Cost': 0.0, 'Time': 4.3, 'Dist': 4.16}\n",
      "{'VOT': 0.01, 'Cost': 0.0, 'Time': 5.0, 'Dist': 4.186} {'VOT': 1.0, 'Cost': 0.0, 'Time': 4.3, 'Dist': 4.16}\n",
      "{'VOT': 0.01, 'Cost': 0.0, 'Time': 5.0, 'Dist': 4.186} {'VOT': 1.0, 'Cost': 0.0, 'Time': 4.3, 'Dist': 4.16}\n",
      "{'VOT': 0.01, 'Cost': 0.0, 'Time': 4.9, 'Dist': 4.186} {'VOT': 1.0, 'Cost': 0.0, 'Time': 4.3, 'Dist': 4.16}\n",
      "{'VOT': 0.01, 'Cost': 0.0, 'Time': 5.1, 'Dist': 4.186} {'VOT': 1.0, 'Cost': 0.0, 'Time': 4.4, 'Dist': 4.16}\n",
      "{'VOT': 0.01, 'Cost': 0.0, 'Time': 6.0, 'Dist': 4.84} {'VOT': 1.0, 'Cost': 0.0, 'Time': 4.4, 'Dist': 4.16}\n",
      "{'VOT': 0.01, 'Cost': 0.0, 'Time': 5.7, 'Dist': 4.216} {'VOT': 1.0, 'Cost': 0.0, 'Time': 4.5, 'Dist': 4.16}\n",
      "{'VOT': 0.01, 'Cost': 0.0, 'Time': 5.6, 'Dist': 4.186} {'VOT': 1.0, 'Cost': 0.0, 'Time': 4.8, 'Dist': 4.16}\n",
      "{'VOT': 0.01, 'Cost': 0.0, 'Time': 6.4, 'Dist': 4.87} {'VOT': 1.0, 'Cost': 0.0, 'Time': 5.2, 'Dist': 4.16}\n",
      "{'VOT': 0.01, 'Cost': 0.0, 'Time': 7.0, 'Dist': 4.84} {'VOT': 1.0, 'Cost': 0.0, 'Time': 5.1, 'Dist': 4.19}\n",
      "{'VOT': 0.01, 'Cost': 0.0, 'Time': 6.2, 'Dist': 4.84} {'VOT': 1.0, 'Cost': 0.0, 'Time': 5.3, 'Dist': 4.16}\n",
      "{'VOT': 0.01, 'Cost': 0.0, 'Time': 6.3, 'Dist': 4.87} {'VOT': 1.0, 'Cost': 0.0, 'Time': 5.3, 'Dist': 4.16}\n",
      "{'VOT': 0.01, 'Cost': 0.0, 'Time': 6.4, 'Dist': 4.87} {'VOT': 1.0, 'Cost': 0.0, 'Time': 5.6, 'Dist': 4.19}\n",
      "{'VOT': 0.01, 'Cost': 0.0, 'Time': 6.4, 'Dist': 4.84} {'VOT': 1.0, 'Cost': 0.0, 'Time': 5.4, 'Dist': 4.16}\n",
      "{'VOT': 0.01, 'Cost': 0.0, 'Time': 7.2, 'Dist': 4.84} {'VOT': 1.0, 'Cost': 0.0, 'Time': 5.1, 'Dist': 4.16}\n",
      "{'VOT': 0.01, 'Cost': 0.0, 'Time': 6.9, 'Dist': 4.84} {'VOT': 1.0, 'Cost': 0.0, 'Time': 5.2, 'Dist': 4.16}\n",
      "{'VOT': 0.01, 'Cost': 0.0, 'Time': 8.7, 'Dist': 6.066} {'VOT': 1.0, 'Cost': 0.0, 'Time': 5.3, 'Dist': 4.16}\n",
      "{'VOT': 0.01, 'Cost': 0.0, 'Time': 6.8, 'Dist': 4.84} {'VOT': 1.0, 'Cost': 0.0, 'Time': 6.6, 'Dist': 4.87}\n",
      "{'VOT': 0.01, 'Cost': 0.0, 'Time': 6.1, 'Dist': 4.84} {'VOT': 1.0, 'Cost': 0.0, 'Time': 6.2, 'Dist': 4.84}\n",
      "{'VOT': 0.01, 'Cost': 0.0, 'Time': 5.5, 'Dist': 4.186} {'VOT': 1.0, 'Cost': 0.0, 'Time': 5.2, 'Dist': 4.19}\n",
      "{'VOT': 0.01, 'Cost': 0.0, 'Time': 5.3, 'Dist': 4.186} {'VOT': 1.0, 'Cost': 0.0, 'Time': 4.9, 'Dist': 4.16}\n",
      "{'VOT': 0.01, 'Cost': 0.0, 'Time': 5.4, 'Dist': 4.216} {'VOT': 1.0, 'Cost': 0.0, 'Time': 4.8, 'Dist': 4.16}\n",
      "{'VOT': 0.01, 'Cost': 0.0, 'Time': 5.1, 'Dist': 4.216} {'VOT': 1.0, 'Cost': 0.0, 'Time': 4.8, 'Dist': 4.16}\n",
      "{'VOT': 0.01, 'Cost': 0.0, 'Time': 5.0, 'Dist': 4.186} {'VOT': 1.0, 'Cost': 0.0, 'Time': 4.8, 'Dist': 4.16}\n",
      "{'VOT': 0.01, 'Cost': 0.0, 'Time': 4.8, 'Dist': 4.186} {'VOT': 1.0, 'Cost': 0.0, 'Time': 4.9, 'Dist': 4.16}\n",
      "{'VOT': 0.01, 'Cost': 0.0, 'Time': 4.8, 'Dist': 4.186} {'VOT': 1.0, 'Cost': 0.0, 'Time': 5.0, 'Dist': 4.16}\n",
      "{'VOT': 0.01, 'Cost': 0.0, 'Time': 4.8, 'Dist': 4.186} {'VOT': 1.0, 'Cost': 0.0, 'Time': 5.1, 'Dist': 4.16}\n",
      "{'VOT': 0.01, 'Cost': 0.0, 'Time': 4.7, 'Dist': 4.186} {'VOT': 1.0, 'Cost': 0.0, 'Time': 5.0, 'Dist': 4.16}\n",
      "{'VOT': 0.01, 'Cost': 0.0, 'Time': 4.7, 'Dist': 4.186} {'VOT': 1.0, 'Cost': 0.0, 'Time': 5.0, 'Dist': 4.16}\n",
      "{'VOT': 0.01, 'Cost': 0.0, 'Time': 4.6, 'Dist': 4.186} {'VOT': 1.0, 'Cost': 0.0, 'Time': 4.9, 'Dist': 4.16}\n",
      "{'VOT': 0.01, 'Cost': 0.0, 'Time': 4.6, 'Dist': 4.186} {'VOT': 1.0, 'Cost': 0.0, 'Time': 4.9, 'Dist': 4.16}\n",
      "{'VOT': 0.01, 'Cost': 0.0, 'Time': 4.6, 'Dist': 4.186} {'VOT': 1.0, 'Cost': 0.0, 'Time': 5.7, 'Dist': 4.16}\n",
      "{'VOT': 0.01, 'Cost': 0.0, 'Time': 4.5, 'Dist': 4.186} {'VOT': 1.0, 'Cost': 0.0, 'Time': 6.5, 'Dist': 4.84}\n",
      "{'VOT': 0.01, 'Cost': 0.0, 'Time': 4.5, 'Dist': 4.186} {'VOT': 1.0, 'Cost': 0.0, 'Time': 5.5, 'Dist': 4.16}\n",
      "{'VOT': 0.01, 'Cost': 0.0, 'Time': 4.4, 'Dist': 4.186} {'VOT': 1.0, 'Cost': 0.0, 'Time': 6.5, 'Dist': 4.84}\n",
      "{'VOT': 0.01, 'Cost': 0.0, 'Time': 4.4, 'Dist': 4.186} {'VOT': 1.0, 'Cost': 0.0, 'Time': 6.2, 'Dist': 4.87}\n",
      "{'VOT': 0.01, 'Cost': 0.0, 'Time': 4.4, 'Dist': 4.186} {'VOT': 1.0, 'Cost': 0.0, 'Time': 6.2, 'Dist': 4.84}\n",
      "{'VOT': 0.01, 'Cost': 0.0, 'Time': 4.4, 'Dist': 4.186} {'VOT': 1.0, 'Cost': 0.0, 'Time': 6.2, 'Dist': 4.84}\n",
      "{'VOT': 0.01, 'Cost': 0.0, 'Time': 4.3, 'Dist': 4.186} {'VOT': 1.0, 'Cost': 0.0, 'Time': 6.3, 'Dist': 4.84}\n",
      "{'VOT': 0.01, 'Cost': 0.0, 'Time': 4.4, 'Dist': 4.186} {'VOT': 1.0, 'Cost': 0.0, 'Time': 6.2, 'Dist': 4.84}\n",
      "{'VOT': 0.01, 'Cost': 0.0, 'Time': 4.4, 'Dist': 4.186} {'VOT': 1.0, 'Cost': 0.0, 'Time': 5.9, 'Dist': 4.84}\n",
      "{'VOT': 0.01, 'Cost': 0.0, 'Time': 4.3, 'Dist': 4.186} {'VOT': 1.0, 'Cost': 0.0, 'Time': 6.1, 'Dist': 4.84}\n",
      "{'VOT': 0.01, 'Cost': 0.0, 'Time': 4.3, 'Dist': 4.186} {'VOT': 1.0, 'Cost': 0.0, 'Time': 6.3, 'Dist': 4.84}\n",
      "{'VOT': 0.01, 'Cost': 0.0, 'Time': 4.3, 'Dist': 4.186} {'VOT': 1.0, 'Cost': 0.0, 'Time': 6.1, 'Dist': 4.87}\n",
      "{'VOT': 0.01, 'Cost': 0.0, 'Time': 4.3, 'Dist': 4.186} {'VOT': 1.0, 'Cost': 0.0, 'Time': 6.0, 'Dist': 4.84}\n",
      "{'VOT': 0.01, 'Cost': 0.0, 'Time': 4.3, 'Dist': 4.186} {'VOT': 1.0, 'Cost': 0.0, 'Time': 5.3, 'Dist': 4.16}\n"
     ]
    }
   ],
   "source": [
    "orig=5\n",
    "dest=9\n",
    "for i in range(1,73):\n",
    "    print(Vehicular_Skim_Dict[orig][dest][i][1],Vehicular_Skim_Dict1[orig][dest][i*2][1])"
   ]
  },
  {
   "cell_type": "code",
   "execution_count": 30,
   "metadata": {},
   "outputs": [
    {
     "data": {
      "text/plain": [
       "<matplotlib.axes._subplots.AxesSubplot at 0x23cb4950ac8>"
      ]
     },
     "execution_count": 30,
     "metadata": {},
     "output_type": "execute_result"
    },
    {
     "data": {
      "image/png": "[encoded data removed]",
      "text/plain": [
       "<matplotlib.figure.Figure at 0x23cb49288d0>"
      ]
     },
     "metadata": {},
     "output_type": "display_data"
    }
   ],
   "source": [
    "traveler_trips[traveler_trips.tripmode<=6].groupby(['hh_id']).count().person_id.hist(range=(0,20))"
   ]
  }
 ],
 "metadata": {
  "kernelspec": {
   "display_name": "Python 3",
   "language": "python",
   "name": "python3"
  },
  "language_info": {
   "codemirror_mode": {
    "name": "ipython",
    "version": 3
   },
   "file_extension": ".py",
   "mimetype": "text/x-python",
   "name": "python",
   "nbconvert_exporter": "python",
   "pygments_lexer": "ipython3",
   "version": "3.6.2"
  }
 },
 "nbformat": 4,
 "nbformat_minor": 2
}
