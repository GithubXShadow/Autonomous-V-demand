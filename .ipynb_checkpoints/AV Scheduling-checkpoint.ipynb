{
 "cells": [
  {
   "cell_type": "markdown",
   "metadata": {},
   "source": [
    "# AV Scheduling for household"
   ]
  },
  {
   "cell_type": "markdown",
   "metadata": {},
   "source": [
    "### Initialize\n",
    "* Inital functions and package\n",
    "* Read input"
   ]
  },
  {
   "cell_type": "code",
   "execution_count": 2,
   "metadata": {},
   "outputs": [],
   "source": [
    "import gurobipy"
   ]
  },
  {
   "cell_type": "code",
   "execution_count": 12,
   "metadata": {},
   "outputs": [
    {
     "ename": "SyntaxError",
     "evalue": "invalid syntax (<ipython-input-12-615e3f741e00>, line 1)",
     "output_type": "error",
     "traceback": [
      "\u001b[1;36m  File \u001b[1;32m\"<ipython-input-12-615e3f741e00>\"\u001b[1;36m, line \u001b[1;32m1\u001b[0m\n\u001b[1;33m    pip show gurobipy\u001b[0m\n\u001b[1;37m           ^\u001b[0m\n\u001b[1;31mSyntaxError\u001b[0m\u001b[1;31m:\u001b[0m invalid syntax\n"
     ]
    }
   ],
   "source": [
    "pip show gurobipy"
   ]
  },
  {
   "cell_type": "code",
   "execution_count": 8,
   "metadata": {},
   "outputs": [
    {
     "ename": "AttributeError",
     "evalue": "module 'pip' has no attribute 'get_installed_distributions'",
     "output_type": "error",
     "traceback": [
      "\u001b[1;31m---------------------------------------------------------------------------\u001b[0m",
      "\u001b[1;31mAttributeError\u001b[0m                            Traceback (most recent call last)",
      "\u001b[1;32m<ipython-input-8-5a6ce9d1d1e9>\u001b[0m in \u001b[0;36m<module>\u001b[1;34m()\u001b[0m\n\u001b[0;32m      1\u001b[0m \u001b[1;32mimport\u001b[0m \u001b[0mpip\u001b[0m \u001b[1;31m#needed to use the pip functions\u001b[0m\u001b[1;33m\u001b[0m\u001b[0m\n\u001b[1;32m----> 2\u001b[1;33m \u001b[1;32mfor\u001b[0m \u001b[0mi\u001b[0m \u001b[1;32min\u001b[0m \u001b[0mpip\u001b[0m\u001b[1;33m.\u001b[0m\u001b[0mget_installed_distributions\u001b[0m\u001b[1;33m(\u001b[0m\u001b[0mlocal_only\u001b[0m\u001b[1;33m=\u001b[0m\u001b[1;32mTrue\u001b[0m\u001b[1;33m)\u001b[0m\u001b[1;33m:\u001b[0m\u001b[1;33m\u001b[0m\u001b[0m\n\u001b[0m\u001b[0;32m      3\u001b[0m     \u001b[0mprint\u001b[0m\u001b[1;33m(\u001b[0m\u001b[0mi\u001b[0m\u001b[1;33m)\u001b[0m\u001b[1;33m\u001b[0m\u001b[0m\n",
      "\u001b[1;31mAttributeError\u001b[0m: module 'pip' has no attribute 'get_installed_distributions'"
     ]
    }
   ],
   "source": [
    "import pip #needed to use the pip functions\n",
    "for i in pip.get_installed_distributions(local_only=True):\n",
    "    print(i)"
   ]
  },
  {
   "cell_type": "code",
   "execution_count": null,
   "metadata": {
    "collapsed": true
   },
   "outputs": [],
   "source": [
    "import numpy as np\n",
    "import pandas as pd\n",
    "import matplotlib as plt\n",
    "import networkx as nx\n",
    "%matplotlib inline\n",
    "# from DYNASMART_Process import *\n",
    "from Modules import DYNASMART_Process as dy\n",
    "# import preprocessing_read_skim_file as rs\n",
    "from Modules import AV_functions as av\n",
    "from Modules import Solve_DARP as sod\n",
    "from Modules import Postprocess_DARP as pod\n",
    "from gurobipy import *\n",
    "from Modules import *\n",
    "import datetime\n",
    "import requests\n",
    "import math\n",
    "import importlib\n",
    "%load_ext autoreload\n",
    "%autoreload 2"
   ]
  },
  {
   "cell_type": "code",
   "execution_count": null,
   "metadata": {
    "collapsed": true
   },
   "outputs": [],
   "source": [
    "#Read in the basic traveler and trips informationa and joint the houshold id\n",
    "# traveler_info=pd.read_csv('input/traveler.csv')\n",
    "personData=pd.read_csv('input/personData_1.csv')\n",
    "person_type_dic=dict(zip(personData.person_id,personData.type))\n",
    "# hh_temp=personData[['person_id','hh_id']]\n",
    "# traveler_trips=pd.merge(traveler_info,hh_temp,how='left',on=['person_id'])\n",
    "#Trip mode\n",
    "#1 Drive alone free; 2 Drive alone pay; 3 Shared ride 2 free; 4 Shared ride 2 pay ;\n",
    "#5 Shared ride 3+ free; 6 Shared ride 3+ pay; 7 Walk; 8 Bike; 9 Walk to local transit; \n",
    "#10 Walk to premium transit; 11 Drive to local transit; 12 Drive to premium transit; \n",
    "#13 Taxi; 14 School bus\n",
    "\n",
    "# traveler_trips=pd.read_csv('input/traveler_trip_info.csv')\n",
    "# #Calculate the expected trip travel time as trip start time of trip (i+1) - start time of trip i - activity time \n",
    "# traveler_trips['Diff_bet_starttime']=traveler_trips.starttime.diff()[1:]\n",
    "# traveler_trips.Diff_bet_starttime=traveler_trips.Diff_bet_starttime.shift(-1)\n",
    "# traveler_trips['Diff_bet_starttime'].apply(lambda x: 0 if x<0 else x)\n",
    "# traveler_trips['travel_time']=traveler_trips.Diff_bet_starttime-traveler_trips.ActivityTime\n",
    "# traveler_trips.loc[traveler_trips.trip_counter==traveler_trips.num_trips,'travel_time']=1440-(traveler_trips.loc[traveler_trips.trip_counter==traveler_trips.num_trips]['starttime']+traveler_trips.loc[traveler_trips.trip_counter==traveler_trips.num_trips]['ActivityTime'])\n",
    "# traveler_trips.orig_purpose.replace(['eatingout','work','discretionary','shop','work-based','work-related','escort','maintenance','school','visiting','university'],\n",
    "#                                     ['EatingOut','Work','Discretionary','Shop','WorkBased','WorkBased','Escort','Maintenance','School','Visiting','University'],\n",
    "#                                     inplace=True)\n",
    "# traveler_trips.dest_purpose.replace(['eatingout','work','discretionary','shop','work-based','work-related','escort','maintenance','school','visiting','university'],\n",
    "#                                     ['EatingOut','Work','Discretionary','Shop','WorkBased','WorkBased','Escort','Maintenance','School','Visiting','University'],\n",
    "#                                     inplace=True)\n",
    "# traveler_trips.loc[:,'person_type']=traveler_trips.person_id.apply(lambda x: person_type_dic[x])\n",
    "# value_latearr_penalty_per_min=pd.read_csv('input/LateArrPenalty.dat',sep='\\t',index_col =0)\n",
    "# value_earlyarr_penalty_per_min=pd.read_csv('input/EarlyArrPenalty.dat',sep='\\t',index_col =0)\n",
    "# early_penalty_threshold=pd.read_csv('input/EarlyArrPenaltyThreshold.dat',sep='\\t',index_col=0)\n",
    "# late_penalty_threshold=pd.read_csv('input/LateArrPenaltyThreshold.dat',sep='\\t',index_col=0)\n",
    "\n",
    "# traveler_trips.loc[:,'earlyarr_penalty']=traveler_trips.apply(lambda row: value_earlyarr_penalty_per_min.loc[row.dest_purpose,row.person_type], axis=1)\n",
    "# traveler_trips.loc[:,'latearr_penalty']=traveler_trips.apply(lambda row: value_latearr_penalty_per_min.loc[row.dest_purpose,row.person_type], axis=1)\n",
    "# traveler_trips.loc[:,'early_penalty_threshold']=traveler_trips.apply(lambda row: early_penalty_threshold.loc[row.dest_purpose,row.person_type], axis=1)\n",
    "# traveler_trips.loc[:,'late_penalty_threshold']=traveler_trips.apply(lambda row: late_penalty_threshold.loc[row.dest_purpose,row.person_type], axis=1)\n",
    "# traveler_trips.to_csv('input/traveler_trip_info_improved.csv')\n",
    "traveler_trips=pd.read_csv('input/traveler_trip_info_improved.csv')\n",
    "\n",
    "num_zones,num_nodes,num_links,node_detail,node_id,link_detail,link_id=dy.read_network('input/network.dat')\n",
    "nodexy=dy.read_xy('input/xy.dat')\n",
    "superzone_filepath='Input/SuperZone.dat'\n",
    "linktraveltime_filepath='Input/output_td_linktraveltime.dat'\n",
    "superzone_map=dy.read_superzone_info(superzone_filepath)\n",
    "origin_path='Input/origin.dat'\n",
    "destination_path='Input/destination.dat'\n",
    "origins,destinations,origin_links=dy.read_origin_destion(origin_path,destination_path)\n",
    "VPNRSkim_folder_filepath='Input/vehicularPNRSkim'\n",
    "Vehicular_Skim=dy.read_vehicle_skim(VPNRSkim_folder_filepath)\n",
    "transit_skim_folderpath='Input/'\n",
    "TransitMazTazFlag,drivingweight,walkingweight,TransitSkimTimeIntervalLength,MaxNumTransitSkimTimeInterval,WalkSpeed,transit_zone_candidates,Transit_AB_Cost_Skim,Transit_AB_Time_Skim,three_link_walk=dy.read_transitskim(transit_skim_folderpath)\n",
    "#origins,destinations=dy.read_origin_destion('input/origin.dat','input/destination.dat')"
   ]
  },
  {
   "cell_type": "code",
   "execution_count": null,
   "metadata": {
    "collapsed": true
   },
   "outputs": [],
   "source": [
    "route_info=darp_solutions[0]['route_info']"
   ]
  },
  {
   "cell_type": "code",
   "execution_count": null,
   "metadata": {
    "collapsed": true
   },
   "outputs": [],
   "source": [
    "orig_node_list=[]\n",
    "dest_node_list=[]\n",
    "orig_time_list=list(route_info['origin_arrival_time'])\n",
    "dest_time_list=list(route_info['dest_arrival_time'])\n",
    "for index, row in route_info.iterrows():\n",
    "    on,dn=dy.find_orign_destination_node(row.orig_zone,row.dest_zone,origins,destinations)\n",
    "    orig_node_list.append(on)\n",
    "\n",
    "    dest_node_list.append(dn)"
   ]
  },
  {
   "cell_type": "code",
   "execution_count": null,
   "metadata": {
    "collapsed": true
   },
   "outputs": [],
   "source": [
    "darp_solutions[0]['route_info'].columns"
   ]
  },
  {
   "cell_type": "code",
   "execution_count": 4,
   "metadata": {
    "scrolled": true
   },
   "outputs": [
    {
     "name": "stdout",
     "output_type": "stream",
     "text": [
      "**************\n",
      "Num_CAV 2 1.5 0\n",
      "**************\n",
      "start sovling problem at  2018-04-26 13:23:50.631985\n",
      "Parameter OutputFlag unchanged\n",
      "   Value: 1  Min: 0  Max: 1  Default: 1\n",
      "Changed value of parameter TIME_LIMIT to 300.0\n",
      "   Prev: 1e+100  Min: 0.0  Max: 1e+100  Default: 1e+100\n",
      "Optimize a model with 2152 rows, 1404 columns and 11898 nonzeros\n",
      "Variable types: 52 continuous, 1352 integer (1352 binary)\n",
      "Coefficient statistics:\n",
      "  Matrix range     [1e-02, 2e+03]\n",
      "  Objective range  [1e-02, 1e+02]\n",
      "  Bounds range     [1e+00, 1e+00]\n",
      "  RHS range        [1e+00, 3e+05]\n",
      "\n",
      "Loaded MIP start with objective 392.007\n",
      "\n",
      "Presolve removed 853 rows and 538 columns\n",
      "Presolve time: 0.05s\n",
      "Presolved: 1299 rows, 866 columns, 7660 nonzeros\n",
      "Variable types: 52 continuous, 814 integer (814 binary)\n",
      "\n",
      "Root relaxation: objective 5.889237e+02, 304 iterations, 0.01 seconds\n",
      "\n",
      "    Nodes    |    Current Node    |     Objective Bounds      |     Work\n",
      " Expl Unexpl |  Obj  Depth IntInf | Incumbent    BestBd   Gap | It/Node Time\n",
      "\n",
      "     0     0  588.92375    0   60  392.00650  588.92375  50.2%     -    0s\n",
      "H    0     0                     501.7630000  588.92375  17.4%     -    0s\n",
      "     0     0  588.91923    0   69  501.76300  588.91923  17.4%     -    0s\n",
      "     0     0  588.50213    0   66  501.76300  588.50213  17.3%     -    0s\n",
      "     0     0  588.27459    0   77  501.76300  588.27459  17.2%     -    0s\n",
      "     0     0  588.27459    0   80  501.76300  588.27459  17.2%     -    0s\n",
      "     0     0  588.14532    0   68  501.76300  588.14532  17.2%     -    0s\n",
      "     0     0  588.14532    0   69  501.76300  588.14532  17.2%     -    0s\n",
      "     0     0  587.99843    0   81  501.76300  587.99843  17.2%     -    0s\n",
      "     0     0  587.99843    0   83  501.76300  587.99843  17.2%     -    0s\n",
      "     0     0  587.98788    0   72  501.76300  587.98788  17.2%     -    0s\n",
      "     0     0  587.98110    0   76  501.76300  587.98110  17.2%     -    0s\n",
      "     0     0  587.97989    0   77  501.76300  587.97989  17.2%     -    0s\n",
      "     0     0  587.97788    0   77  501.76300  587.97788  17.2%     -    0s\n",
      "     0     0  587.97788    0   78  501.76300  587.97788  17.2%     -    0s\n",
      "     0     0  587.95098    0   74  501.76300  587.95098  17.2%     -    0s\n",
      "     0     0  587.95098    0   71  501.76300  587.95098  17.2%     -    0s\n",
      "     0     0  587.67191    0   57  501.76300  587.67191  17.1%     -    0s\n",
      "     0     0  587.60694    0   59  501.76300  587.60694  17.1%     -    0s\n",
      "     0     0  587.60694    0   61  501.76300  587.60694  17.1%     -    0s\n",
      "     0     0  587.60694    0   61  501.76300  587.60694  17.1%     -    1s\n",
      "     0     2  587.60694    0   61  501.76300  587.60694  17.1%     -    1s\n",
      "H   34    29                     567.3301700  586.69569  3.41%  30.4    1s\n",
      "* 1026   538              36     567.3501700  585.90241  3.27%   8.6    1s\n",
      "  6099  1746  578.81475   40    8  567.35017  583.20050  2.79%   9.9    5s\n",
      "* 7475  2047              33     567.5171700  583.06300  2.74%   9.5    5s\n",
      "H10004  2833                     567.5631700  582.88883  2.70%   9.2    5s\n",
      "H15180  4309                     567.6521700  582.48693  2.61%   8.8    7s\n",
      "*23132  6143              65     569.6164200  581.83639  2.15%   8.8    9s\n",
      " 23640  6245  575.16810   30   12  569.61642  581.77862  2.14%   8.8   10s\n",
      " 29230  6662  574.39100   37   61  569.61642  580.93988  1.99%   9.0   21s\n",
      "H29251  6341                     569.8051700  580.93988  1.95%   9.0   23s\n",
      " 29260  6347  576.49278   58  106  569.80517  580.93988  1.95%   9.0   25s\n",
      " 30430  6530  580.93988   52   31  569.80517  580.93988  1.95%   9.4   30s\n",
      " 42294  4531  576.13411   56   28  569.80517  579.17770  1.64%  10.3   35s\n",
      " 54830  3018     cutoff   46       569.80517  577.01520  1.27%  10.5   40s\n",
      " 68996  1915  573.39773   52   45  569.80517  574.31526  0.79%  10.6   45s\n",
      "\n",
      "Cutting planes:\n",
      "  Gomory: 15\n",
      "  MIR: 5\n",
      "  Flow cover: 27\n",
      "  Inf proof: 2\n",
      "  Zero half: 12\n",
      "\n",
      "Explored 78664 nodes (814342 simplex iterations) in 47.91 seconds\n",
      "Thread count was 8 (of 8 available processors)\n",
      "\n",
      "Solution count 9: 569.805 569.616 567.652 ... 392.007\n",
      "\n",
      "Optimal solution found (tolerance 1.00e-04)\n",
      "Best objective 5.698051700000e+02, best bound 5.698051700000e+02, gap 0.0000%\n",
      "################################\n",
      "The total reward is 651.0 \n",
      "The delay cost is  1.5280000000000045 \n",
      "The total travel cost is  79.66683\n",
      "0.002000000000000668\n",
      "finish solving problem at  2018-04-26 13:24:38.996410\n",
      "start sovling problem at  2018-04-26 13:24:42.994787\n",
      "Parameter OutputFlag unchanged\n",
      "   Value: 1  Min: 0  Max: 1  Default: 1\n",
      "Changed value of parameter TIME_LIMIT to 300.0\n",
      "   Prev: 1e+100  Min: 0.0  Max: 1e+100  Default: 1e+100\n",
      "Optimize a model with 4896 rows, 3280 columns and 31582 nonzeros\n",
      "Variable types: 80 continuous, 3200 integer (3200 binary)\n",
      "Coefficient statistics:\n",
      "  Matrix range     [1e-02, 2e+03]\n",
      "  Objective range  [1e-02, 1e+02]\n",
      "  Bounds range     [1e+00, 1e+00]\n",
      "  RHS range        [5e-01, 3e+05]\n",
      "\n",
      "Loaded MIP start with objective 406.63\n",
      "\n",
      "Presolve removed 1981 rows and 1270 columns\n",
      "Presolve time: 0.07s\n",
      "Presolved: 2915 rows, 2010 columns, 19686 nonzeros\n",
      "Variable types: 80 continuous, 1930 integer (1930 binary)\n",
      "\n",
      "Root relaxation: objective 5.391104e+02, 635 iterations, 0.05 seconds\n",
      "\n",
      "    Nodes    |    Current Node    |     Objective Bounds      |     Work\n",
      " Expl Unexpl |  Obj  Depth IntInf | Incumbent    BestBd   Gap | It/Node Time\n",
      "\n",
      "     0     0  539.11035    0   88  406.63024  539.11035  32.6%     -    0s\n",
      "H    0     0                     410.0439900  539.11035  31.5%     -    0s\n",
      "     0     0  538.75675    0  101  410.04399  538.75675  31.4%     -    0s\n",
      "     0     0  538.72648    0   95  410.04399  538.72648  31.4%     -    0s\n",
      "     0     0  537.12060    0  121  410.04399  537.12060  31.0%     -    0s\n",
      "     0     0  536.96081    0  122  410.04399  536.96081  31.0%     -    0s\n",
      "     0     0  536.04680    0   88  410.04399  536.04680  30.7%     -    0s\n",
      "     0     0  535.97720    0  104  410.04399  535.97720  30.7%     -    0s\n",
      "     0     0  535.95271    0   90  410.04399  535.95271  30.7%     -    0s\n",
      "     0     0  535.95271    0   95  410.04399  535.95271  30.7%     -    0s\n",
      "     0     0  535.86033    0   86  410.04399  535.86033  30.7%     -    1s\n",
      "     0     0  535.80126    0  102  410.04399  535.80126  30.7%     -    1s\n",
      "     0     0  535.76096    0  107  410.04399  535.76096  30.7%     -    1s\n",
      "     0     0  535.76096    0  112  410.04399  535.76096  30.7%     -    1s\n",
      "     0     0  535.68772    0  115  410.04399  535.68772  30.6%     -    1s\n",
      "     0     0  535.68676    0  117  410.04399  535.68676  30.6%     -    1s\n",
      "     0     0  535.68655    0  116  410.04399  535.68655  30.6%     -    1s\n",
      "     0     0  535.66332    0  100  410.04399  535.66332  30.6%     -    1s\n",
      "     0     0  535.65407    0  106  410.04399  535.65407  30.6%     -    1s\n",
      "     0     0  535.64462    0  134  410.04399  535.64462  30.6%     -    1s\n",
      "     0     0  535.63916    0  134  410.04399  535.63916  30.6%     -    1s\n",
      "     0     0  535.63916    0  132  410.04399  535.63916  30.6%     -    1s\n",
      "     0     0  535.63916    0  122  410.04399  535.63916  30.6%     -    1s\n",
      "     0     0  535.63916    0  124  410.04399  535.63916  30.6%     -    1s\n",
      "     0     0  535.51547    0  133  410.04399  535.51547  30.6%     -    1s\n",
      "     0     0  535.50655    0  142  410.04399  535.50655  30.6%     -    1s\n",
      "     0     0  535.50623    0  144  410.04399  535.50623  30.6%     -    1s\n",
      "     0     0  535.49425    0  145  410.04399  535.49425  30.6%     -    2s\n",
      "     0     0  535.49396    0  147  410.04399  535.49396  30.6%     -    2s\n",
      "     0     0  535.48690    0  146  410.04399  535.48690  30.6%     -    2s\n",
      "     0     0  535.48690    0  137  410.04399  535.48690  30.6%     -    2s\n",
      "     0     2  535.48690    0  135  410.04399  535.48690  30.6%     -    2s\n",
      "   549   459  525.97894   58   76  410.04399  531.68587  29.7%  22.6    5s\n",
      "  1492  1186  528.99630   23  160  410.04399  530.38153  29.3%  16.6   10s\n",
      "  1507  1199  528.04516   14  123  410.04399  529.04192  29.0%  19.4   15s\n",
      "H 1849  1289                     459.0942400  527.23643  14.8%  24.8   17s\n",
      "  2741  1698  506.08714  119   78  459.09424  527.23643  14.8%  26.2   20s\n",
      "  4624  2333  515.73308   26   98  459.09424  525.54499  14.5%  29.6   25s\n",
      "  7370  4079 infeasible   28       459.09424  525.12771  14.4%  29.4   30s\n"
     ]
    },
    {
     "name": "stdout",
     "output_type": "stream",
     "text": [
      "  9439  5268  493.60394   57   55  459.09424  524.58932  14.3%  30.5   35s\n",
      " 11835  6448  512.66459   39  124  459.09424  524.08295  14.2%  33.0   40s\n",
      "H11957  6490                     461.9192400  524.08079  13.5%  33.2   41s\n",
      " 13630  7270  518.93976   35  124  461.91924  523.72055  13.4%  34.3   45s\n",
      "H14585  7701                     473.8552400  523.61066  10.5%  34.3   48s\n",
      " 15497  8111  515.50163   26  107  473.85524  523.41689  10.5%  34.5   50s\n",
      "H16015  8207                     478.5382400  523.31994  9.36%  34.8   51s\n",
      " 17458  8944  500.73729   78   72  478.53824  523.03414  9.30%  34.9   55s\n",
      " 20566 10542  516.21532   36  140  478.53824  522.69060  9.23%  34.8   60s\n",
      "H20661 10451                     482.9032400  522.69060  8.24%  34.9   60s\n",
      " 23005 11472     cutoff   37       482.90324  522.33406  8.17%  35.2   65s\n",
      "H24958 12122                     485.2744900  522.09705  7.59%  35.7   69s\n",
      " 25558 12450 infeasible   37       485.27449  522.04955  7.58%  35.7   71s\n",
      " 27330 13093  515.77992   27  116  485.27449  521.81936  7.53%  36.4   76s\n",
      " 29697 14071  514.20398   70  137  485.27449  521.55551  7.48%  36.7   98s\n",
      " 29708 14078  496.85564   79  171  485.27449  521.55551  7.48%  36.7  100s\n",
      " 29717 14084  514.20398   70  194  485.27449  521.55551  7.48%  36.6  105s\n",
      " 29724 14089  495.98097   83  204  485.27449  521.55551  7.48%  36.6  111s\n",
      " 29728 14092  496.85564   79  207  485.27449  521.55551  7.48%  36.6  115s\n",
      " 29734 14096  505.80435   49  191  485.27449  521.55551  7.48%  36.6  120s\n",
      " 29739 14099  519.96492   30  207  485.27449  521.55551  7.48%  36.6  125s\n",
      " 29745 14103  510.93235   63  199  485.27449  521.55551  7.48%  36.6  131s\n",
      " 29751 14107  516.91258   43  205  485.27449  521.55551  7.48%  36.6  137s\n",
      "H29751 13400                     503.1842400  521.55551  3.65%  36.6  137s\n",
      " 29754 13402  505.80435   49  203  503.18424  521.55551  3.65%  36.6  140s\n",
      " 29759 13405  519.96492   30  198  503.18424  521.55551  3.65%  36.6  146s\n",
      "H29761 12736                     505.9682400  521.55551  3.08%  36.6  149s\n",
      " 29763 12737  516.80102   32  214  505.96824  521.55551  3.08%  36.6  150s\n",
      " 29767 12740  518.96504   32  214  505.96824  521.55551  3.08%  36.6  155s\n",
      " 29772 12743  508.59256   43  214  505.96824  521.55551  3.08%  36.6  160s\n",
      " 29777 12746  514.20398   70  205  505.96824  521.55551  3.08%  36.6  165s\n",
      " 29783 12750  516.80102   32  208  505.96824  521.55551  3.08%  36.6  170s\n",
      " 29790 12755  516.50866   36  217  505.96824  521.55551  3.08%  36.6  176s\n",
      " 29794 12758  505.96824   49  199  505.96824  521.55551  3.08%  36.5  180s\n",
      " 29798 12760  512.07760   63  205  505.96824  521.55551  3.08%  36.5  185s\n",
      " 29803 12764  516.80102   32  228  505.96824  521.55551  3.08%  36.5  190s\n",
      " 29807 12766  518.96504   32  232  505.96824  521.55551  3.08%  36.5  195s\n",
      " 29812 12770  508.59256   43  217  505.96824  521.55551  3.08%  36.5  200s\n",
      " 29816 12772  505.96824  132  214  505.96824  521.55551  3.08%  36.5  205s\n",
      " 29821 12776  519.46329   40  223  505.96824  521.55551  3.08%  36.5  210s\n",
      " 29826 12779  518.37900   45  214  505.96824  521.55551  3.08%  36.5  216s\n",
      " 29830 12782  516.50866   36  219  505.96824  521.55551  3.08%  36.5  220s\n",
      " 29834 12784  505.96824   49  216  505.96824  521.55551  3.08%  36.5  225s\n",
      " 29838 12787  512.07760   63  214  505.96824  521.55551  3.08%  36.5  230s\n",
      " 29843 12790  516.80102   32  218  505.96824  521.55551  3.08%  36.5  235s\n",
      " 29848 12794  505.96824   79  226  505.96824  521.55551  3.08%  36.5  241s\n",
      " 29852 12796  508.59256   43  224  505.96824  521.55551  3.08%  36.5  245s\n",
      " 29856 12799  505.96824  132  226  505.96824  521.55551  3.08%  36.5  250s\n",
      "H29859 12158                     508.2552400  521.55551  2.62%  36.5  254s\n",
      " 29861 12159  519.46329   40  212  508.25524  521.55551  2.62%  36.5  255s\n",
      " 29865 12162  510.93235   63  204  508.25524  521.55551  2.62%  36.5  260s\n",
      "H29868 11553                     509.8182400  521.55551  2.30%  36.5  265s\n",
      " 29874 11557  509.81824   49  200  509.81824  521.55551  2.30%  36.4  271s\n",
      " 29878 11560  512.07760   63  215  509.81824  521.55551  2.30%  36.4  275s\n",
      " 29882 11562  511.77162   45  214  509.81824  521.55551  2.30%  36.4  280s\n",
      " 29886 11565  518.37900   45  207  509.81824  521.55551  2.30%  36.4  285s\n",
      " 29890 11568  516.50866   36  204  509.81824  521.55551  2.30%  36.4  290s\n",
      " 29895 11571  513.63011   41  228  509.81824  521.55551  2.30%  36.4  295s\n",
      "\n",
      "Cutting planes:\n",
      "  Gomory: 11\n",
      "  Implied bound: 1\n",
      "  MIR: 25\n",
      "  Flow cover: 84\n",
      "  Inf proof: 4\n",
      "  Zero half: 27\n",
      "\n",
      "Explored 29897 nodes (1126479 simplex iterations) in 300.09 seconds\n",
      "Thread count was 8 (of 8 available processors)\n",
      "\n",
      "Solution count 10: 509.818 508.255 505.968 ... 459.094\n",
      "\n",
      "Time limit reached\n",
      "Best objective 5.098182400000e+02, best bound 5.215555098791e+02, gap 2.3022%\n",
      "################################\n",
      "The total reward is 619.0 \n",
      "The delay cost is  2.302000000000037 \n",
      "The total travel cost is  106.87976\n",
      "0.0\n",
      "finish solving problem at  2018-04-26 13:29:44.040558\n",
      "start sovling problem at  2018-04-26 13:29:44.649927\n",
      "Parameter OutputFlag unchanged\n",
      "   Value: 1  Min: 0  Max: 1  Default: 1\n",
      "Changed value of parameter TIME_LIMIT to 300.0\n",
      "   Prev: 1e+100  Min: 0.0  Max: 1e+100  Default: 1e+100\n",
      "Optimize a model with 484 rows, 312 columns and 2250 nonzeros\n",
      "Variable types: 24 continuous, 288 integer (288 binary)\n",
      "Coefficient statistics:\n",
      "  Matrix range     [1e-02, 2e+03]\n",
      "  Objective range  [1e-02, 1e+02]\n",
      "  Bounds range     [1e+00, 1e+00]\n",
      "  RHS range        [1e+00, 3e+05]\n",
      "\n",
      "Loaded MIP start with objective 157.449\n",
      "\n",
      "Presolve removed 138 rows and 87 columns\n",
      "Presolve time: 0.06s\n",
      "Presolved: 346 rows, 225 columns, 1729 nonzeros\n",
      "Variable types: 24 continuous, 201 integer (201 binary)\n",
      "\n",
      "Root relaxation: objective 2.230977e+02, 101 iterations, 0.00 seconds\n",
      "\n",
      "    Nodes    |    Current Node    |     Objective Bounds      |     Work\n",
      " Expl Unexpl |  Obj  Depth IntInf | Incumbent    BestBd   Gap | It/Node Time\n",
      "\n",
      "     0     0  223.09772    0   24  157.44910  223.09772  41.7%     -    0s\n",
      "H    0     0                     199.8821000  223.09772  11.6%     -    0s\n",
      "     0     0  223.08710    0   24  199.88210  223.08710  11.6%     -    0s\n",
      "     0     0  223.07647    0   24  199.88210  223.07647  11.6%     -    0s\n",
      "     0     0  223.00489    0   28  199.88210  223.00489  11.6%     -    0s\n",
      "     0     0  222.98772    0   24  199.88210  222.98772  11.6%     -    0s\n",
      "     0     0  222.87720    0   35  199.88210  222.87720  11.5%     -    0s\n",
      "     0     0  222.83418    0   35  199.88210  222.83418  11.5%     -    0s\n",
      "     0     0  222.79664    0   36  199.88210  222.79664  11.5%     -    0s\n",
      "     0     0  222.79664    0   36  199.88210  222.79664  11.5%     -    0s\n",
      "     0     0  222.78515    0   50  199.88210  222.78515  11.5%     -    0s\n",
      "     0     0  222.77726    0   52  199.88210  222.77726  11.5%     -    0s\n",
      "     0     0  222.73682    0   54  199.88210  222.73682  11.4%     -    0s\n",
      "     0     0  222.73682    0   54  199.88210  222.73682  11.4%     -    0s\n",
      "     0     0  222.71935    0   54  199.88210  222.71935  11.4%     -    0s\n",
      "     0     0  222.71935    0   49  199.88210  222.71935  11.4%     -    0s\n",
      "     0     0  222.69179    0   45  199.88210  222.69179  11.4%     -    0s\n",
      "     0     0  222.56235    0   46  199.88210  222.56235  11.3%     -    0s\n",
      "     0     0  222.47957    0   46  199.88210  222.47957  11.3%     -    0s\n",
      "     0     0  222.47957    0   46  199.88210  222.47957  11.3%     -    0s\n",
      "     0     2  222.47957    0   45  199.88210  222.47957  11.3%     -    0s\n",
      "H   35    29                     212.3393200  222.47957  4.78%  12.5    0s\n",
      "* 2344   497              25     213.1953200  220.11169  3.24%   6.2    0s\n",
      "* 2907   500              18     213.4048200  219.28253  2.75%   6.1    0s\n",
      "\n",
      "Cutting planes:\n",
      "  Learned: 10\n",
      "  Gomory: 2\n",
      "  Cover: 13\n",
      "  Implied bound: 2\n",
      "  MIR: 28\n",
      "  Inf proof: 27\n",
      "  Zero half: 18\n",
      "\n",
      "Explored 4698 nodes (27244 simplex iterations) in 0.88 seconds\n",
      "Thread count was 8 (of 8 available processors)\n",
      "\n",
      "Solution count 5: 213.405 213.195 212.339 ... 157.449\n",
      "\n",
      "Optimal solution found (tolerance 1.00e-04)\n",
      "Best objective 2.134048200000e+02, best bound 2.134048200000e+02, gap 0.0000%\n",
      "################################\n",
      "The total reward is 250.0 \n",
      "The delay cost is  2.62400000000001 \n",
      "The total travel cost is  33.97118\n",
      "0.26599999999999574\n"
     ]
    },
    {
     "name": "stdout",
     "output_type": "stream",
     "text": [
      "finish solving problem at  2018-04-26 13:29:45.728064\n",
      "start sovling problem at  2018-04-26 13:29:46.181192\n",
      "Parameter OutputFlag unchanged\n",
      "   Value: 1  Min: 0  Max: 1  Default: 1\n",
      "Changed value of parameter TIME_LIMIT to 300.0\n",
      "   Prev: 1e+100  Min: 0.0  Max: 1e+100  Default: 1e+100\n",
      "Optimize a model with 347 rows, 220 columns and 1582 nonzeros\n",
      "Variable types: 20 continuous, 200 integer (200 binary)\n",
      "Coefficient statistics:\n",
      "  Matrix range     [1e-02, 2e+03]\n",
      "  Objective range  [1e-02, 3e+01]\n",
      "  Bounds range     [1e+00, 1e+00]\n",
      "  RHS range        [1e+00, 3e+05]\n",
      "\n",
      "Loaded MIP start with objective 79.0007\n",
      "\n",
      "Presolve removed 89 rows and 55 columns\n",
      "Presolve time: 0.05s\n",
      "Presolved: 258 rows, 165 columns, 1268 nonzeros\n",
      "Variable types: 20 continuous, 145 integer (145 binary)\n",
      "\n",
      "Root relaxation: objective 8.544258e+01, 82 iterations, 0.00 seconds\n",
      "\n",
      "    Nodes    |    Current Node    |     Objective Bounds      |     Work\n",
      " Expl Unexpl |  Obj  Depth IntInf | Incumbent    BestBd   Gap | It/Node Time\n",
      "\n",
      "     0     0   85.44258    0   20   79.00074   85.44258  8.15%     -    0s\n",
      "     0     0   85.41604    0   23   79.00074   85.41604  8.12%     -    0s\n",
      "     0     0   85.33374    0   20   79.00074   85.33374  8.02%     -    0s\n",
      "     0     0   85.29574    0   27   79.00074   85.29574  7.97%     -    0s\n",
      "     0     0   85.28574    0   22   79.00074   85.28574  7.96%     -    0s\n",
      "     0     0   85.28560    0   28   79.00074   85.28560  7.96%     -    0s\n",
      "     0     0   85.25327    0   26   79.00074   85.25327  7.91%     -    0s\n",
      "     0     0   85.25327    0   27   79.00074   85.25327  7.91%     -    0s\n",
      "     0     0   85.25327    0   30   79.00074   85.25327  7.91%     -    0s\n",
      "H    0     0                      83.9997400   85.25327  1.49%     -    0s\n",
      "     0     0   85.25307    0   35   83.99974   85.25307  1.49%     -    0s\n",
      "     0     0   85.25287    0   34   83.99974   85.25287  1.49%     -    0s\n",
      "     0     0   85.08100    0   33   83.99974   85.08100  1.29%     -    0s\n",
      "     0     0   85.01998    0   33   83.99974   85.01998  1.21%     -    0s\n",
      "     0     0   84.74664    0   32   83.99974   84.74664  0.89%     -    0s\n",
      "     0     0   84.74664    0   32   83.99974   84.74664  0.89%     -    0s\n",
      "     0     0   84.68424    0   32   83.99974   84.68424  0.81%     -    0s\n",
      "     0     0   84.68424    0   31   83.99974   84.68424  0.81%     -    0s\n",
      "     0     0   84.68253    0   27   83.99974   84.68253  0.81%     -    0s\n",
      "     0     0   84.68253    0   18   83.99974   84.68253  0.81%     -    0s\n",
      "     0     0   84.68253    0   24   83.99974   84.68253  0.81%     -    0s\n",
      "     0     0   84.68253    0   26   83.99974   84.68253  0.81%     -    0s\n",
      "     0     0   84.68253    0   30   83.99974   84.68253  0.81%     -    0s\n",
      "     0     0   84.68253    0   29   83.99974   84.68253  0.81%     -    0s\n",
      "     0     0   84.68253    0   32   83.99974   84.68253  0.81%     -    0s\n",
      "     0     0   84.67444    0   18   83.99974   84.67444  0.80%     -    0s\n",
      "     0     0   84.67444    0   18   83.99974   84.67444  0.80%     -    0s\n",
      "     0     0   84.59308    0   18   83.99974   84.59308  0.71%     -    0s\n",
      "     0     2   84.59308    0   18   83.99974   84.59308  0.71%     -    0s\n",
      "\n",
      "Cutting planes:\n",
      "  Clique: 4\n",
      "  MIR: 13\n",
      "  Zero half: 4\n",
      "  Mod-K: 1\n",
      "\n",
      "Explored 22 nodes (775 simplex iterations) in 0.37 seconds\n",
      "Thread count was 8 (of 8 available processors)\n",
      "\n",
      "Solution count 2: 83.9997 79.0007 \n",
      "\n",
      "Optimal solution found (tolerance 1.00e-04)\n",
      "Best objective 8.399974000000e+01, best bound 8.399974000000e+01, gap 0.0000%\n",
      "################################\n",
      "The total reward is 102.0 \n",
      "The delay cost is  0.0 \n",
      "The total travel cost is  18.00026\n",
      "0.0\n",
      "finish solving problem at  2018-04-26 13:29:46.665566\n",
      "start sovling problem at  2018-04-26 13:29:52.415582\n",
      "Parameter OutputFlag unchanged\n",
      "   Value: 1  Min: 0  Max: 1  Default: 1\n",
      "Changed value of parameter TIME_LIMIT to 300.0\n",
      "   Prev: 1e+100  Min: 0.0  Max: 1e+100  Default: 1e+100\n",
      "Optimize a model with 7685 rows, 5100 columns and 47026 nonzeros\n",
      "Variable types: 100 continuous, 5000 integer (5000 binary)\n",
      "Coefficient statistics:\n",
      "  Matrix range     [1e-02, 2e+03]\n",
      "  Objective range  [1e-02, 1e+02]\n",
      "  Bounds range     [1e+00, 1e+00]\n",
      "  RHS range        [5e-01, 3e+05]\n",
      "\n",
      "Loaded MIP start with objective 508.704\n",
      "\n",
      "Presolve removed 3345 rows and 2165 columns\n",
      "Presolve time: 0.16s\n",
      "Presolved: 4340 rows, 2935 columns, 28057 nonzeros\n",
      "Variable types: 100 continuous, 2835 integer (2835 binary)\n",
      "\n",
      "Root relaxation: objective 7.105662e+02, 1254 iterations, 0.09 seconds\n",
      "\n",
      "    Nodes    |    Current Node    |     Objective Bounds      |     Work\n",
      " Expl Unexpl |  Obj  Depth IntInf | Incumbent    BestBd   Gap | It/Node Time\n",
      "\n",
      "     0     0  710.56620    0  100  508.70384  710.56620  39.7%     -    0s\n",
      "H    0     0                     534.2463400  710.56620  33.0%     -    0s\n",
      "H    0     0                     550.7783400  710.56620  29.0%     -    0s\n",
      "     0     0  707.96975    0  108  550.77834  707.96975  28.5%     -    0s\n",
      "     0     0  706.54898    0  108  550.77834  706.54898  28.3%     -    1s\n",
      "     0     0  706.12653    0  108  550.77834  706.12653  28.2%     -    1s\n",
      "     0     0  705.78603    0  110  550.77834  705.78603  28.1%     -    1s\n",
      "     0     0  705.62428    0   93  550.77834  705.62428  28.1%     -    1s\n",
      "     0     0  705.62428    0   98  550.77834  705.62428  28.1%     -    1s\n",
      "     0     0  705.62428    0  117  550.77834  705.62428  28.1%     -    1s\n",
      "     0     0  705.62428    0  110  550.77834  705.62428  28.1%     -    1s\n",
      "     0     0  705.62428    0  108  550.77834  705.62428  28.1%     -    1s\n",
      "     0     0  705.62428    0  104  550.77834  705.62428  28.1%     -    1s\n",
      "     0     0  705.62428    0   93  550.77834  705.62428  28.1%     -    1s\n",
      "     0     0  705.62428    0   92  550.77834  705.62428  28.1%     -    1s\n",
      "     0     0  705.62428    0   90  550.77834  705.62428  28.1%     -    2s\n",
      "H    0     0                     604.5603400  705.62428  16.7%     -    3s\n",
      "     0     0  705.62428    0   91  604.56034  705.62428  16.7%     -    3s\n",
      "     0     0  705.62428    0   89  604.56034  705.62428  16.7%     -    3s\n",
      "     0     0  705.62428    0  107  604.56034  705.62428  16.7%     -    3s\n",
      "     0     0  705.62428    0  104  604.56034  705.62428  16.7%     -    3s\n",
      "     0     0  705.62428    0  104  604.56034  705.62428  16.7%     -    4s\n",
      "     0     2  705.62428    0  104  604.56034  705.62428  16.7%     -    4s\n",
      "    22    20  705.42958    6  131  604.56034  705.42958  16.7%  56.8    5s\n",
      "H   30    26                     621.8003400  705.42958  13.4%  45.0    5s\n",
      "H   31    26                     639.2343400  705.42958  10.4%  44.3    5s\n",
      "  1006   715  684.27512  106   51  639.23434  705.31358  10.3%  15.6   10s\n",
      "H 1010   715                     647.2683400  705.31358  8.97%  15.6   10s\n",
      "H 1011   707                     663.0520900  705.31358  6.37%  15.6   10s\n",
      "  1518  1045  686.24742   92  119  663.05209  705.09446  6.34%  15.9   15s\n",
      "  1531  1053  686.77487   57  182  663.05209  704.87162  6.31%  15.8   20s\n",
      "  1545  1063  684.32420  107  229  663.05209  703.69120  6.13%  15.6   25s\n",
      "H 1555  1014                     671.0980900  703.00195  4.75%  15.5   29s\n",
      "  1558  1016  686.24742   92  252  671.09809  702.99719  4.75%  15.5   30s\n",
      "H 1558   965                     671.4640900  702.99719  4.70%  15.5   31s\n",
      "  1572   975  678.52429   69  214  671.46409  701.65220  4.50%  15.4   35s\n",
      "H 1580   930                     676.3498400  700.97243  3.64%  15.3   37s\n",
      "H 1585   885                     676.8198400  700.49800  3.50%  15.2   39s\n",
      "H 1585   839                     676.8898400  700.49800  3.49%  15.2   39s\n",
      "  1587   841  684.78545  105  232  676.88984  700.49040  3.49%  15.2   40s\n",
      "H 1588   798                     680.3878400  700.48876  2.95%  15.2   41s\n",
      "  1598   805  686.24742   92  253  680.38784  700.41623  2.94%  15.1   45s\n",
      "H 1600   764                     680.4518400  700.39468  2.93%  15.1   46s\n",
      "  1607   769  684.78545  105  242  680.45184  700.36186  2.93%  15.0   50s\n",
      "H 1614   733                     680.5478400  700.31808  2.91%  15.0   55s\n",
      "  1631   746  686.77487   57  212  680.54784  700.30720  2.90%  28.1   60s\n",
      "  1641   752  684.25889   48  240  680.54784  700.26979  2.90%  27.9   66s\n",
      "  1646   756  700.17555   23  217  680.54784  700.17555  2.88%  32.9   70s\n"
     ]
    },
    {
     "name": "stdout",
     "output_type": "stream",
     "text": [
      "  1902   863  699.38305   38  140  680.54784  699.55888  2.79%  38.4   75s\n",
      "  2440  1030  686.57989   61  102  680.54784  699.50006  2.78%  45.6   80s\n",
      "  2778  1146  695.23248   52  144  680.54784  699.03008  2.72%  49.2   85s\n",
      "  3813  1407  696.33589   40  190  680.54784  698.36482  2.62%  50.6   90s\n",
      "  4841  2040  688.22631   68  109  680.54784  698.14253  2.59%  52.2   95s\n",
      "  6016  2703  690.57227   63  143  680.54784  697.37098  2.47%  53.9  100s\n",
      "  7036  3361  696.48379   36  136  680.54784  697.21351  2.45%  55.1  106s\n",
      "H 7614  3714                     681.1928400  697.21351  2.35%  54.4  107s\n",
      "  8215  4095  689.01744   42  136  681.19284  697.08270  2.33%  55.0  111s\n",
      "  8732  4440  690.00942   84   97  681.19284  697.07572  2.33%  55.9  115s\n",
      "  9916  5186  695.58734   57  189  681.19284  697.02511  2.32%  56.1  121s\n",
      " 10942  5850  694.85897   57  174  681.19284  696.99315  2.32%  56.2  125s\n",
      " 12159  6614  683.90084   79  134  681.19284  696.96346  2.32%  57.3  131s\n",
      " 13639  7545  691.09740   64   60  681.19284  696.91040  2.31%  56.6  136s\n",
      " 14432  8029  686.22860   49   90  681.19284  696.89225  2.30%  56.6  144s\n",
      " 15298  8625  688.36114   64  131  681.19284  696.87720  2.30%  56.5  147s\n",
      " 16591  9339  694.95909   44  184  681.19284  696.85094  2.30%  55.9  153s\n",
      " 17515  9975  692.56922   54  121  681.19284  696.83458  2.30%  55.9  156s\n",
      " 18621 10590  682.55042   54   95  681.19284  696.80991  2.29%  55.5  160s\n",
      " 20078 11437  685.16191   72  112  681.19284  696.79214  2.29%  55.8  166s\n",
      " 21153 12100  689.69826   57  126  681.19284  696.78264  2.29%  55.9  173s\n",
      " 22371 12810 infeasible   74       681.19284  696.76337  2.29%  55.7  176s\n",
      " 23007 13092  694.25643   41  147  681.19284  696.75129  2.28%  55.5  181s\n",
      " 24232 13809  690.97436   69  111  681.19284  696.73786  2.28%  55.1  185s\n",
      " 26447 15119  694.78234   43  160  681.19284  696.69722  2.28%  55.3  191s\n",
      " 26793 15301  690.98180   48  130  681.19284  696.69128  2.28%  55.5  196s\n",
      " 28017 16002 infeasible   46       681.19284  696.68059  2.27%  55.3  200s\n",
      " 29305 16777  695.11312   46  104  681.19284  696.67912  2.27%  54.9  235s\n",
      " 29318 16786  695.63468   60  216  681.19284  696.67912  2.27%  54.9  241s\n",
      " 29322 16788  691.54722   54  227  681.19284  696.67912  2.27%  54.9  245s\n",
      " 29326 16791  689.67276   52  240  681.19284  696.67912  2.27%  54.9  250s\n",
      " 29328 16792  695.45463   46  241  681.19284  696.67912  2.27%  54.9  255s\n",
      " 29331 16794  691.18156   76  210  681.19284  696.67912  2.27%  54.9  262s\n",
      " 29333 16796  688.17156   70  209  681.19284  696.67912  2.27%  54.9  267s\n",
      " 29337 16798  694.28722   44  234  681.19284  696.67912  2.27%  54.9  272s\n",
      " 29340 16800  686.46142   63  244  681.19284  696.67912  2.27%  54.9  276s\n",
      " 29342 16802  691.54722   54  239  681.19284  696.67912  2.27%  54.9  282s\n",
      " 29344 16803  692.42842   45  233  681.19284  696.67912  2.27%  54.8  286s\n",
      " 29346 16804  689.67276   52  243  681.19284  696.67912  2.27%  54.8  290s\n",
      " 29349 16806  696.64924   39  236  681.19284  696.67912  2.27%  54.8  295s\n",
      " 29351 16808  691.18156   76  241  681.19284  696.67912  2.27%  54.8  300s\n",
      "\n",
      "Cutting planes:\n",
      "  Learned: 5\n",
      "  Gomory: 12\n",
      "  MIR: 20\n",
      "  Flow cover: 155\n",
      "  Inf proof: 2\n",
      "  Zero half: 23\n",
      "\n",
      "Explored 29351 nodes (1626528 simplex iterations) in 300.09 seconds\n",
      "Thread count was 8 (of 8 available processors)\n",
      "\n",
      "Solution count 10: 681.193 680.548 680.452 ... 663.052\n",
      "\n",
      "Time limit reached\n",
      "Best objective 6.811928400000e+02, best bound 6.966791217960e+02, gap 2.2734%\n",
      "################################\n",
      "The total reward is 851.0 \n",
      "The delay cost is  1.0740000000000043 \n",
      "The total travel cost is  168.73316\n",
      "0.0\n",
      "finish solving problem at  2018-04-26 13:34:53.947762\n"
     ]
    }
   ],
   "source": [
    "output_flag=1\n",
    "target_hh_id=2287301\n",
    "# target_hh_id=2744264\n",
    "min_length=15\n",
    "max_length=20\n",
    "run_mode=0\n",
    "single_model_runtime=60*5\n",
    "drivingcost_per_mile=1\n",
    "reward_mode=0\n",
    "darp_solutions=[]\n",
    "cav_use_mode=1\n",
    "target_hh=traveler_trips[traveler_trips['hh_id']==target_hh_id].drop_duplicates(subset=['orig_maz','dest_maz','orig_purpose','dest_purpose','starttime','joint_trip_flag'])\n",
    "#Sort all trips based on start time. This step could reduce the solving time and make it easier to track\n",
    "sorted_trips=target_hh.sort_values(\"starttime\")\n",
    "#hh_index give an index to all trips within the household for tracking purpose\n",
    "hh_num_trips=sorted_trips.shape[0]\n",
    "sorted_trips[\"hh_index\"]=(range(hh_num_trips))\n",
    "# sorted_trips=sorted_trips.loc[sorted_trips.tripmode<=6]\n",
    "\n",
    "# for num_cav in [2]: #range(1,4):\n",
    "#     for share_ride_factor in [1]: #[1,1.25,1.5]:\n",
    "#         for time_window_flag in [0]:\n",
    "num_cav=2\n",
    "share_ride_factor=1.5\n",
    "time_window_flag=0\n",
    "#         time_window_flag=1\n",
    "# num_cav=1\n",
    "# share_ride_factor=1.5\n",
    "# time_window_flag=0\n",
    "print('**************')\n",
    "print('Num_CAV',num_cav,share_ride_factor,time_window_flag)\n",
    "print('**************')\n",
    "darp_solutions.extend([sod.solve_with_schedule_partition(sorted_trips,Vehicular_Skim,Transit_AB_Cost_Skim,superzone_map,min_length,max_length,\n",
    "                            reward_mode,drivingcost_per_mile,share_ride_factor,output_flag,run_mode,num_cav,\n",
    "                          cav_use_mode,time_window_flag,single_model_runtime)])"
   ]
  },
  {
   "cell_type": "code",
   "execution_count": 5,
   "metadata": {},
   "outputs": [
    {
     "name": "stdout",
     "output_type": "stream",
     "text": [
      "**************\n",
      "Num_CAV 2 1.5 0\n",
      "**************\n",
      "start sovling problem at  2018-04-26 14:12:14.419468\n",
      "Parameter OutputFlag unchanged\n",
      "   Value: 1  Min: 0  Max: 1  Default: 1\n",
      "Changed value of parameter TIME_LIMIT to 300.0\n",
      "   Prev: 1e+100  Min: 0.0  Max: 1e+100  Default: 1e+100\n",
      "Optimize a model with 2152 rows, 1404 columns and 12522 nonzeros\n",
      "Variable types: 52 continuous, 1352 integer (1352 binary)\n",
      "Coefficient statistics:\n",
      "  Matrix range     [1e-02, 2e+03]\n",
      "  Objective range  [1e-02, 1e+02]\n",
      "  Bounds range     [1e+00, 1e+00]\n",
      "  RHS range        [1e+00, 3e+05]\n",
      "\n",
      "Loaded MIP start with objective 392.007\n",
      "\n",
      "Presolve removed 857 rows and 538 columns\n",
      "Presolve time: 0.06s\n",
      "Presolved: 1295 rows, 866 columns, 8024 nonzeros\n",
      "Variable types: 52 continuous, 814 integer (814 binary)\n",
      "\n",
      "Root relaxation: objective 5.913533e+02, 302 iterations, 0.02 seconds\n",
      "\n",
      "    Nodes    |    Current Node    |     Objective Bounds      |     Work\n",
      " Expl Unexpl |  Obj  Depth IntInf | Incumbent    BestBd   Gap | It/Node Time\n",
      "\n",
      "     0     0  591.35325    0   52  392.00650  591.35325  50.9%     -    0s\n",
      "H    0     0                     501.7630000  591.35325  17.9%     -    0s\n",
      "     0     0  588.91845    0   75  501.76300  588.91845  17.4%     -    0s\n",
      "     0     0  588.47460    0   58  501.76300  588.47460  17.3%     -    0s\n",
      "     0     0  588.45075    0   60  501.76300  588.45075  17.3%     -    0s\n",
      "     0     0  588.34200    0   75  501.76300  588.34200  17.3%     -    0s\n",
      "     0     0  588.19542    0   71  501.76300  588.19542  17.2%     -    0s\n",
      "     0     0  588.14909    0   70  501.76300  588.14909  17.2%     -    0s\n",
      "     0     0  588.00723    0   82  501.76300  588.00723  17.2%     -    0s\n",
      "     0     0  587.99104    0   82  501.76300  587.99104  17.2%     -    0s\n",
      "     0     0  587.97591    0   84  501.76300  587.97591  17.2%     -    0s\n",
      "     0     0  587.97334    0   86  501.76300  587.97334  17.2%     -    0s\n",
      "     0     0  587.91950    0   79  501.76300  587.91950  17.2%     -    0s\n",
      "     0     0  587.91950    0   79  501.76300  587.91950  17.2%     -    0s\n",
      "     0     0  587.91950    0   78  501.76300  587.91950  17.2%     -    0s\n",
      "     0     0  587.91950    0   74  501.76300  587.91950  17.2%     -    0s\n",
      "     0     0  587.91950    0   69  501.76300  587.91950  17.2%     -    0s\n",
      "     0     0  587.91950    0   71  501.76300  587.91950  17.2%     -    0s\n",
      "     0     0  586.98066    0   59  501.76300  586.98066  17.0%     -    1s\n",
      "     0     0  586.86916    0   62  501.76300  586.86916  17.0%     -    1s\n",
      "     0     0  586.86916    0   62  501.76300  586.86916  17.0%     -    1s\n",
      "     0     2  586.86916    0   59  501.76300  586.86916  17.0%     -    1s\n",
      "  1614   947  581.31599   20   59  501.76300  583.87627  16.4%   8.5    5s\n",
      "* 3708  1533              86     510.3940000  583.58675  14.3%   9.2    5s\n",
      "* 6615  2897              59     550.5839200  583.31631  5.95%   8.5    6s\n",
      "* 6625  2895              57     550.7879200  583.31631  5.91%   8.5    7s\n",
      "* 6944  3116              71     550.9372500  583.31545  5.88%   8.4    7s\n",
      "* 7687  3156              47     561.0054200  583.26646  3.97%   8.1    7s\n",
      "*10626  4446              47     561.1941700  583.08478  3.90%   7.6    8s\n",
      "*11797  4333              55     567.3501700  583.01527  2.76%   7.5    8s\n",
      "*12185  4493              37     567.6061700  582.98935  2.71%   7.5    8s\n",
      " 14477  5248  581.58791   30   53  567.60617  582.83947  2.68%   7.4   10s\n",
      "H14504  5002                     569.5704200  582.83947  2.33%   7.4   12s\n",
      "H14505  4752                     569.7591700  582.83947  2.30%   7.4   12s\n",
      " 15736  5081  582.83947   63   11  569.75917  582.83947  2.30%   8.1   15s\n",
      " 29267  4657  580.12552   80   62  569.75917  581.98460  2.15%   8.4   23s\n",
      " 29277  4664  580.30550   67   99  569.75917  581.98460  2.15%   8.3   25s\n",
      " 29293  4674  579.40317   63  117  569.75917  581.98460  2.15%   8.3   30s\n",
      " 29302  4680  580.94957   43  110  569.75917  581.98460  2.15%   8.3   35s\n",
      " 29311  4686  578.72561   48  115  569.75917  581.98460  2.15%   8.3   40s\n",
      " 29318  4691  572.10900   74  118  569.75917  581.98460  2.15%   8.3   45s\n",
      " 29327  4697  580.12552   80  121  569.75917  581.98460  2.15%   8.3   50s\n",
      "H29330  4463                     569.8051700  581.98460  2.14%   8.3   52s\n",
      " 29336  4467  577.55971   52  101  569.80517  581.98460  2.14%   8.3   55s\n",
      " 29346  4474  578.50149   45  109  569.80517  581.98460  2.14%   8.3   60s\n",
      " 29356  4480  577.55971   52  103  569.80517  581.98460  2.14%   8.3   65s\n",
      " 29367  4488  580.12552   80  113  569.80517  581.98460  2.14%   8.3   70s\n",
      " 29376  4494  577.55971   52  110  569.80517  581.92350  2.13%   8.3   75s\n",
      " 29386  4500  578.50149   45  112  569.80517  581.73603  2.09%   8.3   80s\n",
      " 29395  4506  577.31954   75  118  569.80517  581.58774  2.07%   8.3   85s\n",
      " 31215  4722  578.33960   66   24  569.80517  581.58774  2.07%   8.9   90s\n",
      " 42333  3023 infeasible   58       569.80517  579.98841  1.79%   9.8   95s\n",
      " 52348  3233  571.68227   75   12  569.80517  577.99417  1.44%  10.4  100s\n",
      " 63451  2776  576.17593   59   69  569.80517  576.17593  1.12%  10.6  105s\n",
      " 74494  1418 infeasible   64       569.80517  573.58427  0.66%  10.9  110s\n",
      "\n",
      "Cutting planes:\n",
      "  Gomory: 23\n",
      "  Implied bound: 2\n",
      "  MIR: 32\n",
      "  StrongCG: 1\n",
      "  Flow cover: 187\n",
      "  Inf proof: 7\n",
      "  Zero half: 86\n",
      "\n",
      "Explored 80249 nodes (872217 simplex iterations) in 112.65 seconds\n",
      "Thread count was 8 (of 8 available processors)\n",
      "\n",
      "Solution count 10: 569.805 569.759 569.57 ... 550.584\n",
      "\n",
      "Optimal solution found (tolerance 1.00e-04)\n",
      "Best objective 5.698051700000e+02, best bound 5.698051700000e+02, gap 0.0000%\n",
      "################################\n",
      "The total reward is 651.0 \n",
      "The delay cost is  1.5279999999999996 \n",
      "The total travel cost is  79.66683\n",
      "0.002000000000001556\n",
      "finish solving problem at  2018-04-26 14:14:07.512156\n",
      "start sovling problem at  2018-04-26 14:14:11.449637\n",
      "Parameter OutputFlag unchanged\n",
      "   Value: 1  Min: 0  Max: 1  Default: 1\n",
      "Changed value of parameter TIME_LIMIT to 300.0\n",
      "   Prev: 1e+100  Min: 0.0  Max: 1e+100  Default: 1e+100\n",
      "Optimize a model with 4896 rows, 3280 columns and 33102 nonzeros\n",
      "Variable types: 80 continuous, 3200 integer (3200 binary)\n",
      "Coefficient statistics:\n",
      "  Matrix range     [1e-02, 2e+03]\n",
      "  Objective range  [1e-02, 1e+02]\n",
      "  Bounds range     [1e+00, 1e+00]\n",
      "  RHS range        [8e-01, 3e+05]\n",
      "\n",
      "Loaded MIP start with objective 406.63\n",
      "\n",
      "Presolve removed 1983 rows and 1261 columns\n",
      "Presolve time: 0.06s\n",
      "Presolved: 2913 rows, 2019 columns, 20028 nonzeros\n",
      "Variable types: 80 continuous, 1939 integer (1939 binary)\n",
      "\n",
      "Root relaxation: objective 5.393587e+02, 1241 iterations, 0.08 seconds\n",
      "\n",
      "    Nodes    |    Current Node    |     Objective Bounds      |     Work\n",
      " Expl Unexpl |  Obj  Depth IntInf | Incumbent    BestBd   Gap | It/Node Time\n",
      "\n",
      "     0     0  539.35875    0   81  406.63024  539.35875  32.6%     -    0s\n",
      "H    0     0                     411.4377400  539.35875  31.1%     -    0s\n",
      "     0     0  539.04443    0   89  411.43774  539.04443  31.0%     -    0s\n",
      "     0     0  538.74687    0   93  411.43774  538.74687  30.9%     -    0s\n",
      "     0     0  537.14414    0  111  411.43774  537.14414  30.6%     -    0s\n",
      "     0     0  537.13789    0  112  411.43774  537.13789  30.6%     -    0s\n",
      "     0     0  535.95549    0  101  411.43774  535.95549  30.3%     -    0s\n",
      "     0     0  535.95549    0  102  411.43774  535.95549  30.3%     -    0s\n",
      "     0     0  535.59747    0  112  411.43774  535.59747  30.2%     -    0s\n",
      "     0     0  535.58646    0  112  411.43774  535.58646  30.2%     -    1s\n",
      "     0     0  535.58560    0  115  411.43774  535.58560  30.2%     -    1s\n",
      "     0     0  535.58560    0  117  411.43774  535.58560  30.2%     -    1s\n",
      "     0     0  535.38275    0  118  411.43774  535.38275  30.1%     -    1s\n",
      "     0     0  535.35605    0  118  411.43774  535.35605  30.1%     -    1s\n",
      "     0     0  535.35605    0  120  411.43774  535.35605  30.1%     -    1s\n",
      "     0     0  534.95960    0  112  411.43774  534.95960  30.0%     -    1s\n",
      "     0     0  534.94664    0  113  411.43774  534.94664  30.0%     -    1s\n",
      "     0     0  534.94664    0  114  411.43774  534.94664  30.0%     -    1s\n",
      "     0     0  534.88977    0  113  411.43774  534.88977  30.0%     -    1s\n",
      "     0     0  534.88977    0  113  411.43774  534.88977  30.0%     -    1s\n",
      "     0     0  534.88368    0  113  411.43774  534.88368  30.0%     -    1s\n"
     ]
    },
    {
     "name": "stdout",
     "output_type": "stream",
     "text": [
      "     0     0  534.87003    0  124  411.43774  534.87003  30.0%     -    1s\n",
      "     0     0  534.85932    0  116  411.43774  534.85932  30.0%     -    1s\n",
      "     0     0  534.85295    0  107  411.43774  534.85295  30.0%     -    1s\n",
      "     0     0  534.85295    0  110  411.43774  534.85295  30.0%     -    1s\n",
      "     0     0  534.84479    0  132  411.43774  534.84479  30.0%     -    1s\n",
      "     0     0  534.84004    0  136  411.43774  534.84004  30.0%     -    1s\n",
      "     0     0  534.84004    0  138  411.43774  534.84004  30.0%     -    1s\n",
      "     0     0  534.82714    0  114  411.43774  534.82714  30.0%     -    2s\n",
      "     0     0  534.82631    0  131  411.43774  534.82631  30.0%     -    2s\n",
      "     0     0  534.82631    0  134  411.43774  534.82631  30.0%     -    2s\n",
      "     0     0  534.82631    0  136  411.43774  534.82631  30.0%     -    2s\n",
      "     0     0  534.74546    0  134  411.43774  534.74546  30.0%     -    2s\n",
      "     0     0  534.69441    0  146  411.43774  534.69441  30.0%     -    2s\n",
      "     0     0  534.69441    0  148  411.43774  534.69441  30.0%     -    2s\n",
      "     0     0  534.69441    0  150  411.43774  534.69441  30.0%     -    2s\n",
      "     0     0  534.69441    0  152  411.43774  534.69441  30.0%     -    2s\n",
      "     0     0  534.69441    0  146  411.43774  534.69441  30.0%     -    2s\n",
      "     0     0  534.69441    0  144  411.43774  534.69441  30.0%     -    2s\n",
      "     0     2  534.69441    0  144  411.43774  534.69441  30.0%     -    3s\n",
      "   119   103  529.36813   14  112  411.43774  532.95095  29.5%  41.2    5s\n",
      "H  120   105                     433.7394900  532.95095  22.9%  40.9    5s\n",
      "H  125   110                     460.4879900  532.95095  15.7%  41.2    5s\n",
      "  1539  1210  511.46437   68  165  460.48799  530.88654  15.3%  20.2   10s\n",
      "H 1541  1150                     482.7897400  530.75437  9.93%  20.2   10s\n",
      "  1577  1181  529.96569   19  175  482.78974  530.02094  9.78%  24.5   15s\n",
      "H 1887  1269                     495.9667400  530.02094  6.87%  29.5   16s\n",
      "  3398  1781  502.67211   72   84  495.96674  529.26942  6.71%  29.1   20s\n",
      "  5531  2837  521.58267   51  127  495.96674  528.12192  6.48%  31.2   25s\n",
      "H 6747  3636                     496.5335700  526.97671  6.13%  32.5   28s\n",
      "  7491  4106  523.90214   42  147  496.53357  526.83545  6.10%  34.2   30s\n",
      "  9027  5023  518.51922   44  106  496.53357  526.36965  6.01%  35.5   35s\n",
      " 11559  6721  521.45093   25  126  496.53357  525.96814  5.93%  35.5   40s\n",
      " 14264  8692  519.01692   45  114  496.53357  525.67767  5.87%  35.0   45s\n",
      " 16552 10125 infeasible   67       496.53357  525.20414  5.77%  34.9   50s\n",
      " 18937 11582  515.88366   44   88  496.53357  524.90877  5.71%  35.0   56s\n",
      "H21020 12874                     497.6057400  524.56201  5.42%  34.5   59s\n",
      " 21043 12867  517.82559   57  111  497.60574  524.56136  5.42%  34.5   60s\n",
      " 23446 14222  517.04933   46  111  497.60574  524.26561  5.36%  34.0   65s\n",
      " 26257 16108  501.61945   69   53  497.60574  524.08585  5.32%  33.6   70s\n",
      " 28679 17541  503.64646  147   59  497.60574  523.86304  5.28%  33.5   75s\n",
      " 29300 17897  521.80201   31  144  497.60574  523.73211  5.25%  33.5   93s\n",
      " 29303 17899  521.44520   99  108  497.60574  523.73211  5.25%  33.5   95s\n",
      " 29314 17906  517.01009   53  195  497.60574  523.73211  5.25%  33.5  101s\n",
      " 29318 17909  518.63554   39  198  497.60574  523.73211  5.25%  33.5  106s\n",
      " 29322 17912  514.96392   47  207  497.60574  523.73211  5.25%  33.5  110s\n",
      " 29329 17916  514.77086   48  203  497.60574  523.73211  5.25%  33.5  115s\n",
      " 29333 17919  519.67576   45  214  497.60574  523.73211  5.25%  33.5  121s\n",
      " 29337 17922  522.69218   45  218  497.60574  523.73211  5.25%  33.5  125s\n",
      " 29341 17924  519.34797   42  218  497.60574  523.73211  5.25%  33.5  130s\n",
      " 29343 17926  521.44520   99  205  497.60574  523.73211  5.25%  33.5  135s\n",
      " 29345 17927  512.08951  108  211  497.60574  523.73211  5.25%  33.5  140s\n",
      " 29347 17928  512.88818   64  204  497.60574  523.73211  5.25%  33.5  145s\n",
      " 29351 17931  522.60411   66  216  497.60574  523.73211  5.25%  33.5  150s\n",
      " 29355 17934  522.73238   48  210  497.60574  523.73211  5.25%  33.5  157s\n",
      "H29355 17036                     500.9437400  523.73211  4.55%  33.5  157s\n",
      " 29357 17037  522.69218   45  207  500.94374  523.73211  4.55%  33.5  162s\n",
      "H29357 16184                     502.5604900  523.73211  4.21%  33.5  164s\n",
      " 29359 16185  514.31083   48  209  502.56049  523.73211  4.21%  33.5  167s\n",
      " 29361 16187  519.34797   42  214  502.56049  523.73211  4.21%  33.5  171s\n",
      " 29363 16188  521.44520   99  210  502.56049  523.73211  4.21%  33.5  176s\n",
      " 29366 16190  507.71254   69  216  502.56049  523.73211  4.21%  33.5  182s\n",
      " 29368 16191  511.29304   95  214  502.56049  523.73211  4.21%  33.5  186s\n",
      " 29370 16193  507.50338   63  229  502.56049  523.73211  4.21%  33.5  191s\n",
      " 29372 16194  512.45997   51  221  502.56049  523.73211  4.21%  33.5  198s\n",
      " 29373 16195  519.67576   45  238  502.56049  523.73211  4.21%  33.5  200s\n",
      " 29376 16197  508.48721   58  222  502.56049  523.73211  4.21%  33.5  208s\n",
      " 29377 16197  522.69218   45  227  502.56049  523.73211  4.21%  33.5  210s\n",
      " 29380 16199  521.80201   31  228  502.56049  523.73211  4.21%  33.5  218s\n",
      " 29381 16200  519.34797   42  233  502.56049  523.73211  4.21%  33.5  220s\n",
      " 29384 16202  505.00413   74  224  502.56049  523.73211  4.21%  33.5  228s\n",
      " 29385 16203  512.08951  108  232  502.56049  523.73211  4.21%  33.5  230s\n",
      " 29388 16205  511.29304   95  230  502.56049  523.73211  4.21%  33.4  237s\n",
      " 29390 16206  507.50338   63  227  502.56049  523.73211  4.21%  33.4  242s\n",
      " 29392 16207  512.45997   51  228  502.56049  523.73211  4.21%  33.4  247s\n",
      " 29394 16209  517.01009   53  227  502.56049  523.73211  4.21%  33.4  251s\n",
      " 29396 16210  508.48721   58  228  502.56049  523.73211  4.21%  33.4  257s\n",
      " 29398 16211  518.63554   39  226  502.56049  523.73211  4.21%  33.4  261s\n",
      " 29400 16213  521.80201   31  230  502.56049  523.73211  4.21%  33.4  266s\n",
      " 29402 16214  514.96392   47  228  502.56049  523.73211  4.21%  33.4  272s\n",
      " 29404 16215  505.00413   74  226  502.56049  523.73211  4.21%  33.4  276s\n",
      " 29406 16217  507.71254   69  225  502.56049  523.73211  4.21%  33.4  283s\n",
      " 29407 16217  512.88818   64  229  502.56049  523.73211  4.21%  33.4  285s\n",
      " 29409 16219  514.77086   48  227  502.56049  523.73211  4.21%  33.4  290s\n",
      " 29411 16220  522.60411   66  229  502.56049  523.73211  4.21%  33.4  295s\n",
      "\n",
      "Cutting planes:\n",
      "  Learned: 1\n",
      "  Gomory: 7\n",
      "  MIR: 28\n",
      "  Flow cover: 108\n",
      "  Inf proof: 5\n",
      "  Zero half: 37\n",
      "\n",
      "Explored 29412 nodes (998997 simplex iterations) in 300.11 seconds\n",
      "Thread count was 8 (of 8 available processors)\n",
      "\n",
      "Solution count 10: 502.56 500.944 497.606 ... 406.63\n",
      "\n",
      "Time limit reached\n",
      "Best objective 5.025604900000e+02, best bound 5.237321101662e+02, gap 4.2128%\n",
      "################################\n",
      "The total reward is 625.0 \n",
      "The delay cost is  1.156000000000032 \n",
      "The total travel cost is  121.28351\n",
      "0.004000000000001336\n",
      "finish solving problem at  2018-04-26 14:19:12.511217\n",
      "start sovling problem at  2018-04-26 14:19:13.136206\n",
      "Parameter OutputFlag unchanged\n",
      "   Value: 1  Min: 0  Max: 1  Default: 1\n",
      "Changed value of parameter TIME_LIMIT to 300.0\n",
      "   Prev: 1e+100  Min: 0.0  Max: 1e+100  Default: 1e+100\n",
      "Optimize a model with 484 rows, 312 columns and 2370 nonzeros\n",
      "Variable types: 24 continuous, 288 integer (288 binary)\n",
      "Coefficient statistics:\n",
      "  Matrix range     [1e-02, 2e+03]\n",
      "  Objective range  [1e-02, 1e+02]\n",
      "  Bounds range     [1e+00, 1e+00]\n",
      "  RHS range        [1e+00, 3e+05]\n",
      "\n",
      "Loaded MIP start with objective 157.449\n",
      "\n",
      "Presolve removed 139 rows and 82 columns\n",
      "Presolve time: 0.02s\n",
      "Presolved: 345 rows, 230 columns, 1840 nonzeros\n",
      "Variable types: 24 continuous, 206 integer (206 binary)\n",
      "\n",
      "Root relaxation: objective 2.230977e+02, 113 iterations, 0.00 seconds\n",
      "\n",
      "    Nodes    |    Current Node    |     Objective Bounds      |     Work\n",
      " Expl Unexpl |  Obj  Depth IntInf | Incumbent    BestBd   Gap | It/Node Time\n",
      "\n",
      "     0     0  223.09772    0   24  157.44910  223.09772  41.7%     -    0s\n",
      "H    0     0                     199.8821000  223.09772  11.6%     -    0s\n",
      "     0     0  223.09772    0   24  199.88210  223.09772  11.6%     -    0s\n",
      "     0     0  223.08710    0   24  199.88210  223.08710  11.6%     -    0s\n",
      "     0     0  222.91155    0   31  199.88210  222.91155  11.5%     -    0s\n",
      "     0     0  222.90677    0   33  199.88210  222.90677  11.5%     -    0s\n"
     ]
    },
    {
     "name": "stdout",
     "output_type": "stream",
     "text": [
      "     0     0  222.80603    0   36  199.88210  222.80603  11.5%     -    0s\n",
      "     0     0  222.80603    0   34  199.88210  222.80603  11.5%     -    0s\n",
      "     0     0  222.76831    0   35  199.88210  222.76831  11.4%     -    0s\n",
      "     0     0  222.76332    0   48  199.88210  222.76332  11.4%     -    0s\n",
      "     0     0  222.76332    0   50  199.88210  222.76332  11.4%     -    0s\n",
      "     0     0  222.75727    0   47  199.88210  222.75727  11.4%     -    0s\n",
      "     0     0  222.75506    0   52  199.88210  222.75506  11.4%     -    0s\n",
      "     0     0  222.75504    0   53  199.88210  222.75504  11.4%     -    0s\n",
      "     0     0  222.74245    0   26  199.88210  222.74245  11.4%     -    0s\n",
      "     0     0  222.73682    0   24  199.88210  222.73682  11.4%     -    0s\n",
      "     0     0  222.72620    0   24  199.88210  222.72620  11.4%     -    0s\n",
      "     0     0  222.71340    0   55  199.88210  222.71340  11.4%     -    0s\n",
      "     0     0  222.71104    0   55  199.88210  222.71104  11.4%     -    0s\n",
      "     0     0  222.71104    0   55  199.88210  222.71104  11.4%     -    0s\n",
      "     0     0  222.71041    0   56  199.88210  222.71041  11.4%     -    0s\n",
      "     0     0  222.69179    0   56  199.88210  222.69179  11.4%     -    0s\n",
      "     0     0  222.49373    0   53  199.88210  222.49373  11.3%     -    0s\n",
      "     0     0  222.48524    0   56  199.88210  222.48524  11.3%     -    0s\n",
      "     0     0  222.46586    0   55  199.88210  222.46586  11.3%     -    0s\n",
      "     0     0  222.46586    0   56  199.88210  222.46586  11.3%     -    0s\n",
      "     0     0  222.32529    0   52  199.88210  222.32529  11.2%     -    0s\n",
      "     0     2  222.32529    0   52  199.88210  222.32529  11.2%     -    0s\n",
      "H   77    53                     203.5648200  222.25400  9.18%  11.1    0s\n",
      "H   87    59                     212.3393200  222.25400  4.67%  10.4    0s\n",
      "* 2720     6              18     213.1953200  215.32349  1.00%   5.5    0s\n",
      "* 2774     2              21     213.4048200  214.65995  0.59%   5.5    0s\n",
      "\n",
      "Cutting planes:\n",
      "  Learned: 8\n",
      "  Gomory: 1\n",
      "  Cover: 2\n",
      "  Implied bound: 3\n",
      "  MIR: 28\n",
      "  Inf proof: 16\n",
      "  Zero half: 11\n",
      "\n",
      "Explored 2784 nodes (15716 simplex iterations) in 0.67 seconds\n",
      "Thread count was 8 (of 8 available processors)\n",
      "\n",
      "Solution count 6: 213.405 213.195 212.339 ... 157.449\n",
      "\n",
      "Optimal solution found (tolerance 1.00e-04)\n",
      "Best objective 2.134048200000e+02, best bound 2.134048200000e+02, gap 0.0000%\n",
      "################################\n",
      "The total reward is 250.0 \n",
      "The delay cost is  2.624000000000026 \n",
      "The total travel cost is  33.97118\n",
      "0.265999999999999\n",
      "finish solving problem at  2018-04-26 14:19:13.979966\n",
      "start sovling problem at  2018-04-26 14:19:14.417452\n",
      "Parameter OutputFlag unchanged\n",
      "   Value: 1  Min: 0  Max: 1  Default: 1\n",
      "Changed value of parameter TIME_LIMIT to 300.0\n",
      "   Prev: 1e+100  Min: 0.0  Max: 1e+100  Default: 1e+100\n",
      "Optimize a model with 347 rows, 220 columns and 1662 nonzeros\n",
      "Variable types: 20 continuous, 200 integer (200 binary)\n",
      "Coefficient statistics:\n",
      "  Matrix range     [1e-02, 2e+03]\n",
      "  Objective range  [1e-02, 3e+01]\n",
      "  Bounds range     [1e+00, 1e+00]\n",
      "  RHS range        [1e+00, 3e+05]\n",
      "\n",
      "Loaded MIP start with objective 79.0007\n",
      "\n",
      "Presolve removed 90 rows and 52 columns\n",
      "Presolve time: 0.02s\n",
      "Presolved: 257 rows, 168 columns, 1342 nonzeros\n",
      "Variable types: 20 continuous, 148 integer (148 binary)\n",
      "\n",
      "Root relaxation: objective 8.544258e+01, 65 iterations, 0.00 seconds\n",
      "\n",
      "    Nodes    |    Current Node    |     Objective Bounds      |     Work\n",
      " Expl Unexpl |  Obj  Depth IntInf | Incumbent    BestBd   Gap | It/Node Time\n",
      "\n",
      "     0     0   85.44258    0   18   79.00074   85.44258  8.15%     -    0s\n",
      "     0     0   85.41636    0   24   79.00074   85.41636  8.12%     -    0s\n",
      "     0     0   85.41604    0   24   79.00074   85.41604  8.12%     -    0s\n",
      "     0     0   85.29894    0   22   79.00074   85.29894  7.97%     -    0s\n",
      "     0     0   85.29894    0   20   79.00074   85.29894  7.97%     -    0s\n",
      "     0     0   85.28574    0   20   79.00074   85.28574  7.96%     -    0s\n",
      "     0     0   85.28574    0    8   79.00074   85.28574  7.96%     -    0s\n",
      "     0     0   85.28574    0    8   79.00074   85.28574  7.96%     -    0s\n",
      "H    0     0                      83.9997400   85.28574  1.53%     -    0s\n",
      "     0     0   85.28574    0   18   83.99974   85.28574  1.53%     -    0s\n",
      "     0     0   85.28574    0   26   83.99974   85.28574  1.53%     -    0s\n",
      "     0     0   85.28574    0   20   83.99974   85.28574  1.53%     -    0s\n",
      "     0     0   85.28574    0   23   83.99974   85.28574  1.53%     -    0s\n",
      "     0     0   84.84724    0   28   83.99974   84.84724  1.01%     -    0s\n",
      "     0     0   84.69666    0   28   83.99974   84.69666  0.83%     -    0s\n",
      "     0     0   84.64852    0   35   83.99974   84.64852  0.77%     -    0s\n",
      "     0     0   84.64852    0   34   83.99974   84.64852  0.77%     -    0s\n",
      "     0     2   84.64852    0   34   83.99974   84.64852  0.77%     -    0s\n",
      "\n",
      "Cutting planes:\n",
      "  Gomory: 1\n",
      "  Clique: 5\n",
      "  MIR: 9\n",
      "  Zero half: 2\n",
      "\n",
      "Explored 39 nodes (726 simplex iterations) in 0.25 seconds\n",
      "Thread count was 8 (of 8 available processors)\n",
      "\n",
      "Solution count 2: 83.9997 79.0007 \n",
      "\n",
      "Optimal solution found (tolerance 1.00e-04)\n",
      "Best objective 8.399974000000e+01, best bound 8.399974000000e+01, gap 0.0000%\n",
      "################################\n",
      "The total reward is 102.0 \n",
      "The delay cost is  0.0 \n",
      "The total travel cost is  18.00026\n",
      "0.0\n",
      "finish solving problem at  2018-04-26 14:19:14.792459\n",
      "start sovling problem at  2018-04-26 14:19:20.558064\n",
      "Parameter OutputFlag unchanged\n",
      "   Value: 1  Min: 0  Max: 1  Default: 1\n",
      "Changed value of parameter TIME_LIMIT to 300.0\n",
      "   Prev: 1e+100  Min: 0.0  Max: 1e+100  Default: 1e+100\n",
      "Optimize a model with 7685 rows, 5100 columns and 49426 nonzeros\n",
      "Variable types: 100 continuous, 5000 integer (5000 binary)\n",
      "Coefficient statistics:\n",
      "  Matrix range     [1e-02, 2e+03]\n",
      "  Objective range  [1e-02, 1e+02]\n",
      "  Bounds range     [1e+00, 1e+00]\n",
      "  RHS range        [8e-01, 3e+05]\n",
      "\n",
      "Loaded MIP start with objective 508.704\n",
      "\n",
      "Presolve removed 3346 rows and 2154 columns\n",
      "Presolve time: 0.16s\n",
      "Presolved: 4339 rows, 2946 columns, 28360 nonzeros\n",
      "Variable types: 100 continuous, 2846 integer (2846 binary)\n",
      "\n",
      "Root relaxation: objective 7.105662e+02, 1894 iterations, 0.14 seconds\n",
      "\n",
      "    Nodes    |    Current Node    |     Objective Bounds      |     Work\n",
      " Expl Unexpl |  Obj  Depth IntInf | Incumbent    BestBd   Gap | It/Node Time\n",
      "\n",
      "     0     0  710.56620    0  106  508.70384  710.56620  39.7%     -    0s\n",
      "H    0     0                     534.2463400  710.56620  33.0%     -    1s\n",
      "     0     0  707.84378    0  106  534.24634  707.84378  32.5%     -    1s\n",
      "     0     0  706.44716    0  100  534.24634  706.44716  32.2%     -    1s\n",
      "     0     0  706.27680    0  105  534.24634  706.27680  32.2%     -    1s\n",
      "     0     0  706.04653    0  104  534.24634  706.04653  32.2%     -    1s\n",
      "H    0     0                     537.4403400  706.04653  31.4%     -    1s\n",
      "     0     0  705.62428    0  120  537.44034  705.62428  31.3%     -    1s\n",
      "     0     0  705.55003    0  106  537.44034  705.55003  31.3%     -    1s\n",
      "     0     0  705.55003    0  107  537.44034  705.55003  31.3%     -    1s\n",
      "     0     0  705.50744    0  120  537.44034  705.50744  31.3%     -    1s\n",
      "     0     0  705.50744    0  118  537.44034  705.50744  31.3%     -    1s\n",
      "     0     0  705.50744    0  115  537.44034  705.50744  31.3%     -    1s\n",
      "     0     0  705.50667    0  128  537.44034  705.50667  31.3%     -    1s\n",
      "     0     0  705.50644    0  116  537.44034  705.50644  31.3%     -    2s\n",
      "     0     0  705.50644    0  105  537.44034  705.50644  31.3%     -    2s\n",
      "     0     0  705.50644    0  105  537.44034  705.50644  31.3%     -    2s\n",
      "     0     2  705.50644    0  100  537.44034  705.50644  31.3%     -    3s\n",
      "H   28    26                     588.0063400  704.65290  19.8%  62.3    4s\n",
      "H   29    26                     588.0283400  704.65290  19.8%  61.2    4s\n",
      "H   31    26                     605.0343400  704.65290  16.5%  58.5    4s\n",
      "   283   198  692.30610   25   91  605.03434  704.57387  16.5%  25.9    5s\n",
      "H 1513  1100                     633.7378400  703.69178  11.0%  14.3    7s\n",
      "H 1520  1045                     650.3638400  703.69178  8.20%  14.2   10s\n",
      "H 1528   998                     650.5038400  703.69178  8.18%  14.1   12s\n",
      "  1539  1006  684.62509   47  222  650.50384  703.69178  8.18%  14.0   15s\n"
     ]
    },
    {
     "name": "stdout",
     "output_type": "stream",
     "text": [
      "H 1540   955                     667.5418400  703.69178  5.42%  14.0   16s\n",
      "  1547   957  703.69178   15  186  667.54184  703.69178  5.42%  19.6   20s\n",
      "H 1580   924                     676.3498400  703.69178  4.04%  22.1   22s\n",
      "  1969  1037  690.67636   39  104  676.34984  703.69178  4.04%  26.1   25s\n",
      "  2862  1341  689.00743   51   90  676.34984  703.69178  4.04%  33.0   30s\n",
      "  3639  1612  684.40079   68   62  676.34984  703.69178  4.04%  37.2   35s\n",
      "H 3647  1522                     681.2988400  703.69178  3.29%  37.2   35s\n",
      "  4723  2010  691.50427   47   92  681.29884  703.20445  3.22%  39.4   40s\n",
      "  6202  2900  692.65628   47  134  681.29884  701.67538  2.99%  39.8   45s\n",
      "  7736  3931  693.89652   28  155  681.29884  699.44199  2.66%  40.0   50s\n",
      "  8930  4763  687.56591   47  159  681.29884  699.02490  2.60%  40.8   55s\n",
      " 10087  5517  689.22091   35   80  681.29884  698.40686  2.51%  40.7   60s\n",
      " 11766  6557  687.63579   54  104  681.29884  697.51756  2.38%  41.3   65s\n",
      " 13127  7438  696.68381   31  133  681.29884  697.34181  2.35%  41.4   71s\n",
      " 14552  8354  692.08200   25  140  681.29884  697.07070  2.31%  41.3   77s\n",
      " 15301  8845  686.84148   53   99  681.29884  697.02954  2.31%  41.1   80s\n",
      " 17158 10030  687.13113   57   88  681.29884  696.95068  2.30%  41.4   87s\n",
      " 17602 10284  692.85541   55  137  681.29884  696.87425  2.29%  41.5   92s\n",
      " 18501 10936  687.93409   55  135  681.29884  696.83265  2.28%  41.4   95s\n",
      " 20542 12274  688.95818   41   83  681.29884  696.81293  2.28%  42.2  102s\n",
      " 21405 12778  694.23824   50  110  681.29884  696.77264  2.27%  42.5  105s\n",
      " 22858 13618  693.25305   39  116  681.29884  696.73099  2.27%  43.0  110s\n",
      " 24193 14380  686.56240   41  118  681.29884  696.66498  2.26%  43.8  117s\n",
      " 25080 14940 infeasible   48       681.29884  696.65294  2.25%  44.1  120s\n",
      " 26440 15750  682.08061   56  115  681.29884  696.61785  2.25%  44.8  125s\n",
      " 27748 16499  690.21134   55  153  681.29884  696.58760  2.24%  45.4  132s\n",
      " 28701 17071  686.66867   53  137  681.29884  696.55849  2.24%  45.6  135s\n",
      " 29460 17497  694.28768   34  105  681.29884  696.54033  2.24%  45.9  157s\n",
      " 29463 17499  688.71554   81  131  681.29884  696.54033  2.24%  45.9  160s\n",
      "H29471 16628                     681.6388400  696.54033  2.19%  45.9  161s\n",
      " 29475 16631  694.16373   43  184  681.63884  696.54033  2.19%  45.9  166s\n",
      " 29479 16634  691.28977   47  213  681.63884  696.54033  2.19%  45.9  170s\n",
      " 29483 16636  688.71554   81  205  681.63884  696.54033  2.19%  45.9  176s\n",
      " 29490 16641  688.78156   45  222  681.63884  696.54033  2.19%  45.8  180s\n",
      " 29493 16643  687.49263   68  204  681.63884  696.54033  2.19%  45.8  185s\n",
      " 29496 16645  692.31211   36  159  681.63884  696.54033  2.19%  45.8  190s\n",
      " 29503 16650  688.71554   81  223  681.63884  696.54033  2.19%  45.8  196s\n",
      " 29506 16652  694.61598   38  217  681.63884  696.54033  2.19%  45.8  201s\n",
      " 29508 16653  682.35476   86  210  681.63884  696.54033  2.19%  45.8  205s\n",
      " 29512 16656  691.28218   62  222  681.63884  696.54033  2.19%  45.8  210s\n",
      " 29515 16658  694.16373   43  221  681.63884  696.54033  2.19%  45.8  216s\n",
      " 29518 16660  686.66171   26  224  681.63884  696.54033  2.19%  45.8  221s\n",
      " 29521 16662  696.00594   45  229  681.63884  696.54033  2.19%  45.8  226s\n",
      " 29523 16663  688.71554   81  226  681.63884  696.54033  2.19%  45.8  230s\n",
      " 29526 16665  694.61598   38  239  681.63884  696.54033  2.19%  45.8  235s\n",
      " 29529 16667  690.74738   34  229  681.63884  696.54033  2.19%  45.8  242s\n",
      " 29531 16668  690.60915   41  227  681.63884  696.54033  2.19%  45.8  245s\n",
      " 29534 16670  696.42446   38  241  681.63884  696.54033  2.19%  45.8  250s\n",
      " 29537 16672  689.79905   54  239  681.63884  696.54033  2.19%  45.8  256s\n",
      " 29539 16674  691.28977   47  240  681.63884  696.54033  2.19%  45.8  261s\n",
      " 29541 16675  696.00594   45  238  681.63884  696.54033  2.19%  45.8  265s\n",
      " 29544 16677  695.65655   38  246  681.63884  696.54033  2.19%  45.8  270s\n",
      " 29547 16679  688.57880   42  243  681.63884  696.54033  2.19%  45.8  277s\n",
      " 29549 16680  690.74738   34  243  681.63884  696.54033  2.19%  45.8  280s\n",
      " 29552 16682  691.28218   62  246  681.63884  696.54033  2.19%  45.7  287s\n",
      " 29554 16684  696.42446   38  244  681.63884  696.54033  2.19%  45.7  291s\n",
      " 29555 16686  696.54033   27  179  681.63884  696.54033  2.19%  46.5  296s\n",
      " 29557 16689  696.54033   28  206  681.63884  696.54033  2.19%  46.5  300s\n",
      "\n",
      "Cutting planes:\n",
      "  Learned: 9\n",
      "  Gomory: 18\n",
      "  Cover: 5\n",
      "  Implied bound: 1\n",
      "  Clique: 1\n",
      "  MIR: 32\n",
      "  Flow cover: 130\n",
      "  Inf proof: 6\n",
      "  Zero half: 19\n",
      "\n",
      "Explored 29560 nodes (1379667 simplex iterations) in 300.08 seconds\n",
      "Thread count was 8 (of 8 available processors)\n",
      "\n",
      "Solution count 10: 681.639 681.299 676.35 ... 588.006\n",
      "\n",
      "Time limit reached\n",
      "Best objective 6.816388400000e+02, best bound 6.965403341905e+02, gap 2.1861%\n",
      "################################\n",
      "The total reward is 851.0 \n",
      "The delay cost is  1.3040000000000198 \n",
      "The total travel cost is  168.05716\n",
      "0.0\n",
      "finish solving problem at  2018-04-26 14:24:22.072761\n"
     ]
    }
   ],
   "source": [
    "output_flag=1\n",
    "target_hh_id=2287301\n",
    "# target_hh_id=2744264\n",
    "min_length=15\n",
    "max_length=20\n",
    "run_mode=0\n",
    "single_model_runtime=60*5\n",
    "drivingcost_per_mile=1\n",
    "reward_mode=0\n",
    "darp_solutions1=[]\n",
    "cav_use_mode=1\n",
    "target_hh=traveler_trips[traveler_trips['hh_id']==target_hh_id].drop_duplicates(subset=['orig_maz','dest_maz','orig_purpose','dest_purpose','starttime','joint_trip_flag'])\n",
    "#Sort all trips based on start time. This step could reduce the solving time and make it easier to track\n",
    "sorted_trips=target_hh.sort_values(\"starttime\")\n",
    "#hh_index give an index to all trips within the household for tracking purpose\n",
    "hh_num_trips=sorted_trips.shape[0]\n",
    "sorted_trips[\"hh_index\"]=(range(hh_num_trips))\n",
    "# sorted_trips=sorted_trips.loc[sorted_trips.tripmode<=6]\n",
    "\n",
    "# for num_cav in [2]: #range(1,4):\n",
    "#     for share_ride_factor in [1]: #[1,1.25,1.5]:\n",
    "#         for time_window_flag in [0]:\n",
    "num_cav=2\n",
    "share_ride_factor=1.5\n",
    "time_window_flag=0\n",
    "#         time_window_flag=1\n",
    "# num_cav=1\n",
    "# share_ride_factor=1.5\n",
    "# time_window_flag=0\n",
    "print('**************')\n",
    "print('Num_CAV',num_cav,share_ride_factor,time_window_flag)\n",
    "print('**************')\n",
    "darp_solutions1.extend([sod.solve_with_schedule_partition(sorted_trips,Vehicular_Skim,Transit_AB_Cost_Skim,superzone_map,min_length,max_length,\n",
    "                            reward_mode,drivingcost_per_mile,share_ride_factor,output_flag,run_mode,num_cav,\n",
    "                          cav_use_mode,time_window_flag,single_model_runtime)])"
   ]
  },
  {
   "cell_type": "code",
   "execution_count": null,
   "metadata": {
    "collapsed": true,
    "scrolled": true
   },
   "outputs": [],
   "source": [
    "darp_solutions[0]['route_info']"
   ]
  },
  {
   "cell_type": "code",
   "execution_count": null,
   "metadata": {
    "collapsed": true
   },
   "outputs": [],
   "source": [
    "%matplotlib"
   ]
  },
  {
   "cell_type": "code",
   "execution_count": null,
   "metadata": {
    "collapsed": true,
    "scrolled": false
   },
   "outputs": [],
   "source": [
    "#!/usr/bin/env python\n",
    "import random\n",
    "import pylab\n",
    "from matplotlib.pyplot import pause\n",
    "\n",
    "pylab.ion()\n",
    "\n",
    "\n",
    "Gnormal=nx.Graph()\n",
    "color_map=[]\n",
    "for i in node_detail:\n",
    "    color_map.append('blue')\n",
    "# nx.draw_networkx_nodes(Gnormal, pos,node_list=[1,2,4],node_color='red',node_size=4)\n",
    "def get_fig():\n",
    "    global color_map\n",
    "    for nodeinf in node_detail:\n",
    "        node=nodeinf[0,0]\n",
    "        Gnormal.add_node(node,pos=(nodexy[node][0],nodexy[node][1]))\n",
    "    for linkinf in link_detail: \n",
    "        Gnormal.add_edge(linkinf[0,0],linkinf[0,1])\n",
    "\n",
    "    pos=nx.get_node_attributes(Gnormal,'pos')\n",
    "    nx.draw(Gnormal,pos,node_size=10,node_color=color_map )\n",
    "num_plots = 50;\n",
    "pylab.show()\n",
    "for i in range(num_plots):\n",
    "    color_map[i]='red'\n",
    "    get_fig()\n",
    "    pylab.draw()\n",
    "    pause(2)"
   ]
  },
  {
   "cell_type": "code",
   "execution_count": null,
   "metadata": {
    "collapsed": true
   },
   "outputs": [],
   "source": [
    "target_hh=traveler_trips[traveler_trips['hh_id']==target_hh_id].drop_duplicates(subset=['orig_maz','dest_maz','orig_purpose','dest_purpose','starttime','joint_trip_flag'])\n",
    "#Sort all trips based on start time. This step could reduce the solving time and make it easier to track\n",
    "sorted_trips=target_hh.sort_values(\"starttime\")\n",
    "#hh_index give an index to all trips within the household for tracking purpose\n",
    "hh_num_trips=sorted_trips.shape[0]"
   ]
  },
  {
   "cell_type": "code",
   "execution_count": null,
   "metadata": {
    "collapsed": true
   },
   "outputs": [],
   "source": [
    "analyzed_results4"
   ]
  },
  {
   "cell_type": "code",
   "execution_count": null,
   "metadata": {
    "collapsed": true
   },
   "outputs": [],
   "source": [
    "analyzed_results4=pd.DataFrame()\n",
    "for solution in darp_solutions4:\n",
    "        analyzed_results4=analyzed_results4.append(pod.analysis_result(solution,sorted_trips,Vehicular_Skim,superzone_map),ignore_index=True)"
   ]
  },
  {
   "cell_type": "code",
   "execution_count": null,
   "metadata": {
    "collapsed": true
   },
   "outputs": [],
   "source": [
    "analyzed_results"
   ]
  },
  {
   "cell_type": "code",
   "execution_count": null,
   "metadata": {
    "collapsed": true
   },
   "outputs": [],
   "source": [
    "for i in range(1,4):\n",
    "    line_label=str(i)+' CAV'\n",
    "    plt.pyplot.plot(analyzed_results.loc[analyzed_results.num_cav==i,'share_ride_factor'],analyzed_results.loc[analyzed_results.num_cav==i,'total_AV_driving_time'],'-o',label=line_label)\n",
    "plt.pyplot.legend()"
   ]
  },
  {
   "cell_type": "code",
   "execution_count": null,
   "metadata": {
    "collapsed": true
   },
   "outputs": [],
   "source": [
    "sorted_trips.head()"
   ]
  },
  {
   "cell_type": "code",
   "execution_count": null,
   "metadata": {
    "collapsed": true
   },
   "outputs": [],
   "source": [
    "for i in range(1,4):\n",
    "    line_label=str(i)+' CAV'\n",
    "    plt.pyplot.plot(analyzed_results.loc[analyzed_results.num_cav==i,'share_ride_factor'],analyzed_results.loc[analyzed_results.num_cav==i,'total_AV_driving_distance'],'-o',label=line_label)\n",
    "plt.pyplot.legend()"
   ]
  },
  {
   "cell_type": "code",
   "execution_count": null,
   "metadata": {
    "collapsed": true
   },
   "outputs": [],
   "source": [
    "analyzed_results.columns"
   ]
  },
  {
   "cell_type": "code",
   "execution_count": null,
   "metadata": {
    "collapsed": true
   },
   "outputs": [],
   "source": [
    "analyzed_results4"
   ]
  },
  {
   "cell_type": "code",
   "execution_count": null,
   "metadata": {
    "collapsed": true
   },
   "outputs": [],
   "source": [
    "len(darp_solutions4[0]['route_info'])"
   ]
  },
  {
   "cell_type": "code",
   "execution_count": null,
   "metadata": {
    "collapsed": true
   },
   "outputs": [],
   "source": [
    "analyzed_results4.loc[analyzed_results4.share_ride_factor==1].transpose()"
   ]
  },
  {
   "cell_type": "code",
   "execution_count": null,
   "metadata": {
    "collapsed": true
   },
   "outputs": [],
   "source": [
    "zz.hh_vehicle_id.unique()"
   ]
  },
  {
   "cell_type": "code",
   "execution_count": null,
   "metadata": {
    "collapsed": true
   },
   "outputs": [],
   "source": [
    "for i in range(3):\n",
    "    print(len(zz.loc[zz.hh_vehicle_id==i]))"
   ]
  },
  {
   "cell_type": "code",
   "execution_count": null,
   "metadata": {
    "collapsed": true,
    "scrolled": false
   },
   "outputs": [],
   "source": [
    "zz=darp_solutions4[-1]['route_info']\n",
    "# zz=darp_solutions4[5]['route_info']\n",
    "# zz['origin_network_node','dest_network_node']=zz.apply(lambda row: dy.find_orign_destination_node(row['orig_zone'],row['dest_zone'],origins,destinations))\n",
    "for car_id in range(3):\n",
    "    nodes=[]\n",
    "    for index, row in zz.loc[zz.hh_vehicle_id==car_id].iterrows():\n",
    "        nodes.extend(dy.find_orign_destination_node(row['orig_zone'],row['dest_zone'],origins,destinations))\n",
    "    av.zone_node_highlight(nodes,node_detail,link_detail,nodexy,'r')"
   ]
  },
  {
   "cell_type": "code",
   "execution_count": null,
   "metadata": {
    "collapsed": true
   },
   "outputs": [],
   "source": [
    "darp_solutions4[-1]['route_info'].head()"
   ]
  },
  {
   "cell_type": "code",
   "execution_count": null,
   "metadata": {
    "collapsed": true
   },
   "outputs": [],
   "source": [
    "pod.plot_route_info_schedule(darp_solutions4[-1]['route_info'],sorted_trips,3)"
   ]
  },
  {
   "cell_type": "code",
   "execution_count": null,
   "metadata": {
    "collapsed": true
   },
   "outputs": [],
   "source": [
    "analyzed_results4.columns"
   ]
  },
  {
   "cell_type": "code",
   "execution_count": null,
   "metadata": {
    "collapsed": true
   },
   "outputs": [],
   "source": [
    "# for factor in ['num_cav_trips','num_shared_trips','num_unoccupied_trips','total_schedule_penalty','total_travel_cost','num_pickup_trips']:\n",
    "factor='total_schedule_penalty'\n",
    "plt.pyplot.figure()\n",
    "plt.pyplot.xlabel('Ridesharing Tolerance Factor')\n",
    "plt.pyplot.ylabel('Total Late/Early Arrival')\n",
    "for i in range(1,4):\n",
    "    line_label=str(i)+' AV'\n",
    "    plt.pyplot.plot(analyzed_results4.loc[analyzed_results4.num_cav==i,'share_ride_factor'],analyzed_results4.loc[analyzed_results4.num_cav==i,'Total_early_time'].apply(lambda x: abs(x))+analyzed_results4.loc[analyzed_results4.num_cav==i,'total_delayed_time'].apply(lambda x: abs(x)),'-o',label=line_label)\n",
    "plt.pyplot.legend()"
   ]
  },
  {
   "cell_type": "code",
   "execution_count": null,
   "metadata": {
    "collapsed": true
   },
   "outputs": [],
   "source": [
    "# for factor in ['num_cav_trips','num_shared_trips','num_unoccupied_trips','total_schedule_penalty','total_travel_cost','num_pickup_trips']:\n",
    "factor='total_travel_cost'\n",
    "plt.pyplot.figure()\n",
    "plt.pyplot.xlabel('Ridesharing Tolerance Factor ')\n",
    "plt.pyplot.ylabel('Total Generalized Travel Cost')\n",
    "for i in range(1,4):\n",
    "    line_label=str(i)+' AV'\n",
    "    plt.pyplot.plot(analyzed_results4.loc[analyzed_results4.num_cav==i,'share_ride_factor'],analyzed_results4.loc[analyzed_results4.num_cav==i,factor].apply(lambda x: abs(x)),'-o',label=line_label)\n",
    "plt.pyplot.legend()"
   ]
  },
  {
   "cell_type": "code",
   "execution_count": null,
   "metadata": {
    "collapsed": true,
    "scrolled": true
   },
   "outputs": [],
   "source": [
    "len(darp_solutions4[-1]['route_info'])"
   ]
  },
  {
   "cell_type": "code",
   "execution_count": null,
   "metadata": {
    "collapsed": true
   },
   "outputs": [],
   "source": []
  },
  {
   "cell_type": "code",
   "execution_count": null,
   "metadata": {
    "collapsed": true
   },
   "outputs": [],
   "source": [
    "for factor in ['num_cav_trips','num_shared_trips','num_unoccupied_trips','total_schedule_penalty','total_travel_cost','num_pickup_trips']:\n",
    "    plt.pyplot.figure()\n",
    "    plt.pyplot.xlabel('share ride factor')\n",
    "    plt.pyplot.ylabel(factor)\n",
    "    for i in range(1,4):\n",
    "        line_label=str(i)+' Cav'\n",
    "        plt.pyplot.plot(analyzed_results.loc[analyzed_results.num_cav==i,'share_ride_factor'],analyzed_results.loc[analyzed_results.num_cav==i,factor].apply(lambda x: abs(x)),'-o',label=line_label)\n",
    "    plt.pyplot.legend()"
   ]
  },
  {
   "cell_type": "code",
   "execution_count": null,
   "metadata": {
    "collapsed": true
   },
   "outputs": [],
   "source": [
    "for i in darp_solutions:\n",
    "    print(i['num_cav'],i['share_ride_factor'])"
   ]
  },
  {
   "cell_type": "code",
   "execution_count": null,
   "metadata": {
    "collapsed": true
   },
   "outputs": [],
   "source": [
    "\n",
    "route_info.apply(lambda row: prd.estimate_single_car_trip_cost(row.orig_zone,row.dest_zone,row.start_time,row.value_of_time,Vehicular_Skim,2,superzone_map,drivingcost_per_mile),axis=1).sum()/60\n",
    "route_info.apply(lambda row:prd.estimate_single_car_trip_cost(row.orig_zone,row.dest_zone,row.start_time,row.value_of_time,Vehicular_Skim,1,superzone_map,drivingcost_per_mile) ,axis=1).sum()"
   ]
  },
  {
   "cell_type": "code",
   "execution_count": null,
   "metadata": {
    "collapsed": true
   },
   "outputs": [],
   "source": [
    "from Modules import Preprocess_DARP as prd"
   ]
  },
  {
   "cell_type": "code",
   "execution_count": null,
   "metadata": {
    "collapsed": true
   },
   "outputs": [],
   "source": [
    "for j in [2,5,8] :   \n",
    "    z=darp_solutions4[j]['route_info']\n",
    "    for i in range(3):\n",
    "        zz=z.loc[z.hh_vehicle_id==i]\n",
    "        if len(zz)>0:\n",
    "            total_driving_time_temp=zz.apply(lambda row: prd.estimate_single_car_trip_cost(row.orig_zone,row.dest_zone,row.start_time,row.value_of_time,Vehicular_Skim,2,superzone_map,drivingcost_per_mile),axis=1).sum()/60\n",
    "            total_driving_distance_temp=zz.apply(lambda row: prd.estimate_single_car_trip_cost(row.orig_zone,row.dest_zone,row.start_time,row.value_of_time,Vehicular_Skim,1,superzone_map,drivingcost_per_mile),axis=1).sum()\n",
    "            num_pickup_trips=len(zz.loc[zz.orig_node_index<=len(sorted_trips)])\n",
    "            print(i,j,len(zz),num_pickup_trips,total_driving_time_temp,total_driving_distance_temp)"
   ]
  },
  {
   "cell_type": "code",
   "execution_count": null,
   "metadata": {
    "collapsed": true
   },
   "outputs": [],
   "source": [
    "42/63"
   ]
  },
  {
   "cell_type": "code",
   "execution_count": null,
   "metadata": {
    "collapsed": true
   },
   "outputs": [],
   "source": [
    "29/63"
   ]
  },
  {
   "cell_type": "code",
   "execution_count": null,
   "metadata": {
    "collapsed": true,
    "scrolled": false
   },
   "outputs": [],
   "source": [
    "plt.pyplot.figure(1,figsize=[14.5,10])\n",
    "plt.pyplot.subplot(131)\n",
    "pod.plot_route_info_schedule(darp_solutions4[2]['route_info'],sorted_trips,darp_solutions4[2]['num_cav'])\n",
    "plt.pyplot.subplot(132)\n",
    "pod.plot_route_info_schedule(darp_solutions4[5]['route_info'],sorted_trips,darp_solutions4[5]['num_cav'])\n",
    "plt.pyplot.subplot(133)\n",
    "pod.plot_route_info_schedule(darp_solutions4[8]['route_info'],sorted_trips,darp_solutions4[8]['num_cav'])\n",
    "\n"
   ]
  },
  {
   "cell_type": "code",
   "execution_count": null,
   "metadata": {
    "collapsed": true
   },
   "outputs": [],
   "source": [
    "plt.pyplot.figure(1,figsize=[14.5,10])\n",
    "plt.pyplot.subplot(131)\n",
    "pod.plot_route_info_schedule(darp_solutions[2]['route_info'],sorted_trips,darp_solutions[2]['num_cav'])\n",
    "plt.pyplot.subplot(132)\n",
    "pod.plot_route_info_schedule(darp_solutions[5]['route_info'],sorted_trips,darp_solutions[5]['num_cav'])\n",
    "plt.pyplot.subplot(133)\n",
    "pod.plot_route_info_schedule(darp_solutions[8]['route_info'],sorted_trips,darp_solutions[8]['num_cav'])\n"
   ]
  },
  {
   "cell_type": "code",
   "execution_count": null,
   "metadata": {
    "collapsed": true,
    "scrolled": true
   },
   "outputs": [],
   "source": [
    "Vehicular_Skim.loc[18,15,1,1]"
   ]
  },
  {
   "cell_type": "code",
   "execution_count": null,
   "metadata": {
    "collapsed": true
   },
   "outputs": [],
   "source": [
    "zz1=solution['route_info']"
   ]
  },
  {
   "cell_type": "code",
   "execution_count": null,
   "metadata": {
    "collapsed": true
   },
   "outputs": [],
   "source": [
    "zz1.dest_zone=zz1.dest_zone.apply(lambda x: int(x))"
   ]
  },
  {
   "cell_type": "code",
   "execution_count": null,
   "metadata": {
    "collapsed": true
   },
   "outputs": [],
   "source": [
    "analyzed_results3=pd.DataFrame()\n",
    "for solution in darp_solutions3:\n",
    "    analyzed_results3=analyzed_results3.append(pod.analysis_result(solution,sorted_trips,Vehicular_Skim,superzone_map),ignore_index=True)"
   ]
  },
  {
   "cell_type": "code",
   "execution_count": null,
   "metadata": {
    "collapsed": true
   },
   "outputs": [],
   "source": [
    "analyzed_results3.transpose().to_csv('Output/hh_level_result3.csv')"
   ]
  },
  {
   "cell_type": "code",
   "execution_count": null,
   "metadata": {
    "collapsed": true
   },
   "outputs": [],
   "source": [
    "analyzed_results.transpose().to_csv('hh_level_result.csv')"
   ]
  },
  {
   "cell_type": "code",
   "execution_count": null,
   "metadata": {
    "collapsed": true
   },
   "outputs": [],
   "source": [
    "analyzed_results.transpose()"
   ]
  },
  {
   "cell_type": "markdown",
   "metadata": {},
   "source": [
    "### Basic Statistics"
   ]
  },
  {
   "cell_type": "code",
   "execution_count": null,
   "metadata": {
    "collapsed": true
   },
   "outputs": [],
   "source": [
    "traveler_trips.head()"
   ]
  },
  {
   "cell_type": "code",
   "execution_count": null,
   "metadata": {
    "collapsed": true
   },
   "outputs": [],
   "source": [
    "traveler_trips.columns"
   ]
  },
  {
   "cell_type": "code",
   "execution_count": null,
   "metadata": {
    "collapsed": true
   },
   "outputs": [],
   "source": [
    "#Num of household\n",
    "print('Number of household: \\t',len(traveler_trips.hh_id.unique()))\n",
    "print('Number of traveler: \\t',len(traveler_trips.person_id.unique()))\n",
    "print('Number of trips: \\t',len(traveler_trips))\n",
    "print('Number of indiv trip: \\t',len(traveler_trips[traveler_trips.joint_trip_flag==0]))\n",
    "print('Number of joint trip: \\t',len(traveler_trips[traveler_trips.joint_trip_flag==1]))"
   ]
  },
  {
   "cell_type": "code",
   "execution_count": null,
   "metadata": {
    "collapsed": true
   },
   "outputs": [],
   "source": [
    "traveler_trips['orig_purpose'].value_counts().plot(kind='bar',title='Histogram of Origin Purpose')"
   ]
  },
  {
   "cell_type": "code",
   "execution_count": null,
   "metadata": {
    "collapsed": true
   },
   "outputs": [],
   "source": [
    "traveler_trips.tripmode.hist()"
   ]
  },
  {
   "cell_type": "code",
   "execution_count": null,
   "metadata": {
    "collapsed": true
   },
   "outputs": [],
   "source": [
    "traveler_trips.num_trips.hist()\n",
    "plt.pyplot.title('Histogram of trip per person')"
   ]
  },
  {
   "cell_type": "code",
   "execution_count": null,
   "metadata": {
    "collapsed": true
   },
   "outputs": [],
   "source": [
    "traveler_trips.groupby('hh_id')['num_trips'].count().hist()\n",
    "plt.pyplot.title('Histogram of trip per household')"
   ]
  },
  {
   "cell_type": "markdown",
   "metadata": {},
   "source": [
    "### Sample Household\n",
    "Select household 2287301 for intial analysis"
   ]
  },
  {
   "cell_type": "code",
   "execution_count": null,
   "metadata": {
    "collapsed": true,
    "scrolled": true
   },
   "outputs": [],
   "source": [
    "target_hh_id=2287301\n",
    "people_in_hh=traveler_trips[traveler_trips['hh_id']==target_hh_id]['person_id'].unique()\n",
    "for person in people_in_hh:\n",
    "    #creat trip-chain-origin-destination-list\n",
    "    num_trips=traveler_trips[traveler_trips['person_id']==person]['num_trips'].iloc[0]\n",
    "    print(num_trips)\n",
    "    trip_chain_or=traveler_trips[traveler_trips['person_id']==person][['origin_node','destination_node']]\n",
    "    trip_chain_or['origin_node'].iloc[1:num_trips-1]=trip_chain_or['destination_node'].iloc[0:num_trips-2].tolist()\n",
    "    trip_chain_or['origin_node'].iloc[num_trips-1]=trip_chain_or['destination_node'].iloc[num_trips-2]\n",
    "    #draw the graph\n",
    "    av.trip_chain_highlight(trip_chain_or,node_detail,link_detail,nodexy)\n",
    "#traveler_trips[traveler_trips['hh_id']==2105189]"
   ]
  },
  {
   "cell_type": "markdown",
   "metadata": {},
   "source": [
    "### Solve the optimization for a household \n",
    "\n",
    "The factors need to know about:  \n",
    "1. Decision variable X <sub>ij</sub> and T<sub>j</sub> (departure time from node j)  \n",
    "2. R <sub>i</sub> reward of visiting node i\n",
    "3. S <sub>i</sub> penalty for late/early arrival\n",
    "4. C <sub>ij</sub> travel time between node i and j  \n",
    "5. "
   ]
  },
  {
   "cell_type": "markdown",
   "metadata": {},
   "source": [
    "#### Solve with heuristic"
   ]
  },
  {
   "cell_type": "markdown",
   "metadata": {},
   "source": [
    "## Estimate travel time and cost"
   ]
  },
  {
   "cell_type": "markdown",
   "metadata": {},
   "source": [
    "## Solve the optimization with Gurobi"
   ]
  },
  {
   "cell_type": "code",
   "execution_count": null,
   "metadata": {
    "collapsed": true
   },
   "outputs": [],
   "source": [
    "drivingcost_per_mile=1\n",
    "transit_fare=2\n",
    "transit_asc=2"
   ]
  },
  {
   "cell_type": "markdown",
   "metadata": {},
   "source": [
    "##### Try to solve the problem for a single household"
   ]
  },
  {
   "cell_type": "markdown",
   "metadata": {},
   "source": [
    "#### Solve with exact method"
   ]
  },
  {
   "cell_type": "code",
   "execution_count": null,
   "metadata": {
    "collapsed": true,
    "scrolled": true
   },
   "outputs": [],
   "source": [
    "print('prepare input for dial n ride model at ',datetime.datetime.now())\n",
    "output_flag=1\n",
    "target_hh_id=2287301\n",
    "target_hh=traveler_trips[traveler_trips['hh_id']==target_hh_id].drop_duplicates(subset=['orig_maz','dest_maz','orig_purpose','dest_purpose','starttime','joint_trip_flag'])\n",
    "#Sort all trips based on start time. This step could reduce the solving time and make it easier to track\n",
    "sorted_trips=target_hh.sort_values(\"starttime\")\n",
    "#hh_index give an index to all trips within the household for tracking purpose\n",
    "hh_num_trips=sorted_trips.shape[0]\n",
    "sorted_trips[\"hh_index\"]=(range(hh_num_trips))\n",
    "num_hh_member,hh_num_trips,C,TT,expected_arrival_time,expected_leave_time,early_penalty,late_penalty,early_penalty_threshold,late_penalty_threshold,visit_candidate_zone=extract_hh_information(sorted_trips,Vehicular_Skim,Transit_AB_Cost_Skim,superzone_map)\n",
    "# R=estimate_transit_cost(sorted_trips,TransitMazTazFlag,WalkSpeed,TransitSkimTimeIntervalLength,Transit_AB_Cost_Skim,Transit_AB_Time_Skim,transit_zone_candidates,three_link_walk)\n",
    "R=estimate_trip_reward(hh_num_trips,sorted_trips,Vehicular_Skim)\n",
    "print('start sovling problem at ',datetime.datetime.now())\n",
    "m1,x,T=dial_n_ride_model(num_hh_member,hh_num_trips,C,TT,sorted_trips,expected_arrival_time,early_penalty,late_penalty,early_penalty_threshold,late_penalty_threshold,R,share_ride_factor,output_flag,run_mode=)\n",
    "print('finish solving problem at ',datetime.datetime.now())\n",
    "route_info=extract_route_from_model_solution(x,T,sorted_trips,visit_candidate_zone,hh_num_trips,expected_arrival_time,expected_leave_time)\n",
    "print('extract solution at',datetime.datetime.now())\n",
    "route_info.to_csv('route_info_yingjie.csv')"
   ]
  },
  {
   "cell_type": "code",
   "execution_count": null,
   "metadata": {
    "collapsed": true
   },
   "outputs": [],
   "source": [
    "T_sol=np.ones(2*hh_num_trips+2)\n",
    "for i in range(2*hh_num_trips+2):\n",
    "#     print(int(T[i].x),'\\t',expected_arrival_time[i],'\\t',T[i].x-expected_arrival_time[i])\n",
    "    T_sol[i]=T[i].x\n",
    "schedule_deviation=T_sol-expected_arrival_time\n",
    "analysis_result(all_trips_route_info_partition,sorted_trips,Vehicular_Skim,schedule_deviation)"
   ]
  },
  {
   "cell_type": "markdown",
   "metadata": {},
   "source": [
    "#### Solve with the schedule partition heuristic"
   ]
  },
  {
   "cell_type": "code",
   "execution_count": null,
   "metadata": {
    "collapsed": true
   },
   "outputs": [],
   "source": [
    "def analysis_result(route_info,sorted_trips,Vehicular_Skim,schedule_deviation):\n",
    "    print('Number of CAV Trips',len(route_info))\n",
    "    print('Number of Occupied trips',len(route_info.loc[route_info.person_id>0]))\n",
    "    print('Number of unoccupied trips',len(route_info.loc[route_info.person_id==0]))\n",
    "    print('Number of pickup trips',len(route_info.loc[route_info.orig_node_index<=len(sorted_trips)]))\n",
    "    print('Number of shared trips',len(route_info.loc[(route_info.orig_node_index<=len(sorted_trips)) &(route_info.dest_node_index<=len(sorted_trips))]))\n",
    "    print('Number of convention car trips',len(sorted_trips.loc[sorted_trips.tripmode<=6]))\n",
    "    # Compare the VHT between convention vehicle and CAV\n",
    "    \n",
    "    total_convention_vehicle_driving_time=sorted_trips.loc[sorted_trips.tripmode<=6].apply(lambda row:estimate_single_car_trip_cost(row.orig_taz,row.dest_taz,row.starttime,row.value_of_time,Vehicular_Skim,2),axis=1).sum()\n",
    "    total_AV_driving_time=route_info.apply(lambda row: estimate_single_car_trip_cost(row.orig_zone,row.dest_zone,row.start_time,row.value_of_time,Vehicular_Skim,2),axis=1).sum()\n",
    "    total_AV_unoccupied_driving_time=route_info.loc[route_info.person_id==0].apply(lambda row: estimate_single_car_trip_cost(row.orig_zone,row.dest_zone,row.start_time,row.value_of_time,Vehicular_Skim,2),axis=1).sum()\n",
    "    print('Convention car trips VHT: \\t',total_convention_vehicle_driving_time/60,\n",
    "          '\\nAV driving time: \\t',total_AV_driving_time/60,\n",
    "          '\\nAV unoccupied driving_time: \\t',total_AV_unoccupied_driving_time/60)\n",
    "    # Compare the VMT between convention vehicle and CAV\n",
    "    total_convention_vehicle_driving_distance=sorted_trips.loc[sorted_trips.tripmode<=6].apply(lambda row: estimate_single_car_trip_cost(row.orig_taz,row.dest_taz,row.starttime,row.value_of_time,Vehicular_Skim,1),axis=1).sum()\n",
    "    total_AV_driving_distance=route_info.apply(lambda row:estimate_single_car_trip_cost(row.orig_zone,row.dest_zone,row.start_time,row.value_of_time,Vehicular_Skim,1) ,axis=1).sum()\n",
    "    total_AV_unoccupied_driving_distance=route_info.loc[route_info.person_id==0].apply(lambda row:estimate_single_car_trip_cost(row.orig_zone,row.dest_zone,row.start_time,row.value_of_time,Vehicular_Skim,1),axis=1).sum()\n",
    "    print('Convention VMT: \\t',total_convention_vehicle_driving_distance,\n",
    "          '\\nAV driving distance: \\t',total_AV_driving_distance,\n",
    "          '\\nAV unoccupied driving_distance: \\t',total_AV_unoccupied_driving_distance)\n",
    "    print('Number of delayed trips\\t',sum(1 for i in schedule_deviation if i >1))\n",
    "    print('Number of early trips\\t',sum(1 for i in schedule_deviation if i <-1))\n",
    "    print('Total delayed time\\t',sum(i for i in schedule_deviation if i >0))\n",
    "    print('Total_early_time\\t',sum(i for i in schedule_deviation if i <0))\n",
    "    plt.pyplot.figure(1,figsize=[2.3,10])\n",
    "    plot_route_info_schedule(route_info,sorted_trips)\n",
    "    return"
   ]
  },
  {
   "cell_type": "code",
   "execution_count": null,
   "metadata": {
    "collapsed": true
   },
   "outputs": [],
   "source": [
    "def plot_route_info_schedule(route_info,sorted_trips):\n",
    "#     z=traveler_trips[traveler_trips.hh_id==route_info.hh_id[0]]\n",
    "    sorted_trips.loc[:,'p_id']=sorted_trips.groupby(['person_id']).ngroup()\n",
    "    hh_num_trips=len(sorted_trips)\n",
    "    person_id_and_inhouse_p_id_map=dict(zip(sorted_trips.person_id,sorted_trips.p_id))\n",
    "    person_id_and_inhouse_p_id_map[0]=-1\n",
    "    route_info['p_id']=route_info.person_id.apply(lambda x: person_id_and_inhouse_p_id_map[x])\n",
    "    \n",
    "    plt.pyplot.scatter(route_info.loc[(route_info.p_id!=-1) & (route_info.orig_node_index<1+hh_num_trips),'p_id'],\n",
    "                route_info.loc[(route_info.p_id!=-1) & (route_info.orig_node_index<1+hh_num_trips),'origin_arrival_time'])\n",
    "    plt.pyplot.plot(route_info.loc[(route_info.p_id!=-1) & (route_info.orig_node_index<1+hh_num_trips),'p_id'],\n",
    "                    route_info.loc[(route_info.p_id!=-1) & (route_info.orig_node_index<1+hh_num_trips),'origin_arrival_time'])\n",
    "#     plt.pyplot.scatter(route_info.loc[(route_info.p_id!=-1) & (route_info.orig_node_index<1+hh_num_trips) & (route_info.dest_node_index<1+hh_num_trips),'p_id'],\n",
    "#                     route_info.loc[(route_info.p_id!=-1) & (route_info.orig_node_index<1+hh_num_trips) &(route_info.dest_node_index<1+hh_num_trips),'origin_arrival_time'])\n",
    "    plt.pyplot.xlabel('Traveler Index')\n",
    "    plt.pyplot.ylabel('Time')\n",
    "    plt.pyplot.grid()\n",
    "    plt.pyplot.xticks(np.arange(min(sorted_trips.p_id), max(sorted_trips.p_id)+1, 1))\n",
    "    plt.pyplot.yticks(np.arange(0,1441,30))\n",
    "#     plt.pyplot.title(title)\n",
    "    return "
   ]
  },
  {
   "cell_type": "markdown",
   "metadata": {},
   "source": [
    "#### All trips take CAV"
   ]
  },
  {
   "cell_type": "code",
   "execution_count": null,
   "metadata": {
    "collapsed": true,
    "scrolled": true
   },
   "outputs": [],
   "source": [
    "output_flag=1\n",
    "target_hh_id=2287301\n",
    "# target_hh_id=2744264\n",
    "min_length=15\n",
    "max_length=20\n",
    "run_mode=0\n",
    "reward_mode=0\n",
    "share_ride_factor=2\n",
    "time_window_flag=0\n",
    "single_model_runtime=60*3\n",
    "target_hh=traveler_trips[traveler_trips['hh_id']==target_hh_id].drop_duplicates(subset=['orig_maz','dest_maz','orig_purpose','dest_purpose','starttime','joint_trip_flag'])\n",
    "#Sort all trips based on start time. This step could reduce the solving time and make it easier to track\n",
    "sorted_trips=target_hh.sort_values(\"starttime\")\n",
    "#hh_index give an index to all trips within the household for tracking purpose\n",
    "hh_num_trips=sorted_trips.shape[0]\n",
    "sorted_trips[\"hh_index\"]=(range(hh_num_trips))\n",
    "all_trips_route_info_partition,all_trips_schedule_deviation=sod.solve_with_schedule_partition(sorted_trips,Vehicular_Skim,Transit_AB_Cost_Skim,superzone_map,min_length,max_length)"
   ]
  },
  {
   "cell_type": "code",
   "execution_count": null,
   "metadata": {
    "collapsed": true
   },
   "outputs": [],
   "source": []
  },
  {
   "cell_type": "code",
   "execution_count": null,
   "metadata": {
    "collapsed": true
   },
   "outputs": [],
   "source": [
    "analysis_result(all_trips_route_info_partition,sorted_trips,Vehicular_Skim,all_trips_schedule_deviation)"
   ]
  },
  {
   "cell_type": "markdown",
   "metadata": {},
   "source": [
    "#### Strict time window"
   ]
  },
  {
   "cell_type": "code",
   "execution_count": null,
   "metadata": {
    "collapsed": true
   },
   "outputs": [],
   "source": [
    "output_flag=1\n",
    "target_hh_id=2287301\n",
    "# target_hh_id=2744264\n",
    "min_length=15\n",
    "max_length=20\n",
    "run_mode=0\n",
    "reward_mode=2\n",
    "time_window_flag=1\n",
    "num_poav=2\n",
    "single_model_runtime=60*5\n",
    "target_hh=traveler_trips[traveler_trips['hh_id']==target_hh_id].drop_duplicates(subset=['orig_maz','dest_maz','orig_purpose','dest_purpose','starttime','joint_trip_flag'])\n",
    "#Sort all trips based on start time. This step could reduce the solving time and make it easier to track\n",
    "sorted_trips=target_hh.sort_values(\"starttime\")\n",
    "#hh_index give an index to all trips within the household for tracking purpose\n",
    "hh_num_trips=sorted_trips.shape[0]\n",
    "sorted_trips[\"hh_index\"]=(range(hh_num_trips))\n",
    "all_trips_route_info_stricttw,all_trips_schedule_deviation_stricttw=solve_with_schedule_partition(sorted_trips,Vehicular_Skim,Transit_AB_Cost_Skim,superzone_map,min_length,max_length)"
   ]
  },
  {
   "cell_type": "code",
   "execution_count": null,
   "metadata": {
    "collapsed": true
   },
   "outputs": [],
   "source": [
    "analysis_result(all_trips_route_info_stricttw,sorted_trips,Vehicular_Skim,all_trips_schedule_deviation_stricttw)"
   ]
  },
  {
   "cell_type": "markdown",
   "metadata": {},
   "source": [
    "##### Only car trips take CAV"
   ]
  },
  {
   "cell_type": "code",
   "execution_count": null,
   "metadata": {
    "collapsed": true
   },
   "outputs": [],
   "source": [
    "len(sorted_car_trips)"
   ]
  },
  {
   "cell_type": "code",
   "execution_count": null,
   "metadata": {
    "collapsed": true
   },
   "outputs": [],
   "source": [
    "output_flag=1\n",
    "target_hh_id=2287301\n",
    "# target_hh_id=2744264\n",
    "min_length=15\n",
    "max_length=20\n",
    "run_mode=0\n",
    "reward_mode=0\n",
    "time_window_flag=0\n",
    "single_model_runtime=60*3\n",
    "target_hh=traveler_trips[traveler_trips['hh_id']==target_hh_id].drop_duplicates(subset=['orig_maz','dest_maz','orig_purpose','dest_purpose','starttime','joint_trip_flag'])\n",
    "#Sort all trips based on start time. This step could reduce the solving time and make it easier to track\n",
    "sorted_trips=target_hh.sort_values(\"starttime\")\n",
    "sorted_car_trips=sorted_trips.loc[sorted_trips.tripmode<=6]\n",
    "#hh_index give an index to all trips within the household for tracking purpose\n",
    "hh_num_trips=sorted_car_trips.shape[0]\n",
    "sorted_car_trips[\"hh_index\"]=(range(hh_num_trips))\n",
    "car_trips_route_info_partition,car_trips_schedule_deviation=solve_with_schedule_partition(sorted_car_trips,Vehicular_Skim,Transit_AB_Cost_Skim,superzone_map,min_length,max_length)"
   ]
  },
  {
   "cell_type": "code",
   "execution_count": null,
   "metadata": {
    "collapsed": true
   },
   "outputs": [],
   "source": [
    "analysis_result(car_trips_route_info_partition,sorted_car_trips,Vehicular_Skim,car_trips_schedule_deviation)"
   ]
  },
  {
   "cell_type": "markdown",
   "metadata": {},
   "source": [
    "#### Ban Shared Rides"
   ]
  },
  {
   "cell_type": "code",
   "execution_count": null,
   "metadata": {
    "collapsed": true,
    "scrolled": true
   },
   "outputs": [],
   "source": [
    "output_flag=1\n",
    "target_hh_id=2287301\n",
    "# target_hh_id=2744264\n",
    "min_length=15\n",
    "max_length=20\n",
    "target_hh=traveler_trips[traveler_trips['hh_id']==target_hh_id].drop_duplicates(subset=['orig_maz','dest_maz','orig_purpose','dest_purpose','starttime','joint_trip_flag'])\n",
    "#Sort all trips based on start time. This step could reduce the solving time and make it easier to track\n",
    "sorted_trips=target_hh.sort_values(\"starttime\")\n",
    "# sorted_trips=sorted_trips.loc[sorted_trips.tripmode<=6]\n",
    "#hh_index give an index to all trips within the household for tracking purpose\n",
    "hh_num_trips=sorted_trips.shape[0]\n",
    "sorted_trips[\"hh_index\"]=(range(hh_num_trips))\n",
    "all_trips_route_info_ban_sharerides,all_trips_schedule_deviation_ban_sharerides=solve_with_schedule_partition(sorted_trips,Vehicular_Skim,Transit_AB_Cost_Skim,superzone_map,min_length,max_length)"
   ]
  },
  {
   "cell_type": "code",
   "execution_count": null,
   "metadata": {
    "collapsed": true
   },
   "outputs": [],
   "source": [
    "analysis_result(all_trips_route_info_ban_sharerides,sorted_trips,Vehicular_Skim,all_trips_schedule_deviation_ban_sharerides)"
   ]
  },
  {
   "cell_type": "markdown",
   "metadata": {},
   "source": [
    "#### Share ride factor 1.25"
   ]
  },
  {
   "cell_type": "code",
   "execution_count": null,
   "metadata": {
    "collapsed": true
   },
   "outputs": [],
   "source": [
    "output_flag=1\n",
    "target_hh_id=2287301\n",
    "# target_hh_id=2744264\n",
    "min_length=15\n",
    "max_length=20\n",
    "share_ride_factor=1.25\n",
    "target_hh=traveler_trips[traveler_trips['hh_id']==target_hh_id].drop_duplicates(subset=['orig_maz','dest_maz','orig_purpose','dest_purpose','starttime','joint_trip_flag'])\n",
    "#Sort all trips based on start time. This step could reduce the solving time and make it easier to track\n",
    "sorted_trips=target_hh.sort_values(\"starttime\")\n",
    "# sorted_trips=sorted_trips.loc[sorted_trips.tripmode<=6]\n",
    "#hh_index give an index to all trips within the household for tracking purpose\n",
    "hh_num_trips=sorted_trips.shape[0]\n",
    "sorted_trips[\"hh_index\"]=(range(hh_num_trips))\n",
    "all_trips_route_info_sharerides125,all_trips_schedule_deviation_sharerides125=solve_with_schedule_partition(sorted_trips,Vehicular_Skim,Transit_AB_Cost_Skim,superzone_map,min_length,max_length)"
   ]
  },
  {
   "cell_type": "code",
   "execution_count": null,
   "metadata": {
    "collapsed": true,
    "scrolled": true
   },
   "outputs": [],
   "source": [
    "analysis_result(all_trips_route_info_sharerides125,sorted_trips,Vehicular_Skim,all_trips_schedule_deviation_sharerides125)"
   ]
  },
  {
   "cell_type": "code",
   "execution_count": null,
   "metadata": {
    "collapsed": true,
    "scrolled": false
   },
   "outputs": [],
   "source": [
    "plt.pyplot.figure(1,figsize=[21,10])\n",
    "plt.pyplot.subplot(141)\n",
    "plt.pyplot.scatter(sorted_trips.person_id.apply(lambda x: person_id_and_inhouse_p_id_map[x]),sorted_trips.starttime)\n",
    "plt.pyplot.scatter(sorted_trips.loc[(sorted_trips.tripmode<=6),'p_id'],\n",
    "                   sorted_trips.loc[(sorted_trips.tripmode<=6),'starttime'],\n",
    "                   c='r')\n",
    "plt.pyplot.xlabel('Traveler Index')\n",
    "plt.pyplot.ylabel('Time')\n",
    "plt.pyplot.grid()\n",
    "plt.pyplot.xticks(np.arange(min(sorted_trips.p_id), max(sorted_trips.p_id)+1, 1))\n",
    "plt.pyplot.yticks(np.arange(0,1441,30))\n",
    "plt.pyplot.subplot(142)\n",
    "plot_route_info_schedule(car_trips_route_info_partition,sorted_car_trips)\n",
    "plt.pyplot.subplot(143)\n",
    "plot_route_info_schedule(all_trips_route_info_partition,sorted_trips)\n",
    "plt.pyplot.subplot(144)\n",
    "plot_route_info_schedule(all_trips_route_info_ban_sharerides,sorted_trips)"
   ]
  },
  {
   "cell_type": "markdown",
   "metadata": {},
   "source": [
    "#### Probability Mode Choice"
   ]
  },
  {
   "cell_type": "code",
   "execution_count": null,
   "metadata": {
    "collapsed": true
   },
   "outputs": [],
   "source": [
    "drivingcost_per_mile=1\n",
    "transit_fare=1.4\n",
    "transit_asc=2"
   ]
  },
  {
   "cell_type": "code",
   "execution_count": null,
   "metadata": {
    "collapsed": true
   },
   "outputs": [],
   "source": [
    "output_flag=1\n",
    "target_hh_id=2287301\n",
    "# target_hh_id=2744264\n",
    "min_length=15\n",
    "max_length=20\n",
    "run_mode=1\n",
    "share_ride_factor=1.5\n",
    "target_hh=traveler_trips[traveler_trips['hh_id']==target_hh_id].drop_duplicates(subset=['orig_maz','dest_maz','orig_purpose','dest_purpose','starttime','joint_trip_flag'])\n",
    "#Sort all trips based on start time. This step could reduce the solving time and make it easier to track\n",
    "sorted_trips=target_hh.sort_values(\"starttime\")\n",
    "# sorted_trips=sorted_trips.loc[sorted_trips.tripmode<=6]\n",
    "#hh_index give an index to all trips within the household for tracking purpose\n",
    "hh_num_trips=sorted_trips.shape[0]\n",
    "sorted_trips[\"hh_index\"]=(range(hh_num_trips))\n",
    "mode_choice_route_info,mode_choice_schedule_deviation=solve_with_schedule_partition(sorted_trips,Vehicular_Skim,Transit_AB_Cost_Skim,superzone_map,min_length,max_length)"
   ]
  },
  {
   "cell_type": "code",
   "execution_count": null,
   "metadata": {
    "collapsed": true
   },
   "outputs": [],
   "source": [
    "sorted_trips=compare_mode_utlity(sorted_trips)"
   ]
  },
  {
   "cell_type": "code",
   "execution_count": null,
   "metadata": {
    "collapsed": true
   },
   "outputs": [],
   "source": [
    "min_length=15\n",
    "max_length=20\n",
    "run_mode=0\n",
    "share_ride_factor=1.5\n",
    "force_serve_factor=1\n",
    "car_sorted_trips=sorted_trips.loc[sorted_trips.expected_mode=='Car']\n",
    "# sorted_trips=sorted_trips.loc[sorted_trips.tripmode<=6]\n",
    "#hh_index give an index to all trips within the household for tracking purpose\n",
    "hh_num_trips=sorted_trips.shape[0]\n",
    "sorted_trips[\"hh_index\"]=(range(hh_num_trips))\n",
    "car_only_mode_choice_route_info,car_only_mode_choice_schedule_deviation=solve_with_schedule_partition(car_sorted_trips,Vehicular_Skim,Transit_AB_Cost_Skim,superzone_map,min_length,max_length)\n",
    "force_serve_factor=0"
   ]
  },
  {
   "cell_type": "code",
   "execution_count": null,
   "metadata": {
    "collapsed": true,
    "scrolled": true
   },
   "outputs": [],
   "source": [
    "sorted_trips[['transit_time','transit_walk_time','car_time','toll_cost','car_dist','transit_utility','car_utility','expected_mode','actual_mode','value_of_time']]"
   ]
  },
  {
   "cell_type": "code",
   "execution_count": null,
   "metadata": {
    "collapsed": true,
    "scrolled": true
   },
   "outputs": [],
   "source": [
    "# sub_sorted_trips=[item for sublist in schedule_partition(sorted_trips,Vehicular_Skim,min_length,max_length) for item in sublist]\n",
    "# sub_sorted_trips=flatten(schedule_partition(sorted_trips,Vehicular_Skim,min_length,max_length))\n",
    "# route_info=pd.DataFrame()\n",
    "\n",
    "# total_previous_sub_trips_length=0\n",
    "# total_tailing_sub_trips_length=0\n",
    "# schedule_deviation=[]\n",
    "# x_list=[]\n",
    "# for sub_sorted_trip in sub_sorted_trips:\n",
    "\n",
    "#     num_hh_member,hh_num_trips,C,TT,expected_arrival_time,expected_leave_time,early_penalty,late_penalty,early_penalty_threshold,late_penalty_threshold,visit_candidate_zone=extract_hh_information(sub_sorted_trip,Vehicular_Skim,Transit_AB_Cost_Skim,superzone_map)\n",
    "#     # R=estimate_transit_cost(sorted_trips,TransitMazTazFlag,WalkSpeed,TransitSkimTimeIntervalLength,Transit_AB_Cost_Skim,Transit_AB_Time_Skim,transit_zone_candidates,three_link_walk)\n",
    "#     R=estimate_trip_reward(hh_num_trips,sub_sorted_trip,Vehicular_Skim)\n",
    "#     print('start sovling problem at ',datetime.datetime.now())\n",
    "#     m1,x,T=dial_n_ride_model(num_hh_member,hh_num_trips,C,TT,sub_sorted_trip,expected_arrival_time,early_penalty,late_penalty,early_penalty_threshold,late_penalty_threshold,R,output_flag)\n",
    "#     x_list.extend([x])\n",
    "#     print('finish solving problem at ',datetime.datetime.now())\n",
    "#     sub_route_info=extract_route_from_model_solution(x,T,sub_sorted_trip,visit_candidate_zone,hh_num_trips,expected_arrival_time,expected_leave_time)\n",
    "#     total_tailing_sub_trips_length=len(sorted_trips)-total_previous_sub_trips_length-len(sub_sorted_trip)\n",
    "#     sub_route_info['orig_node_index']=sub_route_info.orig_node_index.apply(lambda x: x+total_previous_sub_trips_length if x<=hh_num_trips else x+2*total_previous_sub_trips_length+total_tailing_sub_trips_length) \n",
    "#     sub_route_info['dest_node_index']=sub_route_info.dest_node_index.apply(lambda x: x+total_previous_sub_trips_length if x<=hh_num_trips else x+2*total_previous_sub_trips_length+total_tailing_sub_trips_length) \n",
    "#     total_previous_sub_trips_length=total_previous_sub_trips_length+len(sub_sorted_trip)\n",
    "#     route_info=route_info.append(sub_route_info)\n",
    "# #         for index, row in route_info.iterrows():\n",
    "# #             print(route_info.dest_expected_arrival_time,'\\t',row.dest_arrival_time,'\\t',row.start_time,'\\t',T[row.dest_node_index].x)\n",
    "# #         #Estimate the delay and early arrival\n",
    "# T_sol=np.ones(2*hh_num_trips+2)\n",
    "# for i in range(2*hh_num_trips+2):\n",
    "# #     print(int(T[i].x),'\\t',expected_arrival_time[i],'\\t',T[i].x-expected_arrival_time[i])\n",
    "#     T_sol[i]=T[i].x\n",
    "#     print(T_sol[i],expected_arrival_time[i])\n",
    "# schedule_deviation.extend(T_sol-expected_arrival_time)"
   ]
  },
  {
   "cell_type": "code",
   "execution_count": null,
   "metadata": {
    "collapsed": true
   },
   "outputs": [],
   "source": [
    "sorted_trips.loc[:,'p_id']=sorted_trips.groupby(['person_id']).ngroup()\n",
    "hh_num_trips=len(sorted_trips)\n",
    "person_id_and_inhouse_p_id_map=dict(zip(sorted_trips.person_id,sorted_trips.p_id))\n",
    "person_id_and_inhouse_p_id_map[0]=-1\n",
    "plt.pyplot.figure(1,figsize=[21,10])\n",
    "plt.pyplot.subplot(141)\n",
    "plot_route_info_schedule(car_only_mode_choice_route_info,car_sorted_trips)\n",
    "z1=[sorted_trips.iloc[i-1].p_id for i in temp3]\n",
    "z2=[sorted_trips.iloc[i-1].starttime for i in temp3]\n",
    "print(z1,z2)\n",
    "plt.pyplot.scatter(z1,z2)"
   ]
  },
  {
   "cell_type": "code",
   "execution_count": null,
   "metadata": {
    "collapsed": true
   },
   "outputs": [],
   "source": [
    "analysis_result(mode_choice_route_info,sorted_trips,Vehicular_Skim,mode_choice_schedule_deviation)"
   ]
  },
  {
   "cell_type": "code",
   "execution_count": null,
   "metadata": {
    "collapsed": true,
    "scrolled": true
   },
   "outputs": [],
   "source": [
    "sub_sorted_trips=flatten(schedule_partition(sorted_trips,Vehicular_Skim,min_length,max_length))\n",
    "#     route_info=pd.DataFrame()\n",
    "for sub_sorted_trip in sub_sorted_trips:\n",
    "#     sub_sorted_trip=sub_sorted_trips[1]\n",
    "    num_hh_member,hh_num_trips,C,TT,expected_arrival_time,expected_leave_time,early_penalty,late_penalty,early_penalty_threshold,late_penalty_threshold,visit_candidate_zone=extract_hh_information(sub_sorted_trip,Vehicular_Skim,Transit_AB_Cost_Skim,superzone_map)\n",
    "    # R=estimate_transit_cost(sorted_trips,TransitMazTazFlag,WalkSpeed,TransitSkimTimeIntervalLength,Transit_AB_Cost_Skim,Transit_AB_Time_Skim,transit_zone_candidates,three_link_walk)\n",
    "    # R=np.ones(hh_num_trips+1)*10\n",
    "    R=estimate_trip_reward(hh_num_trips,sub_sorted_trip,Vehicular_Skim)\n",
    "    print('start sovling problem at ',datetime.datetime.now())\n",
    "    m1,x,T=dial_n_ride_model(num_hh_member,hh_num_trips,C,TT,sub_sorted_trip,expected_arrival_time,early_penalty,late_penalty,early_penalty_threshold,late_penalty_threshold,R,share_ride_factor,output_flag,run_mode)\n",
    "    print('finish solving problem at ',datetime.datetime.now())\n",
    "    sub_route_info_temp=extract_route_from_model_solution(x,T,sub_sorted_trip,visit_candidate_zone,hh_num_trips,expected_arrival_time,expected_leave_time)\n",
    "    \n",
    "    T_sol=np.ones(2*hh_num_trips+2)\n",
    "    for i in range(2*hh_num_trips+2):\n",
    "    #     print(int(T[i].x),'\\t',expected_arrival_time[i],'\\t',T[i].x-expected_arrival_time[i])\n",
    "        T_sol[i]=T[i].x\n",
    "    schedule_deviation.extend(T_sol-expected_arrival_time)\n",
    "    analysis_result(sub_route_info_temp,sub_sorted_trips,Vehicular_Skim,schedule_deviation)"
   ]
  },
  {
   "cell_type": "code",
   "execution_count": null,
   "metadata": {
    "collapsed": true
   },
   "outputs": [],
   "source": [
    "analysis_result(sub_route_info,sub_sorted_trip,Vehicular_Skim,schedule_deviation)"
   ]
  },
  {
   "cell_type": "code",
   "execution_count": null,
   "metadata": {
    "collapsed": true,
    "scrolled": false
   },
   "outputs": [],
   "source": [
    "z=traveler_trips[traveler_trips.hh_id==2287301]\n",
    "z.loc[:,'p_id']=z.groupby(['person_id']).ngroup()\n",
    "z.loc[:,'expected_arrival']=z.starttime+z.travel_time\n",
    "person_id_and_inhouse_p_id_map=dict(zip(z.person_id,z.p_id))\n",
    "person_id_and_inhouse_p_id_map[0]=-1\n",
    "sorted_trips.loc[:,'p_id']=sorted_trips.person_id.apply(lambda x: person_id_and_inhouse_p_id_map[x])\n",
    "route_info['p_id']=route_info.person_id.apply(lambda x: person_id_and_inhouse_p_id_map[x])\n",
    "route_info_partition['p_id']=route_info_partition.person_id.apply(lambda x: person_id_and_inhouse_p_id_map[x])\n",
    "\n",
    "plt.pyplot.figure(1,figsize=[21,14])\n",
    "plt.pyplot.subplot(131)\n",
    "plt.pyplot.scatter(sorted_trips.person_id.apply(lambda x: person_id_and_inhouse_p_id_map[x]),sorted_trips.starttime)\n",
    "\n",
    "# plt.pyplot.scatter(z.person_id.apply(lambda x: person_id_and_inhouse_p_id_map[x]),z.starttime,marker='o',facecolors='none', edgecolors='r')\n",
    "\n",
    "# plt.pyplot.plot(route_info.loc[(route_info.p_id!=-1) & (route_info.orig_node_index<1+hh_num_trips),'p_id'],\n",
    "#                 route_info.loc[(route_info.p_id!=-1) & (route_info.orig_node_index<1+hh_num_trips),'start_time']\n",
    "#                )\n",
    "plt.pyplot.scatter(sorted_trips.loc[(sorted_trips.tripmode<=6),'p_id'],\n",
    "                   sorted_trips.loc[(sorted_trips.tripmode<=6),'starttime'],\n",
    "                   c='r')\n",
    "plt.pyplot.xlabel('Traveler Index')\n",
    "plt.pyplot.ylabel('Time')\n",
    "plt.pyplot.grid()\n",
    "plt.pyplot.xticks(np.arange(min(sorted_trips.p_id), max(sorted_trips.p_id)+1, 1))\n",
    "plt.pyplot.yticks(np.arange(0,1441,30))\n",
    "plt.pyplot.subplot(132)\n",
    "# plt.pyplot.scatter(sorted_trips.person_id.apply(lambda x: person_id_and_inhouse_p_id_map[x]),sorted_trips.starttime)\n",
    "# plt.pyplot.scatter(sorted_trips.loc[(sorted_trips.tripmode<=6),'p_id'],\n",
    "#                    sorted_trips.loc[(sorted_trips.tripmode<=6),'starttime'],\n",
    "#                    c='r')\n",
    "\n",
    "plt.pyplot.scatter(route_info.loc[(route_info.p_id!=-1) & (route_info.orig_node_index<=1+hh_num_trips),'p_id'],\n",
    "                route_info.loc[(route_info.p_id!=-1) & (route_info.orig_node_index<=1+hh_num_trips),'origin_arrival_time'])\n",
    "plt.pyplot.plot(route_info.loc[(route_info.p_id!=-1) & (route_info.orig_node_index<=1+hh_num_trips),'p_id'],\n",
    "                route_info.loc[(route_info.p_id!=-1) & (route_info.orig_node_index<=1+hh_num_trips),'origin_arrival_time'])\n",
    "plt.pyplot.grid()\n",
    "plt.pyplot.xticks(np.arange(min(sorted_trips.p_id), max(sorted_trips.p_id)+1, 1))\n",
    "plt.pyplot.yticks(np.arange(0,1441,30))\n",
    "plt.pyplot.subplot(133)\n",
    "plt.pyplot.scatter(route_info_partition.loc[(route_info_partition.p_id!=-1) & (route_info_partition.orig_node_index<=1+hh_num_trips),'p_id'],\n",
    "                route_info_partition.loc[(route_info_partition.p_id!=-1) & (route_info_partition.orig_node_index<=1+hh_num_trips),'origin_arrival_time'])\n",
    "plt.pyplot.plot(route_info_partition.loc[(route_info_partition.p_id!=-1) & (route_info_partition.orig_node_index<=1+hh_num_trips),'p_id'],\n",
    "                route_info_partition.loc[(route_info_partition.p_id!=-1) & (route_info_partition.orig_node_index<=1+hh_num_trips),'origin_arrival_time'])\n",
    "\n",
    "plt.pyplot.xlabel('Traveler Index')\n",
    "plt.pyplot.ylabel('Time')\n",
    "plt.pyplot.grid()\n",
    "plt.pyplot.xticks(np.arange(min(sorted_trips.p_id), max(sorted_trips.p_id)+1, 1))\n",
    "plt.pyplot.yticks(np.arange(0,1441,30))"
   ]
  },
  {
   "cell_type": "code",
   "execution_count": null,
   "metadata": {
    "collapsed": true
   },
   "outputs": [],
   "source": [
    "sorted_trips=target_hh.sort_values(\"starttime\")\n",
    "sub_sorted_trips=[item for sublist in schedule_partition(sorted_trips,Vehicular_Skim,min_length,max_length) for item in sublist]"
   ]
  },
  {
   "cell_type": "code",
   "execution_count": null,
   "metadata": {
    "collapsed": true
   },
   "outputs": [],
   "source": []
  },
  {
   "cell_type": "code",
   "execution_count": null,
   "metadata": {
    "collapsed": true
   },
   "outputs": [],
   "source": [
    "plot_route_info_schedule(sub_route_info,traveler_trips)"
   ]
  },
  {
   "cell_type": "code",
   "execution_count": null,
   "metadata": {
    "collapsed": true
   },
   "outputs": [],
   "source": [
    "sub_route_info.groupby('person_id').count()"
   ]
  },
  {
   "cell_type": "code",
   "execution_count": null,
   "metadata": {
    "collapsed": true
   },
   "outputs": [],
   "source": [
    "sub_sorted_trip.groupby('person_id').count()"
   ]
  },
  {
   "cell_type": "code",
   "execution_count": null,
   "metadata": {
    "collapsed": true
   },
   "outputs": [],
   "source": [
    "sub_route_info"
   ]
  },
  {
   "cell_type": "markdown",
   "metadata": {},
   "source": [
    "##### Solve the problem for all households"
   ]
  },
  {
   "cell_type": "code",
   "execution_count": null,
   "metadata": {
    "collapsed": true,
    "scrolled": true
   },
   "outputs": [],
   "source": [
    "route_infos=get_route_info_allhh(traveler_trips,0)"
   ]
  },
  {
   "cell_type": "code",
   "execution_count": null,
   "metadata": {
    "collapsed": true
   },
   "outputs": [],
   "source": [
    "route_infos.to_csv('Output/route_infos_fullconversion_lessthan40triphh.csv')"
   ]
  },
  {
   "cell_type": "code",
   "execution_count": null,
   "metadata": {
    "collapsed": true
   },
   "outputs": [],
   "source": [
    "route_infos.to_csv('Output/route_infos_partconversion.csv')"
   ]
  },
  {
   "cell_type": "code",
   "execution_count": null,
   "metadata": {
    "collapsed": true,
    "scrolled": true
   },
   "outputs": [],
   "source": [
    "route_infos_full_adoption=pd.read_csv('D:/alex/Autonomous-V-demand/Output/route_infos_fullconversion.csv')\n",
    "route_infos_part_adoption=pd.read_csv('D:/alex/Autonomous-V-demand/Output/route_infos_partconversion.csv')"
   ]
  },
  {
   "cell_type": "code",
   "execution_count": null,
   "metadata": {
    "collapsed": true
   },
   "outputs": [],
   "source": [
    "route_infos_full_adoption.head()"
   ]
  },
  {
   "cell_type": "markdown",
   "metadata": {},
   "source": [
    "#### Compare the new route with the old one"
   ]
  },
  {
   "cell_type": "code",
   "execution_count": null,
   "metadata": {
    "collapsed": true
   },
   "outputs": [],
   "source": [
    "initial_trips=traveler_trips.drop_duplicates(subset=['hh_id','orig_maz','dest_maz','orig_purpose','dest_purpose','starttime'])\n",
    "len1=[]\n",
    "len2=[]\n",
    "origin_num_car_trips=[]\n",
    "num_empty_car_trips=[]\n",
    "num_initial_car_trips=0\n",
    "for name, group in route_infos_full_adoption.groupby(['hh_id']):\n",
    "    num_initial_car_trips=num_initial_car_trips+len(initial_trips.loc[(initial_trips.hh_id==name) & ((initial_trips.tripmode<=6) | (initial_trips.tripmode==13))])\n",
    "#     len1.extend([len(group)])\n",
    "#     len2.extend([len(initial_trips.loc[initial_trips.hh_id==name])])\n",
    "#     origin_num_car_trips.extend([len(initial_trips.loc[(initial_trips.tripmode<=6) | (initial_trips.tripmode==13)])])\n",
    "#     num_empty_car_trips.extend([len(group[group.person_id==0])])"
   ]
  },
  {
   "cell_type": "code",
   "execution_count": null,
   "metadata": {
    "collapsed": true
   },
   "outputs": [],
   "source": [
    "zz=traveler_trips.drop_duplicates(subset=['hh_id','orig_maz','dest_maz','orig_purpose','dest_purpose','starttime']).groupby('hh_id').count() "
   ]
  },
  {
   "cell_type": "code",
   "execution_count": null,
   "metadata": {
    "collapsed": true
   },
   "outputs": [],
   "source": [
    "zz1=traveler_trips.groupby('hh_id').count() "
   ]
  },
  {
   "cell_type": "code",
   "execution_count": null,
   "metadata": {
    "collapsed": true
   },
   "outputs": [],
   "source": [
    "traveler_trips.columns"
   ]
  },
  {
   "cell_type": "code",
   "execution_count": null,
   "metadata": {
    "collapsed": true
   },
   "outputs": [],
   "source": [
    "zz[zz.person_id>30].person_id.sum()"
   ]
  },
  {
   "cell_type": "code",
   "execution_count": null,
   "metadata": {
    "collapsed": true
   },
   "outputs": [],
   "source": [
    "print('The new route plan has ',sum(len1),' trips')\n",
    "print('The origin trip plan has ',sum(len2),' trips')\n",
    "print('The origin trip plan has',len(initial_trips.loc[initial_trips.tripmode<=6]),'car trips')\n",
    "print('The origin trip plan has',len(initial_trips.loc[initial_trips.tripmode==13]),'taxi trips')\n",
    "print('The new route plan has',sum(num_empty_car_trips),'empty car trips')"
   ]
  },
  {
   "cell_type": "markdown",
   "metadata": {},
   "source": [
    "### Route result analysis"
   ]
  },
  {
   "cell_type": "markdown",
   "metadata": {},
   "source": [
    "##### Estimate how many trips are satisfied"
   ]
  },
  {
   "cell_type": "code",
   "execution_count": null,
   "metadata": {
    "collapsed": true
   },
   "outputs": [],
   "source": [
    "route_infos.head()"
   ]
  },
  {
   "cell_type": "code",
   "execution_count": null,
   "metadata": {
    "collapsed": true
   },
   "outputs": [],
   "source": [
    "def calculate_num_pick_up_trips(route_infos,traveler_trips):\n",
    "    total_num_pickup_trip=0\n",
    "    total_num_joint_trip=0\n",
    "    for target_hh_id in route_infos.hh_id.unique():\n",
    "        target_hh=traveler_trips[traveler_trips['hh_id']==target_hh_id].drop_duplicates(subset=['orig_maz','dest_maz','orig_purpose','dest_purpose','starttime'])\n",
    "        #Sort all trips based on start time. This step could reduce the solving time and make it easier to track\n",
    "        sorted_trips=target_hh.sort_values(\"starttime\")\n",
    "        hh_num_trips=len(sorted_trips)\n",
    "        total_num_pickup_trip=total_num_pickup_trip+len(route_infos.loc[(route_infos.hh_id==target_hh_id)& (route_infos.orig_node_index<hh_num_trips)])\n",
    "        total_num_joint_trip=total_num_joint_trip+len(route_infos.loc[(route_infos.hh_id==target_hh_id)& (route_infos.orig_node_index<hh_num_trips)& (route_infos.dest_node_index<hh_num_trips)])\n",
    "    return total_num_pickup_trip,total_num_joint_trip\n",
    "    #     print(target_hh_id)"
   ]
  },
  {
   "cell_type": "code",
   "execution_count": null,
   "metadata": {
    "collapsed": true
   },
   "outputs": [],
   "source": [
    "# Calculate the number of trips with/without passenger\n",
    "full_adoption_num_pickup,full_adoption_extra_joint=calculate_num_pick_up_trips(route_infos_full_adoption,traveler_trips)\n",
    "full_adoption_empty_trips=len(route_infos_full_adoption.loc[route_infos_full_adoption.person_id==0])\n",
    "partial_adoption_num_pickup,partial_adoption_extra_joint=calculate_num_pick_up_trips(route_infos_part_adoption,traveler_trips)\n",
    "partial_adoption_empty_trips=len(route_infos_part_adoption.loc[route_infos_part_adoption.person_id==0])"
   ]
  },
  {
   "cell_type": "code",
   "execution_count": null,
   "metadata": {
    "collapsed": true
   },
   "outputs": [],
   "source": [
    "full_adoption_num_pickup"
   ]
  },
  {
   "cell_type": "code",
   "execution_count": null,
   "metadata": {
    "collapsed": true
   },
   "outputs": [],
   "source": [
    "partial_adoption_num_pickup"
   ]
  },
  {
   "cell_type": "code",
   "execution_count": null,
   "metadata": {
    "collapsed": true
   },
   "outputs": [],
   "source": [
    "full_adoption_extra_joint"
   ]
  },
  {
   "cell_type": "code",
   "execution_count": null,
   "metadata": {
    "collapsed": true
   },
   "outputs": [],
   "source": [
    "len(route_infos_part_adoption)"
   ]
  },
  {
   "cell_type": "code",
   "execution_count": null,
   "metadata": {
    "collapsed": true
   },
   "outputs": [],
   "source": [
    "partial_adoption_extra_joint"
   ]
  },
  {
   "cell_type": "code",
   "execution_count": null,
   "metadata": {
    "collapsed": true,
    "scrolled": true
   },
   "outputs": [],
   "source": [
    "print('The full conversion plan pickup ',full_adoption_num_pickup,'trips (',round(full_adoption_num_pickup/sum(len2),2),')out of ',sum(len2))\n",
    "print('The full conversion plan incurs ', full_adoption_empty_trips,'empty trips. The ratio beween empty and occupy trips is', full_adoption_empty_trips/full_adoption_num_pickup)\n",
    "print('The partial conversion plan pickup ',partial_adoption_num_pickup,'trips (',round(partial_adoption_num_pickup/sum(len2),2),')out of ',sum(len2))\n",
    "print('The partial conversion plan incurs ', partial_adoption_empty_trips,'empty trips. The ratio beween empty and occupy trips is' ,partial_adoption_empty_trips/partial_adoption_num_pickup)"
   ]
  },
  {
   "cell_type": "code",
   "execution_count": null,
   "metadata": {
    "collapsed": true
   },
   "outputs": [],
   "source": [
    "route_infos_full_adoption.columns"
   ]
  },
  {
   "cell_type": "code",
   "execution_count": null,
   "metadata": {
    "collapsed": true
   },
   "outputs": [],
   "source": [
    "z=route_infos_full_adoption.groupby('hh_id').apply(lambda x: (x==0).sum())"
   ]
  },
  {
   "cell_type": "code",
   "execution_count": null,
   "metadata": {
    "collapsed": true
   },
   "outputs": [],
   "source": [
    "z['num_hh_member']=traveler_trips.groupby('hh_id')['person_id'].nunique()"
   ]
  },
  {
   "cell_type": "code",
   "execution_count": null,
   "metadata": {
    "collapsed": true
   },
   "outputs": [],
   "source": [
    "def plot_num_trips_by_timeinterval(route_infos):\n",
    "    route_infos['occupy_flag']=['Occupied' if x >0 else 'Empty' for x in route_infos['person_id']]\n",
    "    route_infos['start_time_interval']=[math.floor(x/36) for x in route_infos['start_time']]\n",
    "    z=route_infos.groupby(['start_time_interval', 'occupy_flag'])['start_time'].count().unstack('occupy_flag').fillna(0)\n",
    "#     fig, axes = plt.pyplot.subplots(nrows=1 ,ncols=1,figsize=(16,6))\n",
    "    \n",
    "    z[['Occupied','Empty']].plot(kind='bar',stacked=True,figsize=(16,6))\n",
    "    z['Empty_percentage']=z['Empty']/(z['Occupied']+z['Empty'])\n",
    "#     z['Empty_percentage'].plot(kind='bar',ax=axes[1])\n",
    "    return z"
   ]
  },
  {
   "cell_type": "code",
   "execution_count": null,
   "metadata": {
    "collapsed": true
   },
   "outputs": [],
   "source": [
    "z1=plot_num_trips_by_timeinterval(route_infos_full_adoption)"
   ]
  },
  {
   "cell_type": "code",
   "execution_count": null,
   "metadata": {
    "collapsed": true
   },
   "outputs": [],
   "source": [
    "z2=plot_num_trips_by_timeinterval(route_infos_part_adoption)"
   ]
  },
  {
   "cell_type": "code",
   "execution_count": null,
   "metadata": {
    "collapsed": true
   },
   "outputs": [],
   "source": []
  },
  {
   "cell_type": "code",
   "execution_count": null,
   "metadata": {
    "collapsed": true
   },
   "outputs": [],
   "source": [
    "fig = plt.pyplot.figure()\n",
    "ax = fig.add_subplot(111)\n",
    "ax2 = ax.twinx()\n",
    "z1.Empty_percentage.plot(kind='bar',ax=ax,color='r',position=0)\n",
    "z2.Empty_percentage.plot(kind='bar',ax=ax2,color='blue',position=1)"
   ]
  },
  {
   "cell_type": "markdown",
   "metadata": {},
   "source": [
    "#### Write the route to DYNASMART input file vehicle.dat"
   ]
  },
  {
   "cell_type": "code",
   "execution_count": null,
   "metadata": {
    "collapsed": true
   },
   "outputs": [],
   "source": [
    "vehicledat_filepath='Output/vehicle_partconversion.dat'\n",
    "path_filepath='Output/path_partconversion.dat'"
   ]
  },
  {
   "cell_type": "code",
   "execution_count": null,
   "metadata": {
    "collapsed": true
   },
   "outputs": [],
   "source": [
    "def read_vehicledat(vehicledat_filepath):\n",
    "    '''\n",
    "    This function read all sort of vehicledat file. It returns a dataframe vehicle_info that \n",
    "    contains all the information. Each row is corresponding to one vehicle in the vehicle.dat. \n",
    "    \n",
    "    '''\n",
    "    feature_list=['counter','iutmp','idtmp','StartTime','ivcltmp','ivcl2tmp','ihovtmp','veh_pathnodenum','NonrepetitiveCarNumTrip','infotmp','ribftmp','comptmp','TAZMap','value_of_time','value']\n",
    "    i=0 #line number of vehicle.dat\n",
    "    j=0 #line number of vehicle_info\n",
    "    dest_chain=[]\n",
    "    activity_chain=[]\n",
    "    with open(vehicledat_filepath) as f: #Open the file\n",
    "        for line in f:\n",
    "            if i ==0: #Read the num_vehicle and max number of unit from the first line\n",
    "                num_vehicle=int(line.split()[0])\n",
    "                max_num_trips=int(line.split()[1])\n",
    "                vehicle_info = pd.DataFrame(0,index=np.arange(num_vehicle), columns=feature_list)\n",
    "            elif i >1:\n",
    "                if (len(line)>30): #If the line is the first line of a vehicle, read the general information about vehicle\n",
    "                    vehicle_info.iloc[j]=[float(k) for k in line.split()]\n",
    "                    dest_chain.append([])\n",
    "                    activity_chain.append([])\n",
    "                    j=j+1\n",
    "                else:\n",
    "                    taz_temp,activity_time=line.split()\n",
    "                    dest_chain[j-1].extend([taz_temp])\n",
    "                    activity_chain[j-1].extend([activity_time])\n",
    "                    \n",
    "            i=i+1\n",
    "        vehicle_info['dest_chain']=dest_chain\n",
    "        vehicle_info['activity_time']=activity_chain\n",
    "    return vehicle_info\n",
    "def read_pathdat(pathdat_filepath):\n",
    "    path_bank=[]\n",
    "    with open(pathdat_filepath) as f:\n",
    "        for line in f:\n",
    "            path_bank.append([int(i) for i in line.split()])\n",
    "    return path_bank"
   ]
  },
  {
   "cell_type": "code",
   "execution_count": null,
   "metadata": {
    "collapsed": true
   },
   "outputs": [],
   "source": [
    "def read_intrasuperzone_files(intrasuperzone_vehicle_filepath,intrasuperzone_path_filepath):\n",
    "    feature_list=['counter','iutmp','idtmp','StartTime','ivcltmp','ivcl2tmp','ihovtmp','veh_pathnodenum',\n",
    "                  'NonrepetitiveCarNumTrip','infotmp','ribftmp','comptmp','TAZMap','value_of_time','value']\n",
    "    i=0 #line number of vehicle.dat\n",
    "    j=0 #line number of vehicle_info\n",
    "    dest_chain=[]\n",
    "    activity_chain=[]\n",
    "    key=[]\n",
    "    with open(intrasuperzone_vehicle_filepath) as f: #Open the file\n",
    "        for line in f:\n",
    "            if i ==0: #Read the num_vehicle and max number of unit from the first line\n",
    "                num_vehicle=int(line.split()[0])\n",
    "                max_num_trips=int(line.split()[1])\n",
    "                vehicle_info = pd.DataFrame(0,index=np.arange(num_vehicle), columns=feature_list)\n",
    "            elif i >1:\n",
    "                if (len(line)>30): #If the line is the first line of a vehicle, read the general information about vehicle\n",
    "                    vehicle_info.iloc[j]=[float(k) for k in line.split()]\n",
    "                    \n",
    "                    j=j+1\n",
    "                else:\n",
    "                    taz_temp,activity_time=line.split()\n",
    "                    dest_chain.extend([taz_temp])\n",
    "                    activity_chain.extend([activity_time])\n",
    "                    key.append(tuple([int(vehicle_info.iloc[j-1]['TAZMap']),int(taz_temp)]))\n",
    "            i=i+1\n",
    "        print(dest_chain)\n",
    "        vehicle_info['dest_chain']=dest_chain\n",
    "        vehicle_info['activity_time']=activity_chain\n",
    "        \n",
    "    intrasuperzone_path=read_pathdat(intrasuperzone_path_filepath)\n",
    "    intrasuperzone_info=vehicle_info\n",
    "    intrasuperzone_info['path']=intrasuperzone_path\n",
    "    intrasuperzone_path_dic=dict(zip(tuple(key),intrasuperzone_path))\n",
    "    return intrasuperzone_info,intrasuperzone_path_dic"
   ]
  },
  {
   "cell_type": "code",
   "execution_count": null,
   "metadata": {
    "collapsed": true
   },
   "outputs": [],
   "source": [
    "intrasuperzone_vehicle_filepath='Input/intrasuperzone_vehicle.dat'\n",
    "intrasuperzone_path_filepath='Input/intrasuperzone_path.dat'\n",
    "intrasuperzone_info,intrasuperzone_path_dic=read_intrasuperzone_files(intrasuperzone_vehicle_filepath,intrasuperzone_path_filepath)"
   ]
  },
  {
   "cell_type": "code",
   "execution_count": null,
   "metadata": {
    "collapsed": true
   },
   "outputs": [],
   "source": [
    "Output_folder='Output/'\n",
    "if not os.path.exists(Output_folder):\n",
    "    os.makedirs(Output_folder)\n",
    "vehicle_filepath=Output_folder+'vehicle_partconversion.dat'"
   ]
  },
  {
   "cell_type": "code",
   "execution_count": null,
   "metadata": {
    "collapsed": true
   },
   "outputs": [],
   "source": [
    "def route_to_vehiclepathdat(route_infos,origin_links,vehicle_filepath,path_filepath,superzone_map,\n",
    "                            intrasuperzone_path_dic,external_vehicle_filepath,average_value_of_time):\n",
    "    '''\n",
    "    This function write all the route information in the format of vehicle.dat\n",
    "    '''\n",
    "    vehicledat=open(vehicle_filepath,'w')\n",
    "    pathdat=open(path_filepath,'w')\n",
    "    if os.path.isfile(external_vehicle_filepath):\n",
    "        external_vehicle=open(external_vehicle_filepath,'r')\n",
    "        num_external_vehicle=int(next(external_vehicle).split()[0])\n",
    "        next(external_vehicle)\n",
    "        excounter,exusec,exdsec,exstime,exusrcls,exvehtype,exioc,exonode,exintde,exinfo,exribf,excomp,exoz=next(external_vehicle).split()\n",
    "        exTAZMap,exactivitytime=next(external_vehicle).split()\n",
    "        exstime=float(exstime)+180 #External vehicle start from 0:00am but the abm file start from 3 am\n",
    "    else:\n",
    "        exstime=1555\n",
    "    \n",
    "    num_veh_seg=len(route_infos['veh_seg_index'].unique())\n",
    "    max_num_trip=route_infos.groupby('veh_seg_index')['start_time'].count().max()\n",
    "    total_veh_seg=num_veh_seg+num_external_vehicle\n",
    "    vehicledat.write(str(total_veh_seg)+'\\t'+str(max_num_trip)+'\\t'+'# of vehicles in the file, Max # of stops\\n')\n",
    "    vehicledat.write('counter  iutmp  idtmp  StartTime  ivcltmp  ivcl2tmp  ihovtmp  veh_pathnodenum  NonrepetitiveCarNumTrip  infotmp  ribftmp  comptmp  TAZMap  value_of_time  1\\n')\n",
    "    counter=1\n",
    "    multiindex_route_infos=route_infos.set_index(['veh_seg_index'])\n",
    "    for veh_seg in route_infos.sort_values('origin_arrival_time')['veh_seg_index'].unique():\n",
    "        target_seg=multiindex_route_infos.loc[[veh_seg]]\n",
    "        \n",
    "        while target_seg.origin_arrival_time.min()>exstime:\n",
    "            vehicledat.write(str(counter)+'\\t'+exusec+'\\t'+exdsec+'\\t'+str(exstime)+'\\t'+\n",
    "                             exusrcls+'\\t'+exvehtype+'\\t'+exioc+'\\t'+\n",
    "                             '1'+'\\t'+exintde+'\\t'+exinfo+'\\t'+exribf+'\\t'+excomp+'\\t'+\n",
    "                             exoz+'\\t'+str(average_value_of_time)+'\\t'+'1'+'\\n')\n",
    "            vehicledat.write(exTAZMap+'\\t'+exactivitytime+'\\n')\n",
    "            pathdat.write('\\n')\n",
    "            counter +=1\n",
    "            line_listtemp=next(external_vehicle).split()\n",
    "            if len(line_listtemp)>3:\n",
    "                excounter,exusec,exdsec,exstime,exusrcls,exvehtype,exioc,exonode,exintde,exinfo,exribf,excomp,exoz=line_listtemp\n",
    "                exTAZMap,exactivitytime=next(external_vehicle).split()\n",
    "                exstime=float(exstime)+180 #External vehicle start from 0:00am but the abm file start from 3 am\n",
    "            else: \n",
    "                exstime=1555\n",
    "        if counter==23300:\n",
    "            print(veh_seg,exstime,target_seg.start_time.min(),target_seg)\n",
    "        write_one_veh_seq(target_seg,vehicledat,pathdat,counter,origin_links,superzone_map,intrasuperzone_path_dic)\n",
    "        counter +=1\n",
    "        if counter%1000==0: \n",
    "            print(counter,datetime.datetime.now())\n",
    "    vehicledat.close()\n",
    "    pathdat.close()\n",
    "    return\n",
    "def write_one_veh_seq(route_info,file_obj,path_file_obj,counter,origin_links,superzone_map,intrasuperzone_path_dic):\n",
    "    '''\n",
    "    This function convert the route information of one segment into vehicle.dat format. The function is called by route_to_vehiclepathdat\n",
    "    '''\n",
    "    ivcl2tmp=1        #Standard Input for Vehicle Specifications \n",
    "    ihovtmp=1         #Standard Input for Vehicle Specifications  \n",
    "    veh_pathnodenum=1 #Standard Input for Vehicle Specifications\n",
    "    ndestmp=1         #Standard Input for Vehicle Specifications\n",
    "    infotmp=0         #Standard Input for Vehicle Specifications \n",
    "    ribftmp=0.0       #Standard Input for Vehicle Specifications  \n",
    "    comptmp=0.0       #Standard Input for Vehicle Specifications  \n",
    "    if (route_info.iloc[0].intrasuperzone_flag==1):\n",
    "        path_temp=intrasuperzone_path_dic[(route_info.iloc[0]['orig_zone'],route_info.iloc[0]['dest_zone'])]\n",
    "        orig_u_node,orig_d_node=path_temp[0:2]\n",
    "        ivcltmp=1\n",
    "        veh_pathnodenum=len(path_temp)\n",
    "        path_file_obj.write(''.join( str(j).rjust(7) for j in intrasuperzone_path_dic[(route_info.iloc[0]['orig_zone'],route_info.iloc[0]['dest_zone'])])+'\\n')\n",
    "    else:\n",
    "        target_zone=origin_links.loc[origin_links.zone_id==route_info.iloc[0]['orig_zone']]\n",
    "        generateion_link_index=np.random.randint(0,len(target_zone))\n",
    "        orig_u_node= target_zone.iloc[generateion_link_index]['u_node'] #Upstream node of the generation link \n",
    "        orig_d_node= target_zone.iloc[generateion_link_index]['d_node'] #Downstream node of the generation link\n",
    "        ivcltmp=3\n",
    "        veh_pathnodenum=1\n",
    "        path_file_obj.write('\\n')\n",
    "    \n",
    "    file_obj.write(str(counter)+'\\t'+str(int(orig_u_node))+'\\t'\n",
    "                   +str(int(orig_d_node))+'\\t'+str(round(route_info.iloc[0]['origin_arrival_time'],1))+'\\t'\n",
    "                   +str(ivcltmp)+'\\t'+str(ivcl2tmp)+'\\t'+str(ihovtmp)+'\\t'+str(veh_pathnodenum)+'\\t'\n",
    "                   +str(len(route_info))+'\\t'+str(infotmp)+'\\t'+str(ribftmp)+'\\t'\n",
    "                   +str(comptmp)+'\\t'+ str(route_info.iloc[0]['orig_zone'])+'\\t'\n",
    "                   +str(route_info.iloc[0]['value_of_time'])+'\\t'+'1'+'\\n')\n",
    "    for (index,row) in route_info.iloc[:-1].iterrows():\n",
    "        file_obj.write(str(row['dest_zone'])+'\\t'+str(row['Activity_Time'])+'\\n')\n",
    "    file_obj.write(str(route_info['dest_zone'].iloc[-1])+'\\t'+'0.0\\n')\n",
    "    if (route_info.dest_zone.iloc[-1]<1):\n",
    "        print('error')\n",
    "    return"
   ]
  },
  {
   "cell_type": "code",
   "execution_count": null,
   "metadata": {
    "collapsed": true
   },
   "outputs": [],
   "source": [
    "route_infos[route_infos.hh_id==869256]"
   ]
  },
  {
   "cell_type": "code",
   "execution_count": null,
   "metadata": {
    "collapsed": true,
    "scrolled": false
   },
   "outputs": [],
   "source": [
    "vehicledat_filepath='Output/vehicle_partconversion.dat'\n",
    "path_filepath='Output/path_partconversion.dat'\n",
    "external_vehicle_filepath='Input/external_vehicle.dat'\n",
    "average_value_of_time=round(traveler_trips.value_of_time.mean(),4)\n",
    "route_to_vehiclepathdat(route_infos,origin_links,vehicle_filepath,path_filepath,superzone_map,\n",
    "                            intrasuperzone_path_dic,external_vehicle_filepath,average_value_of_time)"
   ]
  },
  {
   "cell_type": "code",
   "execution_count": null,
   "metadata": {
    "collapsed": true
   },
   "outputs": [],
   "source": []
  },
  {
   "cell_type": "code",
   "execution_count": null,
   "metadata": {
    "collapsed": true
   },
   "outputs": [],
   "source": [
    "# new_path='Output/newpath.dat'\n",
    "# path_fileobj=open(new_path,'w')\n",
    "# with open('Output/path.dat') as f:\n",
    "#     for line in f: \n",
    "#         if len(line)>1:\n",
    "#             for node in line.split():\n",
    "#                 path_fileobj.write(node.rjust(7))\n",
    "#             path_fileobj.write('\\n')\n",
    "#         else: \n",
    "#             path_fileobj.write('\\n')\n",
    "# path_fileobj.close()"
   ]
  },
  {
   "cell_type": "markdown",
   "metadata": {},
   "source": [
    "#### Result Analysis"
   ]
  },
  {
   "cell_type": "code",
   "execution_count": null,
   "metadata": {
    "collapsed": true
   },
   "outputs": [],
   "source": []
  }
 ],
 "metadata": {
  "kernelspec": {
   "display_name": "Python 3",
   "language": "python",
   "name": "python3"
  },
  "language_info": {
   "codemirror_mode": {
    "name": "ipython",
    "version": 3
   },
   "file_extension": ".py",
   "mimetype": "text/x-python",
   "name": "python",
   "nbconvert_exporter": "python",
   "pygments_lexer": "ipython3",
   "version": "3.6.2"
  }
 },
 "nbformat": 4,
 "nbformat_minor": 2
}
