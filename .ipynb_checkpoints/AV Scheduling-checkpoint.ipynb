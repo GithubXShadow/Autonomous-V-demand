{
 "cells": [
  {
   "cell_type": "markdown",
   "metadata": {},
   "source": [
    "# AV Scheduling for household"
   ]
  },
  {
   "cell_type": "markdown",
   "metadata": {},
   "source": [
    "### Initialize\n",
    "* Inital functions and package\n",
    "* Read input"
   ]
  },
  {
   "cell_type": "code",
   "execution_count": 535,
   "metadata": {},
   "outputs": [
    {
     "name": "stdout",
     "output_type": "stream",
     "text": [
      "The autoreload extension is already loaded. To reload it, use:\n",
      "  %reload_ext autoreload\n"
     ]
    }
   ],
   "source": [
    "import numpy as np\n",
    "import pandas as pd\n",
    "import matplotlib as plt\n",
    "import networkx as nx\n",
    "%matplotlib inline\n",
    "# from DYNASMART_Process import *\n",
    "from Modules import DYNASMART_Process as dy\n",
    "# import preprocessing_read_skim_file as rs\n",
    "from Modules import AV_functions as av\n",
    "from Modules import Solve_DARP as sod\n",
    "from Modules import Postprocess_DARP as pod\n",
    "from Modules import Preprocess_DARP as prd\n",
    "from gurobipy import *\n",
    "from Modules import *\n",
    "import datetime\n",
    "import requests\n",
    "import math\n",
    "import importlib\n",
    "%load_ext autoreload\n",
    "%autoreload 2"
   ]
  },
  {
   "cell_type": "code",
   "execution_count": 166,
   "metadata": {
    "scrolled": true
   },
   "outputs": [
    {
     "name": "stdout",
     "output_type": "stream",
     "text": [
      "56 57 72\n"
     ]
    }
   ],
   "source": [
    "#Read in the basic traveler and trips informationa and joint the houshold id\n",
    "# traveler_info=pd.read_csv('input/traveler.csv')\n",
    "personData=pd.read_csv('input/personData_1.csv')\n",
    "person_type_dic=dict(zip(personData.person_id,personData.type))\n",
    "# hh_temp=personData[['person_id','hh_id']]\n",
    "# traveler_trips=pd.merge(traveler_info,hh_temp,how='left',on=['person_id'])\n",
    "#Trip mode\n",
    "#1 Drive alone free; 2 Drive alone pay; 3 Shared ride 2 free; 4 Shared ride 2 pay ;\n",
    "#5 Shared ride 3+ free; 6 Shared ride 3+ pay; 7 Walk; 8 Bike; 9 Walk to local transit; \n",
    "#10 Walk to premium transit; 11 Drive to local transit; 12 Drive to premium transit; \n",
    "#13 Taxi; 14 School bus\n",
    "\n",
    "# traveler_trips=pd.read_csv('input/traveler_trip_info.csv')\n",
    "# #Calculate the expected trip travel time as trip start time of trip (i+1) - start time of trip i - activity time \n",
    "# traveler_trips['Diff_bet_starttime']=traveler_trips.starttime.diff()[1:]\n",
    "# traveler_trips.Diff_bet_starttime=traveler_trips.Diff_bet_starttime.shift(-1)\n",
    "# traveler_trips['Diff_bet_starttime'].apply(lambda x: 0 if x<0 else x)\n",
    "# traveler_trips['travel_time']=traveler_trips.Diff_bet_starttime-traveler_trips.ActivityTime\n",
    "# traveler_trips.loc[traveler_trips.trip_counter==traveler_trips.num_trips,'travel_time']=1440-(traveler_trips.loc[traveler_trips.trip_counter==traveler_trips.num_trips]['starttime']+traveler_trips.loc[traveler_trips.trip_counter==traveler_trips.num_trips]['ActivityTime'])\n",
    "# traveler_trips.orig_purpose.replace(['eatingout','work','discretionary','shop','work-based','work-related','escort','maintenance','school','visiting','university'],\n",
    "#                                     ['EatingOut','Work','Discretionary','Shop','WorkBased','WorkBased','Escort','Maintenance','School','Visiting','University'],\n",
    "#                                     inplace=True)\n",
    "# traveler_trips.dest_purpose.replace(['eatingout','work','discretionary','shop','work-based','work-related','escort','maintenance','school','visiting','university'],\n",
    "#                                     ['EatingOut','Work','Discretionary','Shop','WorkBased','WorkBased','Escort','Maintenance','School','Visiting','University'],\n",
    "#                                     inplace=True)\n",
    "# traveler_trips.loc[:,'person_type']=traveler_trips.person_id.apply(lambda x: person_type_dic[x])\n",
    "# value_latearr_penalty_per_min=pd.read_csv('input/LateArrPenalty.dat',sep='\\t',index_col =0)\n",
    "# value_earlyarr_penalty_per_min=pd.read_csv('input/EarlyArrPenalty.dat',sep='\\t',index_col =0)\n",
    "# early_penalty_threshold=pd.read_csv('input/EarlyArrPenaltyThreshold.dat',sep='\\t',index_col=0)\n",
    "# late_penalty_threshold=pd.read_csv('input/LateArrPenaltyThreshold.dat',sep='\\t',index_col=0)\n",
    "\n",
    "# traveler_trips.loc[:,'earlyarr_penalty']=traveler_trips.apply(lambda row: value_earlyarr_penalty_per_min.loc[row.dest_purpose,row.person_type], axis=1)\n",
    "# traveler_trips.loc[:,'latearr_penalty']=traveler_trips.apply(lambda row: value_latearr_penalty_per_min.loc[row.dest_purpose,row.person_type], axis=1)\n",
    "# traveler_trips.loc[:,'early_penalty_threshold']=traveler_trips.apply(lambda row: early_penalty_threshold.loc[row.dest_purpose,row.person_type], axis=1)\n",
    "# traveler_trips.loc[:,'late_penalty_threshold']=traveler_trips.apply(lambda row: late_penalty_threshold.loc[row.dest_purpose,row.person_type], axis=1)\n",
    "# traveler_trips.to_csv('input/traveler_trip_info_improved.csv')\n",
    "traveler_trips=pd.read_csv('input/traveler_trip_info_improved.csv')\n",
    "num_zones,num_nodes,num_links,node_detail,node_id,link_detail,link_id=dy.read_network('input/network.dat')\n",
    "nodexy=dy.read_xy('input/xy.dat')\n",
    "superzone_filepath='Input/SuperZone.dat'\n",
    "linktraveltime_filepath='Input/output_td_linktraveltime.dat'\n",
    "superzone_map=dy.read_superzone_info(superzone_filepath)\n",
    "origin_path='Input/origin.dat'\n",
    "destination_path='Input/destination.dat'\n",
    "origins,destinations,origin_links=dy.read_origin_destion(origin_path,destination_path)\n",
    "VPNRSkim_folder_filepath='Input/vehicularPNRSkim'\n",
    "Vehicular_Skim,Vehicular_Skim_Dict=dy.read_vehicle_skim(VPNRSkim_folder_filepath)\n",
    "transit_skim_folderpath='Input/'\n",
    "TransitMazTazFlag,drivingweight,walkingweight,TransitSkimTimeIntervalLength,MaxNumTransitSkimTimeInterval,WalkSpeed,transit_zone_candidates,Transit_AB_Cost_Skim,Transit_AB_Time_Skim,three_link_walk=dy.read_transitskim(transit_skim_folderpath)\n",
    "#origins,destinations=dy.read_origin_destion('input/origin.dat','input/destination.dat')"
   ]
  },
  {
   "cell_type": "code",
   "execution_count": null,
   "metadata": {
    "collapsed": true,
    "scrolled": true
   },
   "outputs": [],
   "source": [
    "# Test the schedule adjustment solve with exact method\n",
    "reward_mode=2\n",
    "num_hh_member,hh_num_trips,C,TT,expected_arrival_time,expected_leave_time,early_penalty,late_penalty,early_penalty_threshold,late_penalty_threshold,visit_candidate_zone=prd.extract_hh_information(sorted_trips,Vehicular_Skim,Transit_AB_Cost_Skim,superzone_map,drivingcost_per_mile,num_time_interval)\n",
    "R=prd.estimate_trip_reward(hh_num_trips,sorted_trips,Vehicular_Skim,reward_mode,superzone_map,drivingcost_per_mile)\n",
    "num_cav=1\n",
    "run_mode=2\n",
    "single_model_runtime=60*30\n",
    "m1,x,y,T,obj1,obj2,obj3=sod.dial_n_ride_model_schedule_adjustment(num_hh_member,hh_num_trips,C,TT,TL,TU,sorted_trips,\n",
    "                    expected_arrival_time,early_penalty,late_penalty,\n",
    "                    early_penalty_threshold,late_penalty_threshold,R,Vehicular_Skim,\n",
    "                    share_ride_factor,output_flag,run_mode,reward_mode,\n",
    "                    num_cav,num_time_interval,cav_use_mode,time_window_flag,single_model_runtime)"
   ]
  },
  {
   "cell_type": "code",
   "execution_count": 278,
   "metadata": {
    "scrolled": true
   },
   "outputs": [
    {
     "name": "stdout",
     "output_type": "stream",
     "text": [
      "**************\n",
      "Num_CAV 2 1.5 0\n",
      "**************\n",
      "start sovling problem at  2018-07-08 12:24:47.629386\n",
      "Parameter OutputFlag unchanged\n",
      "   Value: 1  Min: 0  Max: 1  Default: 1\n",
      "Changed value of parameter TIME_LIMIT to 30.0\n",
      "   Prev: 1e+100  Min: 0.0  Max: 1e+100  Default: 1e+100\n",
      "Optimize a model with 6028 rows, 3960 columns and 38904 nonzeros\n",
      "Variable types: 88 continuous, 3872 integer (3872 binary)\n",
      "Coefficient statistics:\n",
      "  Matrix range     [1e-02, 2e+03]\n",
      "  Objective range  [1e-02, 2e+02]\n",
      "  Bounds range     [1e+00, 1e+00]\n",
      "  RHS range        [1e+00, 3e+05]\n",
      "\n",
      "Loaded MIP start with objective 2851.11\n",
      "\n",
      "Presolve removed 2612 rows and 1684 columns\n",
      "Presolve time: 0.09s\n",
      "Presolved: 3416 rows, 2276 columns, 23684 nonzeros\n",
      "Variable types: 88 continuous, 2188 integer (2188 binary)\n",
      "\n",
      "Root relaxation: objective 3.367248e+03, 913 iterations, 0.09 seconds\n",
      "\n",
      "    Nodes    |    Current Node    |     Objective Bounds      |     Work\n",
      " Expl Unexpl |  Obj  Depth IntInf | Incumbent    BestBd   Gap | It/Node Time\n",
      "\n",
      "     0     0 3367.24767    0   96 2851.11088 3367.24767  18.1%     -    0s\n",
      "H    0     0                    3001.1008800 3367.24767  12.2%     -    0s\n",
      "     0     0 3362.88119    0  121 3001.10088 3362.88119  12.1%     -    0s\n",
      "     0     0 3353.02789    0  109 3001.10088 3353.02789  11.7%     -    0s\n",
      "     0     0 3351.60257    0   94 3001.10088 3351.60257  11.7%     -    0s\n",
      "     0     0 3351.60257    0   97 3001.10088 3351.60257  11.7%     -    0s\n",
      "     0     0 3351.13022    0  115 3001.10088 3351.13022  11.7%     -    1s\n",
      "     0     0 3351.11055    0  129 3001.10088 3351.11055  11.7%     -    1s\n",
      "     0     0 3351.09981    0  119 3001.10088 3351.09981  11.7%     -    1s\n",
      "     0     0 3350.82694    0  110 3001.10088 3350.82694  11.7%     -    1s\n",
      "     0     0 3350.74414    0  108 3001.10088 3350.74414  11.7%     -    1s\n",
      "     0     0 3350.28703    0  112 3001.10088 3350.28703  11.6%     -    1s\n",
      "     0     0 3350.24736    0  137 3001.10088 3350.24736  11.6%     -    1s\n",
      "     0     0 3350.24736    0  137 3001.10088 3350.24736  11.6%     -    1s\n",
      "     0     0 3349.85189    0  123 3001.10088 3349.85189  11.6%     -    1s\n",
      "     0     0 3349.84187    0  120 3001.10088 3349.84187  11.6%     -    1s\n",
      "     0     0 3349.84187    0  124 3001.10088 3349.84187  11.6%     -    1s\n",
      "     0     0 3349.78142    0  126 3001.10088 3349.78142  11.6%     -    1s\n",
      "     0     0 3349.78140    0  129 3001.10088 3349.78140  11.6%     -    1s\n",
      "     0     0 3349.62525    0  144 3001.10088 3349.62525  11.6%     -    2s\n",
      "     0     0 3349.52416    0  128 3001.10088 3349.52416  11.6%     -    2s\n",
      "     0     0 3349.45353    0  128 3001.10088 3349.45353  11.6%     -    2s\n",
      "     0     0 3349.44510    0  145 3001.10088 3349.44510  11.6%     -    2s\n",
      "     0     0 3349.44390    0  135 3001.10088 3349.44390  11.6%     -    2s\n",
      "     0     0 3349.04669    0  106 3001.10088 3349.04669  11.6%     -    2s\n",
      "     0     0 3348.92826    0  107 3001.10088 3348.92826  11.6%     -    2s\n",
      "     0     0 3348.92826    0  110 3001.10088 3348.92826  11.6%     -    2s\n",
      "     0     0 3348.89374    0  134 3001.10088 3348.89374  11.6%     -    2s\n",
      "     0     0 3348.88902    0  144 3001.10088 3348.88902  11.6%     -    2s\n",
      "     0     0 3348.84040    0  140 3001.10088 3348.84040  11.6%     -    2s\n",
      "     0     0 3348.84040    0  131 3001.10088 3348.84040  11.6%     -    2s\n",
      "     0     2 3348.84040    0  131 3001.10088 3348.84040  11.6%     -    3s\n",
      "   300   261 3340.16239   22  100 3001.10088 3348.17530  11.6%  32.5    5s\n",
      "H  336   292                    3147.4170000 3348.17530  6.38%  31.1    6s\n",
      "  1471  1012 3344.61102   13  131 3147.41700 3346.26900  6.32%  26.0   10s\n",
      "  1490  1025 3265.31806   30  180 3147.41700 3344.62395  6.27%  25.7   15s\n",
      "H 1500   978                    3148.2710000 3343.78888  6.21%  25.5   18s\n",
      "H 1500   929                    3149.2270000 3343.78888  6.18%  25.5   18s\n",
      "  1506   933 3343.05768    8  164 3149.22700 3343.16425  6.16%  25.4   20s\n",
      "  1515   939 3327.77260   74  174 3149.22700 3342.71460  6.14%  25.3   25s\n",
      "H 1519   894                    3154.0470000 3342.66040  5.98%  25.2   26s\n",
      "\n",
      "Cutting planes:\n",
      "  Learned: 10\n",
      "  MIR: 11\n",
      "  Flow cover: 41\n",
      "  Inf proof: 12\n",
      "  Zero half: 41\n",
      "\n",
      "Explored 1524 nodes (47437 simplex iterations) in 30.05 seconds\n",
      "Thread count was 8 (of 8 available processors)\n",
      "\n",
      "Solution count 6: 3154.05 3149.23 3148.27 ... 2851.11\n",
      "\n",
      "Time limit reached\n",
      "Best objective 3.154047000000e+03, best bound 3.342622856232e+03, gap 5.9789%\n",
      "################################\n",
      "The total reward is 3300.0 \n",
      "The delay cost is  1.213999999999988 \n",
      "The total travel cost is  144.73899999999995\n",
      "0.0\n",
      "finish solving problem at  2018-07-08 12:25:18.860222\n",
      "start sovling problem at  2018-07-08 12:25:22.414430\n",
      "Parameter OutputFlag unchanged\n",
      "   Value: 1  Min: 0  Max: 1  Default: 1\n",
      "Changed value of parameter TIME_LIMIT to 30.0\n",
      "   Prev: 1e+100  Min: 0.0  Max: 1e+100  Default: 1e+100\n",
      "Optimize a model with 4904 rows, 3280 columns and 29336 nonzeros\n",
      "Variable types: 80 continuous, 3200 integer (3200 binary)\n",
      "Coefficient statistics:\n",
      "  Matrix range     [1e-02, 2e+03]\n",
      "  Objective range  [1e-02, 2e+02]\n",
      "  Bounds range     [1e+00, 1e+00]\n",
      "  RHS range        [5e-01, 3e+05]\n",
      "\n",
      "Loaded MIP start with objective 1866.59\n",
      "\n",
      "Presolve removed 2016 rows and 1292 columns\n",
      "Presolve time: 0.07s\n",
      "Presolved: 2888 rows, 1988 columns, 18310 nonzeros\n",
      "Variable types: 80 continuous, 1908 integer (1908 binary)\n",
      "\n",
      "Root relaxation: objective 3.072211e+03, 680 iterations, 0.04 seconds\n",
      "\n",
      "    Nodes    |    Current Node    |     Objective Bounds      |     Work\n",
      " Expl Unexpl |  Obj  Depth IntInf | Incumbent    BestBd   Gap | It/Node Time\n",
      "\n",
      "     0     0 3072.21067    0   84 1866.58946 3072.21067  64.6%     -    0s\n",
      "H    0     0                    2016.5794600 3072.21067  52.3%     -    0s\n",
      "     0     0 3066.84283    0  108 2016.57946 3066.84283  52.1%     -    0s\n",
      "     0     0 3062.55813    0   83 2016.57946 3062.55813  51.9%     -    0s\n",
      "     0     0 3062.55813    0   83 2016.57946 3062.55813  51.9%     -    0s\n",
      "     0     0 3059.00848    0  113 2016.57946 3059.00848  51.7%     -    0s\n",
      "     0     0 3058.51123    0  107 2016.57946 3058.51123  51.7%     -    0s\n",
      "     0     0 3058.50440    0  101 2016.57946 3058.50440  51.7%     -    0s\n",
      "     0     0 3057.26474    0   97 2016.57946 3057.26474  51.6%     -    0s\n",
      "     0     0 3057.26474    0  101 2016.57946 3057.26474  51.6%     -    0s\n",
      "     0     0 3057.20050    0   93 2016.57946 3057.20050  51.6%     -    0s\n",
      "     0     0 3057.18458    0  100 2016.57946 3057.18458  51.6%     -    1s\n",
      "     0     0 3057.18458    0  105 2016.57946 3057.18458  51.6%     -    1s\n",
      "     0     0 3057.11960    0   96 2016.57946 3057.11960  51.6%     -    1s\n",
      "     0     0 3057.11960    0   96 2016.57946 3057.11960  51.6%     -    1s\n",
      "     0     0 3056.97664    0  109 2016.57946 3056.97664  51.6%     -    1s\n",
      "     0     0 3056.83860    0   97 2016.57946 3056.83860  51.6%     -    1s\n",
      "     0     0 3056.72960    0   96 2016.57946 3056.72960  51.6%     -    1s\n",
      "     0     0 3056.72960    0   97 2016.57946 3056.72960  51.6%     -    1s\n",
      "     0     0 3056.69405    0  110 2016.57946 3056.69405  51.6%     -    1s\n",
      "     0     0 3056.68199    0  112 2016.57946 3056.68199  51.6%     -    1s\n",
      "     0     0 3056.68199    0  113 2016.57946 3056.68199  51.6%     -    1s\n",
      "     0     0 3056.67227    0  115 2016.57946 3056.67227  51.6%     -    1s\n",
      "     0     0 3056.67227    0  103 2016.57946 3056.67227  51.6%     -    1s\n",
      "     0     2 3056.67227    0  103 2016.57946 3056.67227  51.6%     -    1s\n",
      "H   31    38                    2156.2851600 3056.55760  41.8%  29.0    2s\n",
      "H   32    38                    2294.1629100 3056.55760  33.2%  29.6    2s\n",
      "  1447  1166 3053.57524   14  103 2294.16291 3056.34764  33.2%  12.2    5s\n",
      "H 1483  1129                    2558.4432100 3054.52439  19.4%  11.9    9s\n",
      "  1489  1133 3047.70247   29  154 2558.44321 3054.47522  19.4%  11.9   10s\n",
      "H 1502  1084                    2703.4215200 3054.16845  13.0%  11.8   12s\n",
      "  1518  1094 3053.82098    8  131 2703.42152 3053.82098  13.0%  11.6   15s\n",
      "H 1533  1048                    2850.2278400 3053.68663  7.14%  11.5   16s\n",
      "H 1543  1000                    2991.5669400 3053.51084  2.07%  11.5   18s\n",
      "  1549  1004 3053.18114   18  171 2991.56694 3053.46840  2.07%  11.4   20s\n"
     ]
    },
    {
     "name": "stdout",
     "output_type": "stream",
     "text": [
      "H 1575   968                    2991.8624400 3053.05056  2.05%  11.2   24s\n",
      "  1577   970 3052.21047   26  118 2991.86244 3053.00099  2.04%  11.2   25s\n",
      "\n",
      "Cutting planes:\n",
      "  Learned: 3\n",
      "  Gomory: 5\n",
      "  Cover: 3\n",
      "  MIR: 5\n",
      "  Flow cover: 67\n",
      "  Inf proof: 6\n",
      "  Zero half: 36\n",
      "\n",
      "Explored 1604 nodes (31993 simplex iterations) in 30.05 seconds\n",
      "Thread count was 8 (of 8 available processors)\n",
      "\n",
      "Solution count 9: 2991.86 2991.57 2850.23 ... 1866.59\n",
      "\n",
      "Time limit reached\n",
      "Best objective 2.991862440000e+03, best bound 3.052543768526e+03, gap 2.0282%\n",
      "################################\n",
      "The total reward is 3150.0 \n",
      "The delay cost is  36.58439999999876 \n",
      "The total travel cost is  121.55315999999999\n",
      "0.0\n",
      "finish solving problem at  2018-07-08 12:25:53.391251\n",
      "start sovling problem at  2018-07-08 12:25:54.346312\n",
      "Parameter OutputFlag unchanged\n",
      "   Value: 1  Min: 0  Max: 1  Default: 1\n",
      "Changed value of parameter TIME_LIMIT to 30.0\n",
      "   Prev: 1e+100  Min: 0.0  Max: 1e+100  Default: 1e+100\n",
      "Optimize a model with 1060 rows, 684 columns and 5360 nonzeros\n",
      "Variable types: 36 continuous, 648 integer (648 binary)\n",
      "Coefficient statistics:\n",
      "  Matrix range     [1e-02, 2e+03]\n",
      "  Objective range  [1e-02, 2e+02]\n",
      "  Bounds range     [1e+00, 1e+00]\n",
      "  RHS range        [1e+00, 3e+05]\n",
      "\n",
      "Loaded MIP start with objective 1000.35\n",
      "\n",
      "Presolve removed 381 rows and 238 columns\n",
      "Presolve time: 0.10s\n",
      "Presolved: 679 rows, 446 columns, 3657 nonzeros\n",
      "Variable types: 36 continuous, 410 integer (410 binary)\n",
      "\n",
      "Root relaxation: objective 1.463337e+03, 245 iterations, 0.01 seconds\n",
      "\n",
      "    Nodes    |    Current Node    |     Objective Bounds      |     Work\n",
      " Expl Unexpl |  Obj  Depth IntInf | Incumbent    BestBd   Gap | It/Node Time\n",
      "\n",
      "     0     0 1459.90240    0   44 1000.34608 1459.90240  45.9%     -    0s\n",
      "H    0     0                    1155.1050800 1459.90240  26.4%     -    0s\n",
      "     0     0 1459.89724    0   45 1155.10508 1459.89724  26.4%     -    0s\n",
      "     0     0 1459.73073    0   46 1155.10508 1459.73073  26.4%     -    0s\n",
      "     0     0 1459.54650    0   46 1155.10508 1459.54650  26.4%     -    0s\n",
      "     0     0 1458.76077    0   34 1155.10508 1458.76077  26.3%     -    0s\n",
      "     0     0 1457.96247    0   41 1155.10508 1457.96247  26.2%     -    0s\n",
      "H    0     0                    1301.6529200 1457.96247  12.0%     -    0s\n",
      "     0     0 1457.79189    0   35 1301.65292 1457.79189  12.0%     -    0s\n",
      "H    0     0                    1301.9518200 1457.79189  12.0%     -    0s\n",
      "     0     0 1457.79189    0   39 1301.95182 1457.79189  12.0%     -    0s\n",
      "     0     0 1457.79189    0   34 1301.95182 1457.79189  12.0%     -    0s\n",
      "     0     0 1457.77941    0   36 1301.95182 1457.77941  12.0%     -    0s\n",
      "     0     0 1457.77941    0   36 1301.95182 1457.77941  12.0%     -    0s\n",
      "     0     0 1457.77941    0   39 1301.95182 1457.77941  12.0%     -    0s\n",
      "     0     0 1457.77941    0   42 1301.95182 1457.77941  12.0%     -    0s\n",
      "     0     0 1457.77941    0   32 1301.95182 1457.77941  12.0%     -    0s\n",
      "     0     0 1457.77941    0   34 1301.95182 1457.77941  12.0%     -    0s\n",
      "     0     0 1457.77941    0   34 1301.95182 1457.77941  12.0%     -    0s\n",
      "     0     0 1457.77941    0   36 1301.95182 1457.77941  12.0%     -    0s\n",
      "     0     0 1457.77941    0   32 1301.95182 1457.77941  12.0%     -    0s\n",
      "     0     0 1457.77941    0   32 1301.95182 1457.77941  12.0%     -    0s\n",
      "     0     0 1457.77941    0   30 1301.95182 1457.77941  12.0%     -    0s\n",
      "     0     0 1457.77941    0   30 1301.95182 1457.77941  12.0%     -    0s\n",
      "     0     0 1457.77941    0   32 1301.95182 1457.77941  12.0%     -    0s\n",
      "     0     0 1457.77941    0   32 1301.95182 1457.77941  12.0%     -    0s\n",
      "     0     0 1457.77941    0   32 1301.95182 1457.77941  12.0%     -    0s\n",
      "     0     2 1457.77941    0   32 1301.95182 1457.77941  12.0%     -    1s\n",
      "H   83    64                    1446.5013200 1457.77941  0.78%  10.9    1s\n",
      "*  663   309              28    1449.0613200 1457.10360  0.55%   7.7    1s\n",
      "* 1379   428              16    1450.9882300 1456.56681  0.38%   7.2    1s\n",
      "* 1517   391              18    1452.5143200 1456.56681  0.28%   7.1    1s\n",
      "* 3380   529              19    1452.5863200 1455.55849  0.20%   7.4    1s\n",
      "\n",
      "Cutting planes:\n",
      "  Learned: 24\n",
      "  Gomory: 4\n",
      "  Cover: 28\n",
      "  MIR: 20\n",
      "  Inf proof: 39\n",
      "  Zero half: 5\n",
      "\n",
      "Explored 7287 nodes (56880 simplex iterations) in 2.63 seconds\n",
      "Thread count was 8 (of 8 available processors)\n",
      "\n",
      "Solution count 9: 1452.59 1452.51 1450.99 ... 1000.35\n",
      "\n",
      "Optimal solution found (tolerance 1.00e-04)\n",
      "Best objective 1.452586320000e+03, best bound 1.452586320000e+03, gap 0.0000%\n",
      "################################\n",
      "The total reward is 1500.0 \n",
      "The delay cost is  0.508000000000006 \n",
      "The total travel cost is  46.90568\n",
      "0.0\n",
      "finish solving problem at  2018-07-08 12:25:57.211477\n",
      "start sovling problem at  2018-07-08 12:25:59.166596\n",
      "Parameter OutputFlag unchanged\n",
      "   Value: 1  Min: 0  Max: 1  Default: 1\n",
      "Changed value of parameter TIME_LIMIT to 30.0\n",
      "   Prev: 1e+100  Min: 0.0  Max: 1e+100  Default: 1e+100\n",
      "Optimize a model with 2767 rows, 1860 columns and 16536 nonzeros\n",
      "Variable types: 60 continuous, 1800 integer (1800 binary)\n",
      "Coefficient statistics:\n",
      "  Matrix range     [1e-02, 2e+03]\n",
      "  Objective range  [1e-02, 2e+02]\n",
      "  Bounds range     [1e+00, 1e+00]\n",
      "  RHS range        [1e+00, 3e+05]\n",
      "\n",
      "Loaded MIP start with objective 1729.59\n",
      "\n",
      "Presolve removed 1031 rows and 658 columns\n",
      "Presolve time: 0.04s\n",
      "Presolved: 1736 rows, 1202 columns, 10914 nonzeros\n",
      "Variable types: 60 continuous, 1142 integer (1142 binary)\n",
      "\n",
      "Root relaxation: objective 2.341691e+03, 404 iterations, 0.02 seconds\n",
      "\n",
      "    Nodes    |    Current Node    |     Objective Bounds      |     Work\n",
      " Expl Unexpl |  Obj  Depth IntInf | Incumbent    BestBd   Gap | It/Node Time\n",
      "\n",
      "     0     0 2341.69125    0   60 1729.58825 2341.69125  35.4%     -    0s\n",
      "H    0     0                    1879.5782500 2341.69125  24.6%     -    0s\n",
      "     0     0 2339.15491    0   63 1879.57825 2339.15491  24.5%     -    0s\n",
      "     0     0 2337.64438    0   54 1879.57825 2337.64438  24.4%     -    0s\n",
      "     0     0 2337.64438    0   54 1879.57825 2337.64438  24.4%     -    0s\n",
      "     0     0 2337.60486    0   72 1879.57825 2337.60486  24.4%     -    0s\n",
      "     0     0 2337.50175    0   68 1879.57825 2337.50175  24.4%     -    0s\n",
      "H    0     0                    2024.1137500 2337.50175  15.5%     -    0s\n",
      "     0     0 2337.50175    0   67 2024.11375 2337.50175  15.5%     -    0s\n",
      "     0     0 2337.47919    0   91 2024.11375 2337.47919  15.5%     -    0s\n",
      "     0     0 2337.47711    0   64 2024.11375 2337.47711  15.5%     -    0s\n",
      "     0     0 2337.47103    0   72 2024.11375 2337.47103  15.5%     -    0s\n",
      "     0     0 2337.46981    0   67 2024.11375 2337.46981  15.5%     -    0s\n",
      "     0     0 2337.34663    0   79 2024.11375 2337.34663  15.5%     -    0s\n",
      "     0     0 2337.34647    0   67 2024.11375 2337.34647  15.5%     -    0s\n",
      "     0     0 2337.34647    0   70 2024.11375 2337.34647  15.5%     -    0s\n",
      "     0     0 2337.34647    0   74 2024.11375 2337.34647  15.5%     -    0s\n",
      "     0     0 2337.34647    0   65 2024.11375 2337.34647  15.5%     -    0s\n",
      "     0     0 2337.34647    0   71 2024.11375 2337.34647  15.5%     -    0s\n",
      "     0     0 2337.34647    0   71 2024.11375 2337.34647  15.5%     -    0s\n",
      "     0     2 2337.34647    0   69 2024.11375 2337.34647  15.5%     -    1s\n",
      "H   36    34                    2168.4352500 2337.29243  7.79%  23.5    1s\n",
      "H   37    35                    2168.8432500 2337.29243  7.77%  22.9    1s\n",
      "H  997   695                    2312.7415000 2337.25559  1.06%  11.4    2s\n",
      "  1582  1006 2318.99561   34  105 2312.74150 2337.02266  1.05%  10.3    5s\n",
      "  2800  1364 2335.04959   23   77 2312.74150 2336.68158  1.04%  14.5   10s\n",
      "H 5969  2474                    2314.3535000 2336.07126  0.94%  14.7   13s\n",
      "  7968  3314 infeasible   51      2314.35350 2335.80828  0.93%  14.8   15s\n",
      " 13859  5342 2327.91858   27   64 2314.35350 2334.87906  0.89%  15.8   20s\n",
      " 18349  6599 2331.47404   32   70 2314.35350 2334.07834  0.85%  16.5   25s\n",
      "H19192  6959                    2314.6775000 2333.96009  0.83%  16.6   26s\n",
      " 23926  8107 2322.39433   24   46 2314.67750 2333.39305  0.81%  17.0   30s\n",
      "\n",
      "Cutting planes:\n",
      "  Learned: 30\n",
      "  Gomory: 19\n",
      "  Cover: 22\n",
      "  Implied bound: 3\n",
      "  MIR: 25\n",
      "  Flow cover: 229\n",
      "  Inf proof: 78\n",
      "  Zero half: 19\n"
     ]
    },
    {
     "name": "stdout",
     "output_type": "stream",
     "text": [
      "  Mod-K: 1\n",
      "\n",
      "Explored 24085 nodes (412678 simplex iterations) in 30.05 seconds\n",
      "Thread count was 8 (of 8 available processors)\n",
      "\n",
      "Solution count 8: 2314.68 2314.35 2312.74 ... 1729.59\n",
      "\n",
      "Time limit reached\n",
      "Best objective 2.314677500000e+03, best bound 2.333360411633e+03, gap 0.8071%\n",
      "################################\n",
      "The total reward is 2400.0 \n",
      "The delay cost is  0.7500000000000036 \n",
      "The total travel cost is  84.5725\n",
      "0.2339999999999982\n",
      "finish solving problem at  2018-07-08 12:26:29.750395\n",
      "start sovling problem at  2018-07-08 12:26:30.320427\n",
      "Parameter OutputFlag unchanged\n",
      "   Value: 1  Min: 0  Max: 1  Default: 1\n",
      "Changed value of parameter TIME_LIMIT to 30.0\n",
      "   Prev: 1e+100  Min: 0.0  Max: 1e+100  Default: 1e+100\n",
      "Optimize a model with 80 rows, 40 columns and 230 nonzeros\n",
      "Variable types: 8 continuous, 32 integer (32 binary)\n",
      "Coefficient statistics:\n",
      "  Matrix range     [1e-02, 2e+03]\n",
      "  Objective range  [1e-02, 2e+02]\n",
      "  Bounds range     [1e+00, 1e+00]\n",
      "  RHS range        [1e+00, 3e+05]\n",
      "\n",
      "Loaded MIP start with objective 297.323\n",
      "\n",
      "Presolve removed 45 rows and 28 columns\n",
      "Presolve time: 0.08s\n",
      "Presolved: 35 rows, 12 columns, 78 nonzeros\n",
      "Variable types: 8 continuous, 4 integer (4 binary)\n",
      "\n",
      "Root relaxation: objective 4.473131e+02, 8 iterations, 0.00 seconds\n",
      "\n",
      "    Nodes    |    Current Node    |     Objective Bounds      |     Work\n",
      " Expl Unexpl |  Obj  Depth IntInf | Incumbent    BestBd   Gap | It/Node Time\n",
      "\n",
      "*    0     0               0     447.3130600  447.31306  0.00%     -    0s\n",
      "\n",
      "Explored 0 nodes (8 simplex iterations) in 0.12 seconds\n",
      "Thread count was 8 (of 8 available processors)\n",
      "\n",
      "Solution count 2: 447.313 297.323 \n",
      "\n",
      "Optimal solution found (tolerance 1.00e-04)\n",
      "Best objective 4.473130600000e+02, best bound 4.473130600000e+02, gap 0.0000%\n",
      "################################\n",
      "The total reward is 450.0 \n",
      "The delay cost is  0.0 \n",
      "The total travel cost is  2.68694\n",
      "0.0\n",
      "finish solving problem at  2018-07-08 12:26:30.516435\n",
      "start sovling problem at  2018-07-08 12:26:30.578442\n",
      "Parameter OutputFlag unchanged\n",
      "   Value: 1  Min: 0  Max: 1  Default: 1\n",
      "Changed value of parameter TIME_LIMIT to 30.0\n",
      "   Prev: 1e+100  Min: 0.0  Max: 1e+100  Default: 1e+100\n",
      "Optimize a model with 80 rows, 40 columns and 230 nonzeros\n",
      "Variable types: 8 continuous, 32 integer (32 binary)\n",
      "Coefficient statistics:\n",
      "  Matrix range     [1e-02, 2e+03]\n",
      "  Objective range  [1e-02, 2e+02]\n",
      "  Bounds range     [1e+00, 1e+00]\n",
      "  RHS range        [1e+00, 3e+05]\n",
      "\n",
      "Loaded MIP start with objective 293.846\n",
      "\n",
      "Presolve removed 45 rows and 28 columns\n",
      "Presolve time: 0.09s\n",
      "Presolved: 35 rows, 12 columns, 78 nonzeros\n",
      "Variable types: 8 continuous, 4 integer (4 binary)\n",
      "\n",
      "Root relaxation: objective 4.438358e+02, 8 iterations, 0.00 seconds\n",
      "\n",
      "    Nodes    |    Current Node    |     Objective Bounds      |     Work\n",
      " Expl Unexpl |  Obj  Depth IntInf | Incumbent    BestBd   Gap | It/Node Time\n",
      "\n",
      "*    0     0               0     443.8357500  443.83575  0.00%     -    0s\n",
      "\n",
      "Explored 0 nodes (8 simplex iterations) in 0.12 seconds\n",
      "Thread count was 8 (of 8 available processors)\n",
      "\n",
      "Solution count 2: 443.836 293.846 \n",
      "\n",
      "Optimal solution found (tolerance 1.00e-04)\n",
      "Best objective 4.438357500000e+02, best bound 4.438357500000e+02, gap 0.0000%\n",
      "################################\n",
      "The total reward is 450.0 \n",
      "The delay cost is  0.0 \n",
      "The total travel cost is  6.164249999999999\n",
      "0.0\n",
      "finish solving problem at  2018-07-08 12:26:30.741447\n"
     ]
    }
   ],
   "source": [
    "output_flag=1\n",
    "target_hh_id=2287301\n",
    "# target_hh_id=2744264\n",
    "min_length=15\n",
    "max_length=20\n",
    "single_model_runtime=60*0.5\n",
    "drivingcost_per_mile=1\n",
    "reward_mode=2\n",
    "run_mode=0\n",
    "darp_solutions=[]\n",
    "cav_use_mode=1\n",
    "num_time_interval=1\n",
    "TL=[i*1440/num_time_interval for i in range(num_time_interval)]\n",
    "TU=[(i+1)*1440/num_time_interval for i in range(num_time_interval)]\n",
    "target_hh=traveler_trips[traveler_trips['hh_id']==target_hh_id].drop_duplicates(subset=['orig_maz','dest_maz','orig_purpose','dest_purpose','starttime','joint_trip_flag'])\n",
    "#Sort all trips based on start time. This step could reduce the solving time and make it easier to track\n",
    "sorted_trips=target_hh.sort_values(\"starttime\")\n",
    "#hh_index give an index to all trips within the household for tracking purpose\n",
    "hh_num_trips=sorted_trips.shape[0]\n",
    "sorted_trips[\"hh_index\"]=(range(hh_num_trips))\n",
    "# sorted_trips=sorted_trips.loc[sorted_trips.tripmode<=6]\n",
    "\n",
    "num_cav=2\n",
    "share_ride_factor=1.5\n",
    "time_window_flag=0\n",
    "#         time_window_flag=1\n",
    "# num_cav=1\n",
    "# share_ride_factor=1.5\n",
    "# time_window_flag=0\n",
    "print('**************')\n",
    "print('Num_CAV',num_cav,share_ride_factor,time_window_flag)\n",
    "print('**************')\n",
    "darp_solutions.extend([sod.solve_with_schedule_partition(sorted_trips,Vehicular_Skim,Transit_AB_Cost_Skim,superzone_map,min_length,max_length,\n",
    "                            reward_mode,drivingcost_per_mile,share_ride_factor,output_flag,run_mode,num_cav,\n",
    "                          cav_use_mode,time_window_flag,single_model_runtime,num_time_interval,TL,TU)])"
   ]
  },
  {
   "cell_type": "code",
   "execution_count": 407,
   "metadata": {},
   "outputs": [
    {
     "name": "stdout",
     "output_type": "stream",
     "text": [
      "125 129 0\n",
      "128 129 1\n"
     ]
    }
   ],
   "source": [
    "initial_route_info=darp_solutions[0]['route_info']\n",
    "\n",
    "initial_route_info[['orig_node_index','dest_node_index','hh_vehicle_id']]=initial_route_info[['orig_node_index','dest_node_index','hh_vehicle_id']].astype(int)\n",
    "x_sol,T_sol=sod.extract_solution_from_route_info(initial_route_info,hh_num_trips,num_cav)\n"
   ]
  },
  {
   "cell_type": "code",
   "execution_count": 359,
   "metadata": {},
   "outputs": [],
   "source": [
    "sod.move_neighborhood(x_sol,T_sol,initial_route_info,hh_num_trips,\n",
    "                      num_cav,shake_size,Vehicular_Skim_Dict)"
   ]
  },
  {
   "cell_type": "code",
   "execution_count": 425,
   "metadata": {
    "collapsed": true
   },
   "outputs": [],
   "source": [
    "num_hh_member,hh_num_trips,C,TT,expected_arrival_time,expected_leave_time,early_penalty,late_penalty,early_penalty_threshold,late_penalty_threshold,visit_candidate_zone\\\n",
    "    =prd.extract_hh_information(sorted_trips,Vehicular_Skim,Transit_AB_Cost_Skim,superzone_map,drivingcost_per_mile,num_time_interval)"
   ]
  },
  {
   "cell_type": "code",
   "execution_count": 515,
   "metadata": {},
   "outputs": [
    {
     "name": "stdout",
     "output_type": "stream",
     "text": [
      "2018-07-09 19:46:10.023464\n",
      "1 2018-07-09 19:46:21.624147\n",
      "0 1 0 129.0 1.6 129.0 130.6\n",
      "1 65 6 131.8 2.8 131.8 134.6\n",
      "2 66 6 151.0 2.0 151.0 153.0\n",
      "66 3 7 163.0 1.6 163.0 164.6\n",
      "3 67 8 169.3 6.3 168.4 175.6\n",
      "67 4 8 255.0 5.5 255.0 260.5\n",
      "4 68 12 256.7 1.7 256.6 258.4\n",
      "68 5 12 293.0 1.7 293.0 294.7\n",
      "5 69 14 295.7 2.7 295.4 298.4\n",
      "6 70 14 312.5 2.9 312.5 315.4\n",
      "70 7 15 335.0 1.7 335.0 336.7\n",
      "7 71 16 336.8 1.8 336.6 338.6\n",
      "71 8 16 338.6 1.8 338.2 340.4\n",
      "8 72 16 346.7 8.1 344.6 354.8\n",
      "9 73 17 354.0 7.3 350.8 361.3\n",
      "73 11 17 355.7 1.7 352.4 357.4\n",
      "11 10 17 357.4 1.7 354.0 359.1\n",
      "10 74 17 361.6 4.2 357.6 365.8\n",
      "74 75 18 370.1 8.5 366.2 378.6\n",
      "12 76 18 388.1 9.0 388.1 397.1\n",
      "76 13 19 440.3 1.9 440.3 442.2\n",
      "13 14 22 444.0 1.7 444.0 445.7\n",
      "14 78 22 447.9 3.9 447.8 451.8\n",
      "15 79 22 450.0 2.1 449.8 452.1\n",
      "79 77 22 455.1 5.1 454.7 460.2\n",
      "77 16 22 465.0 3.6 465.0 468.6\n",
      "16 80 23 470.2 5.1 470.2 475.3\n",
      "80 18 23 495.0 9.3 495.0 504.3\n",
      "18 82 24 503.2 7.6 503.2 510.8\n",
      "19 83 25 509.0 1.1 509.0 510.1\n",
      "83 21 25 528.0 1.1 528.0 529.1\n",
      "21 85 26 530.3 2.3 530.1 532.6\n",
      "85 20 26 534.5 4.2 534.3 538.7\n",
      "20 84 26 537.5 3.0 537.2 540.5\n",
      "84 25 26 545.01 4.9 545.01 549.91\n",
      "25 89 27 547.91 2.9 547.31 550.81\n",
      "89 28 27 548.41 0.5 547.81 548.91\n",
      "28 92 27 551.61 3.2 550.91 554.81\n",
      "92 24 27 556.01 4.4 555.41 560.41\n",
      "24 88 27 556.51 0.5 555.91 557.01\n",
      "88 27 27 557.01 0.5 556.41 557.51\n",
      "27 91 27 557.51 0.5 556.91 558.01\n",
      "91 23 27 559.51 2.0 558.91 561.51\n",
      "23 87 27 560.71 1.2 559.91 561.91\n",
      "87 22 28 562.91 2.2 562.01 565.11\n",
      "22 86 28 567.21 4.3 566.21 571.51\n",
      "86 26 28 568.41 1.2 568.0 569.61\n",
      "26 90 28 571.71 3.3 571.3 575.01\n",
      "90 29 28 642.0 1.7 642.0 643.7\n",
      "29 93 32 646.2 4.2 646.1 650.4\n",
      "93 31 32 646.7 0.5 646.6 647.2\n",
      "31 95 32 649.2 2.5 649.1 651.7\n",
      "95 30 32 650.9 1.7 650.9 652.6\n",
      "30 94 32 656.1 5.2 655.5 661.3\n",
      "94 34 32 674.6 0.3 674.6 674.9\n",
      "34 33 33 677.4 2.8 677.3 680.2\n",
      "33 97 33 679.6 2.2 679.4 681.8\n",
      "97 98 33 681.5 1.9 681.2 683.4\n",
      "98 32 34 683.4 1.9 683.0 685.3\n",
      "32 96 34 689.8 6.3 689.8 696.1\n",
      "96 36 34 714.9 6.8 714.9 721.7\n",
      "36 35 35 720.4 5.5 719.2 725.9\n",
      "35 100 36 722.3 1.9 721.0 724.2\n",
      "100 99 36 728.1 5.8 725.8 733.9\n",
      "99 37 36 769.0 5.6 769.0 774.6\n",
      "37 101 38 773.4 4.4 772.8 777.8\n",
      "101 38 38 785.0 3.9 785.0 788.9\n",
      "38 102 39 788.3 3.3 788.2 791.6\n",
      "39 103 39 797.1 2.2 797.1 799.3\n",
      "103 40 39 813.0 1.8 813.0 814.8\n",
      "40 104 40 814.9 1.9 814.9 816.8\n",
      "104 42 40 868.01 4.2 868.01 872.21\n",
      "42 41 43 871.91 3.9 871.51 875.81\n",
      "41 106 43 873.81 1.9 873.21 875.71\n",
      "106 105 43 879.71 5.9 877.91 885.61\n",
      "105 43 43 919.0 0.3 919.0 919.3\n",
      "43 44 45 922.55 2.7 922.55 925.25\n",
      "44 108 46 924.65 2.1 924.65 926.75\n",
      "108 107 46 926.45 1.8 926.35 928.25\n",
      "107 46 46 951.0 1.8 951.0 952.8\n",
      "46 110 47 952.8 1.8 952.8 954.6\n",
      "110 48 47 989.0 1.8 989.0 990.8\n",
      "48 112 49 993.8 4.2 993.8 998.0\n",
      "112 54 49 1042.8 5.9 1042.8 1048.7\n",
      "54 118 52 1046.2 3.3 1046.2 1049.5\n",
      "118 53 52 1048.0 1.7 1048.0 1049.7\n",
      "53 117 52 1049.8 1.7 1049.8 1051.5\n",
      "117 55 52 1059.0 1.7 1059.0 1060.7\n",
      "55 119 52 1060.8 1.7 1060.8 1062.5\n",
      "119 56 53 1063.0 1.7 1063.0 1064.7\n",
      "56 120 53 1064.8 1.7 1064.8 1066.5\n",
      "57 121 53 1071.8 1.7 1071.8 1073.5\n",
      "121 58 53 1123.0 3.8 1123.0 1126.8\n",
      "58 122 56 1125.3 1.9 1125.3 1127.2\n",
      "122 59 56 1138.0 1.7 1138.0 1139.7\n",
      "59 123 56 1143.4 4.9 1143.4 1148.3\n",
      "123 62 57 1144.6 1.1 1144.6 1145.7\n",
      "62 126 57 1150.5 4.6 1150.5 1155.1\n",
      "126 60 57 1152.3 1.7 1152.3 1154.0\n",
      "60 124 57 1154.0 1.7 1154.0 1155.7\n",
      "124 61 57 1163.0 5.4 1163.0 1168.4\n",
      "61 125 58 1168.8 4.8 1168.8 1173.6\n",
      "125 129 58 1170.4 1.6 0.0 1172.0\n",
      "Optimize a model with 24836 rows, 1217060 columns and 1240088 nonzeros\n",
      "Model has 103 piecewise-linear objective terms\n",
      "Variable types: 260 continuous, 1216800 integer (1216800 binary)\n",
      "Coefficient statistics:\n",
      "  Matrix range     [1e-02, 2e+02]\n",
      "  Objective range  [1e+00, 1e+00]\n",
      "  Bounds range     [1e+00, 1e+00]\n",
      "  RHS range        [1e+00, 3e+05]\n",
      "\n",
      "MIP start produced solution with objective 59365.9 (2.93s)\n",
      "Loaded MIP start with objective 59666.4\n",
      "Processed MIP start in 3.06 seconds\n",
      "\n",
      "Presolve removed 16892 rows and 1210229 columns\n",
      "Presolve time: 4.25s\n",
      "Presolved: 22047 rows, 21244 columns, 64108 nonzeros\n",
      "Presolved model has 100 SOS constraint(s)\n",
      "Variable types: 7520 continuous, 13724 integer (13724 binary)\n",
      "\n",
      "Root simplex log...\n",
      "\n",
      "Iteration    Objective       Primal Inf.    Dual Inf.      Time\n",
      "       0   -7.0000000e+29   1.050000e+31   7.000000e-01      8s\n",
      "\n",
      "Root relaxation: infeasible, 12198 iterations, 1.01 seconds\n",
      "\n",
      "    Nodes    |    Current Node    |     Objective Bounds      |     Work\n",
      " Expl Unexpl |  Obj  Depth IntInf | Incumbent    BestBd   Gap | It/Node Time\n",
      "\n",
      "     0     0 infeasible    0      59666.4104 59666.4104  0.00%     -    9s\n",
      "\n",
      "Explored 0 nodes (12198 simplex iterations) in 9.35 seconds\n",
      "Thread count was 8 (of 8 available processors)\n",
      "\n",
      "Solution count 1: 59666.4 \n",
      "\n",
      "Optimal solution found (tolerance 1.00e-04)\n",
      "Best objective 5.966641040000e+04, best bound 5.966641040000e+04, gap 0.0000%\n",
      "2018-07-09 19:46:40.724270\n"
     ]
    }
   ],
   "source": [
    "print(datetime.datetime.now())\n",
    "m3,T,S=sod.optimal_start_time(sorted_trips,x_sol[:,:,0],T_sol,hh_num_trips,expected_arrival_time,Vehicular_Skim_Dict,visit_candidate_zone,\n",
    "    early_penalty,late_penalty,early_penalty_threshold,late_penalty_threshold,superzone_map)\n",
    "print(datetime.datetime.now())"
   ]
  },
  {
   "cell_type": "code",
   "execution_count": 132,
   "metadata": {},
   "outputs": [
    {
     "name": "stdout",
     "output_type": "stream",
     "text": [
      "2018-07-07 10:13:40.138472\n",
      "2018-07-07 10:13:40.143473\n",
      "2018-07-07 10:13:41.068532\n"
     ]
    }
   ],
   "source": [
    "print(datetime.datetime.now())\n",
    "for i in range(100):\n",
    "    for j in initial_route_info.orig_node_index:\n",
    "        z=1\n",
    "print(datetime.datetime.now())\n",
    "\n",
    "for i in range(100):\n",
    "    for index, row in initial_route_info.iterrows():\n",
    "        z=1\n",
    "    \n",
    "print(datetime.datetime.now())"
   ]
  },
  {
   "cell_type": "markdown",
   "metadata": {},
   "source": [
    "# Solve for all households car trips only"
   ]
  },
  {
   "cell_type": "code",
   "execution_count": 611,
   "metadata": {},
   "outputs": [
    {
     "data": {
      "text/plain": [
       "72"
      ]
     },
     "execution_count": 611,
     "metadata": {},
     "output_type": "execute_result"
    }
   ],
   "source": [
    "max(Vehicular_Skim_Dict[1][1])"
   ]
  },
  {
   "cell_type": "code",
   "execution_count": 607,
   "metadata": {},
   "outputs": [
    {
     "data": {
      "text/plain": [
       "{'Cost': 0.0, 'Dist': 1.86, 'Time': 1.1, 'VOT': 1.0}"
      ]
     },
     "execution_count": 607,
     "metadata": {},
     "output_type": "execute_result"
    }
   ],
   "source": [
    "Vehicular_Skim_Dict[1][2][1][1]"
   ]
  },
  {
   "cell_type": "code",
   "execution_count": 621,
   "metadata": {},
   "outputs": [
    {
     "data": {
      "text/plain": [
       "130"
      ]
     },
     "execution_count": 621,
     "metadata": {},
     "output_type": "execute_result"
    }
   ],
   "source": [
    "len(x_sol)"
   ]
  },
  {
   "cell_type": "code",
   "execution_count": 623,
   "metadata": {},
   "outputs": [],
   "source": [
    "zz={i:j for i in range(130) for j in range(130) if x_sol[i,j,0] > 0.5}"
   ]
  },
  {
   "cell_type": "code",
   "execution_count": 627,
   "metadata": {},
   "outputs": [
    {
     "data": {
      "text/plain": [
       "111"
      ]
     },
     "execution_count": 627,
     "metadata": {},
     "output_type": "execute_result"
    }
   ],
   "source": [
    "len(zz)"
   ]
  },
  {
   "cell_type": "code",
   "execution_count": 628,
   "metadata": {},
   "outputs": [
    {
     "data": {
      "text/plain": [
       "[0, 0, 0]"
      ]
     },
     "execution_count": 628,
     "metadata": {},
     "output_type": "execute_result"
    }
   ],
   "source": [
    "[0]*3"
   ]
  },
  {
   "cell_type": "code",
   "execution_count": 630,
   "metadata": {},
   "outputs": [
    {
     "data": {
      "text/plain": [
       "111.0"
      ]
     },
     "execution_count": 630,
     "metadata": {},
     "output_type": "execute_result"
    }
   ],
   "source": [
    "sum(sum(x_sol[:,:,0]))"
   ]
  },
  {
   "cell_type": "code",
   "execution_count": 632,
   "metadata": {},
   "outputs": [
    {
     "ename": "IndentationError",
     "evalue": "unexpected indent (<ipython-input-632-f0509627d9a4>, line 2)",
     "output_type": "error",
     "traceback": [
      "\u001b[1;36m  File \u001b[1;32m\"<ipython-input-632-f0509627d9a4>\"\u001b[1;36m, line \u001b[1;32m2\u001b[0m\n\u001b[1;33m    upstream_node=0\u001b[0m\n\u001b[1;37m    ^\u001b[0m\n\u001b[1;31mIndentationError\u001b[0m\u001b[1;31m:\u001b[0m unexpected indent\n"
     ]
    }
   ],
   "source": [
    "route_node=[0]\n",
    "upstream_node=0\n",
    "while upstream_node in route_seq_dict:\n",
    "    route_node.extend([route_seq_dict[upstream_node]])\n",
    "    upstream_node=route_node[-1]\n",
    "travelers_set_list=[]"
   ]
  },
  {
   "cell_type": "code",
   "execution_count": 631,
   "metadata": {},
   "outputs": [
    {
     "name": "stdout",
     "output_type": "stream",
     "text": [
      "1 2018-07-10 13:51:16.584492\n",
      "2 2018-07-10 13:51:16.584492\n"
     ]
    },
    {
     "ename": "TypeError",
     "evalue": "'numpy.float64' object cannot be interpreted as an integer",
     "output_type": "error",
     "traceback": [
      "\u001b[1;31m---------------------------------------------------------------------------\u001b[0m",
      "\u001b[1;31mTypeError\u001b[0m                                 Traceback (most recent call last)",
      "\u001b[1;32m<ipython-input-631-c47ba17c29d1>\u001b[0m in \u001b[0;36m<module>\u001b[1;34m()\u001b[0m\n\u001b[0;32m      6\u001b[0m     \u001b[0mupstream_node\u001b[0m\u001b[1;33m=\u001b[0m\u001b[0mroute_temp\u001b[0m\u001b[1;33m[\u001b[0m\u001b[1;33m-\u001b[0m\u001b[1;36m1\u001b[0m\u001b[1;33m]\u001b[0m\u001b[1;33m\u001b[0m\u001b[0m\n\u001b[0;32m      7\u001b[0m \u001b[0mprint\u001b[0m\u001b[1;33m(\u001b[0m\u001b[1;36m2\u001b[0m\u001b[1;33m,\u001b[0m\u001b[0mdatetime\u001b[0m\u001b[1;33m.\u001b[0m\u001b[0mdatetime\u001b[0m\u001b[1;33m.\u001b[0m\u001b[0mnow\u001b[0m\u001b[1;33m(\u001b[0m\u001b[1;33m)\u001b[0m\u001b[1;33m)\u001b[0m\u001b[1;33m\u001b[0m\u001b[0m\n\u001b[1;32m----> 8\u001b[1;33m \u001b[0mroute_temp\u001b[0m\u001b[1;33m=\u001b[0m\u001b[1;33m[\u001b[0m\u001b[1;36m0\u001b[0m\u001b[1;33m]\u001b[0m\u001b[1;33m*\u001b[0m\u001b[0msum\u001b[0m\u001b[1;33m(\u001b[0m\u001b[0msum\u001b[0m\u001b[1;33m(\u001b[0m\u001b[0mx_sol\u001b[0m\u001b[1;33m[\u001b[0m\u001b[1;33m:\u001b[0m\u001b[1;33m,\u001b[0m\u001b[1;33m:\u001b[0m\u001b[1;33m,\u001b[0m\u001b[1;36m0\u001b[0m\u001b[1;33m]\u001b[0m\u001b[1;33m)\u001b[0m\u001b[1;33m)\u001b[0m\u001b[1;33m\u001b[0m\u001b[0m\n\u001b[0m",
      "\u001b[1;31mTypeError\u001b[0m: 'numpy.float64' object cannot be interpreted as an integer"
     ]
    }
   ],
   "source": [
    "print(1,datetime.datetime.now())\n",
    "route_temp=[0]\n",
    "upstream_node=0\n",
    "while upstream_node in zz:\n",
    "    route_temp.extend([zz[upstream_node]])\n",
    "    upstream_node=route_temp[-1]\n",
    "print(2,datetime.datetime.now())\n",
    "route_temp=[0]*int(sum(sum(x_sol[:,:,0])))\n",
    "for i i\n"
   ]
  },
  {
   "cell_type": "code",
   "execution_count": 626,
   "metadata": {},
   "outputs": [
    {
     "data": {
      "text/plain": [
       "[1,\n",
       " 65,\n",
       " 66,\n",
       " 67,\n",
       " 68,\n",
       " 69,\n",
       " 70,\n",
       " 71,\n",
       " 72,\n",
       " 73,\n",
       " 74,\n",
       " 10,\n",
       " 76,\n",
       " 14,\n",
       " 78,\n",
       " 79,\n",
       " 80,\n",
       " 82,\n",
       " 83,\n",
       " 84,\n",
       " 85,\n",
       " 86,\n",
       " 87,\n",
       " 88,\n",
       " 89,\n",
       " 90,\n",
       " 91,\n",
       " 92,\n",
       " 93,\n",
       " 94,\n",
       " 95,\n",
       " 96,\n",
       " 97,\n",
       " 33,\n",
       " 100,\n",
       " 35,\n",
       " 101,\n",
       " 102,\n",
       " 103,\n",
       " 104,\n",
       " 106,\n",
       " 41,\n",
       " 44,\n",
       " 108,\n",
       " 110,\n",
       " 112,\n",
       " 117,\n",
       " 118,\n",
       " 119,\n",
       " 120,\n",
       " 121,\n",
       " 122,\n",
       " 123,\n",
       " 124,\n",
       " 125,\n",
       " 126,\n",
       " 2,\n",
       " 3,\n",
       " 4,\n",
       " 5,\n",
       " 6,\n",
       " 7,\n",
       " 8,\n",
       " 9,\n",
       " 11,\n",
       " 75,\n",
       " 12,\n",
       " 13,\n",
       " 16,\n",
       " 15,\n",
       " 77,\n",
       " 18,\n",
       " 19,\n",
       " 21,\n",
       " 25,\n",
       " 20,\n",
       " 26,\n",
       " 22,\n",
       " 27,\n",
       " 28,\n",
       " 29,\n",
       " 23,\n",
       " 24,\n",
       " 31,\n",
       " 34,\n",
       " 30,\n",
       " 36,\n",
       " 98,\n",
       " 32,\n",
       " 37,\n",
       " 99,\n",
       " 38,\n",
       " 39,\n",
       " 40,\n",
       " 42,\n",
       " 43,\n",
       " 105,\n",
       " 46,\n",
       " 107,\n",
       " 48,\n",
       " 54,\n",
       " 55,\n",
       " 53,\n",
       " 56,\n",
       " 57,\n",
       " 58,\n",
       " 59,\n",
       " 62,\n",
       " 61,\n",
       " 129,\n",
       " 60]"
      ]
     },
     "execution_count": 626,
     "metadata": {},
     "output_type": "execute_result"
    }
   ],
   "source": [
    "\n"
   ]
  },
  {
   "cell_type": "code",
   "execution_count": 625,
   "metadata": {},
   "outputs": [
    {
     "name": "stdout",
     "output_type": "stream",
     "text": [
      "2018-07-10 13:43:44.208903\n",
      "1 2018-07-10 13:43:44.392909\n",
      "2 2018-07-10 13:43:44.404910\n",
      "3 2018-07-10 13:43:44.404910\n",
      "4 2018-07-10 13:43:44.784932\n",
      "5 2018-07-10 13:43:46.484031\n",
      "2018-07-10 13:43:46.506039\n",
      "2018-07-10 13:43:46.519040\n",
      "2018-07-10 13:43:48.337146\n"
     ]
    }
   ],
   "source": [
    "output_flag=0\n",
    "print(datetime.datetime.now())\n",
    "route_info1=sod.find_av_schedule_exact_method(2744264,traveler_trips.loc[traveler_trips.tripmode<=6],output_flag,min_length,max_length,single_model_runtime,drivingcost_per_mile,\n",
    "                         reward_mode,run_mode,cav_use_mode,num_time_interval,num_cav,share_ride_factor\n",
    "                         ,time_window_flag,Vehicular_Skim_Dict,Transit_AB_Cost_Skim,superzone_map,TL,TU)\n",
    "print(datetime.datetime.now())\n",
    "target_hh=traveler_trips[(traveler_trips['hh_id']==2744264) &(traveler_trips.tripmode<=6)]\\\n",
    "        .drop_duplicates(subset=['orig_maz','dest_maz','orig_purpose','dest_purpose',\n",
    "                                 'starttime','joint_trip_flag'])\n",
    "#Sort all trips based on start time. This step could reduce the solving time and make it easier to track\n",
    "sorted_trips=target_hh.sort_values(\"starttime\")\n",
    "hh_num_trips=sorted_trips.shape[0]\n",
    "\n",
    "sorted_trips[\"hh_index\"]=(range(hh_num_trips))\n",
    "print(datetime.datetime.now())\n",
    "darp_solution1=sod.solve_with_schedule_partition(sorted_trips,Vehicular_Skim_Dict,Transit_AB_Cost_Skim,superzone_map,min_length,max_length,\n",
    "                                    reward_mode,drivingcost_per_mile,share_ride_factor,output_flag,run_mode,num_cav,\n",
    "                                    cav_use_mode,time_window_flag,single_model_runtime,num_time_interval,TL,TU)\n",
    "print(datetime.datetime.now())"
   ]
  },
  {
   "cell_type": "code",
   "execution_count": 614,
   "metadata": {},
   "outputs": [
    {
     "data": {
      "text/html": [
       "<div>\n",
       "<style>\n",
       "    .dataframe thead tr:only-child th {\n",
       "        text-align: right;\n",
       "    }\n",
       "\n",
       "    .dataframe thead th {\n",
       "        text-align: left;\n",
       "    }\n",
       "\n",
       "    .dataframe tbody tr th {\n",
       "        vertical-align: top;\n",
       "    }\n",
       "</style>\n",
       "<table border=\"1\" class=\"dataframe\">\n",
       "  <thead>\n",
       "    <tr style=\"text-align: right;\">\n",
       "      <th></th>\n",
       "      <th>orig_zone</th>\n",
       "      <th>dest_zone</th>\n",
       "      <th>orig_node_index</th>\n",
       "      <th>dest_node_index</th>\n",
       "      <th>person_id</th>\n",
       "      <th>origin_arrival_time</th>\n",
       "      <th>dest_arrival_time</th>\n",
       "      <th>dest_expected_arrival_time</th>\n",
       "      <th>value_of_time</th>\n",
       "      <th>start_time</th>\n",
       "      <th>Activity_Time</th>\n",
       "      <th>hh_id</th>\n",
       "      <th>seg_index</th>\n",
       "      <th>intrasuperzone_flag</th>\n",
       "      <th>hh_vehicle_id</th>\n",
       "      <th>veh_seg_index</th>\n",
       "    </tr>\n",
       "  </thead>\n",
       "  <tbody>\n",
       "    <tr>\n",
       "      <th>0</th>\n",
       "      <td>1</td>\n",
       "      <td>16</td>\n",
       "      <td>1</td>\n",
       "      <td>11</td>\n",
       "      <td>8600957</td>\n",
       "      <td>1.0</td>\n",
       "      <td>6.9</td>\n",
       "      <td>6.9</td>\n",
       "      <td>0.1164</td>\n",
       "      <td>1.0</td>\n",
       "      <td>24.1</td>\n",
       "      <td>2744264.0</td>\n",
       "      <td>0</td>\n",
       "      <td>0</td>\n",
       "      <td>0</td>\n",
       "      <td>2744264.0_0_0</td>\n",
       "    </tr>\n",
       "    <tr>\n",
       "      <th>2</th>\n",
       "      <td>16</td>\n",
       "      <td>5</td>\n",
       "      <td>2</td>\n",
       "      <td>12</td>\n",
       "      <td>8600957</td>\n",
       "      <td>31.0</td>\n",
       "      <td>35.2</td>\n",
       "      <td>35.2</td>\n",
       "      <td>0.1164</td>\n",
       "      <td>31.0</td>\n",
       "      <td>32.8</td>\n",
       "      <td>2744264.0</td>\n",
       "      <td>0</td>\n",
       "      <td>0</td>\n",
       "      <td>0</td>\n",
       "      <td>2744264.0_0_0</td>\n",
       "    </tr>\n",
       "    <tr>\n",
       "      <th>4</th>\n",
       "      <td>5</td>\n",
       "      <td>1</td>\n",
       "      <td>3</td>\n",
       "      <td>13</td>\n",
       "      <td>8600957</td>\n",
       "      <td>68.0</td>\n",
       "      <td>70.7</td>\n",
       "      <td>70.7</td>\n",
       "      <td>0.1164</td>\n",
       "      <td>68.0</td>\n",
       "      <td>38.3</td>\n",
       "      <td>2744264.0</td>\n",
       "      <td>0</td>\n",
       "      <td>0</td>\n",
       "      <td>0</td>\n",
       "      <td>2744264.0_0_0</td>\n",
       "    </tr>\n",
       "    <tr>\n",
       "      <th>6</th>\n",
       "      <td>1</td>\n",
       "      <td>1</td>\n",
       "      <td>4</td>\n",
       "      <td>14</td>\n",
       "      <td>8600957</td>\n",
       "      <td>109.0</td>\n",
       "      <td>109.3</td>\n",
       "      <td>109.3</td>\n",
       "      <td>0.1164</td>\n",
       "      <td>109.0</td>\n",
       "      <td>198.7</td>\n",
       "      <td>2744264.0</td>\n",
       "      <td>1</td>\n",
       "      <td>0</td>\n",
       "      <td>0</td>\n",
       "      <td>2744264.0_1_0</td>\n",
       "    </tr>\n",
       "    <tr>\n",
       "      <th>8</th>\n",
       "      <td>1</td>\n",
       "      <td>4</td>\n",
       "      <td>5</td>\n",
       "      <td>15</td>\n",
       "      <td>8600957</td>\n",
       "      <td>308.0</td>\n",
       "      <td>308.7</td>\n",
       "      <td>308.7</td>\n",
       "      <td>0.1164</td>\n",
       "      <td>308.0</td>\n",
       "      <td>423.3</td>\n",
       "      <td>2744264.0</td>\n",
       "      <td>2</td>\n",
       "      <td>0</td>\n",
       "      <td>0</td>\n",
       "      <td>2744264.0_2_0</td>\n",
       "    </tr>\n",
       "    <tr>\n",
       "      <th>9</th>\n",
       "      <td>4</td>\n",
       "      <td>1</td>\n",
       "      <td>15</td>\n",
       "      <td>6</td>\n",
       "      <td>0</td>\n",
       "      <td>308.7</td>\n",
       "      <td>732.0</td>\n",
       "      <td>732.0</td>\n",
       "      <td>0.0100</td>\n",
       "      <td>732.0</td>\n",
       "      <td>0.0</td>\n",
       "      <td>2744264.0</td>\n",
       "      <td>3</td>\n",
       "      <td>0</td>\n",
       "      <td>0</td>\n",
       "      <td>2744264.0_3_0</td>\n",
       "    </tr>\n",
       "    <tr>\n",
       "      <th>10</th>\n",
       "      <td>1</td>\n",
       "      <td>14</td>\n",
       "      <td>6</td>\n",
       "      <td>16</td>\n",
       "      <td>8600958</td>\n",
       "      <td>732.0</td>\n",
       "      <td>738.8</td>\n",
       "      <td>738.8</td>\n",
       "      <td>0.1164</td>\n",
       "      <td>732.0</td>\n",
       "      <td>131.2</td>\n",
       "      <td>2744264.0</td>\n",
       "      <td>4</td>\n",
       "      <td>0</td>\n",
       "      <td>0</td>\n",
       "      <td>2744264.0_4_0</td>\n",
       "    </tr>\n",
       "    <tr>\n",
       "      <th>12</th>\n",
       "      <td>14</td>\n",
       "      <td>4</td>\n",
       "      <td>7</td>\n",
       "      <td>8</td>\n",
       "      <td>8600958</td>\n",
       "      <td>864.5</td>\n",
       "      <td>873.0</td>\n",
       "      <td>873.0</td>\n",
       "      <td>0.1164</td>\n",
       "      <td>870.0</td>\n",
       "      <td>0.0</td>\n",
       "      <td>2744264.0</td>\n",
       "      <td>4</td>\n",
       "      <td>0</td>\n",
       "      <td>0</td>\n",
       "      <td>2744264.0_4_0</td>\n",
       "    </tr>\n",
       "    <tr>\n",
       "      <th>13</th>\n",
       "      <td>4</td>\n",
       "      <td>1</td>\n",
       "      <td>8</td>\n",
       "      <td>17</td>\n",
       "      <td>8600957</td>\n",
       "      <td>873.0</td>\n",
       "      <td>874.8</td>\n",
       "      <td>879.1</td>\n",
       "      <td>0.1164</td>\n",
       "      <td>873.0</td>\n",
       "      <td>0.0</td>\n",
       "      <td>2744264.0</td>\n",
       "      <td>5</td>\n",
       "      <td>0</td>\n",
       "      <td>0</td>\n",
       "      <td>2744264.0_5_0</td>\n",
       "    </tr>\n",
       "    <tr>\n",
       "      <th>14</th>\n",
       "      <td>1</td>\n",
       "      <td>1</td>\n",
       "      <td>17</td>\n",
       "      <td>18</td>\n",
       "      <td>8600957</td>\n",
       "      <td>874.8</td>\n",
       "      <td>875.1</td>\n",
       "      <td>874.8</td>\n",
       "      <td>0.1164</td>\n",
       "      <td>873.0</td>\n",
       "      <td>39.2</td>\n",
       "      <td>2744264.0</td>\n",
       "      <td>6</td>\n",
       "      <td>0</td>\n",
       "      <td>0</td>\n",
       "      <td>2744264.0_6_0</td>\n",
       "    </tr>\n",
       "    <tr>\n",
       "      <th>16</th>\n",
       "      <td>1</td>\n",
       "      <td>10</td>\n",
       "      <td>9</td>\n",
       "      <td>19</td>\n",
       "      <td>8600957</td>\n",
       "      <td>914.0</td>\n",
       "      <td>920.9</td>\n",
       "      <td>920.9</td>\n",
       "      <td>0.1164</td>\n",
       "      <td>914.0</td>\n",
       "      <td>77.1</td>\n",
       "      <td>2744264.0</td>\n",
       "      <td>7</td>\n",
       "      <td>0</td>\n",
       "      <td>0</td>\n",
       "      <td>2744264.0_7_0</td>\n",
       "    </tr>\n",
       "    <tr>\n",
       "      <th>18</th>\n",
       "      <td>10</td>\n",
       "      <td>1</td>\n",
       "      <td>10</td>\n",
       "      <td>20</td>\n",
       "      <td>8600957</td>\n",
       "      <td>998.0</td>\n",
       "      <td>1006.0</td>\n",
       "      <td>1006.0</td>\n",
       "      <td>0.1164</td>\n",
       "      <td>998.0</td>\n",
       "      <td>434.0</td>\n",
       "      <td>2744264.0</td>\n",
       "      <td>7</td>\n",
       "      <td>0</td>\n",
       "      <td>0</td>\n",
       "      <td>2744264.0_7_0</td>\n",
       "    </tr>\n",
       "  </tbody>\n",
       "</table>\n",
       "</div>"
      ],
      "text/plain": [
       "    orig_zone  dest_zone  orig_node_index  dest_node_index  person_id  \\\n",
       "0           1         16                1               11    8600957   \n",
       "2          16          5                2               12    8600957   \n",
       "4           5          1                3               13    8600957   \n",
       "6           1          1                4               14    8600957   \n",
       "8           1          4                5               15    8600957   \n",
       "9           4          1               15                6          0   \n",
       "10          1         14                6               16    8600958   \n",
       "12         14          4                7                8    8600958   \n",
       "13          4          1                8               17    8600957   \n",
       "14          1          1               17               18    8600957   \n",
       "16          1         10                9               19    8600957   \n",
       "18         10          1               10               20    8600957   \n",
       "\n",
       "    origin_arrival_time  dest_arrival_time  dest_expected_arrival_time  \\\n",
       "0                   1.0                6.9                         6.9   \n",
       "2                  31.0               35.2                        35.2   \n",
       "4                  68.0               70.7                        70.7   \n",
       "6                 109.0              109.3                       109.3   \n",
       "8                 308.0              308.7                       308.7   \n",
       "9                 308.7              732.0                       732.0   \n",
       "10                732.0              738.8                       738.8   \n",
       "12                864.5              873.0                       873.0   \n",
       "13                873.0              874.8                       879.1   \n",
       "14                874.8              875.1                       874.8   \n",
       "16                914.0              920.9                       920.9   \n",
       "18                998.0             1006.0                      1006.0   \n",
       "\n",
       "    value_of_time  start_time  Activity_Time      hh_id  seg_index  \\\n",
       "0          0.1164         1.0           24.1  2744264.0          0   \n",
       "2          0.1164        31.0           32.8  2744264.0          0   \n",
       "4          0.1164        68.0           38.3  2744264.0          0   \n",
       "6          0.1164       109.0          198.7  2744264.0          1   \n",
       "8          0.1164       308.0          423.3  2744264.0          2   \n",
       "9          0.0100       732.0            0.0  2744264.0          3   \n",
       "10         0.1164       732.0          131.2  2744264.0          4   \n",
       "12         0.1164       870.0            0.0  2744264.0          4   \n",
       "13         0.1164       873.0            0.0  2744264.0          5   \n",
       "14         0.1164       873.0           39.2  2744264.0          6   \n",
       "16         0.1164       914.0           77.1  2744264.0          7   \n",
       "18         0.1164       998.0          434.0  2744264.0          7   \n",
       "\n",
       "    intrasuperzone_flag  hh_vehicle_id  veh_seg_index  \n",
       "0                     0              0  2744264.0_0_0  \n",
       "2                     0              0  2744264.0_0_0  \n",
       "4                     0              0  2744264.0_0_0  \n",
       "6                     0              0  2744264.0_1_0  \n",
       "8                     0              0  2744264.0_2_0  \n",
       "9                     0              0  2744264.0_3_0  \n",
       "10                    0              0  2744264.0_4_0  \n",
       "12                    0              0  2744264.0_4_0  \n",
       "13                    0              0  2744264.0_5_0  \n",
       "14                    0              0  2744264.0_6_0  \n",
       "16                    0              0  2744264.0_7_0  \n",
       "18                    0              0  2744264.0_7_0  "
      ]
     },
     "execution_count": 614,
     "metadata": {},
     "output_type": "execute_result"
    }
   ],
   "source": [
    "route_info"
   ]
  },
  {
   "cell_type": "code",
   "execution_count": 573,
   "metadata": {},
   "outputs": [
    {
     "data": {
      "text/html": [
       "<div>\n",
       "<style>\n",
       "    .dataframe thead tr:only-child th {\n",
       "        text-align: right;\n",
       "    }\n",
       "\n",
       "    .dataframe thead th {\n",
       "        text-align: left;\n",
       "    }\n",
       "\n",
       "    .dataframe tbody tr th {\n",
       "        vertical-align: top;\n",
       "    }\n",
       "</style>\n",
       "<table border=\"1\" class=\"dataframe\">\n",
       "  <thead>\n",
       "    <tr style=\"text-align: right;\">\n",
       "      <th></th>\n",
       "      <th>orig_zone</th>\n",
       "      <th>dest_zone</th>\n",
       "      <th>orig_node_index</th>\n",
       "      <th>dest_node_index</th>\n",
       "      <th>person_id</th>\n",
       "      <th>origin_arrival_time</th>\n",
       "      <th>dest_arrival_time</th>\n",
       "      <th>dest_expected_arrival_time</th>\n",
       "      <th>value_of_time</th>\n",
       "      <th>start_time</th>\n",
       "      <th>Activity_Time</th>\n",
       "      <th>hh_id</th>\n",
       "      <th>seg_index</th>\n",
       "      <th>intrasuperzone_flag</th>\n",
       "      <th>hh_vehicle_id</th>\n",
       "      <th>veh_seg_index</th>\n",
       "    </tr>\n",
       "  </thead>\n",
       "  <tbody>\n",
       "    <tr>\n",
       "      <th>0</th>\n",
       "      <td>1</td>\n",
       "      <td>16</td>\n",
       "      <td>1</td>\n",
       "      <td>11</td>\n",
       "      <td>8600957</td>\n",
       "      <td>1.0</td>\n",
       "      <td>6.9</td>\n",
       "      <td>6.9</td>\n",
       "      <td>0.1164</td>\n",
       "      <td>1.0</td>\n",
       "      <td>24.1</td>\n",
       "      <td>2744264.0</td>\n",
       "      <td>0</td>\n",
       "      <td>0</td>\n",
       "      <td>0</td>\n",
       "      <td>2744264.0_0_0</td>\n",
       "    </tr>\n",
       "    <tr>\n",
       "      <th>2</th>\n",
       "      <td>16</td>\n",
       "      <td>5</td>\n",
       "      <td>2</td>\n",
       "      <td>12</td>\n",
       "      <td>8600957</td>\n",
       "      <td>31.0</td>\n",
       "      <td>35.2</td>\n",
       "      <td>35.2</td>\n",
       "      <td>0.1164</td>\n",
       "      <td>31.0</td>\n",
       "      <td>32.8</td>\n",
       "      <td>2744264.0</td>\n",
       "      <td>0</td>\n",
       "      <td>0</td>\n",
       "      <td>0</td>\n",
       "      <td>2744264.0_0_0</td>\n",
       "    </tr>\n",
       "    <tr>\n",
       "      <th>4</th>\n",
       "      <td>5</td>\n",
       "      <td>1</td>\n",
       "      <td>3</td>\n",
       "      <td>13</td>\n",
       "      <td>8600957</td>\n",
       "      <td>68.0</td>\n",
       "      <td>70.7</td>\n",
       "      <td>70.7</td>\n",
       "      <td>0.1164</td>\n",
       "      <td>68.0</td>\n",
       "      <td>38.3</td>\n",
       "      <td>2744264.0</td>\n",
       "      <td>0</td>\n",
       "      <td>0</td>\n",
       "      <td>0</td>\n",
       "      <td>2744264.0_0_0</td>\n",
       "    </tr>\n",
       "    <tr>\n",
       "      <th>6</th>\n",
       "      <td>1</td>\n",
       "      <td>1</td>\n",
       "      <td>4</td>\n",
       "      <td>14</td>\n",
       "      <td>8600957</td>\n",
       "      <td>109.0</td>\n",
       "      <td>109.3</td>\n",
       "      <td>109.3</td>\n",
       "      <td>0.1164</td>\n",
       "      <td>109.0</td>\n",
       "      <td>198.7</td>\n",
       "      <td>2744264.0</td>\n",
       "      <td>1</td>\n",
       "      <td>0</td>\n",
       "      <td>0</td>\n",
       "      <td>2744264.0_1_0</td>\n",
       "    </tr>\n",
       "    <tr>\n",
       "      <th>8</th>\n",
       "      <td>1</td>\n",
       "      <td>4</td>\n",
       "      <td>5</td>\n",
       "      <td>15</td>\n",
       "      <td>8600957</td>\n",
       "      <td>308.0</td>\n",
       "      <td>308.7</td>\n",
       "      <td>308.7</td>\n",
       "      <td>0.1164</td>\n",
       "      <td>308.0</td>\n",
       "      <td>423.3</td>\n",
       "      <td>2744264.0</td>\n",
       "      <td>2</td>\n",
       "      <td>0</td>\n",
       "      <td>0</td>\n",
       "      <td>2744264.0_2_0</td>\n",
       "    </tr>\n",
       "    <tr>\n",
       "      <th>9</th>\n",
       "      <td>4</td>\n",
       "      <td>1</td>\n",
       "      <td>15</td>\n",
       "      <td>6</td>\n",
       "      <td>0</td>\n",
       "      <td>308.7</td>\n",
       "      <td>732.0</td>\n",
       "      <td>732.0</td>\n",
       "      <td>0.0100</td>\n",
       "      <td>732.0</td>\n",
       "      <td>0.0</td>\n",
       "      <td>2744264.0</td>\n",
       "      <td>3</td>\n",
       "      <td>0</td>\n",
       "      <td>0</td>\n",
       "      <td>2744264.0_3_0</td>\n",
       "    </tr>\n",
       "    <tr>\n",
       "      <th>10</th>\n",
       "      <td>1</td>\n",
       "      <td>14</td>\n",
       "      <td>6</td>\n",
       "      <td>16</td>\n",
       "      <td>8600958</td>\n",
       "      <td>732.0</td>\n",
       "      <td>738.8</td>\n",
       "      <td>738.8</td>\n",
       "      <td>0.1164</td>\n",
       "      <td>732.0</td>\n",
       "      <td>131.2</td>\n",
       "      <td>2744264.0</td>\n",
       "      <td>4</td>\n",
       "      <td>0</td>\n",
       "      <td>0</td>\n",
       "      <td>2744264.0_4_0</td>\n",
       "    </tr>\n",
       "    <tr>\n",
       "      <th>12</th>\n",
       "      <td>14</td>\n",
       "      <td>4</td>\n",
       "      <td>7</td>\n",
       "      <td>8</td>\n",
       "      <td>8600958</td>\n",
       "      <td>864.5</td>\n",
       "      <td>873.0</td>\n",
       "      <td>873.0</td>\n",
       "      <td>0.1164</td>\n",
       "      <td>870.0</td>\n",
       "      <td>0.0</td>\n",
       "      <td>2744264.0</td>\n",
       "      <td>4</td>\n",
       "      <td>0</td>\n",
       "      <td>0</td>\n",
       "      <td>2744264.0_4_0</td>\n",
       "    </tr>\n",
       "    <tr>\n",
       "      <th>13</th>\n",
       "      <td>4</td>\n",
       "      <td>1</td>\n",
       "      <td>8</td>\n",
       "      <td>17</td>\n",
       "      <td>8600957</td>\n",
       "      <td>873.0</td>\n",
       "      <td>874.8</td>\n",
       "      <td>879.1</td>\n",
       "      <td>0.1164</td>\n",
       "      <td>873.0</td>\n",
       "      <td>0.0</td>\n",
       "      <td>2744264.0</td>\n",
       "      <td>5</td>\n",
       "      <td>0</td>\n",
       "      <td>0</td>\n",
       "      <td>2744264.0_5_0</td>\n",
       "    </tr>\n",
       "    <tr>\n",
       "      <th>14</th>\n",
       "      <td>1</td>\n",
       "      <td>1</td>\n",
       "      <td>17</td>\n",
       "      <td>18</td>\n",
       "      <td>8600957</td>\n",
       "      <td>874.8</td>\n",
       "      <td>875.1</td>\n",
       "      <td>874.8</td>\n",
       "      <td>0.1164</td>\n",
       "      <td>873.0</td>\n",
       "      <td>39.2</td>\n",
       "      <td>2744264.0</td>\n",
       "      <td>6</td>\n",
       "      <td>0</td>\n",
       "      <td>0</td>\n",
       "      <td>2744264.0_6_0</td>\n",
       "    </tr>\n",
       "    <tr>\n",
       "      <th>16</th>\n",
       "      <td>1</td>\n",
       "      <td>10</td>\n",
       "      <td>9</td>\n",
       "      <td>19</td>\n",
       "      <td>8600957</td>\n",
       "      <td>914.0</td>\n",
       "      <td>920.9</td>\n",
       "      <td>920.9</td>\n",
       "      <td>0.1164</td>\n",
       "      <td>914.0</td>\n",
       "      <td>77.1</td>\n",
       "      <td>2744264.0</td>\n",
       "      <td>7</td>\n",
       "      <td>0</td>\n",
       "      <td>0</td>\n",
       "      <td>2744264.0_7_0</td>\n",
       "    </tr>\n",
       "    <tr>\n",
       "      <th>18</th>\n",
       "      <td>10</td>\n",
       "      <td>1</td>\n",
       "      <td>10</td>\n",
       "      <td>20</td>\n",
       "      <td>8600957</td>\n",
       "      <td>998.0</td>\n",
       "      <td>1006.0</td>\n",
       "      <td>1006.0</td>\n",
       "      <td>0.1164</td>\n",
       "      <td>998.0</td>\n",
       "      <td>434.0</td>\n",
       "      <td>2744264.0</td>\n",
       "      <td>7</td>\n",
       "      <td>0</td>\n",
       "      <td>0</td>\n",
       "      <td>2744264.0_7_0</td>\n",
       "    </tr>\n",
       "  </tbody>\n",
       "</table>\n",
       "</div>"
      ],
      "text/plain": [
       "    orig_zone  dest_zone  orig_node_index  dest_node_index  person_id  \\\n",
       "0           1         16                1               11    8600957   \n",
       "2          16          5                2               12    8600957   \n",
       "4           5          1                3               13    8600957   \n",
       "6           1          1                4               14    8600957   \n",
       "8           1          4                5               15    8600957   \n",
       "9           4          1               15                6          0   \n",
       "10          1         14                6               16    8600958   \n",
       "12         14          4                7                8    8600958   \n",
       "13          4          1                8               17    8600957   \n",
       "14          1          1               17               18    8600957   \n",
       "16          1         10                9               19    8600957   \n",
       "18         10          1               10               20    8600957   \n",
       "\n",
       "    origin_arrival_time  dest_arrival_time  dest_expected_arrival_time  \\\n",
       "0                   1.0                6.9                         6.9   \n",
       "2                  31.0               35.2                        35.2   \n",
       "4                  68.0               70.7                        70.7   \n",
       "6                 109.0              109.3                       109.3   \n",
       "8                 308.0              308.7                       308.7   \n",
       "9                 308.7              732.0                       732.0   \n",
       "10                732.0              738.8                       738.8   \n",
       "12                864.5              873.0                       873.0   \n",
       "13                873.0              874.8                       879.1   \n",
       "14                874.8              875.1                       874.8   \n",
       "16                914.0              920.9                       920.9   \n",
       "18                998.0             1006.0                      1006.0   \n",
       "\n",
       "    value_of_time  start_time  Activity_Time      hh_id  seg_index  \\\n",
       "0          0.1164         1.0           24.1  2744264.0          0   \n",
       "2          0.1164        31.0           32.8  2744264.0          0   \n",
       "4          0.1164        68.0           38.3  2744264.0          0   \n",
       "6          0.1164       109.0          198.7  2744264.0          1   \n",
       "8          0.1164       308.0          423.3  2744264.0          2   \n",
       "9          0.0100       732.0            0.0  2744264.0          3   \n",
       "10         0.1164       732.0          131.2  2744264.0          4   \n",
       "12         0.1164       870.0            0.0  2744264.0          4   \n",
       "13         0.1164       873.0            0.0  2744264.0          5   \n",
       "14         0.1164       873.0           39.2  2744264.0          6   \n",
       "16         0.1164       914.0           77.1  2744264.0          7   \n",
       "18         0.1164       998.0          434.0  2744264.0          7   \n",
       "\n",
       "    intrasuperzone_flag  hh_vehicle_id  veh_seg_index  \n",
       "0                     0              0  2744264.0_0_0  \n",
       "2                     0              0  2744264.0_0_0  \n",
       "4                     0              0  2744264.0_0_0  \n",
       "6                     0              0  2744264.0_1_0  \n",
       "8                     0              0  2744264.0_2_0  \n",
       "9                     0              0  2744264.0_3_0  \n",
       "10                    0              0  2744264.0_4_0  \n",
       "12                    0              0  2744264.0_4_0  \n",
       "13                    0              0  2744264.0_5_0  \n",
       "14                    0              0  2744264.0_6_0  \n",
       "16                    0              0  2744264.0_7_0  \n",
       "18                    0              0  2744264.0_7_0  "
      ]
     },
     "execution_count": 573,
     "metadata": {},
     "output_type": "execute_result"
    }
   ],
   "source": [
    "route_info"
   ]
  },
  {
   "cell_type": "code",
   "execution_count": 594,
   "metadata": {
    "collapsed": true
   },
   "outputs": [],
   "source": [
    "z=traveler_trips[traveler_trips.tripmode<=6].drop_duplicates(subset=['orig_maz','dest_maz','orig_purpose','dest_purpose',\n",
    "                                 'starttime','joint_trip_flag','hh_id'])"
   ]
  },
  {
   "cell_type": "code",
   "execution_count": 600,
   "metadata": {
    "scrolled": false
   },
   "outputs": [
    {
     "name": "stdout",
     "output_type": "stream",
     "text": [
      "Estimate Route for the  0 th household  2018-07-10 12:20:53.966112\n",
      "1 8 2018-07-10 12:20:56.415249\n",
      "2 11 2018-07-10 12:20:59.478434\n",
      "3 10 2018-07-10 12:21:02.349604\n",
      "4 8 2018-07-10 12:21:04.793747\n",
      "5 16 2018-07-10 12:21:09.656027\n",
      "6 2 2018-07-10 12:21:11.206124\n",
      "7 3 2018-07-10 12:21:12.922224\n",
      "8 4 2018-07-10 12:21:14.860333\n",
      "9 5 2018-07-10 12:21:16.785446\n",
      "10 8 2018-07-10 12:21:19.201589\n",
      "11 7 2018-07-10 12:21:21.429724\n",
      "12 8 2018-07-10 12:21:24.047873\n",
      "13 22 2018-07-10 12:21:31.214295\n",
      "14 4 2018-07-10 12:21:32.999401\n",
      "15 13 2018-07-10 12:21:36.887628\n",
      "16 11 2018-07-10 12:21:40.012813\n",
      "17 4 2018-07-10 12:21:41.787916\n",
      "18 6 2018-07-10 12:21:43.863043\n",
      "19 10 2018-07-10 12:21:46.767209\n",
      "20 2 2018-07-10 12:21:48.279303\n",
      "21 5 2018-07-10 12:21:50.263419\n",
      "22 23 2018-07-10 12:21:56.834800\n",
      "23 15 2018-07-10 12:22:01.174062\n",
      "24 7 2018-07-10 12:22:03.380185\n",
      "25 4 2018-07-10 12:22:05.216298\n",
      "26 4 2018-07-10 12:22:07.061401\n",
      "27 3 2018-07-10 12:22:08.661500\n",
      "28 7 2018-07-10 12:22:10.967631\n",
      "29 4 2018-07-10 12:22:12.768737\n",
      "30 11 2018-07-10 12:22:15.819916\n",
      "31 7 2018-07-10 12:22:18.098055\n",
      "32 14 2018-07-10 12:22:22.239294\n",
      "33 6 2018-07-10 12:22:24.337416\n",
      "34 10 2018-07-10 12:22:27.096579\n",
      "35 20 2018-07-10 12:22:34.628022\n",
      "36 4 2018-07-10 12:22:36.400125\n",
      "37 3 2018-07-10 12:22:38.021226\n",
      "38 11 2018-07-10 12:22:41.199413\n",
      "39 19 2018-07-10 12:22:47.484778\n",
      "40 10 2018-07-10 12:22:50.226938\n",
      "41 8 2018-07-10 12:22:52.658081\n",
      "42 8 2018-07-10 12:22:55.121226\n",
      "43 11 2018-07-10 12:22:58.279417\n",
      "44 16 2018-07-10 12:23:03.420719\n",
      "45 4 2018-07-10 12:23:05.192824\n",
      "46 6 2018-07-10 12:23:07.272940\n",
      "47 2 2018-07-10 12:23:08.827036\n",
      "48 15 2018-07-10 12:23:12.993278\n",
      "49 4 2018-07-10 12:23:14.818383\n",
      "50 7 2018-07-10 12:23:17.057515\n",
      "51 8 2018-07-10 12:23:19.457662\n",
      "52 15 2018-07-10 12:23:24.185934\n",
      "53 11 2018-07-10 12:23:27.472133\n",
      "54 4 2018-07-10 12:23:29.248237\n",
      "55 13 2018-07-10 12:23:33.135466\n",
      "56 5 2018-07-10 12:23:35.082575\n",
      "57 8 2018-07-10 12:23:37.497718\n",
      "58 6 2018-07-10 12:23:39.579839\n",
      "59 2 2018-07-10 12:23:41.126936\n",
      "60 7 2018-07-10 12:23:43.455067\n",
      "61 4 2018-07-10 12:23:45.296175\n",
      "62 4 2018-07-10 12:23:47.117282\n",
      "63 6 2018-07-10 12:23:49.431418\n",
      "64 2 2018-07-10 12:23:50.996515\n",
      "65 4 2018-07-10 12:23:52.806616\n",
      "66 6 2018-07-10 12:23:54.873738\n",
      "67 4 2018-07-10 12:23:56.682844\n",
      "68 13 2018-07-10 12:24:00.536077\n",
      "69 6 2018-07-10 12:24:02.571190\n",
      "70 5 2018-07-10 12:24:04.482308\n",
      "71 9 2018-07-10 12:24:07.065454\n",
      "72 9 2018-07-10 12:24:09.568602\n",
      "73 9 2018-07-10 12:24:12.202756\n",
      "74 22 2018-07-10 12:24:19.725201\n",
      "75 11 2018-07-10 12:24:22.890384\n",
      "76 9 2018-07-10 12:24:25.468536\n",
      "77 8 2018-07-10 12:24:27.797673\n",
      "78 24 2018-07-10 12:24:35.655134\n",
      "79 4 2018-07-10 12:24:37.448240\n",
      "80 6 2018-07-10 12:24:39.497361\n",
      "81 4 2018-07-10 12:24:41.285470\n",
      "82 2 2018-07-10 12:24:43.032576\n",
      "83 8 2018-07-10 12:24:45.578718\n",
      "84 14 2018-07-10 12:24:49.711967\n",
      "85 5 2018-07-10 12:24:51.646075\n",
      "86 3 2018-07-10 12:24:53.266176\n",
      "87 6 2018-07-10 12:24:55.414302\n",
      "88 13 2018-07-10 12:24:59.073511\n",
      "89 15 2018-07-10 12:25:03.670782\n",
      "90 6 2018-07-10 12:25:05.760905\n",
      "91 3 2018-07-10 12:25:07.378000\n",
      "92 12 2018-07-10 12:25:10.655198\n",
      "93 7 2018-07-10 12:25:12.888323\n",
      "94 4 2018-07-10 12:25:14.652427\n",
      "95 13 2018-07-10 12:25:18.817671\n",
      "96 19 2018-07-10 12:25:26.644132\n",
      "97 7 2018-07-10 12:25:28.871263\n",
      "98 8 2018-07-10 12:25:31.253403\n",
      "99 8 2018-07-10 12:25:33.706547\n",
      "100 2 2018-07-10 12:25:35.252643\n",
      "Estimate Route for the  100 th household  2018-07-10 12:25:35.256644\n",
      "101 7 2018-07-10 12:25:37.543772\n",
      "102 10 2018-07-10 12:25:40.400946\n",
      "103 12 2018-07-10 12:25:43.872150\n",
      "104 3 2018-07-10 12:25:45.506246\n",
      "105 12 2018-07-10 12:25:49.048454\n",
      "106 8 2018-07-10 12:25:51.431594\n",
      "107 11 2018-07-10 12:25:54.539772\n",
      "108 9 2018-07-10 12:25:57.157931\n",
      "109 8 2018-07-10 12:25:59.520065\n",
      "110 3 2018-07-10 12:26:01.193167\n",
      "111 4 2018-07-10 12:26:02.937270\n",
      "112 6 2018-07-10 12:26:04.944382\n",
      "113 1 2018-07-10 12:26:05.081396\n"
     ]
    }
   ],
   "source": [
    "output_flag=0\n",
    "# target_hh_id=2744264\n",
    "min_length=15\n",
    "max_length=20\n",
    "single_model_runtime=60*5\n",
    "drivingcost_per_mile=1\n",
    "reward_mode=2\n",
    "run_mode=0\n",
    "darp_solutions=[]\n",
    "cav_use_mode=0\n",
    "num_time_interval=1\n",
    "TL=[i*1440/num_time_interval for i in range(num_time_interval)]\n",
    "TU=[(i+1)*1440/num_time_interval for i in range(num_time_interval)]\n",
    "num_cav=1\n",
    "share_ride_factor=1.5\n",
    "time_window_flag=0\n",
    "# darp_solutions=[]\n",
    "# for target_hh_id in traveler_trips.hh_id.unique()[0:10]:\n",
    "#     target_hh=traveler_trips[(traveler_trips['hh_id']==target_hh_id) & (traveler_trips.tripmode<=6)]\\\n",
    "#     .drop_duplicates(subset=['orig_maz','dest_maz','orig_purpose','dest_purpose',\n",
    "#                              'starttime','joint_trip_flag'])\n",
    "#     #Sort all trips based on start time. This step could reduce the solving time and make it easier to track\n",
    "#     sorted_trips=target_hh.sort_values(\"starttime\")\n",
    "#     hh_num_trips=sorted_trips.shape[0]\n",
    "#     sorted_trips[\"hh_index\"]=(range(hh_num_trips))\n",
    "#     # sorted_trips=sorted_trips.loc[sorted_trips.tripmode<=6]\n",
    "#     darp_solutions.extend([sod.solve_with_schedule_partition(sorted_trips,Vehicular_Skim,Transit_AB_Cost_Skim,superzone_map,min_length,max_length,\n",
    "#                                 reward_mode,drivingcost_per_mile,share_ride_factor,output_flag,run_mode,num_cav,\n",
    "#                               cav_use_mode,time_window_flag,single_model_runtime,num_time_interval,TL,TU)])\n",
    "\n",
    "route_info_allcartrips,darp_solutions_allcartrips=\\\n",
    "sod.get_route_info_allhh(traveler_trips.loc[traveler_trips.tripmode<=6][0:1000],\n",
    "                         output_flag,min_length,max_length,single_model_runtime,drivingcost_per_mile,\n",
    "                         reward_mode,run_mode,cav_use_mode,num_time_interval,num_cav,share_ride_factor\n",
    "                         ,time_window_flag,Vehicular_Skim,Transit_AB_Cost_Skim,superzone_map,TL,TU)"
   ]
  },
  {
   "cell_type": "code",
   "execution_count": null,
   "metadata": {
    "collapsed": true
   },
   "outputs": [],
   "source": [
    "output_flag=1\n",
    "target_hh_id=2287301\n",
    "# target_hh_id=2744264\n",
    "min_length=15\n",
    "max_length=20\n",
    "run_mode=0\n",
    "single_model_runtime=60*5\n",
    "drivingcost_per_mile=1\n",
    "reward_mode=0\n",
    "darp_solutions1=[]\n",
    "cav_use_mode=1\n",
    "target_hh=traveler_trips[traveler_trips['hh_id']==target_hh_id].drop_duplicates(subset=['orig_maz','dest_maz','orig_purpose','dest_purpose','starttime','joint_trip_flag'])\n",
    "#Sort all trips based on start time. This step could reduce the solving time and make it easier to track\n",
    "sorted_trips=target_hh.sort_values(\"starttime\")\n",
    "#hh_index give an index to all trips within the household for tracking purpose\n",
    "hh_num_trips=sorted_trips.shape[0]\n",
    "sorted_trips[\"hh_index\"]=(range(hh_num_trips))\n",
    "# sorted_trips=sorted_trips.loc[sorted_trips.tripmode<=6]\n",
    "\n",
    "# for num_cav in [2]: #range(1,4):\n",
    "#     for share_ride_factor in [1]: #[1,1.25,1.5]:\n",
    "#         for time_window_flag in [0]:\n",
    "num_cav=2\n",
    "share_ride_factor=1.5\n",
    "time_window_flag=0\n",
    "#         time_window_flag=1\n",
    "# num_cav=1\n",
    "# share_ride_factor=1.5\n",
    "# time_window_flag=0\n",
    "print('**************')\n",
    "print('Num_CAV',num_cav,share_ride_factor,time_window_flag)\n",
    "print('**************')\n",
    "darp_solutions1.extend([sod.solve_with_schedule_partition(sorted_trips,Vehicular_Skim,Transit_AB_Cost_Skim,superzone_map,min_length,max_length,\n",
    "                            reward_mode,drivingcost_per_mile,share_ride_factor,output_flag,run_mode,num_cav,\n",
    "                          cav_use_mode,time_window_flag,single_model_runtime)])"
   ]
  },
  {
   "cell_type": "code",
   "execution_count": null,
   "metadata": {
    "collapsed": true,
    "scrolled": false
   },
   "outputs": [],
   "source": [
    "#!/usr/bin/env python\n",
    "import random\n",
    "import pylab\n",
    "from matplotlib.pyplot import pause\n",
    "\n",
    "pylab.ion()\n",
    "Gnormal=nx.Graph()\n",
    "color_map=[]\n",
    "for i in node_detail:\n",
    "    color_map.append('blue')\n",
    "# nx.draw_networkx_nodes(Gnormal, pos,node_list=[1,2,4],node_color='red',node_size=4)\n",
    "def get_fig():\n",
    "    global color_map\n",
    "    for nodeinf in node_detail:\n",
    "        node=nodeinf[0,0]\n",
    "        Gnormal.add_node(node,pos=(nodexy[node][0],nodexy[node][1]))\n",
    "    for linkinf in link_detail: \n",
    "        Gnormal.add_edge(linkinf[0,0],linkinf[0,1])\n",
    "\n",
    "    pos=nx.get_node_attributes(Gnormal,'pos')\n",
    "    nx.draw(Gnormal,pos,node_size=10,node_color=color_map )\n",
    "num_plots = 50;\n",
    "pylab.show()\n",
    "for i in range(num_plots):\n",
    "    color_map[i]='red'\n",
    "    get_fig()\n",
    "    pylab.draw()\n",
    "    pause(2)"
   ]
  },
  {
   "cell_type": "code",
   "execution_count": null,
   "metadata": {
    "collapsed": true
   },
   "outputs": [],
   "source": [
    "target_hh=traveler_trips[traveler_trips['hh_id']==target_hh_id].drop_duplicates(subset=['orig_maz','dest_maz','orig_purpose','dest_purpose','starttime','joint_trip_flag'])\n",
    "#Sort all trips based on start time. This step could reduce the solving time and make it easier to track\n",
    "sorted_trips=target_hh.sort_values(\"starttime\")\n",
    "#hh_index give an index to all trips within the household for tracking purpose\n",
    "hh_num_trips=sorted_trips.shape[0]"
   ]
  },
  {
   "cell_type": "code",
   "execution_count": null,
   "metadata": {
    "collapsed": true
   },
   "outputs": [],
   "source": [
    "analyzed_results4=pd.DataFrame()\n",
    "for solution in darp_solutions4:\n",
    "        analyzed_results4=analyzed_results4.append(pod.analysis_result(solution,sorted_trips,Vehicular_Skim,superzone_map),ignore_index=True)"
   ]
  },
  {
   "cell_type": "code",
   "execution_count": null,
   "metadata": {
    "collapsed": true
   },
   "outputs": [],
   "source": [
    "analyzed_results"
   ]
  },
  {
   "cell_type": "code",
   "execution_count": null,
   "metadata": {
    "collapsed": true
   },
   "outputs": [],
   "source": [
    "for i in range(1,4):\n",
    "    line_label=str(i)+' CAV'\n",
    "    plt.pyplot.plot(analyzed_results.loc[analyzed_results.num_cav==i,'share_ride_factor'],analyzed_results.loc[analyzed_results.num_cav==i,'total_AV_driving_time'],'-o',label=line_label)\n",
    "plt.pyplot.legend()"
   ]
  },
  {
   "cell_type": "code",
   "execution_count": null,
   "metadata": {
    "collapsed": true
   },
   "outputs": [],
   "source": [
    "sorted_trips.head()"
   ]
  },
  {
   "cell_type": "code",
   "execution_count": null,
   "metadata": {
    "collapsed": true
   },
   "outputs": [],
   "source": [
    "for i in range(1,4):\n",
    "    line_label=str(i)+' CAV'\n",
    "    plt.pyplot.plot(analyzed_results.loc[analyzed_results.num_cav==i,'share_ride_factor'],analyzed_results.loc[analyzed_results.num_cav==i,'total_AV_driving_distance'],'-o',label=line_label)\n",
    "plt.pyplot.legend()"
   ]
  },
  {
   "cell_type": "code",
   "execution_count": null,
   "metadata": {
    "collapsed": true
   },
   "outputs": [],
   "source": [
    "analyzed_results.columns"
   ]
  },
  {
   "cell_type": "code",
   "execution_count": null,
   "metadata": {
    "collapsed": true
   },
   "outputs": [],
   "source": [
    "analyzed_results4"
   ]
  },
  {
   "cell_type": "code",
   "execution_count": null,
   "metadata": {
    "collapsed": true
   },
   "outputs": [],
   "source": [
    "len(darp_solutions4[0]['route_info'])"
   ]
  },
  {
   "cell_type": "code",
   "execution_count": null,
   "metadata": {
    "collapsed": true
   },
   "outputs": [],
   "source": [
    "analyzed_results4.loc[analyzed_results4.share_ride_factor==1].transpose()"
   ]
  },
  {
   "cell_type": "code",
   "execution_count": null,
   "metadata": {
    "collapsed": true
   },
   "outputs": [],
   "source": [
    "zz.hh_vehicle_id.unique()"
   ]
  },
  {
   "cell_type": "code",
   "execution_count": null,
   "metadata": {
    "collapsed": true
   },
   "outputs": [],
   "source": [
    "for i in range(3):\n",
    "    print(len(zz.loc[zz.hh_vehicle_id==i]))"
   ]
  },
  {
   "cell_type": "code",
   "execution_count": null,
   "metadata": {
    "collapsed": true,
    "scrolled": false
   },
   "outputs": [],
   "source": [
    "zz=darp_solutions4[-1]['route_info']\n",
    "# zz=darp_solutions4[5]['route_info']\n",
    "# zz['origin_network_node','dest_network_node']=zz.apply(lambda row: dy.find_orign_destination_node(row['orig_zone'],row['dest_zone'],origins,destinations))\n",
    "for car_id in range(3):\n",
    "    nodes=[]\n",
    "    for index, row in zz.loc[zz.hh_vehicle_id==car_id].iterrows():\n",
    "        nodes.extend(dy.find_orign_destination_node(row['orig_zone'],row['dest_zone'],origins,destinations))\n",
    "    av.zone_node_highlight(nodes,node_detail,link_detail,nodexy,'r')"
   ]
  },
  {
   "cell_type": "code",
   "execution_count": null,
   "metadata": {
    "collapsed": true
   },
   "outputs": [],
   "source": [
    "darp_solutions4[-1]['route_info'].head()"
   ]
  },
  {
   "cell_type": "code",
   "execution_count": null,
   "metadata": {
    "collapsed": true
   },
   "outputs": [],
   "source": [
    "pod.plot_route_info_schedule(darp_solutions4[-1]['route_info'],sorted_trips,3)"
   ]
  },
  {
   "cell_type": "code",
   "execution_count": null,
   "metadata": {
    "collapsed": true
   },
   "outputs": [],
   "source": [
    "analyzed_results4.columns"
   ]
  },
  {
   "cell_type": "code",
   "execution_count": null,
   "metadata": {
    "collapsed": true
   },
   "outputs": [],
   "source": [
    "# for factor in ['num_cav_trips','num_shared_trips','num_unoccupied_trips','total_schedule_penalty','total_travel_cost','num_pickup_trips']:\n",
    "factor='total_schedule_penalty'\n",
    "plt.pyplot.figure()\n",
    "plt.pyplot.xlabel('Ridesharing Tolerance Factor')\n",
    "plt.pyplot.ylabel('Total Late/Early Arrival')\n",
    "for i in range(1,4):\n",
    "    line_label=str(i)+' AV'\n",
    "    plt.pyplot.plot(analyzed_results4.loc[analyzed_results4.num_cav==i,'share_ride_factor'],analyzed_results4.loc[analyzed_results4.num_cav==i,'Total_early_time'].apply(lambda x: abs(x))+analyzed_results4.loc[analyzed_results4.num_cav==i,'total_delayed_time'].apply(lambda x: abs(x)),'-o',label=line_label)\n",
    "plt.pyplot.legend()"
   ]
  },
  {
   "cell_type": "code",
   "execution_count": null,
   "metadata": {
    "collapsed": true
   },
   "outputs": [],
   "source": [
    "# for factor in ['num_cav_trips','num_shared_trips','num_unoccupied_trips','total_schedule_penalty','total_travel_cost','num_pickup_trips']:\n",
    "factor='total_travel_cost'\n",
    "plt.pyplot.figure()\n",
    "plt.pyplot.xlabel('Ridesharing Tolerance Factor ')\n",
    "plt.pyplot.ylabel('Total Generalized Travel Cost')\n",
    "for i in range(1,4):\n",
    "    line_label=str(i)+' AV'\n",
    "    plt.pyplot.plot(analyzed_results4.loc[analyzed_results4.num_cav==i,'share_ride_factor'],analyzed_results4.loc[analyzed_results4.num_cav==i,factor].apply(lambda x: abs(x)),'-o',label=line_label)\n",
    "plt.pyplot.legend()"
   ]
  },
  {
   "cell_type": "code",
   "execution_count": null,
   "metadata": {
    "collapsed": true,
    "scrolled": true
   },
   "outputs": [],
   "source": [
    "len(darp_solutions4[-1]['route_info'])"
   ]
  },
  {
   "cell_type": "code",
   "execution_count": null,
   "metadata": {
    "collapsed": true
   },
   "outputs": [],
   "source": []
  },
  {
   "cell_type": "code",
   "execution_count": null,
   "metadata": {
    "collapsed": true
   },
   "outputs": [],
   "source": [
    "for factor in ['num_cav_trips','num_shared_trips','num_unoccupied_trips','total_schedule_penalty','total_travel_cost','num_pickup_trips']:\n",
    "    plt.pyplot.figure()\n",
    "    plt.pyplot.xlabel('share ride factor')\n",
    "    plt.pyplot.ylabel(factor)\n",
    "    for i in range(1,4):\n",
    "        line_label=str(i)+' Cav'\n",
    "        plt.pyplot.plot(analyzed_results.loc[analyzed_results.num_cav==i,'share_ride_factor'],analyzed_results.loc[analyzed_results.num_cav==i,factor].apply(lambda x: abs(x)),'-o',label=line_label)\n",
    "    plt.pyplot.legend()"
   ]
  },
  {
   "cell_type": "code",
   "execution_count": null,
   "metadata": {
    "collapsed": true
   },
   "outputs": [],
   "source": [
    "for i in darp_solutions:\n",
    "    print(i['num_cav'],i['share_ride_factor'])"
   ]
  },
  {
   "cell_type": "code",
   "execution_count": null,
   "metadata": {
    "collapsed": true
   },
   "outputs": [],
   "source": [
    "\n",
    "route_info.apply(lambda row: prd.estimate_single_car_trip_cost(row.orig_zone,row.dest_zone,row.start_time,row.value_of_time,Vehicular_Skim,2,superzone_map,drivingcost_per_mile),axis=1).sum()/60\n",
    "route_info.apply(lambda row:prd.estimate_single_car_trip_cost(row.orig_zone,row.dest_zone,row.start_time,row.value_of_time,Vehicular_Skim,1,superzone_map,drivingcost_per_mile) ,axis=1).sum()"
   ]
  },
  {
   "cell_type": "code",
   "execution_count": null,
   "metadata": {
    "collapsed": true
   },
   "outputs": [],
   "source": [
    "from Modules import Preprocess_DARP as prd"
   ]
  },
  {
   "cell_type": "code",
   "execution_count": null,
   "metadata": {
    "collapsed": true
   },
   "outputs": [],
   "source": [
    "for j in [2,5,8] :   \n",
    "    z=darp_solutions4[j]['route_info']\n",
    "    for i in range(3):\n",
    "        zz=z.loc[z.hh_vehicle_id==i]\n",
    "        if len(zz)>0:\n",
    "            total_driving_time_temp=zz.apply(lambda row: prd.estimate_single_car_trip_cost(row.orig_zone,row.dest_zone,row.start_time,row.value_of_time,Vehicular_Skim,2,superzone_map,drivingcost_per_mile),axis=1).sum()/60\n",
    "            total_driving_distance_temp=zz.apply(lambda row: prd.estimate_single_car_trip_cost(row.orig_zone,row.dest_zone,row.start_time,row.value_of_time,Vehicular_Skim,1,superzone_map,drivingcost_per_mile),axis=1).sum()\n",
    "            num_pickup_trips=len(zz.loc[zz.orig_node_index<=len(sorted_trips)])\n",
    "            print(i,j,len(zz),num_pickup_trips,total_driving_time_temp,total_driving_distance_temp)"
   ]
  },
  {
   "cell_type": "code",
   "execution_count": null,
   "metadata": {
    "collapsed": true,
    "scrolled": false
   },
   "outputs": [],
   "source": [
    "plt.pyplot.figure(1,figsize=[14.5,10])\n",
    "plt.pyplot.subplot(131)\n",
    "pod.plot_route_info_schedule(darp_solutions4[2]['route_info'],sorted_trips,darp_solutions4[2]['num_cav'])\n",
    "plt.pyplot.subplot(132)\n",
    "pod.plot_route_info_schedule(darp_solutions4[5]['route_info'],sorted_trips,darp_solutions4[5]['num_cav'])\n",
    "plt.pyplot.subplot(133)\n",
    "pod.plot_route_info_schedule(darp_solutions4[8]['route_info'],sorted_trips,darp_solutions4[8]['num_cav'])\n",
    "\n"
   ]
  },
  {
   "cell_type": "code",
   "execution_count": null,
   "metadata": {
    "collapsed": true
   },
   "outputs": [],
   "source": [
    "plt.pyplot.figure(1,figsize=[14.5,10])\n",
    "plt.pyplot.subplot(131)\n",
    "pod.plot_route_info_schedule(darp_solutions[2]['route_info'],sorted_trips,darp_solutions[2]['num_cav'])\n",
    "plt.pyplot.subplot(132)\n",
    "pod.plot_route_info_schedule(darp_solutions[5]['route_info'],sorted_trips,darp_solutions[5]['num_cav'])\n",
    "plt.pyplot.subplot(133)\n",
    "pod.plot_route_info_schedule(darp_solutions[8]['route_info'],sorted_trips,darp_solutions[8]['num_cav'])\n"
   ]
  },
  {
   "cell_type": "code",
   "execution_count": null,
   "metadata": {
    "collapsed": true,
    "scrolled": true
   },
   "outputs": [],
   "source": [
    "Vehicular_Skim.loc[18,15,1,1]"
   ]
  },
  {
   "cell_type": "code",
   "execution_count": null,
   "metadata": {
    "collapsed": true
   },
   "outputs": [],
   "source": [
    "zz1=solution['route_info']"
   ]
  },
  {
   "cell_type": "code",
   "execution_count": null,
   "metadata": {
    "collapsed": true
   },
   "outputs": [],
   "source": [
    "zz1.dest_zone=zz1.dest_zone.apply(lambda x: int(x))"
   ]
  },
  {
   "cell_type": "code",
   "execution_count": null,
   "metadata": {
    "collapsed": true
   },
   "outputs": [],
   "source": [
    "analyzed_results3=pd.DataFrame()\n",
    "for solution in darp_solutions3:\n",
    "    analyzed_results3=analyzed_results3.append(pod.analysis_result(solution,sorted_trips,Vehicular_Skim,superzone_map),ignore_index=True)"
   ]
  },
  {
   "cell_type": "code",
   "execution_count": null,
   "metadata": {
    "collapsed": true
   },
   "outputs": [],
   "source": [
    "analyzed_results3.transpose().to_csv('Output/hh_level_result3.csv')"
   ]
  },
  {
   "cell_type": "code",
   "execution_count": null,
   "metadata": {
    "collapsed": true
   },
   "outputs": [],
   "source": [
    "analyzed_results.transpose().to_csv('hh_level_result.csv')"
   ]
  },
  {
   "cell_type": "code",
   "execution_count": null,
   "metadata": {
    "collapsed": true
   },
   "outputs": [],
   "source": [
    "analyzed_results.transpose()"
   ]
  },
  {
   "cell_type": "markdown",
   "metadata": {},
   "source": [
    "### Basic Statistics"
   ]
  },
  {
   "cell_type": "code",
   "execution_count": null,
   "metadata": {
    "collapsed": true
   },
   "outputs": [],
   "source": [
    "traveler_trips.head()"
   ]
  },
  {
   "cell_type": "code",
   "execution_count": null,
   "metadata": {
    "collapsed": true
   },
   "outputs": [],
   "source": [
    "traveler_trips.columns"
   ]
  },
  {
   "cell_type": "code",
   "execution_count": null,
   "metadata": {
    "collapsed": true
   },
   "outputs": [],
   "source": [
    "#Num of household\n",
    "print('Number of household: \\t',len(traveler_trips.hh_id.unique()))\n",
    "print('Number of traveler: \\t',len(traveler_trips.person_id.unique()))\n",
    "print('Number of trips: \\t',len(traveler_trips))\n",
    "print('Number of indiv trip: \\t',len(traveler_trips[traveler_trips.joint_trip_flag==0]))\n",
    "print('Number of joint trip: \\t',len(traveler_trips[traveler_trips.joint_trip_flag==1]))"
   ]
  },
  {
   "cell_type": "code",
   "execution_count": null,
   "metadata": {
    "collapsed": true
   },
   "outputs": [],
   "source": [
    "traveler_trips['orig_purpose'].value_counts().plot(kind='bar',title='Histogram of Origin Purpose')"
   ]
  },
  {
   "cell_type": "code",
   "execution_count": null,
   "metadata": {
    "collapsed": true
   },
   "outputs": [],
   "source": [
    "traveler_trips.tripmode.hist()"
   ]
  },
  {
   "cell_type": "code",
   "execution_count": null,
   "metadata": {
    "collapsed": true
   },
   "outputs": [],
   "source": [
    "traveler_trips.num_trips.hist()\n",
    "plt.pyplot.title('Histogram of trip per person')"
   ]
  },
  {
   "cell_type": "code",
   "execution_count": null,
   "metadata": {
    "collapsed": true
   },
   "outputs": [],
   "source": [
    "traveler_trips.groupby('hh_id')['num_trips'].count().hist()\n",
    "plt.pyplot.title('Histogram of trip per household')"
   ]
  },
  {
   "cell_type": "markdown",
   "metadata": {},
   "source": [
    "### Sample Household\n",
    "Select household 2287301 for intial analysis"
   ]
  },
  {
   "cell_type": "code",
   "execution_count": null,
   "metadata": {
    "collapsed": true,
    "scrolled": true
   },
   "outputs": [],
   "source": [
    "target_hh_id=2287301\n",
    "people_in_hh=traveler_trips[traveler_trips['hh_id']==target_hh_id]['person_id'].unique()\n",
    "for person in people_in_hh:\n",
    "    #creat trip-chain-origin-destination-list\n",
    "    num_trips=traveler_trips[traveler_trips['person_id']==person]['num_trips'].iloc[0]\n",
    "    print(num_trips)\n",
    "    trip_chain_or=traveler_trips[traveler_trips['person_id']==person][['origin_node','destination_node']]\n",
    "    trip_chain_or['origin_node'].iloc[1:num_trips-1]=trip_chain_or['destination_node'].iloc[0:num_trips-2].tolist()\n",
    "    trip_chain_or['origin_node'].iloc[num_trips-1]=trip_chain_or['destination_node'].iloc[num_trips-2]\n",
    "    #draw the graph\n",
    "    av.trip_chain_highlight(trip_chain_or,node_detail,link_detail,nodexy)\n",
    "#traveler_trips[traveler_trips['hh_id']==2105189]"
   ]
  },
  {
   "cell_type": "markdown",
   "metadata": {},
   "source": [
    "### Solve the optimization for a household \n",
    "\n",
    "The factors need to know about:  \n",
    "1. Decision variable X <sub>ij</sub> and T<sub>j</sub> (departure time from node j)  \n",
    "2. R <sub>i</sub> reward of visiting node i\n",
    "3. S <sub>i</sub> penalty for late/early arrival\n",
    "4. C <sub>ij</sub> travel time between node i and j  \n",
    "5. "
   ]
  },
  {
   "cell_type": "markdown",
   "metadata": {},
   "source": [
    "#### Solve with heuristic"
   ]
  },
  {
   "cell_type": "markdown",
   "metadata": {},
   "source": [
    "## Estimate travel time and cost"
   ]
  },
  {
   "cell_type": "markdown",
   "metadata": {},
   "source": [
    "## Solve the optimization with Gurobi"
   ]
  },
  {
   "cell_type": "code",
   "execution_count": null,
   "metadata": {
    "collapsed": true
   },
   "outputs": [],
   "source": [
    "drivingcost_per_mile=1\n",
    "transit_fare=2\n",
    "transit_asc=2"
   ]
  },
  {
   "cell_type": "markdown",
   "metadata": {},
   "source": [
    "##### Try to solve the problem for a single household"
   ]
  },
  {
   "cell_type": "markdown",
   "metadata": {},
   "source": [
    "#### Solve with exact method"
   ]
  },
  {
   "cell_type": "code",
   "execution_count": null,
   "metadata": {
    "collapsed": true,
    "scrolled": true
   },
   "outputs": [],
   "source": [
    "print('prepare input for dial n ride model at ',datetime.datetime.now())\n",
    "output_flag=1\n",
    "target_hh_id=2287301\n",
    "target_hh=traveler_trips[traveler_trips['hh_id']==target_hh_id].drop_duplicates(subset=['orig_maz','dest_maz','orig_purpose','dest_purpose','starttime','joint_trip_flag'])\n",
    "#Sort all trips based on start time. This step could reduce the solving time and make it easier to track\n",
    "sorted_trips=target_hh.sort_values(\"starttime\")\n",
    "#hh_index give an index to all trips within the household for tracking purpose\n",
    "hh_num_trips=sorted_trips.shape[0]\n",
    "sorted_trips[\"hh_index\"]=(range(hh_num_trips))\n",
    "num_hh_member,hh_num_trips,C,TT,expected_arrival_time,expected_leave_time,early_penalty,late_penalty,early_penalty_threshold,late_penalty_threshold,visit_candidate_zone=extract_hh_information(sorted_trips,Vehicular_Skim,Transit_AB_Cost_Skim,superzone_map)\n",
    "# R=estimate_transit_cost(sorted_trips,TransitMazTazFlag,WalkSpeed,TransitSkimTimeIntervalLength,Transit_AB_Cost_Skim,Transit_AB_Time_Skim,transit_zone_candidates,three_link_walk)\n",
    "R=estimate_trip_reward(hh_num_trips,sorted_trips,Vehicular_Skim)\n",
    "print('start sovling problem at ',datetime.datetime.now())\n",
    "m1,x,T=dial_n_ride_model(num_hh_member,hh_num_trips,C,TT,sorted_trips,expected_arrival_time,early_penalty,late_penalty,early_penalty_threshold,late_penalty_threshold,R,share_ride_factor,output_flag,run_mode=)\n",
    "print('finish solving problem at ',datetime.datetime.now())\n",
    "route_info=extract_route_from_model_solution(x,T,sorted_trips,visit_candidate_zone,hh_num_trips,expected_arrival_time,expected_leave_time)\n",
    "print('extract solution at',datetime.datetime.now())\n",
    "route_info.to_csv('route_info_yingjie.csv')"
   ]
  },
  {
   "cell_type": "code",
   "execution_count": null,
   "metadata": {
    "collapsed": true
   },
   "outputs": [],
   "source": [
    "T_sol=np.ones(2*hh_num_trips+2)\n",
    "for i in range(2*hh_num_trips+2):\n",
    "#     print(int(T[i].x),'\\t',expected_arrival_time[i],'\\t',T[i].x-expected_arrival_time[i])\n",
    "    T_sol[i]=T[i].x\n",
    "schedule_deviation=T_sol-expected_arrival_time\n",
    "analysis_result(all_trips_route_info_partition,sorted_trips,Vehicular_Skim,schedule_deviation)"
   ]
  },
  {
   "cell_type": "markdown",
   "metadata": {},
   "source": [
    "#### Solve with the schedule partition heuristic"
   ]
  },
  {
   "cell_type": "code",
   "execution_count": null,
   "metadata": {
    "collapsed": true
   },
   "outputs": [],
   "source": [
    "def analysis_result(route_info,sorted_trips,Vehicular_Skim,schedule_deviation):\n",
    "    print('Number of CAV Trips',len(route_info))\n",
    "    print('Number of Occupied trips',len(route_info.loc[route_info.person_id>0]))\n",
    "    print('Number of unoccupied trips',len(route_info.loc[route_info.person_id==0]))\n",
    "    print('Number of pickup trips',len(route_info.loc[route_info.orig_node_index<=len(sorted_trips)]))\n",
    "    print('Number of shared trips',len(route_info.loc[(route_info.orig_node_index<=len(sorted_trips)) &(route_info.dest_node_index<=len(sorted_trips))]))\n",
    "    print('Number of convention car trips',len(sorted_trips.loc[sorted_trips.tripmode<=6]))\n",
    "    # Compare the VHT between convention vehicle and CAV\n",
    "    \n",
    "    total_convention_vehicle_driving_time=sorted_trips.loc[sorted_trips.tripmode<=6].apply(lambda row:estimate_single_car_trip_cost(row.orig_taz,row.dest_taz,row.starttime,row.value_of_time,Vehicular_Skim,2),axis=1).sum()\n",
    "    total_AV_driving_time=route_info.apply(lambda row: estimate_single_car_trip_cost(row.orig_zone,row.dest_zone,row.start_time,row.value_of_time,Vehicular_Skim,2),axis=1).sum()\n",
    "    total_AV_unoccupied_driving_time=route_info.loc[route_info.person_id==0].apply(lambda row: estimate_single_car_trip_cost(row.orig_zone,row.dest_zone,row.start_time,row.value_of_time,Vehicular_Skim,2),axis=1).sum()\n",
    "    print('Convention car trips VHT: \\t',total_convention_vehicle_driving_time/60,\n",
    "          '\\nAV driving time: \\t',total_AV_driving_time/60,\n",
    "          '\\nAV unoccupied driving_time: \\t',total_AV_unoccupied_driving_time/60)\n",
    "    # Compare the VMT between convention vehicle and CAV\n",
    "    total_convention_vehicle_driving_distance=sorted_trips.loc[sorted_trips.tripmode<=6].apply(lambda row: estimate_single_car_trip_cost(row.orig_taz,row.dest_taz,row.starttime,row.value_of_time,Vehicular_Skim,1),axis=1).sum()\n",
    "    total_AV_driving_distance=route_info.apply(lambda row:estimate_single_car_trip_cost(row.orig_zone,row.dest_zone,row.start_time,row.value_of_time,Vehicular_Skim,1) ,axis=1).sum()\n",
    "    total_AV_unoccupied_driving_distance=route_info.loc[route_info.person_id==0].apply(lambda row:estimate_single_car_trip_cost(row.orig_zone,row.dest_zone,row.start_time,row.value_of_time,Vehicular_Skim,1),axis=1).sum()\n",
    "    print('Convention VMT: \\t',total_convention_vehicle_driving_distance,\n",
    "          '\\nAV driving distance: \\t',total_AV_driving_distance,\n",
    "          '\\nAV unoccupied driving_distance: \\t',total_AV_unoccupied_driving_distance)\n",
    "    print('Number of delayed trips\\t',sum(1 for i in schedule_deviation if i >1))\n",
    "    print('Number of early trips\\t',sum(1 for i in schedule_deviation if i <-1))\n",
    "    print('Total delayed time\\t',sum(i for i in schedule_deviation if i >0))\n",
    "    print('Total_early_time\\t',sum(i for i in schedule_deviation if i <0))\n",
    "    plt.pyplot.figure(1,figsize=[2.3,10])\n",
    "    plot_route_info_schedule(route_info,sorted_trips)\n",
    "    return"
   ]
  },
  {
   "cell_type": "code",
   "execution_count": null,
   "metadata": {
    "collapsed": true
   },
   "outputs": [],
   "source": [
    "def plot_route_info_schedule(route_info,sorted_trips):\n",
    "#     z=traveler_trips[traveler_trips.hh_id==route_info.hh_id[0]]\n",
    "    sorted_trips.loc[:,'p_id']=sorted_trips.groupby(['person_id']).ngroup()\n",
    "    hh_num_trips=len(sorted_trips)\n",
    "    person_id_and_inhouse_p_id_map=dict(zip(sorted_trips.person_id,sorted_trips.p_id))\n",
    "    person_id_and_inhouse_p_id_map[0]=-1\n",
    "    route_info['p_id']=route_info.person_id.apply(lambda x: person_id_and_inhouse_p_id_map[x])\n",
    "    \n",
    "    plt.pyplot.scatter(route_info.loc[(route_info.p_id!=-1) & (route_info.orig_node_index<1+hh_num_trips),'p_id'],\n",
    "                route_info.loc[(route_info.p_id!=-1) & (route_info.orig_node_index<1+hh_num_trips),'origin_arrival_time'])\n",
    "    plt.pyplot.plot(route_info.loc[(route_info.p_id!=-1) & (route_info.orig_node_index<1+hh_num_trips),'p_id'],\n",
    "                    route_info.loc[(route_info.p_id!=-1) & (route_info.orig_node_index<1+hh_num_trips),'origin_arrival_time'])\n",
    "#     plt.pyplot.scatter(route_info.loc[(route_info.p_id!=-1) & (route_info.orig_node_index<1+hh_num_trips) & (route_info.dest_node_index<1+hh_num_trips),'p_id'],\n",
    "#                     route_info.loc[(route_info.p_id!=-1) & (route_info.orig_node_index<1+hh_num_trips) &(route_info.dest_node_index<1+hh_num_trips),'origin_arrival_time'])\n",
    "    plt.pyplot.xlabel('Traveler Index')\n",
    "    plt.pyplot.ylabel('Time')\n",
    "    plt.pyplot.grid()\n",
    "    plt.pyplot.xticks(np.arange(min(sorted_trips.p_id), max(sorted_trips.p_id)+1, 1))\n",
    "    plt.pyplot.yticks(np.arange(0,1441,30))\n",
    "#     plt.pyplot.title(title)\n",
    "    return "
   ]
  },
  {
   "cell_type": "markdown",
   "metadata": {},
   "source": [
    "#### All trips take CAV"
   ]
  },
  {
   "cell_type": "code",
   "execution_count": null,
   "metadata": {
    "collapsed": true,
    "scrolled": true
   },
   "outputs": [],
   "source": [
    "output_flag=1\n",
    "target_hh_id=2287301\n",
    "# target_hh_id=2744264\n",
    "min_length=15\n",
    "max_length=20\n",
    "run_mode=0\n",
    "reward_mode=0\n",
    "share_ride_factor=2\n",
    "time_window_flag=0\n",
    "single_model_runtime=60*3\n",
    "target_hh=traveler_trips[traveler_trips['hh_id']==target_hh_id].drop_duplicates(subset=['orig_maz','dest_maz','orig_purpose','dest_purpose','starttime','joint_trip_flag'])\n",
    "#Sort all trips based on start time. This step could reduce the solving time and make it easier to track\n",
    "sorted_trips=target_hh.sort_values(\"starttime\")\n",
    "#hh_index give an index to all trips within the household for tracking purpose\n",
    "hh_num_trips=sorted_trips.shape[0]\n",
    "sorted_trips[\"hh_index\"]=(range(hh_num_trips))\n",
    "all_trips_route_info_partition,all_trips_schedule_deviation=sod.solve_with_schedule_partition(sorted_trips,Vehicular_Skim,Transit_AB_Cost_Skim,superzone_map,min_length,max_length)"
   ]
  },
  {
   "cell_type": "code",
   "execution_count": null,
   "metadata": {
    "collapsed": true
   },
   "outputs": [],
   "source": []
  },
  {
   "cell_type": "code",
   "execution_count": null,
   "metadata": {
    "collapsed": true
   },
   "outputs": [],
   "source": [
    "analysis_result(all_trips_route_info_partition,sorted_trips,Vehicular_Skim,all_trips_schedule_deviation)"
   ]
  },
  {
   "cell_type": "markdown",
   "metadata": {},
   "source": [
    "#### Strict time window"
   ]
  },
  {
   "cell_type": "code",
   "execution_count": null,
   "metadata": {
    "collapsed": true
   },
   "outputs": [],
   "source": [
    "output_flag=1\n",
    "target_hh_id=2287301\n",
    "# target_hh_id=2744264\n",
    "min_length=15\n",
    "max_length=20\n",
    "run_mode=0\n",
    "reward_mode=2\n",
    "time_window_flag=1\n",
    "num_poav=2\n",
    "single_model_runtime=60*5\n",
    "target_hh=traveler_trips[traveler_trips['hh_id']==target_hh_id].drop_duplicates(subset=['orig_maz','dest_maz','orig_purpose','dest_purpose','starttime','joint_trip_flag'])\n",
    "#Sort all trips based on start time. This step could reduce the solving time and make it easier to track\n",
    "sorted_trips=target_hh.sort_values(\"starttime\")\n",
    "#hh_index give an index to all trips within the household for tracking purpose\n",
    "hh_num_trips=sorted_trips.shape[0]\n",
    "sorted_trips[\"hh_index\"]=(range(hh_num_trips))\n",
    "all_trips_route_info_stricttw,all_trips_schedule_deviation_stricttw=solve_with_schedule_partition(sorted_trips,Vehicular_Skim,Transit_AB_Cost_Skim,superzone_map,min_length,max_length)"
   ]
  },
  {
   "cell_type": "code",
   "execution_count": null,
   "metadata": {
    "collapsed": true
   },
   "outputs": [],
   "source": [
    "analysis_result(all_trips_route_info_stricttw,sorted_trips,Vehicular_Skim,all_trips_schedule_deviation_stricttw)"
   ]
  },
  {
   "cell_type": "markdown",
   "metadata": {},
   "source": [
    "##### Only car trips take CAV"
   ]
  },
  {
   "cell_type": "code",
   "execution_count": null,
   "metadata": {
    "collapsed": true
   },
   "outputs": [],
   "source": [
    "len(sorted_car_trips)"
   ]
  },
  {
   "cell_type": "code",
   "execution_count": null,
   "metadata": {
    "collapsed": true
   },
   "outputs": [],
   "source": [
    "output_flag=1\n",
    "target_hh_id=2287301\n",
    "# target_hh_id=2744264\n",
    "min_length=15\n",
    "max_length=20\n",
    "run_mode=0\n",
    "reward_mode=0\n",
    "time_window_flag=0\n",
    "single_model_runtime=60*3\n",
    "target_hh=traveler_trips[traveler_trips['hh_id']==target_hh_id].drop_duplicates(subset=['orig_maz','dest_maz','orig_purpose','dest_purpose','starttime','joint_trip_flag'])\n",
    "#Sort all trips based on start time. This step could reduce the solving time and make it easier to track\n",
    "sorted_trips=target_hh.sort_values(\"starttime\")\n",
    "sorted_car_trips=sorted_trips.loc[sorted_trips.tripmode<=6]\n",
    "#hh_index give an index to all trips within the household for tracking purpose\n",
    "hh_num_trips=sorted_car_trips.shape[0]\n",
    "sorted_car_trips[\"hh_index\"]=(range(hh_num_trips))\n",
    "car_trips_route_info_partition,car_trips_schedule_deviation=solve_with_schedule_partition(sorted_car_trips,Vehicular_Skim,Transit_AB_Cost_Skim,superzone_map,min_length,max_length)"
   ]
  },
  {
   "cell_type": "code",
   "execution_count": null,
   "metadata": {
    "collapsed": true
   },
   "outputs": [],
   "source": [
    "analysis_result(car_trips_route_info_partition,sorted_car_trips,Vehicular_Skim,car_trips_schedule_deviation)"
   ]
  },
  {
   "cell_type": "markdown",
   "metadata": {},
   "source": [
    "#### Ban Shared Rides"
   ]
  },
  {
   "cell_type": "code",
   "execution_count": null,
   "metadata": {
    "collapsed": true,
    "scrolled": true
   },
   "outputs": [],
   "source": [
    "output_flag=1\n",
    "target_hh_id=2287301\n",
    "# target_hh_id=2744264\n",
    "min_length=15\n",
    "max_length=20\n",
    "target_hh=traveler_trips[traveler_trips['hh_id']==target_hh_id].drop_duplicates(subset=['orig_maz','dest_maz','orig_purpose','dest_purpose','starttime','joint_trip_flag'])\n",
    "#Sort all trips based on start time. This step could reduce the solving time and make it easier to track\n",
    "sorted_trips=target_hh.sort_values(\"starttime\")\n",
    "# sorted_trips=sorted_trips.loc[sorted_trips.tripmode<=6]\n",
    "#hh_index give an index to all trips within the household for tracking purpose\n",
    "hh_num_trips=sorted_trips.shape[0]\n",
    "sorted_trips[\"hh_index\"]=(range(hh_num_trips))\n",
    "all_trips_route_info_ban_sharerides,all_trips_schedule_deviation_ban_sharerides=solve_with_schedule_partition(sorted_trips,Vehicular_Skim,Transit_AB_Cost_Skim,superzone_map,min_length,max_length)"
   ]
  },
  {
   "cell_type": "code",
   "execution_count": null,
   "metadata": {
    "collapsed": true
   },
   "outputs": [],
   "source": [
    "analysis_result(all_trips_route_info_ban_sharerides,sorted_trips,Vehicular_Skim,all_trips_schedule_deviation_ban_sharerides)"
   ]
  },
  {
   "cell_type": "markdown",
   "metadata": {},
   "source": [
    "#### Share ride factor 1.25"
   ]
  },
  {
   "cell_type": "code",
   "execution_count": null,
   "metadata": {
    "collapsed": true
   },
   "outputs": [],
   "source": [
    "output_flag=1\n",
    "target_hh_id=2287301\n",
    "# target_hh_id=2744264\n",
    "min_length=15\n",
    "max_length=20\n",
    "share_ride_factor=1.25\n",
    "target_hh=traveler_trips[traveler_trips['hh_id']==target_hh_id].drop_duplicates(subset=['orig_maz','dest_maz','orig_purpose','dest_purpose','starttime','joint_trip_flag'])\n",
    "#Sort all trips based on start time. This step could reduce the solving time and make it easier to track\n",
    "sorted_trips=target_hh.sort_values(\"starttime\")\n",
    "# sorted_trips=sorted_trips.loc[sorted_trips.tripmode<=6]\n",
    "#hh_index give an index to all trips within the household for tracking purpose\n",
    "hh_num_trips=sorted_trips.shape[0]\n",
    "sorted_trips[\"hh_index\"]=(range(hh_num_trips))\n",
    "all_trips_route_info_sharerides125,all_trips_schedule_deviation_sharerides125=solve_with_schedule_partition(sorted_trips,Vehicular_Skim,Transit_AB_Cost_Skim,superzone_map,min_length,max_length)"
   ]
  },
  {
   "cell_type": "code",
   "execution_count": null,
   "metadata": {
    "collapsed": true,
    "scrolled": true
   },
   "outputs": [],
   "source": [
    "analysis_result(all_trips_route_info_sharerides125,sorted_trips,Vehicular_Skim,all_trips_schedule_deviation_sharerides125)"
   ]
  },
  {
   "cell_type": "code",
   "execution_count": null,
   "metadata": {
    "collapsed": true,
    "scrolled": false
   },
   "outputs": [],
   "source": [
    "plt.pyplot.figure(1,figsize=[21,10])\n",
    "plt.pyplot.subplot(141)\n",
    "plt.pyplot.scatter(sorted_trips.person_id.apply(lambda x: person_id_and_inhouse_p_id_map[x]),sorted_trips.starttime)\n",
    "plt.pyplot.scatter(sorted_trips.loc[(sorted_trips.tripmode<=6),'p_id'],\n",
    "                   sorted_trips.loc[(sorted_trips.tripmode<=6),'starttime'],\n",
    "                   c='r')\n",
    "plt.pyplot.xlabel('Traveler Index')\n",
    "plt.pyplot.ylabel('Time')\n",
    "plt.pyplot.grid()\n",
    "plt.pyplot.xticks(np.arange(min(sorted_trips.p_id), max(sorted_trips.p_id)+1, 1))\n",
    "plt.pyplot.yticks(np.arange(0,1441,30))\n",
    "plt.pyplot.subplot(142)\n",
    "plot_route_info_schedule(car_trips_route_info_partition,sorted_car_trips)\n",
    "plt.pyplot.subplot(143)\n",
    "plot_route_info_schedule(all_trips_route_info_partition,sorted_trips)\n",
    "plt.pyplot.subplot(144)\n",
    "plot_route_info_schedule(all_trips_route_info_ban_sharerides,sorted_trips)"
   ]
  },
  {
   "cell_type": "markdown",
   "metadata": {},
   "source": [
    "#### Probability Mode Choice"
   ]
  },
  {
   "cell_type": "code",
   "execution_count": null,
   "metadata": {
    "collapsed": true
   },
   "outputs": [],
   "source": [
    "drivingcost_per_mile=1\n",
    "transit_fare=1.4\n",
    "transit_asc=2"
   ]
  },
  {
   "cell_type": "code",
   "execution_count": null,
   "metadata": {
    "collapsed": true
   },
   "outputs": [],
   "source": [
    "output_flag=1\n",
    "target_hh_id=2287301\n",
    "# target_hh_id=2744264\n",
    "min_length=15\n",
    "max_length=20\n",
    "run_mode=1\n",
    "share_ride_factor=1.5\n",
    "target_hh=traveler_trips[traveler_trips['hh_id']==target_hh_id].drop_duplicates(subset=['orig_maz','dest_maz','orig_purpose','dest_purpose','starttime','joint_trip_flag'])\n",
    "#Sort all trips based on start time. This step could reduce the solving time and make it easier to track\n",
    "sorted_trips=target_hh.sort_values(\"starttime\")\n",
    "# sorted_trips=sorted_trips.loc[sorted_trips.tripmode<=6]\n",
    "#hh_index give an index to all trips within the household for tracking purpose\n",
    "hh_num_trips=sorted_trips.shape[0]\n",
    "sorted_trips[\"hh_index\"]=(range(hh_num_trips))\n",
    "mode_choice_route_info,mode_choice_schedule_deviation=solve_with_schedule_partition(sorted_trips,Vehicular_Skim,Transit_AB_Cost_Skim,superzone_map,min_length,max_length)"
   ]
  },
  {
   "cell_type": "code",
   "execution_count": null,
   "metadata": {
    "collapsed": true
   },
   "outputs": [],
   "source": [
    "sorted_trips=compare_mode_utlity(sorted_trips)"
   ]
  },
  {
   "cell_type": "code",
   "execution_count": null,
   "metadata": {
    "collapsed": true
   },
   "outputs": [],
   "source": [
    "min_length=15\n",
    "max_length=20\n",
    "run_mode=0\n",
    "share_ride_factor=1.5\n",
    "force_serve_factor=1\n",
    "car_sorted_trips=sorted_trips.loc[sorted_trips.expected_mode=='Car']\n",
    "# sorted_trips=sorted_trips.loc[sorted_trips.tripmode<=6]\n",
    "#hh_index give an index to all trips within the household for tracking purpose\n",
    "hh_num_trips=sorted_trips.shape[0]\n",
    "sorted_trips[\"hh_index\"]=(range(hh_num_trips))\n",
    "car_only_mode_choice_route_info,car_only_mode_choice_schedule_deviation=solve_with_schedule_partition(car_sorted_trips,Vehicular_Skim,Transit_AB_Cost_Skim,superzone_map,min_length,max_length)\n",
    "force_serve_factor=0"
   ]
  },
  {
   "cell_type": "code",
   "execution_count": null,
   "metadata": {
    "collapsed": true,
    "scrolled": true
   },
   "outputs": [],
   "source": [
    "sorted_trips[['transit_time','transit_walk_time','car_time','toll_cost','car_dist','transit_utility','car_utility','expected_mode','actual_mode','value_of_time']]"
   ]
  },
  {
   "cell_type": "code",
   "execution_count": null,
   "metadata": {
    "collapsed": true,
    "scrolled": true
   },
   "outputs": [],
   "source": [
    "# sub_sorted_trips=[item for sublist in schedule_partition(sorted_trips,Vehicular_Skim,min_length,max_length) for item in sublist]\n",
    "# sub_sorted_trips=flatten(schedule_partition(sorted_trips,Vehicular_Skim,min_length,max_length))\n",
    "# route_info=pd.DataFrame()\n",
    "\n",
    "# total_previous_sub_trips_length=0\n",
    "# total_tailing_sub_trips_length=0\n",
    "# schedule_deviation=[]\n",
    "# x_list=[]\n",
    "# for sub_sorted_trip in sub_sorted_trips:\n",
    "\n",
    "#     num_hh_member,hh_num_trips,C,TT,expected_arrival_time,expected_leave_time,early_penalty,late_penalty,early_penalty_threshold,late_penalty_threshold,visit_candidate_zone=extract_hh_information(sub_sorted_trip,Vehicular_Skim,Transit_AB_Cost_Skim,superzone_map)\n",
    "#     # R=estimate_transit_cost(sorted_trips,TransitMazTazFlag,WalkSpeed,TransitSkimTimeIntervalLength,Transit_AB_Cost_Skim,Transit_AB_Time_Skim,transit_zone_candidates,three_link_walk)\n",
    "#     R=estimate_trip_reward(hh_num_trips,sub_sorted_trip,Vehicular_Skim)\n",
    "#     print('start sovling problem at ',datetime.datetime.now())\n",
    "#     m1,x,T=dial_n_ride_model(num_hh_member,hh_num_trips,C,TT,sub_sorted_trip,expected_arrival_time,early_penalty,late_penalty,early_penalty_threshold,late_penalty_threshold,R,output_flag)\n",
    "#     x_list.extend([x])\n",
    "#     print('finish solving problem at ',datetime.datetime.now())\n",
    "#     sub_route_info=extract_route_from_model_solution(x,T,sub_sorted_trip,visit_candidate_zone,hh_num_trips,expected_arrival_time,expected_leave_time)\n",
    "#     total_tailing_sub_trips_length=len(sorted_trips)-total_previous_sub_trips_length-len(sub_sorted_trip)\n",
    "#     sub_route_info['orig_node_index']=sub_route_info.orig_node_index.apply(lambda x: x+total_previous_sub_trips_length if x<=hh_num_trips else x+2*total_previous_sub_trips_length+total_tailing_sub_trips_length) \n",
    "#     sub_route_info['dest_node_index']=sub_route_info.dest_node_index.apply(lambda x: x+total_previous_sub_trips_length if x<=hh_num_trips else x+2*total_previous_sub_trips_length+total_tailing_sub_trips_length) \n",
    "#     total_previous_sub_trips_length=total_previous_sub_trips_length+len(sub_sorted_trip)\n",
    "#     route_info=route_info.append(sub_route_info)\n",
    "# #         for index, row in route_info.iterrows():\n",
    "# #             print(route_info.dest_expected_arrival_time,'\\t',row.dest_arrival_time,'\\t',row.start_time,'\\t',T[row.dest_node_index].x)\n",
    "# #         #Estimate the delay and early arrival\n",
    "# T_sol=np.ones(2*hh_num_trips+2)\n",
    "# for i in range(2*hh_num_trips+2):\n",
    "# #     print(int(T[i].x),'\\t',expected_arrival_time[i],'\\t',T[i].x-expected_arrival_time[i])\n",
    "#     T_sol[i]=T[i].x\n",
    "#     print(T_sol[i],expected_arrival_time[i])\n",
    "# schedule_deviation.extend(T_sol-expected_arrival_time)"
   ]
  },
  {
   "cell_type": "code",
   "execution_count": null,
   "metadata": {
    "collapsed": true
   },
   "outputs": [],
   "source": [
    "sorted_trips.loc[:,'p_id']=sorted_trips.groupby(['person_id']).ngroup()\n",
    "hh_num_trips=len(sorted_trips)\n",
    "person_id_and_inhouse_p_id_map=dict(zip(sorted_trips.person_id,sorted_trips.p_id))\n",
    "person_id_and_inhouse_p_id_map[0]=-1\n",
    "plt.pyplot.figure(1,figsize=[21,10])\n",
    "plt.pyplot.subplot(141)\n",
    "plot_route_info_schedule(car_only_mode_choice_route_info,car_sorted_trips)\n",
    "z1=[sorted_trips.iloc[i-1].p_id for i in temp3]\n",
    "z2=[sorted_trips.iloc[i-1].starttime for i in temp3]\n",
    "print(z1,z2)\n",
    "plt.pyplot.scatter(z1,z2)"
   ]
  },
  {
   "cell_type": "code",
   "execution_count": null,
   "metadata": {
    "collapsed": true
   },
   "outputs": [],
   "source": [
    "analysis_result(mode_choice_route_info,sorted_trips,Vehicular_Skim,mode_choice_schedule_deviation)"
   ]
  },
  {
   "cell_type": "code",
   "execution_count": null,
   "metadata": {
    "collapsed": true,
    "scrolled": true
   },
   "outputs": [],
   "source": [
    "sub_sorted_trips=flatten(schedule_partition(sorted_trips,Vehicular_Skim,min_length,max_length))\n",
    "#     route_info=pd.DataFrame()\n",
    "for sub_sorted_trip in sub_sorted_trips:\n",
    "#     sub_sorted_trip=sub_sorted_trips[1]\n",
    "    num_hh_member,hh_num_trips,C,TT,expected_arrival_time,expected_leave_time,early_penalty,late_penalty,early_penalty_threshold,late_penalty_threshold,visit_candidate_zone=extract_hh_information(sub_sorted_trip,Vehicular_Skim,Transit_AB_Cost_Skim,superzone_map)\n",
    "    # R=estimate_transit_cost(sorted_trips,TransitMazTazFlag,WalkSpeed,TransitSkimTimeIntervalLength,Transit_AB_Cost_Skim,Transit_AB_Time_Skim,transit_zone_candidates,three_link_walk)\n",
    "    # R=np.ones(hh_num_trips+1)*10\n",
    "    R=estimate_trip_reward(hh_num_trips,sub_sorted_trip,Vehicular_Skim)\n",
    "    print('start sovling problem at ',datetime.datetime.now())\n",
    "    m1,x,T=dial_n_ride_model(num_hh_member,hh_num_trips,C,TT,sub_sorted_trip,expected_arrival_time,early_penalty,late_penalty,early_penalty_threshold,late_penalty_threshold,R,share_ride_factor,output_flag,run_mode)\n",
    "    print('finish solving problem at ',datetime.datetime.now())\n",
    "    sub_route_info_temp=extract_route_from_model_solution(x,T,sub_sorted_trip,visit_candidate_zone,hh_num_trips,expected_arrival_time,expected_leave_time)\n",
    "    \n",
    "    T_sol=np.ones(2*hh_num_trips+2)\n",
    "    for i in range(2*hh_num_trips+2):\n",
    "    #     print(int(T[i].x),'\\t',expected_arrival_time[i],'\\t',T[i].x-expected_arrival_time[i])\n",
    "        T_sol[i]=T[i].x\n",
    "    schedule_deviation.extend(T_sol-expected_arrival_time)\n",
    "    analysis_result(sub_route_info_temp,sub_sorted_trips,Vehicular_Skim,schedule_deviation)"
   ]
  },
  {
   "cell_type": "code",
   "execution_count": null,
   "metadata": {
    "collapsed": true
   },
   "outputs": [],
   "source": [
    "analysis_result(sub_route_info,sub_sorted_trip,Vehicular_Skim,schedule_deviation)"
   ]
  },
  {
   "cell_type": "code",
   "execution_count": null,
   "metadata": {
    "collapsed": true,
    "scrolled": false
   },
   "outputs": [],
   "source": [
    "z=traveler_trips[traveler_trips.hh_id==2287301]\n",
    "z.loc[:,'p_id']=z.groupby(['person_id']).ngroup()\n",
    "z.loc[:,'expected_arrival']=z.starttime+z.travel_time\n",
    "person_id_and_inhouse_p_id_map=dict(zip(z.person_id,z.p_id))\n",
    "person_id_and_inhouse_p_id_map[0]=-1\n",
    "sorted_trips.loc[:,'p_id']=sorted_trips.person_id.apply(lambda x: person_id_and_inhouse_p_id_map[x])\n",
    "route_info['p_id']=route_info.person_id.apply(lambda x: person_id_and_inhouse_p_id_map[x])\n",
    "route_info_partition['p_id']=route_info_partition.person_id.apply(lambda x: person_id_and_inhouse_p_id_map[x])\n",
    "\n",
    "plt.pyplot.figure(1,figsize=[21,14])\n",
    "plt.pyplot.subplot(131)\n",
    "plt.pyplot.scatter(sorted_trips.person_id.apply(lambda x: person_id_and_inhouse_p_id_map[x]),sorted_trips.starttime)\n",
    "\n",
    "# plt.pyplot.scatter(z.person_id.apply(lambda x: person_id_and_inhouse_p_id_map[x]),z.starttime,marker='o',facecolors='none', edgecolors='r')\n",
    "\n",
    "# plt.pyplot.plot(route_info.loc[(route_info.p_id!=-1) & (route_info.orig_node_index<1+hh_num_trips),'p_id'],\n",
    "#                 route_info.loc[(route_info.p_id!=-1) & (route_info.orig_node_index<1+hh_num_trips),'start_time']\n",
    "#                )\n",
    "plt.pyplot.scatter(sorted_trips.loc[(sorted_trips.tripmode<=6),'p_id'],\n",
    "                   sorted_trips.loc[(sorted_trips.tripmode<=6),'starttime'],\n",
    "                   c='r')\n",
    "plt.pyplot.xlabel('Traveler Index')\n",
    "plt.pyplot.ylabel('Time')\n",
    "plt.pyplot.grid()\n",
    "plt.pyplot.xticks(np.arange(min(sorted_trips.p_id), max(sorted_trips.p_id)+1, 1))\n",
    "plt.pyplot.yticks(np.arange(0,1441,30))\n",
    "plt.pyplot.subplot(132)\n",
    "# plt.pyplot.scatter(sorted_trips.person_id.apply(lambda x: person_id_and_inhouse_p_id_map[x]),sorted_trips.starttime)\n",
    "# plt.pyplot.scatter(sorted_trips.loc[(sorted_trips.tripmode<=6),'p_id'],\n",
    "#                    sorted_trips.loc[(sorted_trips.tripmode<=6),'starttime'],\n",
    "#                    c='r')\n",
    "\n",
    "plt.pyplot.scatter(route_info.loc[(route_info.p_id!=-1) & (route_info.orig_node_index<=1+hh_num_trips),'p_id'],\n",
    "                route_info.loc[(route_info.p_id!=-1) & (route_info.orig_node_index<=1+hh_num_trips),'origin_arrival_time'])\n",
    "plt.pyplot.plot(route_info.loc[(route_info.p_id!=-1) & (route_info.orig_node_index<=1+hh_num_trips),'p_id'],\n",
    "                route_info.loc[(route_info.p_id!=-1) & (route_info.orig_node_index<=1+hh_num_trips),'origin_arrival_time'])\n",
    "plt.pyplot.grid()\n",
    "plt.pyplot.xticks(np.arange(min(sorted_trips.p_id), max(sorted_trips.p_id)+1, 1))\n",
    "plt.pyplot.yticks(np.arange(0,1441,30))\n",
    "plt.pyplot.subplot(133)\n",
    "plt.pyplot.scatter(route_info_partition.loc[(route_info_partition.p_id!=-1) & (route_info_partition.orig_node_index<=1+hh_num_trips),'p_id'],\n",
    "                route_info_partition.loc[(route_info_partition.p_id!=-1) & (route_info_partition.orig_node_index<=1+hh_num_trips),'origin_arrival_time'])\n",
    "plt.pyplot.plot(route_info_partition.loc[(route_info_partition.p_id!=-1) & (route_info_partition.orig_node_index<=1+hh_num_trips),'p_id'],\n",
    "                route_info_partition.loc[(route_info_partition.p_id!=-1) & (route_info_partition.orig_node_index<=1+hh_num_trips),'origin_arrival_time'])\n",
    "\n",
    "plt.pyplot.xlabel('Traveler Index')\n",
    "plt.pyplot.ylabel('Time')\n",
    "plt.pyplot.grid()\n",
    "plt.pyplot.xticks(np.arange(min(sorted_trips.p_id), max(sorted_trips.p_id)+1, 1))\n",
    "plt.pyplot.yticks(np.arange(0,1441,30))"
   ]
  },
  {
   "cell_type": "code",
   "execution_count": null,
   "metadata": {
    "collapsed": true
   },
   "outputs": [],
   "source": [
    "sorted_trips=target_hh.sort_values(\"starttime\")\n",
    "sub_sorted_trips=[item for sublist in schedule_partition(sorted_trips,Vehicular_Skim,min_length,max_length) for item in sublist]"
   ]
  },
  {
   "cell_type": "code",
   "execution_count": null,
   "metadata": {
    "collapsed": true
   },
   "outputs": [],
   "source": []
  },
  {
   "cell_type": "code",
   "execution_count": null,
   "metadata": {
    "collapsed": true
   },
   "outputs": [],
   "source": [
    "plot_route_info_schedule(sub_route_info,traveler_trips)"
   ]
  },
  {
   "cell_type": "code",
   "execution_count": null,
   "metadata": {
    "collapsed": true
   },
   "outputs": [],
   "source": [
    "sub_route_info.groupby('person_id').count()"
   ]
  },
  {
   "cell_type": "code",
   "execution_count": null,
   "metadata": {
    "collapsed": true
   },
   "outputs": [],
   "source": [
    "sub_sorted_trip.groupby('person_id').count()"
   ]
  },
  {
   "cell_type": "code",
   "execution_count": null,
   "metadata": {
    "collapsed": true
   },
   "outputs": [],
   "source": [
    "sub_route_info"
   ]
  },
  {
   "cell_type": "markdown",
   "metadata": {},
   "source": [
    "##### Solve the problem for all households"
   ]
  },
  {
   "cell_type": "code",
   "execution_count": null,
   "metadata": {
    "collapsed": true,
    "scrolled": true
   },
   "outputs": [],
   "source": [
    "route_infos=get_route_info_allhh(traveler_trips,0)"
   ]
  },
  {
   "cell_type": "code",
   "execution_count": null,
   "metadata": {
    "collapsed": true
   },
   "outputs": [],
   "source": [
    "route_infos.to_csv('Output/route_infos_fullconversion_lessthan40triphh.csv')"
   ]
  },
  {
   "cell_type": "code",
   "execution_count": null,
   "metadata": {
    "collapsed": true
   },
   "outputs": [],
   "source": [
    "route_infos.to_csv('Output/route_infos_partconversion.csv')"
   ]
  },
  {
   "cell_type": "code",
   "execution_count": null,
   "metadata": {
    "collapsed": true,
    "scrolled": true
   },
   "outputs": [],
   "source": [
    "route_infos_full_adoption=pd.read_csv('D:/alex/Autonomous-V-demand/Output/route_infos_fullconversion.csv')\n",
    "route_infos_part_adoption=pd.read_csv('D:/alex/Autonomous-V-demand/Output/route_infos_partconversion.csv')"
   ]
  },
  {
   "cell_type": "code",
   "execution_count": null,
   "metadata": {
    "collapsed": true
   },
   "outputs": [],
   "source": [
    "route_infos_full_adoption.head()"
   ]
  },
  {
   "cell_type": "markdown",
   "metadata": {},
   "source": [
    "#### Compare the new route with the old one"
   ]
  },
  {
   "cell_type": "code",
   "execution_count": null,
   "metadata": {
    "collapsed": true
   },
   "outputs": [],
   "source": [
    "initial_trips=traveler_trips.drop_duplicates(subset=['hh_id','orig_maz','dest_maz','orig_purpose','dest_purpose','starttime'])\n",
    "len1=[]\n",
    "len2=[]\n",
    "origin_num_car_trips=[]\n",
    "num_empty_car_trips=[]\n",
    "num_initial_car_trips=0\n",
    "for name, group in route_infos_full_adoption.groupby(['hh_id']):\n",
    "    num_initial_car_trips=num_initial_car_trips+len(initial_trips.loc[(initial_trips.hh_id==name) & ((initial_trips.tripmode<=6) | (initial_trips.tripmode==13))])\n",
    "#     len1.extend([len(group)])\n",
    "#     len2.extend([len(initial_trips.loc[initial_trips.hh_id==name])])\n",
    "#     origin_num_car_trips.extend([len(initial_trips.loc[(initial_trips.tripmode<=6) | (initial_trips.tripmode==13)])])\n",
    "#     num_empty_car_trips.extend([len(group[group.person_id==0])])"
   ]
  },
  {
   "cell_type": "code",
   "execution_count": null,
   "metadata": {
    "collapsed": true
   },
   "outputs": [],
   "source": [
    "zz=traveler_trips.drop_duplicates(subset=['hh_id','orig_maz','dest_maz','orig_purpose','dest_purpose','starttime']).groupby('hh_id').count() "
   ]
  },
  {
   "cell_type": "code",
   "execution_count": null,
   "metadata": {
    "collapsed": true
   },
   "outputs": [],
   "source": [
    "zz1=traveler_trips.groupby('hh_id').count() "
   ]
  },
  {
   "cell_type": "code",
   "execution_count": null,
   "metadata": {
    "collapsed": true
   },
   "outputs": [],
   "source": [
    "traveler_trips.columns"
   ]
  },
  {
   "cell_type": "code",
   "execution_count": null,
   "metadata": {
    "collapsed": true
   },
   "outputs": [],
   "source": [
    "zz[zz.person_id>30].person_id.sum()"
   ]
  },
  {
   "cell_type": "code",
   "execution_count": null,
   "metadata": {
    "collapsed": true
   },
   "outputs": [],
   "source": [
    "print('The new route plan has ',sum(len1),' trips')\n",
    "print('The origin trip plan has ',sum(len2),' trips')\n",
    "print('The origin trip plan has',len(initial_trips.loc[initial_trips.tripmode<=6]),'car trips')\n",
    "print('The origin trip plan has',len(initial_trips.loc[initial_trips.tripmode==13]),'taxi trips')\n",
    "print('The new route plan has',sum(num_empty_car_trips),'empty car trips')"
   ]
  },
  {
   "cell_type": "markdown",
   "metadata": {},
   "source": [
    "### Route result analysis"
   ]
  },
  {
   "cell_type": "markdown",
   "metadata": {},
   "source": [
    "##### Estimate how many trips are satisfied"
   ]
  },
  {
   "cell_type": "code",
   "execution_count": null,
   "metadata": {
    "collapsed": true
   },
   "outputs": [],
   "source": [
    "route_infos.head()"
   ]
  },
  {
   "cell_type": "code",
   "execution_count": null,
   "metadata": {
    "collapsed": true
   },
   "outputs": [],
   "source": [
    "def calculate_num_pick_up_trips(route_infos,traveler_trips):\n",
    "    total_num_pickup_trip=0\n",
    "    total_num_joint_trip=0\n",
    "    for target_hh_id in route_infos.hh_id.unique():\n",
    "        target_hh=traveler_trips[traveler_trips['hh_id']==target_hh_id].drop_duplicates(subset=['orig_maz','dest_maz','orig_purpose','dest_purpose','starttime'])\n",
    "        #Sort all trips based on start time. This step could reduce the solving time and make it easier to track\n",
    "        sorted_trips=target_hh.sort_values(\"starttime\")\n",
    "        hh_num_trips=len(sorted_trips)\n",
    "        total_num_pickup_trip=total_num_pickup_trip+len(route_infos.loc[(route_infos.hh_id==target_hh_id)& (route_infos.orig_node_index<hh_num_trips)])\n",
    "        total_num_joint_trip=total_num_joint_trip+len(route_infos.loc[(route_infos.hh_id==target_hh_id)& (route_infos.orig_node_index<hh_num_trips)& (route_infos.dest_node_index<hh_num_trips)])\n",
    "    return total_num_pickup_trip,total_num_joint_trip\n",
    "    #     print(target_hh_id)"
   ]
  },
  {
   "cell_type": "code",
   "execution_count": null,
   "metadata": {
    "collapsed": true
   },
   "outputs": [],
   "source": [
    "# Calculate the number of trips with/without passenger\n",
    "full_adoption_num_pickup,full_adoption_extra_joint=calculate_num_pick_up_trips(route_infos_full_adoption,traveler_trips)\n",
    "full_adoption_empty_trips=len(route_infos_full_adoption.loc[route_infos_full_adoption.person_id==0])\n",
    "partial_adoption_num_pickup,partial_adoption_extra_joint=calculate_num_pick_up_trips(route_infos_part_adoption,traveler_trips)\n",
    "partial_adoption_empty_trips=len(route_infos_part_adoption.loc[route_infos_part_adoption.person_id==0])"
   ]
  },
  {
   "cell_type": "code",
   "execution_count": null,
   "metadata": {
    "collapsed": true
   },
   "outputs": [],
   "source": [
    "full_adoption_num_pickup"
   ]
  },
  {
   "cell_type": "code",
   "execution_count": null,
   "metadata": {
    "collapsed": true
   },
   "outputs": [],
   "source": [
    "partial_adoption_num_pickup"
   ]
  },
  {
   "cell_type": "code",
   "execution_count": null,
   "metadata": {
    "collapsed": true
   },
   "outputs": [],
   "source": [
    "full_adoption_extra_joint"
   ]
  },
  {
   "cell_type": "code",
   "execution_count": null,
   "metadata": {
    "collapsed": true
   },
   "outputs": [],
   "source": [
    "len(route_infos_part_adoption)"
   ]
  },
  {
   "cell_type": "code",
   "execution_count": null,
   "metadata": {
    "collapsed": true
   },
   "outputs": [],
   "source": [
    "partial_adoption_extra_joint"
   ]
  },
  {
   "cell_type": "code",
   "execution_count": null,
   "metadata": {
    "collapsed": true,
    "scrolled": true
   },
   "outputs": [],
   "source": [
    "print('The full conversion plan pickup ',full_adoption_num_pickup,'trips (',round(full_adoption_num_pickup/sum(len2),2),')out of ',sum(len2))\n",
    "print('The full conversion plan incurs ', full_adoption_empty_trips,'empty trips. The ratio beween empty and occupy trips is', full_adoption_empty_trips/full_adoption_num_pickup)\n",
    "print('The partial conversion plan pickup ',partial_adoption_num_pickup,'trips (',round(partial_adoption_num_pickup/sum(len2),2),')out of ',sum(len2))\n",
    "print('The partial conversion plan incurs ', partial_adoption_empty_trips,'empty trips. The ratio beween empty and occupy trips is' ,partial_adoption_empty_trips/partial_adoption_num_pickup)"
   ]
  },
  {
   "cell_type": "code",
   "execution_count": null,
   "metadata": {
    "collapsed": true
   },
   "outputs": [],
   "source": [
    "route_infos_full_adoption.columns"
   ]
  },
  {
   "cell_type": "code",
   "execution_count": null,
   "metadata": {
    "collapsed": true
   },
   "outputs": [],
   "source": [
    "z=route_infos_full_adoption.groupby('hh_id').apply(lambda x: (x==0).sum())"
   ]
  },
  {
   "cell_type": "code",
   "execution_count": null,
   "metadata": {
    "collapsed": true
   },
   "outputs": [],
   "source": [
    "z['num_hh_member']=traveler_trips.groupby('hh_id')['person_id'].nunique()"
   ]
  },
  {
   "cell_type": "code",
   "execution_count": null,
   "metadata": {
    "collapsed": true
   },
   "outputs": [],
   "source": [
    "def plot_num_trips_by_timeinterval(route_infos):\n",
    "    route_infos['occupy_flag']=['Occupied' if x >0 else 'Empty' for x in route_infos['person_id']]\n",
    "    route_infos['start_time_interval']=[math.floor(x/36) for x in route_infos['start_time']]\n",
    "    z=route_infos.groupby(['start_time_interval', 'occupy_flag'])['start_time'].count().unstack('occupy_flag').fillna(0)\n",
    "#     fig, axes = plt.pyplot.subplots(nrows=1 ,ncols=1,figsize=(16,6))\n",
    "    \n",
    "    z[['Occupied','Empty']].plot(kind='bar',stacked=True,figsize=(16,6))\n",
    "    z['Empty_percentage']=z['Empty']/(z['Occupied']+z['Empty'])\n",
    "#     z['Empty_percentage'].plot(kind='bar',ax=axes[1])\n",
    "    return z"
   ]
  },
  {
   "cell_type": "code",
   "execution_count": null,
   "metadata": {
    "collapsed": true
   },
   "outputs": [],
   "source": [
    "z1=plot_num_trips_by_timeinterval(route_infos_full_adoption)"
   ]
  },
  {
   "cell_type": "code",
   "execution_count": null,
   "metadata": {
    "collapsed": true
   },
   "outputs": [],
   "source": [
    "z2=plot_num_trips_by_timeinterval(route_infos_part_adoption)"
   ]
  },
  {
   "cell_type": "code",
   "execution_count": null,
   "metadata": {
    "collapsed": true
   },
   "outputs": [],
   "source": []
  },
  {
   "cell_type": "code",
   "execution_count": null,
   "metadata": {
    "collapsed": true
   },
   "outputs": [],
   "source": [
    "fig = plt.pyplot.figure()\n",
    "ax = fig.add_subplot(111)\n",
    "ax2 = ax.twinx()\n",
    "z1.Empty_percentage.plot(kind='bar',ax=ax,color='r',position=0)\n",
    "z2.Empty_percentage.plot(kind='bar',ax=ax2,color='blue',position=1)"
   ]
  },
  {
   "cell_type": "markdown",
   "metadata": {},
   "source": [
    "#### Write the route to DYNASMART input file vehicle.dat"
   ]
  },
  {
   "cell_type": "code",
   "execution_count": null,
   "metadata": {
    "collapsed": true
   },
   "outputs": [],
   "source": [
    "vehicledat_filepath='Output/vehicle_partconversion.dat'\n",
    "path_filepath='Output/path_partconversion.dat'"
   ]
  },
  {
   "cell_type": "code",
   "execution_count": null,
   "metadata": {
    "collapsed": true
   },
   "outputs": [],
   "source": [
    "def read_vehicledat(vehicledat_filepath):\n",
    "    '''\n",
    "    This function read all sort of vehicledat file. It returns a dataframe vehicle_info that \n",
    "    contains all the information. Each row is corresponding to one vehicle in the vehicle.dat. \n",
    "    \n",
    "    '''\n",
    "    feature_list=['counter','iutmp','idtmp','StartTime','ivcltmp','ivcl2tmp','ihovtmp','veh_pathnodenum','NonrepetitiveCarNumTrip','infotmp','ribftmp','comptmp','TAZMap','value_of_time','value']\n",
    "    i=0 #line number of vehicle.dat\n",
    "    j=0 #line number of vehicle_info\n",
    "    dest_chain=[]\n",
    "    activity_chain=[]\n",
    "    with open(vehicledat_filepath) as f: #Open the file\n",
    "        for line in f:\n",
    "            if i ==0: #Read the num_vehicle and max number of unit from the first line\n",
    "                num_vehicle=int(line.split()[0])\n",
    "                max_num_trips=int(line.split()[1])\n",
    "                vehicle_info = pd.DataFrame(0,index=np.arange(num_vehicle), columns=feature_list)\n",
    "            elif i >1:\n",
    "                if (len(line)>30): #If the line is the first line of a vehicle, read the general information about vehicle\n",
    "                    vehicle_info.iloc[j]=[float(k) for k in line.split()]\n",
    "                    dest_chain.append([])\n",
    "                    activity_chain.append([])\n",
    "                    j=j+1\n",
    "                else:\n",
    "                    taz_temp,activity_time=line.split()\n",
    "                    dest_chain[j-1].extend([taz_temp])\n",
    "                    activity_chain[j-1].extend([activity_time])\n",
    "                    \n",
    "            i=i+1\n",
    "        vehicle_info['dest_chain']=dest_chain\n",
    "        vehicle_info['activity_time']=activity_chain\n",
    "    return vehicle_info\n",
    "def read_pathdat(pathdat_filepath):\n",
    "    path_bank=[]\n",
    "    with open(pathdat_filepath) as f:\n",
    "        for line in f:\n",
    "            path_bank.append([int(i) for i in line.split()])\n",
    "    return path_bank"
   ]
  },
  {
   "cell_type": "code",
   "execution_count": null,
   "metadata": {
    "collapsed": true
   },
   "outputs": [],
   "source": [
    "def read_intrasuperzone_files(intrasuperzone_vehicle_filepath,intrasuperzone_path_filepath):\n",
    "    feature_list=['counter','iutmp','idtmp','StartTime','ivcltmp','ivcl2tmp','ihovtmp','veh_pathnodenum',\n",
    "                  'NonrepetitiveCarNumTrip','infotmp','ribftmp','comptmp','TAZMap','value_of_time','value']\n",
    "    i=0 #line number of vehicle.dat\n",
    "    j=0 #line number of vehicle_info\n",
    "    dest_chain=[]\n",
    "    activity_chain=[]\n",
    "    key=[]\n",
    "    with open(intrasuperzone_vehicle_filepath) as f: #Open the file\n",
    "        for line in f:\n",
    "            if i ==0: #Read the num_vehicle and max number of unit from the first line\n",
    "                num_vehicle=int(line.split()[0])\n",
    "                max_num_trips=int(line.split()[1])\n",
    "                vehicle_info = pd.DataFrame(0,index=np.arange(num_vehicle), columns=feature_list)\n",
    "            elif i >1:\n",
    "                if (len(line)>30): #If the line is the first line of a vehicle, read the general information about vehicle\n",
    "                    vehicle_info.iloc[j]=[float(k) for k in line.split()]\n",
    "                    \n",
    "                    j=j+1\n",
    "                else:\n",
    "                    taz_temp,activity_time=line.split()\n",
    "                    dest_chain.extend([taz_temp])\n",
    "                    activity_chain.extend([activity_time])\n",
    "                    key.append(tuple([int(vehicle_info.iloc[j-1]['TAZMap']),int(taz_temp)]))\n",
    "            i=i+1\n",
    "        print(dest_chain)\n",
    "        vehicle_info['dest_chain']=dest_chain\n",
    "        vehicle_info['activity_time']=activity_chain\n",
    "        \n",
    "    intrasuperzone_path=read_pathdat(intrasuperzone_path_filepath)\n",
    "    intrasuperzone_info=vehicle_info\n",
    "    intrasuperzone_info['path']=intrasuperzone_path\n",
    "    intrasuperzone_path_dic=dict(zip(tuple(key),intrasuperzone_path))\n",
    "    return intrasuperzone_info,intrasuperzone_path_dic"
   ]
  },
  {
   "cell_type": "code",
   "execution_count": null,
   "metadata": {
    "collapsed": true
   },
   "outputs": [],
   "source": [
    "intrasuperzone_vehicle_filepath='Input/intrasuperzone_vehicle.dat'\n",
    "intrasuperzone_path_filepath='Input/intrasuperzone_path.dat'\n",
    "intrasuperzone_info,intrasuperzone_path_dic=read_intrasuperzone_files(intrasuperzone_vehicle_filepath,intrasuperzone_path_filepath)"
   ]
  },
  {
   "cell_type": "code",
   "execution_count": null,
   "metadata": {
    "collapsed": true
   },
   "outputs": [],
   "source": [
    "Output_folder='Output/'\n",
    "if not os.path.exists(Output_folder):\n",
    "    os.makedirs(Output_folder)\n",
    "vehicle_filepath=Output_folder+'vehicle_partconversion.dat'"
   ]
  },
  {
   "cell_type": "code",
   "execution_count": null,
   "metadata": {
    "collapsed": true
   },
   "outputs": [],
   "source": [
    "def route_to_vehiclepathdat(route_infos,origin_links,vehicle_filepath,path_filepath,superzone_map,\n",
    "                            intrasuperzone_path_dic,external_vehicle_filepath,average_value_of_time):\n",
    "    '''\n",
    "    This function write all the route information in the format of vehicle.dat\n",
    "    '''\n",
    "    vehicledat=open(vehicle_filepath,'w')\n",
    "    pathdat=open(path_filepath,'w')\n",
    "    if os.path.isfile(external_vehicle_filepath):\n",
    "        external_vehicle=open(external_vehicle_filepath,'r')\n",
    "        num_external_vehicle=int(next(external_vehicle).split()[0])\n",
    "        next(external_vehicle)\n",
    "        excounter,exusec,exdsec,exstime,exusrcls,exvehtype,exioc,exonode,exintde,exinfo,exribf,excomp,exoz=next(external_vehicle).split()\n",
    "        exTAZMap,exactivitytime=next(external_vehicle).split()\n",
    "        exstime=float(exstime)+180 #External vehicle start from 0:00am but the abm file start from 3 am\n",
    "    else:\n",
    "        exstime=1555\n",
    "    \n",
    "    num_veh_seg=len(route_infos['veh_seg_index'].unique())\n",
    "    max_num_trip=route_infos.groupby('veh_seg_index')['start_time'].count().max()\n",
    "    total_veh_seg=num_veh_seg+num_external_vehicle\n",
    "    vehicledat.write(str(total_veh_seg)+'\\t'+str(max_num_trip)+'\\t'+'# of vehicles in the file, Max # of stops\\n')\n",
    "    vehicledat.write('counter  iutmp  idtmp  StartTime  ivcltmp  ivcl2tmp  ihovtmp  veh_pathnodenum  NonrepetitiveCarNumTrip  infotmp  ribftmp  comptmp  TAZMap  value_of_time  1\\n')\n",
    "    counter=1\n",
    "    multiindex_route_infos=route_infos.set_index(['veh_seg_index'])\n",
    "    for veh_seg in route_infos.sort_values('origin_arrival_time')['veh_seg_index'].unique():\n",
    "        target_seg=multiindex_route_infos.loc[[veh_seg]]\n",
    "        \n",
    "        while target_seg.origin_arrival_time.min()>exstime:\n",
    "            vehicledat.write(str(counter)+'\\t'+exusec+'\\t'+exdsec+'\\t'+str(exstime)+'\\t'+\n",
    "                             exusrcls+'\\t'+exvehtype+'\\t'+exioc+'\\t'+\n",
    "                             '1'+'\\t'+exintde+'\\t'+exinfo+'\\t'+exribf+'\\t'+excomp+'\\t'+\n",
    "                             exoz+'\\t'+str(average_value_of_time)+'\\t'+'1'+'\\n')\n",
    "            vehicledat.write(exTAZMap+'\\t'+exactivitytime+'\\n')\n",
    "            pathdat.write('\\n')\n",
    "            counter +=1\n",
    "            line_listtemp=next(external_vehicle).split()\n",
    "            if len(line_listtemp)>3:\n",
    "                excounter,exusec,exdsec,exstime,exusrcls,exvehtype,exioc,exonode,exintde,exinfo,exribf,excomp,exoz=line_listtemp\n",
    "                exTAZMap,exactivitytime=next(external_vehicle).split()\n",
    "                exstime=float(exstime)+180 #External vehicle start from 0:00am but the abm file start from 3 am\n",
    "            else: \n",
    "                exstime=1555\n",
    "        if counter==23300:\n",
    "            print(veh_seg,exstime,target_seg.start_time.min(),target_seg)\n",
    "        write_one_veh_seq(target_seg,vehicledat,pathdat,counter,origin_links,superzone_map,intrasuperzone_path_dic)\n",
    "        counter +=1\n",
    "        if counter%1000==0: \n",
    "            print(counter,datetime.datetime.now())\n",
    "    vehicledat.close()\n",
    "    pathdat.close()\n",
    "    return\n",
    "def write_one_veh_seq(route_info,file_obj,path_file_obj,counter,origin_links,superzone_map,intrasuperzone_path_dic):\n",
    "    '''\n",
    "    This function convert the route information of one segment into vehicle.dat format. The function is called by route_to_vehiclepathdat\n",
    "    '''\n",
    "    ivcl2tmp=1        #Standard Input for Vehicle Specifications \n",
    "    ihovtmp=1         #Standard Input for Vehicle Specifications  \n",
    "    veh_pathnodenum=1 #Standard Input for Vehicle Specifications\n",
    "    ndestmp=1         #Standard Input for Vehicle Specifications\n",
    "    infotmp=0         #Standard Input for Vehicle Specifications \n",
    "    ribftmp=0.0       #Standard Input for Vehicle Specifications  \n",
    "    comptmp=0.0       #Standard Input for Vehicle Specifications  \n",
    "    if (route_info.iloc[0].intrasuperzone_flag==1):\n",
    "        path_temp=intrasuperzone_path_dic[(route_info.iloc[0]['orig_zone'],route_info.iloc[0]['dest_zone'])]\n",
    "        orig_u_node,orig_d_node=path_temp[0:2]\n",
    "        ivcltmp=1\n",
    "        veh_pathnodenum=len(path_temp)\n",
    "        path_file_obj.write(''.join( str(j).rjust(7) for j in intrasuperzone_path_dic[(route_info.iloc[0]['orig_zone'],route_info.iloc[0]['dest_zone'])])+'\\n')\n",
    "    else:\n",
    "        target_zone=origin_links.loc[origin_links.zone_id==route_info.iloc[0]['orig_zone']]\n",
    "        generateion_link_index=np.random.randint(0,len(target_zone))\n",
    "        orig_u_node= target_zone.iloc[generateion_link_index]['u_node'] #Upstream node of the generation link \n",
    "        orig_d_node= target_zone.iloc[generateion_link_index]['d_node'] #Downstream node of the generation link\n",
    "        ivcltmp=3\n",
    "        veh_pathnodenum=1\n",
    "        path_file_obj.write('\\n')\n",
    "    \n",
    "    file_obj.write(str(counter)+'\\t'+str(int(orig_u_node))+'\\t'\n",
    "                   +str(int(orig_d_node))+'\\t'+str(round(route_info.iloc[0]['origin_arrival_time'],1))+'\\t'\n",
    "                   +str(ivcltmp)+'\\t'+str(ivcl2tmp)+'\\t'+str(ihovtmp)+'\\t'+str(veh_pathnodenum)+'\\t'\n",
    "                   +str(len(route_info))+'\\t'+str(infotmp)+'\\t'+str(ribftmp)+'\\t'\n",
    "                   +str(comptmp)+'\\t'+ str(route_info.iloc[0]['orig_zone'])+'\\t'\n",
    "                   +str(route_info.iloc[0]['value_of_time'])+'\\t'+'1'+'\\n')\n",
    "    for (index,row) in route_info.iloc[:-1].iterrows():\n",
    "        file_obj.write(str(row['dest_zone'])+'\\t'+str(row['Activity_Time'])+'\\n')\n",
    "    file_obj.write(str(route_info['dest_zone'].iloc[-1])+'\\t'+'0.0\\n')\n",
    "    if (route_info.dest_zone.iloc[-1]<1):\n",
    "        print('error')\n",
    "    return"
   ]
  },
  {
   "cell_type": "code",
   "execution_count": null,
   "metadata": {
    "collapsed": true
   },
   "outputs": [],
   "source": [
    "route_infos[route_infos.hh_id==869256]"
   ]
  },
  {
   "cell_type": "code",
   "execution_count": null,
   "metadata": {
    "collapsed": true,
    "scrolled": false
   },
   "outputs": [],
   "source": [
    "vehicledat_filepath='Output/vehicle_partconversion.dat'\n",
    "path_filepath='Output/path_partconversion.dat'\n",
    "external_vehicle_filepath='Input/external_vehicle.dat'\n",
    "average_value_of_time=round(traveler_trips.value_of_time.mean(),4)\n",
    "route_to_vehiclepathdat(route_infos,origin_links,vehicle_filepath,path_filepath,superzone_map,\n",
    "                            intrasuperzone_path_dic,external_vehicle_filepath,average_value_of_time)"
   ]
  },
  {
   "cell_type": "code",
   "execution_count": null,
   "metadata": {
    "collapsed": true
   },
   "outputs": [],
   "source": []
  },
  {
   "cell_type": "code",
   "execution_count": null,
   "metadata": {
    "collapsed": true
   },
   "outputs": [],
   "source": [
    "# new_path='Output/newpath.dat'\n",
    "# path_fileobj=open(new_path,'w')\n",
    "# with open('Output/path.dat') as f:\n",
    "#     for line in f: \n",
    "#         if len(line)>1:\n",
    "#             for node in line.split():\n",
    "#                 path_fileobj.write(node.rjust(7))\n",
    "#             path_fileobj.write('\\n')\n",
    "#         else: \n",
    "#             path_fileobj.write('\\n')\n",
    "# path_fileobj.close()"
   ]
  },
  {
   "cell_type": "markdown",
   "metadata": {},
   "source": [
    "#### Result Analysis"
   ]
  },
  {
   "cell_type": "code",
   "execution_count": null,
   "metadata": {
    "collapsed": true
   },
   "outputs": [],
   "source": []
  }
 ],
 "metadata": {
  "kernelspec": {
   "display_name": "Python 3",
   "language": "python",
   "name": "python3"
  },
  "language_info": {
   "codemirror_mode": {
    "name": "ipython",
    "version": 3
   },
   "file_extension": ".py",
   "mimetype": "text/x-python",
   "name": "python",
   "nbconvert_exporter": "python",
   "pygments_lexer": "ipython3",
   "version": "3.6.2"
  }
 },
 "nbformat": 4,
 "nbformat_minor": 2
}
