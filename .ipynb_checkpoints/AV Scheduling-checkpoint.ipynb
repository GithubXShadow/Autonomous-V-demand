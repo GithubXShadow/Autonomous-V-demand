{
 "cells": [
  {
   "cell_type": "markdown",
   "metadata": {},
   "source": [
    "# AV Scheduling for household"
   ]
  },
  {
   "cell_type": "markdown",
   "metadata": {},
   "source": [
    "### Initialize\n",
    "* Inital functions and package\n",
    "* Read input"
   ]
  },
  {
   "cell_type": "code",
   "execution_count": 1,
   "metadata": {
    "collapsed": true
   },
   "outputs": [],
   "source": [
    "import numpy as np\n",
    "import pandas as pd\n",
    "import matplotlib as plt\n",
    "import networkx as nx\n",
    "%matplotlib inline\n",
    "from DYNASMART_Process import *\n",
    "import DYNASMART_Process as dy\n",
    "import AV_functions as av\n",
    "from gurobipy import *\n",
    "import datetime\n",
    "import requests"
   ]
  },
  {
   "cell_type": "code",
   "execution_count": 2,
   "metadata": {
    "collapsed": true
   },
   "outputs": [],
   "source": [
    "#Read in the basic traveler and trips informationa and joint the houshold id\n",
    "# traveler_info=pd.read_csv('input/traveler.csv')\n",
    "# personData=pd.read_csv('input/personData_1.csv')\n",
    "# hh_temp=personData[['person_id','hh_id']]\n",
    "# traveler_trips=pd.merge(traveler_info,hh_temp,how='left',on=['person_id'])\n",
    "traveler_trips=pd.read_csv('input/traveler_trip_info.csv')\n",
    "#Calculate the expected trip travel time as trip start time of trip (i+1) - start time of trip i - activity time \n",
    "traveler_trips['Diff_bet_starttime']=traveler_trips.starttime.diff()[1:]\n",
    "traveler_trips.Diff_bet_starttime=traveler_trips.Diff_bet_starttime.shift(-1)\n",
    "traveler_trips['Diff_bet_starttime'].apply(lambda x: 0 if x<0 else x)\n",
    "traveler_trips['travel_time']=traveler_trips.Diff_bet_starttime-traveler_trips.ActivityTime\n",
    "traveler_trips.loc[traveler_trips.trip_counter==traveler_trips.num_trips,'travel_time']=1440-(traveler_trips.loc[traveler_trips.trip_counter==traveler_trips.num_trips]['starttime']+traveler_trips.loc[traveler_trips.trip_counter==traveler_trips.num_trips]['ActivityTime'])\n",
    "num_zones,num_nodes,num_links,node_detail,node_id,link_detail,link_id=dy.read_network('input/network.dat')\n",
    "nodexy=dy.read_xy('input/xy.dat')\n",
    "#origins,destinations=dy.read_origin_destion('input/origin.dat','input/destination.dat')"
   ]
  },
  {
   "cell_type": "code",
   "execution_count": 3,
   "metadata": {
    "scrolled": true
   },
   "outputs": [
    {
     "data": {
      "text/plain": [
       "Index(['person_id', 'num_trips', 'value_of_time', 'trip_counter',\n",
       "       'ActivityTime', 'tripmode', 'orig_purpose', 'dest_purpose', 'orig_maz',\n",
       "       'orig_taz', 'dest_maz', 'dest_taz', 'driver_passenger_flag',\n",
       "       'joint_trip_flag', 'park&ride_flag', 'starttimeinterval', 'starttime',\n",
       "       'hh_id', 'origin_node', 'destination_node', 'Diff_bet_starttime',\n",
       "       'travel_time'],\n",
       "      dtype='object')"
      ]
     },
     "execution_count": 3,
     "metadata": {},
     "output_type": "execute_result"
    }
   ],
   "source": [
    "traveler_trips.columns"
   ]
  },
  {
   "cell_type": "code",
   "execution_count": null,
   "metadata": {
    "collapsed": true
   },
   "outputs": [],
   "source": []
  },
  {
   "cell_type": "markdown",
   "metadata": {},
   "source": [
    "### Basic Statistics"
   ]
  },
  {
   "cell_type": "code",
   "execution_count": 4,
   "metadata": {},
   "outputs": [
    {
     "data": {
      "text/html": [
       "<div>\n",
       "<style>\n",
       "    .dataframe thead tr:only-child th {\n",
       "        text-align: right;\n",
       "    }\n",
       "\n",
       "    .dataframe thead th {\n",
       "        text-align: left;\n",
       "    }\n",
       "\n",
       "    .dataframe tbody tr th {\n",
       "        vertical-align: top;\n",
       "    }\n",
       "</style>\n",
       "<table border=\"1\" class=\"dataframe\">\n",
       "  <thead>\n",
       "    <tr style=\"text-align: right;\">\n",
       "      <th></th>\n",
       "      <th>person_id</th>\n",
       "      <th>num_trips</th>\n",
       "      <th>value_of_time</th>\n",
       "      <th>trip_counter</th>\n",
       "      <th>ActivityTime</th>\n",
       "      <th>tripmode</th>\n",
       "      <th>orig_purpose</th>\n",
       "      <th>dest_purpose</th>\n",
       "      <th>orig_maz</th>\n",
       "      <th>orig_taz</th>\n",
       "      <th>...</th>\n",
       "      <th>driver_passenger_flag</th>\n",
       "      <th>joint_trip_flag</th>\n",
       "      <th>park&amp;ride_flag</th>\n",
       "      <th>starttimeinterval</th>\n",
       "      <th>starttime</th>\n",
       "      <th>hh_id</th>\n",
       "      <th>origin_node</th>\n",
       "      <th>destination_node</th>\n",
       "      <th>Diff_bet_starttime</th>\n",
       "      <th>travel_time</th>\n",
       "    </tr>\n",
       "  </thead>\n",
       "  <tbody>\n",
       "    <tr>\n",
       "      <th>0</th>\n",
       "      <td>8600957</td>\n",
       "      <td>11</td>\n",
       "      <td>0.1164</td>\n",
       "      <td>1</td>\n",
       "      <td>24.0</td>\n",
       "      <td>1</td>\n",
       "      <td>Home</td>\n",
       "      <td>Shop</td>\n",
       "      <td>1</td>\n",
       "      <td>1</td>\n",
       "      <td>...</td>\n",
       "      <td>1</td>\n",
       "      <td>0</td>\n",
       "      <td>0</td>\n",
       "      <td>1</td>\n",
       "      <td>1.0</td>\n",
       "      <td>2744264</td>\n",
       "      <td>9737</td>\n",
       "      <td>10716</td>\n",
       "      <td>30.0</td>\n",
       "      <td>6.0</td>\n",
       "    </tr>\n",
       "    <tr>\n",
       "      <th>1</th>\n",
       "      <td>8600957</td>\n",
       "      <td>11</td>\n",
       "      <td>0.1164</td>\n",
       "      <td>2</td>\n",
       "      <td>32.0</td>\n",
       "      <td>3</td>\n",
       "      <td>Shop</td>\n",
       "      <td>eatingout</td>\n",
       "      <td>62</td>\n",
       "      <td>16</td>\n",
       "      <td>...</td>\n",
       "      <td>1</td>\n",
       "      <td>0</td>\n",
       "      <td>0</td>\n",
       "      <td>1</td>\n",
       "      <td>31.0</td>\n",
       "      <td>2744264</td>\n",
       "      <td>10716</td>\n",
       "      <td>10057</td>\n",
       "      <td>37.0</td>\n",
       "      <td>5.0</td>\n",
       "    </tr>\n",
       "    <tr>\n",
       "      <th>2</th>\n",
       "      <td>8600957</td>\n",
       "      <td>11</td>\n",
       "      <td>0.1164</td>\n",
       "      <td>3</td>\n",
       "      <td>39.0</td>\n",
       "      <td>1</td>\n",
       "      <td>eatingout</td>\n",
       "      <td>Maintenance</td>\n",
       "      <td>20</td>\n",
       "      <td>5</td>\n",
       "      <td>...</td>\n",
       "      <td>1</td>\n",
       "      <td>0</td>\n",
       "      <td>0</td>\n",
       "      <td>1</td>\n",
       "      <td>68.0</td>\n",
       "      <td>2744264</td>\n",
       "      <td>10021</td>\n",
       "      <td>9674</td>\n",
       "      <td>41.0</td>\n",
       "      <td>2.0</td>\n",
       "    </tr>\n",
       "    <tr>\n",
       "      <th>3</th>\n",
       "      <td>8600957</td>\n",
       "      <td>11</td>\n",
       "      <td>0.1164</td>\n",
       "      <td>4</td>\n",
       "      <td>198.0</td>\n",
       "      <td>3</td>\n",
       "      <td>Maintenance</td>\n",
       "      <td>Home</td>\n",
       "      <td>3</td>\n",
       "      <td>1</td>\n",
       "      <td>...</td>\n",
       "      <td>1</td>\n",
       "      <td>0</td>\n",
       "      <td>0</td>\n",
       "      <td>1</td>\n",
       "      <td>109.0</td>\n",
       "      <td>2744264</td>\n",
       "      <td>9737</td>\n",
       "      <td>9675</td>\n",
       "      <td>199.0</td>\n",
       "      <td>1.0</td>\n",
       "    </tr>\n",
       "    <tr>\n",
       "      <th>4</th>\n",
       "      <td>8600957</td>\n",
       "      <td>11</td>\n",
       "      <td>0.1164</td>\n",
       "      <td>5</td>\n",
       "      <td>191.0</td>\n",
       "      <td>1</td>\n",
       "      <td>Home</td>\n",
       "      <td>work</td>\n",
       "      <td>1</td>\n",
       "      <td>1</td>\n",
       "      <td>...</td>\n",
       "      <td>1</td>\n",
       "      <td>0</td>\n",
       "      <td>0</td>\n",
       "      <td>8</td>\n",
       "      <td>308.0</td>\n",
       "      <td>2744264</td>\n",
       "      <td>9673</td>\n",
       "      <td>9736</td>\n",
       "      <td>192.0</td>\n",
       "      <td>1.0</td>\n",
       "    </tr>\n",
       "  </tbody>\n",
       "</table>\n",
       "<p>5 rows × 22 columns</p>\n",
       "</div>"
      ],
      "text/plain": [
       "   person_id  num_trips  value_of_time  trip_counter  ActivityTime  tripmode  \\\n",
       "0    8600957         11         0.1164             1          24.0         1   \n",
       "1    8600957         11         0.1164             2          32.0         3   \n",
       "2    8600957         11         0.1164             3          39.0         1   \n",
       "3    8600957         11         0.1164             4         198.0         3   \n",
       "4    8600957         11         0.1164             5         191.0         1   \n",
       "\n",
       "  orig_purpose dest_purpose  orig_maz  orig_taz     ...       \\\n",
       "0         Home         Shop         1         1     ...        \n",
       "1         Shop    eatingout        62        16     ...        \n",
       "2    eatingout  Maintenance        20         5     ...        \n",
       "3  Maintenance         Home         3         1     ...        \n",
       "4         Home         work         1         1     ...        \n",
       "\n",
       "   driver_passenger_flag  joint_trip_flag  park&ride_flag  starttimeinterval  \\\n",
       "0                      1                0               0                  1   \n",
       "1                      1                0               0                  1   \n",
       "2                      1                0               0                  1   \n",
       "3                      1                0               0                  1   \n",
       "4                      1                0               0                  8   \n",
       "\n",
       "   starttime    hh_id  origin_node  destination_node  Diff_bet_starttime  \\\n",
       "0        1.0  2744264         9737             10716                30.0   \n",
       "1       31.0  2744264        10716             10057                37.0   \n",
       "2       68.0  2744264        10021              9674                41.0   \n",
       "3      109.0  2744264         9737              9675               199.0   \n",
       "4      308.0  2744264         9673              9736               192.0   \n",
       "\n",
       "   travel_time  \n",
       "0          6.0  \n",
       "1          5.0  \n",
       "2          2.0  \n",
       "3          1.0  \n",
       "4          1.0  \n",
       "\n",
       "[5 rows x 22 columns]"
      ]
     },
     "execution_count": 4,
     "metadata": {},
     "output_type": "execute_result"
    }
   ],
   "source": [
    "traveler_trips.head()"
   ]
  },
  {
   "cell_type": "code",
   "execution_count": 5,
   "metadata": {},
   "outputs": [
    {
     "data": {
      "text/plain": [
       "Index(['person_id', 'num_trips', 'value_of_time', 'trip_counter',\n",
       "       'ActivityTime', 'tripmode', 'orig_purpose', 'dest_purpose', 'orig_maz',\n",
       "       'orig_taz', 'dest_maz', 'dest_taz', 'driver_passenger_flag',\n",
       "       'joint_trip_flag', 'park&ride_flag', 'starttimeinterval', 'starttime',\n",
       "       'hh_id', 'origin_node', 'destination_node', 'Diff_bet_starttime',\n",
       "       'travel_time'],\n",
       "      dtype='object')"
      ]
     },
     "execution_count": 5,
     "metadata": {},
     "output_type": "execute_result"
    }
   ],
   "source": [
    "traveler_trips.columns"
   ]
  },
  {
   "cell_type": "code",
   "execution_count": 6,
   "metadata": {},
   "outputs": [
    {
     "name": "stdout",
     "output_type": "stream",
     "text": [
      "Number of household: \t 32472\n",
      "Number of traveler: \t 76499\n",
      "Number of trips: \t 382158\n",
      "Number of indiv trip: \t 333264\n",
      "Number of joint trip: \t 48894\n"
     ]
    }
   ],
   "source": [
    "#Num of household\n",
    "print('Number of household: \\t',len(traveler_trips.hh_id.unique()))\n",
    "print('Number of traveler: \\t',len(traveler_trips.person_id.unique()))\n",
    "print('Number of trips: \\t',len(traveler_trips))\n",
    "print('Number of indiv trip: \\t',len(traveler_trips[traveler_trips.joint_trip_flag==0]))\n",
    "print('Number of joint trip: \\t',len(traveler_trips[traveler_trips.joint_trip_flag==1]))"
   ]
  },
  {
   "cell_type": "code",
   "execution_count": 7,
   "metadata": {},
   "outputs": [
    {
     "data": {
      "text/plain": [
       "<matplotlib.axes._subplots.AxesSubplot at 0x181015546a0>"
      ]
     },
     "execution_count": 7,
     "metadata": {},
     "output_type": "execute_result"
    },
    {
     "data": {
      "image/png": "[encoded data removed]",
      "text/plain": [
       "<matplotlib.figure.Figure at 0x1810154a2e8>"
      ]
     },
     "metadata": {},
     "output_type": "display_data"
    }
   ],
   "source": [
    "traveler_trips['orig_purpose'].value_counts().plot(kind='bar',title='Histogram of Origin Purpose')"
   ]
  },
  {
   "cell_type": "code",
   "execution_count": 8,
   "metadata": {},
   "outputs": [
    {
     "data": {
      "text/plain": [
       "<matplotlib.axes._subplots.AxesSubplot at 0x18101637588>"
      ]
     },
     "execution_count": 8,
     "metadata": {},
     "output_type": "execute_result"
    },
    {
     "data": {
      "image/png": "[encoded data removed]",
      "text/plain": [
       "<matplotlib.figure.Figure at 0x1810167b320>"
      ]
     },
     "metadata": {},
     "output_type": "display_data"
    }
   ],
   "source": [
    "traveler_trips.tripmode.hist()"
   ]
  },
  {
   "cell_type": "code",
   "execution_count": 9,
   "metadata": {},
   "outputs": [
    {
     "data": {
      "text/plain": [
       "<matplotlib.text.Text at 0x18101bcbe80>"
      ]
     },
     "execution_count": 9,
     "metadata": {},
     "output_type": "execute_result"
    },
    {
     "data": {
      "image/png": "[encoded data removed]",
      "text/plain": [
       "<matplotlib.figure.Figure at 0x18101873f28>"
      ]
     },
     "metadata": {},
     "output_type": "display_data"
    }
   ],
   "source": [
    "traveler_trips.num_trips.hist()\n",
    "plt.pyplot.title('Histogram of trip per person')"
   ]
  },
  {
   "cell_type": "code",
   "execution_count": 10,
   "metadata": {},
   "outputs": [
    {
     "data": {
      "text/plain": [
       "<matplotlib.text.Text at 0x18101ca1518>"
      ]
     },
     "execution_count": 10,
     "metadata": {},
     "output_type": "execute_result"
    },
    {
     "data": {
      "image/png": "[encoded data removed]",
      "text/plain": [
       "<matplotlib.figure.Figure at 0x18101bbd278>"
      ]
     },
     "metadata": {},
     "output_type": "display_data"
    }
   ],
   "source": [
    "traveler_trips.groupby('hh_id')['num_trips'].count().hist()\n",
    "plt.pyplot.title('Histogram of trip per household')"
   ]
  },
  {
   "cell_type": "code",
   "execution_count": 11,
   "metadata": {
    "collapsed": true,
    "scrolled": true
   },
   "outputs": [],
   "source": [
    "def identify_indiv_trip_before_jointtrip(traveler_trips):\n",
    "    before_joint_trip=pd.DataFrame()\n",
    "    for traveler in traveler_trips.person_id.unique():\n",
    "#         print(traveler,len(traveler_trips[traveler_trips.person_id==traveler])-1)\n",
    "        for index in range(len(traveler_trips[traveler_trips.person_id==traveler])-1):\n",
    "#             if(traveler==5982639):\n",
    "#                 print(traveler,index,(traveler_trips.loc[traveler_trips.person_id==traveler].iloc[index]['joint_trip_flag']==0),(traveler_trips.loc[traveler_trips.person_id==traveler].iloc[index+1]['joint_trip_flag']==1)) \n",
    "            if (traveler_trips.loc[traveler_trips.person_id==traveler].iloc[index]['joint_trip_flag']==0) & (traveler_trips.loc[traveler_trips.person_id==traveler].iloc[index+1]['joint_trip_flag']==1):  \n",
    "#                 print(traveler,index)\n",
    "                before_joint_trip=before_joint_trip.append(traveler_trips[traveler_trips.person_id==traveler].iloc[index])\n",
    "    check_joint_trip=traveler_trips.loc[(traveler_trips['joint_trip_flag']==1) & (traveler_trips.trip_counter>2)]\n",
    "    \n",
    "#     if (len(check_joint_trip)/2 != len(before_joint_trip)):\n",
    "#         print(traveler_trips.hh_id.unique(),len(check_joint_trip)/2, len(before_joint_trip))\n",
    "    return before_joint_trip"
   ]
  },
  {
   "cell_type": "code",
   "execution_count": 12,
   "metadata": {
    "collapsed": true
   },
   "outputs": [],
   "source": [
    "# num_ind_trip=[]\n",
    "# for hh in traveler_trips.hh_id.unique():\n",
    "#     target_hh=traveler_trips[traveler_trips.hh_id==hh]\n",
    "#     num_ind_trip.extend([len(identify_indiv_trip_before_jointtrip(target_hh))])"
   ]
  },
  {
   "cell_type": "markdown",
   "metadata": {},
   "source": [
    "### Draw the sub-area network"
   ]
  },
  {
   "cell_type": "code",
   "execution_count": 13,
   "metadata": {
    "scrolled": false
   },
   "outputs": [
    {
     "name": "stderr",
     "output_type": "stream",
     "text": [
      "C:\\Users\\xax538\\AppData\\Local\\Continuum\\anaconda3\\lib\\site-packages\\networkx\\drawing\\nx_pylab.py:126: MatplotlibDeprecationWarning: pyplot.hold is deprecated.\n",
      "    Future behavior will be consistent with the long-time default:\n",
      "    plot commands add elements without first clearing the\n",
      "    Axes and/or Figure.\n",
      "  b = plt.ishold()\n",
      "C:\\Users\\xax538\\AppData\\Local\\Continuum\\anaconda3\\lib\\site-packages\\networkx\\drawing\\nx_pylab.py:138: MatplotlibDeprecationWarning: pyplot.hold is deprecated.\n",
      "    Future behavior will be consistent with the long-time default:\n",
      "    plot commands add elements without first clearing the\n",
      "    Axes and/or Figure.\n",
      "  plt.hold(b)\n",
      "C:\\Users\\xax538\\AppData\\Local\\Continuum\\anaconda3\\lib\\site-packages\\matplotlib\\__init__.py:917: UserWarning: axes.hold is deprecated. Please remove it from your matplotlibrc and/or style files.\n",
      "  warnings.warn(self.msg_depr_set % key)\n",
      "C:\\Users\\xax538\\AppData\\Local\\Continuum\\anaconda3\\lib\\site-packages\\matplotlib\\rcsetup.py:152: UserWarning: axes.hold is deprecated, will be removed in 3.0\n",
      "  warnings.warn(\"axes.hold is deprecated, will be removed in 3.0\")\n"
     ]
    },
    {
     "data": {
      "image/png": "[encoded data removed]",
      "text/plain": [
       "<matplotlib.figure.Figure at 0x18101c33cf8>"
      ]
     },
     "metadata": {},
     "output_type": "display_data"
    }
   ],
   "source": [
    "cluster_highlight([])"
   ]
  },
  {
   "cell_type": "markdown",
   "metadata": {},
   "source": [
    "### Sample Household\n",
    "Select household 2105189 for intial analysis"
   ]
  },
  {
   "cell_type": "code",
   "execution_count": 14,
   "metadata": {
    "scrolled": false
   },
   "outputs": [
    {
     "name": "stdout",
     "output_type": "stream",
     "text": [
      "10\n"
     ]
    },
    {
     "name": "stderr",
     "output_type": "stream",
     "text": [
      "C:\\Users\\xax538\\AppData\\Local\\Continuum\\anaconda3\\lib\\site-packages\\networkx\\drawing\\nx_pylab.py:126: MatplotlibDeprecationWarning: pyplot.hold is deprecated.\n",
      "    Future behavior will be consistent with the long-time default:\n",
      "    plot commands add elements without first clearing the\n",
      "    Axes and/or Figure.\n",
      "  b = plt.ishold()\n",
      "C:\\Users\\xax538\\AppData\\Local\\Continuum\\anaconda3\\lib\\site-packages\\networkx\\drawing\\nx_pylab.py:138: MatplotlibDeprecationWarning: pyplot.hold is deprecated.\n",
      "    Future behavior will be consistent with the long-time default:\n",
      "    plot commands add elements without first clearing the\n",
      "    Axes and/or Figure.\n",
      "  plt.hold(b)\n",
      "C:\\Users\\xax538\\AppData\\Local\\Continuum\\anaconda3\\lib\\site-packages\\matplotlib\\__init__.py:917: UserWarning: axes.hold is deprecated. Please remove it from your matplotlibrc and/or style files.\n",
      "  warnings.warn(self.msg_depr_set % key)\n",
      "C:\\Users\\xax538\\AppData\\Local\\Continuum\\anaconda3\\lib\\site-packages\\matplotlib\\rcsetup.py:152: UserWarning: axes.hold is deprecated, will be removed in 3.0\n",
      "  warnings.warn(\"axes.hold is deprecated, will be removed in 3.0\")\n"
     ]
    },
    {
     "name": "stdout",
     "output_type": "stream",
     "text": [
      "9\n",
      "4\n",
      "7\n"
     ]
    },
    {
     "data": {
      "image/png": "[encoded data removed]",
      "text/plain": [
       "<matplotlib.figure.Figure at 0x1810162ef28>"
      ]
     },
     "metadata": {},
     "output_type": "display_data"
    },
    {
     "data": {
      "image/png": "[encoded data removed]",
      "text/plain": [
       "<matplotlib.figure.Figure at 0x18101c98630>"
      ]
     },
     "metadata": {},
     "output_type": "display_data"
    },
    {
     "data": {
      "image/png": "[encoded data removed]",
      "text/plain": [
       "<matplotlib.figure.Figure at 0x18101f20fd0>"
      ]
     },
     "metadata": {},
     "output_type": "display_data"
    },
    {
     "data": {
      "image/png": "[encoded data removed]",
      "text/plain": [
       "<matplotlib.figure.Figure at 0x18101f90e80>"
      ]
     },
     "metadata": {},
     "output_type": "display_data"
    }
   ],
   "source": [
    "target_hh_id=2105189\n",
    "people_in_hh=traveler_trips[traveler_trips['hh_id']==2105189]['person_id'].unique()\n",
    "for person in people_in_hh:\n",
    "    #creat trip-chain-origin-destination-list\n",
    "    num_trips=traveler_trips[traveler_trips['person_id']==person]['num_trips'].iloc[0]\n",
    "    print(num_trips)\n",
    "    trip_chain_or=traveler_trips[traveler_trips['person_id']==person][['origin_node','destination_node']]\n",
    "    trip_chain_or['origin_node'].iloc[1:num_trips-1]=trip_chain_or['destination_node'].iloc[0:num_trips-2].tolist()\n",
    "    trip_chain_or['origin_node'].iloc[num_trips-1]=trip_chain_or['destination_node'].iloc[num_trips-2]\n",
    "    #draw the graph\n",
    "    av.trip_chain_highlight(trip_chain_or,node_detail,link_detail,nodexy)\n",
    "#traveler_trips[traveler_trips['hh_id']==2105189]"
   ]
  },
  {
   "cell_type": "code",
   "execution_count": 15,
   "metadata": {
    "collapsed": true,
    "scrolled": true
   },
   "outputs": [],
   "source": [
    "target_hh=traveler_trips[traveler_trips['hh_id']==2105189]"
   ]
  },
  {
   "cell_type": "markdown",
   "metadata": {},
   "source": [
    "### Solve the optimization for a household \n",
    "\n",
    "The factors need to know about:  \n",
    "1. Decision variable X <sub>ij</sub> and T<sub>j</sub> (departure time from node j)  \n",
    "2. R <sub>i</sub> reward of visiting node i\n",
    "3. S <sub>i</sub> penalty for late/early arrival\n",
    "4. C <sub>ij</sub> travel time between node i and j  \n",
    "5. "
   ]
  },
  {
   "cell_type": "code",
   "execution_count": 16,
   "metadata": {
    "collapsed": true
   },
   "outputs": [],
   "source": [
    "# target_hh_id=2105189\n",
    "# hh_members=traveler_trips[traveler_trips['hh_id']==target_hh_id]['person_id'].unique()\n",
    "# # hh_num_trips=traveler_trips[traveler_trips['hh_id']==target_hh_id]['num_trips'].value_counts().sum()\n",
    "# num_hh_member=hh_members.size\n",
    "\n",
    "# target_hh=traveler_trips[traveler_trips['hh_id']==target_hh_id].drop_duplicates(subset=['orig_maz','dest_maz','orig_purpose','dest_purpose','starttime'])\n",
    "# sorted_trips=target_hh.sort_values(\"starttime\")\n",
    "# hh_num_trips=sorted_trips.shape[0]\n",
    "# sorted_trips[\"hh_index\"]=(range(hh_num_trips))\n",
    "# R=np.ones(hh_num_trips+1)*15\n",
    "# #Calculate the distance matrix between all node pairs\n",
    "# np.random.seed(1)\n",
    "# C=np.random.rand(2*hh_num_trips+2,2*hh_num_trips+2)*10\n",
    "# visit_candidate=[sorted_trips['origin_node'].iloc[0]]\n",
    "# visit_candidate.extend(sorted_trips['origin_node'].tolist())\n",
    "# visit_candidate.extend(sorted_trips['destination_node'].tolist())\n",
    "# visit_candidate.extend([sorted_trips['origin_node'].iloc[0]])\n",
    "# # C= av.calculate_node_distance_matrix(visit_candidate,nodexy,C)\n",
    "# c=av.calculate_node_travel_time_matrix(visit_candidate,nodexy)"
   ]
  },
  {
   "cell_type": "markdown",
   "metadata": {},
   "source": [
    "#### Solve with heuristic"
   ]
  },
  {
   "cell_type": "code",
   "execution_count": 17,
   "metadata": {
    "collapsed": true
   },
   "outputs": [],
   "source": [
    "# #Solve with heuristic\n",
    "# ############################\n",
    "# #Construct initial feasible solution\n",
    "# def initial_solution(sorted_trips,hh_num_trips,num_hh_member,C,visit_candidate):\n",
    "#     #First start with the earlist trip and add the next trip whenever possible\n",
    "#     #########################\n",
    "#     #Sort all household trips by time\n",
    "#     trip_list=[]\n",
    "#     last_start_time=0\n",
    "#     last_dest_index=0\n",
    "#     last_travel_time=0 #The travel time between the OD of same trip\n",
    "#     trip_list=[]\n",
    "#     index=0\n",
    "#     for index1,trip in sorted_trips.iterrows():\n",
    "#         #If it does not violate the time constraint then add the trip to the route\n",
    "#         current_travel_time=C[last_dest_index,index+1] #The travel time between the orig of #current trip and the dest of last trip\n",
    "#         print(trip['starttime'],'\\t',index+1,'\\t',last_dest_index,'\\t',last_travel_time,'\\t',last_start_time,'\\t',current_travel_time)\n",
    "#         if trip['starttime']>last_travel_time+last_start_time+current_travel_time:\n",
    "#             trip_list.extend([trip['hh_index']])\n",
    "#             last_start_time=trip['starttime']\n",
    "#             last_dest_index=index+1+hh_num_trips\n",
    "#             last_travel_time=C[index+1,index+1+hh_num_trips]\n",
    "#             print(last_dest_index,index+1,trip['hh_index'])\n",
    "#         index+=1\n",
    "#     return trip_list"
   ]
  },
  {
   "cell_type": "code",
   "execution_count": 18,
   "metadata": {
    "collapsed": true,
    "scrolled": false
   },
   "outputs": [],
   "source": [
    "# i=0\n",
    "# num_optimization=0\n",
    "# num_conflict_trips={}\n",
    "# last_time=datetime.datetime.now()\n",
    "# for target_hh_id in [2105189]: #traveler_trips['hh_id'].unique():\n",
    "# #     hh_members=traveler_trips[traveler_trips['hh_id']==target_hh_id]['person_id'].unique()\n",
    "#     # hh_num_trips=traveler_trips[traveler_trips['hh_id']==target_hh_id]['num_trips'].value_counts().sum()\n",
    "#     num_hh_member=traveler_trips[traveler_trips['hh_id']==target_hh_id]['person_id'].unique().size\n",
    "#     target_hh=traveler_trips[traveler_trips['hh_id']==target_hh_id].drop_duplicates(subset=['orig_maz','dest_maz','orig_purpose','dest_purpose','starttime'])\n",
    "#     sorted_trips=target_hh.sort_values(\"starttime\")\n",
    "#     hh_num_trips=sorted_trips.shape[0]\n",
    "#     sorted_trips[\"hh_index\"]=(range(hh_num_trips))\n",
    "#     C=np.ones((2*hh_num_trips+2,2*hh_num_trips+2))\n",
    "#     visit_candidate=[sorted_trips['origin_node'].iloc[0]]\n",
    "#     visit_candidate.extend(sorted_trips['origin_node'].tolist())\n",
    "#     visit_candidate.extend(sorted_trips['destination_node'].tolist())\n",
    "#     visit_candidate.extend([sorted_trips['origin_node'].iloc[0]])\n",
    "#     C= av.calculate_node_distance_matrix(visit_candidate,nodexy,C)*1.5*5\n",
    "# #     C=av.calculate_node_travel_time_matrix(visit_candidate,nodexy)\n",
    "#     route=initial_solution(sorted_trips,hh_num_trips,num_hh_member,C,visit_candidate)\n",
    "#     i=i+1\n",
    "#     if len(route)!=hh_num_trips:\n",
    "#         num_optimization=num_optimization+1\n",
    "#         if (hh_num_trips-len(route)) in num_conflict_trips:\n",
    "#             num_conflict_trips[hh_num_trips-len(route)]=num_conflict_trips[hh_num_trips-len(route)]+1\n",
    "#         else:\n",
    "#             num_conflict_trips[hh_num_trips-len(route)]=1\n",
    "#     if (i%1000==0):\n",
    "#         print(i,target_hh_id,num_optimization,datetime.datetime.now()-last_time)\n",
    "# #         last_time=datetime.datetime.now()"
   ]
  },
  {
   "cell_type": "markdown",
   "metadata": {},
   "source": [
    "## Extract the distance information with Google API"
   ]
  },
  {
   "cell_type": "code",
   "execution_count": 19,
   "metadata": {
    "collapsed": true
   },
   "outputs": [],
   "source": [
    "# #Derive the travel time matrix from google api\n",
    "# origin_node=[]\n",
    "# destination_node=[]\n",
    "# travel_time=[]\n",
    "# k=0\n",
    "# for i in nodexy:\n",
    "#     print(k)\n",
    "#     k=k+1\n",
    "#     for j in nodexy:\n",
    "#         origin_node.extend([i])\n",
    "#         destination_node.extend([j])\n",
    "#         travel_time.extend([travel_time_between_nodes(int(i),int(j),nodexy)])"
   ]
  },
  {
   "cell_type": "markdown",
   "metadata": {},
   "source": [
    "## Solve the optimization with Gurobi"
   ]
  },
  {
   "cell_type": "code",
   "execution_count": 20,
   "metadata": {},
   "outputs": [
    {
     "data": {
      "text/html": [
       "<div>\n",
       "<style>\n",
       "    .dataframe thead tr:only-child th {\n",
       "        text-align: right;\n",
       "    }\n",
       "\n",
       "    .dataframe thead th {\n",
       "        text-align: left;\n",
       "    }\n",
       "\n",
       "    .dataframe tbody tr th {\n",
       "        vertical-align: top;\n",
       "    }\n",
       "</style>\n",
       "<table border=\"1\" class=\"dataframe\">\n",
       "  <thead>\n",
       "    <tr style=\"text-align: right;\">\n",
       "      <th></th>\n",
       "      <th>person_id</th>\n",
       "      <th>num_trips</th>\n",
       "      <th>value_of_time</th>\n",
       "      <th>trip_counter</th>\n",
       "      <th>ActivityTime</th>\n",
       "      <th>tripmode</th>\n",
       "      <th>orig_purpose</th>\n",
       "      <th>dest_purpose</th>\n",
       "      <th>orig_maz</th>\n",
       "      <th>orig_taz</th>\n",
       "      <th>...</th>\n",
       "      <th>driver_passenger_flag</th>\n",
       "      <th>joint_trip_flag</th>\n",
       "      <th>park&amp;ride_flag</th>\n",
       "      <th>starttimeinterval</th>\n",
       "      <th>starttime</th>\n",
       "      <th>hh_id</th>\n",
       "      <th>origin_node</th>\n",
       "      <th>destination_node</th>\n",
       "      <th>Diff_bet_starttime</th>\n",
       "      <th>travel_time</th>\n",
       "    </tr>\n",
       "  </thead>\n",
       "  <tbody>\n",
       "    <tr>\n",
       "      <th>0</th>\n",
       "      <td>8600957</td>\n",
       "      <td>11</td>\n",
       "      <td>0.1164</td>\n",
       "      <td>1</td>\n",
       "      <td>24.0</td>\n",
       "      <td>1</td>\n",
       "      <td>Home</td>\n",
       "      <td>Shop</td>\n",
       "      <td>1</td>\n",
       "      <td>1</td>\n",
       "      <td>...</td>\n",
       "      <td>1</td>\n",
       "      <td>0</td>\n",
       "      <td>0</td>\n",
       "      <td>1</td>\n",
       "      <td>1.0</td>\n",
       "      <td>2744264</td>\n",
       "      <td>9737</td>\n",
       "      <td>10716</td>\n",
       "      <td>30.0</td>\n",
       "      <td>6.0</td>\n",
       "    </tr>\n",
       "    <tr>\n",
       "      <th>1</th>\n",
       "      <td>8600957</td>\n",
       "      <td>11</td>\n",
       "      <td>0.1164</td>\n",
       "      <td>2</td>\n",
       "      <td>32.0</td>\n",
       "      <td>3</td>\n",
       "      <td>Shop</td>\n",
       "      <td>eatingout</td>\n",
       "      <td>62</td>\n",
       "      <td>16</td>\n",
       "      <td>...</td>\n",
       "      <td>1</td>\n",
       "      <td>0</td>\n",
       "      <td>0</td>\n",
       "      <td>1</td>\n",
       "      <td>31.0</td>\n",
       "      <td>2744264</td>\n",
       "      <td>10716</td>\n",
       "      <td>10057</td>\n",
       "      <td>37.0</td>\n",
       "      <td>5.0</td>\n",
       "    </tr>\n",
       "    <tr>\n",
       "      <th>2</th>\n",
       "      <td>8600957</td>\n",
       "      <td>11</td>\n",
       "      <td>0.1164</td>\n",
       "      <td>3</td>\n",
       "      <td>39.0</td>\n",
       "      <td>1</td>\n",
       "      <td>eatingout</td>\n",
       "      <td>Maintenance</td>\n",
       "      <td>20</td>\n",
       "      <td>5</td>\n",
       "      <td>...</td>\n",
       "      <td>1</td>\n",
       "      <td>0</td>\n",
       "      <td>0</td>\n",
       "      <td>1</td>\n",
       "      <td>68.0</td>\n",
       "      <td>2744264</td>\n",
       "      <td>10021</td>\n",
       "      <td>9674</td>\n",
       "      <td>41.0</td>\n",
       "      <td>2.0</td>\n",
       "    </tr>\n",
       "    <tr>\n",
       "      <th>3</th>\n",
       "      <td>8600957</td>\n",
       "      <td>11</td>\n",
       "      <td>0.1164</td>\n",
       "      <td>4</td>\n",
       "      <td>198.0</td>\n",
       "      <td>3</td>\n",
       "      <td>Maintenance</td>\n",
       "      <td>Home</td>\n",
       "      <td>3</td>\n",
       "      <td>1</td>\n",
       "      <td>...</td>\n",
       "      <td>1</td>\n",
       "      <td>0</td>\n",
       "      <td>0</td>\n",
       "      <td>1</td>\n",
       "      <td>109.0</td>\n",
       "      <td>2744264</td>\n",
       "      <td>9737</td>\n",
       "      <td>9675</td>\n",
       "      <td>199.0</td>\n",
       "      <td>1.0</td>\n",
       "    </tr>\n",
       "    <tr>\n",
       "      <th>4</th>\n",
       "      <td>8600957</td>\n",
       "      <td>11</td>\n",
       "      <td>0.1164</td>\n",
       "      <td>5</td>\n",
       "      <td>191.0</td>\n",
       "      <td>1</td>\n",
       "      <td>Home</td>\n",
       "      <td>work</td>\n",
       "      <td>1</td>\n",
       "      <td>1</td>\n",
       "      <td>...</td>\n",
       "      <td>1</td>\n",
       "      <td>0</td>\n",
       "      <td>0</td>\n",
       "      <td>8</td>\n",
       "      <td>308.0</td>\n",
       "      <td>2744264</td>\n",
       "      <td>9673</td>\n",
       "      <td>9736</td>\n",
       "      <td>192.0</td>\n",
       "      <td>1.0</td>\n",
       "    </tr>\n",
       "  </tbody>\n",
       "</table>\n",
       "<p>5 rows × 22 columns</p>\n",
       "</div>"
      ],
      "text/plain": [
       "   person_id  num_trips  value_of_time  trip_counter  ActivityTime  tripmode  \\\n",
       "0    8600957         11         0.1164             1          24.0         1   \n",
       "1    8600957         11         0.1164             2          32.0         3   \n",
       "2    8600957         11         0.1164             3          39.0         1   \n",
       "3    8600957         11         0.1164             4         198.0         3   \n",
       "4    8600957         11         0.1164             5         191.0         1   \n",
       "\n",
       "  orig_purpose dest_purpose  orig_maz  orig_taz     ...       \\\n",
       "0         Home         Shop         1         1     ...        \n",
       "1         Shop    eatingout        62        16     ...        \n",
       "2    eatingout  Maintenance        20         5     ...        \n",
       "3  Maintenance         Home         3         1     ...        \n",
       "4         Home         work         1         1     ...        \n",
       "\n",
       "   driver_passenger_flag  joint_trip_flag  park&ride_flag  starttimeinterval  \\\n",
       "0                      1                0               0                  1   \n",
       "1                      1                0               0                  1   \n",
       "2                      1                0               0                  1   \n",
       "3                      1                0               0                  1   \n",
       "4                      1                0               0                  8   \n",
       "\n",
       "   starttime    hh_id  origin_node  destination_node  Diff_bet_starttime  \\\n",
       "0        1.0  2744264         9737             10716                30.0   \n",
       "1       31.0  2744264        10716             10057                37.0   \n",
       "2       68.0  2744264        10021              9674                41.0   \n",
       "3      109.0  2744264         9737              9675               199.0   \n",
       "4      308.0  2744264         9673              9736               192.0   \n",
       "\n",
       "   travel_time  \n",
       "0          6.0  \n",
       "1          5.0  \n",
       "2          2.0  \n",
       "3          1.0  \n",
       "4          1.0  \n",
       "\n",
       "[5 rows x 22 columns]"
      ]
     },
     "execution_count": 20,
     "metadata": {},
     "output_type": "execute_result"
    }
   ],
   "source": [
    "traveler_trips.head()"
   ]
  },
  {
   "cell_type": "code",
   "execution_count": 21,
   "metadata": {},
   "outputs": [
    {
     "data": {
      "text/plain": [
       "Index(['person_id', 'num_trips', 'value_of_time', 'trip_counter',\n",
       "       'ActivityTime', 'tripmode', 'orig_purpose', 'dest_purpose', 'orig_maz',\n",
       "       'orig_taz', 'dest_maz', 'dest_taz', 'driver_passenger_flag',\n",
       "       'joint_trip_flag', 'park&ride_flag', 'starttimeinterval', 'starttime',\n",
       "       'hh_id', 'origin_node', 'destination_node', 'Diff_bet_starttime',\n",
       "       'travel_time'],\n",
       "      dtype='object')"
      ]
     },
     "execution_count": 21,
     "metadata": {},
     "output_type": "execute_result"
    }
   ],
   "source": [
    "traveler_trips.columns"
   ]
  },
  {
   "cell_type": "code",
   "execution_count": 57,
   "metadata": {
    "collapsed": true
   },
   "outputs": [],
   "source": [
    "def extract_hh_information(target_hh_id,traveler_trips):\n",
    "    '''\n",
    "    Get the household related information. Those information will be used as input\n",
    "    for the optimization model\n",
    "    '''\n",
    "    num_hh_member=traveler_trips[traveler_trips['hh_id']==target_hh_id]['person_id'].unique().size\n",
    "    target_hh=traveler_trips[traveler_trips['hh_id']==target_hh_id].drop_duplicates(subset=['orig_maz','dest_maz','orig_purpose','dest_purpose','starttime'])\n",
    "    #Sort all trips based on start time. This step could reduce the solving time and make it easier to track\n",
    "    sorted_trips=target_hh.sort_values(\"starttime\")\n",
    "    hh_num_trips=sorted_trips.shape[0]\n",
    "    #hh_index give an index to all trips within the household for tracking purpose\n",
    "    sorted_trips[\"hh_index\"]=(range(hh_num_trips))\n",
    "    #Then only keep the \n",
    "#     sorted_trips=sorted_trips.drop_duplicates(['orig_purpose','dest_purpose','orig_maz','dest_maz','starttime'],keep='first')\n",
    "    C=np.ones((2*hh_num_trips+2,2*hh_num_trips+2))\n",
    "    visit_candidate=[sorted_trips['origin_node'].iloc[0]]\n",
    "    visit_candidate.extend(sorted_trips['origin_node'].tolist())\n",
    "    visit_candidate.extend(sorted_trips['destination_node'].tolist())\n",
    "    visit_candidate.extend([sorted_trips['origin_node'].iloc[0]])\n",
    "    C= av.calculate_node_distance_matrix(visit_candidate,nodexy,C)*1.5*5\n",
    "    for i in range(hh_num_trips): \n",
    "        C[i+1,i+hh_num_trips+1]=sorted_trips['travel_time'].iloc[i]\n",
    "    \n",
    "    visit_candidate_zone=[sorted_trips['orig_taz'].iloc[0]]\n",
    "    visit_candidate_zone.extend(sorted_trips['orig_taz'].tolist())\n",
    "    visit_candidate_zone.extend(sorted_trips['dest_taz'].tolist())\n",
    "    visit_candidate_zone.extend([sorted_trips['orig_taz'].iloc[0]])\n",
    "    \n",
    "    expected_arrival_time=np.ones(2*hh_num_trips+2)\n",
    "    expected_arrival_time[0]=traveler_trips[traveler_trips['hh_id']==target_hh_id]['starttime'].min()-1\n",
    "    expected_arrival_time[1:hh_num_trips+1]=sorted_trips.starttime\n",
    "    expected_leave_time=np.ones(2*hh_num_trips+2)\n",
    "    expected_leave_time[0:hh_num_trips+1]=expected_arrival_time[0:hh_num_trips+1]\n",
    "    \n",
    "    for i in range(1+hh_num_trips,2*hh_num_trips+1):\n",
    "        expected_arrival_time[i]=expected_arrival_time[i-hh_num_trips]+C[i-hh_num_trips,i]\n",
    "        expected_leave_time[i]=expected_arrival_time[i-hh_num_trips+1]\n",
    "        #         print(i,i-hh_num_trips,hh_num_trips,expected_arrival_time[i-hh_num_trips],expected_arrival_time[i],C[i-hh_num_trips,i])\n",
    "    \n",
    "    expected_arrival_time[2*hh_num_trips+1]=1440\n",
    "    expected_leave_time[2*hh_num_trips+1]=1440\n",
    "    expected_leave_time[2*hh_num_trips]=1440\n",
    "    early_penalty=100*np.ones(2*hh_num_trips+2)\n",
    "    late_penalty=100*np.ones(2*hh_num_trips+2)\n",
    "    return num_hh_member,hh_num_trips,C,sorted_trips,expected_arrival_time,expected_leave_time,early_penalty,late_penalty,visit_candidate_zone\n",
    "\n",
    "def dial_n_ride_model(num_hh_member,hh_num_trips,C,sorted_trips,expected_arrival_time,early_penalty,late_penalty,output_flag):\n",
    "    m1=Model(\"AVSchedule\")\n",
    "    x=m1.addVars(2*hh_num_trips+2,2*hh_num_trips+2,vtype=GRB.BINARY,name=\"x\")\n",
    "    T=m1.addVars(2*hh_num_trips+2,name=\"T\") #T represent the expected arrivial time at a node\n",
    "    S=m1.addVars(2*hh_num_trips+2,name=\"S\")\n",
    "    R=np.ones(hh_num_trips+1)*150\n",
    "    # B=traveler_trips[traveler_trips['hh_id']==household]['starttime'].max()-traveler_trips[traveler_trips['hh_id']==household]['starttime'].min()\n",
    "    B=1440\n",
    "    #Add constraints\n",
    "    ###################################\n",
    "    #Basic deliver and pickup constraints\n",
    "    # m1.addConstrs((x[0,i]==1 for i in range(1,2)),\"adf\")\n",
    "    m1.addConstrs((x.sum(i,'*')==1 for i in range(1)),\"FromDepot2\")\n",
    "    m1.addConstrs((x.sum('*',i)==1 for i in [2*hh_num_trips+1]),\"ToDepot3\") \n",
    "    m1.addConstrs((x.sum(i,\"*\")==x.sum(\"*\",i+hh_num_trips) for i in range(1,hh_num_trips+1)),\"DemandbeDelivered11\")\n",
    "    m1.addConstrs((x.sum(i,\"*\")<=1 for i in range(2*hh_num_trips+1)),\"PickupOnce12\")\n",
    "    m1.addConstrs((x.sum(\"*\",j)<=1 for j in range(1,2*hh_num_trips+2)),\"DeliverOnce13\")\n",
    "    m1.addConstrs((x.sum(\"*\",i)==x.sum(i,\"*\") for i in range(1,2*hh_num_trips+1)),\"FlowConvervative14\")\n",
    "    m1.addConstrs((x[i,i]==0 for i in range(2*hh_num_trips+2)),\"NoSamePointCircleVisit\")\n",
    "    # ###################################\n",
    "    #Time constratins\n",
    "    # m1.addConstrs((T[i]==expected_arrival_time[i] for i in range(2*hh_num_trips+2)),'ExactStartTime')\n",
    "    m1.addConstrs((T[j]-T[i]-B*x[i,j]>=C[i,j]-B for i in range(2*hh_num_trips+2) for j in range(2*hh_num_trips+2)),\"precedencet15\")\n",
    "    m1.addConstrs((T[i+hh_num_trips]-T[i]-B*x.sum(i,\"*\")>=(C[i,i+hh_num_trips]-B) for i in range(1,hh_num_trips+1)),\"deliverafterpickup16\")\n",
    "\n",
    "    # ####################################\n",
    "    # #Late/Early Arrival penalty\n",
    "    m1.addConstrs((S[i]>=early_penalty[i]*(expected_arrival_time[i]-T[i]) for i in range(1,2*hh_num_trips+2)),'earlyarrivalpenalty')\n",
    "    m1.addConstrs((S[i]>=late_penalty[i]*(T[i]-expected_arrival_time[i]) for i in range(1,2*hh_num_trips+2)),'earlyarrivalpenalty')\n",
    "    # ####################################\n",
    "    # Special Constraints for this problem\n",
    "    m1.addConstrs(x[i,j]==0 for i in range(1,hh_num_trips+1)\n",
    "                            for j in range(1,hh_num_trips+1)\n",
    "                            if sorted_trips.iloc[i-1]['person_id']==sorted_trips.iloc[j-1]['person_id'])\n",
    "    \n",
    "    m1.addConstrs(x[i,j]==0 for i in range(2*hh_num_trips+2) for j in range(2*hh_num_trips+2) if expected_arrival_time[j]-expected_arrival_time[i]<-30)\n",
    "    obj1=sum(x.sum(i,'*')*R[i] for i in range(hh_num_trips+1))\n",
    "    obj2=S.sum()\n",
    "    obj3=sum(x[i,j]*C[i,j] for i in range(2*hh_num_trips+2) for j in range(2*hh_num_trips+2))\n",
    "    m1.setObjective(obj1-obj2-obj3, GRB.MAXIMIZE)\n",
    "    # m1.setObjective(obj1-obj3,GRB.MAXIMIZE)\n",
    "    m1.setParam(GRB.Param.OutputFlag,output_flag)\n",
    "    m1.optimize()\n",
    "    return m1,x,T\n",
    "def break_route_to_seg(route_info):\n",
    "    '''\n",
    "    This function break the route of an av into segements for DYNASMART depends on the travelers. \n",
    "    The function is called by extract_route_from_model_solution\n",
    "    '''\n",
    "    seg_index=[0]\n",
    "    seg_temp=0\n",
    "    i=1\n",
    "    for index, row in route_info[1:].iterrows():    \n",
    "        if(row.person_id != route_info.iloc[i-1].person_id):\n",
    "            seg_temp=seg_temp+1\n",
    "        seg_index.extend([seg_temp])\n",
    "        i=i+1\n",
    "    route_info['seg_index']=seg_index\n",
    "    return route_info\n",
    "def veh_seg_index_creator(x):\n",
    "    return str(int(x[0]))+'_'+str(int(x[1]))\n",
    "\n",
    "def extract_route_from_model_solution(x,T,sorted_trips,visit_candidate_zone,hh_num_trips,expected_arrival_time,expected_leave_time):\n",
    "    #Check the feasibility of the answer\n",
    "    #route_dic store the optimiztion model solution as a dictionary. The keys are the upstream node index and the answer is\n",
    "    #the corresponding downstream node index\n",
    "    hh_id=sorted_trips['hh_id'].iloc[0]\n",
    "    potential_next_node=set(range(1,2*hh_num_trips+1))\n",
    "    route_node=[0]\n",
    "    travelers=[]\n",
    "    vot=[]\n",
    "    activity_time=[]\n",
    "    start_time=[]\n",
    "    origin_arrival_time=[]\n",
    "    dest_arrival_time=[]\n",
    "    orig_node=[]\n",
    "    dest_node=[]\n",
    "    while potential_next_node != set():\n",
    "        for node in potential_next_node: \n",
    "            if x[route_node[-1],node].x>0.91:\n",
    "                if (route_node[-1]==0):\n",
    "                    traveler_set=set()\n",
    "                elif (route_node[-1]<=hh_num_trips):\n",
    "#                     print(traveler_set,sorted_trips.iloc[route_node[-1]-1]['person_id'])\n",
    "                    traveler_set.add(sorted_trips.iloc[route_node[-1]-1]['person_id'])\n",
    "                else:\n",
    "                    traveler_set.remove(sorted_trips.iloc[route_node[-1]-1-hh_num_trips]['person_id'])\n",
    "                if traveler_set==set():\n",
    "                    travelers.extend([0])\n",
    "                    vot.extend([0])\n",
    "                    activity_time.extend([0])\n",
    "                else: \n",
    "                    travelers.extend([list(traveler_set)[0]])\n",
    "                    vot.extend([sorted_trips[sorted_trips.person_id==travelers[-1]]['value_of_time'].iloc[0]])\n",
    "                    activity_time.extend([max(0,expected_leave_time[node]-expected_arrival_time[node])])\n",
    "#                     vot.extend([sorted_trips.iloc[route_node[-1]-1]['value_of_time']])\n",
    "                start_time.extend([expected_leave_time[route_node[-1]]])\n",
    "                origin_arrival_time.extend([T[route_node[-1]].x])\n",
    "                dest_arrival_time.extend([T[node].x])\n",
    "                orig_node.extend([sorted_trips])\n",
    "                route_node.extend([node])\n",
    "                break\n",
    "        if route_node[-1] in potential_next_node:\n",
    "            potential_next_node.remove(route_node[-1])\n",
    "        else:\n",
    "            potential_next_node=set()\n",
    "            \n",
    "    route=[visit_candidate_zone[x] for x in route_node]\n",
    "    route_info=pd.DataFrame({'orig_zone':route[1:-1],'dest_zone':route[2:],'person_id':travelers[1:],\n",
    "                             'orig_node_index':route_node[1:-1],'dest_node_index':route_node[2:],\n",
    "                             'origin_arrival_time':origin_arrival_time[1:],'dest_arrival_time':dest_arrival_time[1:],\n",
    "                             'value_of_time':vot[1:],'start_time':start_time[1:],'Activity_Time':activity_time[1:],\n",
    "                             'hh_id':np.ones(len(route[1:-1]))*hh_id},\n",
    "                            columns=['orig_zone','dest_zone','orig_node_index','dest_node_index',\n",
    "                                     'person_id','origin_arrival_time','dest_arrival_time','value_of_time','start_time','Activity_Time','hh_id'])\n",
    "    route_info=route_info.loc[((route_info.orig_node_index-route_info.dest_node_index!=hh_num_trips-1) | (route_info.orig_zone!=route_info.dest_zone)) ]\n",
    "    route_infos=break_route_to_seg(route_info)\n",
    "    route_infos['veh_seg_index']=route_infos[['hh_id','seg_index']].apply(lambda x: veh_seg_index_creator(x), axis=1)\n",
    "    return route_info\n",
    "def find_av_schedule_exact_method(target_hh_id,traveler_trips,output_flag):\n",
    "    num_hh_member,hh_num_trips,C,sorted_trips,expected_arrival_time,expected_leave_time,early_penalty,late_penalty,visit_candidate_zone=extract_hh_information(target_hh_id,traveler_trips)\n",
    "    m1,x,T=dial_n_ride_model(num_hh_member,hh_num_trips,C,sorted_trips,expected_arrival_time,early_penalty,late_penalty,output_flag)\n",
    "    route_info=extract_route_from_model_solution(x,T,sorted_trips,visit_candidate_zone,hh_num_trips,expected_arrival_time,expected_leave_time)\n",
    "    return route_info\n",
    "\n",
    "def get_route_info_allhh(traveler_trips,output_flag):\n",
    "    '''\n",
    "    This function loops over all the household and find the optimal path for all of them. Return route_infos that \n",
    "    stores all the route related information for all households\n",
    "    \n",
    "    '''\n",
    "    counter=0\n",
    "    route_infos=pd.DataFrame()\n",
    "    for household_id in traveler_trips.hh_id.unique():\n",
    "#         print(household_id)\n",
    "        if counter%100==0: \n",
    "            print('Estimate Route for the ',counter,'th household ',datetime.datetime.now())\n",
    "        counter=counter+1\n",
    "        if len(traveler_trips[traveler_trips.hh_id==household_id])<30:\n",
    "            route_info=find_av_schedule_exact_method(household_id,traveler_trips,output_flag)\n",
    "            route_infos=route_infos.append(route_info)\n",
    "    return  route_infos"
   ]
  },
  {
   "cell_type": "code",
   "execution_count": 58,
   "metadata": {},
   "outputs": [],
   "source": [
    "origin_path='Input/origin.dat'\n",
    "destination_path='Input/destination.dat'\n",
    "origins,destinations,origin_links=dy.read_origin_destion(origin_path,destination_path)"
   ]
  },
  {
   "cell_type": "code",
   "execution_count": 59,
   "metadata": {
    "scrolled": true
   },
   "outputs": [
    {
     "name": "stdout",
     "output_type": "stream",
     "text": [
      "Estimate Route for the  0 th household  2017-11-30 11:56:06.550002\n",
      "Estimate Route for the  100 th household  2017-11-30 11:56:51.716308\n",
      "Estimate Route for the  200 th household  2017-11-30 11:57:36.777615\n"
     ]
    }
   ],
   "source": [
    "route_infos=get_route_info_allhh(traveler_trips.iloc[0:3000],0)"
   ]
  },
  {
   "cell_type": "code",
   "execution_count": 60,
   "metadata": {
    "collapsed": true
   },
   "outputs": [],
   "source": [
    "Output_folder='Output/'\n",
    "if not os.path.exists(Output_folder):\n",
    "    os.makedirs(Output_folder)\n",
    "vehicle_filepath=Output_folder+'vehicle.dat'"
   ]
  },
  {
   "cell_type": "code",
   "execution_count": 65,
   "metadata": {
    "collapsed": true
   },
   "outputs": [],
   "source": [
    "def route_to_vehicledat(route_infos,origin_links,vehicle_filepath):\n",
    "    vehicledat=open(vehicle_filepath,'w')\n",
    "    stime_temp=-1  #This variable is created to check wheather the vehicle_seg are sorted by start time of first trip\n",
    "    num_veh_seg=len(route_infos.sort_values('start_time')['veh_seg_index'].unique())\n",
    "    max_num_trip=route_infos.groupby('veh_seg_index')['start_time'].count().max()\n",
    "    vehicledat.write(str(num_veh_seg)+'\\t'+str(max_num_trip)+'\\t'+'# of vehicles in the file, Max # of stops\\n')\n",
    "    vehicledat.write('counter  iutmp  idtmp  StartTime  ivcltmp  ivcl2tmp  ihovtmp  veh_pathnodenum  NonrepetitiveCarNumTrip  infotmp  ribftmp  comptmp  TAZMap  value_of_time  1\\n')\n",
    "    counter=1\n",
    "    for veh_seg in route_infos.sort_values('start_time')['veh_seg_index'].unique():\n",
    "#         print(min(route_infos.loc[route_infos.veh_seg_index==veh_seg]['start_time']))\n",
    "        if stime_temp>min(route_infos.loc[route_infos.veh_seg_index==veh_seg]['start_time']):\n",
    "            print('stime error ',veh_seg)\n",
    "        stime_temp=min(route_infos.loc[route_infos.veh_seg_index==veh_seg]['start_time'])\n",
    "        write_one_veh_seq(route_infos.loc[route_infos.veh_seg_index==veh_seg],vehicledat,counter,origin_links)\n",
    "        counter +=1\n",
    "    vehicledat.close()\n",
    "    return\n",
    "def write_one_veh_seq(route_info,file_obj,counter,origin_links):\n",
    "    ivcltmp=3         #Standard Input for Vehicle Specifications\n",
    "    ivcl2tmp=1        #Standard Input for Vehicle Specifications \n",
    "    ihovtmp=1         #Standard Input for Vehicle Specifications  \n",
    "    veh_pathnodenum=1 #Standard Input for Vehicle Specifications\n",
    "    ndestmp=1         #Standard Input for Vehicle Specifications\n",
    "    infotmp=0         #Standard Input for Vehicle Specifications \n",
    "    ribftmp=0.0       #Standard Input for Vehicle Specifications  \n",
    "    comptmp=0.0       #Standard Input for Vehicle Specifications  \n",
    "    target_zone=origin_links.loc[origin_links.zone_id==route_info.iloc[0]['orig_zone']]\n",
    "    if len(target_zone)==0:\n",
    "        print(route_info.iloc[0]['orig_zone'])\n",
    "    generateion_link_index=np.random.randint(0,len(target_zone))\n",
    "    orig_u_node= target_zone.iloc[generateion_link_index]['u_node'] #Upstream node of the generation link \n",
    "    orig_d_node= target_zone.iloc[generateion_link_index]['d_node'] #Downstream node of the generation link\n",
    "    file_obj.write(str(counter)+'\\t'+str(int(orig_u_node))+'\\t'\n",
    "                   +str(int(orig_d_node))+'\\t'+str(route_info.iloc[0]['start_time'])+'\\t'\n",
    "                   +str(ivcltmp)+'\\t'+str(ivcl2tmp)+'\\t'+str(ihovtmp)+'\\t'+str(veh_pathnodenum)+'\\t'\n",
    "                   +str(len(route_info))+'\\t'+str(infotmp)+'\\t'+str(ribftmp)+'\\t'\n",
    "                   +str(comptmp)+'\\t'+ str(route_info.iloc[0]['orig_zone'])+'\\t'\n",
    "                   +str(route_info.iloc[0]['value_of_time'])+'\\t'+'1'+'\\n')\n",
    "    for (index,row) in route_info.iloc[:-1].iterrows():\n",
    "        file_obj.write(str(row['dest_zone'])+'\\t'+str(row['Activity_Time'])+'\\n')\n",
    "    file_obj.write(str(route_info['dest_zone'].iloc[-1])+'\\t'+'0.0\\n')\n",
    "    \n",
    "    return"
   ]
  },
  {
   "cell_type": "code",
   "execution_count": 66,
   "metadata": {},
   "outputs": [],
   "source": [
    "route_to_vehicledat(route_infos,origin_links,vehicle_filepath)"
   ]
  },
  {
   "cell_type": "code",
   "execution_count": 34,
   "metadata": {
    "collapsed": true
   },
   "outputs": [],
   "source": [
    "output_flag=0\n",
    "target_hh_id=1119100\n",
    "num_hh_member,hh_num_trips,C,sorted_trips,expected_arrival_time,expected_leave_time,early_penalty,late_penalty,visit_candidate_zone=extract_hh_information(target_hh_id,traveler_trips)\n",
    "m1,x,T=dial_n_ride_model(num_hh_member,hh_num_trips,C,sorted_trips,expected_arrival_time,early_penalty,late_penalty,output_flag)\n",
    "route_info=extract_route_from_model_solution(x,T,sorted_trips,visit_candidate_zone,hh_num_trips,expected_arrival_time,expected_leave_time)"
   ]
  },
  {
   "cell_type": "markdown",
   "metadata": {},
   "source": [
    "#### Result Analysis"
   ]
  },
  {
   "cell_type": "code",
   "execution_count": 35,
   "metadata": {
    "scrolled": false
   },
   "outputs": [
    {
     "name": "stdout",
     "output_type": "stream",
     "text": [
      "x[0,1] 1.0\n",
      "x[1,20] 1.0\n",
      "x[2,21] 1.0\n",
      "x[3,22] 1.0\n",
      "x[4,23] 1.0\n",
      "x[5,24] 1.0\n",
      "x[7,26] 1.0\n",
      "x[9,28] 1.0\n",
      "x[10,29] 1.0\n",
      "x[12,31] 1.0\n",
      "x[13,32] 1.0\n",
      "x[14,33] 1.0\n",
      "x[15,34] 1.0\n",
      "x[16,35] 1.0\n",
      "x[17,36] 1.0\n",
      "x[18,37] 1.0\n",
      "x[19,38] 1.0\n",
      "x[20,2] 1.0\n",
      "x[21,3] 1.0\n",
      "x[22,4] 1.0\n",
      "x[23,5] 1.0\n",
      "x[24,7] 1.0\n",
      "x[26,9] 1.0\n",
      "x[28,10] 1.0\n",
      "x[29,12] 1.0\n",
      "x[31,13] 1.0\n",
      "x[32,14] 1.0\n",
      "x[33,15] 1.0\n",
      "x[34,16] 1.0\n",
      "x[35,17] 1.0\n",
      "x[36,18] 1.0\n",
      "x[37,19] 1.0\n",
      "x[38,39] 1.0\n",
      "T[1] 2.0\n",
      "T[2] 207.0\n",
      "T[3] 240.0\n",
      "T[4] 260.0\n",
      "T[5] 305.0\n",
      "T[6] 306.0\n",
      "T[7] 320.0\n",
      "T[8] 326.0\n",
      "T[9] 338.0\n",
      "T[10] 594.0\n",
      "T[11] 697.0\n",
      "T[12] 711.0\n",
      "T[13] 852.0\n",
      "T[14] 872.0\n",
      "T[15] 909.0\n",
      "T[16] 948.0\n",
      "T[17] 975.0\n",
      "T[18] 1017.0\n",
      "T[19] 1106.0\n",
      "T[20] 18.29211399928772\n",
      "T[21] 212.0\n",
      "T[22] 251.0\n",
      "T[23] 271.0\n",
      "T[24] 309.0\n",
      "T[25] 321.0\n",
      "T[26] 326.0\n",
      "T[27] 337.0\n",
      "T[28] 349.0\n",
      "T[29] 606.0\n",
      "T[30] 711.0\n",
      "T[31] 722.0\n",
      "T[32] 863.0\n",
      "T[33] 886.0\n",
      "T[34] 924.0\n",
      "T[35] 962.0\n",
      "T[36] 986.0\n",
      "T[37] 1022.0\n",
      "T[38] 1116.0\n",
      "T[39] 1439.925\n",
      "S[20] 1529.2113999287722\n",
      "S[39] 7.5\n"
     ]
    }
   ],
   "source": [
    "for v in m1.getVars():\n",
    "     if (v.x !=0):\n",
    "        print(v.varName, v.x)        "
   ]
  },
  {
   "cell_type": "code",
   "execution_count": 36,
   "metadata": {},
   "outputs": [
    {
     "name": "stdout",
     "output_type": "stream",
     "text": [
      "there are  33  trips\n",
      "0 1\n",
      "1 20\n",
      "20 2\n",
      "2 21\n",
      "21 3\n",
      "3 22\n",
      "22 4\n",
      "4 23\n",
      "23 5\n",
      "5 24\n",
      "24 7\n",
      "7 26\n",
      "26 9\n",
      "9 28\n",
      "28 10\n",
      "10 29\n",
      "29 12\n",
      "12 31\n",
      "31 13\n",
      "13 32\n",
      "32 14\n",
      "14 33\n",
      "33 15\n",
      "15 34\n",
      "34 16\n",
      "16 35\n",
      "35 17\n",
      "17 36\n",
      "36 18\n",
      "18 37\n",
      "37 19\n",
      "19 38\n",
      "38 39\n"
     ]
    }
   ],
   "source": [
    "#Check the feasibility of the answer\n",
    "route_dic={}\n",
    "counter=0\n",
    "for i in range(2*hh_num_trips+2):\n",
    "    for j in range(2*hh_num_trips+2):\n",
    "        if x[i,j].x==1:\n",
    "            route_dic[i]=j\n",
    "            counter=counter+1\n",
    "print(\"there are \",counter,\" trips\")\n",
    "route=[0]\n",
    "for i in range(len(route_dic)):\n",
    "    route.extend([route_dic[route[i]]])\n",
    "    print(route[i],route_dic[route[i]] )#,C[route[i],route_dic[route[i]]],T[route[i]])"
   ]
  }
 ],
 "metadata": {
  "kernelspec": {
   "display_name": "Python 3",
   "language": "python",
   "name": "python3"
  },
  "language_info": {
   "codemirror_mode": {
    "name": "ipython",
    "version": 3
   },
   "file_extension": ".py",
   "mimetype": "text/x-python",
   "name": "python",
   "nbconvert_exporter": "python",
   "pygments_lexer": "ipython3",
   "version": "3.6.2"
  }
 },
 "nbformat": 4,
 "nbformat_minor": 2
}
