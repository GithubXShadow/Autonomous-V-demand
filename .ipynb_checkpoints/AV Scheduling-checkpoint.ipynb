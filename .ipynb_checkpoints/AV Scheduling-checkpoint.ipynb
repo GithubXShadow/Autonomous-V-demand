{
 "cells": [
  {
   "cell_type": "markdown",
   "metadata": {},
   "source": [
    "# AV Scheduling for household"
   ]
  },
  {
   "cell_type": "markdown",
   "metadata": {},
   "source": [
    "### Initialize\n",
    "* Inital functions and package\n",
    "* Read input"
   ]
  },
  {
   "cell_type": "code",
   "execution_count": 1,
   "metadata": {},
   "outputs": [],
   "source": [
    "import numpy as np\n",
    "import pandas as pd\n",
    "import matplotlib as plt\n",
    "import networkx as nx\n",
    "%matplotlib inline\n",
    "# from DYNASMART_Process import *\n",
    "from Modules import DYNASMART_Process as dy\n",
    "# import preprocessing_read_skim_file as rs\n",
    "from Modules import AV_functions as av\n",
    "from Modules import Solve_DARP as sod\n",
    "from Modules import Postprocess_DARP as pod\n",
    "from Modules import Preprocess_DARP as prd\n",
    "from Modules import DARP_to_DYNA as dtd\n",
    "from gurobipy import *\n",
    "from Modules import *\n",
    "import datetime\n",
    "import requests\n",
    "import math\n",
    "import importlib\n",
    "import pickle\n",
    "%load_ext autoreload\n",
    "%autoreload 2"
   ]
  },
  {
   "cell_type": "code",
   "execution_count": 2,
   "metadata": {
    "scrolled": true
   },
   "outputs": [
    {
     "name": "stdout",
     "output_type": "stream",
     "text": [
      "56 57 72\n"
     ]
    }
   ],
   "source": [
    "#Read in the basic traveler and trips informationa and joint the houshold id\n",
    "# traveler_info=pd.read_csv('input/traveler.csv')\n",
    "personData=pd.read_csv('input/personData_1.csv')\n",
    "person_type_dic=dict(zip(personData.person_id,personData.type))\n",
    "# hh_temp=personData[['person_id','hh_id']]\n",
    "# traveler_trips=pd.merge(traveler_info,hh_temp,how='left',on=['person_id'])\n",
    "#Trip mode\n",
    "#1 Drive alone free; 2 Drive alone pay; 3 Shared ride 2 free; 4 Shared ride 2 pay ;\n",
    "#5 Shared ride 3+ free; 6 Shared ride 3+ pay; 7 Walk; 8 Bike; 9 Walk to local transit; \n",
    "#10 Walk to premium transit; 11 Drive to local transit; 12 Drive to premium transit; \n",
    "#13 Taxi; 14 School bus\n",
    "\n",
    "# traveler_trips=pd.read_csv('input/traveler_trip_info.csv')\n",
    "# #Calculate the expected trip travel time as trip start time of trip (i+1) - start time of trip i - activity time \n",
    "# traveler_trips['Diff_bet_starttime']=traveler_trips.starttime.diff()[1:]\n",
    "# traveler_trips.Diff_bet_starttime=traveler_trips.Diff_bet_starttime.shift(-1)\n",
    "# traveler_trips['Diff_bet_starttime'].apply(lambda x: 0 if x<0 else x)\n",
    "# traveler_trips['travel_time']=traveler_trips.Diff_bet_starttime-traveler_trips.ActivityTime\n",
    "# traveler_trips.loc[traveler_trips.trip_counter==traveler_trips.num_trips,'travel_time']=1440-(traveler_trips.loc[traveler_trips.trip_counter==traveler_trips.num_trips]['starttime']+traveler_trips.loc[traveler_trips.trip_counter==traveler_trips.num_trips]['ActivityTime'])\n",
    "# traveler_trips.orig_purpose.replace(['eatingout','work','discretionary','shop','work-based','work-related','escort','maintenance','school','visiting','university'],\n",
    "#                                     ['EatingOut','Work','Discretionary','Shop','WorkBased','WorkBased','Escort','Maintenance','School','Visiting','University'],\n",
    "#                                     inplace=True)\n",
    "# traveler_trips.dest_purpose.replace(['eatingout','work','discretionary','shop','work-based','work-related','escort','maintenance','school','visiting','university'],\n",
    "#                                     ['EatingOut','Work','Discretionary','Shop','WorkBased','WorkBased','Escort','Maintenance','School','Visiting','University'],\n",
    "#                                     inplace=True)\n",
    "# traveler_trips.loc[:,'person_type']=traveler_trips.person_id.apply(lambda x: person_type_dic[x])\n",
    "# value_latearr_penalty_per_min=pd.read_csv('input/LateArrPenalty.dat',sep='\\t',index_col =0)\n",
    "# value_earlyarr_penalty_per_min=pd.read_csv('input/EarlyArrPenalty.dat',sep='\\t',index_col =0)\n",
    "# early_penalty_threshold=pd.read_csv('input/EarlyArrPenaltyThreshold.dat',sep='\\t',index_col=0)\n",
    "# late_penalty_threshold=pd.read_csv('input/LateArrPenaltyThreshold.dat',sep='\\t',index_col=0)\n",
    "\n",
    "# traveler_trips.loc[:,'earlyarr_penalty']=traveler_trips.apply(lambda row: value_earlyarr_penalty_per_min.loc[row.dest_purpose,row.person_type], axis=1)\n",
    "# traveler_trips.loc[:,'latearr_penalty']=traveler_trips.apply(lambda row: value_latearr_penalty_per_min.loc[row.dest_purpose,row.person_type], axis=1)\n",
    "# traveler_trips.loc[:,'early_penalty_threshold']=traveler_trips.apply(lambda row: early_penalty_threshold.loc[row.dest_purpose,row.person_type], axis=1)\n",
    "# traveler_trips.loc[:,'late_penalty_threshold']=traveler_trips.apply(lambda row: late_penalty_threshold.loc[row.dest_purpose,row.person_type], axis=1)\n",
    "# traveler_trips.to_csv('input/traveler_trip_info_improved.csv')\n",
    "traveler_trips=pd.read_csv('input/traveler_trip_info_improved.csv')\n",
    "num_zones,num_nodes,num_links,node_detail,node_id,link_detail,link_id=dy.read_network('input/network.dat')\n",
    "nodexy=dy.read_xy('input/xy.dat')\n",
    "superzone_filepath='Input/SuperZone.dat'\n",
    "linktraveltime_filepath='Input/output_td_linktraveltime.dat'\n",
    "superzone_map=dy.read_superzone_info(superzone_filepath)\n",
    "origin_path='Input/origin.dat'\n",
    "destination_path='Input/destination.dat'\n",
    "origins,destinations,origin_links=dy.read_origin_destion(origin_path,destination_path)\n",
    "origin_links['length']=origin_links.apply(lambda row: \n",
    "                                          link_detail[int(link_id[node_id[row.u_node],node_id[row.d_node]])][0,4],axis=1)\n",
    "VPNRSkim_folder_filepath='Input/vehicularPNRSkim'\n",
    "Vehicular_Skim,Vehicular_Skim_Dict=dy.read_vehicle_skim(VPNRSkim_folder_filepath)\n",
    "transit_skim_folderpath='Input/'\n",
    "TransitMazTazFlag,drivingweight,walkingweight,TransitSkimTimeIntervalLength,MaxNumTransitSkimTimeInterval,WalkSpeed,transit_zone_candidates,Transit_AB_Cost_Skim,Transit_AB_Time_Skim,three_link_walk=dy.read_transitskim(transit_skim_folderpath)\n",
    "Transit_AB_Cost_Skim_Dict=dy.convert_skim_dataframe_to_dict(Transit_AB_Cost_Skim,TransitSkimTimeIntervalLength)\n",
    "Transit_AB_Time_Skim_Dict=dy.convert_skim_dataframe_to_dict(Transit_AB_Time_Skim,TransitSkimTimeIntervalLength)\n",
    "transit_zone_dict={}\n",
    "for link_zone in three_link_walk.three_link_zone.unique():\n",
    "    transit_zone_dict[link_zone]=list(three_link_walk[three_link_walk.three_link_zone==link_zone]['transit_zone'].astype(int))\n",
    "\n",
    "    three_link_walk_dict={}\n",
    "for index,group in three_link_walk.groupby(['three_link_zone']):\n",
    "    three_link_walk_dict[index]={}\n",
    "    for inx,row in group.iterrows():\n",
    "        three_link_walk_dict[index][row.transit_zone]=row.distance\n",
    "#origins,destinations=dy.read_origin_destion('input/origin.dat','input/destination.dat')\n",
    "intrasuperzone_vehicle_filepath='Input/intrasuperzone_vehicle.dat'\n",
    "intrasuperzone_path_filepath='Input/intrasuperzone_path.dat'\n",
    "intrasuperzone_info,intrasuperzone_path_dic=dtd.read_intrasuperzone_files(intrasuperzone_vehicle_filepath,intrasuperzone_path_filepath)"
   ]
  },
  {
   "cell_type": "code",
   "execution_count": null,
   "metadata": {
    "collapsed": true,
    "scrolled": true
   },
   "outputs": [],
   "source": [
    "# Test the schedule adjustment solve with exact method\n",
    "reward_mode=2\n",
    "num_hh_member,hh_num_trips,C,TT,expected_arrival_time,expected_leave_time,early_penalty,late_penalty,early_penalty_threshold,late_penalty_threshold,visit_candidate_zone=prd.extract_hh_information(sorted_trips,Vehicular_Skim,Transit_AB_Cost_Skim,superzone_map,drivingcost_per_mile,num_time_interval)\n",
    "R=prd.estimate_trip_reward(hh_num_trips,sorted_trips,Vehicular_Skim,reward_mode,superzone_map,drivingcost_per_mile)\n",
    "num_cav=1\n",
    "run_mode=2\n",
    "single_model_runtime=60*30\n",
    "m1,x,y,T,obj1,obj2,obj3=sod.dial_n_ride_model_schedule_adjustment(num_hh_member,hh_num_trips,C,TT,TL,TU,sorted_trips,\n",
    "                    expected_arrival_time,early_penalty,late_penalty,\n",
    "                    early_penalty_threshold,late_penalty_threshold,R,Vehicular_Skim,\n",
    "                    share_ride_factor,output_flag,run_mode,reward_mode,\n",
    "                    num_cav,num_time_interval,cav_use_mode,time_window_flag,single_model_runtime)"
   ]
  },
  {
   "cell_type": "code",
   "execution_count": null,
   "metadata": {
    "scrolled": true
   },
   "outputs": [],
   "source": [
    "output_flag=1\n",
    "target_hh_id=2287301\n",
    "# target_hh_id=2744264\n",
    "min_length=15\n",
    "max_length=20\n",
    "single_model_runtime=60*0.5\n",
    "drivingcost_per_mile=1\n",
    "reward_mode=2\n",
    "run_mode=0\n",
    "darp_solutions=[]\n",
    "cav_use_mode=1\n",
    "num_time_interval=1\n",
    "TL=[i*1440/num_time_interval for i in range(num_time_interval)]\n",
    "TU=[(i+1)*1440/num_time_interval for i in range(num_time_interval)]\n",
    "target_hh=traveler_trips[traveler_trips['hh_id']==target_hh_id].drop_duplicates(subset=['orig_maz','dest_maz','orig_purpose','dest_purpose','starttime','joint_trip_flag'])\n",
    "#Sort all trips based on start time. This step could reduce the solving time and make it easier to track\n",
    "sorted_trips=target_hh.sort_values(\"starttime\")\n",
    "#hh_index give an index to all trips within the household for tracking purpose\n",
    "hh_num_trips=sorted_trips.shape[0]\n",
    "sorted_trips[\"hh_index\"]=(range(hh_num_trips))\n",
    "# sorted_trips=sorted_trips.loc[sorted_trips.tripmode<=6]\n",
    "\n",
    "num_cav=2\n",
    "share_ride_factor=1.5\n",
    "time_window_flag=0\n",
    "#         time_window_flag=1\n",
    "# num_cav=1\n",
    "# share_ride_factor=1.5\n",
    "# time_window_flag=0\n",
    "print('**************')\n",
    "print('Num_CAV',num_cav,share_ride_factor,time_window_flag)\n",
    "print('**************')\n",
    "darp_solutions.extend([sod.solve_with_schedule_partition(sorted_trips,Vehicular_Skim,Transit_AB_Cost_Skim,superzone_map,min_length,max_length,\n",
    "                            reward_mode,drivingcost_per_mile,share_ride_factor,output_flag,run_mode,num_cav,\n",
    "                          cav_use_mode,time_window_flag,single_model_runtime,num_time_interval,TL,TU)])"
   ]
  },
  {
   "cell_type": "code",
   "execution_count": null,
   "metadata": {},
   "outputs": [],
   "source": [
    "sod.move_neighborhood(x_sol,T_sol,initial_route_info,hh_num_trips,\n",
    "                      num_cav,shake_size,Vehicular_Skim_Dict)"
   ]
  },
  {
   "cell_type": "code",
   "execution_count": null,
   "metadata": {
    "collapsed": true
   },
   "outputs": [],
   "source": [
    "num_hh_member,hh_num_trips,C,TT,expected_arrival_time,expected_leave_time,early_penalty,late_penalty,early_penalty_threshold,late_penalty_threshold,visit_candidate_zone\\\n",
    "    =prd.extract_hh_information(sorted_trips,Vehicular_Skim,Transit_AB_Cost_Skim,superzone_map,drivingcost_per_mile,num_time_interval)"
   ]
  },
  {
   "cell_type": "code",
   "execution_count": null,
   "metadata": {},
   "outputs": [],
   "source": [
    "print(datetime.datetime.now())\n",
    "m3,T,S=sod.optimal_start_time(sorted_trips,x_sol[:,:,0],T_sol,hh_num_trips,expected_arrival_time,Vehicular_Skim_Dict,visit_candidate_zone,\n",
    "    early_penalty,late_penalty,early_penalty_threshold,late_penalty_threshold,superzone_map)\n",
    "print(datetime.datetime.now())"
   ]
  },
  {
   "cell_type": "markdown",
   "metadata": {},
   "source": [
    "# Solve for all households car trips only"
   ]
  },
  {
   "cell_type": "markdown",
   "metadata": {},
   "source": [
    "##### Compare the exact method and schedule method for one household"
   ]
  },
  {
   "cell_type": "code",
   "execution_count": null,
   "metadata": {
    "scrolled": true
   },
   "outputs": [
    {
     "name": "stdout",
     "output_type": "stream",
     "text": [
      "2018-07-15 00:53:46.415954\n",
      "2018-07-15 00:53:46.706974\n",
      "Parameter OutputFlag unchanged\n",
      "   Value: 1  Min: 0  Max: 1  Default: 1\n",
      "Changed value of parameter TIME_LIMIT to 6.0\n",
      "   Prev: 1e+100  Min: 0.0  Max: 1e+100  Default: 1e+100\n",
      "***********************\n",
      "***********************\n",
      "Optimize a model with 7454 rows, 5256 columns and 42656 nonzeros\n",
      "Variable types: 72 continuous, 5184 integer (5184 binary)\n",
      "Coefficient statistics:\n",
      "  Matrix range     [1e-02, 2e+03]\n",
      "  Objective range  [1e-02, 2e+02]\n",
      "  Bounds range     [1e+00, 1e+00]\n",
      "  RHS range        [1e+00, 3e+05]\n",
      "\n",
      "Loaded MIP start with objective 1340.78\n",
      "\n",
      "Presolve removed 3312 rows and 1949 columns\n",
      "Presolve time: 1.42s\n",
      "Presolved: 4142 rows, 3307 columns, 27132 nonzeros\n",
      "Variable types: 72 continuous, 3235 integer (3235 binary)\n",
      "\n",
      "Root relaxation: objective 2.856845e+03, 1254 iterations, 0.14 seconds\n",
      "\n",
      "    Nodes    |    Current Node    |     Objective Bounds      |     Work\n",
      " Expl Unexpl |  Obj  Depth IntInf | Incumbent    BestBd   Gap | It/Node Time\n",
      "\n",
      "     0     0 2856.84518    0   89 1340.78178 2856.84518   113%     -    1s\n",
      "H    0     0                    1700.7517800 2856.84518  68.0%     -    2s\n",
      "     0     0 2856.84338    0  126 1700.75178 2856.84338  68.0%     -    2s\n",
      "     0     0 2856.80250    0  149 1700.75178 2856.80250  68.0%     -    2s\n",
      "     0     0 2856.53633    0  152 1700.75178 2856.53633  68.0%     -    2s\n",
      "     0     0 2856.46548    0  134 1700.75178 2856.46548  68.0%     -    2s\n",
      "     0     0 2856.45289    0  162 1700.75178 2856.45289  68.0%     -    2s\n",
      "     0     0 2856.31889    0  173 1700.75178 2856.31889  67.9%     -    3s\n",
      "     0     0 2856.11951    0  174 1700.75178 2856.11951  67.9%     -    3s\n",
      "     0     0 2856.11951    0  173 1700.75178 2856.11951  67.9%     -    3s\n",
      "     0     0 2855.25170    0  190 1700.75178 2855.25170  67.9%     -    4s\n",
      "H    0     0                    1831.1712800 2855.25170  55.9%     -    4s\n",
      "     0     0 2855.25170    0  188 1831.17128 2855.25170  55.9%     -    4s\n",
      "     0     0 2855.19141    0  182 1831.17128 2855.19141  55.9%     -    4s\n",
      "     0     0 2855.19141    0  185 1831.17128 2855.19141  55.9%     -    4s\n",
      "     0     0 2855.17522    0  149 1831.17128 2855.17522  55.9%     -    4s\n",
      "     0     0 2854.96149    0  178 1831.17128 2854.96149  55.9%     -    5s\n",
      "     0     0 2854.96149    0  174 1831.17128 2854.96149  55.9%     -    5s\n",
      "     0     0 2854.52404    0  202 1831.17128 2854.52404  55.9%     -    5s\n",
      "     0     0 2854.52404    0  208 1831.17128 2854.52404  55.9%     -    5s\n",
      "     0     0 2854.29584    0  219 1831.17128 2854.29584  55.9%     -    5s\n",
      "\n",
      "Cutting planes:\n",
      "  Learned: 4\n",
      "  Gomory: 9\n",
      "  MIR: 75\n",
      "  Zero half: 17\n",
      "\n",
      "Explored 1 nodes (6807 simplex iterations) in 6.05 seconds\n",
      "Thread count was 8 (of 8 available processors)\n",
      "\n",
      "Solution count 3: 1831.17 1700.75 1340.78 \n",
      "\n",
      "Time limit reached\n",
      "Best objective 1.831171280000e+03, best bound 2.854295844245e+03, gap 55.8727%\n",
      "################################\n",
      "The total reward is 2100.0 \n",
      "The delay cost is  3.738000000000114 \n",
      "The total travel cost is  145.09071999999998\n",
      "0.08900000000000141\n",
      "Parameter OutputFlag unchanged\n",
      "   Value: 1  Min: 0  Max: 1  Default: 1\n",
      "Changed value of parameter TIME_LIMIT to 6.0\n",
      "   Prev: 1e+100  Min: 0.0  Max: 1e+100  Default: 1e+100\n",
      "***********************\n",
      "***********************\n",
      "Optimize a model with 9316 rows, 6480 columns and 56116 nonzeros\n",
      "Variable types: 80 continuous, 6400 integer (6400 binary)\n",
      "Coefficient statistics:\n",
      "  Matrix range     [1e-02, 2e+03]\n",
      "  Objective range  [1e-02, 2e+02]\n",
      "  Bounds range     [1e+00, 1e+00]\n",
      "  RHS range        [5e-01, 3e+05]\n",
      "\n",
      "Loaded MIP start with objective 1455.77\n",
      "\n",
      "Presolve removed 4226 rows and 2392 columns\n",
      "Presolve time: 0.14s\n",
      "Presolved: 5090 rows, 4088 columns, 35740 nonzeros\n",
      "Variable types: 80 continuous, 4008 integer (4008 binary)\n",
      "\n",
      "Root relaxation: objective 3.148967e+03, 1773 iterations, 0.28 seconds\n",
      "\n",
      "    Nodes    |    Current Node    |     Objective Bounds      |     Work\n",
      " Expl Unexpl |  Obj  Depth IntInf | Incumbent    BestBd   Gap | It/Node Time\n",
      "\n",
      "     0     0 3148.96677    0  175 1455.77105 3148.96677   116%     -    0s\n",
      "H    0     0                    1815.7410500 3148.96677  73.4%     -    1s\n",
      "H    0     0                    2097.8344800 3148.96677  50.1%     -    1s\n",
      "     0     0 3148.96556    0  176 2097.83448 3148.96556  50.1%     -    2s\n",
      "     0     0 3148.93773    0  159 2097.83448 3148.93773  50.1%     -    2s\n",
      "     0     0 3148.90853    0  201 2097.83448 3148.90853  50.1%     -    2s\n",
      "     0     0 3148.90587    0  198 2097.83448 3148.90587  50.1%     -    2s\n",
      "     0     0 3148.73664    0  212 2097.83448 3148.73664  50.1%     -    2s\n",
      "     0     0 3148.67786    0  212 2097.83448 3148.67786  50.1%     -    2s\n",
      "     0     0 3148.67277    0  211 2097.83448 3148.67277  50.1%     -    2s\n",
      "     0     0 3148.65131    0  213 2097.83448 3148.65131  50.1%     -    3s\n",
      "     0     0 3148.65131    0  213 2097.83448 3148.65131  50.1%     -    3s\n",
      "H    0     0                    2240.5168200 3148.65131  40.5%     -    3s\n",
      "     0     0 3148.57956    0  221 2240.51682 3148.57956  40.5%     -    3s\n",
      "     0     0 3148.56838    0  202 2240.51682 3148.56838  40.5%     -    3s\n",
      "     0     0 3148.56653    0  195 2240.51682 3148.56653  40.5%     -    3s\n",
      "     0     0 3148.56653    0  194 2240.51682 3148.56653  40.5%     -    3s\n",
      "     0     0 3148.46228    0  193 2240.51682 3148.46228  40.5%     -    3s\n",
      "     0     0 3148.46228    0  191 2240.51682 3148.46228  40.5%     -    3s\n",
      "     0     0 3148.40244    0  251 2240.51682 3148.40244  40.5%     -    4s\n",
      "     0     0 3148.39851    0  253 2240.51682 3148.39851  40.5%     -    4s\n",
      "     0     0 3148.39513    0  249 2240.51682 3148.39513  40.5%     -    4s\n",
      "     0     0 3148.39405    0  251 2240.51682 3148.39405  40.5%     -    4s\n",
      "     0     0 3148.29591    0  259 2240.51682 3148.29591  40.5%     -    4s\n",
      "     0     0 3148.29591    0  263 2240.51682 3148.29591  40.5%     -    4s\n",
      "     0     0 3148.22583    0  131 2240.51682 3148.22583  40.5%     -    4s\n",
      "     0     0 3148.12188    0  258 2240.51682 3148.12188  40.5%     -    5s\n",
      "     0     0 3148.10383    0  257 2240.51682 3148.10383  40.5%     -    5s\n",
      "     0     0 3148.09116    0  263 2240.51682 3148.09116  40.5%     -    5s\n",
      "     0     0 3148.09009    0  259 2240.51682 3148.09009  40.5%     -    5s\n",
      "     0     0 3148.08842    0  254 2240.51682 3148.08842  40.5%     -    5s\n",
      "     0     0 3148.08842    0  257 2240.51682 3148.08842  40.5%     -    5s\n",
      "\n",
      "Cutting planes:\n",
      "  Learned: 2\n",
      "  Gomory: 28\n",
      "  MIR: 78\n",
      "  Zero half: 22\n",
      "\n",
      "Explored 1 nodes (8312 simplex iterations) in 6.03 seconds\n",
      "Thread count was 8 (of 8 available processors)\n",
      "\n",
      "Solution count 4: 2240.52 2097.83 1815.74 1455.77 \n",
      "\n",
      "Time limit reached\n",
      "Best objective 2.240516820000e+03, best bound 3.148088418733e+03, gap 40.5072%\n",
      "################################\n",
      "The total reward is 2550.0 \n",
      "The delay cost is  0.7522000000000068 \n",
      "The total travel cost is  188.73098\n",
      "0.0\n",
      "Parameter OutputFlag unchanged\n",
      "   Value: 1  Min: 0  Max: 1  Default: 1\n",
      "Changed value of parameter TIME_LIMIT to 6.0\n",
      "   Prev: 1e+100  Min: 0.0  Max: 1e+100  Default: 1e+100\n",
      "***********************\n",
      "***********************\n",
      "Optimize a model with 7964 rows, 5852 columns and 48468 nonzeros\n",
      "Variable types: 76 continuous, 5776 integer (5776 binary)\n",
      "Coefficient statistics:\n",
      "  Matrix range     [1e-02, 2e+03]\n",
      "  Objective range  [1e-02, 2e+02]\n",
      "  Bounds range     [1e+00, 1e+00]\n",
      "  RHS range        [7e-01, 3e+05]\n",
      "\n",
      "Loaded MIP start with objective 1225.8\n",
      "\n",
      "Presolve removed 3006 rows and 1696 columns\n",
      "Presolve time: 0.11s\n",
      "Presolved: 4958 rows, 4156 columns, 34692 nonzeros\n",
      "Variable types: 76 continuous, 4080 integer (4080 binary)\n",
      "\n",
      "Root relaxation: objective 3.033172e+03, 1584 iterations, 0.24 seconds\n",
      "\n",
      "    Nodes    |    Current Node    |     Objective Bounds      |     Work\n",
      " Expl Unexpl |  Obj  Depth IntInf | Incumbent    BestBd   Gap | It/Node Time\n",
      "\n",
      "     0     0 3033.17173    0  108 1225.79780 3033.17173   147%     -    0s\n",
      "H    0     0                    1585.7678000 3033.17173  91.3%     -    2s\n",
      "     0     0 3033.17173    0  196 1585.76780 3033.17173  91.3%     -    2s\n",
      "     0     0 3033.17173    0  205 1585.76780 3033.17173  91.3%     -    2s\n",
      "     0     0 3033.17173    0  129 1585.76780 3033.17173  91.3%     -    3s\n",
      "     0     0 3033.17173    0  193 1585.76780 3033.17173  91.3%     -    3s\n"
     ]
    },
    {
     "name": "stdout",
     "output_type": "stream",
     "text": [
      "     0     0 3033.17173    0  153 1585.76780 3033.17173  91.3%     -    4s\n"
     ]
    }
   ],
   "source": [
    "output_flag=1\n",
    "target_hh_id=364652\n",
    "min_length=15\n",
    "max_length=20\n",
    "single_model_runtime=60*0.1\n",
    "drivingcost_per_mile=1\n",
    "reward_mode=2\n",
    "run_mode=0\n",
    "darp_solutions=[]\n",
    "cav_use_mode=1\n",
    "num_time_interval=1\n",
    "TL=[i*1440/num_time_interval for i in range(num_time_interval)]\n",
    "TU=[(i+1)*1440/num_time_interval for i in range(num_time_interval)]\n",
    "num_cav=5\n",
    "share_ride_factor=1.5\n",
    "time_window_flag=0\n",
    "print(datetime.datetime.now())\n",
    "# route_info1=sod.find_av_schedule_exact_method(target_hh_id,traveler_trips.loc[traveler_trips.tripmode<=6],output_flag,min_length,max_length,single_model_runtime,drivingcost_per_mile,\n",
    "#                          reward_mode,run_mode,cav_use_mode,num_time_interval,num_cav,share_ride_factor\n",
    "#                          ,time_window_flag,Vehicular_Skim_Dict,Transit_AB_Cost_Skim,superzone_map,TL,TU)\n",
    "# print(datetime.datetime.now())\n",
    "# target_hh=traveler_trips[(traveler_trips['hh_id']==target_hh_id) &(traveler_trips.tripmode<=6)]\\\n",
    "#         .drop_duplicates(subset=['orig_maz','dest_maz','orig_purpose','dest_purpose',\n",
    "#                                  'starttime','joint_trip_flag'])\n",
    "# #Sort all trips based on start time. This step could reduce the solving time and make it easier to track\n",
    "# sorted_trips=target_hh.sort_values(\"starttime\")\n",
    "\n",
    "target_trips=traveler_trips.loc[(traveler_trips.tripmode<=6) &(traveler_trips.driver_passenger_flag>0)]\n",
    "target_trips=target_trips[(target_trips.orig_taz!=target_trips.dest_taz) | (target_trips.trip_counter==1)]\n",
    "\n",
    "community_hh_list=[972044,972024,2212041,2212030,937968,2285653,1309779,1738127,2034377,2066988]\n",
    "community_trips=pd.DataFrame()\n",
    "for hh_id in community_hh_list:\n",
    "#     print(len(target_trips[target_trips.hh_id==hh_id]))\n",
    "    community_trips=community_trips.append(target_trips[target_trips.hh_id==hh_id])\n",
    "sorted_trips=community_trips.sort_values('starttime')\n",
    "hh_num_trips=sorted_trips.shape[0]\n",
    "\n",
    "sorted_trips[\"hh_index\"]=(range(hh_num_trips))\n",
    "print(datetime.datetime.now())\n",
    "darp_solution1=sod.solve_with_schedule_partition(sorted_trips,Vehicular_Skim_Dict,Transit_AB_Cost_Skim_Dict,Transit_AB_Time_Skim_Dict,three_link_walk_dict,\n",
    "                                    superzone_map,min_length,max_length,reward_mode,drivingcost_per_mile,share_ride_factor,output_flag,run_mode,num_cav,\n",
    "                                    cav_use_mode,time_window_flag,single_model_runtime,num_time_interval,TL,TU,transit_zone_dict,transit_zone_candidates,\n",
    "                                    TransitMazTazFlag,TransitSkimTimeIntervalLength)\n",
    "print(datetime.datetime.now())"
   ]
  },
  {
   "cell_type": "code",
   "execution_count": null,
   "metadata": {
    "collapsed": true
   },
   "outputs": [],
   "source": [
    "target_trips=traveler_trips.loc[(traveler_trips.tripmode<=6) &(traveler_trips.driver_passenger_flag>0)]\n",
    "target_trips=target_trips[(target_trips.orig_taz!=target_trips.dest_taz) | (target_trips.trip_counter==1)]"
   ]
  },
  {
   "cell_type": "code",
   "execution_count": null,
   "metadata": {
    "scrolled": true
   },
   "outputs": [],
   "source": [
    "output_flag=0\n",
    "# target_hh_id=2744264\n",
    "min_length=15\n",
    "max_length=20\n",
    "single_model_runtime=60*3\n",
    "drivingcost_per_mile=1\n",
    "reward_mode=2\n",
    "run_mode=0\n",
    "darp_solutions=[]\n",
    "cav_use_mode=0\n",
    "num_time_interval=1\n",
    "TL=[i*1440/num_time_interval for i in range(num_time_interval)]\n",
    "TU=[(i+1)*1440/num_time_interval for i in range(num_time_interval)]\n",
    "num_cav=1\n",
    "share_ride_factor=1.5\n",
    "time_window_flag=0\n",
    "target_trips=traveler_trips.loc[(traveler_trips.tripmode<=6) &(traveler_trips.driver_passenger_flag>0)]\n",
    "target_trips=target_trips[(target_trips.orig_taz!=target_trips.dest_taz) | (target_trips.trip_counter==1)]\n",
    "\n",
    "route_info_allcartrips15,darp_solutions_allcartrips_temp15=\\\n",
    "sod.get_route_info_allhh(target_trips,\n",
    "                         output_flag,min_length,max_length,single_model_runtime,drivingcost_per_mile,\n",
    "                         reward_mode,run_mode,cav_use_mode,num_time_interval,num_cav,share_ride_factor\n",
    "                         ,time_window_flag,Vehicular_Skim_Dict,Transit_AB_Cost_Skim,superzone_map,TL,TU,transit_zone_dict)"
   ]
  },
  {
   "cell_type": "code",
   "execution_count": null,
   "metadata": {},
   "outputs": [],
   "source": [
    "import pickle\n",
    "run_name='allhhcartrip1.5/'\n",
    "output_filepath='Output/'+run_name\n",
    "if not os.path.exists(output_filepath):\n",
    "    os.makedirs(output_filepath)\n",
    "route_info_allcartrips15.to_csv(output_filepath+'route_info.csv')\n",
    "pod.save_obj(darp_solutions_allcartrips_temp15,'darp_solutions',output_filepath)"
   ]
  },
  {
   "cell_type": "code",
   "execution_count": null,
   "metadata": {
    "collapsed": true
   },
   "outputs": [],
   "source": [
    "darp_solutions_allcartrips_temp15"
   ]
  },
  {
   "cell_type": "code",
   "execution_count": null,
   "metadata": {
    "collapsed": true
   },
   "outputs": [],
   "source": [
    "\n",
    "if not os.path.exists(route_info_path):\n",
    "    os.makedirs(route_info_path)\n",
    "route_info_allcartrips15.to_csv(route_info_path+'route_info.csv')\n",
    "\n",
    "vehicle_filepath=output_filepath+'vehicle.dat'\n",
    "path_filepath=output_filepath+'path.dat'\n",
    "intrasuperzone_vehicle_filepath='Input/intrasuperzone_vehicle.dat'\n",
    "intrasuperzone_path_filepath='Input/intrasuperzone_path.dat'\n",
    "intrasuperzone_info,intrasuperzone_path_dic=dtd.read_intrasuperzone_files(intrasuperzone_vehicle_filepath,intrasuperzone_path_filepath)\n",
    "external_vehicle_filepath='Input/external_vehicle.dat'\n",
    "average_value_of_time=round(traveler_trips.value_of_time.mean(),4)\n",
    "dtd.route_to_vehiclepathdat(route_info_allcartrips,origin_links,vehicle_filepath,path_filepath,superzone_map,\n",
    "                            intrasuperzone_path_dic,external_vehicle_filepath,average_value_of_time)"
   ]
  },
  {
   "cell_type": "code",
   "execution_count": null,
   "metadata": {
    "collapsed": true
   },
   "outputs": [],
   "source": [
    "allcar_target_trips=traveler_trips.loc[(traveler_trips.tripmode<=6) &(traveler_trips.driver_passenger_flag>0)]\n",
    "allcar_target_trips=allcar_target_trips[(allcar_target_trips.orig_taz!=allcar_target_trips.dest_taz) \n",
    "                                        | (allcar_target_trips.trip_counter==1)]\n",
    "allcar_target_trips.drop_duplicates(subset=['orig_maz','dest_maz','orig_purpose','dest_purpose',\n",
    "                                 'starttime','joint_trip_flag','hh_id'],inplace=True)"
   ]
  },
  {
   "cell_type": "code",
   "execution_count": null,
   "metadata": {},
   "outputs": [],
   "source": [
    "target_solution"
   ]
  },
  {
   "cell_type": "code",
   "execution_count": null,
   "metadata": {},
   "outputs": [],
   "source": [
    "i=0\n",
    "target_hh_id=241508\n",
    "for solution in darp_solutions_allcartrips_temp15:\n",
    "#     print(i)\n",
    "    if not solution['route_info'].hh_id.empty:\n",
    "#     print(solution['route_info'].hh_id.iloc[0])\n",
    "        temp=solution['route_info'].hh_id.iloc[0]\n",
    "        if (temp)==(target_hh_id):\n",
    "            target_solution=solution\n",
    "#     i=i+1\n",
    "\n",
    "pod.plot_route_info_schedule(target_solution['route_info'],\n",
    "                             allcar_target_trips[allcar_target_trips.hh_id==target_hh_id],num_cav)"
   ]
  },
  {
   "cell_type": "code",
   "execution_count": null,
   "metadata": {},
   "outputs": [],
   "source": [
    "pod.analysis_result(target_solution,allcar_target_trips[allcar_target_trips.hh_id==target_hh_id],Vehicular_Skim_Dict,superzone_map)"
   ]
  },
  {
   "cell_type": "code",
   "execution_count": null,
   "metadata": {},
   "outputs": [],
   "source": [
    "output_flag=0\n",
    "# target_hh_id=2744264\n",
    "min_length=15\n",
    "max_length=20\n",
    "single_model_runtime=60*3\n",
    "drivingcost_per_mile=1\n",
    "reward_mode=1\n",
    "run_mode=0\n",
    "darp_solutions=[]\n",
    "cav_use_mode=0\n",
    "num_time_interval=1\n",
    "TL=[i*1440/num_time_interval for i in range(num_time_interval)]\n",
    "TU=[(i+1)*1440/num_time_interval for i in range(num_time_interval)]\n",
    "num_cav=1\n",
    "share_ride_factor=1.5\n",
    "time_window_flag=0\n",
    "target_trips=traveler_trips.loc[(traveler_trips.tripmode<=6) &(traveler_trips.driver_passenger_flag>0)]\n",
    "target_trips=target_trips[(target_trips.orig_taz!=target_trips.dest_taz) | (target_trips.trip_counter==1)]\n",
    "target_trips=target_trips.append(traveler_trips[traveler_trips.tripmode>6])\n",
    "value_of_time_discount_factor=0.9\n",
    "target_trips['value_of_time']=target_trips['value_of_time']*value_of_time_discount_factor\n",
    "\n",
    "route_info_modechioce09,darp_solutions_modechoice09=\\\n",
    "sod.get_route_info_allhh(target_trips,\n",
    "                         output_flag,min_length,max_length,single_model_runtime,drivingcost_per_mile,\n",
    "                         reward_mode,run_mode,cav_use_mode,num_time_interval,num_cav,share_ride_factor\n",
    "                         ,time_window_flag,Vehicular_Skim_Dict,\n",
    "                         Transit_AB_Cost_Skim_Dict,Transit_AB_Time_Skim_Dict,three_link_walk_dict,\n",
    "                         superzone_map,TL,TU,\n",
    "                         transit_zone_dict,transit_zone_candidates,TransitMazTazFlag,\n",
    "                         TransitSkimTimeIntervalLength )"
   ]
  },
  {
   "cell_type": "code",
   "execution_count": null,
   "metadata": {
    "collapsed": true
   },
   "outputs": [],
   "source": []
  },
  {
   "cell_type": "code",
   "execution_count": null,
   "metadata": {},
   "outputs": [],
   "source": [
    "run_name='modechoice09/'\n",
    "output_filepath='Output/'+run_name\n",
    "if not os.path.exists(output_filepath):\n",
    "    os.makedirs(output_filepath)\n",
    "route_info_modechioce09.to_csv(output_filepath+'route_info.csv')\n",
    "pod.save_obj(darp_solutions_modechoice09,'darp_solutions',output_filepath)\n",
    "vehicle_filepath=output_filepath+'vehicle.dat'\n",
    "path_filepath=output_filepath+'path.dat'\n",
    "\n",
    "z=route_info_modechioce09\n",
    "external_vehicle_filepath='Input/external_vehicle50.dat'\n",
    "average_value_of_time=round(traveler_trips.value_of_time.mean(),4)\n",
    "output_filepath=output_filepath+'external50/'\n",
    "if not os.path.exists(output_filepath):\n",
    "    os.makedirs(output_filepath)\n",
    "z=dtd.preprocess_routeinfo_for_vehicledat(z)\n",
    "dtd.route_to_vehiclepathdat(z,origin_links,output_filepath,vehicle_filepath,path_filepath,superzone_map,\n",
    "                            intrasuperzone_path_dic,external_vehicle_filepath,average_value_of_time)"
   ]
  },
  {
   "cell_type": "code",
   "execution_count": null,
   "metadata": {
    "collapsed": true
   },
   "outputs": [],
   "source": [
    "output_flag=1\n",
    "target_hh_id=2287301\n",
    "# target_hh_id=2744264\n",
    "min_length=15\n",
    "max_length=20\n",
    "run_mode=0\n",
    "single_model_runtime=60*5\n",
    "drivingcost_per_mile=1\n",
    "reward_mode=0\n",
    "darp_solutions1=[]\n",
    "cav_use_mode=1\n",
    "target_hh=traveler_trips[traveler_trips['hh_id']==target_hh_id].drop_duplicates(subset=['orig_maz','dest_maz','orig_purpose','dest_purpose','starttime','joint_trip_flag'])\n",
    "#Sort all trips based on start time. This step could reduce the solving time and make it easier to track\n",
    "sorted_trips=target_hh.sort_values(\"starttime\")\n",
    "#hh_index give an index to all trips within the household for tracking purpose\n",
    "hh_num_trips=sorted_trips.shape[0]\n",
    "sorted_trips[\"hh_index\"]=(range(hh_num_trips))\n",
    "# sorted_trips=sorted_trips.loc[sorted_trips.tripmode<=6]\n",
    "\n",
    "# for num_cav in [2]: #range(1,4):\n",
    "#     for share_ride_factor in [1]: #[1,1.25,1.5]:\n",
    "#         for time_window_flag in [0]:\n",
    "num_cav=2\n",
    "share_ride_factor=1.5\n",
    "time_window_flag=0\n",
    "#         time_window_flag=1\n",
    "# num_cav=1\n",
    "# share_ride_factor=1.5\n",
    "# time_window_flag=0\n",
    "print('**************')\n",
    "print('Num_CAV',num_cav,share_ride_factor,time_window_flag)\n",
    "print('**************')\n",
    "darp_solutions1.extend([sod.solve_with_schedule_partition(sorted_trips,Vehicular_Skim,Transit_AB_Cost_Skim,superzone_map,min_length,max_length,\n",
    "                            reward_mode,drivingcost_per_mile,share_ride_factor,output_flag,run_mode,num_cav,\n",
    "                          cav_use_mode,time_window_flag,single_model_runtime)])"
   ]
  },
  {
   "cell_type": "code",
   "execution_count": null,
   "metadata": {
    "collapsed": true,
    "scrolled": false
   },
   "outputs": [],
   "source": [
    "#!/usr/bin/env python\n",
    "import random\n",
    "import pylab\n",
    "from matplotlib.pyplot import pause\n",
    "\n",
    "pylab.ion()\n",
    "Gnormal=nx.Graph()\n",
    "color_map=[]\n",
    "for i in node_detail:\n",
    "    color_map.append('blue')\n",
    "# nx.draw_networkx_nodes(Gnormal, pos,node_list=[1,2,4],node_color='red',node_size=4)\n",
    "def get_fig():\n",
    "    global color_map\n",
    "    for nodeinf in node_detail:\n",
    "        node=nodeinf[0,0]\n",
    "        Gnormal.add_node(node,pos=(nodexy[node][0],nodexy[node][1]))\n",
    "    for linkinf in link_detail: \n",
    "        Gnormal.add_edge(linkinf[0,0],linkinf[0,1])\n",
    "\n",
    "    pos=nx.get_node_attributes(Gnormal,'pos')\n",
    "    nx.draw(Gnormal,pos,node_size=10,node_color=color_map )\n",
    "num_plots = 50;\n",
    "pylab.show()\n",
    "for i in range(num_plots):\n",
    "    color_map[i]='red'\n",
    "    get_fig()\n",
    "    pylab.draw()\n",
    "    pause(2)"
   ]
  },
  {
   "cell_type": "code",
   "execution_count": null,
   "metadata": {
    "collapsed": true
   },
   "outputs": [],
   "source": [
    "target_hh=traveler_trips[traveler_trips['hh_id']==target_hh_id].drop_duplicates(subset=['orig_maz','dest_maz','orig_purpose','dest_purpose','starttime','joint_trip_flag'])\n",
    "#Sort all trips based on start time. This step could reduce the solving time and make it easier to track\n",
    "sorted_trips=target_hh.sort_values(\"starttime\")\n",
    "#hh_index give an index to all trips within the household for tracking purpose\n",
    "hh_num_trips=sorted_trips.shape[0]"
   ]
  },
  {
   "cell_type": "code",
   "execution_count": null,
   "metadata": {
    "collapsed": true
   },
   "outputs": [],
   "source": [
    "analyzed_results4=pd.DataFrame()\n",
    "for solution in darp_solutions4:\n",
    "        analyzed_results4=analyzed_results4.append(pod.analysis_result(solution,sorted_trips,Vehicular_Skim,superzone_map),ignore_index=True)"
   ]
  },
  {
   "cell_type": "code",
   "execution_count": null,
   "metadata": {
    "collapsed": true
   },
   "outputs": [],
   "source": [
    "analyzed_results"
   ]
  },
  {
   "cell_type": "code",
   "execution_count": null,
   "metadata": {
    "collapsed": true
   },
   "outputs": [],
   "source": [
    "for i in range(1,4):\n",
    "    line_label=str(i)+' CAV'\n",
    "    plt.pyplot.plot(analyzed_results.loc[analyzed_results.num_cav==i,'share_ride_factor'],analyzed_results.loc[analyzed_results.num_cav==i,'total_AV_driving_time'],'-o',label=line_label)\n",
    "plt.pyplot.legend()"
   ]
  },
  {
   "cell_type": "code",
   "execution_count": null,
   "metadata": {
    "collapsed": true
   },
   "outputs": [],
   "source": [
    "sorted_trips.head()"
   ]
  },
  {
   "cell_type": "code",
   "execution_count": null,
   "metadata": {
    "collapsed": true
   },
   "outputs": [],
   "source": [
    "for i in range(1,4):\n",
    "    line_label=str(i)+' CAV'\n",
    "    plt.pyplot.plot(analyzed_results.loc[analyzed_results.num_cav==i,'share_ride_factor'],analyzed_results.loc[analyzed_results.num_cav==i,'total_AV_driving_distance'],'-o',label=line_label)\n",
    "plt.pyplot.legend()"
   ]
  },
  {
   "cell_type": "code",
   "execution_count": null,
   "metadata": {
    "collapsed": true
   },
   "outputs": [],
   "source": [
    "analyzed_results.columns"
   ]
  },
  {
   "cell_type": "code",
   "execution_count": null,
   "metadata": {
    "collapsed": true
   },
   "outputs": [],
   "source": [
    "analyzed_results4"
   ]
  },
  {
   "cell_type": "code",
   "execution_count": null,
   "metadata": {
    "collapsed": true
   },
   "outputs": [],
   "source": [
    "len(darp_solutions4[0]['route_info'])"
   ]
  },
  {
   "cell_type": "code",
   "execution_count": null,
   "metadata": {
    "collapsed": true
   },
   "outputs": [],
   "source": [
    "analyzed_results4.loc[analyzed_results4.share_ride_factor==1].transpose()"
   ]
  },
  {
   "cell_type": "code",
   "execution_count": null,
   "metadata": {
    "collapsed": true
   },
   "outputs": [],
   "source": [
    "zz.hh_vehicle_id.unique()"
   ]
  },
  {
   "cell_type": "code",
   "execution_count": null,
   "metadata": {
    "collapsed": true
   },
   "outputs": [],
   "source": [
    "for i in range(3):\n",
    "    print(len(zz.loc[zz.hh_vehicle_id==i]))"
   ]
  },
  {
   "cell_type": "code",
   "execution_count": null,
   "metadata": {
    "collapsed": true,
    "scrolled": false
   },
   "outputs": [],
   "source": [
    "zz=darp_solutions4[-1]['route_info']\n",
    "# zz=darp_solutions4[5]['route_info']\n",
    "# zz['origin_network_node','dest_network_node']=zz.apply(lambda row: dy.find_orign_destination_node(row['orig_zone'],row['dest_zone'],origins,destinations))\n",
    "for car_id in range(3):\n",
    "    nodes=[]\n",
    "    for index, row in zz.loc[zz.hh_vehicle_id==car_id].iterrows():\n",
    "        nodes.extend(dy.find_orign_destination_node(row['orig_zone'],row['dest_zone'],origins,destinations))\n",
    "    av.zone_node_highlight(nodes,node_detail,link_detail,nodexy,'r')"
   ]
  },
  {
   "cell_type": "code",
   "execution_count": null,
   "metadata": {
    "collapsed": true
   },
   "outputs": [],
   "source": [
    "darp_solutions4[-1]['route_info'].head()"
   ]
  },
  {
   "cell_type": "code",
   "execution_count": null,
   "metadata": {
    "collapsed": true
   },
   "outputs": [],
   "source": [
    "pod.plot_route_info_schedule(darp_solutions4[-1]['route_info'],sorted_trips,3)"
   ]
  },
  {
   "cell_type": "code",
   "execution_count": null,
   "metadata": {
    "collapsed": true
   },
   "outputs": [],
   "source": [
    "analyzed_results4.columns"
   ]
  },
  {
   "cell_type": "code",
   "execution_count": null,
   "metadata": {
    "collapsed": true
   },
   "outputs": [],
   "source": [
    "# for factor in ['num_cav_trips','num_shared_trips','num_unoccupied_trips','total_schedule_penalty','total_travel_cost','num_pickup_trips']:\n",
    "factor='total_schedule_penalty'\n",
    "plt.pyplot.figure()\n",
    "plt.pyplot.xlabel('Ridesharing Tolerance Factor')\n",
    "plt.pyplot.ylabel('Total Late/Early Arrival')\n",
    "for i in range(1,4):\n",
    "    line_label=str(i)+' AV'\n",
    "    plt.pyplot.plot(analyzed_results4.loc[analyzed_results4.num_cav==i,'share_ride_factor'],analyzed_results4.loc[analyzed_results4.num_cav==i,'Total_early_time'].apply(lambda x: abs(x))+analyzed_results4.loc[analyzed_results4.num_cav==i,'total_delayed_time'].apply(lambda x: abs(x)),'-o',label=line_label)\n",
    "plt.pyplot.legend()"
   ]
  },
  {
   "cell_type": "code",
   "execution_count": null,
   "metadata": {
    "collapsed": true
   },
   "outputs": [],
   "source": [
    "# for factor in ['num_cav_trips','num_shared_trips','num_unoccupied_trips','total_schedule_penalty','total_travel_cost','num_pickup_trips']:\n",
    "factor='total_travel_cost'\n",
    "plt.pyplot.figure()\n",
    "plt.pyplot.xlabel('Ridesharing Tolerance Factor ')\n",
    "plt.pyplot.ylabel('Total Generalized Travel Cost')\n",
    "for i in range(1,4):\n",
    "    line_label=str(i)+' AV'\n",
    "    plt.pyplot.plot(analyzed_results4.loc[analyzed_results4.num_cav==i,'share_ride_factor'],analyzed_results4.loc[analyzed_results4.num_cav==i,factor].apply(lambda x: abs(x)),'-o',label=line_label)\n",
    "plt.pyplot.legend()"
   ]
  },
  {
   "cell_type": "code",
   "execution_count": null,
   "metadata": {
    "collapsed": true,
    "scrolled": true
   },
   "outputs": [],
   "source": [
    "len(darp_solutions4[-1]['route_info'])"
   ]
  },
  {
   "cell_type": "code",
   "execution_count": null,
   "metadata": {
    "collapsed": true
   },
   "outputs": [],
   "source": []
  },
  {
   "cell_type": "code",
   "execution_count": null,
   "metadata": {
    "collapsed": true
   },
   "outputs": [],
   "source": [
    "for factor in ['num_cav_trips','num_shared_trips','num_unoccupied_trips','total_schedule_penalty','total_travel_cost','num_pickup_trips']:\n",
    "    plt.pyplot.figure()\n",
    "    plt.pyplot.xlabel('share ride factor')\n",
    "    plt.pyplot.ylabel(factor)\n",
    "    for i in range(1,4):\n",
    "        line_label=str(i)+' Cav'\n",
    "        plt.pyplot.plot(analyzed_results.loc[analyzed_results.num_cav==i,'share_ride_factor'],analyzed_results.loc[analyzed_results.num_cav==i,factor].apply(lambda x: abs(x)),'-o',label=line_label)\n",
    "    plt.pyplot.legend()"
   ]
  },
  {
   "cell_type": "code",
   "execution_count": null,
   "metadata": {
    "collapsed": true
   },
   "outputs": [],
   "source": [
    "for i in darp_solutions:\n",
    "    print(i['num_cav'],i['share_ride_factor'])"
   ]
  },
  {
   "cell_type": "code",
   "execution_count": null,
   "metadata": {
    "collapsed": true
   },
   "outputs": [],
   "source": [
    "\n",
    "route_info.apply(lambda row: prd.estimate_single_car_trip_cost(row.orig_zone,row.dest_zone,row.start_time,row.value_of_time,Vehicular_Skim,2,superzone_map,drivingcost_per_mile),axis=1).sum()/60\n",
    "route_info.apply(lambda row:prd.estimate_single_car_trip_cost(row.orig_zone,row.dest_zone,row.start_time,row.value_of_time,Vehicular_Skim,1,superzone_map,drivingcost_per_mile) ,axis=1).sum()"
   ]
  },
  {
   "cell_type": "code",
   "execution_count": null,
   "metadata": {
    "collapsed": true
   },
   "outputs": [],
   "source": [
    "from Modules import Preprocess_DARP as prd"
   ]
  },
  {
   "cell_type": "code",
   "execution_count": null,
   "metadata": {
    "collapsed": true
   },
   "outputs": [],
   "source": [
    "for j in [2,5,8] :   \n",
    "    z=darp_solutions4[j]['route_info']\n",
    "    for i in range(3):\n",
    "        zz=z.loc[z.hh_vehicle_id==i]\n",
    "        if len(zz)>0:\n",
    "            total_driving_time_temp=zz.apply(lambda row: prd.estimate_single_car_trip_cost(row.orig_zone,row.dest_zone,row.start_time,row.value_of_time,Vehicular_Skim,2,superzone_map,drivingcost_per_mile),axis=1).sum()/60\n",
    "            total_driving_distance_temp=zz.apply(lambda row: prd.estimate_single_car_trip_cost(row.orig_zone,row.dest_zone,row.start_time,row.value_of_time,Vehicular_Skim,1,superzone_map,drivingcost_per_mile),axis=1).sum()\n",
    "            num_pickup_trips=len(zz.loc[zz.orig_node_index<=len(sorted_trips)])\n",
    "            print(i,j,len(zz),num_pickup_trips,total_driving_time_temp,total_driving_distance_temp)"
   ]
  },
  {
   "cell_type": "code",
   "execution_count": null,
   "metadata": {
    "collapsed": true,
    "scrolled": false
   },
   "outputs": [],
   "source": [
    "plt.pyplot.figure(1,figsize=[14.5,10])\n",
    "plt.pyplot.subplot(131)\n",
    "pod.plot_route_info_schedule(darp_solutions4[2]['route_info'],sorted_trips,darp_solutions4[2]['num_cav'])\n",
    "plt.pyplot.subplot(132)\n",
    "pod.plot_route_info_schedule(darp_solutions4[5]['route_info'],sorted_trips,darp_solutions4[5]['num_cav'])\n",
    "plt.pyplot.subplot(133)\n",
    "pod.plot_route_info_schedule(darp_solutions4[8]['route_info'],sorted_trips,darp_solutions4[8]['num_cav'])\n",
    "\n"
   ]
  },
  {
   "cell_type": "code",
   "execution_count": null,
   "metadata": {
    "collapsed": true
   },
   "outputs": [],
   "source": [
    "plt.pyplot.figure(1,figsize=[14.5,10])\n",
    "plt.pyplot.subplot(131)\n",
    "pod.plot_route_info_schedule(darp_solutions[2]['route_info'],sorted_trips,darp_solutions[2]['num_cav'])\n",
    "plt.pyplot.subplot(132)\n",
    "pod.plot_route_info_schedule(darp_solutions[5]['route_info'],sorted_trips,darp_solutions[5]['num_cav'])\n",
    "plt.pyplot.subplot(133)\n",
    "pod.plot_route_info_schedule(darp_solutions[8]['route_info'],sorted_trips,darp_solutions[8]['num_cav'])\n"
   ]
  },
  {
   "cell_type": "code",
   "execution_count": null,
   "metadata": {
    "collapsed": true,
    "scrolled": true
   },
   "outputs": [],
   "source": [
    "Vehicular_Skim.loc[18,15,1,1]"
   ]
  },
  {
   "cell_type": "code",
   "execution_count": null,
   "metadata": {
    "collapsed": true
   },
   "outputs": [],
   "source": [
    "zz1=solution['route_info']"
   ]
  },
  {
   "cell_type": "code",
   "execution_count": null,
   "metadata": {
    "collapsed": true
   },
   "outputs": [],
   "source": [
    "zz1.dest_zone=zz1.dest_zone.apply(lambda x: int(x))"
   ]
  },
  {
   "cell_type": "code",
   "execution_count": null,
   "metadata": {
    "collapsed": true
   },
   "outputs": [],
   "source": [
    "analyzed_results3=pd.DataFrame()\n",
    "for solution in darp_solutions3:\n",
    "    analyzed_results3=analyzed_results3.append(pod.analysis_result(solution,sorted_trips,Vehicular_Skim,superzone_map),ignore_index=True)"
   ]
  },
  {
   "cell_type": "code",
   "execution_count": null,
   "metadata": {
    "collapsed": true
   },
   "outputs": [],
   "source": [
    "analyzed_results3.transpose().to_csv('Output/hh_level_result3.csv')"
   ]
  },
  {
   "cell_type": "code",
   "execution_count": null,
   "metadata": {
    "collapsed": true
   },
   "outputs": [],
   "source": [
    "analyzed_results.transpose().to_csv('hh_level_result.csv')"
   ]
  },
  {
   "cell_type": "code",
   "execution_count": null,
   "metadata": {
    "collapsed": true
   },
   "outputs": [],
   "source": [
    "analyzed_results.transpose()"
   ]
  },
  {
   "cell_type": "markdown",
   "metadata": {},
   "source": [
    "### Basic Statistics"
   ]
  },
  {
   "cell_type": "code",
   "execution_count": null,
   "metadata": {
    "collapsed": true
   },
   "outputs": [],
   "source": [
    "traveler_trips.head()"
   ]
  },
  {
   "cell_type": "code",
   "execution_count": null,
   "metadata": {
    "collapsed": true
   },
   "outputs": [],
   "source": [
    "traveler_trips.columns"
   ]
  },
  {
   "cell_type": "code",
   "execution_count": null,
   "metadata": {
    "collapsed": true
   },
   "outputs": [],
   "source": [
    "#Num of household\n",
    "print('Number of household: \\t',len(traveler_trips.hh_id.unique()))\n",
    "print('Number of traveler: \\t',len(traveler_trips.person_id.unique()))\n",
    "print('Number of trips: \\t',len(traveler_trips))\n",
    "print('Number of indiv trip: \\t',len(traveler_trips[traveler_trips.joint_trip_flag==0]))\n",
    "print('Number of joint trip: \\t',len(traveler_trips[traveler_trips.joint_trip_flag==1]))"
   ]
  },
  {
   "cell_type": "code",
   "execution_count": null,
   "metadata": {
    "collapsed": true
   },
   "outputs": [],
   "source": [
    "traveler_trips['orig_purpose'].value_counts().plot(kind='bar',title='Histogram of Origin Purpose')"
   ]
  },
  {
   "cell_type": "code",
   "execution_count": null,
   "metadata": {
    "collapsed": true
   },
   "outputs": [],
   "source": [
    "traveler_trips.tripmode.hist()"
   ]
  },
  {
   "cell_type": "code",
   "execution_count": null,
   "metadata": {
    "collapsed": true
   },
   "outputs": [],
   "source": [
    "traveler_trips.num_trips.hist()\n",
    "plt.pyplot.title('Histogram of trip per person')"
   ]
  },
  {
   "cell_type": "code",
   "execution_count": null,
   "metadata": {
    "collapsed": true
   },
   "outputs": [],
   "source": [
    "traveler_trips.groupby('hh_id')['num_trips'].count().hist()\n",
    "plt.pyplot.title('Histogram of trip per household')"
   ]
  },
  {
   "cell_type": "markdown",
   "metadata": {},
   "source": [
    "### Sample Household\n",
    "Select household 2287301 for intial analysis"
   ]
  },
  {
   "cell_type": "code",
   "execution_count": null,
   "metadata": {
    "collapsed": true,
    "scrolled": true
   },
   "outputs": [],
   "source": [
    "target_hh_id=2287301\n",
    "people_in_hh=traveler_trips[traveler_trips['hh_id']==target_hh_id]['person_id'].unique()\n",
    "for person in people_in_hh:\n",
    "    #creat trip-chain-origin-destination-list\n",
    "    num_trips=traveler_trips[traveler_trips['person_id']==person]['num_trips'].iloc[0]\n",
    "    print(num_trips)\n",
    "    trip_chain_or=traveler_trips[traveler_trips['person_id']==person][['origin_node','destination_node']]\n",
    "    trip_chain_or['origin_node'].iloc[1:num_trips-1]=trip_chain_or['destination_node'].iloc[0:num_trips-2].tolist()\n",
    "    trip_chain_or['origin_node'].iloc[num_trips-1]=trip_chain_or['destination_node'].iloc[num_trips-2]\n",
    "    #draw the graph\n",
    "    av.trip_chain_highlight(trip_chain_or,node_detail,link_detail,nodexy)\n",
    "#traveler_trips[traveler_trips['hh_id']==2105189]"
   ]
  },
  {
   "cell_type": "markdown",
   "metadata": {},
   "source": [
    "### Solve the optimization for a household \n",
    "\n",
    "The factors need to know about:  \n",
    "1. Decision variable X <sub>ij</sub> and T<sub>j</sub> (departure time from node j)  \n",
    "2. R <sub>i</sub> reward of visiting node i\n",
    "3. S <sub>i</sub> penalty for late/early arrival\n",
    "4. C <sub>ij</sub> travel time between node i and j  \n",
    "5. "
   ]
  },
  {
   "cell_type": "markdown",
   "metadata": {},
   "source": [
    "#### Solve with heuristic"
   ]
  },
  {
   "cell_type": "markdown",
   "metadata": {},
   "source": [
    "## Estimate travel time and cost"
   ]
  },
  {
   "cell_type": "markdown",
   "metadata": {},
   "source": [
    "## Solve the optimization with Gurobi"
   ]
  },
  {
   "cell_type": "code",
   "execution_count": null,
   "metadata": {
    "collapsed": true
   },
   "outputs": [],
   "source": [
    "drivingcost_per_mile=1\n",
    "transit_fare=2\n",
    "transit_asc=2"
   ]
  },
  {
   "cell_type": "markdown",
   "metadata": {},
   "source": [
    "##### Try to solve the problem for a single household"
   ]
  },
  {
   "cell_type": "markdown",
   "metadata": {},
   "source": [
    "#### Solve with exact method"
   ]
  },
  {
   "cell_type": "code",
   "execution_count": null,
   "metadata": {
    "collapsed": true,
    "scrolled": true
   },
   "outputs": [],
   "source": [
    "print('prepare input for dial n ride model at ',datetime.datetime.now())\n",
    "output_flag=1\n",
    "target_hh_id=2287301\n",
    "target_hh=traveler_trips[traveler_trips['hh_id']==target_hh_id].drop_duplicates(subset=['orig_maz','dest_maz','orig_purpose','dest_purpose','starttime','joint_trip_flag'])\n",
    "#Sort all trips based on start time. This step could reduce the solving time and make it easier to track\n",
    "sorted_trips=target_hh.sort_values(\"starttime\")\n",
    "#hh_index give an index to all trips within the household for tracking purpose\n",
    "hh_num_trips=sorted_trips.shape[0]\n",
    "sorted_trips[\"hh_index\"]=(range(hh_num_trips))\n",
    "num_hh_member,hh_num_trips,C,TT,expected_arrival_time,expected_leave_time,early_penalty,late_penalty,early_penalty_threshold,late_penalty_threshold,visit_candidate_zone=extract_hh_information(sorted_trips,Vehicular_Skim,Transit_AB_Cost_Skim,superzone_map)\n",
    "# R=estimate_transit_cost(sorted_trips,TransitMazTazFlag,WalkSpeed,TransitSkimTimeIntervalLength,Transit_AB_Cost_Skim,Transit_AB_Time_Skim,transit_zone_candidates,three_link_walk)\n",
    "R=estimate_trip_reward(hh_num_trips,sorted_trips,Vehicular_Skim)\n",
    "print('start sovling problem at ',datetime.datetime.now())\n",
    "m1,x,T=dial_n_ride_model(num_hh_member,hh_num_trips,C,TT,sorted_trips,expected_arrival_time,early_penalty,late_penalty,early_penalty_threshold,late_penalty_threshold,R,share_ride_factor,output_flag,run_mode=)\n",
    "print('finish solving problem at ',datetime.datetime.now())\n",
    "route_info=extract_route_from_model_solution(x,T,sorted_trips,visit_candidate_zone,hh_num_trips,expected_arrival_time,expected_leave_time)\n",
    "print('extract solution at',datetime.datetime.now())\n",
    "route_info.to_csv('route_info_yingjie.csv')"
   ]
  },
  {
   "cell_type": "code",
   "execution_count": null,
   "metadata": {
    "collapsed": true
   },
   "outputs": [],
   "source": [
    "T_sol=np.ones(2*hh_num_trips+2)\n",
    "for i in range(2*hh_num_trips+2):\n",
    "#     print(int(T[i].x),'\\t',expected_arrival_time[i],'\\t',T[i].x-expected_arrival_time[i])\n",
    "    T_sol[i]=T[i].x\n",
    "schedule_deviation=T_sol-expected_arrival_time\n",
    "analysis_result(all_trips_route_info_partition,sorted_trips,Vehicular_Skim,schedule_deviation)"
   ]
  },
  {
   "cell_type": "markdown",
   "metadata": {},
   "source": [
    "#### Solve with the schedule partition heuristic"
   ]
  },
  {
   "cell_type": "code",
   "execution_count": null,
   "metadata": {
    "collapsed": true
   },
   "outputs": [],
   "source": [
    "def analysis_result(route_info,sorted_trips,Vehicular_Skim,schedule_deviation):\n",
    "    print('Number of CAV Trips',len(route_info))\n",
    "    print('Number of Occupied trips',len(route_info.loc[route_info.person_id>0]))\n",
    "    print('Number of unoccupied trips',len(route_info.loc[route_info.person_id==0]))\n",
    "    print('Number of pickup trips',len(route_info.loc[route_info.orig_node_index<=len(sorted_trips)]))\n",
    "    print('Number of shared trips',len(route_info.loc[(route_info.orig_node_index<=len(sorted_trips)) &(route_info.dest_node_index<=len(sorted_trips))]))\n",
    "    print('Number of convention car trips',len(sorted_trips.loc[sorted_trips.tripmode<=6]))\n",
    "    # Compare the VHT between convention vehicle and CAV\n",
    "    \n",
    "    total_convention_vehicle_driving_time=sorted_trips.loc[sorted_trips.tripmode<=6].apply(lambda row:estimate_single_car_trip_cost(row.orig_taz,row.dest_taz,row.starttime,row.value_of_time,Vehicular_Skim,2),axis=1).sum()\n",
    "    total_AV_driving_time=route_info.apply(lambda row: estimate_single_car_trip_cost(row.orig_zone,row.dest_zone,row.start_time,row.value_of_time,Vehicular_Skim,2),axis=1).sum()\n",
    "    total_AV_unoccupied_driving_time=route_info.loc[route_info.person_id==0].apply(lambda row: estimate_single_car_trip_cost(row.orig_zone,row.dest_zone,row.start_time,row.value_of_time,Vehicular_Skim,2),axis=1).sum()\n",
    "    print('Convention car trips VHT: \\t',total_convention_vehicle_driving_time/60,\n",
    "          '\\nAV driving time: \\t',total_AV_driving_time/60,\n",
    "          '\\nAV unoccupied driving_time: \\t',total_AV_unoccupied_driving_time/60)\n",
    "    # Compare the VMT between convention vehicle and CAV\n",
    "    total_convention_vehicle_driving_distance=sorted_trips.loc[sorted_trips.tripmode<=6].apply(lambda row: estimate_single_car_trip_cost(row.orig_taz,row.dest_taz,row.starttime,row.value_of_time,Vehicular_Skim,1),axis=1).sum()\n",
    "    total_AV_driving_distance=route_info.apply(lambda row:estimate_single_car_trip_cost(row.orig_zone,row.dest_zone,row.start_time,row.value_of_time,Vehicular_Skim,1) ,axis=1).sum()\n",
    "    total_AV_unoccupied_driving_distance=route_info.loc[route_info.person_id==0].apply(lambda row:estimate_single_car_trip_cost(row.orig_zone,row.dest_zone,row.start_time,row.value_of_time,Vehicular_Skim,1),axis=1).sum()\n",
    "    print('Convention VMT: \\t',total_convention_vehicle_driving_distance,\n",
    "          '\\nAV driving distance: \\t',total_AV_driving_distance,\n",
    "          '\\nAV unoccupied driving_distance: \\t',total_AV_unoccupied_driving_distance)\n",
    "    print('Number of delayed trips\\t',sum(1 for i in schedule_deviation if i >1))\n",
    "    print('Number of early trips\\t',sum(1 for i in schedule_deviation if i <-1))\n",
    "    print('Total delayed time\\t',sum(i for i in schedule_deviation if i >0))\n",
    "    print('Total_early_time\\t',sum(i for i in schedule_deviation if i <0))\n",
    "    plt.pyplot.figure(1,figsize=[2.3,10])\n",
    "    plot_route_info_schedule(route_info,sorted_trips)\n",
    "    return"
   ]
  },
  {
   "cell_type": "code",
   "execution_count": null,
   "metadata": {
    "collapsed": true
   },
   "outputs": [],
   "source": [
    "def plot_route_info_schedule(route_info,sorted_trips):\n",
    "#     z=traveler_trips[traveler_trips.hh_id==route_info.hh_id[0]]\n",
    "    sorted_trips.loc[:,'p_id']=sorted_trips.groupby(['person_id']).ngroup()\n",
    "    hh_num_trips=len(sorted_trips)\n",
    "    person_id_and_inhouse_p_id_map=dict(zip(sorted_trips.person_id,sorted_trips.p_id))\n",
    "    person_id_and_inhouse_p_id_map[0]=-1\n",
    "    route_info['p_id']=route_info.person_id.apply(lambda x: person_id_and_inhouse_p_id_map[x])\n",
    "    \n",
    "    plt.pyplot.scatter(route_info.loc[(route_info.p_id!=-1) & (route_info.orig_node_index<1+hh_num_trips),'p_id'],\n",
    "                route_info.loc[(route_info.p_id!=-1) & (route_info.orig_node_index<1+hh_num_trips),'origin_arrival_time'])\n",
    "    plt.pyplot.plot(route_info.loc[(route_info.p_id!=-1) & (route_info.orig_node_index<1+hh_num_trips),'p_id'],\n",
    "                    route_info.loc[(route_info.p_id!=-1) & (route_info.orig_node_index<1+hh_num_trips),'origin_arrival_time'])\n",
    "#     plt.pyplot.scatter(route_info.loc[(route_info.p_id!=-1) & (route_info.orig_node_index<1+hh_num_trips) & (route_info.dest_node_index<1+hh_num_trips),'p_id'],\n",
    "#                     route_info.loc[(route_info.p_id!=-1) & (route_info.orig_node_index<1+hh_num_trips) &(route_info.dest_node_index<1+hh_num_trips),'origin_arrival_time'])\n",
    "    plt.pyplot.xlabel('Traveler Index')\n",
    "    plt.pyplot.ylabel('Time')\n",
    "    plt.pyplot.grid()\n",
    "    plt.pyplot.xticks(np.arange(min(sorted_trips.p_id), max(sorted_trips.p_id)+1, 1))\n",
    "    plt.pyplot.yticks(np.arange(0,1441,30))\n",
    "#     plt.pyplot.title(title)\n",
    "    return "
   ]
  },
  {
   "cell_type": "markdown",
   "metadata": {},
   "source": [
    "#### All trips take CAV"
   ]
  },
  {
   "cell_type": "code",
   "execution_count": null,
   "metadata": {
    "collapsed": true,
    "scrolled": true
   },
   "outputs": [],
   "source": [
    "output_flag=1\n",
    "target_hh_id=2287301\n",
    "# target_hh_id=2744264\n",
    "min_length=15\n",
    "max_length=20\n",
    "run_mode=0\n",
    "reward_mode=0\n",
    "share_ride_factor=2\n",
    "time_window_flag=0\n",
    "single_model_runtime=60*3\n",
    "target_hh=traveler_trips[traveler_trips['hh_id']==target_hh_id].drop_duplicates(subset=['orig_maz','dest_maz','orig_purpose','dest_purpose','starttime','joint_trip_flag'])\n",
    "#Sort all trips based on start time. This step could reduce the solving time and make it easier to track\n",
    "sorted_trips=target_hh.sort_values(\"starttime\")\n",
    "#hh_index give an index to all trips within the household for tracking purpose\n",
    "hh_num_trips=sorted_trips.shape[0]\n",
    "sorted_trips[\"hh_index\"]=(range(hh_num_trips))\n",
    "all_trips_route_info_partition,all_trips_schedule_deviation=sod.solve_with_schedule_partition(sorted_trips,Vehicular_Skim,Transit_AB_Cost_Skim,superzone_map,min_length,max_length)"
   ]
  },
  {
   "cell_type": "code",
   "execution_count": null,
   "metadata": {
    "collapsed": true
   },
   "outputs": [],
   "source": []
  },
  {
   "cell_type": "code",
   "execution_count": null,
   "metadata": {
    "collapsed": true
   },
   "outputs": [],
   "source": [
    "analysis_result(all_trips_route_info_partition,sorted_trips,Vehicular_Skim,all_trips_schedule_deviation)"
   ]
  },
  {
   "cell_type": "markdown",
   "metadata": {},
   "source": [
    "#### Strict time window"
   ]
  },
  {
   "cell_type": "code",
   "execution_count": null,
   "metadata": {
    "collapsed": true
   },
   "outputs": [],
   "source": [
    "output_flag=1\n",
    "target_hh_id=2287301\n",
    "# target_hh_id=2744264\n",
    "min_length=15\n",
    "max_length=20\n",
    "run_mode=0\n",
    "reward_mode=2\n",
    "time_window_flag=1\n",
    "num_poav=2\n",
    "single_model_runtime=60*5\n",
    "target_hh=traveler_trips[traveler_trips['hh_id']==target_hh_id].drop_duplicates(subset=['orig_maz','dest_maz','orig_purpose','dest_purpose','starttime','joint_trip_flag'])\n",
    "#Sort all trips based on start time. This step could reduce the solving time and make it easier to track\n",
    "sorted_trips=target_hh.sort_values(\"starttime\")\n",
    "#hh_index give an index to all trips within the household for tracking purpose\n",
    "hh_num_trips=sorted_trips.shape[0]\n",
    "sorted_trips[\"hh_index\"]=(range(hh_num_trips))\n",
    "all_trips_route_info_stricttw,all_trips_schedule_deviation_stricttw=solve_with_schedule_partition(sorted_trips,Vehicular_Skim,Transit_AB_Cost_Skim,superzone_map,min_length,max_length)"
   ]
  },
  {
   "cell_type": "code",
   "execution_count": null,
   "metadata": {
    "collapsed": true
   },
   "outputs": [],
   "source": [
    "analysis_result(all_trips_route_info_stricttw,sorted_trips,Vehicular_Skim,all_trips_schedule_deviation_stricttw)"
   ]
  },
  {
   "cell_type": "markdown",
   "metadata": {},
   "source": [
    "##### Only car trips take CAV"
   ]
  },
  {
   "cell_type": "code",
   "execution_count": null,
   "metadata": {
    "collapsed": true
   },
   "outputs": [],
   "source": [
    "len(sorted_car_trips)"
   ]
  },
  {
   "cell_type": "code",
   "execution_count": null,
   "metadata": {
    "collapsed": true
   },
   "outputs": [],
   "source": [
    "output_flag=1\n",
    "target_hh_id=2287301\n",
    "# target_hh_id=2744264\n",
    "min_length=15\n",
    "max_length=20\n",
    "run_mode=0\n",
    "reward_mode=0\n",
    "time_window_flag=0\n",
    "single_model_runtime=60*3\n",
    "target_hh=traveler_trips[traveler_trips['hh_id']==target_hh_id].drop_duplicates(subset=['orig_maz','dest_maz','orig_purpose','dest_purpose','starttime','joint_trip_flag'])\n",
    "#Sort all trips based on start time. This step could reduce the solving time and make it easier to track\n",
    "sorted_trips=target_hh.sort_values(\"starttime\")\n",
    "sorted_car_trips=sorted_trips.loc[sorted_trips.tripmode<=6]\n",
    "#hh_index give an index to all trips within the household for tracking purpose\n",
    "hh_num_trips=sorted_car_trips.shape[0]\n",
    "sorted_car_trips[\"hh_index\"]=(range(hh_num_trips))\n",
    "car_trips_route_info_partition,car_trips_schedule_deviation=solve_with_schedule_partition(sorted_car_trips,Vehicular_Skim,Transit_AB_Cost_Skim,superzone_map,min_length,max_length)"
   ]
  },
  {
   "cell_type": "code",
   "execution_count": null,
   "metadata": {
    "collapsed": true
   },
   "outputs": [],
   "source": [
    "analysis_result(car_trips_route_info_partition,sorted_car_trips,Vehicular_Skim,car_trips_schedule_deviation)"
   ]
  },
  {
   "cell_type": "markdown",
   "metadata": {},
   "source": [
    "#### Ban Shared Rides"
   ]
  },
  {
   "cell_type": "code",
   "execution_count": null,
   "metadata": {
    "collapsed": true,
    "scrolled": true
   },
   "outputs": [],
   "source": [
    "output_flag=1\n",
    "target_hh_id=2287301\n",
    "# target_hh_id=2744264\n",
    "min_length=15\n",
    "max_length=20\n",
    "target_hh=traveler_trips[traveler_trips['hh_id']==target_hh_id].drop_duplicates(subset=['orig_maz','dest_maz','orig_purpose','dest_purpose','starttime','joint_trip_flag'])\n",
    "#Sort all trips based on start time. This step could reduce the solving time and make it easier to track\n",
    "sorted_trips=target_hh.sort_values(\"starttime\")\n",
    "# sorted_trips=sorted_trips.loc[sorted_trips.tripmode<=6]\n",
    "#hh_index give an index to all trips within the household for tracking purpose\n",
    "hh_num_trips=sorted_trips.shape[0]\n",
    "sorted_trips[\"hh_index\"]=(range(hh_num_trips))\n",
    "all_trips_route_info_ban_sharerides,all_trips_schedule_deviation_ban_sharerides=solve_with_schedule_partition(sorted_trips,Vehicular_Skim,Transit_AB_Cost_Skim,superzone_map,min_length,max_length)"
   ]
  },
  {
   "cell_type": "code",
   "execution_count": null,
   "metadata": {
    "collapsed": true
   },
   "outputs": [],
   "source": [
    "analysis_result(all_trips_route_info_ban_sharerides,sorted_trips,Vehicular_Skim,all_trips_schedule_deviation_ban_sharerides)"
   ]
  },
  {
   "cell_type": "markdown",
   "metadata": {},
   "source": [
    "#### Share ride factor 1.25"
   ]
  },
  {
   "cell_type": "code",
   "execution_count": null,
   "metadata": {
    "collapsed": true
   },
   "outputs": [],
   "source": [
    "output_flag=1\n",
    "target_hh_id=2287301\n",
    "# target_hh_id=2744264\n",
    "min_length=15\n",
    "max_length=20\n",
    "share_ride_factor=1.25\n",
    "target_hh=traveler_trips[traveler_trips['hh_id']==target_hh_id].drop_duplicates(subset=['orig_maz','dest_maz','orig_purpose','dest_purpose','starttime','joint_trip_flag'])\n",
    "#Sort all trips based on start time. This step could reduce the solving time and make it easier to track\n",
    "sorted_trips=target_hh.sort_values(\"starttime\")\n",
    "# sorted_trips=sorted_trips.loc[sorted_trips.tripmode<=6]\n",
    "#hh_index give an index to all trips within the household for tracking purpose\n",
    "hh_num_trips=sorted_trips.shape[0]\n",
    "sorted_trips[\"hh_index\"]=(range(hh_num_trips))\n",
    "all_trips_route_info_sharerides125,all_trips_schedule_deviation_sharerides125=solve_with_schedule_partition(sorted_trips,Vehicular_Skim,Transit_AB_Cost_Skim,superzone_map,min_length,max_length)"
   ]
  },
  {
   "cell_type": "code",
   "execution_count": null,
   "metadata": {
    "collapsed": true,
    "scrolled": true
   },
   "outputs": [],
   "source": [
    "analysis_result(all_trips_route_info_sharerides125,sorted_trips,Vehicular_Skim,all_trips_schedule_deviation_sharerides125)"
   ]
  },
  {
   "cell_type": "code",
   "execution_count": null,
   "metadata": {
    "collapsed": true,
    "scrolled": false
   },
   "outputs": [],
   "source": [
    "plt.pyplot.figure(1,figsize=[21,10])\n",
    "plt.pyplot.subplot(141)\n",
    "plt.pyplot.scatter(sorted_trips.person_id.apply(lambda x: person_id_and_inhouse_p_id_map[x]),sorted_trips.starttime)\n",
    "plt.pyplot.scatter(sorted_trips.loc[(sorted_trips.tripmode<=6),'p_id'],\n",
    "                   sorted_trips.loc[(sorted_trips.tripmode<=6),'starttime'],\n",
    "                   c='r')\n",
    "plt.pyplot.xlabel('Traveler Index')\n",
    "plt.pyplot.ylabel('Time')\n",
    "plt.pyplot.grid()\n",
    "plt.pyplot.xticks(np.arange(min(sorted_trips.p_id), max(sorted_trips.p_id)+1, 1))\n",
    "plt.pyplot.yticks(np.arange(0,1441,30))\n",
    "plt.pyplot.subplot(142)\n",
    "plot_route_info_schedule(car_trips_route_info_partition,sorted_car_trips)\n",
    "plt.pyplot.subplot(143)\n",
    "plot_route_info_schedule(all_trips_route_info_partition,sorted_trips)\n",
    "plt.pyplot.subplot(144)\n",
    "plot_route_info_schedule(all_trips_route_info_ban_sharerides,sorted_trips)"
   ]
  },
  {
   "cell_type": "markdown",
   "metadata": {},
   "source": [
    "#### Probability Mode Choice"
   ]
  },
  {
   "cell_type": "code",
   "execution_count": null,
   "metadata": {
    "collapsed": true
   },
   "outputs": [],
   "source": [
    "drivingcost_per_mile=1\n",
    "transit_fare=1.4\n",
    "transit_asc=2"
   ]
  },
  {
   "cell_type": "code",
   "execution_count": null,
   "metadata": {
    "collapsed": true
   },
   "outputs": [],
   "source": [
    "output_flag=1\n",
    "target_hh_id=2287301\n",
    "# target_hh_id=2744264\n",
    "min_length=15\n",
    "max_length=20\n",
    "run_mode=1\n",
    "share_ride_factor=1.5\n",
    "target_hh=traveler_trips[traveler_trips['hh_id']==target_hh_id].drop_duplicates(subset=['orig_maz','dest_maz','orig_purpose','dest_purpose','starttime','joint_trip_flag'])\n",
    "#Sort all trips based on start time. This step could reduce the solving time and make it easier to track\n",
    "sorted_trips=target_hh.sort_values(\"starttime\")\n",
    "# sorted_trips=sorted_trips.loc[sorted_trips.tripmode<=6]\n",
    "#hh_index give an index to all trips within the household for tracking purpose\n",
    "hh_num_trips=sorted_trips.shape[0]\n",
    "sorted_trips[\"hh_index\"]=(range(hh_num_trips))\n",
    "mode_choice_route_info,mode_choice_schedule_deviation=solve_with_schedule_partition(sorted_trips,Vehicular_Skim,Transit_AB_Cost_Skim,superzone_map,min_length,max_length)"
   ]
  },
  {
   "cell_type": "code",
   "execution_count": null,
   "metadata": {
    "collapsed": true
   },
   "outputs": [],
   "source": [
    "sorted_trips=compare_mode_utlity(sorted_trips)"
   ]
  },
  {
   "cell_type": "code",
   "execution_count": null,
   "metadata": {
    "collapsed": true
   },
   "outputs": [],
   "source": [
    "min_length=15\n",
    "max_length=20\n",
    "run_mode=0\n",
    "share_ride_factor=1.5\n",
    "force_serve_factor=1\n",
    "car_sorted_trips=sorted_trips.loc[sorted_trips.expected_mode=='Car']\n",
    "# sorted_trips=sorted_trips.loc[sorted_trips.tripmode<=6]\n",
    "#hh_index give an index to all trips within the household for tracking purpose\n",
    "hh_num_trips=sorted_trips.shape[0]\n",
    "sorted_trips[\"hh_index\"]=(range(hh_num_trips))\n",
    "car_only_mode_choice_route_info,car_only_mode_choice_schedule_deviation=solve_with_schedule_partition(car_sorted_trips,Vehicular_Skim,Transit_AB_Cost_Skim,superzone_map,min_length,max_length)\n",
    "force_serve_factor=0"
   ]
  },
  {
   "cell_type": "code",
   "execution_count": null,
   "metadata": {
    "collapsed": true,
    "scrolled": true
   },
   "outputs": [],
   "source": [
    "sorted_trips[['transit_time','transit_walk_time','car_time','toll_cost','car_dist','transit_utility','car_utility','expected_mode','actual_mode','value_of_time']]"
   ]
  },
  {
   "cell_type": "code",
   "execution_count": null,
   "metadata": {
    "collapsed": true,
    "scrolled": true
   },
   "outputs": [],
   "source": [
    "# sub_sorted_trips=[item for sublist in schedule_partition(sorted_trips,Vehicular_Skim,min_length,max_length) for item in sublist]\n",
    "# sub_sorted_trips=flatten(schedule_partition(sorted_trips,Vehicular_Skim,min_length,max_length))\n",
    "# route_info=pd.DataFrame()\n",
    "\n",
    "# total_previous_sub_trips_length=0\n",
    "# total_tailing_sub_trips_length=0\n",
    "# schedule_deviation=[]\n",
    "# x_list=[]\n",
    "# for sub_sorted_trip in sub_sorted_trips:\n",
    "\n",
    "#     num_hh_member,hh_num_trips,C,TT,expected_arrival_time,expected_leave_time,early_penalty,late_penalty,early_penalty_threshold,late_penalty_threshold,visit_candidate_zone=extract_hh_information(sub_sorted_trip,Vehicular_Skim,Transit_AB_Cost_Skim,superzone_map)\n",
    "#     # R=estimate_transit_cost(sorted_trips,TransitMazTazFlag,WalkSpeed,TransitSkimTimeIntervalLength,Transit_AB_Cost_Skim,Transit_AB_Time_Skim,transit_zone_candidates,three_link_walk)\n",
    "#     R=estimate_trip_reward(hh_num_trips,sub_sorted_trip,Vehicular_Skim)\n",
    "#     print('start sovling problem at ',datetime.datetime.now())\n",
    "#     m1,x,T=dial_n_ride_model(num_hh_member,hh_num_trips,C,TT,sub_sorted_trip,expected_arrival_time,early_penalty,late_penalty,early_penalty_threshold,late_penalty_threshold,R,output_flag)\n",
    "#     x_list.extend([x])\n",
    "#     print('finish solving problem at ',datetime.datetime.now())\n",
    "#     sub_route_info=extract_route_from_model_solution(x,T,sub_sorted_trip,visit_candidate_zone,hh_num_trips,expected_arrival_time,expected_leave_time)\n",
    "#     total_tailing_sub_trips_length=len(sorted_trips)-total_previous_sub_trips_length-len(sub_sorted_trip)\n",
    "#     sub_route_info['orig_node_index']=sub_route_info.orig_node_index.apply(lambda x: x+total_previous_sub_trips_length if x<=hh_num_trips else x+2*total_previous_sub_trips_length+total_tailing_sub_trips_length) \n",
    "#     sub_route_info['dest_node_index']=sub_route_info.dest_node_index.apply(lambda x: x+total_previous_sub_trips_length if x<=hh_num_trips else x+2*total_previous_sub_trips_length+total_tailing_sub_trips_length) \n",
    "#     total_previous_sub_trips_length=total_previous_sub_trips_length+len(sub_sorted_trip)\n",
    "#     route_info=route_info.append(sub_route_info)\n",
    "# #         for index, row in route_info.iterrows():\n",
    "# #             print(route_info.dest_expected_arrival_time,'\\t',row.dest_arrival_time,'\\t',row.start_time,'\\t',T[row.dest_node_index].x)\n",
    "# #         #Estimate the delay and early arrival\n",
    "# T_sol=np.ones(2*hh_num_trips+2)\n",
    "# for i in range(2*hh_num_trips+2):\n",
    "# #     print(int(T[i].x),'\\t',expected_arrival_time[i],'\\t',T[i].x-expected_arrival_time[i])\n",
    "#     T_sol[i]=T[i].x\n",
    "#     print(T_sol[i],expected_arrival_time[i])\n",
    "# schedule_deviation.extend(T_sol-expected_arrival_time)"
   ]
  },
  {
   "cell_type": "code",
   "execution_count": null,
   "metadata": {
    "collapsed": true
   },
   "outputs": [],
   "source": [
    "sorted_trips.loc[:,'p_id']=sorted_trips.groupby(['person_id']).ngroup()\n",
    "hh_num_trips=len(sorted_trips)\n",
    "person_id_and_inhouse_p_id_map=dict(zip(sorted_trips.person_id,sorted_trips.p_id))\n",
    "person_id_and_inhouse_p_id_map[0]=-1\n",
    "plt.pyplot.figure(1,figsize=[21,10])\n",
    "plt.pyplot.subplot(141)\n",
    "plot_route_info_schedule(car_only_mode_choice_route_info,car_sorted_trips)\n",
    "z1=[sorted_trips.iloc[i-1].p_id for i in temp3]\n",
    "z2=[sorted_trips.iloc[i-1].starttime for i in temp3]\n",
    "print(z1,z2)\n",
    "plt.pyplot.scatter(z1,z2)"
   ]
  },
  {
   "cell_type": "code",
   "execution_count": null,
   "metadata": {
    "collapsed": true
   },
   "outputs": [],
   "source": [
    "analysis_result(mode_choice_route_info,sorted_trips,Vehicular_Skim,mode_choice_schedule_deviation)"
   ]
  },
  {
   "cell_type": "code",
   "execution_count": null,
   "metadata": {
    "collapsed": true,
    "scrolled": true
   },
   "outputs": [],
   "source": [
    "sub_sorted_trips=flatten(schedule_partition(sorted_trips,Vehicular_Skim,min_length,max_length))\n",
    "#     route_info=pd.DataFrame()\n",
    "for sub_sorted_trip in sub_sorted_trips:\n",
    "#     sub_sorted_trip=sub_sorted_trips[1]\n",
    "    num_hh_member,hh_num_trips,C,TT,expected_arrival_time,expected_leave_time,early_penalty,late_penalty,early_penalty_threshold,late_penalty_threshold,visit_candidate_zone=extract_hh_information(sub_sorted_trip,Vehicular_Skim,Transit_AB_Cost_Skim,superzone_map)\n",
    "    # R=estimate_transit_cost(sorted_trips,TransitMazTazFlag,WalkSpeed,TransitSkimTimeIntervalLength,Transit_AB_Cost_Skim,Transit_AB_Time_Skim,transit_zone_candidates,three_link_walk)\n",
    "    # R=np.ones(hh_num_trips+1)*10\n",
    "    R=estimate_trip_reward(hh_num_trips,sub_sorted_trip,Vehicular_Skim)\n",
    "    print('start sovling problem at ',datetime.datetime.now())\n",
    "    m1,x,T=dial_n_ride_model(num_hh_member,hh_num_trips,C,TT,sub_sorted_trip,expected_arrival_time,early_penalty,late_penalty,early_penalty_threshold,late_penalty_threshold,R,share_ride_factor,output_flag,run_mode)\n",
    "    print('finish solving problem at ',datetime.datetime.now())\n",
    "    sub_route_info_temp=extract_route_from_model_solution(x,T,sub_sorted_trip,visit_candidate_zone,hh_num_trips,expected_arrival_time,expected_leave_time)\n",
    "    \n",
    "    T_sol=np.ones(2*hh_num_trips+2)\n",
    "    for i in range(2*hh_num_trips+2):\n",
    "    #     print(int(T[i].x),'\\t',expected_arrival_time[i],'\\t',T[i].x-expected_arrival_time[i])\n",
    "        T_sol[i]=T[i].x\n",
    "    schedule_deviation.extend(T_sol-expected_arrival_time)\n",
    "    analysis_result(sub_route_info_temp,sub_sorted_trips,Vehicular_Skim,schedule_deviation)"
   ]
  },
  {
   "cell_type": "code",
   "execution_count": null,
   "metadata": {
    "collapsed": true
   },
   "outputs": [],
   "source": [
    "analysis_result(sub_route_info,sub_sorted_trip,Vehicular_Skim,schedule_deviation)"
   ]
  },
  {
   "cell_type": "code",
   "execution_count": null,
   "metadata": {
    "collapsed": true,
    "scrolled": false
   },
   "outputs": [],
   "source": [
    "z=traveler_trips[traveler_trips.hh_id==2287301]\n",
    "z.loc[:,'p_id']=z.groupby(['person_id']).ngroup()\n",
    "z.loc[:,'expected_arrival']=z.starttime+z.travel_time\n",
    "person_id_and_inhouse_p_id_map=dict(zip(z.person_id,z.p_id))\n",
    "person_id_and_inhouse_p_id_map[0]=-1\n",
    "sorted_trips.loc[:,'p_id']=sorted_trips.person_id.apply(lambda x: person_id_and_inhouse_p_id_map[x])\n",
    "route_info['p_id']=route_info.person_id.apply(lambda x: person_id_and_inhouse_p_id_map[x])\n",
    "route_info_partition['p_id']=route_info_partition.person_id.apply(lambda x: person_id_and_inhouse_p_id_map[x])\n",
    "\n",
    "plt.pyplot.figure(1,figsize=[21,14])\n",
    "plt.pyplot.subplot(131)\n",
    "plt.pyplot.scatter(sorted_trips.person_id.apply(lambda x: person_id_and_inhouse_p_id_map[x]),sorted_trips.starttime)\n",
    "\n",
    "# plt.pyplot.scatter(z.person_id.apply(lambda x: person_id_and_inhouse_p_id_map[x]),z.starttime,marker='o',facecolors='none', edgecolors='r')\n",
    "\n",
    "# plt.pyplot.plot(route_info.loc[(route_info.p_id!=-1) & (route_info.orig_node_index<1+hh_num_trips),'p_id'],\n",
    "#                 route_info.loc[(route_info.p_id!=-1) & (route_info.orig_node_index<1+hh_num_trips),'start_time']\n",
    "#                )\n",
    "plt.pyplot.scatter(sorted_trips.loc[(sorted_trips.tripmode<=6),'p_id'],\n",
    "                   sorted_trips.loc[(sorted_trips.tripmode<=6),'starttime'],\n",
    "                   c='r')\n",
    "plt.pyplot.xlabel('Traveler Index')\n",
    "plt.pyplot.ylabel('Time')\n",
    "plt.pyplot.grid()\n",
    "plt.pyplot.xticks(np.arange(min(sorted_trips.p_id), max(sorted_trips.p_id)+1, 1))\n",
    "plt.pyplot.yticks(np.arange(0,1441,30))\n",
    "plt.pyplot.subplot(132)\n",
    "# plt.pyplot.scatter(sorted_trips.person_id.apply(lambda x: person_id_and_inhouse_p_id_map[x]),sorted_trips.starttime)\n",
    "# plt.pyplot.scatter(sorted_trips.loc[(sorted_trips.tripmode<=6),'p_id'],\n",
    "#                    sorted_trips.loc[(sorted_trips.tripmode<=6),'starttime'],\n",
    "#                    c='r')\n",
    "\n",
    "plt.pyplot.scatter(route_info.loc[(route_info.p_id!=-1) & (route_info.orig_node_index<=1+hh_num_trips),'p_id'],\n",
    "                route_info.loc[(route_info.p_id!=-1) & (route_info.orig_node_index<=1+hh_num_trips),'origin_arrival_time'])\n",
    "plt.pyplot.plot(route_info.loc[(route_info.p_id!=-1) & (route_info.orig_node_index<=1+hh_num_trips),'p_id'],\n",
    "                route_info.loc[(route_info.p_id!=-1) & (route_info.orig_node_index<=1+hh_num_trips),'origin_arrival_time'])\n",
    "plt.pyplot.grid()\n",
    "plt.pyplot.xticks(np.arange(min(sorted_trips.p_id), max(sorted_trips.p_id)+1, 1))\n",
    "plt.pyplot.yticks(np.arange(0,1441,30))\n",
    "plt.pyplot.subplot(133)\n",
    "plt.pyplot.scatter(route_info_partition.loc[(route_info_partition.p_id!=-1) & (route_info_partition.orig_node_index<=1+hh_num_trips),'p_id'],\n",
    "                route_info_partition.loc[(route_info_partition.p_id!=-1) & (route_info_partition.orig_node_index<=1+hh_num_trips),'origin_arrival_time'])\n",
    "plt.pyplot.plot(route_info_partition.loc[(route_info_partition.p_id!=-1) & (route_info_partition.orig_node_index<=1+hh_num_trips),'p_id'],\n",
    "                route_info_partition.loc[(route_info_partition.p_id!=-1) & (route_info_partition.orig_node_index<=1+hh_num_trips),'origin_arrival_time'])\n",
    "\n",
    "plt.pyplot.xlabel('Traveler Index')\n",
    "plt.pyplot.ylabel('Time')\n",
    "plt.pyplot.grid()\n",
    "plt.pyplot.xticks(np.arange(min(sorted_trips.p_id), max(sorted_trips.p_id)+1, 1))\n",
    "plt.pyplot.yticks(np.arange(0,1441,30))"
   ]
  },
  {
   "cell_type": "code",
   "execution_count": null,
   "metadata": {
    "collapsed": true
   },
   "outputs": [],
   "source": [
    "sorted_trips=target_hh.sort_values(\"starttime\")\n",
    "sub_sorted_trips=[item for sublist in schedule_partition(sorted_trips,Vehicular_Skim,min_length,max_length) for item in sublist]"
   ]
  },
  {
   "cell_type": "code",
   "execution_count": null,
   "metadata": {
    "collapsed": true
   },
   "outputs": [],
   "source": []
  },
  {
   "cell_type": "code",
   "execution_count": null,
   "metadata": {
    "collapsed": true
   },
   "outputs": [],
   "source": [
    "plot_route_info_schedule(sub_route_info,traveler_trips)"
   ]
  },
  {
   "cell_type": "code",
   "execution_count": null,
   "metadata": {
    "collapsed": true
   },
   "outputs": [],
   "source": [
    "sub_route_info.groupby('person_id').count()"
   ]
  },
  {
   "cell_type": "code",
   "execution_count": null,
   "metadata": {
    "collapsed": true
   },
   "outputs": [],
   "source": [
    "sub_sorted_trip.groupby('person_id').count()"
   ]
  },
  {
   "cell_type": "code",
   "execution_count": null,
   "metadata": {
    "collapsed": true
   },
   "outputs": [],
   "source": [
    "sub_route_info"
   ]
  },
  {
   "cell_type": "markdown",
   "metadata": {},
   "source": [
    "##### Solve the problem for all households"
   ]
  },
  {
   "cell_type": "code",
   "execution_count": null,
   "metadata": {
    "collapsed": true,
    "scrolled": true
   },
   "outputs": [],
   "source": [
    "route_infos=get_route_info_allhh(traveler_trips,0)"
   ]
  },
  {
   "cell_type": "code",
   "execution_count": null,
   "metadata": {
    "collapsed": true
   },
   "outputs": [],
   "source": [
    "route_infos.to_csv('Output/route_infos_fullconversion_lessthan40triphh.csv')"
   ]
  },
  {
   "cell_type": "code",
   "execution_count": null,
   "metadata": {
    "collapsed": true
   },
   "outputs": [],
   "source": [
    "route_infos.to_csv('Output/route_infos_partconversion.csv')"
   ]
  },
  {
   "cell_type": "code",
   "execution_count": null,
   "metadata": {
    "collapsed": true,
    "scrolled": true
   },
   "outputs": [],
   "source": [
    "route_infos_full_adoption=pd.read_csv('D:/alex/Autonomous-V-demand/Output/route_infos_fullconversion.csv')\n",
    "route_infos_part_adoption=pd.read_csv('D:/alex/Autonomous-V-demand/Output/route_infos_partconversion.csv')"
   ]
  },
  {
   "cell_type": "code",
   "execution_count": null,
   "metadata": {
    "collapsed": true
   },
   "outputs": [],
   "source": [
    "route_infos_full_adoption.head()"
   ]
  },
  {
   "cell_type": "markdown",
   "metadata": {},
   "source": [
    "#### Compare the new route with the old one"
   ]
  },
  {
   "cell_type": "code",
   "execution_count": null,
   "metadata": {
    "collapsed": true
   },
   "outputs": [],
   "source": [
    "initial_trips=traveler_trips.drop_duplicates(subset=['hh_id','orig_maz','dest_maz','orig_purpose','dest_purpose','starttime'])\n",
    "len1=[]\n",
    "len2=[]\n",
    "origin_num_car_trips=[]\n",
    "num_empty_car_trips=[]\n",
    "num_initial_car_trips=0\n",
    "for name, group in route_infos_full_adoption.groupby(['hh_id']):\n",
    "    num_initial_car_trips=num_initial_car_trips+len(initial_trips.loc[(initial_trips.hh_id==name) & ((initial_trips.tripmode<=6) | (initial_trips.tripmode==13))])\n",
    "#     len1.extend([len(group)])\n",
    "#     len2.extend([len(initial_trips.loc[initial_trips.hh_id==name])])\n",
    "#     origin_num_car_trips.extend([len(initial_trips.loc[(initial_trips.tripmode<=6) | (initial_trips.tripmode==13)])])\n",
    "#     num_empty_car_trips.extend([len(group[group.person_id==0])])"
   ]
  },
  {
   "cell_type": "code",
   "execution_count": null,
   "metadata": {
    "collapsed": true
   },
   "outputs": [],
   "source": [
    "zz=traveler_trips.drop_duplicates(subset=['hh_id','orig_maz','dest_maz','orig_purpose','dest_purpose','starttime']).groupby('hh_id').count() "
   ]
  },
  {
   "cell_type": "code",
   "execution_count": null,
   "metadata": {
    "collapsed": true
   },
   "outputs": [],
   "source": [
    "zz1=traveler_trips.groupby('hh_id').count() "
   ]
  },
  {
   "cell_type": "code",
   "execution_count": null,
   "metadata": {
    "collapsed": true
   },
   "outputs": [],
   "source": [
    "traveler_trips.columns"
   ]
  },
  {
   "cell_type": "code",
   "execution_count": null,
   "metadata": {
    "collapsed": true
   },
   "outputs": [],
   "source": [
    "zz[zz.person_id>30].person_id.sum()"
   ]
  },
  {
   "cell_type": "code",
   "execution_count": null,
   "metadata": {
    "collapsed": true
   },
   "outputs": [],
   "source": [
    "print('The new route plan has ',sum(len1),' trips')\n",
    "print('The origin trip plan has ',sum(len2),' trips')\n",
    "print('The origin trip plan has',len(initial_trips.loc[initial_trips.tripmode<=6]),'car trips')\n",
    "print('The origin trip plan has',len(initial_trips.loc[initial_trips.tripmode==13]),'taxi trips')\n",
    "print('The new route plan has',sum(num_empty_car_trips),'empty car trips')"
   ]
  },
  {
   "cell_type": "markdown",
   "metadata": {},
   "source": [
    "### Route result analysis"
   ]
  },
  {
   "cell_type": "markdown",
   "metadata": {},
   "source": [
    "##### Estimate how many trips are satisfied"
   ]
  },
  {
   "cell_type": "code",
   "execution_count": null,
   "metadata": {
    "collapsed": true
   },
   "outputs": [],
   "source": [
    "route_infos.head()"
   ]
  },
  {
   "cell_type": "code",
   "execution_count": null,
   "metadata": {
    "collapsed": true
   },
   "outputs": [],
   "source": [
    "def calculate_num_pick_up_trips(route_infos,traveler_trips):\n",
    "    total_num_pickup_trip=0\n",
    "    total_num_joint_trip=0\n",
    "    for target_hh_id in route_infos.hh_id.unique():\n",
    "        target_hh=traveler_trips[traveler_trips['hh_id']==target_hh_id].drop_duplicates(subset=['orig_maz','dest_maz','orig_purpose','dest_purpose','starttime'])\n",
    "        #Sort all trips based on start time. This step could reduce the solving time and make it easier to track\n",
    "        sorted_trips=target_hh.sort_values(\"starttime\")\n",
    "        hh_num_trips=len(sorted_trips)\n",
    "        total_num_pickup_trip=total_num_pickup_trip+len(route_infos.loc[(route_infos.hh_id==target_hh_id)& (route_infos.orig_node_index<hh_num_trips)])\n",
    "        total_num_joint_trip=total_num_joint_trip+len(route_infos.loc[(route_infos.hh_id==target_hh_id)& (route_infos.orig_node_index<hh_num_trips)& (route_infos.dest_node_index<hh_num_trips)])\n",
    "    return total_num_pickup_trip,total_num_joint_trip\n",
    "    #     print(target_hh_id)"
   ]
  },
  {
   "cell_type": "code",
   "execution_count": null,
   "metadata": {
    "collapsed": true
   },
   "outputs": [],
   "source": [
    "# Calculate the number of trips with/without passenger\n",
    "full_adoption_num_pickup,full_adoption_extra_joint=calculate_num_pick_up_trips(route_infos_full_adoption,traveler_trips)\n",
    "full_adoption_empty_trips=len(route_infos_full_adoption.loc[route_infos_full_adoption.person_id==0])\n",
    "partial_adoption_num_pickup,partial_adoption_extra_joint=calculate_num_pick_up_trips(route_infos_part_adoption,traveler_trips)\n",
    "partial_adoption_empty_trips=len(route_infos_part_adoption.loc[route_infos_part_adoption.person_id==0])"
   ]
  },
  {
   "cell_type": "code",
   "execution_count": null,
   "metadata": {
    "collapsed": true
   },
   "outputs": [],
   "source": [
    "full_adoption_num_pickup"
   ]
  },
  {
   "cell_type": "code",
   "execution_count": null,
   "metadata": {
    "collapsed": true
   },
   "outputs": [],
   "source": [
    "partial_adoption_num_pickup"
   ]
  },
  {
   "cell_type": "code",
   "execution_count": null,
   "metadata": {
    "collapsed": true
   },
   "outputs": [],
   "source": [
    "full_adoption_extra_joint"
   ]
  },
  {
   "cell_type": "code",
   "execution_count": null,
   "metadata": {
    "collapsed": true
   },
   "outputs": [],
   "source": [
    "len(route_infos_part_adoption)"
   ]
  },
  {
   "cell_type": "code",
   "execution_count": null,
   "metadata": {
    "collapsed": true
   },
   "outputs": [],
   "source": [
    "partial_adoption_extra_joint"
   ]
  },
  {
   "cell_type": "code",
   "execution_count": null,
   "metadata": {
    "collapsed": true,
    "scrolled": true
   },
   "outputs": [],
   "source": [
    "print('The full conversion plan pickup ',full_adoption_num_pickup,'trips (',round(full_adoption_num_pickup/sum(len2),2),')out of ',sum(len2))\n",
    "print('The full conversion plan incurs ', full_adoption_empty_trips,'empty trips. The ratio beween empty and occupy trips is', full_adoption_empty_trips/full_adoption_num_pickup)\n",
    "print('The partial conversion plan pickup ',partial_adoption_num_pickup,'trips (',round(partial_adoption_num_pickup/sum(len2),2),')out of ',sum(len2))\n",
    "print('The partial conversion plan incurs ', partial_adoption_empty_trips,'empty trips. The ratio beween empty and occupy trips is' ,partial_adoption_empty_trips/partial_adoption_num_pickup)"
   ]
  },
  {
   "cell_type": "code",
   "execution_count": null,
   "metadata": {
    "collapsed": true
   },
   "outputs": [],
   "source": [
    "route_infos_full_adoption.columns"
   ]
  },
  {
   "cell_type": "code",
   "execution_count": null,
   "metadata": {
    "collapsed": true
   },
   "outputs": [],
   "source": [
    "z=route_infos_full_adoption.groupby('hh_id').apply(lambda x: (x==0).sum())"
   ]
  },
  {
   "cell_type": "code",
   "execution_count": null,
   "metadata": {
    "collapsed": true
   },
   "outputs": [],
   "source": [
    "z['num_hh_member']=traveler_trips.groupby('hh_id')['person_id'].nunique()"
   ]
  },
  {
   "cell_type": "code",
   "execution_count": null,
   "metadata": {
    "collapsed": true
   },
   "outputs": [],
   "source": [
    "def plot_num_trips_by_timeinterval(route_infos):\n",
    "    route_infos['occupy_flag']=['Occupied' if x >0 else 'Empty' for x in route_infos['person_id']]\n",
    "    route_infos['start_time_interval']=[math.floor(x/36) for x in route_infos['start_time']]\n",
    "    z=route_infos.groupby(['start_time_interval', 'occupy_flag'])['start_time'].count().unstack('occupy_flag').fillna(0)\n",
    "#     fig, axes = plt.pyplot.subplots(nrows=1 ,ncols=1,figsize=(16,6))\n",
    "    \n",
    "    z[['Occupied','Empty']].plot(kind='bar',stacked=True,figsize=(16,6))\n",
    "    z['Empty_percentage']=z['Empty']/(z['Occupied']+z['Empty'])\n",
    "#     z['Empty_percentage'].plot(kind='bar',ax=axes[1])\n",
    "    return z"
   ]
  },
  {
   "cell_type": "code",
   "execution_count": null,
   "metadata": {
    "collapsed": true
   },
   "outputs": [],
   "source": [
    "z1=plot_num_trips_by_timeinterval(route_infos_full_adoption)"
   ]
  },
  {
   "cell_type": "code",
   "execution_count": null,
   "metadata": {
    "collapsed": true
   },
   "outputs": [],
   "source": [
    "z2=plot_num_trips_by_timeinterval(route_infos_part_adoption)"
   ]
  },
  {
   "cell_type": "code",
   "execution_count": null,
   "metadata": {
    "collapsed": true
   },
   "outputs": [],
   "source": []
  },
  {
   "cell_type": "code",
   "execution_count": null,
   "metadata": {
    "collapsed": true
   },
   "outputs": [],
   "source": [
    "fig = plt.pyplot.figure()\n",
    "ax = fig.add_subplot(111)\n",
    "ax2 = ax.twinx()\n",
    "z1.Empty_percentage.plot(kind='bar',ax=ax,color='r',position=0)\n",
    "z2.Empty_percentage.plot(kind='bar',ax=ax2,color='blue',position=1)"
   ]
  },
  {
   "cell_type": "markdown",
   "metadata": {},
   "source": [
    "#### Write the route to DYNASMART input file vehicle.dat"
   ]
  },
  {
   "cell_type": "code",
   "execution_count": null,
   "metadata": {},
   "outputs": [],
   "source": []
  },
  {
   "cell_type": "markdown",
   "metadata": {},
   "source": [
    "#### Result Analysis"
   ]
  },
  {
   "cell_type": "code",
   "execution_count": null,
   "metadata": {
    "collapsed": true
   },
   "outputs": [],
   "source": []
  }
 ],
 "metadata": {
  "kernelspec": {
   "display_name": "Python 3",
   "language": "python",
   "name": "python3"
  },
  "language_info": {
   "codemirror_mode": {
    "name": "ipython",
    "version": 3
   },
   "file_extension": ".py",
   "mimetype": "text/x-python",
   "name": "python",
   "nbconvert_exporter": "python",
   "pygments_lexer": "ipython3",
   "version": "3.6.2"
  }
 },
 "nbformat": 4,
 "nbformat_minor": 2
}
