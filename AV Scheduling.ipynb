{
 "cells": [
  {
   "cell_type": "markdown",
   "metadata": {},
   "source": [
    "# AV Scheduling for household"
   ]
  },
  {
   "cell_type": "markdown",
   "metadata": {},
   "source": [
    "### Initialize\n",
    "* Inital functions and package\n",
    "* Read input"
   ]
  },
  {
   "cell_type": "code",
   "execution_count": 43,
   "metadata": {
    "collapsed": true
   },
   "outputs": [],
   "source": [
    "import numpy as np\n",
    "import pandas as pd\n",
    "import matplotlib as plt\n",
    "import networkx as nx\n",
    "%matplotlib inline\n",
    "from DYNASMART_Process import *\n",
    "import DYNASMART_Process as dy\n",
    "import AV_functions as av\n",
    "from gurobipy import *\n",
    "import datetime\n",
    "import requests"
   ]
  },
  {
   "cell_type": "code",
   "execution_count": 45,
   "metadata": {
    "collapsed": true
   },
   "outputs": [],
   "source": [
    "#Read in the basic traveler and trips informationa and joint the houshold id\n",
    "# traveler_info=pd.read_csv('input/traveler.csv')\n",
    "personData=pd.read_csv('input/personData_1.csv')\n",
    "person_type_dic=dict(zip(personData.person_id,personData.type))\n",
    "# hh_temp=personData[['person_id','hh_id']]\n",
    "# traveler_trips=pd.merge(traveler_info,hh_temp,how='left',on=['person_id'])\n",
    "#Trip mode\n",
    "#1 Drive alone free; 2 Drive alone pay; 3 Shared ride 2 free; 4 Shared ride 2 pay ;\n",
    "#5 Shared ride 3+ free; 6 Shared ride 3+ pay; 7 Walk; 8 Bike; 9 Walk to local transit; \n",
    "#10 Walk to premium transit; 11 Drive to local transit; 12 Drive to premium transit; \n",
    "#13 Taxi; 14 School bus\n",
    "\n",
    "traveler_trips=pd.read_csv('input/traveler_trip_info.csv')\n",
    "#Calculate the expected trip travel time as trip start time of trip (i+1) - start time of trip i - activity time \n",
    "traveler_trips['Diff_bet_starttime']=traveler_trips.starttime.diff()[1:]\n",
    "traveler_trips.Diff_bet_starttime=traveler_trips.Diff_bet_starttime.shift(-1)\n",
    "traveler_trips['Diff_bet_starttime'].apply(lambda x: 0 if x<0 else x)\n",
    "traveler_trips['travel_time']=traveler_trips.Diff_bet_starttime-traveler_trips.ActivityTime\n",
    "traveler_trips.loc[traveler_trips.trip_counter==traveler_trips.num_trips,'travel_time']=1440-(traveler_trips.loc[traveler_trips.trip_counter==traveler_trips.num_trips]['starttime']+traveler_trips.loc[traveler_trips.trip_counter==traveler_trips.num_trips]['ActivityTime'])\n",
    "traveler_trips.orig_purpose.replace(['eatingout','work','discretionary','shop','work-based','work-related','escort','maintenance','school','visiting','university'],\n",
    "                                    ['EatingOut','Work','Discretionary','Shop','WorkBased','WorkBased','Escort','Maintenance','School','Visiting','University'],\n",
    "                                    inplace=True)\n",
    "traveler_trips.dest_purpose.replace(['eatingout','work','discretionary','shop','work-based','work-related','escort','maintenance','school','visiting','university'],\n",
    "                                    ['EatingOut','Work','Discretionary','Shop','WorkBased','WorkBased','Escort','Maintenance','School','Visiting','University'],\n",
    "                                    inplace=True)\n",
    "traveler_trips.loc[:,'person_type']=traveler_trips.person_id.apply(lambda x: person_type_dic[x])\n",
    "value_latearr_penalty_per_min=pd.read_csv('input/LateArrPenalty.dat',sep='\\t',index_col =0)\n",
    "value_earlyarr_penalty_per_min=pd.read_csv('input/EarlyArrPenalty.dat',sep='\\t',index_col =0)\n",
    "early_penalty_threshold=pd.read_csv('input/EarlyArrPenaltyThreshold.dat',sep='\\t',index_col=0)\n",
    "late_penalty_threshold=pd.read_csv('input/LateArrPenaltyThreshold.dat',sep='\\t',index_col=0)\n",
    "\n",
    "traveler_trips.loc[:,'earlyarr_penalty']=traveler_trips.apply(lambda row: value_earlyarr_penalty_per_min.loc[row.dest_purpose,row.person_type], axis=1)\n",
    "traveler_trips.loc[:,'latearr_penalty']=traveler_trips.apply(lambda row: value_latearr_penalty_per_min.loc[row.dest_purpose,row.person_type], axis=1)\n",
    "traveler_trips.loc[:,'early_penalty_threshold']=traveler_trips.apply(lambda row: early_penalty_threshold.loc[row.dest_purpose,row.person_type], axis=1)\n",
    "traveler_trips.loc[:,'late_penalty_threshold']=traveler_trips.apply(lambda row: late_penalty_threshold.loc[row.dest_purpose,row.person_type], axis=1)\n",
    "num_zones,num_nodes,num_links,node_detail,node_id,link_detail,link_id=dy.read_network('input/network.dat')\n",
    "nodexy=dy.read_xy('input/xy.dat')\n",
    "#origins,destinations=dy.read_origin_destion('input/origin.dat','input/destination.dat')"
   ]
  },
  {
   "cell_type": "markdown",
   "metadata": {},
   "source": [
    "### Basic Statistics"
   ]
  },
  {
   "cell_type": "code",
   "execution_count": 47,
   "metadata": {},
   "outputs": [
    {
     "data": {
      "text/html": [
       "<div>\n",
       "<style>\n",
       "    .dataframe thead tr:only-child th {\n",
       "        text-align: right;\n",
       "    }\n",
       "\n",
       "    .dataframe thead th {\n",
       "        text-align: left;\n",
       "    }\n",
       "\n",
       "    .dataframe tbody tr th {\n",
       "        vertical-align: top;\n",
       "    }\n",
       "</style>\n",
       "<table border=\"1\" class=\"dataframe\">\n",
       "  <thead>\n",
       "    <tr style=\"text-align: right;\">\n",
       "      <th></th>\n",
       "      <th>person_id</th>\n",
       "      <th>num_trips</th>\n",
       "      <th>value_of_time</th>\n",
       "      <th>trip_counter</th>\n",
       "      <th>ActivityTime</th>\n",
       "      <th>tripmode</th>\n",
       "      <th>orig_purpose</th>\n",
       "      <th>dest_purpose</th>\n",
       "      <th>orig_maz</th>\n",
       "      <th>orig_taz</th>\n",
       "      <th>...</th>\n",
       "      <th>hh_id</th>\n",
       "      <th>origin_node</th>\n",
       "      <th>destination_node</th>\n",
       "      <th>Diff_bet_starttime</th>\n",
       "      <th>travel_time</th>\n",
       "      <th>person_type</th>\n",
       "      <th>earlyarr_penalty</th>\n",
       "      <th>latearr_penalty</th>\n",
       "      <th>early_penalty_threshold</th>\n",
       "      <th>late_penalty_threshold</th>\n",
       "    </tr>\n",
       "  </thead>\n",
       "  <tbody>\n",
       "    <tr>\n",
       "      <th>0</th>\n",
       "      <td>8600957</td>\n",
       "      <td>11</td>\n",
       "      <td>0.1164</td>\n",
       "      <td>1</td>\n",
       "      <td>24.0</td>\n",
       "      <td>1</td>\n",
       "      <td>Home</td>\n",
       "      <td>Shop</td>\n",
       "      <td>1</td>\n",
       "      <td>1</td>\n",
       "      <td>...</td>\n",
       "      <td>2744264</td>\n",
       "      <td>9737</td>\n",
       "      <td>10716</td>\n",
       "      <td>30.0</td>\n",
       "      <td>6.0</td>\n",
       "      <td>Part-time-worker</td>\n",
       "      <td>0.01</td>\n",
       "      <td>0.01</td>\n",
       "      <td>60.0</td>\n",
       "      <td>60.0</td>\n",
       "    </tr>\n",
       "    <tr>\n",
       "      <th>1</th>\n",
       "      <td>8600957</td>\n",
       "      <td>11</td>\n",
       "      <td>0.1164</td>\n",
       "      <td>2</td>\n",
       "      <td>32.0</td>\n",
       "      <td>3</td>\n",
       "      <td>Shop</td>\n",
       "      <td>EatingOut</td>\n",
       "      <td>62</td>\n",
       "      <td>16</td>\n",
       "      <td>...</td>\n",
       "      <td>2744264</td>\n",
       "      <td>10716</td>\n",
       "      <td>10057</td>\n",
       "      <td>37.0</td>\n",
       "      <td>5.0</td>\n",
       "      <td>Part-time-worker</td>\n",
       "      <td>0.01</td>\n",
       "      <td>0.01</td>\n",
       "      <td>60.0</td>\n",
       "      <td>60.0</td>\n",
       "    </tr>\n",
       "    <tr>\n",
       "      <th>2</th>\n",
       "      <td>8600957</td>\n",
       "      <td>11</td>\n",
       "      <td>0.1164</td>\n",
       "      <td>3</td>\n",
       "      <td>39.0</td>\n",
       "      <td>1</td>\n",
       "      <td>EatingOut</td>\n",
       "      <td>Maintenance</td>\n",
       "      <td>20</td>\n",
       "      <td>5</td>\n",
       "      <td>...</td>\n",
       "      <td>2744264</td>\n",
       "      <td>10021</td>\n",
       "      <td>9674</td>\n",
       "      <td>41.0</td>\n",
       "      <td>2.0</td>\n",
       "      <td>Part-time-worker</td>\n",
       "      <td>0.01</td>\n",
       "      <td>0.01</td>\n",
       "      <td>60.0</td>\n",
       "      <td>60.0</td>\n",
       "    </tr>\n",
       "    <tr>\n",
       "      <th>3</th>\n",
       "      <td>8600957</td>\n",
       "      <td>11</td>\n",
       "      <td>0.1164</td>\n",
       "      <td>4</td>\n",
       "      <td>198.0</td>\n",
       "      <td>3</td>\n",
       "      <td>Maintenance</td>\n",
       "      <td>Home</td>\n",
       "      <td>3</td>\n",
       "      <td>1</td>\n",
       "      <td>...</td>\n",
       "      <td>2744264</td>\n",
       "      <td>9737</td>\n",
       "      <td>9675</td>\n",
       "      <td>199.0</td>\n",
       "      <td>1.0</td>\n",
       "      <td>Part-time-worker</td>\n",
       "      <td>0.00</td>\n",
       "      <td>0.02</td>\n",
       "      <td>120.0</td>\n",
       "      <td>30.0</td>\n",
       "    </tr>\n",
       "    <tr>\n",
       "      <th>4</th>\n",
       "      <td>8600957</td>\n",
       "      <td>11</td>\n",
       "      <td>0.1164</td>\n",
       "      <td>5</td>\n",
       "      <td>191.0</td>\n",
       "      <td>1</td>\n",
       "      <td>Home</td>\n",
       "      <td>Work</td>\n",
       "      <td>1</td>\n",
       "      <td>1</td>\n",
       "      <td>...</td>\n",
       "      <td>2744264</td>\n",
       "      <td>9673</td>\n",
       "      <td>9736</td>\n",
       "      <td>192.0</td>\n",
       "      <td>1.0</td>\n",
       "      <td>Part-time-worker</td>\n",
       "      <td>0.20</td>\n",
       "      <td>0.50</td>\n",
       "      <td>30.0</td>\n",
       "      <td>15.0</td>\n",
       "    </tr>\n",
       "  </tbody>\n",
       "</table>\n",
       "<p>5 rows × 27 columns</p>\n",
       "</div>"
      ],
      "text/plain": [
       "   person_id  num_trips  value_of_time  trip_counter  ActivityTime  tripmode  \\\n",
       "0    8600957         11         0.1164             1          24.0         1   \n",
       "1    8600957         11         0.1164             2          32.0         3   \n",
       "2    8600957         11         0.1164             3          39.0         1   \n",
       "3    8600957         11         0.1164             4         198.0         3   \n",
       "4    8600957         11         0.1164             5         191.0         1   \n",
       "\n",
       "  orig_purpose dest_purpose  orig_maz  orig_taz           ...            \\\n",
       "0         Home         Shop         1         1           ...             \n",
       "1         Shop    EatingOut        62        16           ...             \n",
       "2    EatingOut  Maintenance        20         5           ...             \n",
       "3  Maintenance         Home         3         1           ...             \n",
       "4         Home         Work         1         1           ...             \n",
       "\n",
       "     hh_id  origin_node  destination_node  Diff_bet_starttime  travel_time  \\\n",
       "0  2744264         9737             10716                30.0          6.0   \n",
       "1  2744264        10716             10057                37.0          5.0   \n",
       "2  2744264        10021              9674                41.0          2.0   \n",
       "3  2744264         9737              9675               199.0          1.0   \n",
       "4  2744264         9673              9736               192.0          1.0   \n",
       "\n",
       "        person_type  earlyarr_penalty  latearr_penalty  \\\n",
       "0  Part-time-worker              0.01             0.01   \n",
       "1  Part-time-worker              0.01             0.01   \n",
       "2  Part-time-worker              0.01             0.01   \n",
       "3  Part-time-worker              0.00             0.02   \n",
       "4  Part-time-worker              0.20             0.50   \n",
       "\n",
       "   early_penalty_threshold  late_penalty_threshold  \n",
       "0                     60.0                    60.0  \n",
       "1                     60.0                    60.0  \n",
       "2                     60.0                    60.0  \n",
       "3                    120.0                    30.0  \n",
       "4                     30.0                    15.0  \n",
       "\n",
       "[5 rows x 27 columns]"
      ]
     },
     "execution_count": 47,
     "metadata": {},
     "output_type": "execute_result"
    }
   ],
   "source": [
    "traveler_trips.head()"
   ]
  },
  {
   "cell_type": "code",
   "execution_count": 49,
   "metadata": {},
   "outputs": [
    {
     "data": {
      "text/plain": [
       "Index(['person_id', 'num_trips', 'value_of_time', 'trip_counter',\n",
       "       'ActivityTime', 'tripmode', 'orig_purpose', 'dest_purpose', 'orig_maz',\n",
       "       'orig_taz', 'dest_maz', 'dest_taz', 'driver_passenger_flag',\n",
       "       'joint_trip_flag', 'park&ride_flag', 'starttimeinterval', 'starttime',\n",
       "       'hh_id', 'origin_node', 'destination_node', 'Diff_bet_starttime',\n",
       "       'travel_time', 'person_type', 'earlyarr_penalty', 'latearr_penalty',\n",
       "       'early_penalty_threshold', 'late_penalty_threshold'],\n",
       "      dtype='object')"
      ]
     },
     "execution_count": 49,
     "metadata": {},
     "output_type": "execute_result"
    }
   ],
   "source": [
    "traveler_trips.columns"
   ]
  },
  {
   "cell_type": "code",
   "execution_count": 51,
   "metadata": {},
   "outputs": [
    {
     "name": "stdout",
     "output_type": "stream",
     "text": [
      "Number of household: \t 32472\n",
      "Number of traveler: \t 76499\n",
      "Number of trips: \t 382158\n",
      "Number of indiv trip: \t 333264\n",
      "Number of joint trip: \t 48894\n"
     ]
    }
   ],
   "source": [
    "#Num of household\n",
    "print('Number of household: \\t',len(traveler_trips.hh_id.unique()))\n",
    "print('Number of traveler: \\t',len(traveler_trips.person_id.unique()))\n",
    "print('Number of trips: \\t',len(traveler_trips))\n",
    "print('Number of indiv trip: \\t',len(traveler_trips[traveler_trips.joint_trip_flag==0]))\n",
    "print('Number of joint trip: \\t',len(traveler_trips[traveler_trips.joint_trip_flag==1]))"
   ]
  },
  {
   "cell_type": "code",
   "execution_count": 53,
   "metadata": {},
   "outputs": [
    {
     "data": {
      "text/plain": [
       "<matplotlib.axes._subplots.AxesSubplot at 0x223c87b5748>"
      ]
     },
     "execution_count": 53,
     "metadata": {},
     "output_type": "execute_result"
    },
    {
     "data": {
      "image/png": "[encoded data removed]",
      "text/plain": [
       "<matplotlib.figure.Figure at 0x223afcf9e80>"
      ]
     },
     "metadata": {},
     "output_type": "display_data"
    }
   ],
   "source": [
    "traveler_trips['orig_purpose'].value_counts().plot(kind='bar',title='Histogram of Origin Purpose')"
   ]
  },
  {
   "cell_type": "code",
   "execution_count": 55,
   "metadata": {},
   "outputs": [
    {
     "data": {
      "text/plain": [
       "<matplotlib.axes._subplots.AxesSubplot at 0x223bd18c748>"
      ]
     },
     "execution_count": 55,
     "metadata": {},
     "output_type": "execute_result"
    },
    {
     "data": {
      "image/png": "[encoded data removed]",
      "text/plain": [
       "<matplotlib.figure.Figure at 0x223af033898>"
      ]
     },
     "metadata": {},
     "output_type": "display_data"
    }
   ],
   "source": [
    "traveler_trips.tripmode.hist()"
   ]
  },
  {
   "cell_type": "code",
   "execution_count": 57,
   "metadata": {},
   "outputs": [
    {
     "data": {
      "text/plain": [
       "<matplotlib.text.Text at 0x223aec96fd0>"
      ]
     },
     "execution_count": 57,
     "metadata": {},
     "output_type": "execute_result"
    },
    {
     "data": {
      "image/png": "[encoded data removed]",
      "text/plain": [
       "<matplotlib.figure.Figure at 0x223aebf9ef0>"
      ]
     },
     "metadata": {},
     "output_type": "display_data"
    }
   ],
   "source": [
    "traveler_trips.num_trips.hist()\n",
    "plt.pyplot.title('Histogram of trip per person')"
   ]
  },
  {
   "cell_type": "code",
   "execution_count": 59,
   "metadata": {},
   "outputs": [
    {
     "data": {
      "text/plain": [
       "<matplotlib.text.Text at 0x223af24b668>"
      ]
     },
     "execution_count": 59,
     "metadata": {},
     "output_type": "execute_result"
    },
    {
     "data": {
      "image/png": "[encoded data removed]",
      "text/plain": [
       "<matplotlib.figure.Figure at 0x223aeb75048>"
      ]
     },
     "metadata": {},
     "output_type": "display_data"
    }
   ],
   "source": [
    "traveler_trips.groupby('hh_id')['num_trips'].count().hist()\n",
    "plt.pyplot.title('Histogram of trip per household')"
   ]
  },
  {
   "cell_type": "code",
   "execution_count": 61,
   "metadata": {
    "collapsed": true,
    "scrolled": true
   },
   "outputs": [],
   "source": [
    "def identify_indiv_trip_before_jointtrip(traveler_trips):\n",
    "    before_joint_trip=pd.DataFrame()\n",
    "    for traveler in traveler_trips.person_id.unique():\n",
    "#         print(traveler,len(traveler_trips[traveler_trips.person_id==traveler])-1)\n",
    "        for index in range(len(traveler_trips[traveler_trips.person_id==traveler])-1):\n",
    "#             if(traveler==5982639):\n",
    "#                 print(traveler,index,(traveler_trips.loc[traveler_trips.person_id==traveler].iloc[index]['joint_trip_flag']==0),(traveler_trips.loc[traveler_trips.person_id==traveler].iloc[index+1]['joint_trip_flag']==1)) \n",
    "            if (traveler_trips.loc[traveler_trips.person_id==traveler].iloc[index]['joint_trip_flag']==0) & (traveler_trips.loc[traveler_trips.person_id==traveler].iloc[index+1]['joint_trip_flag']==1):  \n",
    "#                 print(traveler,index)\n",
    "                before_joint_trip=before_joint_trip.append(traveler_trips[traveler_trips.person_id==traveler].iloc[index])\n",
    "    check_joint_trip=traveler_trips.loc[(traveler_trips['joint_trip_flag']==1) & (traveler_trips.trip_counter>2)]\n",
    "    \n",
    "#     if (len(check_joint_trip)/2 != len(before_joint_trip)):\n",
    "#         print(traveler_trips.hh_id.unique(),len(check_joint_trip)/2, len(before_joint_trip))\n",
    "    return before_joint_trip"
   ]
  },
  {
   "cell_type": "code",
   "execution_count": 63,
   "metadata": {
    "collapsed": true
   },
   "outputs": [],
   "source": [
    "# num_ind_trip=[]\n",
    "# for hh in traveler_trips.hh_id.unique():\n",
    "#     target_hh=traveler_trips[traveler_trips.hh_id==hh]\n",
    "#     num_ind_trip.extend([len(identify_indiv_trip_before_jointtrip(target_hh))])"
   ]
  },
  {
   "cell_type": "markdown",
   "metadata": {},
   "source": [
    "### Draw the sub-area network"
   ]
  },
  {
   "cell_type": "code",
   "execution_count": 65,
   "metadata": {
    "scrolled": false
   },
   "outputs": [
    {
     "name": "stderr",
     "output_type": "stream",
     "text": [
      "C:\\Users\\xax538\\AppData\\Local\\Continuum\\anaconda3\\lib\\site-packages\\networkx\\drawing\\nx_pylab.py:126: MatplotlibDeprecationWarning: pyplot.hold is deprecated.\n",
      "    Future behavior will be consistent with the long-time default:\n",
      "    plot commands add elements without first clearing the\n",
      "    Axes and/or Figure.\n",
      "  b = plt.ishold()\n",
      "C:\\Users\\xax538\\AppData\\Local\\Continuum\\anaconda3\\lib\\site-packages\\networkx\\drawing\\nx_pylab.py:138: MatplotlibDeprecationWarning: pyplot.hold is deprecated.\n",
      "    Future behavior will be consistent with the long-time default:\n",
      "    plot commands add elements without first clearing the\n",
      "    Axes and/or Figure.\n",
      "  plt.hold(b)\n",
      "C:\\Users\\xax538\\AppData\\Local\\Continuum\\anaconda3\\lib\\site-packages\\matplotlib\\__init__.py:917: UserWarning: axes.hold is deprecated. Please remove it from your matplotlibrc and/or style files.\n",
      "  warnings.warn(self.msg_depr_set % key)\n",
      "C:\\Users\\xax538\\AppData\\Local\\Continuum\\anaconda3\\lib\\site-packages\\matplotlib\\rcsetup.py:152: UserWarning: axes.hold is deprecated, will be removed in 3.0\n",
      "  warnings.warn(\"axes.hold is deprecated, will be removed in 3.0\")\n"
     ]
    },
    {
     "data": {
      "image/png": "[encoded data removed]",
      "text/plain": [
       "<matplotlib.figure.Figure at 0x223af1d27b8>"
      ]
     },
     "metadata": {},
     "output_type": "display_data"
    }
   ],
   "source": [
    "cluster_highlight([])"
   ]
  },
  {
   "cell_type": "markdown",
   "metadata": {},
   "source": [
    "### Sample Household\n",
    "Select household 2105189 for intial analysis"
   ]
  },
  {
   "cell_type": "code",
   "execution_count": 67,
   "metadata": {
    "scrolled": false
   },
   "outputs": [
    {
     "name": "stdout",
     "output_type": "stream",
     "text": [
      "10\n"
     ]
    },
    {
     "name": "stderr",
     "output_type": "stream",
     "text": [
      "C:\\Users\\xax538\\AppData\\Local\\Continuum\\anaconda3\\lib\\site-packages\\networkx\\drawing\\nx_pylab.py:126: MatplotlibDeprecationWarning: pyplot.hold is deprecated.\n",
      "    Future behavior will be consistent with the long-time default:\n",
      "    plot commands add elements without first clearing the\n",
      "    Axes and/or Figure.\n",
      "  b = plt.ishold()\n",
      "C:\\Users\\xax538\\AppData\\Local\\Continuum\\anaconda3\\lib\\site-packages\\networkx\\drawing\\nx_pylab.py:138: MatplotlibDeprecationWarning: pyplot.hold is deprecated.\n",
      "    Future behavior will be consistent with the long-time default:\n",
      "    plot commands add elements without first clearing the\n",
      "    Axes and/or Figure.\n",
      "  plt.hold(b)\n",
      "C:\\Users\\xax538\\AppData\\Local\\Continuum\\anaconda3\\lib\\site-packages\\matplotlib\\__init__.py:917: UserWarning: axes.hold is deprecated. Please remove it from your matplotlibrc and/or style files.\n",
      "  warnings.warn(self.msg_depr_set % key)\n",
      "C:\\Users\\xax538\\AppData\\Local\\Continuum\\anaconda3\\lib\\site-packages\\matplotlib\\rcsetup.py:152: UserWarning: axes.hold is deprecated, will be removed in 3.0\n",
      "  warnings.warn(\"axes.hold is deprecated, will be removed in 3.0\")\n"
     ]
    },
    {
     "name": "stdout",
     "output_type": "stream",
     "text": [
      "9\n",
      "4\n",
      "7\n"
     ]
    },
    {
     "data": {
      "image/png": "[encoded data removed]",
      "text/plain": [
       "<matplotlib.figure.Figure at 0x223c8adc828>"
      ]
     },
     "metadata": {},
     "output_type": "display_data"
    },
    {
     "data": {
      "image/png": "[encoded data removed]",
      "text/plain": [
       "<matplotlib.figure.Figure at 0x223afe0c240>"
      ]
     },
     "metadata": {},
     "output_type": "display_data"
    },
    {
     "data": {
      "image/png": "[encoded data removed]",
      "text/plain": [
       "<matplotlib.figure.Figure at 0x223af13dcf8>"
      ]
     },
     "metadata": {},
     "output_type": "display_data"
    },
    {
     "data": {
      "image/png": "[encoded data removed]",
      "text/plain": [
       "<matplotlib.figure.Figure at 0x223c87d5ba8>"
      ]
     },
     "metadata": {},
     "output_type": "display_data"
    }
   ],
   "source": [
    "target_hh_id=2105189\n",
    "people_in_hh=traveler_trips[traveler_trips['hh_id']==2105189]['person_id'].unique()\n",
    "for person in people_in_hh:\n",
    "    #creat trip-chain-origin-destination-list\n",
    "    num_trips=traveler_trips[traveler_trips['person_id']==person]['num_trips'].iloc[0]\n",
    "    print(num_trips)\n",
    "    trip_chain_or=traveler_trips[traveler_trips['person_id']==person][['origin_node','destination_node']]\n",
    "    trip_chain_or['origin_node'].iloc[1:num_trips-1]=trip_chain_or['destination_node'].iloc[0:num_trips-2].tolist()\n",
    "    trip_chain_or['origin_node'].iloc[num_trips-1]=trip_chain_or['destination_node'].iloc[num_trips-2]\n",
    "    #draw the graph\n",
    "    av.trip_chain_highlight(trip_chain_or,node_detail,link_detail,nodexy)\n",
    "#traveler_trips[traveler_trips['hh_id']==2105189]"
   ]
  },
  {
   "cell_type": "code",
   "execution_count": 69,
   "metadata": {
    "collapsed": true,
    "scrolled": true
   },
   "outputs": [],
   "source": [
    "target_hh=traveler_trips[traveler_trips['hh_id']==2105189]"
   ]
  },
  {
   "cell_type": "markdown",
   "metadata": {},
   "source": [
    "### Solve the optimization for a household \n",
    "\n",
    "The factors need to know about:  \n",
    "1. Decision variable X <sub>ij</sub> and T<sub>j</sub> (departure time from node j)  \n",
    "2. R <sub>i</sub> reward of visiting node i\n",
    "3. S <sub>i</sub> penalty for late/early arrival\n",
    "4. C <sub>ij</sub> travel time between node i and j  \n",
    "5. "
   ]
  },
  {
   "cell_type": "code",
   "execution_count": 71,
   "metadata": {
    "collapsed": true
   },
   "outputs": [],
   "source": [
    "# target_hh_id=2105189\n",
    "# hh_members=traveler_trips[traveler_trips['hh_id']==target_hh_id]['person_id'].unique()\n",
    "# # hh_num_trips=traveler_trips[traveler_trips['hh_id']==target_hh_id]['num_trips'].value_counts().sum()\n",
    "# num_hh_member=hh_members.size\n",
    "\n",
    "# target_hh=traveler_trips[traveler_trips['hh_id']==target_hh_id].drop_duplicates(subset=['orig_maz','dest_maz','orig_purpose','dest_purpose','starttime'])\n",
    "# sorted_trips=target_hh.sort_values(\"starttime\")\n",
    "# hh_num_trips=sorted_trips.shape[0]\n",
    "# sorted_trips[\"hh_index\"]=(range(hh_num_trips))\n",
    "# R=np.ones(hh_num_trips+1)*15\n",
    "# #Calculate the distance matrix between all node pairs\n",
    "# np.random.seed(1)\n",
    "# C=np.random.rand(2*hh_num_trips+2,2*hh_num_trips+2)*10\n",
    "# visit_candidate=[sorted_trips['origin_node'].iloc[0]]\n",
    "# visit_candidate.extend(sorted_trips['origin_node'].tolist())\n",
    "# visit_candidate.extend(sorted_trips['destination_node'].tolist())\n",
    "# visit_candidate.extend([sorted_trips['origin_node'].iloc[0]])\n",
    "# # C= av.calculate_node_distance_matrix(visit_candidate,nodexy,C)\n",
    "# c=av.calculate_node_travel_time_matrix(visit_candidate,nodexy)"
   ]
  },
  {
   "cell_type": "markdown",
   "metadata": {},
   "source": [
    "#### Solve with heuristic"
   ]
  },
  {
   "cell_type": "code",
   "execution_count": 73,
   "metadata": {
    "collapsed": true
   },
   "outputs": [],
   "source": [
    "# #Solve with heuristic\n",
    "# ############################\n",
    "# #Construct initial feasible solution\n",
    "# def initial_solution(sorted_trips,hh_num_trips,num_hh_member,C,visit_candidate):\n",
    "#     #First start with the earlist trip and add the next trip whenever possible\n",
    "#     #########################\n",
    "#     #Sort all household trips by time\n",
    "#     trip_list=[]\n",
    "#     last_start_time=0\n",
    "#     last_dest_index=0\n",
    "#     last_travel_time=0 #The travel time between the OD of same trip\n",
    "#     trip_list=[]\n",
    "#     index=0\n",
    "#     for index1,trip in sorted_trips.iterrows():\n",
    "#         #If it does not violate the time constraint then add the trip to the route\n",
    "#         current_travel_time=C[last_dest_index,index+1] #The travel time between the orig of #current trip and the dest of last trip\n",
    "#         print(trip['starttime'],'\\t',index+1,'\\t',last_dest_index,'\\t',last_travel_time,'\\t',last_start_time,'\\t',current_travel_time)\n",
    "#         if trip['starttime']>last_travel_time+last_start_time+current_travel_time:\n",
    "#             trip_list.extend([trip['hh_index']])\n",
    "#             last_start_time=trip['starttime']\n",
    "#             last_dest_index=index+1+hh_num_trips\n",
    "#             last_travel_time=C[index+1,index+1+hh_num_trips]\n",
    "#             print(last_dest_index,index+1,trip['hh_index'])\n",
    "#         index+=1\n",
    "#     return trip_list"
   ]
  },
  {
   "cell_type": "code",
   "execution_count": 75,
   "metadata": {
    "collapsed": true,
    "scrolled": false
   },
   "outputs": [],
   "source": [
    "# i=0\n",
    "# num_optimization=0\n",
    "# num_conflict_trips={}\n",
    "# last_time=datetime.datetime.now()\n",
    "# for target_hh_id in [2105189]: #traveler_trips['hh_id'].unique():\n",
    "# #     hh_members=traveler_trips[traveler_trips['hh_id']==target_hh_id]['person_id'].unique()\n",
    "#     # hh_num_trips=traveler_trips[traveler_trips['hh_id']==target_hh_id]['num_trips'].value_counts().sum()\n",
    "#     num_hh_member=traveler_trips[traveler_trips['hh_id']==target_hh_id]['person_id'].unique().size\n",
    "#     target_hh=traveler_trips[traveler_trips['hh_id']==target_hh_id].drop_duplicates(subset=['orig_maz','dest_maz','orig_purpose','dest_purpose','starttime'])\n",
    "#     sorted_trips=target_hh.sort_values(\"starttime\")\n",
    "#     hh_num_trips=sorted_trips.shape[0]\n",
    "#     sorted_trips[\"hh_index\"]=(range(hh_num_trips))\n",
    "#     C=np.ones((2*hh_num_trips+2,2*hh_num_trips+2))\n",
    "#     visit_candidate=[sorted_trips['origin_node'].iloc[0]]\n",
    "#     visit_candidate.extend(sorted_trips['origin_node'].tolist())\n",
    "#     visit_candidate.extend(sorted_trips['destination_node'].tolist())\n",
    "#     visit_candidate.extend([sorted_trips['origin_node'].iloc[0]])\n",
    "#     C= av.calculate_node_distance_matrix(visit_candidate,nodexy,C)*1.5*5\n",
    "# #     C=av.calculate_node_travel_time_matrix(visit_candidate,nodexy)\n",
    "#     route=initial_solution(sorted_trips,hh_num_trips,num_hh_member,C,visit_candidate)\n",
    "#     i=i+1\n",
    "#     if len(route)!=hh_num_trips:\n",
    "#         num_optimization=num_optimization+1\n",
    "#         if (hh_num_trips-len(route)) in num_conflict_trips:\n",
    "#             num_conflict_trips[hh_num_trips-len(route)]=num_conflict_trips[hh_num_trips-len(route)]+1\n",
    "#         else:\n",
    "#             num_conflict_trips[hh_num_trips-len(route)]=1\n",
    "#     if (i%1000==0):\n",
    "#         print(i,target_hh_id,num_optimization,datetime.datetime.now()-last_time)\n",
    "# #         last_time=datetime.datetime.now()"
   ]
  },
  {
   "cell_type": "markdown",
   "metadata": {},
   "source": [
    "## Estimate travel time and cost"
   ]
  },
  {
   "cell_type": "markdown",
   "metadata": {},
   "source": [
    "### Estimate vehicular travel time and cost from skim file (result from previous run)"
   ]
  },
  {
   "cell_type": "code",
   "execution_count": 77,
   "metadata": {
    "collapsed": true
   },
   "outputs": [],
   "source": [
    "def read_vehicle_skim(skim_folder_path):\n",
    "    '''\n",
    "    This function reads in the skim file information and store them in a multiindex dataframe Vehicular_Skim\n",
    "    '''\n",
    "    Max_Num_Vot=5\n",
    "    # Get the basic parameters for reading the vehicle skim\n",
    "    NumSkimSuperZone=len(os.listdir(skim_folder_path))\n",
    "    with open(skim_folder_path+'/1.dat') as f: \n",
    "        for line,i in zip(f,range(3)):\n",
    "            if i==0 and 'TAZ' in line: \n",
    "                NumIteration=1\n",
    "                NumSkimOriginZone=line.split()[0]\n",
    "            elif i==0 and 'NTI' in line: \n",
    "                NumIteration=0\n",
    "                NumSkimIntervals=line.split()[0]\n",
    "            elif i==1 and 'NTI' in line: \n",
    "                NumSkimIntervals=line.split()[0]\n",
    "            elif i==1 and 'TAZ' in line:\n",
    "                NumSkimOriginZone=line.split()[0]\n",
    "    NumSkimIntervals=int(NumSkimIntervals)\n",
    "    NumSkimOriginZone=int(NumSkimOriginZone)\n",
    "    print(NumSkimSuperZone,NumSkimOriginZone,NumSkimIntervals)\n",
    "    #Create a list of Time and Origin. The list is determined by how the data were writen in the vehicularpnrskim\n",
    "    #When interation equals 0, the file iterate through time frist. In other words the loop should be writen as \n",
    "    #(do O=1,NumSkimOriginZone: do T=1, NumSkimIntervals). When iteration number is lager than 1, the order reverse\n",
    "    if NumIteration>0:\n",
    "        Tlist=list(range(1,NumSkimIntervals+1))*NumSkimOriginZone\n",
    "        Olist=list(np.repeat(range(1,NumSkimOriginZone+1),NumSkimIntervals))\n",
    "    else:\n",
    "        Tlist=list(np.repeat(range(1,NumSkimIntervals+1),NumSkimOriginZone))\n",
    "        Olist=list(range(1,NumSkimOriginZone+1))*NumSkimIntervals\n",
    "    #Start to read the files \n",
    "    Os=[]\n",
    "    Ds=[]\n",
    "    Ts=[]\n",
    "    VotNo=[]\n",
    "    VotValue=[]\n",
    "    Cost=[]\n",
    "    Time=[]\n",
    "    Dist=[]\n",
    "    for D in range(1,NumSkimSuperZone+1): #D is the destination \n",
    "        print('read',D,datetime.datetime.now())\n",
    "        with open(skim_folder_path+'/'+str(D)+'.dat') as f: \n",
    "            for _ in range(2):\n",
    "                next(f)\n",
    "            for line,O,T in zip(f,Olist,Tlist): \n",
    "                line_list=line.split()\n",
    "                Num_VOT=int(line_list[0])\n",
    "                for j in range(1,Num_VOT+1): \n",
    "                    Os.extend([int(O)])\n",
    "                    Ds.extend([int(D)])\n",
    "                    Ts.extend([int(T)])\n",
    "                    VotNo.extend([j])\n",
    "                    VotValue.extend([float(line_list[4*j-3])])\n",
    "                    Cost.extend([float(line_list[4*j-2])])\n",
    "                    Time.extend([float(line_list[4*j-1])])\n",
    "                    Dist.extend([float(line_list[4*j])])\n",
    "    Vehicular_Skim=pd.DataFrame(data={'O':Os,'D':Ds,'T':Ts,'VotIndex':VotNo,'Vot':VotValue\n",
    "                                     ,'Cost':Cost,'Time':Time,'Dist':Dist})          \n",
    "    Vehicular_Skim.set_index(['O', 'D','T','VotIndex'], inplace=True)\n",
    "    Vehicular_Skim.sort_index(inplace=True)\n",
    "    return Vehicular_Skim"
   ]
  },
  {
   "cell_type": "code",
   "execution_count": 79,
   "metadata": {
    "scrolled": true
   },
   "outputs": [
    {
     "name": "stdout",
     "output_type": "stream",
     "text": [
      "56 57 144\n",
      "read 1 2018-03-05 22:57:18.251549\n",
      "read 2 2018-03-05 22:57:18.329672\n",
      "read 3 2018-03-05 22:57:18.392172\n",
      "read 4 2018-03-05 22:57:18.470298\n",
      "read 5 2018-03-05 22:57:18.553422\n",
      "read 6 2018-03-05 22:57:18.647168\n",
      "read 7 2018-03-05 22:57:18.750726\n",
      "read 8 2018-03-05 22:57:18.844470\n",
      "read 9 2018-03-05 22:57:18.906970\n",
      "read 10 2018-03-05 22:57:19.002573\n",
      "read 11 2018-03-05 22:57:19.091641\n",
      "read 12 2018-03-05 22:57:19.169767\n",
      "read 13 2018-03-05 22:57:19.290139\n",
      "read 14 2018-03-05 22:57:19.399508\n",
      "read 15 2018-03-05 22:57:19.477640\n",
      "read 16 2018-03-05 22:57:19.549261\n",
      "read 17 2018-03-05 22:57:19.627391\n",
      "read 18 2018-03-05 22:57:19.705513\n",
      "read 19 2018-03-05 22:57:19.776270\n",
      "read 20 2018-03-05 22:57:19.854389\n",
      "read 21 2018-03-05 22:57:19.948223\n",
      "read 22 2018-03-05 22:57:20.018599\n",
      "read 23 2018-03-05 22:57:20.127974\n",
      "read 24 2018-03-05 22:57:20.197521\n",
      "read 25 2018-03-05 22:57:20.275650\n",
      "read 26 2018-03-05 22:57:20.353773\n",
      "read 27 2018-03-05 22:57:20.428411\n",
      "read 28 2018-03-05 22:57:20.522158\n",
      "read 29 2018-03-05 22:57:20.600280\n",
      "read 30 2018-03-05 22:57:20.678296\n",
      "read 31 2018-03-05 22:57:20.740796\n",
      "read 32 2018-03-05 22:57:20.850170\n",
      "read 33 2018-03-05 22:57:20.929622\n",
      "read 34 2018-03-05 22:57:21.007747\n",
      "read 35 2018-03-05 22:57:21.117122\n",
      "read 36 2018-03-05 22:57:21.208983\n",
      "read 37 2018-03-05 22:57:21.287107\n",
      "read 38 2018-03-05 22:57:21.365231\n",
      "read 39 2018-03-05 22:57:21.500784\n",
      "read 40 2018-03-05 22:57:21.578909\n",
      "read 41 2018-03-05 22:57:21.641409\n",
      "read 42 2018-03-05 22:57:21.688284\n",
      "read 43 2018-03-05 22:57:21.814566\n",
      "read 44 2018-03-05 22:57:21.892684\n",
      "read 45 2018-03-05 22:57:21.986435\n",
      "read 46 2018-03-05 22:57:22.048936\n",
      "read 47 2018-03-05 22:57:22.127060\n",
      "read 48 2018-03-05 22:57:22.257050\n",
      "read 49 2018-03-05 22:57:22.352486\n",
      "read 50 2018-03-05 22:57:22.430615\n",
      "read 51 2018-03-05 22:57:22.505155\n",
      "read 52 2018-03-05 22:57:22.598905\n",
      "read 53 2018-03-05 22:57:22.741139\n",
      "read 54 2018-03-05 22:57:22.814974\n",
      "read 55 2018-03-05 22:57:22.893094\n",
      "read 56 2018-03-05 22:57:22.955595\n"
     ]
    }
   ],
   "source": [
    "VPNRSkim_folder_filepath='Input/vehicularPNRSkim'\n",
    "Vehicular_Skim=read_vehicle_skim(VPNRSkim_folder_filepath)"
   ]
  },
  {
   "cell_type": "code",
   "execution_count": 81,
   "metadata": {
    "collapsed": true
   },
   "outputs": [],
   "source": [
    "def read_transit_setting(transit_setting_filepath):\n",
    "    f=open(transit_setting_filepath,'r')\n",
    "    TransitMazTazFlag=int(next(f).split()[0])\n",
    "    drivingweight=float(next(f).split()[0])\n",
    "    walkingweight=float(next(f).split()[0])\n",
    "    TransitSkimTimeIntervalLength=float(next(f).split()[0])\n",
    "    MaxNumTransitSkimTimeInterval=int(int(next(f).split()[0]))\n",
    "    WalkSpeed=float(next(f).split()[0])\n",
    "    return TransitMazTazFlag,drivingweight,walkingweight,TransitSkimTimeIntervalLength,MaxNumTransitSkimTimeInterval,WalkSpeed\n",
    "def read_pnr_zones(three_link_pnr):\n",
    "    '''\n",
    "    This function is called by function read_transitskim\n",
    "    This function return the transit_zone_candidates where the first column is the zones in the \n",
    "    DYNSMART network and the second column is the transit zone in the three-link zone, which is\n",
    "    indicated by the first column\n",
    "    '''\n",
    "    from collections import defaultdict\n",
    "    transit_zone_candidates=defaultdict(list)\n",
    "    for line in three_link_pnr:\n",
    "        if 'tran' not in line:\n",
    "            transit_zone_candidates[int(line.split()[0])].extend([int(line.split()[1])])\n",
    "    return transit_zone_candidates\n",
    "def read_threelink_walk(three_link_walk_file):\n",
    "    three_link_walk_list=[]\n",
    "    for line in three_link_walk_file:\n",
    "        if 'tran' not in line: \n",
    "            three_link_walk_list.append([float(i) for i in line.split()])\n",
    "    \n",
    "    three_link_walk=pd.DataFrame(data=three_link_walk_list,columns=['three_link_zone','transit_zone','distance'])\n",
    "    return three_link_walk\n",
    "def read_transitskim(transit_skim_folderpath):\n",
    "    '''\n",
    "    This function call the read_transit_setting function and read_pnr_zones function\n",
    "    This function returns all the NUTRANS realated parameters such as:TransitMazTazFlag,drivingweight,walkingweight,TransitSkimTimeIntervalLength,MaxNumTransitSkimTimeInterval,WalkSpeed\n",
    "    This function returns the transit zone associated with each DYNSAMART zone in transit_zone_candidates\n",
    "    This function also returns the transit AB cost skim which is the estimated travel time between zones at each time interval\n",
    "    \n",
    "    '''\n",
    "    #First read the transit setting file\n",
    "    transit_setting_filepath=transit_skim_folderpath+'TransitSetting.dat'\n",
    "    TransitMazTazFlag,drivingweight,walkingweight,TransitSkimTimeIntervalLength,MaxNumTransitSkimTimeInterval,WalkSpeed=read_transit_setting(transit_setting_filepath)\n",
    "    #Next depends on the setting file determine whether the file is maz based or taz based\n",
    "    ab_time_f=open(transit_skim_folderpath+'TransitPNRSkim_AB_time.dat','r')\n",
    "    if TransitMazTazFlag==0:\n",
    "        ab_cost_f=open(transit_skim_folderpath+'TransitPNRSkim_AB_cost.dat','r')\n",
    "        ba_time_f=open(transit_skim_folderpath+'TransitPNRSkim_BA_time.dat','r')\n",
    "        ba_cost_f=open(transit_skim_folderpath+'TransitPNRSkim_BA_cost.dat','r')\n",
    "        three_link_pnr=open(transit_skim_folderpath+'input_threelink_PNR.dat','r')\n",
    "        three_link_walk_file=open(transit_skim_folderpath+'input_threelink_walk.dat','r')\n",
    "    else:\n",
    "        ab_cost_f=open(transit_skim_folderpath+'TransitPNRSkim_AB_cost_TAZ.dat','r')\n",
    "        ba_time_f=open(transit_skim_folderpath+'TransitPNRSkim_BA_time_TAZ.dat','r')\n",
    "        ba_cost_f=open(transit_skim_folderpath+'TransitPNRSkim_BA_cost_TAZ.dat','r')\n",
    "        three_link_pnr=open(transit_skim_folderpath+'input_threelink_PNR_TAZ.dat','r')\n",
    "        three_link_walk_file=open(transit_skim_folderpath+'input_threelink_walk_TAZ.dat','r')\n",
    "    transit_zone_candidates=read_pnr_zones(three_link_pnr)\n",
    "    three_link_walk=read_threelink_walk(three_link_walk_file)\n",
    "    cost_temp=[]\n",
    "    for line in ab_cost_f:\n",
    "        cost_temp.append([float(i) for i in line.split()])\n",
    "    time_temp=[]\n",
    "    for line in ab_time_f:\n",
    "        time_temp.append([float(i) for i in line.split()])\n",
    "    column_name=['otap','dtap']\n",
    "    column_name.extend([i for i in range(MaxNumTransitSkimTimeInterval)])\n",
    "    Transit_AB_Cost_Skim=pd.DataFrame(data=cost_temp,columns=column_name)\n",
    "    Transit_AB_Time_Skim=pd.DataFrame(data=time_temp,columns=column_name)\n",
    "    return TransitMazTazFlag,drivingweight,walkingweight,TransitSkimTimeIntervalLength,MaxNumTransitSkimTimeInterval,WalkSpeed,transit_zone_candidates,Transit_AB_Cost_Skim,Transit_AB_Time_Skim,three_link_walk"
   ]
  },
  {
   "cell_type": "code",
   "execution_count": 83,
   "metadata": {
    "collapsed": true
   },
   "outputs": [],
   "source": [
    "transit_skim_folderpath='Input/'\n",
    "TransitMazTazFlag,drivingweight,walkingweight,TransitSkimTimeIntervalLength,MaxNumTransitSkimTimeInterval,WalkSpeed,transit_zone_candidates,Transit_AB_Cost_Skim,Transit_AB_Time_Skim,three_link_walk=read_transitskim(transit_skim_folderpath)"
   ]
  },
  {
   "cell_type": "code",
   "execution_count": 85,
   "metadata": {},
   "outputs": [
    {
     "data": {
      "text/html": [
       "<div>\n",
       "<style>\n",
       "    .dataframe thead tr:only-child th {\n",
       "        text-align: right;\n",
       "    }\n",
       "\n",
       "    .dataframe thead th {\n",
       "        text-align: left;\n",
       "    }\n",
       "\n",
       "    .dataframe tbody tr th {\n",
       "        vertical-align: top;\n",
       "    }\n",
       "</style>\n",
       "<table border=\"1\" class=\"dataframe\">\n",
       "  <thead>\n",
       "    <tr style=\"text-align: right;\">\n",
       "      <th></th>\n",
       "      <th>otap</th>\n",
       "      <th>dtap</th>\n",
       "      <th>0</th>\n",
       "      <th>1</th>\n",
       "      <th>2</th>\n",
       "      <th>3</th>\n",
       "      <th>4</th>\n",
       "      <th>5</th>\n",
       "      <th>6</th>\n",
       "      <th>7</th>\n",
       "      <th>...</th>\n",
       "      <th>38</th>\n",
       "      <th>39</th>\n",
       "      <th>40</th>\n",
       "      <th>41</th>\n",
       "      <th>42</th>\n",
       "      <th>43</th>\n",
       "      <th>44</th>\n",
       "      <th>45</th>\n",
       "      <th>46</th>\n",
       "      <th>47</th>\n",
       "    </tr>\n",
       "  </thead>\n",
       "  <tbody>\n",
       "    <tr>\n",
       "      <th>0</th>\n",
       "      <td>4.0</td>\n",
       "      <td>4.0</td>\n",
       "      <td>0.0</td>\n",
       "      <td>0.0</td>\n",
       "      <td>0.0</td>\n",
       "      <td>0.0</td>\n",
       "      <td>0.0</td>\n",
       "      <td>0.0</td>\n",
       "      <td>0.0</td>\n",
       "      <td>0.0</td>\n",
       "      <td>...</td>\n",
       "      <td>0.0</td>\n",
       "      <td>0.0</td>\n",
       "      <td>0.0</td>\n",
       "      <td>0.0</td>\n",
       "      <td>0.0</td>\n",
       "      <td>0.0</td>\n",
       "      <td>0.0</td>\n",
       "      <td>0.0</td>\n",
       "      <td>0.0</td>\n",
       "      <td>0.0</td>\n",
       "    </tr>\n",
       "    <tr>\n",
       "      <th>1</th>\n",
       "      <td>4.0</td>\n",
       "      <td>24.0</td>\n",
       "      <td>1440.0</td>\n",
       "      <td>1440.0</td>\n",
       "      <td>1440.0</td>\n",
       "      <td>1440.0</td>\n",
       "      <td>34.0</td>\n",
       "      <td>34.0</td>\n",
       "      <td>19.5</td>\n",
       "      <td>19.5</td>\n",
       "      <td>...</td>\n",
       "      <td>1440.0</td>\n",
       "      <td>1440.0</td>\n",
       "      <td>1440.0</td>\n",
       "      <td>1440.0</td>\n",
       "      <td>1440.0</td>\n",
       "      <td>35.0</td>\n",
       "      <td>1440.0</td>\n",
       "      <td>1440.0</td>\n",
       "      <td>1440.0</td>\n",
       "      <td>1440.0</td>\n",
       "    </tr>\n",
       "    <tr>\n",
       "      <th>2</th>\n",
       "      <td>4.0</td>\n",
       "      <td>34.0</td>\n",
       "      <td>1440.0</td>\n",
       "      <td>1440.0</td>\n",
       "      <td>1440.0</td>\n",
       "      <td>1440.0</td>\n",
       "      <td>34.0</td>\n",
       "      <td>34.0</td>\n",
       "      <td>19.5</td>\n",
       "      <td>19.5</td>\n",
       "      <td>...</td>\n",
       "      <td>1440.0</td>\n",
       "      <td>1440.0</td>\n",
       "      <td>1440.0</td>\n",
       "      <td>1440.0</td>\n",
       "      <td>1440.0</td>\n",
       "      <td>35.0</td>\n",
       "      <td>1440.0</td>\n",
       "      <td>1440.0</td>\n",
       "      <td>1440.0</td>\n",
       "      <td>1440.0</td>\n",
       "    </tr>\n",
       "    <tr>\n",
       "      <th>3</th>\n",
       "      <td>4.0</td>\n",
       "      <td>36.0</td>\n",
       "      <td>1440.0</td>\n",
       "      <td>1440.0</td>\n",
       "      <td>1440.0</td>\n",
       "      <td>1440.0</td>\n",
       "      <td>109.7</td>\n",
       "      <td>82.4</td>\n",
       "      <td>83.4</td>\n",
       "      <td>110.7</td>\n",
       "      <td>...</td>\n",
       "      <td>1440.0</td>\n",
       "      <td>1440.0</td>\n",
       "      <td>1440.0</td>\n",
       "      <td>1440.0</td>\n",
       "      <td>1440.0</td>\n",
       "      <td>111.7</td>\n",
       "      <td>1440.0</td>\n",
       "      <td>1440.0</td>\n",
       "      <td>1440.0</td>\n",
       "      <td>1440.0</td>\n",
       "    </tr>\n",
       "    <tr>\n",
       "      <th>4</th>\n",
       "      <td>4.0</td>\n",
       "      <td>37.0</td>\n",
       "      <td>1440.0</td>\n",
       "      <td>1440.0</td>\n",
       "      <td>1440.0</td>\n",
       "      <td>1440.0</td>\n",
       "      <td>1440.0</td>\n",
       "      <td>1440.0</td>\n",
       "      <td>1440.0</td>\n",
       "      <td>1440.0</td>\n",
       "      <td>...</td>\n",
       "      <td>1440.0</td>\n",
       "      <td>1440.0</td>\n",
       "      <td>1440.0</td>\n",
       "      <td>1440.0</td>\n",
       "      <td>1440.0</td>\n",
       "      <td>1440.0</td>\n",
       "      <td>1440.0</td>\n",
       "      <td>1440.0</td>\n",
       "      <td>1440.0</td>\n",
       "      <td>1440.0</td>\n",
       "    </tr>\n",
       "  </tbody>\n",
       "</table>\n",
       "<p>5 rows × 50 columns</p>\n",
       "</div>"
      ],
      "text/plain": [
       "   otap  dtap       0       1       2       3       4       5       6       7  \\\n",
       "0   4.0   4.0     0.0     0.0     0.0     0.0     0.0     0.0     0.0     0.0   \n",
       "1   4.0  24.0  1440.0  1440.0  1440.0  1440.0    34.0    34.0    19.5    19.5   \n",
       "2   4.0  34.0  1440.0  1440.0  1440.0  1440.0    34.0    34.0    19.5    19.5   \n",
       "3   4.0  36.0  1440.0  1440.0  1440.0  1440.0   109.7    82.4    83.4   110.7   \n",
       "4   4.0  37.0  1440.0  1440.0  1440.0  1440.0  1440.0  1440.0  1440.0  1440.0   \n",
       "\n",
       "    ...        38      39      40      41      42      43      44      45  \\\n",
       "0   ...       0.0     0.0     0.0     0.0     0.0     0.0     0.0     0.0   \n",
       "1   ...    1440.0  1440.0  1440.0  1440.0  1440.0    35.0  1440.0  1440.0   \n",
       "2   ...    1440.0  1440.0  1440.0  1440.0  1440.0    35.0  1440.0  1440.0   \n",
       "3   ...    1440.0  1440.0  1440.0  1440.0  1440.0   111.7  1440.0  1440.0   \n",
       "4   ...    1440.0  1440.0  1440.0  1440.0  1440.0  1440.0  1440.0  1440.0   \n",
       "\n",
       "       46      47  \n",
       "0     0.0     0.0  \n",
       "1  1440.0  1440.0  \n",
       "2  1440.0  1440.0  \n",
       "3  1440.0  1440.0  \n",
       "4  1440.0  1440.0  \n",
       "\n",
       "[5 rows x 50 columns]"
      ]
     },
     "execution_count": 85,
     "metadata": {},
     "output_type": "execute_result"
    }
   ],
   "source": [
    "Transit_AB_Cost_Skim.head()"
   ]
  },
  {
   "cell_type": "code",
   "execution_count": 87,
   "metadata": {},
   "outputs": [
    {
     "data": {
      "text/html": [
       "<div>\n",
       "<style>\n",
       "    .dataframe thead tr:only-child th {\n",
       "        text-align: right;\n",
       "    }\n",
       "\n",
       "    .dataframe thead th {\n",
       "        text-align: left;\n",
       "    }\n",
       "\n",
       "    .dataframe tbody tr th {\n",
       "        vertical-align: top;\n",
       "    }\n",
       "</style>\n",
       "<table border=\"1\" class=\"dataframe\">\n",
       "  <thead>\n",
       "    <tr style=\"text-align: right;\">\n",
       "      <th></th>\n",
       "      <th>three_link_zone</th>\n",
       "      <th>transit_zone</th>\n",
       "      <th>distance</th>\n",
       "    </tr>\n",
       "  </thead>\n",
       "  <tbody>\n",
       "    <tr>\n",
       "      <th>0</th>\n",
       "      <td>1.0</td>\n",
       "      <td>4.0</td>\n",
       "      <td>4702.091222</td>\n",
       "    </tr>\n",
       "    <tr>\n",
       "      <th>1</th>\n",
       "      <td>1.0</td>\n",
       "      <td>24.0</td>\n",
       "      <td>18806.588630</td>\n",
       "    </tr>\n",
       "    <tr>\n",
       "      <th>2</th>\n",
       "      <td>1.0</td>\n",
       "      <td>37.0</td>\n",
       "      <td>18982.033670</td>\n",
       "    </tr>\n",
       "    <tr>\n",
       "      <th>3</th>\n",
       "      <td>1.0</td>\n",
       "      <td>65.0</td>\n",
       "      <td>21330.843820</td>\n",
       "    </tr>\n",
       "    <tr>\n",
       "      <th>4</th>\n",
       "      <td>1.0</td>\n",
       "      <td>39.0</td>\n",
       "      <td>21422.376550</td>\n",
       "    </tr>\n",
       "  </tbody>\n",
       "</table>\n",
       "</div>"
      ],
      "text/plain": [
       "   three_link_zone  transit_zone      distance\n",
       "0              1.0           4.0   4702.091222\n",
       "1              1.0          24.0  18806.588630\n",
       "2              1.0          37.0  18982.033670\n",
       "3              1.0          65.0  21330.843820\n",
       "4              1.0          39.0  21422.376550"
      ]
     },
     "execution_count": 87,
     "metadata": {},
     "output_type": "execute_result"
    }
   ],
   "source": [
    "three_link_walk.head()"
   ]
  },
  {
   "cell_type": "markdown",
   "metadata": {},
   "source": [
    "### Derive travel time from Google api"
   ]
  },
  {
   "cell_type": "code",
   "execution_count": 89,
   "metadata": {
    "collapsed": true
   },
   "outputs": [],
   "source": [
    "# #Derive the travel time matrix from google api\n",
    "# origin_node=[]\n",
    "# destination_node=[]\n",
    "# travel_time=[]\n",
    "# k=0\n",
    "# for i in nodexy:\n",
    "#     print(k)\n",
    "#     k=k+1\n",
    "#     for j in nodexy:\n",
    "#         origin_node.extend([i])\n",
    "#         destination_node.extend([j])\n",
    "#         travel_time.extend([travel_time_between_nodes(int(i),int(j),nodexy)])"
   ]
  },
  {
   "cell_type": "markdown",
   "metadata": {},
   "source": [
    "## Solve the optimization with Gurobi"
   ]
  },
  {
   "cell_type": "code",
   "execution_count": 258,
   "metadata": {},
   "outputs": [],
   "source": [
    "def get_travel_cost_matrix(sorted_trips,Vehicular_Skim,superzone_map):\n",
    "    '''\n",
    "    This function returns two matrix: \n",
    "    C: the cost matrix\n",
    "    TT: the travel time matrix\n",
    "    '''\n",
    "    \n",
    "    num_skim_interval=Vehicular_Skim.index.get_level_values('T').max()\n",
    "    \n",
    "    hh_num_trips=sorted_trips.shape[0]\n",
    "    C=np.ones((2*hh_num_trips+2,2*hh_num_trips+2))\n",
    "    TT=np.ones((2*hh_num_trips+2,2*hh_num_trips+2))\n",
    "    visit_candidate_zone=[sorted_trips['orig_taz'].iloc[0]]\n",
    "    visit_candidate_zone.extend(sorted_trips['orig_taz'].tolist())\n",
    "    visit_candidate_zone.extend(sorted_trips['dest_taz'].tolist())\n",
    "    visit_candidate_zone.extend([sorted_trips['orig_taz'].iloc[0]])\n",
    "#     midday_timeinterval=len(Vehicular_Skim.index.get_level_values('T').unique())*5/24\n",
    "\n",
    "    correlated_skim_time_interval=[math.ceil(sorted_trips.starttime.iloc[0].item()/num_skim_interval)]\n",
    "    correlated_skim_time_interval.extend(sorted_trips.starttime.apply(lambda x: math.ceil(x/num_skim_interval)))\n",
    "    correlated_skim_time_interval.extend(sorted_trips.starttime.apply(lambda x: math.ceil(x/num_skim_interval)))\n",
    "    correlated_skim_time_interval.extend([math.ceil(sorted_trips.starttime.iloc[-1].item()/num_skim_interval)])\n",
    "    correlated_vot=[0.16]\n",
    "    correlated_vot.extend(sorted_trips.value_of_time)\n",
    "    correlated_vot.extend([0.16]*(hh_num_trips+1))\n",
    "    for i,ozone in zip(range(len(visit_candidate_zone)),visit_candidate_zone):\n",
    "        for j,dzone in zip(range(len(visit_candidate_zone)),visit_candidate_zone):\n",
    "            if i!=j:\n",
    "                time_temp=Vehicular_Skim.loc[ozone,superzone_map[dzone],correlated_skim_time_interval[i],1]['Time'].item()\n",
    "                cost_temp=Vehicular_Skim.loc[ozone,superzone_map[dzone],correlated_skim_time_interval[i],1]['Cost'].item()\n",
    "                C[i,j]=time_temp*correlated_vot[i]+cost_temp\n",
    "                TT[i,j]=time_temp\n",
    "#                 C[i,j]=Vehicular_Skim.loc[ozone,superzone_map[dzone],72,1]['Time'].item()\n",
    "                if j==i-hh_num_trips+1 and i <2*hh_num_trips:\n",
    "                    print(i-hh_num_trips-1,j-1)\n",
    "                    print(sorted_trips.iloc[i-hh_num_trips-1].person_id )\n",
    "                    print(sorted_trips.iloc[j-1].person_id)\n",
    "                    if (sorted_trips.iloc[i-hh_num_trips-1].person_id == sorted_trips.iloc[j-1].person_id):\n",
    "                        C[i,j]=0\n",
    "                        TT[i,j]=0\n",
    "            else:   \n",
    "                C[i,j]=0\n",
    "                TT[i,j]=0\n",
    "#             if i>0 and j ==i+hh_num_trips:\n",
    "#                 print(sorted_trips['travel_time'].iloc[i-1])\n",
    "#                 print('check')\n",
    "#                 print(Vehicular_Skim.loc[ozone,dzone,72,1]['Time'])\n",
    "    C[0,:]=0.01\n",
    "    TT[0,:]=0.01\n",
    "    C[:,2*hh_num_trips+1]=0.01\n",
    "    TT[:,2*hh_num_trips+1]=0.01\n",
    "#     for i in range(hh_num_trips): \n",
    "#         TT[i+1,i+hh_num_trips+1]=sorted_trips['travel_time'].iloc[i]\n",
    "    return C,TT"
   ]
  },
  {
   "cell_type": "code",
   "execution_count": 255,
   "metadata": {},
   "outputs": [
    {
     "data": {
      "text/plain": [
       "64"
      ]
     },
     "execution_count": 255,
     "metadata": {},
     "output_type": "execute_result"
    }
   ],
   "source": [
    "hh_num_trips"
   ]
  },
  {
   "cell_type": "code",
   "execution_count": 251,
   "metadata": {},
   "outputs": [
    {
     "data": {
      "text/plain": [
       "130"
      ]
     },
     "execution_count": 251,
     "metadata": {},
     "output_type": "execute_result"
    }
   ],
   "source": [
    "len(visit_candidate_zone)"
   ]
  },
  {
   "cell_type": "code",
   "execution_count": 93,
   "metadata": {
    "collapsed": true
   },
   "outputs": [],
   "source": [
    "def estimate_transit_cost(sorted_trips,TransitMazTazFlag,WalkSpeed,TransitSkimTimeIntervalLength,Transit_AB_Cost_Skim,Transit_AB_Time_Skim,transit_zone_candidates,three_link_walk):\n",
    "    if TransitMazTazFlag==0:\n",
    "        orig_column_name='orig_maz'\n",
    "        dest_column_name='dest_maz'\n",
    "    else: \n",
    "        orig_column_name='orig_taz'\n",
    "        dest_column_name='dest_taz'\n",
    "    R=[150]\n",
    "    for index,row in sorted_trips.iterrows():\n",
    "        min_transit_time=1440\n",
    "        transit_time_temp=1440\n",
    "        transit_start_time_interval=math.ceil(row.starttime/TransitSkimTimeIntervalLength)-1\n",
    "        for otap in three_link_walk.loc[three_link_walk.three_link_zone==row[orig_column_name]].transit_zone:\n",
    "            for dtap in three_link_walk.loc[three_link_walk.three_link_zone==row[dest_column_name]].transit_zone:\n",
    "                if Transit_AB_Cost_Skim.loc[(Transit_AB_Cost_Skim.otap==otap) & \n",
    "                                            (Transit_AB_Cost_Skim.dtap==dtap)].empty:\n",
    "                    transit_time_temp=1440\n",
    "                else:\n",
    "                    transit_time_temp=Transit_AB_Cost_Skim.loc[(Transit_AB_Cost_Skim.otap==otap) \n",
    "                                                               &(Transit_AB_Cost_Skim.dtap==dtap)\n",
    "                                                              ,int(transit_start_time_interval)].item()\n",
    "                    if transit_time_temp==0:\n",
    "                        transit_time_temp=1440\n",
    "                if (transit_time_temp<min_transit_time):\n",
    "                    min_transit_time=transit_time_temp\n",
    "                    otap_candidate=otap\n",
    "                    dtap_candidate=dtap\n",
    "        R.extend([min_transit_time])\n",
    "    return R\n"
   ]
  },
  {
   "cell_type": "code",
   "execution_count": 95,
   "metadata": {
    "collapsed": true
   },
   "outputs": [],
   "source": [
    "def estimate_single_transit_trip_cost(origin_zone,dest_zone,trip_start_time,TransitMazTazFlag,three_link_walk,Transit_AB_Cost_Skim,TransitSkimTimeIntervalLength):\n",
    "    min_transit_time=1440\n",
    "    transit_time_temp=1440\n",
    "    transit_start_time_interval=math.ceil(trip_start_time/TransitSkimTimeIntervalLength)-1\n",
    "    for otap in three_link_walk.loc[three_link_walk.three_link_zone==origin_zone].transit_zone:\n",
    "        for dtap in three_link_walk.loc[three_link_walk.three_link_zone==dest_zone].transit_zone:\n",
    "            if Transit_AB_Cost_Skim.loc[(Transit_AB_Cost_Skim.otap==otap) & \n",
    "                                        (Transit_AB_Cost_Skim.dtap==dtap)].empty:\n",
    "                transit_time_temp=1440\n",
    "            else:\n",
    "                transit_time_temp=Transit_AB_Cost_Skim.loc[(Transit_AB_Cost_Skim.otap==otap) \n",
    "                                                           &(Transit_AB_Cost_Skim.dtap==dtap)\n",
    "                                                          ,int(transit_start_time_interval)].item()\n",
    "                if transit_time_temp==0:\n",
    "                    transit_time_temp=1440\n",
    "            if (transit_time_temp<min_transit_time):\n",
    "                min_transit_time=transit_time_temp\n",
    "                otap_candidate=otap\n",
    "                dtap_candidate=dtap\n",
    "    return min_transit_time"
   ]
  },
  {
   "cell_type": "code",
   "execution_count": 97,
   "metadata": {
    "collapsed": true
   },
   "outputs": [],
   "source": [
    "def estimate_single_car_trip_cost(origin_zone,dest_zone,trip_start_time,vot,Vehicular_Skim):\n",
    "    num_skim_interval=Vehicular_Skim.index.get_level_values('T').max()\n",
    "    correlated_skim_time_interval=math.ceil(trip_start_time/num_skim_interval)\n",
    "    time_temp=Vehicular_Skim.loc[origin_zone,superzone_map[dest_zone],correlated_skim_time_interval,1]['Time'].item()\n",
    "    cost_temp=Vehicular_Skim.loc[origin_zone,superzone_map[dest_zone],correlated_skim_time_interval,1]['Cost'].item()\n",
    "    car_trip_cost=time_temp*vot+cost_temp\n",
    "    return car_trip_cost"
   ]
  },
  {
   "cell_type": "code",
   "execution_count": 99,
   "metadata": {
    "collapsed": true
   },
   "outputs": [],
   "source": [
    "# origin_trips_test=traveler_trips[traveler_trips.hh_id.isin(route_infos_full_adoption.hh_id.unique())].drop_duplicates(subset=['orig_maz','dest_maz','orig_purpose','dest_purpose','starttime'])\n",
    "# mode_list=[]\n",
    "# for index,row in origin_trips_test.iterrows():\n",
    "#     transit_cost=estimate_single_transit_trip_cost(row.orig_maz,row.dest_maz,row.starttime,TransitMazTazFlag,three_link_walk,Transit_AB_Cost_Skim,TransitSkimTimeIntervalLength)\n",
    "#     car_cost=estimate_single_car_trip_cost(row.orig_taz,row.dest_taz,row.starttime,row.value_of_time,Vehicular_Skim)\n",
    "#     print(transit_cost)\n",
    "#     if transit_cost>car_cost:\n",
    "#         mode_list.extend([0])\n",
    "#     else:\n",
    "#         mode_list.extend([1])"
   ]
  },
  {
   "cell_type": "code",
   "execution_count": 101,
   "metadata": {
    "collapsed": true
   },
   "outputs": [],
   "source": [
    "# def warm_start_with_heuristics(x,T,S,num_hh_member,hh_num_trips,TT,sorted_trips,expected_arrival_time):\n",
    "#     x[0,1].start=1\n",
    "#     x[1,1+hh_num_trips].start=0\n",
    "#     last_node=1+hh_num_trips\n",
    "#     for i in range(2*hh_num_trips+2):\n",
    "#         T[i].start=expected_arrival_time[i]\n",
    "#         S[i].start=0\n",
    "#     for i in range(2,1+hh_num_trips):\n",
    "#         if expected_arrival_time[last_node]+TT[last_node,i]<expected_arrival_time[i]:\n",
    "#             x[last_node,i].start=1\n",
    "#             x[i,i+hh_num_trips].start=1\n",
    "#             last_node=i+hh_num_trips\n",
    "#         else: \n",
    "#             x[last_node,i].start=0\n",
    "#             x[i,i+hh_num_trips].start=0\n",
    "#     return x,T,S\n",
    "# x=warm_start_with_heuristics(x,T,S,num_hh_member,hh_num_trips,TT,sorted_trips,expected_arrival_time)"
   ]
  },
  {
   "cell_type": "code",
   "execution_count": 103,
   "metadata": {
    "collapsed": true
   },
   "outputs": [],
   "source": [
    "def estimate_num_vehicle_household(sorted_trips,method_flag):\n",
    "    '''\n",
    "    This function estimate the minimum number of AVs needed for a household\n",
    "    method_flag=0: use av for all trips\n",
    "    method_flag=1: use av only for trips previously conducted by car\n",
    "    method_flag=2: use conventional vehicles for all trips\n",
    "    method_flag=3: use conventional vehicles only for car trips \n",
    "    '''\n",
    "    min_vector=np.zeros(1440)\n",
    "    if method_flag==0: \n",
    "        for i, row in sorted_trips.iterrows():\n",
    "            min_vector[int(row.starttime-1):int(row.starttime-1+row.travel_time)]+=1\n",
    "    elif method_flag==1:\n",
    "        for i, row in sorted_trips.loc[sorted_trips.tripmode<=6].iterrows():\n",
    "            min_vector[int(row.starttime-1):int(row.starttime-1+row.travel_time)]+=1\n",
    "    elif method_flag==2:\n",
    "        for person in sorted_trips.person_id.unique():\n",
    "            for index, row in sorted_trips.loc[sorted_trips.person_id==person].iterrows():\n",
    "                if row.orig_purpose=='Home':\n",
    "                    start_temp=row.starttime-1\n",
    "                elif row.dest_purpose=='Home':\n",
    "                    end_temp=row.starttime+row.travel_time-1\n",
    "                    min_vector[int(start_temp):int(end_temp)]+=1\n",
    "    elif method_flag==3:\n",
    "        for person in sorted_trips.person_id.unique():\n",
    "                for index, row in sorted_trips.loc[(sorted_trips.person_id==person) & (sorted_trips.tripmode<=6)].iterrows():\n",
    "                    if row.orig_purpose=='Home':\n",
    "                        start_temp=row.starttime-1\n",
    "                    elif row.dest_purpose=='Home':\n",
    "                        end_temp=row.starttime+row.travel_time-1\n",
    "                        min_vector[int(start_temp):int(end_temp)]+=1\n",
    "    \n",
    "    return max(min_vector)"
   ]
  },
  {
   "cell_type": "code",
   "execution_count": 116,
   "metadata": {
    "collapsed": true
   },
   "outputs": [],
   "source": [
    "def extract_hh_information(target_hh_id,traveler_trips,Vehicular_Skim,Transit_AB_Cost_Skim,superzone_map):\n",
    "    '''\n",
    "    Get the household related information. Those information will be used as input\n",
    "    for the optimization model\n",
    "    '''\n",
    "    target_hh=traveler_trips[traveler_trips['hh_id']==target_hh_id].drop_duplicates(subset=['orig_maz','dest_maz','orig_purpose','dest_purpose','starttime','joint_trip_flag'])\n",
    "    num_hh_member=target_hh['person_id'].unique().size\n",
    "    #Sort all trips based on start time. This step could reduce the solving time and make it easier to track\n",
    "    sorted_trips=target_hh.sort_values(\"starttime\")\n",
    "    hh_num_trips=sorted_trips.shape[0]\n",
    "    #hh_index give an index to all trips within the household for tracking purpose\n",
    "    sorted_trips[\"hh_index\"]=(range(hh_num_trips))\n",
    "    \n",
    "    #Then only keep the \n",
    "#     sorted_trips=sorted_trips.drop_duplicates(['orig_purpose','dest_purpose','orig_maz','dest_maz','starttime'],keep='first')\n",
    "#     C=np.ones((2*hh_num_trips+2,2*hh_num_trips+2))\n",
    "    visit_candidate=[sorted_trips['origin_node'].iloc[0]]\n",
    "    visit_candidate.extend(sorted_trips['origin_node'].tolist())\n",
    "    visit_candidate.extend(sorted_trips['destination_node'].tolist())\n",
    "    visit_candidate.extend([sorted_trips['destination_node'].iloc[-1]])\n",
    "\n",
    "    C,TT=get_travel_cost_matrix(sorted_trips,Vehicular_Skim,superzone_map)\n",
    "    visit_candidate_zone=[sorted_trips['orig_taz'].iloc[0]]\n",
    "    visit_candidate_zone.extend(sorted_trips['orig_taz'].tolist())\n",
    "    visit_candidate_zone.extend(sorted_trips['dest_taz'].tolist())\n",
    "    visit_candidate_zone.extend([sorted_trips['orig_taz'].iloc[0]])\n",
    "    \n",
    "    expected_arrival_time=np.ones(2*hh_num_trips+2)\n",
    "    expected_arrival_time[0]=traveler_trips[traveler_trips['hh_id']==target_hh_id]['starttime'].min()-1\n",
    "    expected_arrival_time[1:hh_num_trips+1]=sorted_trips.starttime\n",
    "    expected_leave_time=np.ones(2*hh_num_trips+2)\n",
    "    expected_leave_time[0:hh_num_trips+1]=expected_arrival_time[0:hh_num_trips+1]\n",
    "    #Update the early/late penalty for each trip\n",
    "    early_penalty=100*np.ones(2*hh_num_trips+2)\n",
    "    late_penalty=100*np.ones(2*hh_num_trips+2)\n",
    "    early_penalty[1:hh_num_trips+1]=sorted_trips.earlyarr_penalty\n",
    "    late_penalty[1:hh_num_trips+1]=sorted_trips.latearr_penalty\n",
    "    early_penalty[hh_num_trips+1:2*hh_num_trips+1]=sorted_trips.earlyarr_penalty\n",
    "    late_penalty[hh_num_trips+1:2*hh_num_trips+1]=sorted_trips.latearr_penalty\n",
    "    \n",
    "    #Update the earl/late penalty threshold\n",
    "    early_penalty_threshold=100*np.ones(2*hh_num_trips+2)\n",
    "    late_penalty_threshold=100*np.ones(2*hh_num_trips+2)\n",
    "    early_penalty_threshold[1:hh_num_trips+1]=sorted_trips.early_penalty_threshold\n",
    "    late_penalty_threshold[1:hh_num_trips+1]=sorted_trips.late_penalty_threshold\n",
    "    early_penalty_threshold[hh_num_trips+1:2*hh_num_trips+1]=sorted_trips.early_penalty_threshold\n",
    "    late_penalty_threshold[hh_num_trips+1:2*hh_num_trips+1]=sorted_trips.late_penalty_threshold\n",
    "    for i in range(1+hh_num_trips,2*hh_num_trips+1):\n",
    "        expected_arrival_time[i]=expected_arrival_time[i-hh_num_trips]+TT[i-hh_num_trips,i]\n",
    "        expected_leave_time[i]=expected_arrival_time[i-hh_num_trips+1]\n",
    "        \n",
    "        #         print(i,i-hh_num_trips,hh_num_trips,expected_arrival_time[i-hh_num_trips],expected_arrival_time[i],C[i-hh_num_trips,i])\n",
    "    \n",
    "    expected_arrival_time[2*hh_num_trips+1]=1440\n",
    "    expected_leave_time[2*hh_num_trips+1]=1440\n",
    "    expected_leave_time[2*hh_num_trips]=1440\n",
    "    return num_hh_member,hh_num_trips,C,TT,sorted_trips,expected_arrival_time,expected_leave_time,early_penalty,late_penalty,early_penalty_threshold,late_penalty_threshold,visit_candidate_zone\n",
    "\n",
    "def dial_n_ride_model(num_hh_member,hh_num_trips,C,TT,sorted_trips,expected_arrival_time,early_penalty,late_penalty,early_penalty_threshold,late_penalty_threshold,R,output_flag):\n",
    "    m1=Model(\"AVSchedule\")\n",
    "    x=m1.addVars(2*hh_num_trips+2,2*hh_num_trips+2,vtype=GRB.BINARY,name=\"x\")\n",
    "    T=m1.addVars(2*hh_num_trips+2,name=\"T\") #T represent the expected arrivial time at a node\n",
    "    S=m1.addVars(2*hh_num_trips+2,name=\"S\")\n",
    "   \n",
    "    # B=traveler_trips[traveler_trips['hh_id']==household]['starttime'].max()-traveler_trips[traveler_trips['hh_id']==household]['starttime'].min()\n",
    "    B=1440+Vehicular_Skim.Time.max()\n",
    "    #Add constraints\n",
    "    ###################################\n",
    "    #Basic deliver and pickup constraints\n",
    "    # m1.addConstrs((x[0,i]==1 for i in range(1,2)),\"adf\")\n",
    "    m1.addConstrs((x.sum(i,'*')==1 for i in range(1)),\"FromDepot2\")\n",
    "    m1.addConstrs((x.sum('*',i)==1 for i in [2*hh_num_trips+1]),\"ToDepot3\") \n",
    "    m1.addConstrs((x.sum(i,\"*\")==x.sum(\"*\",i+hh_num_trips) for i in range(1,hh_num_trips+1)),\"DemandbeDelivered11\")\n",
    "    m1.addConstrs((x.sum(i,\"*\")<=1 for i in range(2*hh_num_trips+1)),\"PickupOnce12\")\n",
    "    m1.addConstrs((x.sum(\"*\",j)<=1 for j in range(1,2*hh_num_trips+2)),\"DeliverOnce13\")\n",
    "    m1.addConstrs((x.sum(\"*\",i)==x.sum(i,\"*\") for i in range(1,2*hh_num_trips+1)),\"FlowConvervative14\")\n",
    "    m1.addConstrs((x[i,i]==0 for i in range(2*hh_num_trips+2)),\"NoSamePointCircleVisit\")\n",
    "    # ###################################\n",
    "    #Time constratins\n",
    "    # m1.addConstrs((T[i]==expected_arrival_time[i] for i in range(2*hh_num_trips+2)),'ExactStartTime')\n",
    "    m1.addConstrs((T[j]-T[i]-B*x[i,j]>=TT[i,j]-B for i in range(2*hh_num_trips+2) for j in range(2*hh_num_trips+2)),\"precedencet15\")\n",
    "    m1.addConstrs((T[i+hh_num_trips]-T[i]-B*x.sum(i,\"*\")>=(TT[i,i+hh_num_trips]-B) for i in range(1,hh_num_trips+1)),\"deliverafterpickup16\")\n",
    "\n",
    "    # ####################################\n",
    "    # #Late/Early Arrival penalty\n",
    "    m1.addConstrs((S[i]>=early_penalty[i]*(expected_arrival_time[i]-T[i]) for i in range(1,2*hh_num_trips+2)),'earlyarrivalpenalty')\n",
    "    m1.addConstrs((S[i]>=late_penalty[i]*(T[i]-expected_arrival_time[i]) for i in range(1,2*hh_num_trips+2)),'earlyarrivalpenalty')\n",
    "#     m1.addConstrs((S[i]>=2*early_penalty[i]*(expected_arrival_time[i]-T[i])-early_penalty[i]*early_penalty_threshold[i] for i in range(1,2*hh_num_trips+2)),'earlyarrivaloverthrespenalty')\n",
    "    # ####################################\n",
    "    # Special Constraints for this problem\n",
    "#     m1.addConstrs(x[i,j]==0 for i in range(1,hh_num_trips+1)\n",
    "#                             for j in range(1,hh_num_trips+1)\n",
    "#                             if sorted_trips.iloc[i-1]['person_id']==sorted_trips.iloc[j-1]['person_id']) #\n",
    "    m1.addConstrs((T[j]-T[i+hh_num_trips]-B*(x.sum(\"*\",i)+x.sum(\"*\",j)-1)>=-B for i in range(1,hh_num_trips+1)\n",
    "                        for j in range(i+1,hh_num_trips+1)\n",
    "                        if sorted_trips.iloc[i-1]['person_id']==sorted_trips.iloc[j-1]['person_id']),\n",
    "                        'personal_sequence_consistent'\n",
    "                 ) # For the same person, the sequence of activity can not be violated\n",
    "    \n",
    "    m1.addConstrs((x[i,j]==0 for i in range(2*hh_num_trips+2) for j in range(2*hh_num_trips+2) \n",
    "                  if expected_arrival_time[j]-expected_arrival_time[i]<-30)\n",
    "                 ,'TripIearlerthanTripj') #\n",
    "    obj1=sum(x.sum(i,'*')*R[i] for i in range(hh_num_trips+1))\n",
    "    obj2=S.sum()\n",
    "    obj3=sum(x[i,j]*C[i,j] for i in range(2*hh_num_trips+2) for j in range(2*hh_num_trips+2))\n",
    "    m1.setObjective(obj1-obj2-obj3, GRB.MAXIMIZE)\n",
    "    # m1.setObjective(obj1-obj3,GRB.MAXIMIZE)\n",
    "    m1.setParam(GRB.Param.OutputFlag,output_flag)\n",
    "    m1.Params.TIME_LIMIT=600\n",
    "    \n",
    "    ###############################################################\n",
    "    #warm start with heuristic\n",
    "    for i in range(2*hh_num_trips+2):\n",
    "        for j in range(2*hh_num_trips+2):\n",
    "            x[i,j].start=0\n",
    "    \n",
    "    x[0,1].start=1\n",
    "    x[1,1+hh_num_trips].start=1\n",
    "    last_node=1+hh_num_trips\n",
    "    for i in range(2*hh_num_trips+2):\n",
    "        T[i].start=expected_arrival_time[i]\n",
    "        S[i].start=0\n",
    "    for i in range(2,1+hh_num_trips):\n",
    "        if expected_arrival_time[last_node]+TT[last_node,i]<expected_arrival_time[i]:\n",
    "            x[last_node,i].start=1\n",
    "            x[i,i+hh_num_trips].start=1\n",
    "            last_node=i+hh_num_trips\n",
    "        else: \n",
    "            x[last_node,i].start=0\n",
    "            x[i,i+hh_num_trips].start=0\n",
    "    x[last_node,2*hh_num_trips+1].start=1\n",
    "   \n",
    "    #Check if the warm start is an feasible solution\n",
    "#     x_temp=np.zeros((2*hh_num_trips+2,2*hh_num_trips+2))\n",
    "#     x_temp[0,1]=1\n",
    "#     x_temp[1,1+hh_num_trips]=1\n",
    "#     last_node=1+hh_num_trips\n",
    "#     T_temp=expected_arrival_time\n",
    "#     for i in range(2,1+hh_num_trips):\n",
    "#         if expected_arrival_time[last_node]+TT[last_node,i]<expected_arrival_time[i]:\n",
    "#             x_temp[last_node,i]=1\n",
    "#             x_temp[i,i+hh_num_trips]=1\n",
    "#             last_node=i+hh_num_trips\n",
    "#         else: \n",
    "#             x_temp[last_node,i]=0\n",
    "#             x_temp[i,i+hh_num_trips]=0\n",
    "#     for i in range(2*hh_num_trips+2):\n",
    "#         for j in range(2*hh_num_trips+2):\n",
    "#             if expected_arrival_time[j]-expected_arrival_time[i]-B*x_temp[i,j]<TT[i,j]-B:\n",
    "#                 print('****************************')\n",
    "#                 print(i,j,expected_arrival_time[j]-expected_arrival_time[i]-B*x_temp[i,j]>=TT[i,j]-B,x_temp[i,j])\n",
    "#                 print('****************************')\n",
    "#     for i in range(1,hh_num_trips+1):\n",
    "#         for j in range(i+1,hh_num_trips+1):\n",
    "#             if sorted_trips.iloc[i-1]['person_id']==sorted_trips.iloc[j-1]['person_id']:\n",
    "#                 if \n",
    "    ###############################################################\n",
    "    m1.optimize()\n",
    "    return m1,x,T\n",
    "def break_route_to_seg(route_info,superzone_map):\n",
    "    '''\n",
    "    This function break the route of an av into segements for DYNASMART depends on the travelers. \n",
    "    The function is called by extract_route_from_model_solution\n",
    "    '''\n",
    "    \n",
    "    seg_index=[0]\n",
    "    seg_temp=0\n",
    "    i=1\n",
    "    intrasuperzone_flag=[0]*len(route_info)\n",
    "    \n",
    "    for index, row in route_info[1:].iterrows():    \n",
    "        if(row.orig_zone==row.dest_zone or check_intrasuperzone(row.orig_zone,row.dest_zone,superzone_map)):\n",
    "            seg_temp=seg_temp+1\n",
    "        elif((row.person_id != route_info.iloc[i-1].person_id) \n",
    "           or (route_info.iloc[i-1].orig_zone==route_info.iloc[i-1].dest_zone)\n",
    "            or (check_intrasuperzone(route_info.iloc[i-1].orig_zone,route_info.iloc[i-1].dest_zone,superzone_map))):\n",
    "            seg_temp=seg_temp+1\n",
    "        if(check_intrasuperzone(row.orig_zone,row.dest_zone,superzone_map) and row.orig_zone!=row.dest_zone ):\n",
    "            intrasuperzone_flag[i]=1\n",
    "        seg_index.extend([seg_temp])\n",
    "        i=i+1\n",
    "    route_info['seg_index']=seg_index\n",
    "    route_info['intrasuperzone_flag']=intrasuperzone_flag\n",
    "    route_info['veh_seg_index']=route_info[['hh_id','seg_index']].apply(lambda x: veh_seg_index_creator(x), axis=1)\n",
    "    return route_info\n",
    "\n",
    "def check_intrasuperzone(orig_taz,dest_taz,superzone_map):\n",
    "    '''\n",
    "    This fucntion check if the trip between orig_taz and dest_taz is within the same superzone\n",
    "    '''\n",
    "#     print(superzone_map.loc[superzone_map.Original_Zones==orig_taz]['SuperZone'].item,superzone_map.loc[superzone_map.Original_Zones==dest_taz]['SuperZone'][0])\n",
    "    return superzone_map[orig_taz]==superzone_map[dest_taz]\n",
    "    \n",
    "def veh_seg_index_creator(x):\n",
    "    return str(int(x[0]))+'_'+str(int(x[1]))\n",
    "\n",
    "def extract_route_from_model_solution(x,T,sorted_trips,visit_candidate_zone,hh_num_trips,expected_arrival_time,expected_leave_time):\n",
    "    #Check the feasibility of the answer\n",
    "    #route_dic store the optimiztion model solution as a dictionary. The keys are the upstream node index and the answer is\n",
    "    #the corresponding downstream node index\n",
    "    hh_id=sorted_trips['hh_id'].iloc[0]\n",
    "    potential_next_node=set(range(1,2*hh_num_trips+1))\n",
    "    route_node=[0]\n",
    "    travelers=[]\n",
    "    vot=[]\n",
    "    activity_time=[]\n",
    "    start_time=[]\n",
    "    origin_arrival_time=[]\n",
    "    dest_arrival_time=[]\n",
    "    orig_node=[]\n",
    "    dest_node=[]\n",
    "    while potential_next_node != set():\n",
    "        for node in potential_next_node: \n",
    "            \n",
    "            if x[route_node[-1],node].x>0.91:\n",
    "                if (route_node[-1]==0): #Initialize the traveler list when it is the depot\n",
    "                    traveler_set=set()\n",
    "                    travelers.extend([0])\n",
    "                    vot.extend([0.01])\n",
    "                    activity_time.extend([0])\n",
    "                elif (route_node[-1]<=hh_num_trips):\n",
    "#                     print(traveler_set,sorted_trips.iloc[route_node[-1]-1]['person_id'])\n",
    "                    traveler_set.add(sorted_trips.iloc[route_node[-1]-1]['person_id'])\n",
    "                    travelers.extend([sorted_trips.iloc[route_node[-1]-1]['person_id']])\n",
    "#                     print(route_node[-1],node,sorted_trips.iloc[route_node[-1]-1]['person_id'],traveler_set)\n",
    "                else:\n",
    "                    traveler_set.remove(sorted_trips.iloc[route_node[-1]-1-hh_num_trips]['person_id'])\n",
    "                    if traveler_set ==set():\n",
    "                        travelers.extend([0])\n",
    "                        vot.extend([0.01])\n",
    "                        activity_time.extend([0])\n",
    "                    else:\n",
    "                        travelers.extend([list(traveler_set)[0]])\n",
    "#                     print(route_node[-1],node,sorted_trips.iloc[route_node[-1]-1-hh_num_trips]['person_id'],traveler_set)\n",
    "#                 print(traveler_set,travelers)\n",
    "    \n",
    "                if traveler_set !=set():\n",
    "        \n",
    "                    vot.extend([sorted_trips[sorted_trips.person_id==travelers[-1]]['value_of_time'].iloc[0]])\n",
    "                    activity_time.extend([max(0,expected_leave_time[node]-expected_arrival_time[node])])\n",
    "#                     vot.extend([sorted_trips.iloc[route_node[-1]-1]['value_of_time']])\n",
    "                start_time.extend([expected_leave_time[route_node[-1]]])\n",
    "                origin_arrival_time.extend([T[route_node[-1]].x])\n",
    "                dest_arrival_time.extend([T[node].x])\n",
    "                orig_node.extend([sorted_trips])\n",
    "                route_node.extend([node])\n",
    "                break\n",
    "        if route_node[-1] in potential_next_node:\n",
    "            potential_next_node.remove(route_node[-1])\n",
    "        else:\n",
    "            potential_next_node=set()\n",
    "            \n",
    "    route=[visit_candidate_zone[x] for x in route_node]\n",
    "    route_info=pd.DataFrame({'orig_zone':route[1:-1],'dest_zone':route[2:],'person_id':travelers[1:],\n",
    "                             'orig_node_index':route_node[1:-1],'dest_node_index':route_node[2:],\n",
    "                             'origin_arrival_time':origin_arrival_time[1:],'dest_arrival_time':dest_arrival_time[1:],\n",
    "                             'value_of_time':vot[1:],'start_time':start_time[1:],'Activity_Time':activity_time[1:],\n",
    "                             'hh_id':np.ones(len(route[1:-1]))*hh_id},\n",
    "                            columns=['orig_zone','dest_zone','orig_node_index','dest_node_index',\n",
    "                                     'person_id','origin_arrival_time','dest_arrival_time','value_of_time'\n",
    "                                     ,'start_time','Activity_Time','hh_id'])\n",
    "    # Drop the trip between a person's current destination and next trips's origin, as those are the same node\n",
    "    route_info=route_info.loc[((route_info.orig_node_index-route_info.dest_node_index!=hh_num_trips-1)\n",
    "                               | (route_info.orig_zone!=route_info.dest_zone)) ] \n",
    "    if not route_info.empty:\n",
    "        route_info=break_route_to_seg(route_info,superzone_map)\n",
    "    \n",
    "    return route_info\n",
    "def find_av_schedule_exact_method(target_hh_id,traveler_trips,Vehicular_Skim,superzone_map,TransitMazTazFlag,WalkSpeed,TransitSkimTimeIntervalLength,Transit_AB_Cost_Skim,Transit_AB_Time_Skim,transit_zone_candidates,three_link_walk,output_flag):\n",
    "    num_hh_member,hh_num_trips,C,TT,sorted_trips,expected_arrival_time,expected_leave_time,early_penalty,late_penalty,early_penalty_threshold,late_penalty_threshold,visit_candidate_zone=extract_hh_information(target_hh_id,traveler_trips,Vehicular_Skim,Transit_AB_Cost_Skim,superzone_map)\n",
    "#     R=estimate_transit_cost(sorted_trips,TransitMazTazFlag,WalkSpeed,TransitSkimTimeIntervalLength,Transit_AB_Cost_Skim,Transit_AB_Time_Skim,transit_zone_candidates,three_link_walk)\n",
    "    R=np.ones(hh_num_trips+1)*150\n",
    "    m1,x,T=dial_n_ride_model(num_hh_member,hh_num_trips,C,TT,sorted_trips,expected_arrival_time,early_penalty,late_penalty,early_penalty_threshold,late_penalty_threshold,R,output_flag)\n",
    "    route_info=extract_route_from_model_solution(x,T,sorted_trips,visit_candidate_zone,hh_num_trips,expected_arrival_time,expected_leave_time)\n",
    "    return route_info\n",
    "\n",
    "def get_route_info_allhh(traveler_trips,output_flag):\n",
    "    '''\n",
    "    This function loops over all the household and find the optimal path for all of them. Return route_infos that \n",
    "    stores all the route related information for all households\n",
    "    \n",
    "    '''\n",
    "    counter=0\n",
    "    route_infos=pd.DataFrame()\n",
    "    row_number=0\n",
    "    for household_id in traveler_trips.hh_id.unique():\n",
    "        row_number=row_number+len(traveler_trips[traveler_trips.hh_id==household_id])\n",
    "        if counter%100==0: \n",
    "            print('Estimate Route for the ',counter,'th household ',datetime.datetime.now())\n",
    "        counter=counter+1\n",
    "        if len(traveler_trips[traveler_trips.hh_id==household_id])<40:\n",
    "#             print(household_id,len(traveler_trips[traveler_trips.hh_id==household_id]),datetime.datetime.now())\n",
    "            route_info=find_av_schedule_exact_method(household_id,traveler_trips,Vehicular_Skim,superzone_map,TransitMazTazFlag,WalkSpeed,TransitSkimTimeIntervalLength,Transit_AB_Cost_Skim,Transit_AB_Time_Skim,transit_zone_candidates,three_link_walk,output_flag)\n",
    "            if not route_info.empty:\n",
    "                route_infos=route_infos.append(route_info)\n",
    "    return  route_infos"
   ]
  },
  {
   "cell_type": "code",
   "execution_count": null,
   "metadata": {
    "collapsed": true
   },
   "outputs": [],
   "source": [
    "def find_av_schedule_partition_heuristic(target_hh_id,traveler_trips,Vehicular_Skim,superzone_map,TransitMazTazFlag,WalkSpeed,TransitSkimTimeIntervalLength,Transit_AB_Cost_Skim,Transit_AB_Time_Skim,transit_zone_candidates,three_link_walk,output_flag):\n",
    "    num_hh_member,hh_num_trips,C,TT,sorted_trips,expected_arrival_time,expected_leave_time,early_penalty,late_penalty,early_penalty_threshold,late_penalty_threshold,visit_candidate_zone=extract_hh_information(target_hh_id,traveler_trips,Vehicular_Skim,Transit_AB_Cost_Skim,superzone_map)\n",
    "#     R=estimate_transit_cost(sorted_trips,TransitMazTazFlag,WalkSpeed,TransitSkimTimeIntervalLength,Transit_AB_Cost_Skim,Transit_AB_Time_Skim,transit_zone_candidates,three_link_walk)\n",
    "    R=np.ones(hh_num_trips+1)*150\n",
    "    m1,x,T=dial_n_ride_model(num_hh_member,hh_num_trips,C,TT,sorted_trips,expected_arrival_time,early_penalty,late_penalty,early_penalty_threshold,late_penalty_threshold,R,output_flag)\n",
    "    route_info=extract_route_from_model_solution(x,T,sorted_trips,visit_candidate_zone,hh_num_trips,expected_arrival_time,expected_leave_time)\n",
    "    return route_info\n"
   ]
  },
  {
   "cell_type": "code",
   "execution_count": 107,
   "metadata": {
    "collapsed": true
   },
   "outputs": [],
   "source": [
    "def read_superzone_info(superzone_filepath):\n",
    "    i=0\n",
    "    origin_flag=0\n",
    "    super_zone_flag=0\n",
    "    origin_zone=[]\n",
    "    superzone=[]\n",
    "    with open(superzone_filepath) as f: \n",
    "        for line in f: \n",
    "            if i==2: \n",
    "                origin_flag=1\n",
    "            if line.split()[0]=='Mapping':\n",
    "                origin_flag=0\n",
    "                super_zone_flag=1\n",
    "            else:\n",
    "                if origin_flag==1:\n",
    "                    origin_zone.extend([int(j) for j in line.split()])\n",
    "                elif super_zone_flag==1:\n",
    "                    superzone.extend([int(j) for j in line.split()])\n",
    "            i=i+1\n",
    "    superzone_info=dict(zip(origin_zone,superzone))\n",
    "    return superzone_info"
   ]
  },
  {
   "cell_type": "code",
   "execution_count": 109,
   "metadata": {
    "collapsed": true
   },
   "outputs": [],
   "source": [
    "superzone_filepath='Input/SuperZone.dat'\n",
    "linktraveltime_filepath='Input/output_td_linktraveltime.dat'\n",
    "superzone_map=read_superzone_info(superzone_filepath)"
   ]
  },
  {
   "cell_type": "code",
   "execution_count": 110,
   "metadata": {
    "collapsed": true
   },
   "outputs": [],
   "source": [
    "origin_path='Input/origin.dat'\n",
    "destination_path='Input/destination.dat'\n",
    "origins,destinations,origin_links=dy.read_origin_destion(origin_path,destination_path)"
   ]
  },
  {
   "cell_type": "code",
   "execution_count": 111,
   "metadata": {
    "collapsed": true
   },
   "outputs": [],
   "source": [
    "def read_link_travel_time(link_travel_time_filepath):\n",
    "    i=0\n",
    "    with open(link_travel_time_filepath) as f:\n",
    "        for line in f:\n",
    "            i=i+1\n",
    "            print(i,len(line),line,line==' ')\n",
    "            if i ==6:\n",
    "                z=line\n",
    "    return z\n",
    "def read_turn_penalty(turn_penalty_filepath):\n",
    "    with open(turn_penalty_filepath) as f:\n",
    "        for line in f:\n",
    "            print(line)\n",
    "    return "
   ]
  },
  {
   "cell_type": "markdown",
   "metadata": {},
   "source": [
    "##### Try to solve the problem for a single household"
   ]
  },
  {
   "cell_type": "code",
   "execution_count": 259,
   "metadata": {
    "scrolled": true
   },
   "outputs": [
    {
     "name": "stdout",
     "output_type": "stream",
     "text": [
      "prepare input for dial n ride model at  2018-03-13 14:00:10.999359\n",
      "-2 -1\n",
      "7933303\n",
      "7933301\n",
      "-1 0\n",
      "7933301\n",
      "7933295\n",
      "0 1\n",
      "7933295\n",
      "7933295\n",
      "1 2\n",
      "7933295\n",
      "7933296\n",
      "2 3\n",
      "7933296\n",
      "7933298\n",
      "3 4\n",
      "7933298\n",
      "7933299\n",
      "4 5\n",
      "7933299\n",
      "7933299\n",
      "5 6\n",
      "7933299\n",
      "7933297\n",
      "6 7\n",
      "7933297\n",
      "7933299\n",
      "7 8\n",
      "7933299\n",
      "7933299\n",
      "8 9\n",
      "7933299\n",
      "7933302\n",
      "9 10\n",
      "7933302\n",
      "7933300\n",
      "10 11\n",
      "7933300\n",
      "7933300\n",
      "11 12\n",
      "7933300\n",
      "7933299\n",
      "12 13\n",
      "7933299\n",
      "7933304\n",
      "13 14\n",
      "7933304\n",
      "7933304\n",
      "14 15\n",
      "7933304\n",
      "7933304\n",
      "15 16\n",
      "7933304\n",
      "7933300\n",
      "16 17\n",
      "7933300\n",
      "7933299\n",
      "17 18\n",
      "7933299\n",
      "7933299\n",
      "18 19\n",
      "7933299\n",
      "7933304\n",
      "19 20\n",
      "7933304\n",
      "7933299\n",
      "20 21\n",
      "7933299\n",
      "7933299\n",
      "21 22\n",
      "7933299\n",
      "7933298\n",
      "22 23\n",
      "7933298\n",
      "7933300\n",
      "23 24\n",
      "7933300\n",
      "7933296\n",
      "24 25\n",
      "7933296\n",
      "7933298\n",
      "25 26\n",
      "7933298\n",
      "7933300\n",
      "26 27\n",
      "7933300\n",
      "7933296\n",
      "27 28\n",
      "7933296\n",
      "7933299\n",
      "28 29\n",
      "7933299\n",
      "7933295\n",
      "29 30\n",
      "7933295\n",
      "7933299\n",
      "30 31\n",
      "7933299\n",
      "7933299\n",
      "31 32\n",
      "7933299\n",
      "7933304\n",
      "32 33\n",
      "7933304\n",
      "7933295\n",
      "33 34\n",
      "7933295\n",
      "7933301\n",
      "34 35\n",
      "7933301\n",
      "7933302\n",
      "35 36\n",
      "7933302\n",
      "7933304\n",
      "36 37\n",
      "7933304\n",
      "7933295\n",
      "37 38\n",
      "7933295\n",
      "7933295\n",
      "38 39\n",
      "7933295\n",
      "7933298\n",
      "39 40\n",
      "7933298\n",
      "7933302\n",
      "40 41\n",
      "7933302\n",
      "7933304\n",
      "41 42\n",
      "7933304\n",
      "7933302\n",
      "42 43\n",
      "7933302\n",
      "7933300\n",
      "43 44\n",
      "7933300\n",
      "7933296\n",
      "44 45\n",
      "7933296\n",
      "7933303\n",
      "45 46\n",
      "7933303\n",
      "7933300\n",
      "46 47\n",
      "7933300\n",
      "7933295\n",
      "47 48\n",
      "7933295\n",
      "7933295\n",
      "48 49\n",
      "7933295\n",
      "7933298\n",
      "49 50\n",
      "7933298\n",
      "7933296\n",
      "50 51\n",
      "7933296\n",
      "7933296\n",
      "51 52\n",
      "7933296\n",
      "7933298\n",
      "52 53\n",
      "7933298\n",
      "7933296\n",
      "53 54\n",
      "7933296\n",
      "7933297\n",
      "54 55\n",
      "7933297\n",
      "7933296\n",
      "55 56\n",
      "7933296\n",
      "7933296\n",
      "56 57\n",
      "7933296\n",
      "7933295\n",
      "57 58\n",
      "7933295\n",
      "7933297\n",
      "58 59\n",
      "7933297\n",
      "7933300\n",
      "59 60\n",
      "7933300\n",
      "7933299\n",
      "60 61\n",
      "7933299\n",
      "7933297\n",
      "61 62\n",
      "7933297\n",
      "7933303\n",
      "62 63\n",
      "7933303\n",
      "7933301\n",
      "start sovling problem at  2018-03-13 14:00:41.143712\n",
      "Parameter OutputFlag unchanged\n",
      "   Value: 1  Min: 0  Max: 1  Default: 1\n",
      "Changed value of parameter TIME_LIMIT to 600.0\n",
      "   Prev: 1e+100  Min: 0.0  Max: 1e+100  Default: 1e+100\n",
      "Optimize a model with 25909 rows, 17160 columns and 210429 nonzeros\n",
      "Variable types: 260 continuous, 16900 integer (16900 binary)\n",
      "Coefficient statistics:\n",
      "  Matrix range     [1e-02, 2e+03]\n",
      "  Objective range  [1e-02, 1e+02]\n",
      "  Bounds range     [1e+00, 1e+00]\n",
      "  RHS range        [1e+00, 1e+05]\n",
      "\n",
      "Loaded MIP start with objective 811.786\n",
      "\n",
      "Presolve removed 8359 rows and 7880 columns\n",
      "Presolve time: 0.73s\n",
      "Presolved: 17550 rows, 9280 columns, 99012 nonzeros\n",
      "Variable types: 259 continuous, 9021 integer (9021 binary)\n",
      "\n",
      "Root relaxation: objective 1.080780e+03, 5337 iterations, 1.75 seconds\n",
      "\n",
      "    Nodes    |    Current Node    |     Objective Bounds      |     Work\n",
      " Expl Unexpl |  Obj  Depth IntInf | Incumbent    BestBd   Gap | It/Node Time\n",
      "\n",
      "     0     0 1080.77966    0  179  811.78642 1080.77966  33.1%     -    4s\n",
      "H    0     0                     822.7193900 1079.03271  31.2%     -   16s\n",
      "     0     0 1075.45383    0  184  822.71939 1075.45383  30.7%     -   16s\n",
      "     0     0 1075.24121    0  205  822.71939 1075.24121  30.7%     -   16s\n",
      "     0     0 1075.24067    0  211  822.71939 1075.24067  30.7%     -   17s\n",
      "     0     0 1073.29418    0  194  822.71939 1073.29418  30.5%     -   17s\n",
      "     0     0 1073.25543    0  192  822.71939 1073.25543  30.5%     -   18s\n",
      "     0     0 1073.25543    0  190  822.71939 1073.25543  30.5%     -   19s\n",
      "     0     0 1073.01043    0  200  822.71939 1073.01043  30.4%     -   19s\n",
      "     0     0 1073.01043    0  199  822.71939 1073.01043  30.4%     -   22s\n",
      "     0     0 1072.73561    0  208  822.71939 1072.73561  30.4%     -   23s\n",
      "     0     0 1072.73471    0  205  822.71939 1072.73471  30.4%     -   23s\n",
      "     0     0 1072.66669    0  201  822.71939 1072.66669  30.4%     -   23s\n",
      "     0     0 1072.66280    0  197  822.71939 1072.66280  30.4%     -   24s\n",
      "     0     0 1072.39311    0  216  822.71939 1072.39311  30.3%     -   24s\n",
      "     0     0 1072.38305    0  213  822.71939 1072.38305  30.3%     -   24s\n",
      "     0     0 1072.38223    0  215  822.71939 1072.38223  30.3%     -   24s\n",
      "     0     0 1072.23498    0  213  822.71939 1072.23498  30.3%     -   25s\n",
      "     0     0 1072.23222    0  213  822.71939 1072.23222  30.3%     -   25s\n",
      "     0     0 1072.17372    0  212  822.71939 1072.17372  30.3%     -   26s\n",
      "     0     0 1072.17098    0  213  822.71939 1072.17098  30.3%     -   26s\n",
      "     0     0 1072.17098    0  213  822.71939 1072.17098  30.3%     -   26s\n",
      "     0     0 1072.15530    0  211  822.71939 1072.15530  30.3%     -   27s\n",
      "     0     0 1072.15530    0  211  822.71939 1072.15530  30.3%     -   27s\n",
      "     0     0 1072.04194    0  211  822.71939 1072.04194  30.3%     -   27s\n",
      "     0     0 1072.04194    0  211  822.71939 1072.04194  30.3%     -   27s\n",
      "     0     0 1072.03113    0  212  822.71939 1072.03113  30.3%     -   28s\n",
      "     0     0 1071.56960    0  189  822.71939 1071.56960  30.2%     -   30s\n",
      "     0     0 1071.35957    0  167  822.71939 1071.35957  30.2%     -   31s\n",
      "     0     0 1071.16630    0  172  822.71939 1071.16630  30.2%     -   32s\n",
      "     0     0 1071.16630    0  170  822.71939 1071.16630  30.2%     -   32s\n",
      "     0     2 1071.16630    0  172  822.71939 1071.16630  30.2%     -   34s\n",
      "     7     7 1033.36965    3  148  822.71939 1071.01522  30.2%  89.3   35s\n",
      "   123   112 1032.51493   16  178  822.71939 1070.63422  30.1%  24.1   58s\n",
      "H  124   113                     838.9562600 1070.63422  27.6%  23.9   58s\n",
      "H  125   114                     965.4135800 1070.63422  10.9%  24.0   58s\n",
      "   131   112 1032.50984   17  171  965.41358 1070.63422  10.9%  23.6   60s\n",
      "   464   385 1015.43261   46  138  965.41358 1070.59640  10.9%  16.9   65s\n",
      "   916   721 1066.88660   41  175  965.41358 1070.48741  10.9%  14.6   70s\n",
      "  1348  1071 1063.97597   77  133  965.41358 1070.48741  10.9%  13.6   75s\n",
      "H 1517  1196                     970.2316200 1070.48741  10.3%  12.8   78s\n",
      "  1518  1197 1052.75210   85  170  970.23162 1070.48741  10.3%  12.8   85s\n",
      "H 1519  1138                     984.4978700 1070.48741  8.73%  12.8  102s\n",
      "  1520  1138 1047.07011   57  171  984.49787 1070.48741  8.73%  12.8  107s\n",
      "  1521  1139 1064.57975   61  162  984.49787 1070.48741  8.73%  12.8  111s\n",
      "  1525  1142 1029.49565   36  187  984.49787 1070.31181  8.72%  12.8  115s\n",
      "  1529  1144 1064.15311   13  235  984.49787 1068.89480  8.57%  12.7  121s\n",
      "  1530  1145 1036.45504   10  209  984.49787 1068.67709  8.55%  12.7  126s\n",
      "  1537  1150 1031.54546   51  266  984.49787 1068.14412  8.50%  12.7  130s\n",
      "  1538  1150 1052.75210   85  238  984.49787 1067.86956  8.47%  12.6  135s\n",
      "  1543  1154 1020.90834   90  256  984.49787 1067.72029  8.45%  12.6  144s\n",
      "  1544  1154 1065.70865   49  253  984.49787 1067.69086  8.45%  12.6  145s\n",
      "  1549  1158 1064.15311   13  235  984.49787 1067.57638  8.44%  12.6  152s\n",
      "  1553  1160 1063.97442   16  261  984.49787 1067.50532  8.43%  12.5  155s\n",
      "  1554  1161 1062.60100   93  241  984.49787 1067.48968  8.43%  12.5  160s\n",
      "  1557  1163 1031.54546   51  255  984.49787 1067.46564  8.43%  12.5  167s\n",
      "  1562  1166 1066.19738   42  247  984.49787 1067.42804  8.42%  12.5  171s\n",
      "  1563  1167 1020.90834   90  234  984.49787 1067.39362  8.42%  12.4  190s\n",
      "  1567  1170 1036.67732   29  240  984.49787 1067.33370  8.41%  12.4  200s\n",
      "  1571  1172 1065.35569   60  259  984.49787 1067.31109  8.41%  12.4  206s\n",
      "  1572  1173 1029.47545   47  259  984.49787 1067.31057  8.41%  12.4  211s\n",
      "  1574  1174 1062.60100   93  253  984.49787 1067.29458  8.41%  12.4  219s\n",
      "  1575  1175 1054.30881   81  247  984.49787 1067.28400  8.41%  12.4  220s\n",
      "  1577  1176 1031.54546   51  256  984.49787 1067.27447  8.41%  12.3  228s\n",
      "  1579  1178 1040.51681   71  258  984.49787 1067.26840  8.41%  12.3  231s\n",
      "  1580  1178 1047.07011   57  249  984.49787 1067.25326  8.41%  12.3  237s\n",
      "  1583  1180 1020.90834   90  262  984.49787 1067.23436  8.40%  12.3  243s\n",
      "  1584  1181 1065.70865   49  249  984.49787 1067.21500  8.40%  12.3  250s\n",
      "  1588  1184 1067.18983   32  251  984.49787 1067.18983  8.40%  12.3  260s\n",
      "H 1590  1124                    1014.5733000 1067.18546  5.19%  12.2  268s\n",
      "  1592  1125 1029.47545   47  265 1014.57330 1067.16059  5.18%  12.2  273s\n",
      "  1593  1126 1063.97442   16  256 1014.57330 1067.15841  5.18%  12.2  279s\n",
      "  1594  1127 1062.60100   93  268 1014.57330 1067.15749  5.18%  12.2  281s\n",
      "  1595  1127 1054.30881   81  261 1014.57330 1067.15724  5.18%  12.2  286s\n",
      "  1597  1129 1031.54546   51  257 1014.57330 1067.15318  5.18%  12.2  291s\n",
      "  1600  1132 1047.07011   57  170 1014.57330 1067.15318  5.18%  22.1  303s\n",
      "H 1601  1076                    1026.0840500 1067.15318  4.00%  22.1  314s\n"
     ]
    },
    {
     "name": "stdout",
     "output_type": "stream",
     "text": [
      "H 1601  1022                    1030.8810500 1067.15318  3.52%  22.1  316s\n",
      "H 1601   971                    1031.8530500 1067.15318  3.42%  22.1  317s\n",
      "  1603   972 1031.85305   90  207 1031.85305 1067.15318  3.42%  22.1  321s\n",
      "  1611   977 1065.35569   60  244 1031.85305 1067.13490  3.42%  22.0  325s\n",
      "  1614   979 1062.60100   93  235 1031.85305 1067.05282  3.41%  22.0  331s\n",
      "  1616   981 1058.25929   59  261 1031.85305 1066.97500  3.40%  21.9  337s\n",
      "  1617   981 1031.85305   51  245 1031.85305 1066.97081  3.40%  21.9  340s\n",
      "  1619   983 1040.51681   71  264 1031.85305 1066.96756  3.40%  21.9  346s\n",
      "  1621   984 1064.57975   61  251 1031.85305 1066.96489  3.40%  21.9  352s\n",
      "  1623   985 1031.85305   90  268 1031.85305 1066.96379  3.40%  21.8  368s\n",
      "  1624   986 1065.70865   49  273 1031.85305 1066.96280  3.40%  21.8  370s\n",
      "H 1625   937                    1041.5338000 1066.95399  2.44%  21.8  377s\n",
      "  1627   938 1041.53380   29  251 1041.53380 1066.95295  2.44%  21.8  381s\n",
      "  1629   939 1064.15311   13  244 1041.53380 1066.94137  2.44%  21.8  389s\n",
      "  1630   940 1041.53380   10  230 1041.53380 1066.91410  2.44%  21.7  392s\n",
      "  1632   941 1041.53380   47  230 1041.53380 1066.91410  2.44%  21.7  395s\n",
      "  1633   944 1060.79744   22  213 1041.53380 1066.91094  2.44%  28.0  406s\n",
      "  1651   958 1060.31856   26  223 1041.53380 1066.60788  2.41%  28.5  410s\n",
      "  1790  1039 1059.80308   35  191 1041.53380 1066.47784  2.39%  29.7  415s\n",
      "H 1937  1077                    1042.2135500 1066.47784  2.33%  30.2  429s\n",
      "H 1938  1028                    1043.9645500 1066.47784  2.16%  30.2  429s\n",
      "  1945  1036 1059.17145   43  179 1043.96455 1066.47784  2.16%  30.1  430s\n",
      "  2154  1126 1057.66147   56  160 1043.96455 1066.47784  2.16%  30.3  435s\n",
      "  2481  1311 1056.39402   76  119 1043.96455 1066.47784  2.16%  28.7  440s\n",
      "  2797  1450 1056.05240   94  106 1043.96455 1066.47784  2.16%  26.9  445s\n",
      "  3181  1582 1051.58757  119  100 1043.96455 1066.47784  2.16%  25.3  451s\n",
      "  3401  1665 1062.61876   34  187 1043.96455 1066.33922  2.14%  25.2  455s\n",
      "  3935  1967 1060.78790   51  150 1043.96455 1066.33922  2.14%  23.9  460s\n",
      "  4324  2203 1063.47931   28  225 1043.96455 1066.08740  2.12%  23.7  465s\n",
      "  4724  2571 1054.89855   86  136 1043.96455 1066.08740  2.12%  23.6  471s\n",
      "  5099  2853 1064.99907   42  217 1043.96455 1066.02738  2.11%  23.2  475s\n",
      "  5354  3061 1053.36892   76  119 1043.96455 1066.02738  2.11%  23.3  481s\n",
      "  5607  3260 1064.93101   43  207 1043.96455 1065.94051  2.11%  23.1  485s\n",
      "  5874  3461     cutoff   67      1043.96455 1065.90109  2.10%  23.0  490s\n",
      "  6322  3807 1056.08112   70  174 1043.96455 1065.86395  2.10%  22.7  495s\n",
      "  6860  4192 1057.79523   35  207 1043.96455 1065.82670  2.09%  22.5  501s\n",
      "  7104  4339 1053.35314   40  180 1043.96455 1065.82670  2.09%  22.7  507s\n",
      "  7394  4610 1048.74821   51  206 1043.96455 1065.82670  2.09%  22.7  511s\n",
      "  7765  4871 infeasible   62      1043.96455 1065.76670  2.09%  22.3  515s\n",
      "  8228  5209 1061.79944   64  221 1043.96455 1065.73367  2.09%  22.2  521s\n",
      "  8542  5453 1065.68412   35  226 1043.96455 1065.73367  2.09%  22.1  525s\n",
      "  9276  6053 1045.70873  123   97 1043.96455 1065.71633  2.08%  21.9  532s\n",
      "  9498  6197 1065.04988   47  223 1043.96455 1065.67055  2.08%  21.8  537s\n",
      "  9930  6553 1045.75141   82  180 1043.96455 1065.62733  2.08%  21.6  542s\n",
      " 10405  6904 1060.38947   60  203 1043.96455 1065.62733  2.08%  21.5  547s\n",
      " 10942  7291 1051.75771  114  132 1043.96455 1065.60047  2.07%  21.3  553s\n",
      " 11543  7730 1065.20160   47  216 1043.96455 1065.60047  2.07%  21.1  556s\n",
      " 11686  7813 1062.94615   61  216 1043.96455 1065.58188  2.07%  21.1  562s\n",
      " 12316  8299 1050.87009   53  208 1043.96455 1065.54481  2.07%  21.0  567s\n",
      " 12867  8756 1065.01347   49  210 1043.96455 1065.52533  2.07%  21.0  573s\n",
      " 13301  9045 1059.81040   35  225 1043.96455 1065.51391  2.06%  21.1  577s\n",
      " 13632  9303 1049.49943   76  200 1043.96455 1065.49761  2.06%  21.1  584s\n",
      " 14357  9870 1055.38091   88  178 1043.96455 1065.48222  2.06%  21.0  588s\n",
      "\n",
      "Cutting planes:\n",
      "  Learned: 15\n",
      "  Gomory: 44\n",
      "  Cover: 34\n",
      "  Clique: 6\n",
      "  MIR: 32\n",
      "  Flow cover: 308\n",
      "  Inf proof: 8\n",
      "  Zero half: 2\n",
      "\n",
      "Explored 14563 nodes (316698 simplex iterations) in 600.24 seconds\n",
      "Thread count was 8 (of 8 available processors)\n",
      "\n",
      "Solution count 10: 1043.96 1042.21 1041.53 ... 965.414\n",
      "\n",
      "Time limit reached\n",
      "Best objective 1.043964550000e+03, best bound 1.065482224646e+03, gap 2.0611%\n",
      "finish solving problem at  2018-03-13 14:10:46.236244\n",
      "extract solution at 2018-03-13 14:10:46.620177\n"
     ]
    }
   ],
   "source": [
    "print('prepare input for dial n ride model at ',datetime.datetime.now())\n",
    "output_flag=1\n",
    "target_hh_id=2287301\n",
    "num_hh_member,hh_num_trips,C,TT,sorted_trips,expected_arrival_time,expected_leave_time,early_penalty,late_penalty,early_penalty_threshold,late_penalty_threshold,visit_candidate_zone=extract_hh_information(target_hh_id,traveler_trips,Vehicular_Skim,Transit_AB_Cost_Skim,superzone_map)\n",
    "# R=estimate_transit_cost(sorted_trips,TransitMazTazFlag,WalkSpeed,TransitSkimTimeIntervalLength,Transit_AB_Cost_Skim,Transit_AB_Time_Skim,transit_zone_candidates,three_link_walk)\n",
    "R=R=np.ones(hh_num_trips+1)*150\n",
    "print('start sovling problem at ',datetime.datetime.now())\n",
    "m1,x,T=dial_n_ride_model(num_hh_member,hh_num_trips,C,TT,sorted_trips,expected_arrival_time,early_penalty,late_penalty,early_penalty_threshold,late_penalty_threshold,R,output_flag)\n",
    "print('finish solving problem at ',datetime.datetime.now())\n",
    "route_info=extract_route_from_model_solution(x,T,sorted_trips,visit_candidate_zone,hh_num_trips,expected_arrival_time,expected_leave_time)\n",
    "print('extract solution at',datetime.datetime.now())"
   ]
  },
  {
   "cell_type": "code",
   "execution_count": null,
   "metadata": {
    "collapsed": true
   },
   "outputs": [],
   "source": [
    "m1,x,T=dial_n_ride_model(num_hh_member,hh_num_trips,C,TT,sorted_trips,expected_arrival_time,early_penalty,late_penalty,early_penalty_threshold,late_penalty_threshold,R,output_flag)"
   ]
  },
  {
   "cell_type": "code",
   "execution_count": 275,
   "metadata": {},
   "outputs": [
    {
     "name": "stdout",
     "output_type": "stream",
     "text": [
      "Convention VHT: \t 163.0 \n",
      "AV driving time: \t 328.5999999999998 \n",
      "AV unoccupied driving_time: \t 62.300000000000004\n"
     ]
    }
   ],
   "source": [
    "# Compare the VHT between convention vehicle and CAV\n",
    "total_convention_vehicle_driving_time=sorted_trips.loc[sorted_trips.tripmode<=6].apply(lambda row: TT[row.hh_index+1,row.hh_index+1+hh_num_trips],axis=1).sum()\n",
    "total_AV_driving_time=route_info.apply(lambda row: TT[row.orig_node_index,row.dest_node_index],axis=1).sum()\n",
    "total_AV_unoccupied_driving_time=route_info.loc[route_info.person_id==0].apply(lambda row: TT[row.orig_zone,row.dest_zone],axis=1).sum()\n",
    "print('Convention VHT: \\t',total_convention_vehicle_driving_time,\n",
    "      '\\nAV driving time: \\t',total_AV_driving_time,\n",
    "      '\\nAV unoccupied driving_time: \\t',total_AV_unoccupied_driving_time)"
   ]
  },
  {
   "cell_type": "code",
   "execution_count": 276,
   "metadata": {},
   "outputs": [
    {
     "name": "stdout",
     "output_type": "stream",
     "text": [
      "Convention VMT: \t 146.66699999999997 \n",
      "AV driving distance: \t 332.72499999999985 \n",
      "AV unoccupied driving_distance: \t 76.65599999999998\n"
     ]
    }
   ],
   "source": [
    "# Compare the VMT between convention vehicle and CAV\n",
    "total_convention_vehicle_driving_distance=sorted_trips.loc[sorted_trips.tripmode<=6].apply(lambda row: Vehicular_Skim.loc[row.orig_taz,superzone_map[row.dest_taz]]['Dist'][0],axis=1).sum()\n",
    "total_AV_driving_distance=route_info.apply(lambda row: Vehicular_Skim.loc[row.orig_zone,superzone_map[row.dest_zone]]['Dist'][0] ,axis=1).sum()\n",
    "total_AV_unoccupied_driving_distance=route_info.loc[route_info.person_id==0].apply(lambda row: Vehicular_Skim.loc[row.orig_zone,superzone_map[row.dest_zone]]['Dist'][0],axis=1).sum()\n",
    "print('Convention VMT: \\t',total_convention_vehicle_driving_distance,\n",
    "      '\\nAV driving distance: \\t',total_AV_driving_distance,\n",
    "      '\\nAV unoccupied driving_distance: \\t',total_AV_unoccupied_driving_distance)"
   ]
  },
  {
   "cell_type": "code",
   "execution_count": 273,
   "metadata": {
    "scrolled": false
   },
   "outputs": [
    {
     "name": "stderr",
     "output_type": "stream",
     "text": [
      "C:\\Users\\xax538\\AppData\\Local\\Continuum\\anaconda3\\lib\\site-packages\\pandas\\core\\indexing.py:337: SettingWithCopyWarning: \n",
      "A value is trying to be set on a copy of a slice from a DataFrame.\n",
      "Try using .loc[row_indexer,col_indexer] = value instead\n",
      "\n",
      "See the caveats in the documentation: http://pandas.pydata.org/pandas-docs/stable/indexing.html#indexing-view-versus-copy\n",
      "  self.obj[key] = _infer_fill_value(value)\n",
      "C:\\Users\\xax538\\AppData\\Local\\Continuum\\anaconda3\\lib\\site-packages\\pandas\\core\\indexing.py:517: SettingWithCopyWarning: \n",
      "A value is trying to be set on a copy of a slice from a DataFrame.\n",
      "Try using .loc[row_indexer,col_indexer] = value instead\n",
      "\n",
      "See the caveats in the documentation: http://pandas.pydata.org/pandas-docs/stable/indexing.html#indexing-view-versus-copy\n",
      "  self.obj[item] = s\n"
     ]
    },
    {
     "data": {
      "text/plain": [
       "([<matplotlib.axis.YTick at 0x223aec37668>,\n",
       "  <matplotlib.axis.YTick at 0x223af1cf7b8>,\n",
       "  <matplotlib.axis.YTick at 0x223af12d668>,\n",
       "  <matplotlib.axis.YTick at 0x223afe2ad30>,\n",
       "  <matplotlib.axis.YTick at 0x223aed5eeb8>,\n",
       "  <matplotlib.axis.YTick at 0x223aec220f0>,\n",
       "  <matplotlib.axis.YTick at 0x223835bc1d0>,\n",
       "  <matplotlib.axis.YTick at 0x223afe11160>,\n",
       "  <matplotlib.axis.YTick at 0x223800e2908>,\n",
       "  <matplotlib.axis.YTick at 0x223800e2278>,\n",
       "  <matplotlib.axis.YTick at 0x223800fed68>,\n",
       "  <matplotlib.axis.YTick at 0x2238039f208>,\n",
       "  <matplotlib.axis.YTick at 0x2238039f4a8>,\n",
       "  <matplotlib.axis.YTick at 0x2238038c518>,\n",
       "  <matplotlib.axis.YTick at 0x223803936d8>,\n",
       "  <matplotlib.axis.YTick at 0x223800fb940>,\n",
       "  <matplotlib.axis.YTick at 0x223800fb4a8>,\n",
       "  <matplotlib.axis.YTick at 0x223803a9f60>,\n",
       "  <matplotlib.axis.YTick at 0x2238038a588>,\n",
       "  <matplotlib.axis.YTick at 0x2238038a7b8>,\n",
       "  <matplotlib.axis.YTick at 0x22380395668>,\n",
       "  <matplotlib.axis.YTick at 0x223aed47b38>,\n",
       "  <matplotlib.axis.YTick at 0x223aed47710>,\n",
       "  <matplotlib.axis.YTick at 0x22380392cf8>,\n",
       "  <matplotlib.axis.YTick at 0x22380392b00>,\n",
       "  <matplotlib.axis.YTick at 0x2238038fc18>,\n",
       "  <matplotlib.axis.YTick at 0x223b09272e8>,\n",
       "  <matplotlib.axis.YTick at 0x223b0927f28>,\n",
       "  <matplotlib.axis.YTick at 0x223b093c4e0>,\n",
       "  <matplotlib.axis.YTick at 0x223b093d2e8>,\n",
       "  <matplotlib.axis.YTick at 0x223b093d0f0>,\n",
       "  <matplotlib.axis.YTick at 0x223b093efd0>,\n",
       "  <matplotlib.axis.YTick at 0x223b094a518>,\n",
       "  <matplotlib.axis.YTick at 0x223806c5b00>,\n",
       "  <matplotlib.axis.YTick at 0x223cf2364e0>,\n",
       "  <matplotlib.axis.YTick at 0x22383c7e7b8>,\n",
       "  <matplotlib.axis.YTick at 0x22383ca1518>,\n",
       "  <matplotlib.axis.YTick at 0x22380696978>,\n",
       "  <matplotlib.axis.YTick at 0x22380696400>,\n",
       "  <matplotlib.axis.YTick at 0x2238039e240>,\n",
       "  <matplotlib.axis.YTick at 0x223c03c8240>,\n",
       "  <matplotlib.axis.YTick at 0x223c03adb38>,\n",
       "  <matplotlib.axis.YTick at 0x223b0925fd0>,\n",
       "  <matplotlib.axis.YTick at 0x223b09257b8>,\n",
       "  <matplotlib.axis.YTick at 0x223aec054a8>,\n",
       "  <matplotlib.axis.YTick at 0x223835a39b0>,\n",
       "  <matplotlib.axis.YTick at 0x223835a3c50>,\n",
       "  <matplotlib.axis.YTick at 0x2238038b358>,\n",
       "  <matplotlib.axis.YTick at 0x2238038b630>],\n",
       " <a list of 49 Text yticklabel objects>)"
      ]
     },
     "execution_count": 273,
     "metadata": {},
     "output_type": "execute_result"
    },
    {
     "data": {
      "image/png": "[encoded data removed]",
      "text/plain": [
       "<matplotlib.figure.Figure at 0x22381ed4240>"
      ]
     },
     "metadata": {},
     "output_type": "display_data"
    }
   ],
   "source": [
    "z=traveler_trips[traveler_trips.hh_id==2287301]\n",
    "z.loc[:,'p_id']=z.groupby(['person_id']).ngroup()\n",
    "z.loc[:,'expected_arrival']=z.starttime+z.travel_time\n",
    "person_id_and_inhouse_p_id_map=dict(zip(z.person_id,z.p_id))\n",
    "person_id_and_inhouse_p_id_map[0]=-1\n",
    "sorted_trips.loc[:,'p_id']=sorted_trips.person_id.apply(lambda x: person_id_and_inhouse_p_id_map[x])\n",
    "route_info['p_id']=route_info.person_id.apply(lambda x: person_id_and_inhouse_p_id_map[x])\n",
    "plt.pyplot.figure(1,figsize=[14,14])\n",
    "plt.pyplot.subplot(121)\n",
    "plt.pyplot.scatter(sorted_trips.person_id.apply(lambda x: person_id_and_inhouse_p_id_map[x]),sorted_trips.starttime)\n",
    "\n",
    "# plt.pyplot.scatter(z.person_id.apply(lambda x: person_id_and_inhouse_p_id_map[x]),z.starttime,marker='o',facecolors='none', edgecolors='r')\n",
    "\n",
    "# plt.pyplot.plot(route_info.loc[(route_info.p_id!=-1) & (route_info.orig_node_index<1+hh_num_trips),'p_id'],\n",
    "#                 route_info.loc[(route_info.p_id!=-1) & (route_info.orig_node_index<1+hh_num_trips),'start_time']\n",
    "#                )\n",
    "plt.pyplot.scatter(sorted_trips.loc[(sorted_trips.tripmode<=6),'p_id'],\n",
    "                   sorted_trips.loc[(sorted_trips.tripmode<=6),'starttime'],\n",
    "                   c='r')\n",
    "plt.pyplot.xlabel('Traveler Index')\n",
    "plt.pyplot.ylabel('Time')\n",
    "plt.pyplot.grid()\n",
    "plt.pyplot.xticks(np.arange(min(sorted_trips.p_id), max(sorted_trips.p_id)+1, 1))\n",
    "plt.pyplot.yticks(np.arange(0,1441,30))\n",
    "plt.pyplot.subplot(122)\n",
    "# plt.pyplot.scatter(sorted_trips.person_id.apply(lambda x: person_id_and_inhouse_p_id_map[x]),sorted_trips.starttime)\n",
    "# plt.pyplot.scatter(sorted_trips.loc[(sorted_trips.tripmode<=6),'p_id'],\n",
    "#                    sorted_trips.loc[(sorted_trips.tripmode<=6),'starttime'],\n",
    "#                    c='r')\n",
    "\n",
    "plt.pyplot.scatter(route_info.loc[(route_info.p_id!=-1) & (route_info.orig_node_index<=1+hh_num_trips),'p_id'],\n",
    "                route_info.loc[(route_info.p_id!=-1) & (route_info.orig_node_index<=1+hh_num_trips),'origin_arrival_time'])\n",
    "plt.pyplot.plot(route_info.loc[(route_info.p_id!=-1) & (route_info.orig_node_index<=1+hh_num_trips),'p_id'],\n",
    "                route_info.loc[(route_info.p_id!=-1) & (route_info.orig_node_index<=1+hh_num_trips),'origin_arrival_time'])\n",
    "plt.pyplot.xlabel('Traveler Index')\n",
    "plt.pyplot.ylabel('Time')\n",
    "plt.pyplot.grid()\n",
    "plt.pyplot.xticks(np.arange(min(sorted_trips.p_id), max(sorted_trips.p_id)+1, 1))\n",
    "plt.pyplot.yticks(np.arange(0,1441,30))"
   ]
  },
  {
   "cell_type": "code",
   "execution_count": null,
   "metadata": {
    "collapsed": true
   },
   "outputs": [],
   "source": [
    "print('start sovling problem at ',datetime.datetime.now())\n",
    "output_flag=0\n",
    "target_hh_id=3578994\n",
    "num_hh_member,hh_num_trips,C,TT,sorted_trips,expected_arrival_time,expected_leave_time,early_penalty,late_penalty,visit_candidate_zone=extract_hh_information(target_hh_id,traveler_trips,Vehicular_Skim,Transit_AB_Cost_Skim,superzone_map)\n",
    "R=[150]*(hh_num_trips+1)\n",
    "m1,x,T=dial_n_ride_model(num_hh_member,hh_num_trips,C,sorted_trips,expected_arrival_time,early_penalty,late_penalty,R,output_flag)\n",
    "route_info1=extract_route_from_model_solution(x,T,sorted_trips,visit_candidate_zone,hh_num_trips,expected_arrival_time,expected_leave_time)\n",
    "print('finish solving problem at ',datetime.datetime.now())"
   ]
  },
  {
   "cell_type": "code",
   "execution_count": null,
   "metadata": {
    "collapsed": true
   },
   "outputs": [],
   "source": [
    "route_info"
   ]
  },
  {
   "cell_type": "code",
   "execution_count": null,
   "metadata": {
    "collapsed": true
   },
   "outputs": [],
   "source": [
    "route_info1"
   ]
  },
  {
   "cell_type": "markdown",
   "metadata": {},
   "source": [
    "##### Solve the problem for all households"
   ]
  },
  {
   "cell_type": "code",
   "execution_count": 117,
   "metadata": {
    "scrolled": true
   },
   "outputs": [
    {
     "name": "stdout",
     "output_type": "stream",
     "text": [
      "Estimate Route for the  0 th household  2018-03-06 15:20:51.182939\n",
      "Estimate Route for the  100 th household  2018-03-06 15:27:45.101253\n",
      "Estimate Route for the  200 th household  2018-03-06 15:40:04.541030\n",
      "Estimate Route for the  300 th household  2018-03-06 16:03:09.357795\n",
      "Estimate Route for the  400 th household  2018-03-06 16:25:22.770115\n",
      "Estimate Route for the  500 th household  2018-03-06 16:35:06.631290\n",
      "Estimate Route for the  600 th household  2018-03-06 16:46:16.836477\n",
      "Estimate Route for the  700 th household  2018-03-06 17:03:29.136531\n",
      "Estimate Route for the  800 th household  2018-03-06 17:11:51.560097\n",
      "Estimate Route for the  900 th household  2018-03-06 17:20:56.963808\n",
      "Estimate Route for the  1000 th household  2018-03-06 17:33:16.480898\n",
      "Estimate Route for the  1100 th household  2018-03-06 17:40:31.276433\n",
      "Estimate Route for the  1200 th household  2018-03-06 17:49:10.306086\n",
      "Estimate Route for the  1300 th household  2018-03-06 17:57:41.210770\n",
      "Estimate Route for the  1400 th household  2018-03-06 18:05:37.553692\n",
      "Estimate Route for the  1500 th household  2018-03-06 18:15:53.602464\n",
      "Estimate Route for the  1600 th household  2018-03-06 18:28:14.762714\n",
      "Estimate Route for the  1700 th household  2018-03-06 18:35:49.186235\n",
      "Estimate Route for the  1800 th household  2018-03-06 18:45:41.219317\n",
      "Estimate Route for the  1900 th household  2018-03-06 18:55:08.127304\n",
      "Estimate Route for the  2000 th household  2018-03-06 19:05:41.113628\n",
      "Estimate Route for the  2100 th household  2018-03-06 19:14:04.474554\n",
      "Estimate Route for the  2200 th household  2018-03-06 19:30:22.883819\n",
      "Estimate Route for the  2300 th household  2018-03-06 19:37:50.791446\n",
      "Estimate Route for the  2400 th household  2018-03-06 19:48:01.480827\n",
      "Estimate Route for the  2500 th household  2018-03-06 20:08:48.281542\n",
      "Estimate Route for the  2600 th household  2018-03-06 20:17:37.470671\n",
      "Estimate Route for the  2700 th household  2018-03-06 20:30:28.645551\n",
      "Estimate Route for the  2800 th household  2018-03-06 20:42:28.289726\n",
      "Estimate Route for the  2900 th household  2018-03-06 20:54:01.823115\n",
      "Estimate Route for the  3000 th household  2018-03-06 21:00:26.558672\n",
      "Estimate Route for the  3100 th household  2018-03-06 21:09:23.060324\n",
      "Estimate Route for the  3200 th household  2018-03-06 21:24:40.985027\n",
      "Estimate Route for the  3300 th household  2018-03-06 21:34:50.893155\n",
      "Estimate Route for the  3400 th household  2018-03-06 21:50:47.802351\n",
      "Estimate Route for the  3500 th household  2018-03-06 22:02:34.382652\n",
      "Estimate Route for the  3600 th household  2018-03-06 22:21:24.729884\n",
      "Estimate Route for the  3700 th household  2018-03-06 22:28:12.137389\n",
      "Estimate Route for the  3800 th household  2018-03-06 22:34:19.609241\n",
      "Estimate Route for the  3900 th household  2018-03-06 22:43:30.235929\n",
      "Estimate Route for the  4000 th household  2018-03-06 23:10:06.006477\n",
      "Estimate Route for the  4100 th household  2018-03-06 23:17:36.898482\n",
      "Estimate Route for the  4200 th household  2018-03-06 23:26:02.806290\n",
      "Estimate Route for the  4300 th household  2018-03-06 23:34:57.261061\n",
      "Estimate Route for the  4400 th household  2018-03-06 23:43:05.246939\n",
      "Estimate Route for the  4500 th household  2018-03-06 23:58:39.765442\n",
      "Estimate Route for the  4600 th household  2018-03-07 00:11:14.924017\n",
      "Estimate Route for the  4700 th household  2018-03-07 00:28:51.802281\n",
      "Estimate Route for the  4800 th household  2018-03-07 00:43:55.635144\n",
      "Estimate Route for the  4900 th household  2018-03-07 01:11:16.843324\n",
      "Estimate Route for the  5000 th household  2018-03-07 01:17:31.906978\n",
      "Estimate Route for the  5100 th household  2018-03-07 01:28:25.893368\n",
      "Estimate Route for the  5200 th household  2018-03-07 01:34:00.972524\n",
      "Estimate Route for the  5300 th household  2018-03-07 01:49:52.803581\n",
      "Estimate Route for the  5400 th household  2018-03-07 01:58:09.992612\n",
      "Estimate Route for the  5500 th household  2018-03-07 02:17:32.902453\n",
      "Estimate Route for the  5600 th household  2018-03-07 02:27:14.773042\n",
      "Estimate Route for the  5700 th household  2018-03-07 02:34:18.524618\n",
      "Estimate Route for the  5800 th household  2018-03-07 02:38:52.473423\n",
      "Estimate Route for the  5900 th household  2018-03-07 02:46:43.604888\n",
      "Estimate Route for the  6000 th household  2018-03-07 02:51:07.230700\n",
      "Estimate Route for the  6100 th household  2018-03-07 02:56:33.184829\n",
      "Estimate Route for the  6200 th household  2018-03-07 03:04:50.920745\n",
      "Estimate Route for the  6300 th household  2018-03-07 03:10:06.687342\n",
      "Estimate Route for the  6400 th household  2018-03-07 03:17:20.048043\n",
      "Estimate Route for the  6500 th household  2018-03-07 03:25:22.346405\n",
      "Estimate Route for the  6600 th household  2018-03-07 03:32:38.863374\n",
      "Estimate Route for the  6700 th household  2018-03-07 03:39:39.849045\n",
      "Estimate Route for the  6800 th household  2018-03-07 03:46:49.850372\n",
      "Estimate Route for the  6900 th household  2018-03-07 03:58:36.463334\n",
      "Estimate Route for the  7000 th household  2018-03-07 04:04:05.418022\n",
      "Estimate Route for the  7100 th household  2018-03-07 04:10:40.825489\n",
      "Estimate Route for the  7200 th household  2018-03-07 04:18:06.545611\n",
      "Estimate Route for the  7300 th household  2018-03-07 04:22:06.280726\n",
      "Estimate Route for the  7400 th household  2018-03-07 04:28:32.500664\n",
      "Estimate Route for the  7500 th household  2018-03-07 04:35:10.048764\n",
      "Estimate Route for the  7600 th household  2018-03-07 04:52:04.551894\n",
      "Estimate Route for the  7700 th household  2018-03-07 05:11:21.305452\n",
      "Estimate Route for the  7800 th household  2018-03-07 05:19:31.478835\n",
      "Estimate Route for the  7900 th household  2018-03-07 05:26:10.982032\n",
      "Estimate Route for the  8000 th household  2018-03-07 05:31:22.404863\n",
      "Estimate Route for the  8100 th household  2018-03-07 05:36:03.140103\n",
      "Estimate Route for the  8200 th household  2018-03-07 06:04:58.286079\n",
      "Estimate Route for the  8300 th household  2018-03-07 06:21:43.304792\n",
      "Estimate Route for the  8400 th household  2018-03-07 06:37:15.010786\n",
      "Estimate Route for the  8500 th household  2018-03-07 06:55:57.453706\n",
      "Estimate Route for the  8600 th household  2018-03-07 07:09:09.581151\n",
      "Estimate Route for the  8700 th household  2018-03-07 07:23:12.224365\n",
      "Estimate Route for the  8800 th household  2018-03-07 07:28:08.819029\n",
      "Estimate Route for the  8900 th household  2018-03-07 07:35:59.945480\n",
      "Estimate Route for the  9000 th household  2018-03-07 08:01:25.575187\n",
      "Estimate Route for the  9100 th household  2018-03-07 08:08:58.982825\n",
      "Estimate Route for the  9200 th household  2018-03-07 08:16:07.017358\n",
      "Estimate Route for the  9300 th household  2018-03-07 08:20:44.971338\n",
      "Estimate Route for the  9400 th household  2018-03-07 08:35:35.442830\n",
      "Estimate Route for the  9500 th household  2018-03-07 08:40:01.334282\n",
      "Estimate Route for the  9600 th household  2018-03-07 08:52:45.274126\n",
      "Estimate Route for the  9700 th household  2018-03-07 09:00:29.806818\n",
      "Estimate Route for the  9800 th household  2018-03-07 09:11:19.902563\n",
      "Estimate Route for the  9900 th household  2018-03-07 09:17:14.309902\n",
      "Estimate Route for the  10000 th household  2018-03-07 09:22:45.076544\n",
      "Estimate Route for the  10100 th household  2018-03-07 09:31:04.344125\n",
      "Estimate Route for the  10200 th household  2018-03-07 09:50:24.286742\n",
      "Estimate Route for the  10300 th household  2018-03-07 09:55:19.490777\n",
      "Estimate Route for the  10400 th household  2018-03-07 09:59:51.882240\n",
      "Estimate Route for the  10500 th household  2018-03-07 10:04:11.742416\n",
      "Estimate Route for the  10600 th household  2018-03-07 10:07:50.852466\n",
      "Estimate Route for the  10700 th household  2018-03-07 10:13:07.478440\n",
      "Estimate Route for the  10800 th household  2018-03-07 10:17:09.822937\n",
      "Estimate Route for the  10900 th household  2018-03-07 10:24:31.808679\n",
      "Estimate Route for the  11000 th household  2018-03-07 10:30:34.512915\n",
      "Estimate Route for the  11100 th household  2018-03-07 10:42:02.233787\n",
      "Estimate Route for the  11200 th household  2018-03-07 10:47:17.687880\n",
      "Estimate Route for the  11300 th household  2018-03-07 10:53:06.282710\n",
      "Estimate Route for the  11400 th household  2018-03-07 10:57:30.706376\n",
      "Estimate Route for the  11500 th household  2018-03-07 11:18:19.211201\n",
      "Estimate Route for the  11600 th household  2018-03-07 11:22:59.602689\n"
     ]
    },
    {
     "name": "stdout",
     "output_type": "stream",
     "text": [
      "Estimate Route for the  11700 th household  2018-03-07 11:31:10.975127\n",
      "Estimate Route for the  11800 th household  2018-03-07 11:39:50.632980\n",
      "Estimate Route for the  11900 th household  2018-03-07 11:43:09.745300\n",
      "Estimate Route for the  12000 th household  2018-03-07 11:47:05.265462\n",
      "Estimate Route for the  12100 th household  2018-03-07 11:52:48.080610\n",
      "Estimate Route for the  12200 th household  2018-03-07 11:57:34.893993\n",
      "Estimate Route for the  12300 th household  2018-03-07 12:03:45.645134\n",
      "Estimate Route for the  12400 th household  2018-03-07 12:09:21.083668\n",
      "Estimate Route for the  12500 th household  2018-03-07 12:13:41.943846\n",
      "Estimate Route for the  12600 th household  2018-03-07 12:17:32.178930\n",
      "Estimate Route for the  12700 th household  2018-03-07 12:21:57.570372\n",
      "Estimate Route for the  12800 th household  2018-03-07 12:26:44.258756\n",
      "Estimate Route for the  12900 th household  2018-03-07 12:32:42.525492\n",
      "Estimate Route for the  13000 th household  2018-03-07 12:42:34.871058\n",
      "Estimate Route for the  13100 th household  2018-03-07 12:46:12.527978\n",
      "Estimate Route for the  13200 th household  2018-03-07 12:59:56.876230\n",
      "Estimate Route for the  13300 th household  2018-03-07 13:07:19.924473\n",
      "Estimate Route for the  13400 th household  2018-03-07 13:12:17.612886\n",
      "Estimate Route for the  13500 th household  2018-03-07 13:17:00.551258\n",
      "Estimate Route for the  13600 th household  2018-03-07 13:31:20.507031\n",
      "Estimate Route for the  13700 th household  2018-03-07 13:35:53.976632\n",
      "Estimate Route for the  13800 th household  2018-03-07 13:39:18.242877\n",
      "Estimate Route for the  13900 th household  2018-03-07 13:42:31.180972\n",
      "Estimate Route for the  14000 th household  2018-03-07 13:46:43.353623\n",
      "Estimate Route for the  14100 th household  2018-03-07 14:00:40.856202\n",
      "Estimate Route for the  14200 th household  2018-03-07 14:04:52.778856\n",
      "Estimate Route for the  14300 th household  2018-03-07 14:09:57.046911\n",
      "Estimate Route for the  14400 th household  2018-03-07 14:16:49.798650\n",
      "Estimate Route for the  14500 th household  2018-03-07 14:23:42.331176\n",
      "Estimate Route for the  14600 th household  2018-03-07 14:28:28.878928\n",
      "Estimate Route for the  14700 th household  2018-03-07 14:32:42.535965\n",
      "Estimate Route for the  14800 th household  2018-03-07 14:38:31.349533\n",
      "Estimate Route for the  14900 th household  2018-03-07 14:42:44.459697\n",
      "Estimate Route for the  15000 th household  2018-03-07 14:49:16.320269\n",
      "Estimate Route for the  15100 th household  2018-03-07 14:54:40.321267\n",
      "Estimate Route for the  15200 th household  2018-03-07 15:08:56.370779\n",
      "Estimate Route for the  15300 th household  2018-03-07 15:11:50.011938\n",
      "Estimate Route for the  15400 th household  2018-03-07 15:20:48.576097\n",
      "Estimate Route for the  15500 th household  2018-03-07 15:26:20.032207\n",
      "Estimate Route for the  15600 th household  2018-03-07 15:31:04.408082\n",
      "Estimate Route for the  15700 th household  2018-03-07 15:41:48.910067\n",
      "Estimate Route for the  15800 th household  2018-03-07 15:49:50.724051\n",
      "Estimate Route for the  15900 th household  2018-03-07 16:02:15.757595\n",
      "Estimate Route for the  16000 th household  2018-03-07 16:06:08.836438\n",
      "Estimate Route for the  16100 th household  2018-03-07 16:09:45.633980\n",
      "Estimate Route for the  16200 th household  2018-03-07 16:15:04.666213\n",
      "Estimate Route for the  16300 th household  2018-03-07 16:28:31.731199\n",
      "Estimate Route for the  16400 th household  2018-03-07 16:31:55.294335\n",
      "Estimate Route for the  16500 th household  2018-03-07 16:35:21.826212\n",
      "Estimate Route for the  16600 th household  2018-03-07 16:38:36.374654\n",
      "Estimate Route for the  16700 th household  2018-03-07 16:42:51.157684\n",
      "Estimate Route for the  16800 th household  2018-03-07 16:46:06.892661\n",
      "Estimate Route for the  16900 th household  2018-03-07 16:51:39.893687\n",
      "Estimate Route for the  17000 th household  2018-03-07 16:55:24.456879\n",
      "Estimate Route for the  17100 th household  2018-03-07 17:07:20.990335\n",
      "Estimate Route for the  17200 th household  2018-03-07 17:12:05.772463\n",
      "Estimate Route for the  17300 th household  2018-03-07 17:15:23.069945\n",
      "Estimate Route for the  17400 th household  2018-03-07 17:20:20.477118\n",
      "Estimate Route for the  17500 th household  2018-03-07 17:33:41.562633\n",
      "Estimate Route for the  17600 th household  2018-03-07 17:37:14.969540\n",
      "Estimate Route for the  17700 th household  2018-03-07 17:49:56.520253\n",
      "Estimate Route for the  17800 th household  2018-03-07 17:54:49.068506\n",
      "Estimate Route for the  17900 th household  2018-03-07 17:58:04.209726\n",
      "Estimate Route for the  18000 th household  2018-03-07 18:02:47.273105\n",
      "Estimate Route for the  18100 th household  2018-03-07 18:05:27.804842\n",
      "Estimate Route for the  18200 th household  2018-03-07 18:09:07.102392\n",
      "Estimate Route for the  18300 th household  2018-03-07 18:13:44.696997\n",
      "Estimate Route for the  18400 th household  2018-03-07 18:19:32.885569\n",
      "Estimate Route for the  18500 th household  2018-03-07 18:25:32.292926\n",
      "Estimate Route for the  18600 th household  2018-03-07 18:29:46.778085\n",
      "Estimate Route for the  18700 th household  2018-03-07 18:44:19.780781\n",
      "Estimate Route for the  18800 th household  2018-03-07 18:47:35.922003\n",
      "Estimate Route for the  18900 th household  2018-03-07 19:00:38.893164\n",
      "Estimate Route for the  19000 th household  2018-03-07 19:04:11.801269\n",
      "Estimate Route for the  19100 th household  2018-03-07 19:10:04.912495\n",
      "Estimate Route for the  19200 th household  2018-03-07 19:14:17.366403\n",
      "Estimate Route for the  19300 th household  2018-03-07 19:18:46.351607\n",
      "Estimate Route for the  19400 th household  2018-03-07 19:24:55.790239\n",
      "Estimate Route for the  19500 th household  2018-03-07 19:28:03.587692\n",
      "Estimate Route for the  19600 th household  2018-03-07 19:30:53.338223\n",
      "Estimate Route for the  19700 th household  2018-03-07 19:33:19.854291\n",
      "Estimate Route for the  19800 th household  2018-03-07 19:37:00.636221\n",
      "Estimate Route for the  19900 th household  2018-03-07 19:53:45.623692\n",
      "Estimate Route for the  20000 th household  2018-03-07 20:00:20.203031\n",
      "Estimate Route for the  20100 th household  2018-03-07 20:03:16.844201\n",
      "Estimate Route for the  20200 th household  2018-03-07 20:06:10.922861\n",
      "Estimate Route for the  20300 th household  2018-03-07 20:09:13.501550\n",
      "Estimate Route for the  20400 th household  2018-03-07 20:11:45.564517\n",
      "Estimate Route for the  20500 th household  2018-03-07 20:15:29.580832\n",
      "Estimate Route for the  20600 th household  2018-03-07 20:20:18.052103\n",
      "Estimate Route for the  20700 th household  2018-03-07 20:29:44.897929\n",
      "Estimate Route for the  20800 th household  2018-03-07 20:32:41.576106\n",
      "Estimate Route for the  20900 th household  2018-03-07 20:36:08.082901\n",
      "Estimate Route for the  21000 th household  2018-03-07 20:38:43.100018\n",
      "Estimate Route for the  21100 th household  2018-03-07 20:42:47.960729\n",
      "Estimate Route for the  21200 th household  2018-03-07 20:45:34.883118\n",
      "Estimate Route for the  21300 th household  2018-03-07 20:48:47.320651\n",
      "Estimate Route for the  21400 th household  2018-03-07 20:52:32.929331\n",
      "Estimate Route for the  21500 th household  2018-03-07 20:55:18.241329\n",
      "Estimate Route for the  21600 th household  2018-03-07 20:58:18.600142\n",
      "Estimate Route for the  21700 th household  2018-03-07 21:01:11.086874\n",
      "Estimate Route for the  21800 th household  2018-03-07 21:03:35.492594\n",
      "Estimate Route for the  21900 th household  2018-03-07 21:16:22.224608\n",
      "Estimate Route for the  22000 th household  2018-03-07 21:21:00.583128\n",
      "Estimate Route for the  22100 th household  2018-03-07 21:23:47.098240\n",
      "Estimate Route for the  22200 th household  2018-03-07 21:26:00.879076\n",
      "Estimate Route for the  22300 th household  2018-03-07 21:30:09.565810\n",
      "Estimate Route for the  22400 th household  2018-03-07 21:32:28.018580\n",
      "Estimate Route for the  22500 th household  2018-03-07 21:45:09.145927\n",
      "Estimate Route for the  22600 th household  2018-03-07 21:48:30.771544\n",
      "Estimate Route for the  22700 th household  2018-03-07 21:53:17.147426\n",
      "Estimate Route for the  22800 th household  2018-03-07 21:56:28.898020\n",
      "Estimate Route for the  22900 th household  2018-03-07 21:59:27.320441\n",
      "Estimate Route for the  23000 th household  2018-03-07 22:03:46.071241\n",
      "Estimate Route for the  23100 th household  2018-03-07 22:06:28.040487\n",
      "Estimate Route for the  23200 th household  2018-03-07 22:12:16.588435\n"
     ]
    },
    {
     "name": "stdout",
     "output_type": "stream",
     "text": [
      "Estimate Route for the  23300 th household  2018-03-07 22:25:00.106412\n",
      "Estimate Route for the  23400 th household  2018-03-07 22:27:28.763120\n",
      "Estimate Route for the  23500 th household  2018-03-07 22:29:31.169750\n",
      "Estimate Route for the  23600 th household  2018-03-07 22:32:25.357790\n",
      "Estimate Route for the  23700 th household  2018-03-07 22:34:31.530054\n",
      "Estimate Route for the  23800 th household  2018-03-07 22:37:26.546213\n",
      "Estimate Route for the  23900 th household  2018-03-07 22:39:26.921588\n",
      "Estimate Route for the  24000 th household  2018-03-07 22:41:54.578286\n",
      "Estimate Route for the  24100 th household  2018-03-07 22:44:42.000677\n",
      "Estimate Route for the  24200 th household  2018-03-07 22:46:47.829189\n",
      "Estimate Route for the  24300 th household  2018-03-07 22:49:02.345230\n",
      "Estimate Route for the  24400 th household  2018-03-07 23:01:05.769331\n",
      "Estimate Route for the  24500 th household  2018-03-07 23:03:51.988593\n",
      "Estimate Route for the  24600 th household  2018-03-07 23:06:01.051491\n",
      "Estimate Route for the  24700 th household  2018-03-07 23:07:51.958082\n",
      "Estimate Route for the  24800 th household  2018-03-07 23:10:11.411637\n",
      "Estimate Route for the  24900 th household  2018-03-07 23:12:40.302877\n",
      "Estimate Route for the  25000 th household  2018-03-07 23:14:56.647939\n",
      "Estimate Route for the  25100 th household  2018-03-07 23:17:10.321107\n",
      "Estimate Route for the  25200 th household  2018-03-07 23:19:42.493484\n",
      "Estimate Route for the  25300 th household  2018-03-07 23:23:21.587909\n",
      "Estimate Route for the  25400 th household  2018-03-07 23:25:12.635126\n",
      "Estimate Route for the  25500 th household  2018-03-07 23:26:56.807321\n",
      "Estimate Route for the  25600 th household  2018-03-07 23:29:07.682724\n",
      "Estimate Route for the  25700 th household  2018-03-07 23:31:23.745644\n",
      "Estimate Route for the  25800 th household  2018-03-07 23:43:22.638483\n",
      "Estimate Route for the  25900 th household  2018-03-07 23:45:09.779442\n",
      "Estimate Route for the  26000 th household  2018-03-07 23:47:24.357985\n",
      "Estimate Route for the  26100 th household  2018-03-07 23:49:09.545801\n",
      "Estimate Route for the  26200 th household  2018-03-07 23:51:27.014975\n",
      "Estimate Route for the  26300 th household  2018-03-07 23:53:09.343416\n",
      "Estimate Route for the  26400 th household  2018-03-07 23:55:12.906295\n",
      "Estimate Route for the  26500 th household  2018-03-07 23:57:07.016025\n",
      "Estimate Route for the  26600 th household  2018-03-07 23:59:00.969497\n",
      "Estimate Route for the  26700 th household  2018-03-08 00:00:51.110462\n",
      "Estimate Route for the  26800 th household  2018-03-08 00:03:01.954615\n",
      "Estimate Route for the  26900 th household  2018-03-08 00:04:48.454943\n",
      "Estimate Route for the  27000 th household  2018-03-08 00:06:36.158407\n",
      "Estimate Route for the  27100 th household  2018-03-08 00:08:17.080585\n",
      "Estimate Route for the  27200 th household  2018-03-08 00:10:05.487169\n",
      "Estimate Route for the  27300 th household  2018-03-08 00:11:56.143760\n",
      "Estimate Route for the  27400 th household  2018-03-08 00:13:46.628475\n",
      "Estimate Route for the  27500 th household  2018-03-08 00:15:18.378758\n",
      "Estimate Route for the  27600 th household  2018-03-08 00:17:06.613466\n",
      "Estimate Route for the  27700 th household  2018-03-08 00:19:21.129506\n",
      "Estimate Route for the  27800 th household  2018-03-08 00:20:48.286026\n",
      "Estimate Route for the  27900 th household  2018-03-08 00:22:25.067572\n",
      "Estimate Route for the  28000 th household  2018-03-08 00:23:57.349108\n",
      "Estimate Route for the  28100 th household  2018-03-08 00:25:29.411890\n",
      "Estimate Route for the  28200 th household  2018-03-08 00:27:01.318423\n",
      "Estimate Route for the  28300 th household  2018-03-08 00:28:31.053074\n",
      "Estimate Route for the  28400 th household  2018-03-08 00:30:06.068991\n",
      "Estimate Route for the  28500 th household  2018-03-08 00:32:27.116301\n",
      "Estimate Route for the  28600 th household  2018-03-08 00:33:51.960312\n",
      "Estimate Route for the  28700 th household  2018-03-08 00:35:21.210587\n",
      "Estimate Route for the  28800 th household  2018-03-08 00:36:54.320249\n",
      "Estimate Route for the  28900 th household  2018-03-08 00:38:19.945512\n",
      "Estimate Route for the  29000 th household  2018-03-08 00:39:47.633283\n",
      "Estimate Route for the  29100 th household  2018-03-08 00:41:13.742923\n",
      "Estimate Route for the  29200 th household  2018-03-08 00:42:33.055667\n",
      "Estimate Route for the  29300 th household  2018-03-08 00:43:52.087160\n",
      "Estimate Route for the  29400 th household  2018-03-08 00:45:14.868666\n",
      "Estimate Route for the  29500 th household  2018-03-08 00:46:36.009540\n",
      "Estimate Route for the  29600 th household  2018-03-08 00:48:03.009808\n",
      "Estimate Route for the  29700 th household  2018-03-08 00:49:23.869432\n",
      "Estimate Route for the  29800 th household  2018-03-08 00:50:45.322808\n",
      "Estimate Route for the  29900 th household  2018-03-08 00:52:02.901172\n",
      "Estimate Route for the  30000 th household  2018-03-08 00:53:15.979522\n",
      "Estimate Route for the  30100 th household  2018-03-08 00:54:28.885997\n",
      "Estimate Route for the  30200 th household  2018-03-08 00:55:37.136207\n",
      "Estimate Route for the  30300 th household  2018-03-08 00:56:50.433308\n",
      "Estimate Route for the  30400 th household  2018-03-08 00:58:00.027273\n",
      "Estimate Route for the  30500 th household  2018-03-08 00:59:15.230628\n",
      "Estimate Route for the  30600 th household  2018-03-08 01:00:28.215231\n",
      "Estimate Route for the  30700 th household  2018-03-08 01:01:34.402932\n",
      "Estimate Route for the  30800 th household  2018-03-08 01:02:45.512526\n",
      "Estimate Route for the  30900 th household  2018-03-08 01:03:54.481488\n",
      "Estimate Route for the  31000 th household  2018-03-08 01:05:03.497326\n",
      "Estimate Route for the  31100 th household  2018-03-08 01:06:07.966274\n",
      "Estimate Route for the  31200 th household  2018-03-08 01:07:12.232097\n",
      "Estimate Route for the  31300 th household  2018-03-08 01:08:17.998328\n",
      "Estimate Route for the  31400 th household  2018-03-08 01:09:21.170810\n",
      "Estimate Route for the  31500 th household  2018-03-08 01:10:20.296379\n",
      "Estimate Route for the  31600 th household  2018-03-08 01:11:21.687595\n",
      "Estimate Route for the  31700 th household  2018-03-08 01:12:24.735023\n",
      "Estimate Route for the  31800 th household  2018-03-08 01:13:28.485219\n",
      "Estimate Route for the  31900 th household  2018-03-08 01:14:29.391657\n",
      "Estimate Route for the  32000 th household  2018-03-08 01:15:29.016848\n",
      "Estimate Route for the  32100 th household  2018-03-08 01:16:27.423270\n",
      "Estimate Route for the  32200 th household  2018-03-08 01:17:24.485946\n",
      "Estimate Route for the  32300 th household  2018-03-08 01:18:20.736119\n",
      "Estimate Route for the  32400 th household  2018-03-08 01:19:16.423791\n"
     ]
    }
   ],
   "source": [
    "route_infos=get_route_info_allhh(traveler_trips,0)"
   ]
  },
  {
   "cell_type": "code",
   "execution_count": 118,
   "metadata": {
    "collapsed": true
   },
   "outputs": [],
   "source": [
    "route_infos.to_csv('Output/route_infos_fullconversion_lessthan40triphh.csv')"
   ]
  },
  {
   "cell_type": "code",
   "execution_count": null,
   "metadata": {
    "collapsed": true
   },
   "outputs": [],
   "source": [
    "route_infos.to_csv('Output/route_infos_partconversion.csv')"
   ]
  },
  {
   "cell_type": "code",
   "execution_count": null,
   "metadata": {
    "collapsed": true,
    "scrolled": true
   },
   "outputs": [],
   "source": [
    "route_infos_full_adoption=pd.read_csv('D:/alex/Autonomous-V-demand/Output/route_infos_fullconversion.csv')\n",
    "route_infos_part_adoption=pd.read_csv('D:/alex/Autonomous-V-demand/Output/route_infos_partconversion.csv')"
   ]
  },
  {
   "cell_type": "code",
   "execution_count": null,
   "metadata": {
    "collapsed": true
   },
   "outputs": [],
   "source": [
    "route_infos_full_adoption.head()"
   ]
  },
  {
   "cell_type": "markdown",
   "metadata": {},
   "source": [
    "#### Compare the new route with the old one"
   ]
  },
  {
   "cell_type": "code",
   "execution_count": null,
   "metadata": {
    "collapsed": true
   },
   "outputs": [],
   "source": [
    "initial_trips=traveler_trips.drop_duplicates(subset=['hh_id','orig_maz','dest_maz','orig_purpose','dest_purpose','starttime'])\n",
    "len1=[]\n",
    "len2=[]\n",
    "origin_num_car_trips=[]\n",
    "num_empty_car_trips=[]\n",
    "num_initial_car_trips=0\n",
    "for name, group in route_infos_full_adoption.groupby(['hh_id']):\n",
    "    num_initial_car_trips=num_initial_car_trips+len(initial_trips.loc[(initial_trips.hh_id==name) & ((initial_trips.tripmode<=6) | (initial_trips.tripmode==13))])\n",
    "#     len1.extend([len(group)])\n",
    "#     len2.extend([len(initial_trips.loc[initial_trips.hh_id==name])])\n",
    "#     origin_num_car_trips.extend([len(initial_trips.loc[(initial_trips.tripmode<=6) | (initial_trips.tripmode==13)])])\n",
    "#     num_empty_car_trips.extend([len(group[group.person_id==0])])"
   ]
  },
  {
   "cell_type": "code",
   "execution_count": null,
   "metadata": {
    "collapsed": true
   },
   "outputs": [],
   "source": [
    "zz=traveler_trips.drop_duplicates(subset=['hh_id','orig_maz','dest_maz','orig_purpose','dest_purpose','starttime']).groupby('hh_id').count() "
   ]
  },
  {
   "cell_type": "code",
   "execution_count": null,
   "metadata": {
    "collapsed": true
   },
   "outputs": [],
   "source": [
    "zz1=traveler_trips.groupby('hh_id').count() "
   ]
  },
  {
   "cell_type": "code",
   "execution_count": null,
   "metadata": {
    "collapsed": true
   },
   "outputs": [],
   "source": [
    "traveler_trips.columns"
   ]
  },
  {
   "cell_type": "code",
   "execution_count": null,
   "metadata": {
    "collapsed": true
   },
   "outputs": [],
   "source": [
    "zz[zz.person_id>30].person_id.sum()"
   ]
  },
  {
   "cell_type": "code",
   "execution_count": null,
   "metadata": {
    "collapsed": true
   },
   "outputs": [],
   "source": [
    "print('The new route plan has ',sum(len1),' trips')\n",
    "print('The origin trip plan has ',sum(len2),' trips')\n",
    "print('The origin trip plan has',len(initial_trips.loc[initial_trips.tripmode<=6]),'car trips')\n",
    "print('The origin trip plan has',len(initial_trips.loc[initial_trips.tripmode==13]),'taxi trips')\n",
    "print('The new route plan has',sum(num_empty_car_trips),'empty car trips')"
   ]
  },
  {
   "cell_type": "markdown",
   "metadata": {},
   "source": [
    "### Route result analysis"
   ]
  },
  {
   "cell_type": "markdown",
   "metadata": {},
   "source": [
    "##### Estimate how many trips are satisfied"
   ]
  },
  {
   "cell_type": "code",
   "execution_count": null,
   "metadata": {
    "collapsed": true
   },
   "outputs": [],
   "source": [
    "route_infos.head()"
   ]
  },
  {
   "cell_type": "code",
   "execution_count": null,
   "metadata": {
    "collapsed": true
   },
   "outputs": [],
   "source": [
    "def calculate_num_pick_up_trips(route_infos,traveler_trips):\n",
    "    total_num_pickup_trip=0\n",
    "    total_num_joint_trip=0\n",
    "    for target_hh_id in route_infos.hh_id.unique():\n",
    "        target_hh=traveler_trips[traveler_trips['hh_id']==target_hh_id].drop_duplicates(subset=['orig_maz','dest_maz','orig_purpose','dest_purpose','starttime'])\n",
    "        #Sort all trips based on start time. This step could reduce the solving time and make it easier to track\n",
    "        sorted_trips=target_hh.sort_values(\"starttime\")\n",
    "        hh_num_trips=len(sorted_trips)\n",
    "        total_num_pickup_trip=total_num_pickup_trip+len(route_infos.loc[(route_infos.hh_id==target_hh_id)& (route_infos.orig_node_index<hh_num_trips)])\n",
    "        total_num_joint_trip=total_num_joint_trip+len(route_infos.loc[(route_infos.hh_id==target_hh_id)& (route_infos.orig_node_index<hh_num_trips)& (route_infos.dest_node_index<hh_num_trips)])\n",
    "    return total_num_pickup_trip,total_num_joint_trip\n",
    "    #     print(target_hh_id)"
   ]
  },
  {
   "cell_type": "code",
   "execution_count": null,
   "metadata": {
    "collapsed": true
   },
   "outputs": [],
   "source": [
    "# Calculate the number of trips with/without passenger\n",
    "full_adoption_num_pickup,full_adoption_extra_joint=calculate_num_pick_up_trips(route_infos_full_adoption,traveler_trips)\n",
    "full_adoption_empty_trips=len(route_infos_full_adoption.loc[route_infos_full_adoption.person_id==0])\n",
    "partial_adoption_num_pickup,partial_adoption_extra_joint=calculate_num_pick_up_trips(route_infos_part_adoption,traveler_trips)\n",
    "partial_adoption_empty_trips=len(route_infos_part_adoption.loc[route_infos_part_adoption.person_id==0])"
   ]
  },
  {
   "cell_type": "code",
   "execution_count": null,
   "metadata": {
    "collapsed": true
   },
   "outputs": [],
   "source": [
    "full_adoption_num_pickup"
   ]
  },
  {
   "cell_type": "code",
   "execution_count": null,
   "metadata": {
    "collapsed": true
   },
   "outputs": [],
   "source": [
    "partial_adoption_num_pickup"
   ]
  },
  {
   "cell_type": "code",
   "execution_count": null,
   "metadata": {
    "collapsed": true
   },
   "outputs": [],
   "source": [
    "full_adoption_extra_joint"
   ]
  },
  {
   "cell_type": "code",
   "execution_count": null,
   "metadata": {
    "collapsed": true
   },
   "outputs": [],
   "source": [
    "len(route_infos_part_adoption)"
   ]
  },
  {
   "cell_type": "code",
   "execution_count": null,
   "metadata": {
    "collapsed": true
   },
   "outputs": [],
   "source": [
    "partial_adoption_extra_joint"
   ]
  },
  {
   "cell_type": "code",
   "execution_count": null,
   "metadata": {
    "collapsed": true,
    "scrolled": true
   },
   "outputs": [],
   "source": [
    "print('The full conversion plan pickup ',full_adoption_num_pickup,'trips (',round(full_adoption_num_pickup/sum(len2),2),')out of ',sum(len2))\n",
    "print('The full conversion plan incurs ', full_adoption_empty_trips,'empty trips. The ratio beween empty and occupy trips is', full_adoption_empty_trips/full_adoption_num_pickup)\n",
    "print('The partial conversion plan pickup ',partial_adoption_num_pickup,'trips (',round(partial_adoption_num_pickup/sum(len2),2),')out of ',sum(len2))\n",
    "print('The partial conversion plan incurs ', partial_adoption_empty_trips,'empty trips. The ratio beween empty and occupy trips is' ,partial_adoption_empty_trips/partial_adoption_num_pickup)"
   ]
  },
  {
   "cell_type": "code",
   "execution_count": null,
   "metadata": {
    "collapsed": true
   },
   "outputs": [],
   "source": [
    "route_infos_full_adoption.columns"
   ]
  },
  {
   "cell_type": "code",
   "execution_count": null,
   "metadata": {
    "collapsed": true
   },
   "outputs": [],
   "source": [
    "z=route_infos_full_adoption.groupby('hh_id').apply(lambda x: (x==0).sum())"
   ]
  },
  {
   "cell_type": "code",
   "execution_count": null,
   "metadata": {
    "collapsed": true
   },
   "outputs": [],
   "source": [
    "z['num_hh_member']=traveler_trips.groupby('hh_id')['person_id'].nunique()"
   ]
  },
  {
   "cell_type": "code",
   "execution_count": null,
   "metadata": {
    "collapsed": true
   },
   "outputs": [],
   "source": [
    "def plot_num_trips_by_timeinterval(route_infos):\n",
    "    route_infos['occupy_flag']=['Occupied' if x >0 else 'Empty' for x in route_infos['person_id']]\n",
    "    route_infos['start_time_interval']=[math.floor(x/36) for x in route_infos['start_time']]\n",
    "    z=route_infos.groupby(['start_time_interval', 'occupy_flag'])['start_time'].count().unstack('occupy_flag').fillna(0)\n",
    "#     fig, axes = plt.pyplot.subplots(nrows=1 ,ncols=1,figsize=(16,6))\n",
    "    \n",
    "    z[['Occupied','Empty']].plot(kind='bar',stacked=True,figsize=(16,6))\n",
    "    z['Empty_percentage']=z['Empty']/(z['Occupied']+z['Empty'])\n",
    "#     z['Empty_percentage'].plot(kind='bar',ax=axes[1])\n",
    "    return z"
   ]
  },
  {
   "cell_type": "code",
   "execution_count": null,
   "metadata": {
    "collapsed": true
   },
   "outputs": [],
   "source": [
    "z1=plot_num_trips_by_timeinterval(route_infos_full_adoption)"
   ]
  },
  {
   "cell_type": "code",
   "execution_count": null,
   "metadata": {
    "collapsed": true
   },
   "outputs": [],
   "source": [
    "z2=plot_num_trips_by_timeinterval(route_infos_part_adoption)"
   ]
  },
  {
   "cell_type": "code",
   "execution_count": null,
   "metadata": {
    "collapsed": true
   },
   "outputs": [],
   "source": []
  },
  {
   "cell_type": "code",
   "execution_count": null,
   "metadata": {
    "collapsed": true
   },
   "outputs": [],
   "source": [
    "fig = plt.pyplot.figure()\n",
    "ax = fig.add_subplot(111)\n",
    "ax2 = ax.twinx()\n",
    "z1.Empty_percentage.plot(kind='bar',ax=ax,color='r',position=0)\n",
    "z2.Empty_percentage.plot(kind='bar',ax=ax2,color='blue',position=1)"
   ]
  },
  {
   "cell_type": "markdown",
   "metadata": {},
   "source": [
    "#### Write the route to DYNASMART input file vehicle.dat"
   ]
  },
  {
   "cell_type": "code",
   "execution_count": null,
   "metadata": {
    "collapsed": true
   },
   "outputs": [],
   "source": [
    "vehicledat_filepath='Output/vehicle_partconversion.dat'\n",
    "path_filepath='Output/path_partconversion.dat'"
   ]
  },
  {
   "cell_type": "code",
   "execution_count": null,
   "metadata": {
    "collapsed": true
   },
   "outputs": [],
   "source": [
    "def read_vehicledat(vehicledat_filepath):\n",
    "    '''\n",
    "    This function read all sort of vehicledat file. It returns a dataframe vehicle_info that \n",
    "    contains all the information. Each row is corresponding to one vehicle in the vehicle.dat. \n",
    "    \n",
    "    '''\n",
    "    feature_list=['counter','iutmp','idtmp','StartTime','ivcltmp','ivcl2tmp','ihovtmp','veh_pathnodenum','NonrepetitiveCarNumTrip','infotmp','ribftmp','comptmp','TAZMap','value_of_time','value']\n",
    "    i=0 #line number of vehicle.dat\n",
    "    j=0 #line number of vehicle_info\n",
    "    dest_chain=[]\n",
    "    activity_chain=[]\n",
    "    with open(vehicledat_filepath) as f: #Open the file\n",
    "        for line in f:\n",
    "            if i ==0: #Read the num_vehicle and max number of unit from the first line\n",
    "                num_vehicle=int(line.split()[0])\n",
    "                max_num_trips=int(line.split()[1])\n",
    "                vehicle_info = pd.DataFrame(0,index=np.arange(num_vehicle), columns=feature_list)\n",
    "            elif i >1:\n",
    "                if (len(line)>30): #If the line is the first line of a vehicle, read the general information about vehicle\n",
    "                    vehicle_info.iloc[j]=[float(k) for k in line.split()]\n",
    "                    dest_chain.append([])\n",
    "                    activity_chain.append([])\n",
    "                    j=j+1\n",
    "                else:\n",
    "                    taz_temp,activity_time=line.split()\n",
    "                    dest_chain[j-1].extend([taz_temp])\n",
    "                    activity_chain[j-1].extend([activity_time])\n",
    "                    \n",
    "            i=i+1\n",
    "        vehicle_info['dest_chain']=dest_chain\n",
    "        vehicle_info['activity_time']=activity_chain\n",
    "    return vehicle_info\n",
    "def read_pathdat(pathdat_filepath):\n",
    "    path_bank=[]\n",
    "    with open(pathdat_filepath) as f:\n",
    "        for line in f:\n",
    "            path_bank.append([int(i) for i in line.split()])\n",
    "    return path_bank"
   ]
  },
  {
   "cell_type": "code",
   "execution_count": null,
   "metadata": {
    "collapsed": true
   },
   "outputs": [],
   "source": [
    "def read_intrasuperzone_files(intrasuperzone_vehicle_filepath,intrasuperzone_path_filepath):\n",
    "    feature_list=['counter','iutmp','idtmp','StartTime','ivcltmp','ivcl2tmp','ihovtmp','veh_pathnodenum',\n",
    "                  'NonrepetitiveCarNumTrip','infotmp','ribftmp','comptmp','TAZMap','value_of_time','value']\n",
    "    i=0 #line number of vehicle.dat\n",
    "    j=0 #line number of vehicle_info\n",
    "    dest_chain=[]\n",
    "    activity_chain=[]\n",
    "    key=[]\n",
    "    with open(intrasuperzone_vehicle_filepath) as f: #Open the file\n",
    "        for line in f:\n",
    "            if i ==0: #Read the num_vehicle and max number of unit from the first line\n",
    "                num_vehicle=int(line.split()[0])\n",
    "                max_num_trips=int(line.split()[1])\n",
    "                vehicle_info = pd.DataFrame(0,index=np.arange(num_vehicle), columns=feature_list)\n",
    "            elif i >1:\n",
    "                if (len(line)>30): #If the line is the first line of a vehicle, read the general information about vehicle\n",
    "                    vehicle_info.iloc[j]=[float(k) for k in line.split()]\n",
    "                    \n",
    "                    j=j+1\n",
    "                else:\n",
    "                    taz_temp,activity_time=line.split()\n",
    "                    dest_chain.extend([taz_temp])\n",
    "                    activity_chain.extend([activity_time])\n",
    "                    key.append(tuple([int(vehicle_info.iloc[j-1]['TAZMap']),int(taz_temp)]))\n",
    "            i=i+1\n",
    "        print(dest_chain)\n",
    "        vehicle_info['dest_chain']=dest_chain\n",
    "        vehicle_info['activity_time']=activity_chain\n",
    "        \n",
    "    intrasuperzone_path=read_pathdat(intrasuperzone_path_filepath)\n",
    "    intrasuperzone_info=vehicle_info\n",
    "    intrasuperzone_info['path']=intrasuperzone_path\n",
    "    intrasuperzone_path_dic=dict(zip(tuple(key),intrasuperzone_path))\n",
    "    return intrasuperzone_info,intrasuperzone_path_dic"
   ]
  },
  {
   "cell_type": "code",
   "execution_count": null,
   "metadata": {
    "collapsed": true
   },
   "outputs": [],
   "source": [
    "intrasuperzone_vehicle_filepath='Input/intrasuperzone_vehicle.dat'\n",
    "intrasuperzone_path_filepath='Input/intrasuperzone_path.dat'\n",
    "intrasuperzone_info,intrasuperzone_path_dic=read_intrasuperzone_files(intrasuperzone_vehicle_filepath,intrasuperzone_path_filepath)"
   ]
  },
  {
   "cell_type": "code",
   "execution_count": null,
   "metadata": {
    "collapsed": true
   },
   "outputs": [],
   "source": [
    "Output_folder='Output/'\n",
    "if not os.path.exists(Output_folder):\n",
    "    os.makedirs(Output_folder)\n",
    "vehicle_filepath=Output_folder+'vehicle_partconversion.dat'"
   ]
  },
  {
   "cell_type": "code",
   "execution_count": null,
   "metadata": {
    "collapsed": true
   },
   "outputs": [],
   "source": [
    "def route_to_vehiclepathdat(route_infos,origin_links,vehicle_filepath,path_filepath,superzone_map,\n",
    "                            intrasuperzone_path_dic,external_vehicle_filepath,average_value_of_time):\n",
    "    '''\n",
    "    This function write all the route information in the format of vehicle.dat\n",
    "    '''\n",
    "    vehicledat=open(vehicle_filepath,'w')\n",
    "    pathdat=open(path_filepath,'w')\n",
    "    if os.path.isfile(external_vehicle_filepath):\n",
    "        external_vehicle=open(external_vehicle_filepath,'r')\n",
    "        num_external_vehicle=int(next(external_vehicle).split()[0])\n",
    "        next(external_vehicle)\n",
    "        excounter,exusec,exdsec,exstime,exusrcls,exvehtype,exioc,exonode,exintde,exinfo,exribf,excomp,exoz=next(external_vehicle).split()\n",
    "        exTAZMap,exactivitytime=next(external_vehicle).split()\n",
    "        exstime=float(exstime)+180 #External vehicle start from 0:00am but the abm file start from 3 am\n",
    "    else:\n",
    "        exstime=1555\n",
    "    \n",
    "    num_veh_seg=len(route_infos['veh_seg_index'].unique())\n",
    "    max_num_trip=route_infos.groupby('veh_seg_index')['start_time'].count().max()\n",
    "    total_veh_seg=num_veh_seg+num_external_vehicle\n",
    "    vehicledat.write(str(total_veh_seg)+'\\t'+str(max_num_trip)+'\\t'+'# of vehicles in the file, Max # of stops\\n')\n",
    "    vehicledat.write('counter  iutmp  idtmp  StartTime  ivcltmp  ivcl2tmp  ihovtmp  veh_pathnodenum  NonrepetitiveCarNumTrip  infotmp  ribftmp  comptmp  TAZMap  value_of_time  1\\n')\n",
    "    counter=1\n",
    "    multiindex_route_infos=route_infos.set_index(['veh_seg_index'])\n",
    "    for veh_seg in route_infos.sort_values('origin_arrival_time')['veh_seg_index'].unique():\n",
    "        target_seg=multiindex_route_infos.loc[[veh_seg]]\n",
    "        \n",
    "        while target_seg.origin_arrival_time.min()>exstime:\n",
    "            vehicledat.write(str(counter)+'\\t'+exusec+'\\t'+exdsec+'\\t'+str(exstime)+'\\t'+\n",
    "                             exusrcls+'\\t'+exvehtype+'\\t'+exioc+'\\t'+\n",
    "                             '1'+'\\t'+exintde+'\\t'+exinfo+'\\t'+exribf+'\\t'+excomp+'\\t'+\n",
    "                             exoz+'\\t'+str(average_value_of_time)+'\\t'+'1'+'\\n')\n",
    "            vehicledat.write(exTAZMap+'\\t'+exactivitytime+'\\n')\n",
    "            pathdat.write('\\n')\n",
    "            counter +=1\n",
    "            line_listtemp=next(external_vehicle).split()\n",
    "            if len(line_listtemp)>3:\n",
    "                excounter,exusec,exdsec,exstime,exusrcls,exvehtype,exioc,exonode,exintde,exinfo,exribf,excomp,exoz=line_listtemp\n",
    "                exTAZMap,exactivitytime=next(external_vehicle).split()\n",
    "                exstime=float(exstime)+180 #External vehicle start from 0:00am but the abm file start from 3 am\n",
    "            else: \n",
    "                exstime=1555\n",
    "        if counter==23300:\n",
    "            print(veh_seg,exstime,target_seg.start_time.min(),target_seg)\n",
    "        write_one_veh_seq(target_seg,vehicledat,pathdat,counter,origin_links,superzone_map,intrasuperzone_path_dic)\n",
    "        counter +=1\n",
    "        if counter%1000==0: \n",
    "            print(counter,datetime.datetime.now())\n",
    "    vehicledat.close()\n",
    "    pathdat.close()\n",
    "    return\n",
    "def write_one_veh_seq(route_info,file_obj,path_file_obj,counter,origin_links,superzone_map,intrasuperzone_path_dic):\n",
    "    '''\n",
    "    This function convert the route information of one segment into vehicle.dat format. The function is called by route_to_vehiclepathdat\n",
    "    '''\n",
    "    ivcl2tmp=1        #Standard Input for Vehicle Specifications \n",
    "    ihovtmp=1         #Standard Input for Vehicle Specifications  \n",
    "    veh_pathnodenum=1 #Standard Input for Vehicle Specifications\n",
    "    ndestmp=1         #Standard Input for Vehicle Specifications\n",
    "    infotmp=0         #Standard Input for Vehicle Specifications \n",
    "    ribftmp=0.0       #Standard Input for Vehicle Specifications  \n",
    "    comptmp=0.0       #Standard Input for Vehicle Specifications  \n",
    "    if (route_info.iloc[0].intrasuperzone_flag==1):\n",
    "        path_temp=intrasuperzone_path_dic[(route_info.iloc[0]['orig_zone'],route_info.iloc[0]['dest_zone'])]\n",
    "        orig_u_node,orig_d_node=path_temp[0:2]\n",
    "        ivcltmp=1\n",
    "        veh_pathnodenum=len(path_temp)\n",
    "        path_file_obj.write(''.join( str(j).rjust(7) for j in intrasuperzone_path_dic[(route_info.iloc[0]['orig_zone'],route_info.iloc[0]['dest_zone'])])+'\\n')\n",
    "    else:\n",
    "        target_zone=origin_links.loc[origin_links.zone_id==route_info.iloc[0]['orig_zone']]\n",
    "        generateion_link_index=np.random.randint(0,len(target_zone))\n",
    "        orig_u_node= target_zone.iloc[generateion_link_index]['u_node'] #Upstream node of the generation link \n",
    "        orig_d_node= target_zone.iloc[generateion_link_index]['d_node'] #Downstream node of the generation link\n",
    "        ivcltmp=3\n",
    "        veh_pathnodenum=1\n",
    "        path_file_obj.write('\\n')\n",
    "    \n",
    "    file_obj.write(str(counter)+'\\t'+str(int(orig_u_node))+'\\t'\n",
    "                   +str(int(orig_d_node))+'\\t'+str(round(route_info.iloc[0]['origin_arrival_time'],1))+'\\t'\n",
    "                   +str(ivcltmp)+'\\t'+str(ivcl2tmp)+'\\t'+str(ihovtmp)+'\\t'+str(veh_pathnodenum)+'\\t'\n",
    "                   +str(len(route_info))+'\\t'+str(infotmp)+'\\t'+str(ribftmp)+'\\t'\n",
    "                   +str(comptmp)+'\\t'+ str(route_info.iloc[0]['orig_zone'])+'\\t'\n",
    "                   +str(route_info.iloc[0]['value_of_time'])+'\\t'+'1'+'\\n')\n",
    "    for (index,row) in route_info.iloc[:-1].iterrows():\n",
    "        file_obj.write(str(row['dest_zone'])+'\\t'+str(row['Activity_Time'])+'\\n')\n",
    "    file_obj.write(str(route_info['dest_zone'].iloc[-1])+'\\t'+'0.0\\n')\n",
    "    if (route_info.dest_zone.iloc[-1]<1):\n",
    "        print('error')\n",
    "    return"
   ]
  },
  {
   "cell_type": "code",
   "execution_count": null,
   "metadata": {
    "collapsed": true
   },
   "outputs": [],
   "source": [
    "route_infos[route_infos.hh_id==869256]"
   ]
  },
  {
   "cell_type": "code",
   "execution_count": null,
   "metadata": {
    "collapsed": true,
    "scrolled": false
   },
   "outputs": [],
   "source": [
    "vehicledat_filepath='Output/vehicle_partconversion.dat'\n",
    "path_filepath='Output/path_partconversion.dat'\n",
    "external_vehicle_filepath='Input/external_vehicle.dat'\n",
    "average_value_of_time=round(traveler_trips.value_of_time.mean(),4)\n",
    "route_to_vehiclepathdat(route_infos,origin_links,vehicle_filepath,path_filepath,superzone_map,\n",
    "                            intrasuperzone_path_dic,external_vehicle_filepath,average_value_of_time)"
   ]
  },
  {
   "cell_type": "code",
   "execution_count": null,
   "metadata": {
    "collapsed": true
   },
   "outputs": [],
   "source": []
  },
  {
   "cell_type": "code",
   "execution_count": null,
   "metadata": {
    "collapsed": true
   },
   "outputs": [],
   "source": [
    "# new_path='Output/newpath.dat'\n",
    "# path_fileobj=open(new_path,'w')\n",
    "# with open('Output/path.dat') as f:\n",
    "#     for line in f: \n",
    "#         if len(line)>1:\n",
    "#             for node in line.split():\n",
    "#                 path_fileobj.write(node.rjust(7))\n",
    "#             path_fileobj.write('\\n')\n",
    "#         else: \n",
    "#             path_fileobj.write('\\n')\n",
    "# path_fileobj.close()"
   ]
  },
  {
   "cell_type": "markdown",
   "metadata": {},
   "source": [
    "#### Result Analysis"
   ]
  },
  {
   "cell_type": "code",
   "execution_count": null,
   "metadata": {
    "collapsed": true
   },
   "outputs": [],
   "source": []
  }
 ],
 "metadata": {
  "kernelspec": {
   "display_name": "Python 3",
   "language": "python",
   "name": "python3"
  },
  "language_info": {
   "codemirror_mode": {
    "name": "ipython",
    "version": 3
   },
   "file_extension": ".py",
   "mimetype": "text/x-python",
   "name": "python",
   "nbconvert_exporter": "python",
   "pygments_lexer": "ipython3",
   "version": "3.6.2"
  }
 },
 "nbformat": 4,
 "nbformat_minor": 2
}
