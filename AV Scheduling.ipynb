{
 "cells": [
  {
   "cell_type": "markdown",
   "metadata": {},
   "source": [
    "# AV Scheduling for household"
   ]
  },
  {
   "cell_type": "markdown",
   "metadata": {},
   "source": [
    "### Initialize\n",
    "* Inital functions and package\n",
    "* Read input"
   ]
  },
  {
   "cell_type": "code",
   "execution_count": 1,
   "metadata": {
    "collapsed": true
   },
   "outputs": [],
   "source": [
    "import numpy as np\n",
    "import pandas as pd\n",
    "import matplotlib as plt\n",
    "import networkx as nx\n",
    "%matplotlib inline\n",
    "# from DYNASMART_Process import *\n",
    "from Modules import DYNASMART_Process as dy\n",
    "# import preprocessing_read_skim_file as rs\n",
    "from Modules import AV_functions as av\n",
    "from Modules import Solve_DARP as sod\n",
    "from Modules import Postprocess_DARP as pod\n",
    "from Modules import Preprocess_DARP as prd\n",
    "from gurobipy import *\n",
    "from Modules import *\n",
    "import datetime\n",
    "import requests\n",
    "import math\n",
    "import importlib\n",
    "%load_ext autoreload\n",
    "%autoreload 2"
   ]
  },
  {
   "cell_type": "code",
   "execution_count": 2,
   "metadata": {},
   "outputs": [
    {
     "name": "stdout",
     "output_type": "stream",
     "text": [
      "56 57 72\n"
     ]
    }
   ],
   "source": [
    "#Read in the basic traveler and trips informationa and joint the houshold id\n",
    "# traveler_info=pd.read_csv('input/traveler.csv')\n",
    "personData=pd.read_csv('input/personData_1.csv')\n",
    "person_type_dic=dict(zip(personData.person_id,personData.type))\n",
    "# hh_temp=personData[['person_id','hh_id']]\n",
    "# traveler_trips=pd.merge(traveler_info,hh_temp,how='left',on=['person_id'])\n",
    "#Trip mode\n",
    "#1 Drive alone free; 2 Drive alone pay; 3 Shared ride 2 free; 4 Shared ride 2 pay ;\n",
    "#5 Shared ride 3+ free; 6 Shared ride 3+ pay; 7 Walk; 8 Bike; 9 Walk to local transit; \n",
    "#10 Walk to premium transit; 11 Drive to local transit; 12 Drive to premium transit; \n",
    "#13 Taxi; 14 School bus\n",
    "\n",
    "# traveler_trips=pd.read_csv('input/traveler_trip_info.csv')\n",
    "# #Calculate the expected trip travel time as trip start time of trip (i+1) - start time of trip i - activity time \n",
    "# traveler_trips['Diff_bet_starttime']=traveler_trips.starttime.diff()[1:]\n",
    "# traveler_trips.Diff_bet_starttime=traveler_trips.Diff_bet_starttime.shift(-1)\n",
    "# traveler_trips['Diff_bet_starttime'].apply(lambda x: 0 if x<0 else x)\n",
    "# traveler_trips['travel_time']=traveler_trips.Diff_bet_starttime-traveler_trips.ActivityTime\n",
    "# traveler_trips.loc[traveler_trips.trip_counter==traveler_trips.num_trips,'travel_time']=1440-(traveler_trips.loc[traveler_trips.trip_counter==traveler_trips.num_trips]['starttime']+traveler_trips.loc[traveler_trips.trip_counter==traveler_trips.num_trips]['ActivityTime'])\n",
    "# traveler_trips.orig_purpose.replace(['eatingout','work','discretionary','shop','work-based','work-related','escort','maintenance','school','visiting','university'],\n",
    "#                                     ['EatingOut','Work','Discretionary','Shop','WorkBased','WorkBased','Escort','Maintenance','School','Visiting','University'],\n",
    "#                                     inplace=True)\n",
    "# traveler_trips.dest_purpose.replace(['eatingout','work','discretionary','shop','work-based','work-related','escort','maintenance','school','visiting','university'],\n",
    "#                                     ['EatingOut','Work','Discretionary','Shop','WorkBased','WorkBased','Escort','Maintenance','School','Visiting','University'],\n",
    "#                                     inplace=True)\n",
    "# traveler_trips.loc[:,'person_type']=traveler_trips.person_id.apply(lambda x: person_type_dic[x])\n",
    "# value_latearr_penalty_per_min=pd.read_csv('input/LateArrPenalty.dat',sep='\\t',index_col =0)\n",
    "# value_earlyarr_penalty_per_min=pd.read_csv('input/EarlyArrPenalty.dat',sep='\\t',index_col =0)\n",
    "# early_penalty_threshold=pd.read_csv('input/EarlyArrPenaltyThreshold.dat',sep='\\t',index_col=0)\n",
    "# late_penalty_threshold=pd.read_csv('input/LateArrPenaltyThreshold.dat',sep='\\t',index_col=0)\n",
    "\n",
    "# traveler_trips.loc[:,'earlyarr_penalty']=traveler_trips.apply(lambda row: value_earlyarr_penalty_per_min.loc[row.dest_purpose,row.person_type], axis=1)\n",
    "# traveler_trips.loc[:,'latearr_penalty']=traveler_trips.apply(lambda row: value_latearr_penalty_per_min.loc[row.dest_purpose,row.person_type], axis=1)\n",
    "# traveler_trips.loc[:,'early_penalty_threshold']=traveler_trips.apply(lambda row: early_penalty_threshold.loc[row.dest_purpose,row.person_type], axis=1)\n",
    "# traveler_trips.loc[:,'late_penalty_threshold']=traveler_trips.apply(lambda row: late_penalty_threshold.loc[row.dest_purpose,row.person_type], axis=1)\n",
    "# traveler_trips.to_csv('input/traveler_trip_info_improved.csv')\n",
    "traveler_trips=pd.read_csv('input/traveler_trip_info_improved.csv')\n",
    "\n",
    "num_zones,num_nodes,num_links,node_detail,node_id,link_detail,link_id=dy.read_network('input/network.dat')\n",
    "nodexy=dy.read_xy('input/xy.dat')\n",
    "superzone_filepath='Input/SuperZone.dat'\n",
    "linktraveltime_filepath='Input/output_td_linktraveltime.dat'\n",
    "superzone_map=dy.read_superzone_info(superzone_filepath)\n",
    "origin_path='Input/origin.dat'\n",
    "destination_path='Input/destination.dat'\n",
    "origins,destinations,origin_links=dy.read_origin_destion(origin_path,destination_path)\n",
    "VPNRSkim_folder_filepath='Input/vehicularPNRSkim'\n",
    "Vehicular_Skim=dy.read_vehicle_skim(VPNRSkim_folder_filepath)\n",
    "transit_skim_folderpath='Input/'\n",
    "TransitMazTazFlag,drivingweight,walkingweight,TransitSkimTimeIntervalLength,MaxNumTransitSkimTimeInterval,WalkSpeed,transit_zone_candidates,Transit_AB_Cost_Skim,Transit_AB_Time_Skim,three_link_walk=dy.read_transitskim(transit_skim_folderpath)\n",
    "#origins,destinations=dy.read_origin_destion('input/origin.dat','input/destination.dat')"
   ]
  },
  {
   "cell_type": "code",
   "execution_count": null,
   "metadata": {
    "scrolled": true
   },
   "outputs": [],
   "source": [
    "# Test the schedule adjustment solve with exact method\n",
    "reward_mode=2\n",
    "num_hh_member,hh_num_trips,C,TT,expected_arrival_time,expected_leave_time,early_penalty,late_penalty,early_penalty_threshold,late_penalty_threshold,visit_candidate_zone=prd.extract_hh_information(sorted_trips,Vehicular_Skim,Transit_AB_Cost_Skim,superzone_map,drivingcost_per_mile,num_time_interval)\n",
    "R=prd.estimate_trip_reward(hh_num_trips,sorted_trips,Vehicular_Skim,reward_mode,superzone_map,drivingcost_per_mile)\n",
    "num_cav=1\n",
    "run_mode=2\n",
    "single_model_runtime=60*30\n",
    "m1,x,y,T,obj1,obj2,obj3=sod.dial_n_ride_model_schedule_adjustment(num_hh_member,hh_num_trips,C,TT,TL,TU,sorted_trips,\n",
    "                    expected_arrival_time,early_penalty,late_penalty,\n",
    "                    early_penalty_threshold,late_penalty_threshold,R,Vehicular_Skim,\n",
    "                    share_ride_factor,output_flag,run_mode,reward_mode,\n",
    "                    num_cav,num_time_interval,cav_use_mode,time_window_flag,single_model_runtime)"
   ]
  },
  {
   "cell_type": "code",
   "execution_count": 5,
   "metadata": {
    "scrolled": true
   },
   "outputs": [
    {
     "name": "stdout",
     "output_type": "stream",
     "text": [
      "**************\n",
      "Num_CAV 1 1.5 0\n",
      "**************\n",
      "start sovling problem at  2018-07-06 09:13:59.690886\n",
      "Parameter OutputFlag unchanged\n",
      "   Value: 1  Min: 0  Max: 1  Default: 1\n",
      "Changed value of parameter TIME_LIMIT to 30.0\n",
      "   Prev: 1e+100  Min: 0.0  Max: 1e+100  Default: 1e+100\n",
      "Optimize a model with 3185 rows, 2024 columns and 19708 nonzeros\n",
      "Variable types: 88 continuous, 1936 integer (1936 binary)\n",
      "Coefficient statistics:\n",
      "  Matrix range     [1e-02, 2e+03]\n",
      "  Objective range  [1e-02, 2e+02]\n",
      "  Bounds range     [1e+00, 1e+00]\n",
      "  RHS range        [1e+00, 3e+05]\n",
      "\n",
      "Loaded MIP start with objective 2851.11\n",
      "\n",
      "Presolve removed 909 rows and 842 columns\n",
      "Presolve time: 0.07s\n",
      "Presolved: 2276 rows, 1182 columns, 12822 nonzeros\n",
      "Variable types: 88 continuous, 1094 integer (1094 binary)\n",
      "\n",
      "Root relaxation: objective 3.205774e+03, 507 iterations, 0.02 seconds\n",
      "\n",
      "    Nodes    |    Current Node    |     Objective Bounds      |     Work\n",
      " Expl Unexpl |  Obj  Depth IntInf | Incumbent    BestBd   Gap | It/Node Time\n",
      "\n",
      "     0     0 3205.77377    0   72 2851.11088 3205.77377  12.4%     -    0s\n",
      "     0     0 3188.72639    0   70 2851.11088 3188.72639  11.8%     -    0s\n",
      "     0     0 3188.03703    0   69 2851.11088 3188.03703  11.8%     -    0s\n",
      "     0     0 3188.03703    0   69 2851.11088 3188.03703  11.8%     -    0s\n",
      "     0     0 3187.05156    0   60 2851.11088 3187.05156  11.8%     -    0s\n",
      "     0     0 3187.04910    0   74 2851.11088 3187.04910  11.8%     -    0s\n",
      "H    0     0                    2851.9648800 3187.04910  11.7%     -    0s\n",
      "     0     0 3186.87719    0   73 2851.96488 3186.87719  11.7%     -    0s\n",
      "     0     0 3186.86778    0   76 2851.96488 3186.86778  11.7%     -    0s\n",
      "     0     0 3186.84383    0   73 2851.96488 3186.84383  11.7%     -    1s\n",
      "     0     0 3186.84383    0   73 2851.96488 3186.84383  11.7%     -    1s\n",
      "     0     0 3186.83943    0   74 2851.96488 3186.83943  11.7%     -    1s\n",
      "     0     0 3186.83332    0   74 2851.96488 3186.83332  11.7%     -    1s\n",
      "     0     0 3183.86508    0   55 2851.96488 3183.86508  11.6%     -    1s\n",
      "     0     0 3183.86508    0   55 2851.96488 3183.86508  11.6%     -    1s\n",
      "     0     2 3183.86508    0   55 2851.96488 3183.86508  11.6%     -    1s\n",
      "H  146   107                    2851.9648803 3182.85843  11.6%   9.9    2s\n",
      "  1513  1044 3178.60739   21   64 2851.96488 3182.35775  11.6%   9.3    5s\n",
      "H 1533  1003                    2856.3288800 3180.27211  11.3%   9.2    8s\n",
      "  1541  1009 3158.57068   50   66 2856.32888 3179.64401  11.3%   9.2   10s\n",
      "H 1541   958                    2862.5181300 3179.64286  11.1%   9.2   10s\n",
      "H 1550   915                    2870.1166300 3179.46994  10.8%   9.1   12s\n",
      "H 1555   872                    3011.3967500 3179.44762  5.58%   9.1   13s\n",
      "  1563   879 3179.44639   17   69 3011.39675 3179.44639  5.58%  10.0   15s\n",
      "  1654   925 3175.50332   30   58 3011.39675 3178.84803  5.56%  11.2   20s\n",
      "H 1655   879                    3016.4327500 3178.84803  5.38%  11.2   20s\n",
      "  4037  1282 3174.84576   32   59 3016.43275 3176.24186  5.30%  14.7   25s\n",
      "H 8669  3511                    3021.6010000 3174.65888  5.07%  15.1   29s\n",
      "  8885  3593 3173.18700   35   45 3021.60100 3174.42632  5.06%  15.2   30s\n",
      "\n",
      "Cutting planes:\n",
      "  Learned: 6\n",
      "  Gomory: 22\n",
      "  Cover: 30\n",
      "  Clique: 1\n",
      "  MIR: 12\n",
      "  Flow cover: 86\n",
      "  Inf proof: 6\n",
      "  Zero half: 9\n",
      "\n",
      "Explored 8895 nodes (136037 simplex iterations) in 30.06 seconds\n",
      "Thread count was 8 (of 8 available processors)\n",
      "\n",
      "Solution count 9: 3021.6 3016.43 3011.4 ... 2851.11\n",
      "\n",
      "Time limit reached\n",
      "Best objective 3.021601000000e+03, best bound 3.174426322349e+03, gap 5.0578%\n",
      "################################\n",
      "The total reward is 3150.0 \n",
      "The delay cost is  3.005500000000002 \n",
      "The total travel cost is  125.39349999999997\n",
      "0.0\n",
      "finish solving problem at  2018-07-06 09:14:30.559703\n",
      "start sovling problem at  2018-07-06 09:14:34.121910\n",
      "Parameter OutputFlag unchanged\n",
      "   Value: 1  Min: 0  Max: 1  Default: 1\n",
      "Changed value of parameter TIME_LIMIT to 30.0\n",
      "   Prev: 1e+100  Min: 0.0  Max: 1e+100  Default: 1e+100\n",
      "Optimize a model with 2599 rows, 1680 columns and 14884 nonzeros\n",
      "Variable types: 80 continuous, 1600 integer (1600 binary)\n",
      "Coefficient statistics:\n",
      "  Matrix range     [1e-02, 2e+03]\n",
      "  Objective range  [1e-02, 2e+02]\n",
      "  Bounds range     [1e+00, 1e+00]\n",
      "  RHS range        [5e-01, 3e+05]\n",
      "\n",
      "Loaded MIP start with objective 1866.59\n",
      "\n",
      "Presolve removed 707 rows and 646 columns\n",
      "Presolve time: 0.07s\n",
      "Presolved: 1892 rows, 1034 columns, 9903 nonzeros\n",
      "Variable types: 80 continuous, 954 integer (954 binary)\n",
      "\n",
      "Root relaxation: objective 2.912574e+03, 318 iterations, 0.02 seconds\n",
      "\n",
      "    Nodes    |    Current Node    |     Objective Bounds      |     Work\n",
      " Expl Unexpl |  Obj  Depth IntInf | Incumbent    BestBd   Gap | It/Node Time\n",
      "\n",
      "     0     0 2912.57403    0   72 1866.58946 2912.57403  56.0%     -    0s\n",
      "     0     0 2896.69026    0   74 1866.58946 2896.69026  55.2%     -    0s\n",
      "     0     0 2896.69018    0   68 1866.58946 2896.69018  55.2%     -    0s\n",
      "     0     0 2895.42408    0   77 1866.58946 2895.42408  55.1%     -    0s\n",
      "     0     0 2895.33955    0   78 1866.58946 2895.33955  55.1%     -    0s\n",
      "     0     0 2895.33899    0   78 1866.58946 2895.33899  55.1%     -    0s\n",
      "     0     0 2894.68055    0   75 1866.58946 2894.68055  55.1%     -    0s\n",
      "     0     0 2894.67719    0   69 1866.58946 2894.67719  55.1%     -    0s\n",
      "     0     0 2894.67354    0   74 1866.58946 2894.67354  55.1%     -    0s\n",
      "     0     0 2894.45306    0   77 1866.58946 2894.45306  55.1%     -    0s\n",
      "     0     0 2894.45306    0   77 1866.58946 2894.45306  55.1%     -    0s\n",
      "H    0     0                    2007.5897700 2894.45306  44.2%     -    0s\n",
      "     0     0 2894.10560    0   75 2007.58977 2894.10560  44.2%     -    0s\n",
      "     0     0 2894.06161    0   73 2007.58977 2894.06161  44.2%     -    0s\n",
      "     0     0 2894.04225    0   75 2007.58977 2894.04225  44.2%     -    1s\n",
      "     0     0 2894.03972    0   73 2007.58977 2894.03972  44.2%     -    1s\n",
      "     0     0 2894.03249    0   72 2007.58977 2894.03249  44.2%     -    1s\n",
      "     0     0 2894.03050    0   70 2007.58977 2894.03050  44.2%     -    1s\n",
      "     0     0 2894.03011    0   70 2007.58977 2894.03011  44.2%     -    1s\n",
      "     0     0 2894.02710    0   71 2007.58977 2894.02710  44.2%     -    1s\n",
      "     0     0 2893.89455    0   78 2007.58977 2893.89455  44.1%     -    1s\n",
      "     0     0 2893.88941    0   73 2007.58977 2893.88941  44.1%     -    1s\n",
      "     0     0 2893.88941    0   71 2007.58977 2893.88941  44.1%     -    1s\n",
      "     0     2 2893.88941    0   71 2007.58977 2893.88941  44.1%     -    1s\n",
      "H  663   540                    2294.4690400 2893.55961  26.1%   8.9    3s\n",
      "H  664   541                    2431.0335400 2893.55961  19.0%   8.9    3s\n",
      "H 1500  1052                    2434.3892900 2893.19325  18.8%  10.1    4s\n",
      "  1504  1055 2871.24850   74   66 2434.38929 2893.19325  18.8%  10.1    5s\n",
      "  1549  1087 2877.82958   60   78 2434.38929 2890.18003  18.7%  10.6   10s\n",
      "H 1561  1039                    2702.4191900 2890.00788  6.94%  10.5   12s\n",
      "H 1563   988                    2841.5769400 2890.00780  1.70%  10.5   13s\n",
      "  1571   993 2889.77262   16   94 2841.57694 2889.77262  1.70%  10.4   15s\n",
      "  1600  1016 2889.38099   24   91 2841.57694 2889.38099  1.68%  11.2   20s\n",
      "H 3145  1526                    2846.8549400 2888.46390  1.46%  13.5   24s\n",
      "  3970  1789 2886.28667   41   51 2846.85494 2888.24410  1.45%  13.5   25s\n",
      " 10084  5036 2862.42165   51   39 2846.85494 2886.81008  1.40%  14.0   30s\n",
      "\n",
      "Cutting planes:\n",
      "  Learned: 9\n",
      "  Gomory: 24\n",
      "  Cover: 27\n",
      "  Clique: 4\n",
      "  MIR: 17\n",
      "  Flow cover: 152\n",
      "  Inf proof: 30\n",
      "  Zero half: 12\n",
      "\n",
      "Explored 10519 nodes (147143 simplex iterations) in 30.04 seconds\n",
      "Thread count was 8 (of 8 available processors)\n",
      "\n",
      "Solution count 8: 2846.85 2841.58 2702.42 ... 1866.59\n",
      "\n",
      "Time limit reached\n",
      "Best objective 2.846854940000e+03, best bound 2.886712384532e+03, gap 1.4001%\n",
      "################################\n",
      "The total reward is 3000.0 \n",
      "The delay cost is  29.046399999999945 \n",
      "The total travel cost is  124.09866000000001\n",
      "0.0\n",
      "finish solving problem at  2018-07-06 09:15:04.768712\n",
      "start sovling problem at  2018-07-06 09:15:05.642763\n",
      "Parameter OutputFlag unchanged\n",
      "   Value: 1  Min: 0  Max: 1  Default: 1\n",
      "Changed value of parameter TIME_LIMIT to 30.0\n",
      "   Prev: 1e+100  Min: 0.0  Max: 1e+100  Default: 1e+100\n"
     ]
    },
    {
     "name": "stdout",
     "output_type": "stream",
     "text": [
      "Optimize a model with 592 rows, 360 columns and 2770 nonzeros\n",
      "Variable types: 36 continuous, 324 integer (324 binary)\n",
      "Coefficient statistics:\n",
      "  Matrix range     [1e-02, 2e+03]\n",
      "  Objective range  [1e-02, 2e+02]\n",
      "  Bounds range     [1e+00, 1e+00]\n",
      "  RHS range        [1e+00, 3e+05]\n",
      "\n",
      "Loaded MIP start with objective 1000.35\n",
      "\n",
      "Presolve removed 148 rows and 120 columns\n",
      "Presolve time: 0.07s\n",
      "Presolved: 444 rows, 240 columns, 1949 nonzeros\n",
      "Variable types: 36 continuous, 204 integer (204 binary)\n",
      "\n",
      "Root relaxation: objective 1.301529e+03, 158 iterations, 0.00 seconds\n",
      "\n",
      "    Nodes    |    Current Node    |     Objective Bounds      |     Work\n",
      " Expl Unexpl |  Obj  Depth IntInf | Incumbent    BestBd   Gap | It/Node Time\n",
      "\n",
      "     0     0 1301.52891    0   24 1000.34608 1301.52891  30.1%     -    0s\n",
      "     0     0 1300.13790    0   24 1000.34608 1300.13790  30.0%     -    0s\n",
      "H    0     0                    1005.1150800 1300.13790  29.4%     -    0s\n",
      "     0     0 1300.13790    0   29 1005.11508 1300.13790  29.4%     -    0s\n",
      "     0     0 1299.79336    0   22 1005.11508 1299.79336  29.3%     -    0s\n",
      "     0     0 1299.78137    0   29 1005.11508 1299.78137  29.3%     -    0s\n",
      "     0     0 1299.77875    0   29 1005.11508 1299.77875  29.3%     -    0s\n",
      "     0     0 1299.76770    0   29 1005.11508 1299.76770  29.3%     -    0s\n",
      "     0     0 1299.70889    0   29 1005.11508 1299.70889  29.3%     -    0s\n",
      "     0     0 1299.69956    0   29 1005.11508 1299.69956  29.3%     -    0s\n",
      "     0     0 1299.69232    0   26 1005.11508 1299.69232  29.3%     -    0s\n",
      "     0     0 1299.69232    0   29 1005.11508 1299.69232  29.3%     -    0s\n",
      "     0     0 1299.69115    0   29 1005.11508 1299.69115  29.3%     -    0s\n",
      "     0     0 1299.69115    0   27 1005.11508 1299.69115  29.3%     -    0s\n",
      "     0     0 1299.69115    0   25 1005.11508 1299.69115  29.3%     -    0s\n",
      "     0     0 1299.69115    0   26 1005.11508 1299.69115  29.3%     -    0s\n",
      "     0     0 1299.66357    0   27 1005.11508 1299.66357  29.3%     -    0s\n",
      "     0     0 1299.66357    0   29 1005.11508 1299.66357  29.3%     -    0s\n",
      "     0     0 1299.66357    0   31 1005.11508 1299.66357  29.3%     -    0s\n",
      "     0     0 1299.66357    0   32 1005.11508 1299.66357  29.3%     -    0s\n",
      "     0     0 1299.64308    0   32 1005.11508 1299.64308  29.3%     -    0s\n",
      "     0     0 1299.64308    0   32 1005.11508 1299.64308  29.3%     -    0s\n",
      "     0     0 1299.64308    0   33 1005.11508 1299.64308  29.3%     -    0s\n",
      "     0     0 1299.64308    0   29 1005.11508 1299.64308  29.3%     -    0s\n",
      "     0     0 1299.64308    0   29 1005.11508 1299.64308  29.3%     -    0s\n",
      "     0     2 1299.64308    0   29 1005.11508 1299.64308  29.3%     -    0s\n",
      "H  572   293                    1151.6629200 1298.22456  12.7%   8.0    1s\n",
      "* 2985  1088              23    1152.5703300 1297.12788  12.5%   7.7    1s\n",
      "H 4269  1425                    1152.8692300 1297.09191  12.5%   7.5    1s\n",
      "* 4446  1313              39    1289.9962300 1296.79592  0.53%   7.5    1s\n",
      "H 4486   162                    1296.5113200 1296.79592  0.02%   7.5    1s\n",
      "\n",
      "Cutting planes:\n",
      "  Gomory: 4\n",
      "  Cover: 1\n",
      "  MIR: 8\n",
      "  Flow cover: 14\n",
      "  Inf proof: 1\n",
      "  Zero half: 3\n",
      "\n",
      "Explored 4539 nodes (35446 simplex iterations) in 1.85 seconds\n",
      "Thread count was 8 (of 8 available processors)\n",
      "\n",
      "Solution count 7: 1296.51 1290 1152.87 ... 1000.35\n",
      "\n",
      "Optimal solution found (tolerance 1.00e-04)\n",
      "Best objective 1.296511320000e+03, best bound 1.296511320000e+03, gap 0.0000%\n",
      "################################\n",
      "The total reward is 1350.0 \n",
      "The delay cost is  0.580000000000009 \n",
      "The total travel cost is  52.90867999999999\n",
      "0.0\n",
      "finish solving problem at  2018-07-06 09:15:07.687883\n",
      "start sovling problem at  2018-07-06 09:15:09.587994\n",
      "Parameter OutputFlag unchanged\n",
      "   Value: 1  Min: 0  Max: 1  Default: 1\n",
      "Changed value of parameter TIME_LIMIT to 30.0\n",
      "   Prev: 1e+100  Min: 0.0  Max: 1e+100  Default: 1e+100\n",
      "Optimize a model with 1494 rows, 960 columns and 8431 nonzeros\n",
      "Variable types: 60 continuous, 900 integer (900 binary)\n",
      "Coefficient statistics:\n",
      "  Matrix range     [1e-02, 2e+03]\n",
      "  Objective range  [1e-02, 2e+02]\n",
      "  Bounds range     [1e+00, 1e+00]\n",
      "  RHS range        [1e+00, 3e+05]\n",
      "\n",
      "Loaded MIP start with objective 1729.59\n",
      "\n",
      "Presolve removed 375 rows and 329 columns\n",
      "Presolve time: 0.05s\n",
      "Presolved: 1119 rows, 631 columns, 5844 nonzeros\n",
      "Variable types: 60 continuous, 571 integer (571 binary)\n",
      "\n",
      "Root relaxation: objective 2.185410e+03, 249 iterations, 0.01 seconds\n",
      "\n",
      "    Nodes    |    Current Node    |     Objective Bounds      |     Work\n",
      " Expl Unexpl |  Obj  Depth IntInf | Incumbent    BestBd   Gap | It/Node Time\n",
      "\n",
      "     0     0 2185.41007    0   37 1729.58825 2185.41007  26.4%     -    0s\n",
      "     0     0 2182.88085    0   40 1729.58825 2182.88085  26.2%     -    0s\n",
      "     0     0 2182.88085    0   41 1729.58825 2182.88085  26.2%     -    0s\n",
      "     0     0 2182.56352    0   44 1729.58825 2182.56352  26.2%     -    0s\n",
      "     0     0 2182.56251    0   46 1729.58825 2182.56251  26.2%     -    0s\n",
      "     0     0 2182.50122    0   48 1729.58825 2182.50122  26.2%     -    0s\n",
      "     0     0 2182.47787    0   46 1729.58825 2182.47787  26.2%     -    0s\n",
      "     0     0 2182.47360    0   47 1729.58825 2182.47360  26.2%     -    0s\n",
      "     0     0 2182.41815    0   45 1729.58825 2182.41815  26.2%     -    0s\n",
      "     0     0 2182.41448    0   46 1729.58825 2182.41448  26.2%     -    0s\n",
      "     0     0 2182.41448    0   47 1729.58825 2182.41448  26.2%     -    0s\n",
      "     0     0 2182.41448    0   50 1729.58825 2182.41448  26.2%     -    0s\n",
      "     0     0 2182.41448    0   49 1729.58825 2182.41448  26.2%     -    0s\n",
      "     0     0 2182.41448    0   51 1729.58825 2182.41448  26.2%     -    0s\n",
      "     0     0 2182.41378    0   53 1729.58825 2182.41378  26.2%     -    0s\n",
      "     0     0 2182.34488    0   46 1729.58825 2182.34488  26.2%     -    0s\n",
      "     0     0 2182.34488    0   41 1729.58825 2182.34488  26.2%     -    0s\n",
      "     0     0 2182.34402    0   50 1729.58825 2182.34402  26.2%     -    0s\n",
      "     0     0 2182.29444    0   53 1729.58825 2182.29444  26.2%     -    0s\n",
      "     0     0 2182.29435    0   55 1729.58825 2182.29435  26.2%     -    0s\n",
      "     0     0 2182.27300    0   58 1729.58825 2182.27300  26.2%     -    0s\n",
      "     0     0 2182.27300    0   59 1729.58825 2182.27300  26.2%     -    0s\n",
      "     0     0 2182.27300    0   57 1729.58825 2182.27300  26.2%     -    0s\n",
      "     0     0 2182.27300    0   58 1729.58825 2182.27300  26.2%     -    0s\n",
      "     0     0 2182.27300    0   59 1729.58825 2182.27300  26.2%     -    0s\n",
      "     0     0 2182.21577    0   54 1729.58825 2182.21577  26.2%     -    0s\n",
      "     0     0 2182.21542    0   45 1729.58825 2182.21542  26.2%     -    0s\n",
      "     0     0 2182.21542    0   41 1729.58825 2182.21542  26.2%     -    0s\n",
      "     0     0 2182.21542    0   41 1729.58825 2182.21542  26.2%     -    0s\n",
      "     0     2 2182.21542    0   38 1729.58825 2182.21542  26.2%     -    1s\n",
      "H  480   338                    1874.3177500 2181.96148  16.4%   9.5    1s\n",
      "H  497   356                    2018.8532500 2181.96148  8.08%   9.6    1s\n",
      "H 1686  1049                    2026.3630000 2181.33914  7.65%  11.3    4s\n",
      "  1727  1073 2181.33044   23   41 2026.36300 2181.33580  7.65%  11.4    5s\n",
      "H 1728  1019                    2169.6425000 2181.33580  0.54%  11.4    5s\n",
      "  9220  2875 2178.57706   35   39 2169.64250 2178.93480  0.43%  17.1   10s\n",
      " 14823  4097 2176.50642   35   54 2169.64250 2177.93363  0.38%  17.8   15s\n",
      " 27122  4149 2176.50848   39   43 2169.64250 2177.93363  0.38%  13.7   20s\n",
      " 29868  4896 2177.93363   43   39 2169.64250 2177.93363  0.38%  13.3   25s\n",
      "\n",
      "Cutting planes:\n",
      "  Gomory: 19\n",
      "  Cover: 1\n",
      "  MIR: 11\n",
      "  Flow cover: 28\n",
      "  Inf proof: 1\n",
      "  Zero half: 1\n",
      "\n",
      "Explored 29902 nodes (400296 simplex iterations) in 30.04 seconds\n",
      "Thread count was 8 (of 8 available processors)\n",
      "\n",
      "Solution count 5: 2169.64 2026.36 2018.85 ... 1729.59\n",
      "\n",
      "Time limit reached\n",
      "Best objective 2.169642500000e+03, best bound 2.177933628711e+03, gap 0.3821%\n",
      "################################\n",
      "The total reward is 2250.0 \n",
      "The delay cost is  0.5705000000000056 \n",
      "The total travel cost is  79.787\n",
      "0.0\n",
      "finish solving problem at  2018-07-06 09:15:39.966781\n",
      "start sovling problem at  2018-07-06 09:15:40.159791\n",
      "Parameter OutputFlag unchanged\n",
      "   Value: 1  Min: 0  Max: 1  Default: 1\n",
      "Changed value of parameter TIME_LIMIT to 30.0\n"
     ]
    },
    {
     "name": "stdout",
     "output_type": "stream",
     "text": [
      "   Prev: 1e+100  Min: 0.0  Max: 1e+100  Default: 1e+100\n",
      "Optimize a model with 52 rows, 24 columns and 133 nonzeros\n",
      "Variable types: 8 continuous, 16 integer (16 binary)\n",
      "Coefficient statistics:\n",
      "  Matrix range     [1e-02, 2e+03]\n",
      "  Objective range  [1e-02, 2e+02]\n",
      "  Bounds range     [1e+00, 1e+00]\n",
      "  RHS range        [1e+00, 3e+05]\n",
      "\n",
      "Loaded MIP start with objective 297.323\n",
      "\n",
      "Presolve removed 24 rows and 16 columns\n",
      "Presolve time: 0.06s\n",
      "Presolved: 28 rows, 8 columns, 56 nonzeros\n",
      "Variable types: 8 continuous, 0 integer (0 binary)\n",
      "\n",
      "Explored 0 nodes (0 simplex iterations) in 0.09 seconds\n",
      "Thread count was 8 (of 8 available processors)\n",
      "\n",
      "Solution count 1: 297.323 \n",
      "\n",
      "Optimal solution found (tolerance 1.00e-04)\n",
      "Best objective 2.973230600000e+02, best bound 2.973230600000e+02, gap 0.0000%\n",
      "################################\n",
      "The total reward is 300.0 \n",
      "The delay cost is  0.0 \n",
      "The total travel cost is  2.6769399999999997\n",
      "0.0\n",
      "finish solving problem at  2018-07-06 09:15:40.308800\n",
      "start sovling problem at  2018-07-06 09:15:40.373804\n",
      "Parameter OutputFlag unchanged\n",
      "   Value: 1  Min: 0  Max: 1  Default: 1\n",
      "Changed value of parameter TIME_LIMIT to 30.0\n",
      "   Prev: 1e+100  Min: 0.0  Max: 1e+100  Default: 1e+100\n",
      "Optimize a model with 52 rows, 24 columns and 133 nonzeros\n",
      "Variable types: 8 continuous, 16 integer (16 binary)\n",
      "Coefficient statistics:\n",
      "  Matrix range     [1e-02, 2e+03]\n",
      "  Objective range  [1e-02, 2e+02]\n",
      "  Bounds range     [1e+00, 1e+00]\n",
      "  RHS range        [1e+00, 3e+05]\n",
      "\n",
      "Loaded MIP start with objective 293.846\n",
      "\n",
      "Presolve removed 24 rows and 16 columns\n",
      "Presolve time: 0.06s\n",
      "Presolved: 28 rows, 8 columns, 56 nonzeros\n",
      "Variable types: 8 continuous, 0 integer (0 binary)\n",
      "\n",
      "Explored 0 nodes (0 simplex iterations) in 0.09 seconds\n",
      "Thread count was 8 (of 8 available processors)\n",
      "\n",
      "Solution count 1: 293.846 \n",
      "\n",
      "Optimal solution found (tolerance 1.00e-04)\n",
      "Best objective 2.938457500000e+02, best bound 2.938457500000e+02, gap 0.0000%\n",
      "################################\n",
      "The total reward is 300.0 \n",
      "The delay cost is  0.0 \n",
      "The total travel cost is  6.154249999999999\n",
      "0.0\n",
      "finish solving problem at  2018-07-06 09:15:40.501817\n"
     ]
    }
   ],
   "source": [
    "output_flag=1\n",
    "target_hh_id=2287301\n",
    "# target_hh_id=2744264\n",
    "min_length=15\n",
    "max_length=20\n",
    "single_model_runtime=60*0.5\n",
    "drivingcost_per_mile=1\n",
    "reward_mode=2\n",
    "run_mode=0\n",
    "darp_solutions=[]\n",
    "cav_use_mode=1\n",
    "num_time_interval=1\n",
    "TL=[i*1440/num_time_interval for i in range(num_time_interval)]\n",
    "TU=[(i+1)*1440/num_time_interval for i in range(num_time_interval)]\n",
    "target_hh=traveler_trips[traveler_trips['hh_id']==target_hh_id].drop_duplicates(subset=['orig_maz','dest_maz','orig_purpose','dest_purpose','starttime','joint_trip_flag'])\n",
    "#Sort all trips based on start time. This step could reduce the solving time and make it easier to track\n",
    "sorted_trips=target_hh.sort_values(\"starttime\")\n",
    "#hh_index give an index to all trips within the household for tracking purpose\n",
    "hh_num_trips=sorted_trips.shape[0]\n",
    "sorted_trips[\"hh_index\"]=(range(hh_num_trips))\n",
    "# sorted_trips=sorted_trips.loc[sorted_trips.tripmode<=6]\n",
    "\n",
    "num_cav=1\n",
    "share_ride_factor=1.5\n",
    "time_window_flag=0\n",
    "#         time_window_flag=1\n",
    "# num_cav=1\n",
    "# share_ride_factor=1.5\n",
    "# time_window_flag=0\n",
    "print('**************')\n",
    "print('Num_CAV',num_cav,share_ride_factor,time_window_flag)\n",
    "print('**************')\n",
    "darp_solutions.extend([sod.solve_with_schedule_partition(sorted_trips,Vehicular_Skim,Transit_AB_Cost_Skim,superzone_map,min_length,max_length,\n",
    "                            reward_mode,drivingcost_per_mile,share_ride_factor,output_flag,run_mode,num_cav,\n",
    "                          cav_use_mode,time_window_flag,single_model_runtime,num_time_interval,TL,TU)])"
   ]
  },
  {
   "cell_type": "code",
   "execution_count": 17,
   "metadata": {},
   "outputs": [
    {
     "data": {
      "text/html": [
       "<div>\n",
       "<style>\n",
       "    .dataframe thead tr:only-child th {\n",
       "        text-align: right;\n",
       "    }\n",
       "\n",
       "    .dataframe thead th {\n",
       "        text-align: left;\n",
       "    }\n",
       "\n",
       "    .dataframe tbody tr th {\n",
       "        vertical-align: top;\n",
       "    }\n",
       "</style>\n",
       "<table border=\"1\" class=\"dataframe\">\n",
       "  <thead>\n",
       "    <tr style=\"text-align: right;\">\n",
       "      <th></th>\n",
       "      <th>orig_zone</th>\n",
       "      <th>dest_zone</th>\n",
       "      <th>orig_node_index</th>\n",
       "      <th>dest_node_index</th>\n",
       "      <th>person_id</th>\n",
       "      <th>origin_arrival_time</th>\n",
       "      <th>dest_arrival_time</th>\n",
       "      <th>dest_expected_arrival_time</th>\n",
       "      <th>value_of_time</th>\n",
       "      <th>start_time</th>\n",
       "      <th>Activity_Time</th>\n",
       "      <th>hh_id</th>\n",
       "      <th>seg_index</th>\n",
       "      <th>intrasuperzone_flag</th>\n",
       "      <th>hh_vehicle_id</th>\n",
       "      <th>veh_seg_index</th>\n",
       "    </tr>\n",
       "  </thead>\n",
       "  <tbody>\n",
       "    <tr>\n",
       "      <th>0</th>\n",
       "      <td>18</td>\n",
       "      <td>16</td>\n",
       "      <td>1</td>\n",
       "      <td>65</td>\n",
       "      <td>7933295</td>\n",
       "      <td>129.00</td>\n",
       "      <td>131.80</td>\n",
       "      <td>131.8</td>\n",
       "      <td>0.3725</td>\n",
       "      <td>129.0</td>\n",
       "      <td>17.2</td>\n",
       "      <td>2287301.0</td>\n",
       "      <td>0</td>\n",
       "      <td>0</td>\n",
       "      <td>0</td>\n",
       "      <td>2287301.0_0_0</td>\n",
       "    </tr>\n",
       "    <tr>\n",
       "      <th>2</th>\n",
       "      <td>16</td>\n",
       "      <td>18</td>\n",
       "      <td>2</td>\n",
       "      <td>66</td>\n",
       "      <td>7933295</td>\n",
       "      <td>149.00</td>\n",
       "      <td>151.00</td>\n",
       "      <td>151.0</td>\n",
       "      <td>0.3725</td>\n",
       "      <td>149.0</td>\n",
       "      <td>12.0</td>\n",
       "      <td>2287301.0</td>\n",
       "      <td>0</td>\n",
       "      <td>0</td>\n",
       "      <td>0</td>\n",
       "      <td>2287301.0_0_0</td>\n",
       "    </tr>\n",
       "    <tr>\n",
       "      <th>4</th>\n",
       "      <td>18</td>\n",
       "      <td>5</td>\n",
       "      <td>3</td>\n",
       "      <td>67</td>\n",
       "      <td>7933296</td>\n",
       "      <td>163.00</td>\n",
       "      <td>168.40</td>\n",
       "      <td>168.4</td>\n",
       "      <td>0.3725</td>\n",
       "      <td>163.0</td>\n",
       "      <td>86.6</td>\n",
       "      <td>2287301.0</td>\n",
       "      <td>1</td>\n",
       "      <td>0</td>\n",
       "      <td>0</td>\n",
       "      <td>2287301.0_1_0</td>\n",
       "    </tr>\n",
       "    <tr>\n",
       "      <th>5</th>\n",
       "      <td>5</td>\n",
       "      <td>18</td>\n",
       "      <td>67</td>\n",
       "      <td>4</td>\n",
       "      <td>0</td>\n",
       "      <td>168.40</td>\n",
       "      <td>255.00</td>\n",
       "      <td>255.0</td>\n",
       "      <td>0.0100</td>\n",
       "      <td>255.0</td>\n",
       "      <td>0.0</td>\n",
       "      <td>2287301.0</td>\n",
       "      <td>2</td>\n",
       "      <td>0</td>\n",
       "      <td>0</td>\n",
       "      <td>2287301.0_2_0</td>\n",
       "    </tr>\n",
       "    <tr>\n",
       "      <th>6</th>\n",
       "      <td>18</td>\n",
       "      <td>18</td>\n",
       "      <td>4</td>\n",
       "      <td>68</td>\n",
       "      <td>7933298</td>\n",
       "      <td>255.00</td>\n",
       "      <td>256.60</td>\n",
       "      <td>256.6</td>\n",
       "      <td>0.3725</td>\n",
       "      <td>255.0</td>\n",
       "      <td>36.4</td>\n",
       "      <td>2287301.0</td>\n",
       "      <td>3</td>\n",
       "      <td>0</td>\n",
       "      <td>0</td>\n",
       "      <td>2287301.0_3_0</td>\n",
       "    </tr>\n",
       "    <tr>\n",
       "      <th>8</th>\n",
       "      <td>18</td>\n",
       "      <td>17</td>\n",
       "      <td>5</td>\n",
       "      <td>69</td>\n",
       "      <td>7933299</td>\n",
       "      <td>293.00</td>\n",
       "      <td>295.40</td>\n",
       "      <td>295.4</td>\n",
       "      <td>0.3725</td>\n",
       "      <td>293.0</td>\n",
       "      <td>14.6</td>\n",
       "      <td>2287301.0</td>\n",
       "      <td>4</td>\n",
       "      <td>0</td>\n",
       "      <td>0</td>\n",
       "      <td>2287301.0_4_0</td>\n",
       "    </tr>\n",
       "    <tr>\n",
       "      <th>10</th>\n",
       "      <td>17</td>\n",
       "      <td>18</td>\n",
       "      <td>6</td>\n",
       "      <td>70</td>\n",
       "      <td>7933299</td>\n",
       "      <td>310.00</td>\n",
       "      <td>312.50</td>\n",
       "      <td>312.5</td>\n",
       "      <td>0.3725</td>\n",
       "      <td>310.0</td>\n",
       "      <td>22.5</td>\n",
       "      <td>2287301.0</td>\n",
       "      <td>4</td>\n",
       "      <td>0</td>\n",
       "      <td>0</td>\n",
       "      <td>2287301.0_4_0</td>\n",
       "    </tr>\n",
       "    <tr>\n",
       "      <th>12</th>\n",
       "      <td>18</td>\n",
       "      <td>18</td>\n",
       "      <td>7</td>\n",
       "      <td>71</td>\n",
       "      <td>7933297</td>\n",
       "      <td>335.00</td>\n",
       "      <td>336.60</td>\n",
       "      <td>336.6</td>\n",
       "      <td>0.3725</td>\n",
       "      <td>335.0</td>\n",
       "      <td>2.4</td>\n",
       "      <td>2287301.0</td>\n",
       "      <td>5</td>\n",
       "      <td>0</td>\n",
       "      <td>0</td>\n",
       "      <td>2287301.0_5_0</td>\n",
       "    </tr>\n",
       "    <tr>\n",
       "      <th>13</th>\n",
       "      <td>18</td>\n",
       "      <td>18</td>\n",
       "      <td>71</td>\n",
       "      <td>10</td>\n",
       "      <td>0</td>\n",
       "      <td>336.60</td>\n",
       "      <td>354.00</td>\n",
       "      <td>354.0</td>\n",
       "      <td>0.0100</td>\n",
       "      <td>339.0</td>\n",
       "      <td>0.0</td>\n",
       "      <td>2287301.0</td>\n",
       "      <td>6</td>\n",
       "      <td>0</td>\n",
       "      <td>0</td>\n",
       "      <td>2287301.0_6_0</td>\n",
       "    </tr>\n",
       "    <tr>\n",
       "      <th>14</th>\n",
       "      <td>18</td>\n",
       "      <td>19</td>\n",
       "      <td>10</td>\n",
       "      <td>74</td>\n",
       "      <td>7933302</td>\n",
       "      <td>354.00</td>\n",
       "      <td>357.60</td>\n",
       "      <td>357.6</td>\n",
       "      <td>0.2483</td>\n",
       "      <td>354.0</td>\n",
       "      <td>5.4</td>\n",
       "      <td>2287301.0</td>\n",
       "      <td>7</td>\n",
       "      <td>0</td>\n",
       "      <td>0</td>\n",
       "      <td>2287301.0_7_0</td>\n",
       "    </tr>\n",
       "    <tr>\n",
       "      <th>15</th>\n",
       "      <td>19</td>\n",
       "      <td>18</td>\n",
       "      <td>74</td>\n",
       "      <td>11</td>\n",
       "      <td>0</td>\n",
       "      <td>357.60</td>\n",
       "      <td>361.60</td>\n",
       "      <td>363.0</td>\n",
       "      <td>0.0100</td>\n",
       "      <td>363.0</td>\n",
       "      <td>0.0</td>\n",
       "      <td>2287301.0</td>\n",
       "      <td>8</td>\n",
       "      <td>0</td>\n",
       "      <td>0</td>\n",
       "      <td>2287301.0_8_0</td>\n",
       "    </tr>\n",
       "    <tr>\n",
       "      <th>16</th>\n",
       "      <td>18</td>\n",
       "      <td>18</td>\n",
       "      <td>11</td>\n",
       "      <td>8</td>\n",
       "      <td>7933300</td>\n",
       "      <td>361.60</td>\n",
       "      <td>363.20</td>\n",
       "      <td>339.0</td>\n",
       "      <td>0.3725</td>\n",
       "      <td>363.0</td>\n",
       "      <td>0.0</td>\n",
       "      <td>2287301.0</td>\n",
       "      <td>9</td>\n",
       "      <td>0</td>\n",
       "      <td>0</td>\n",
       "      <td>2287301.0_9_0</td>\n",
       "    </tr>\n",
       "    <tr>\n",
       "      <th>17</th>\n",
       "      <td>18</td>\n",
       "      <td>7</td>\n",
       "      <td>8</td>\n",
       "      <td>72</td>\n",
       "      <td>7933299</td>\n",
       "      <td>363.20</td>\n",
       "      <td>369.60</td>\n",
       "      <td>345.4</td>\n",
       "      <td>0.3725</td>\n",
       "      <td>339.0</td>\n",
       "      <td>6.6</td>\n",
       "      <td>2287301.0</td>\n",
       "      <td>10</td>\n",
       "      <td>0</td>\n",
       "      <td>0</td>\n",
       "      <td>2287301.0_10_0</td>\n",
       "    </tr>\n",
       "    <tr>\n",
       "      <th>18</th>\n",
       "      <td>7</td>\n",
       "      <td>10</td>\n",
       "      <td>72</td>\n",
       "      <td>75</td>\n",
       "      <td>7933300</td>\n",
       "      <td>369.60</td>\n",
       "      <td>372.70</td>\n",
       "      <td>372.2</td>\n",
       "      <td>0.3725</td>\n",
       "      <td>352.0</td>\n",
       "      <td>7.8</td>\n",
       "      <td>2287301.0</td>\n",
       "      <td>11</td>\n",
       "      <td>0</td>\n",
       "      <td>0</td>\n",
       "      <td>2287301.0_11_0</td>\n",
       "    </tr>\n",
       "    <tr>\n",
       "      <th>20</th>\n",
       "      <td>10</td>\n",
       "      <td>7</td>\n",
       "      <td>12</td>\n",
       "      <td>9</td>\n",
       "      <td>7933300</td>\n",
       "      <td>372.70</td>\n",
       "      <td>374.10</td>\n",
       "      <td>352.0</td>\n",
       "      <td>0.3725</td>\n",
       "      <td>380.0</td>\n",
       "      <td>0.0</td>\n",
       "      <td>2287301.0</td>\n",
       "      <td>11</td>\n",
       "      <td>0</td>\n",
       "      <td>0</td>\n",
       "      <td>2287301.0_11_0</td>\n",
       "    </tr>\n",
       "    <tr>\n",
       "      <th>21</th>\n",
       "      <td>7</td>\n",
       "      <td>18</td>\n",
       "      <td>9</td>\n",
       "      <td>73</td>\n",
       "      <td>7933299</td>\n",
       "      <td>374.10</td>\n",
       "      <td>380.30</td>\n",
       "      <td>358.2</td>\n",
       "      <td>0.3725</td>\n",
       "      <td>352.0</td>\n",
       "      <td>0.0</td>\n",
       "      <td>2287301.0</td>\n",
       "      <td>12</td>\n",
       "      <td>0</td>\n",
       "      <td>0</td>\n",
       "      <td>2287301.0_12_0</td>\n",
       "    </tr>\n",
       "    <tr>\n",
       "      <th>22</th>\n",
       "      <td>18</td>\n",
       "      <td>18</td>\n",
       "      <td>73</td>\n",
       "      <td>76</td>\n",
       "      <td>7933300</td>\n",
       "      <td>380.30</td>\n",
       "      <td>384.85</td>\n",
       "      <td>388.1</td>\n",
       "      <td>0.3725</td>\n",
       "      <td>354.0</td>\n",
       "      <td>34.9</td>\n",
       "      <td>2287301.0</td>\n",
       "      <td>13</td>\n",
       "      <td>0</td>\n",
       "      <td>0</td>\n",
       "      <td>2287301.0_13_0</td>\n",
       "    </tr>\n",
       "    <tr>\n",
       "      <th>24</th>\n",
       "      <td>18</td>\n",
       "      <td>18</td>\n",
       "      <td>13</td>\n",
       "      <td>14</td>\n",
       "      <td>7933299</td>\n",
       "      <td>440.30</td>\n",
       "      <td>444.00</td>\n",
       "      <td>444.0</td>\n",
       "      <td>0.3725</td>\n",
       "      <td>423.0</td>\n",
       "      <td>0.0</td>\n",
       "      <td>2287301.0</td>\n",
       "      <td>14</td>\n",
       "      <td>0</td>\n",
       "      <td>0</td>\n",
       "      <td>2287301.0_14_0</td>\n",
       "    </tr>\n",
       "    <tr>\n",
       "      <th>25</th>\n",
       "      <td>18</td>\n",
       "      <td>9</td>\n",
       "      <td>14</td>\n",
       "      <td>78</td>\n",
       "      <td>7933304</td>\n",
       "      <td>444.00</td>\n",
       "      <td>447.80</td>\n",
       "      <td>447.8</td>\n",
       "      <td>0.2483</td>\n",
       "      <td>444.0</td>\n",
       "      <td>3.2</td>\n",
       "      <td>2287301.0</td>\n",
       "      <td>15</td>\n",
       "      <td>0</td>\n",
       "      <td>0</td>\n",
       "      <td>2287301.0_15_0</td>\n",
       "    </tr>\n",
       "    <tr>\n",
       "      <th>27</th>\n",
       "      <td>9</td>\n",
       "      <td>8</td>\n",
       "      <td>15</td>\n",
       "      <td>79</td>\n",
       "      <td>7933304</td>\n",
       "      <td>447.80</td>\n",
       "      <td>449.80</td>\n",
       "      <td>453.0</td>\n",
       "      <td>0.2483</td>\n",
       "      <td>451.0</td>\n",
       "      <td>12.0</td>\n",
       "      <td>2287301.0</td>\n",
       "      <td>15</td>\n",
       "      <td>0</td>\n",
       "      <td>0</td>\n",
       "      <td>2287301.0_15_0</td>\n",
       "    </tr>\n",
       "    <tr>\n",
       "      <th>28</th>\n",
       "      <td>8</td>\n",
       "      <td>1</td>\n",
       "      <td>79</td>\n",
       "      <td>77</td>\n",
       "      <td>7933299</td>\n",
       "      <td>449.80</td>\n",
       "      <td>454.70</td>\n",
       "      <td>432.6</td>\n",
       "      <td>0.3725</td>\n",
       "      <td>465.0</td>\n",
       "      <td>11.4</td>\n",
       "      <td>2287301.0</td>\n",
       "      <td>16</td>\n",
       "      <td>0</td>\n",
       "      <td>0</td>\n",
       "      <td>2287301.0_16_0</td>\n",
       "    </tr>\n",
       "    <tr>\n",
       "      <th>29</th>\n",
       "      <td>1</td>\n",
       "      <td>1</td>\n",
       "      <td>77</td>\n",
       "      <td>18</td>\n",
       "      <td>0</td>\n",
       "      <td>454.70</td>\n",
       "      <td>461.50</td>\n",
       "      <td>495.0</td>\n",
       "      <td>0.0100</td>\n",
       "      <td>444.0</td>\n",
       "      <td>0.0</td>\n",
       "      <td>2287301.0</td>\n",
       "      <td>17</td>\n",
       "      <td>0</td>\n",
       "      <td>0</td>\n",
       "      <td>2287301.0_17_0</td>\n",
       "    </tr>\n",
       "    <tr>\n",
       "      <th>30</th>\n",
       "      <td>1</td>\n",
       "      <td>8</td>\n",
       "      <td>18</td>\n",
       "      <td>16</td>\n",
       "      <td>7933299</td>\n",
       "      <td>461.50</td>\n",
       "      <td>465.00</td>\n",
       "      <td>465.0</td>\n",
       "      <td>0.3725</td>\n",
       "      <td>495.0</td>\n",
       "      <td>0.0</td>\n",
       "      <td>2287301.0</td>\n",
       "      <td>18</td>\n",
       "      <td>0</td>\n",
       "      <td>0</td>\n",
       "      <td>2287301.0_18_0</td>\n",
       "    </tr>\n",
       "    <tr>\n",
       "      <th>31</th>\n",
       "      <td>8</td>\n",
       "      <td>18</td>\n",
       "      <td>16</td>\n",
       "      <td>80</td>\n",
       "      <td>7933304</td>\n",
       "      <td>465.00</td>\n",
       "      <td>470.20</td>\n",
       "      <td>470.2</td>\n",
       "      <td>0.2483</td>\n",
       "      <td>465.0</td>\n",
       "      <td>0.8</td>\n",
       "      <td>2287301.0</td>\n",
       "      <td>19</td>\n",
       "      <td>0</td>\n",
       "      <td>0</td>\n",
       "      <td>2287301.0_19_0</td>\n",
       "    </tr>\n",
       "    <tr>\n",
       "      <th>32</th>\n",
       "      <td>18</td>\n",
       "      <td>18</td>\n",
       "      <td>80</td>\n",
       "      <td>82</td>\n",
       "      <td>7933299</td>\n",
       "      <td>470.20</td>\n",
       "      <td>473.80</td>\n",
       "      <td>503.2</td>\n",
       "      <td>0.3725</td>\n",
       "      <td>471.0</td>\n",
       "      <td>4.8</td>\n",
       "      <td>2287301.0</td>\n",
       "      <td>20</td>\n",
       "      <td>0</td>\n",
       "      <td>0</td>\n",
       "      <td>2287301.0_20_0</td>\n",
       "    </tr>\n",
       "    <tr>\n",
       "      <th>34</th>\n",
       "      <td>18</td>\n",
       "      <td>20</td>\n",
       "      <td>19</td>\n",
       "      <td>83</td>\n",
       "      <td>7933299</td>\n",
       "      <td>508.00</td>\n",
       "      <td>509.00</td>\n",
       "      <td>509.0</td>\n",
       "      <td>0.3725</td>\n",
       "      <td>508.0</td>\n",
       "      <td>4.0</td>\n",
       "      <td>2287301.0</td>\n",
       "      <td>21</td>\n",
       "      <td>0</td>\n",
       "      <td>0</td>\n",
       "      <td>2287301.0_21_0</td>\n",
       "    </tr>\n",
       "    <tr>\n",
       "      <th>35</th>\n",
       "      <td>20</td>\n",
       "      <td>20</td>\n",
       "      <td>83</td>\n",
       "      <td>21</td>\n",
       "      <td>0</td>\n",
       "      <td>509.00</td>\n",
       "      <td>528.00</td>\n",
       "      <td>528.0</td>\n",
       "      <td>0.0100</td>\n",
       "      <td>513.0</td>\n",
       "      <td>0.0</td>\n",
       "      <td>2287301.0</td>\n",
       "      <td>22</td>\n",
       "      <td>0</td>\n",
       "      <td>0</td>\n",
       "      <td>2287301.0_22_0</td>\n",
       "    </tr>\n",
       "    <tr>\n",
       "      <th>36</th>\n",
       "      <td>20</td>\n",
       "      <td>19</td>\n",
       "      <td>21</td>\n",
       "      <td>85</td>\n",
       "      <td>7933299</td>\n",
       "      <td>528.00</td>\n",
       "      <td>530.10</td>\n",
       "      <td>530.1</td>\n",
       "      <td>0.3725</td>\n",
       "      <td>528.0</td>\n",
       "      <td>909.9</td>\n",
       "      <td>2287301.0</td>\n",
       "      <td>23</td>\n",
       "      <td>0</td>\n",
       "      <td>0</td>\n",
       "      <td>2287301.0_23_0</td>\n",
       "    </tr>\n",
       "    <tr>\n",
       "      <th>37</th>\n",
       "      <td>19</td>\n",
       "      <td>18</td>\n",
       "      <td>85</td>\n",
       "      <td>20</td>\n",
       "      <td>0</td>\n",
       "      <td>530.10</td>\n",
       "      <td>534.30</td>\n",
       "      <td>513.0</td>\n",
       "      <td>0.0100</td>\n",
       "      <td>1440.0</td>\n",
       "      <td>0.0</td>\n",
       "      <td>2287301.0</td>\n",
       "      <td>24</td>\n",
       "      <td>0</td>\n",
       "      <td>0</td>\n",
       "      <td>2287301.0_24_0</td>\n",
       "    </tr>\n",
       "    <tr>\n",
       "      <th>38</th>\n",
       "      <td>18</td>\n",
       "      <td>16</td>\n",
       "      <td>20</td>\n",
       "      <td>84</td>\n",
       "      <td>7933304</td>\n",
       "      <td>534.30</td>\n",
       "      <td>537.20</td>\n",
       "      <td>515.9</td>\n",
       "      <td>0.2483</td>\n",
       "      <td>513.0</td>\n",
       "      <td>12.1</td>\n",
       "      <td>2287301.0</td>\n",
       "      <td>25</td>\n",
       "      <td>0</td>\n",
       "      <td>0</td>\n",
       "      <td>2287301.0_25_0</td>\n",
       "    </tr>\n",
       "    <tr>\n",
       "      <th>...</th>\n",
       "      <td>...</td>\n",
       "      <td>...</td>\n",
       "      <td>...</td>\n",
       "      <td>...</td>\n",
       "      <td>...</td>\n",
       "      <td>...</td>\n",
       "      <td>...</td>\n",
       "      <td>...</td>\n",
       "      <td>...</td>\n",
       "      <td>...</td>\n",
       "      <td>...</td>\n",
       "      <td>...</td>\n",
       "      <td>...</td>\n",
       "      <td>...</td>\n",
       "      <td>...</td>\n",
       "      <td>...</td>\n",
       "    </tr>\n",
       "    <tr>\n",
       "      <th>10</th>\n",
       "      <td>18</td>\n",
       "      <td>18</td>\n",
       "      <td>47</td>\n",
       "      <td>111</td>\n",
       "      <td>7933300</td>\n",
       "      <td>951.00</td>\n",
       "      <td>952.80</td>\n",
       "      <td>952.8</td>\n",
       "      <td>0.3725</td>\n",
       "      <td>951.0</td>\n",
       "      <td>36.2</td>\n",
       "      <td>2287301.0</td>\n",
       "      <td>10</td>\n",
       "      <td>0</td>\n",
       "      <td>0</td>\n",
       "      <td>2287301.0_10_0</td>\n",
       "    </tr>\n",
       "    <tr>\n",
       "      <th>11</th>\n",
       "      <td>18</td>\n",
       "      <td>18</td>\n",
       "      <td>111</td>\n",
       "      <td>46</td>\n",
       "      <td>0</td>\n",
       "      <td>952.80</td>\n",
       "      <td>954.60</td>\n",
       "      <td>951.0</td>\n",
       "      <td>0.0100</td>\n",
       "      <td>989.0</td>\n",
       "      <td>0.0</td>\n",
       "      <td>2287301.0</td>\n",
       "      <td>11</td>\n",
       "      <td>0</td>\n",
       "      <td>0</td>\n",
       "      <td>2287301.0_11_0</td>\n",
       "    </tr>\n",
       "    <tr>\n",
       "      <th>12</th>\n",
       "      <td>18</td>\n",
       "      <td>18</td>\n",
       "      <td>46</td>\n",
       "      <td>110</td>\n",
       "      <td>7933303</td>\n",
       "      <td>954.60</td>\n",
       "      <td>956.40</td>\n",
       "      <td>952.8</td>\n",
       "      <td>0.2483</td>\n",
       "      <td>951.0</td>\n",
       "      <td>0.0</td>\n",
       "      <td>2287301.0</td>\n",
       "      <td>12</td>\n",
       "      <td>0</td>\n",
       "      <td>0</td>\n",
       "      <td>2287301.0_12_0</td>\n",
       "    </tr>\n",
       "    <tr>\n",
       "      <th>13</th>\n",
       "      <td>18</td>\n",
       "      <td>18</td>\n",
       "      <td>110</td>\n",
       "      <td>48</td>\n",
       "      <td>0</td>\n",
       "      <td>956.40</td>\n",
       "      <td>989.00</td>\n",
       "      <td>989.0</td>\n",
       "      <td>0.0100</td>\n",
       "      <td>951.0</td>\n",
       "      <td>0.0</td>\n",
       "      <td>2287301.0</td>\n",
       "      <td>13</td>\n",
       "      <td>0</td>\n",
       "      <td>0</td>\n",
       "      <td>2287301.0_13_0</td>\n",
       "    </tr>\n",
       "    <tr>\n",
       "      <th>14</th>\n",
       "      <td>18</td>\n",
       "      <td>6</td>\n",
       "      <td>48</td>\n",
       "      <td>112</td>\n",
       "      <td>7933295</td>\n",
       "      <td>989.00</td>\n",
       "      <td>993.80</td>\n",
       "      <td>993.8</td>\n",
       "      <td>0.3725</td>\n",
       "      <td>989.0</td>\n",
       "      <td>446.2</td>\n",
       "      <td>2287301.0</td>\n",
       "      <td>14</td>\n",
       "      <td>0</td>\n",
       "      <td>0</td>\n",
       "      <td>2287301.0_14_0</td>\n",
       "    </tr>\n",
       "    <tr>\n",
       "      <th>0</th>\n",
       "      <td>6</td>\n",
       "      <td>9</td>\n",
       "      <td>49</td>\n",
       "      <td>113</td>\n",
       "      <td>7933295</td>\n",
       "      <td>1005.01</td>\n",
       "      <td>1009.01</td>\n",
       "      <td>1010.0</td>\n",
       "      <td>0.3725</td>\n",
       "      <td>1006.0</td>\n",
       "      <td>0.0</td>\n",
       "      <td>2287301.0</td>\n",
       "      <td>0</td>\n",
       "      <td>0</td>\n",
       "      <td>0</td>\n",
       "      <td>2287301.0_0_0</td>\n",
       "    </tr>\n",
       "    <tr>\n",
       "      <th>1</th>\n",
       "      <td>9</td>\n",
       "      <td>18</td>\n",
       "      <td>113</td>\n",
       "      <td>50</td>\n",
       "      <td>0</td>\n",
       "      <td>1009.01</td>\n",
       "      <td>1011.31</td>\n",
       "      <td>1008.0</td>\n",
       "      <td>0.0100</td>\n",
       "      <td>1008.0</td>\n",
       "      <td>0.0</td>\n",
       "      <td>2287301.0</td>\n",
       "      <td>1</td>\n",
       "      <td>0</td>\n",
       "      <td>0</td>\n",
       "      <td>2287301.0_1_0</td>\n",
       "    </tr>\n",
       "    <tr>\n",
       "      <th>2</th>\n",
       "      <td>18</td>\n",
       "      <td>18</td>\n",
       "      <td>50</td>\n",
       "      <td>114</td>\n",
       "      <td>7933298</td>\n",
       "      <td>1011.31</td>\n",
       "      <td>1013.11</td>\n",
       "      <td>1009.8</td>\n",
       "      <td>0.3725</td>\n",
       "      <td>1008.0</td>\n",
       "      <td>16.2</td>\n",
       "      <td>2287301.0</td>\n",
       "      <td>2</td>\n",
       "      <td>0</td>\n",
       "      <td>0</td>\n",
       "      <td>2287301.0_2_0</td>\n",
       "    </tr>\n",
       "    <tr>\n",
       "      <th>4</th>\n",
       "      <td>18</td>\n",
       "      <td>20</td>\n",
       "      <td>51</td>\n",
       "      <td>115</td>\n",
       "      <td>7933296</td>\n",
       "      <td>1026.00</td>\n",
       "      <td>1027.20</td>\n",
       "      <td>1027.2</td>\n",
       "      <td>0.3725</td>\n",
       "      <td>1026.0</td>\n",
       "      <td>4.8</td>\n",
       "      <td>2287301.0</td>\n",
       "      <td>3</td>\n",
       "      <td>0</td>\n",
       "      <td>0</td>\n",
       "      <td>2287301.0_3_0</td>\n",
       "    </tr>\n",
       "    <tr>\n",
       "      <th>6</th>\n",
       "      <td>20</td>\n",
       "      <td>20</td>\n",
       "      <td>52</td>\n",
       "      <td>116</td>\n",
       "      <td>7933296</td>\n",
       "      <td>1032.00</td>\n",
       "      <td>1033.10</td>\n",
       "      <td>1033.1</td>\n",
       "      <td>0.3725</td>\n",
       "      <td>1032.0</td>\n",
       "      <td>14.9</td>\n",
       "      <td>2287301.0</td>\n",
       "      <td>4</td>\n",
       "      <td>0</td>\n",
       "      <td>0</td>\n",
       "      <td>2287301.0_4_0</td>\n",
       "    </tr>\n",
       "    <tr>\n",
       "      <th>7</th>\n",
       "      <td>20</td>\n",
       "      <td>20</td>\n",
       "      <td>116</td>\n",
       "      <td>54</td>\n",
       "      <td>0</td>\n",
       "      <td>1033.10</td>\n",
       "      <td>1042.80</td>\n",
       "      <td>1048.0</td>\n",
       "      <td>0.0100</td>\n",
       "      <td>1048.0</td>\n",
       "      <td>0.0</td>\n",
       "      <td>2287301.0</td>\n",
       "      <td>5</td>\n",
       "      <td>0</td>\n",
       "      <td>0</td>\n",
       "      <td>2287301.0_5_0</td>\n",
       "    </tr>\n",
       "    <tr>\n",
       "      <th>8</th>\n",
       "      <td>20</td>\n",
       "      <td>18</td>\n",
       "      <td>54</td>\n",
       "      <td>118</td>\n",
       "      <td>7933296</td>\n",
       "      <td>1042.80</td>\n",
       "      <td>1046.20</td>\n",
       "      <td>1051.4</td>\n",
       "      <td>0.3725</td>\n",
       "      <td>1048.0</td>\n",
       "      <td>7.6</td>\n",
       "      <td>2287301.0</td>\n",
       "      <td>6</td>\n",
       "      <td>0</td>\n",
       "      <td>0</td>\n",
       "      <td>2287301.0_6_0</td>\n",
       "    </tr>\n",
       "    <tr>\n",
       "      <th>9</th>\n",
       "      <td>18</td>\n",
       "      <td>18</td>\n",
       "      <td>118</td>\n",
       "      <td>53</td>\n",
       "      <td>0</td>\n",
       "      <td>1046.20</td>\n",
       "      <td>1048.00</td>\n",
       "      <td>1048.0</td>\n",
       "      <td>0.0100</td>\n",
       "      <td>1059.0</td>\n",
       "      <td>0.0</td>\n",
       "      <td>2287301.0</td>\n",
       "      <td>7</td>\n",
       "      <td>0</td>\n",
       "      <td>0</td>\n",
       "      <td>2287301.0_7_0</td>\n",
       "    </tr>\n",
       "    <tr>\n",
       "      <th>10</th>\n",
       "      <td>18</td>\n",
       "      <td>18</td>\n",
       "      <td>53</td>\n",
       "      <td>117</td>\n",
       "      <td>7933298</td>\n",
       "      <td>1048.00</td>\n",
       "      <td>1049.80</td>\n",
       "      <td>1049.8</td>\n",
       "      <td>0.3725</td>\n",
       "      <td>1048.0</td>\n",
       "      <td>0.0</td>\n",
       "      <td>2287301.0</td>\n",
       "      <td>8</td>\n",
       "      <td>0</td>\n",
       "      <td>0</td>\n",
       "      <td>2287301.0_8_0</td>\n",
       "    </tr>\n",
       "    <tr>\n",
       "      <th>11</th>\n",
       "      <td>18</td>\n",
       "      <td>18</td>\n",
       "      <td>117</td>\n",
       "      <td>55</td>\n",
       "      <td>0</td>\n",
       "      <td>1049.80</td>\n",
       "      <td>1059.00</td>\n",
       "      <td>1059.0</td>\n",
       "      <td>0.0100</td>\n",
       "      <td>1048.0</td>\n",
       "      <td>0.0</td>\n",
       "      <td>2287301.0</td>\n",
       "      <td>9</td>\n",
       "      <td>0</td>\n",
       "      <td>0</td>\n",
       "      <td>2287301.0_9_0</td>\n",
       "    </tr>\n",
       "    <tr>\n",
       "      <th>12</th>\n",
       "      <td>18</td>\n",
       "      <td>18</td>\n",
       "      <td>55</td>\n",
       "      <td>119</td>\n",
       "      <td>7933297</td>\n",
       "      <td>1059.00</td>\n",
       "      <td>1060.80</td>\n",
       "      <td>1060.8</td>\n",
       "      <td>0.3725</td>\n",
       "      <td>1059.0</td>\n",
       "      <td>2.2</td>\n",
       "      <td>2287301.0</td>\n",
       "      <td>10</td>\n",
       "      <td>0</td>\n",
       "      <td>0</td>\n",
       "      <td>2287301.0_10_0</td>\n",
       "    </tr>\n",
       "    <tr>\n",
       "      <th>14</th>\n",
       "      <td>18</td>\n",
       "      <td>18</td>\n",
       "      <td>56</td>\n",
       "      <td>120</td>\n",
       "      <td>7933296</td>\n",
       "      <td>1063.00</td>\n",
       "      <td>1064.80</td>\n",
       "      <td>1064.8</td>\n",
       "      <td>0.3725</td>\n",
       "      <td>1063.0</td>\n",
       "      <td>5.2</td>\n",
       "      <td>2287301.0</td>\n",
       "      <td>11</td>\n",
       "      <td>0</td>\n",
       "      <td>0</td>\n",
       "      <td>2287301.0_11_0</td>\n",
       "    </tr>\n",
       "    <tr>\n",
       "      <th>16</th>\n",
       "      <td>18</td>\n",
       "      <td>18</td>\n",
       "      <td>57</td>\n",
       "      <td>121</td>\n",
       "      <td>7933296</td>\n",
       "      <td>1070.00</td>\n",
       "      <td>1071.80</td>\n",
       "      <td>1071.8</td>\n",
       "      <td>0.3725</td>\n",
       "      <td>1070.0</td>\n",
       "      <td>51.2</td>\n",
       "      <td>2287301.0</td>\n",
       "      <td>12</td>\n",
       "      <td>0</td>\n",
       "      <td>0</td>\n",
       "      <td>2287301.0_12_0</td>\n",
       "    </tr>\n",
       "    <tr>\n",
       "      <th>17</th>\n",
       "      <td>18</td>\n",
       "      <td>9</td>\n",
       "      <td>121</td>\n",
       "      <td>58</td>\n",
       "      <td>0</td>\n",
       "      <td>1071.80</td>\n",
       "      <td>1123.00</td>\n",
       "      <td>1123.0</td>\n",
       "      <td>0.0100</td>\n",
       "      <td>1123.0</td>\n",
       "      <td>0.0</td>\n",
       "      <td>2287301.0</td>\n",
       "      <td>13</td>\n",
       "      <td>0</td>\n",
       "      <td>0</td>\n",
       "      <td>2287301.0_13_0</td>\n",
       "    </tr>\n",
       "    <tr>\n",
       "      <th>18</th>\n",
       "      <td>9</td>\n",
       "      <td>18</td>\n",
       "      <td>58</td>\n",
       "      <td>122</td>\n",
       "      <td>7933295</td>\n",
       "      <td>1123.00</td>\n",
       "      <td>1125.30</td>\n",
       "      <td>1125.3</td>\n",
       "      <td>0.3725</td>\n",
       "      <td>1123.0</td>\n",
       "      <td>12.7</td>\n",
       "      <td>2287301.0</td>\n",
       "      <td>14</td>\n",
       "      <td>0</td>\n",
       "      <td>0</td>\n",
       "      <td>2287301.0_14_0</td>\n",
       "    </tr>\n",
       "    <tr>\n",
       "      <th>19</th>\n",
       "      <td>18</td>\n",
       "      <td>18</td>\n",
       "      <td>122</td>\n",
       "      <td>60</td>\n",
       "      <td>0</td>\n",
       "      <td>1125.30</td>\n",
       "      <td>1134.60</td>\n",
       "      <td>1150.0</td>\n",
       "      <td>0.0100</td>\n",
       "      <td>1138.0</td>\n",
       "      <td>0.0</td>\n",
       "      <td>2287301.0</td>\n",
       "      <td>15</td>\n",
       "      <td>0</td>\n",
       "      <td>0</td>\n",
       "      <td>2287301.0_15_0</td>\n",
       "    </tr>\n",
       "    <tr>\n",
       "      <th>20</th>\n",
       "      <td>18</td>\n",
       "      <td>18</td>\n",
       "      <td>60</td>\n",
       "      <td>124</td>\n",
       "      <td>7933300</td>\n",
       "      <td>1134.60</td>\n",
       "      <td>1136.30</td>\n",
       "      <td>1151.7</td>\n",
       "      <td>0.3725</td>\n",
       "      <td>1150.0</td>\n",
       "      <td>11.3</td>\n",
       "      <td>2287301.0</td>\n",
       "      <td>16</td>\n",
       "      <td>0</td>\n",
       "      <td>0</td>\n",
       "      <td>2287301.0_16_0</td>\n",
       "    </tr>\n",
       "    <tr>\n",
       "      <th>21</th>\n",
       "      <td>18</td>\n",
       "      <td>18</td>\n",
       "      <td>124</td>\n",
       "      <td>59</td>\n",
       "      <td>0</td>\n",
       "      <td>1136.30</td>\n",
       "      <td>1138.00</td>\n",
       "      <td>1138.0</td>\n",
       "      <td>0.0100</td>\n",
       "      <td>1163.0</td>\n",
       "      <td>0.0</td>\n",
       "      <td>2287301.0</td>\n",
       "      <td>17</td>\n",
       "      <td>0</td>\n",
       "      <td>0</td>\n",
       "      <td>2287301.0_17_0</td>\n",
       "    </tr>\n",
       "    <tr>\n",
       "      <th>22</th>\n",
       "      <td>18</td>\n",
       "      <td>8</td>\n",
       "      <td>59</td>\n",
       "      <td>123</td>\n",
       "      <td>7933297</td>\n",
       "      <td>1138.00</td>\n",
       "      <td>1143.40</td>\n",
       "      <td>1143.4</td>\n",
       "      <td>0.3725</td>\n",
       "      <td>1138.0</td>\n",
       "      <td>6.6</td>\n",
       "      <td>2287301.0</td>\n",
       "      <td>18</td>\n",
       "      <td>0</td>\n",
       "      <td>0</td>\n",
       "      <td>2287301.0_18_0</td>\n",
       "    </tr>\n",
       "    <tr>\n",
       "      <th>23</th>\n",
       "      <td>8</td>\n",
       "      <td>5</td>\n",
       "      <td>123</td>\n",
       "      <td>61</td>\n",
       "      <td>0</td>\n",
       "      <td>1143.40</td>\n",
       "      <td>1163.00</td>\n",
       "      <td>1163.0</td>\n",
       "      <td>0.0100</td>\n",
       "      <td>1150.0</td>\n",
       "      <td>0.0</td>\n",
       "      <td>2287301.0</td>\n",
       "      <td>19</td>\n",
       "      <td>0</td>\n",
       "      <td>0</td>\n",
       "      <td>2287301.0_19_0</td>\n",
       "    </tr>\n",
       "    <tr>\n",
       "      <th>24</th>\n",
       "      <td>5</td>\n",
       "      <td>8</td>\n",
       "      <td>61</td>\n",
       "      <td>62</td>\n",
       "      <td>7933299</td>\n",
       "      <td>1163.00</td>\n",
       "      <td>1165.05</td>\n",
       "      <td>1168.0</td>\n",
       "      <td>0.3725</td>\n",
       "      <td>1163.0</td>\n",
       "      <td>0.0</td>\n",
       "      <td>2287301.0</td>\n",
       "      <td>20</td>\n",
       "      <td>0</td>\n",
       "      <td>0</td>\n",
       "      <td>2287301.0_20_0</td>\n",
       "    </tr>\n",
       "    <tr>\n",
       "      <th>25</th>\n",
       "      <td>8</td>\n",
       "      <td>18</td>\n",
       "      <td>62</td>\n",
       "      <td>125</td>\n",
       "      <td>7933297</td>\n",
       "      <td>1165.05</td>\n",
       "      <td>1170.95</td>\n",
       "      <td>1168.8</td>\n",
       "      <td>0.3725</td>\n",
       "      <td>1168.0</td>\n",
       "      <td>0.0</td>\n",
       "      <td>2287301.0</td>\n",
       "      <td>21</td>\n",
       "      <td>0</td>\n",
       "      <td>0</td>\n",
       "      <td>2287301.0_21_0</td>\n",
       "    </tr>\n",
       "    <tr>\n",
       "      <th>26</th>\n",
       "      <td>18</td>\n",
       "      <td>18</td>\n",
       "      <td>125</td>\n",
       "      <td>126</td>\n",
       "      <td>7933297</td>\n",
       "      <td>1170.95</td>\n",
       "      <td>1173.90</td>\n",
       "      <td>1173.9</td>\n",
       "      <td>0.3725</td>\n",
       "      <td>1168.0</td>\n",
       "      <td>266.1</td>\n",
       "      <td>2287301.0</td>\n",
       "      <td>22</td>\n",
       "      <td>0</td>\n",
       "      <td>0</td>\n",
       "      <td>2287301.0_22_0</td>\n",
       "    </tr>\n",
       "    <tr>\n",
       "      <th>0</th>\n",
       "      <td>18</td>\n",
       "      <td>18</td>\n",
       "      <td>63</td>\n",
       "      <td>127</td>\n",
       "      <td>7933303</td>\n",
       "      <td>1211.00</td>\n",
       "      <td>1212.80</td>\n",
       "      <td>1212.8</td>\n",
       "      <td>0.2483</td>\n",
       "      <td>1211.0</td>\n",
       "      <td>227.2</td>\n",
       "      <td>2287301.0</td>\n",
       "      <td>0</td>\n",
       "      <td>0</td>\n",
       "      <td>0</td>\n",
       "      <td>2287301.0_0_0</td>\n",
       "    </tr>\n",
       "    <tr>\n",
       "      <th>0</th>\n",
       "      <td>14</td>\n",
       "      <td>18</td>\n",
       "      <td>64</td>\n",
       "      <td>128</td>\n",
       "      <td>7933301</td>\n",
       "      <td>1344.00</td>\n",
       "      <td>1349.30</td>\n",
       "      <td>1349.3</td>\n",
       "      <td>0.3725</td>\n",
       "      <td>1344.0</td>\n",
       "      <td>90.7</td>\n",
       "      <td>2287301.0</td>\n",
       "      <td>0</td>\n",
       "      <td>0</td>\n",
       "      <td>0</td>\n",
       "      <td>2287301.0_0_0</td>\n",
       "    </tr>\n",
       "  </tbody>\n",
       "</table>\n",
       "<p>105 rows × 16 columns</p>\n",
       "</div>"
      ],
      "text/plain": [
       "    orig_zone  dest_zone  orig_node_index  dest_node_index  person_id  \\\n",
       "0          18         16                1               65    7933295   \n",
       "2          16         18                2               66    7933295   \n",
       "4          18          5                3               67    7933296   \n",
       "5           5         18               67                4          0   \n",
       "6          18         18                4               68    7933298   \n",
       "8          18         17                5               69    7933299   \n",
       "10         17         18                6               70    7933299   \n",
       "12         18         18                7               71    7933297   \n",
       "13         18         18               71               10          0   \n",
       "14         18         19               10               74    7933302   \n",
       "15         19         18               74               11          0   \n",
       "16         18         18               11                8    7933300   \n",
       "17         18          7                8               72    7933299   \n",
       "18          7         10               72               75    7933300   \n",
       "20         10          7               12                9    7933300   \n",
       "21          7         18                9               73    7933299   \n",
       "22         18         18               73               76    7933300   \n",
       "24         18         18               13               14    7933299   \n",
       "25         18          9               14               78    7933304   \n",
       "27          9          8               15               79    7933304   \n",
       "28          8          1               79               77    7933299   \n",
       "29          1          1               77               18          0   \n",
       "30          1          8               18               16    7933299   \n",
       "31          8         18               16               80    7933304   \n",
       "32         18         18               80               82    7933299   \n",
       "34         18         20               19               83    7933299   \n",
       "35         20         20               83               21          0   \n",
       "36         20         19               21               85    7933299   \n",
       "37         19         18               85               20          0   \n",
       "38         18         16               20               84    7933304   \n",
       "..        ...        ...              ...              ...        ...   \n",
       "10         18         18               47              111    7933300   \n",
       "11         18         18              111               46          0   \n",
       "12         18         18               46              110    7933303   \n",
       "13         18         18              110               48          0   \n",
       "14         18          6               48              112    7933295   \n",
       "0           6          9               49              113    7933295   \n",
       "1           9         18              113               50          0   \n",
       "2          18         18               50              114    7933298   \n",
       "4          18         20               51              115    7933296   \n",
       "6          20         20               52              116    7933296   \n",
       "7          20         20              116               54          0   \n",
       "8          20         18               54              118    7933296   \n",
       "9          18         18              118               53          0   \n",
       "10         18         18               53              117    7933298   \n",
       "11         18         18              117               55          0   \n",
       "12         18         18               55              119    7933297   \n",
       "14         18         18               56              120    7933296   \n",
       "16         18         18               57              121    7933296   \n",
       "17         18          9              121               58          0   \n",
       "18          9         18               58              122    7933295   \n",
       "19         18         18              122               60          0   \n",
       "20         18         18               60              124    7933300   \n",
       "21         18         18              124               59          0   \n",
       "22         18          8               59              123    7933297   \n",
       "23          8          5              123               61          0   \n",
       "24          5          8               61               62    7933299   \n",
       "25          8         18               62              125    7933297   \n",
       "26         18         18              125              126    7933297   \n",
       "0          18         18               63              127    7933303   \n",
       "0          14         18               64              128    7933301   \n",
       "\n",
       "    origin_arrival_time  dest_arrival_time  dest_expected_arrival_time  \\\n",
       "0                129.00             131.80                       131.8   \n",
       "2                149.00             151.00                       151.0   \n",
       "4                163.00             168.40                       168.4   \n",
       "5                168.40             255.00                       255.0   \n",
       "6                255.00             256.60                       256.6   \n",
       "8                293.00             295.40                       295.4   \n",
       "10               310.00             312.50                       312.5   \n",
       "12               335.00             336.60                       336.6   \n",
       "13               336.60             354.00                       354.0   \n",
       "14               354.00             357.60                       357.6   \n",
       "15               357.60             361.60                       363.0   \n",
       "16               361.60             363.20                       339.0   \n",
       "17               363.20             369.60                       345.4   \n",
       "18               369.60             372.70                       372.2   \n",
       "20               372.70             374.10                       352.0   \n",
       "21               374.10             380.30                       358.2   \n",
       "22               380.30             384.85                       388.1   \n",
       "24               440.30             444.00                       444.0   \n",
       "25               444.00             447.80                       447.8   \n",
       "27               447.80             449.80                       453.0   \n",
       "28               449.80             454.70                       432.6   \n",
       "29               454.70             461.50                       495.0   \n",
       "30               461.50             465.00                       465.0   \n",
       "31               465.00             470.20                       470.2   \n",
       "32               470.20             473.80                       503.2   \n",
       "34               508.00             509.00                       509.0   \n",
       "35               509.00             528.00                       528.0   \n",
       "36               528.00             530.10                       530.1   \n",
       "37               530.10             534.30                       513.0   \n",
       "38               534.30             537.20                       515.9   \n",
       "..                  ...                ...                         ...   \n",
       "10               951.00             952.80                       952.8   \n",
       "11               952.80             954.60                       951.0   \n",
       "12               954.60             956.40                       952.8   \n",
       "13               956.40             989.00                       989.0   \n",
       "14               989.00             993.80                       993.8   \n",
       "0               1005.01            1009.01                      1010.0   \n",
       "1               1009.01            1011.31                      1008.0   \n",
       "2               1011.31            1013.11                      1009.8   \n",
       "4               1026.00            1027.20                      1027.2   \n",
       "6               1032.00            1033.10                      1033.1   \n",
       "7               1033.10            1042.80                      1048.0   \n",
       "8               1042.80            1046.20                      1051.4   \n",
       "9               1046.20            1048.00                      1048.0   \n",
       "10              1048.00            1049.80                      1049.8   \n",
       "11              1049.80            1059.00                      1059.0   \n",
       "12              1059.00            1060.80                      1060.8   \n",
       "14              1063.00            1064.80                      1064.8   \n",
       "16              1070.00            1071.80                      1071.8   \n",
       "17              1071.80            1123.00                      1123.0   \n",
       "18              1123.00            1125.30                      1125.3   \n",
       "19              1125.30            1134.60                      1150.0   \n",
       "20              1134.60            1136.30                      1151.7   \n",
       "21              1136.30            1138.00                      1138.0   \n",
       "22              1138.00            1143.40                      1143.4   \n",
       "23              1143.40            1163.00                      1163.0   \n",
       "24              1163.00            1165.05                      1168.0   \n",
       "25              1165.05            1170.95                      1168.8   \n",
       "26              1170.95            1173.90                      1173.9   \n",
       "0               1211.00            1212.80                      1212.8   \n",
       "0               1344.00            1349.30                      1349.3   \n",
       "\n",
       "    value_of_time  start_time  Activity_Time      hh_id  seg_index  \\\n",
       "0          0.3725       129.0           17.2  2287301.0          0   \n",
       "2          0.3725       149.0           12.0  2287301.0          0   \n",
       "4          0.3725       163.0           86.6  2287301.0          1   \n",
       "5          0.0100       255.0            0.0  2287301.0          2   \n",
       "6          0.3725       255.0           36.4  2287301.0          3   \n",
       "8          0.3725       293.0           14.6  2287301.0          4   \n",
       "10         0.3725       310.0           22.5  2287301.0          4   \n",
       "12         0.3725       335.0            2.4  2287301.0          5   \n",
       "13         0.0100       339.0            0.0  2287301.0          6   \n",
       "14         0.2483       354.0            5.4  2287301.0          7   \n",
       "15         0.0100       363.0            0.0  2287301.0          8   \n",
       "16         0.3725       363.0            0.0  2287301.0          9   \n",
       "17         0.3725       339.0            6.6  2287301.0         10   \n",
       "18         0.3725       352.0            7.8  2287301.0         11   \n",
       "20         0.3725       380.0            0.0  2287301.0         11   \n",
       "21         0.3725       352.0            0.0  2287301.0         12   \n",
       "22         0.3725       354.0           34.9  2287301.0         13   \n",
       "24         0.3725       423.0            0.0  2287301.0         14   \n",
       "25         0.2483       444.0            3.2  2287301.0         15   \n",
       "27         0.2483       451.0           12.0  2287301.0         15   \n",
       "28         0.3725       465.0           11.4  2287301.0         16   \n",
       "29         0.0100       444.0            0.0  2287301.0         17   \n",
       "30         0.3725       495.0            0.0  2287301.0         18   \n",
       "31         0.2483       465.0            0.8  2287301.0         19   \n",
       "32         0.3725       471.0            4.8  2287301.0         20   \n",
       "34         0.3725       508.0            4.0  2287301.0         21   \n",
       "35         0.0100       513.0            0.0  2287301.0         22   \n",
       "36         0.3725       528.0          909.9  2287301.0         23   \n",
       "37         0.0100      1440.0            0.0  2287301.0         24   \n",
       "38         0.2483       513.0           12.1  2287301.0         25   \n",
       "..            ...         ...            ...        ...        ...   \n",
       "10         0.3725       951.0           36.2  2287301.0         10   \n",
       "11         0.0100       989.0            0.0  2287301.0         11   \n",
       "12         0.2483       951.0            0.0  2287301.0         12   \n",
       "13         0.0100       951.0            0.0  2287301.0         13   \n",
       "14         0.3725       989.0          446.2  2287301.0         14   \n",
       "0          0.3725      1006.0            0.0  2287301.0          0   \n",
       "1          0.0100      1008.0            0.0  2287301.0          1   \n",
       "2          0.3725      1008.0           16.2  2287301.0          2   \n",
       "4          0.3725      1026.0            4.8  2287301.0          3   \n",
       "6          0.3725      1032.0           14.9  2287301.0          4   \n",
       "7          0.0100      1048.0            0.0  2287301.0          5   \n",
       "8          0.3725      1048.0            7.6  2287301.0          6   \n",
       "9          0.0100      1059.0            0.0  2287301.0          7   \n",
       "10         0.3725      1048.0            0.0  2287301.0          8   \n",
       "11         0.0100      1048.0            0.0  2287301.0          9   \n",
       "12         0.3725      1059.0            2.2  2287301.0         10   \n",
       "14         0.3725      1063.0            5.2  2287301.0         11   \n",
       "16         0.3725      1070.0           51.2  2287301.0         12   \n",
       "17         0.0100      1123.0            0.0  2287301.0         13   \n",
       "18         0.3725      1123.0           12.7  2287301.0         14   \n",
       "19         0.0100      1138.0            0.0  2287301.0         15   \n",
       "20         0.3725      1150.0           11.3  2287301.0         16   \n",
       "21         0.0100      1163.0            0.0  2287301.0         17   \n",
       "22         0.3725      1138.0            6.6  2287301.0         18   \n",
       "23         0.0100      1150.0            0.0  2287301.0         19   \n",
       "24         0.3725      1163.0            0.0  2287301.0         20   \n",
       "25         0.3725      1168.0            0.0  2287301.0         21   \n",
       "26         0.3725      1168.0          266.1  2287301.0         22   \n",
       "0          0.2483      1211.0          227.2  2287301.0          0   \n",
       "0          0.3725      1344.0           90.7  2287301.0          0   \n",
       "\n",
       "    intrasuperzone_flag  hh_vehicle_id   veh_seg_index  \n",
       "0                     0              0   2287301.0_0_0  \n",
       "2                     0              0   2287301.0_0_0  \n",
       "4                     0              0   2287301.0_1_0  \n",
       "5                     0              0   2287301.0_2_0  \n",
       "6                     0              0   2287301.0_3_0  \n",
       "8                     0              0   2287301.0_4_0  \n",
       "10                    0              0   2287301.0_4_0  \n",
       "12                    0              0   2287301.0_5_0  \n",
       "13                    0              0   2287301.0_6_0  \n",
       "14                    0              0   2287301.0_7_0  \n",
       "15                    0              0   2287301.0_8_0  \n",
       "16                    0              0   2287301.0_9_0  \n",
       "17                    0              0  2287301.0_10_0  \n",
       "18                    0              0  2287301.0_11_0  \n",
       "20                    0              0  2287301.0_11_0  \n",
       "21                    0              0  2287301.0_12_0  \n",
       "22                    0              0  2287301.0_13_0  \n",
       "24                    0              0  2287301.0_14_0  \n",
       "25                    0              0  2287301.0_15_0  \n",
       "27                    0              0  2287301.0_15_0  \n",
       "28                    0              0  2287301.0_16_0  \n",
       "29                    0              0  2287301.0_17_0  \n",
       "30                    0              0  2287301.0_18_0  \n",
       "31                    0              0  2287301.0_19_0  \n",
       "32                    0              0  2287301.0_20_0  \n",
       "34                    0              0  2287301.0_21_0  \n",
       "35                    0              0  2287301.0_22_0  \n",
       "36                    0              0  2287301.0_23_0  \n",
       "37                    0              0  2287301.0_24_0  \n",
       "38                    0              0  2287301.0_25_0  \n",
       "..                  ...            ...             ...  \n",
       "10                    0              0  2287301.0_10_0  \n",
       "11                    0              0  2287301.0_11_0  \n",
       "12                    0              0  2287301.0_12_0  \n",
       "13                    0              0  2287301.0_13_0  \n",
       "14                    0              0  2287301.0_14_0  \n",
       "0                     0              0   2287301.0_0_0  \n",
       "1                     0              0   2287301.0_1_0  \n",
       "2                     0              0   2287301.0_2_0  \n",
       "4                     0              0   2287301.0_3_0  \n",
       "6                     0              0   2287301.0_4_0  \n",
       "7                     0              0   2287301.0_5_0  \n",
       "8                     0              0   2287301.0_6_0  \n",
       "9                     0              0   2287301.0_7_0  \n",
       "10                    0              0   2287301.0_8_0  \n",
       "11                    0              0   2287301.0_9_0  \n",
       "12                    0              0  2287301.0_10_0  \n",
       "14                    0              0  2287301.0_11_0  \n",
       "16                    0              0  2287301.0_12_0  \n",
       "17                    0              0  2287301.0_13_0  \n",
       "18                    0              0  2287301.0_14_0  \n",
       "19                    0              0  2287301.0_15_0  \n",
       "20                    0              0  2287301.0_16_0  \n",
       "21                    0              0  2287301.0_17_0  \n",
       "22                    0              0  2287301.0_18_0  \n",
       "23                    0              0  2287301.0_19_0  \n",
       "24                    0              0  2287301.0_20_0  \n",
       "25                    0              0  2287301.0_21_0  \n",
       "26                    0              0  2287301.0_22_0  \n",
       "0                     0              0   2287301.0_0_0  \n",
       "0                     0              0   2287301.0_0_0  \n",
       "\n",
       "[105 rows x 16 columns]"
      ]
     },
     "execution_count": 17,
     "metadata": {},
     "output_type": "execute_result"
    }
   ],
   "source": [
    "darp_solutions[0]['route_info']"
   ]
  },
  {
   "cell_type": "code",
   "execution_count": null,
   "metadata": {
    "collapsed": true
   },
   "outputs": [],
   "source": [
    "output_flag=1\n",
    "target_hh_id=2287301\n",
    "# target_hh_id=2744264\n",
    "min_length=15\n",
    "max_length=20\n",
    "run_mode=0\n",
    "single_model_runtime=60*5\n",
    "drivingcost_per_mile=1\n",
    "reward_mode=0\n",
    "darp_solutions1=[]\n",
    "cav_use_mode=1\n",
    "target_hh=traveler_trips[traveler_trips['hh_id']==target_hh_id].drop_duplicates(subset=['orig_maz','dest_maz','orig_purpose','dest_purpose','starttime','joint_trip_flag'])\n",
    "#Sort all trips based on start time. This step could reduce the solving time and make it easier to track\n",
    "sorted_trips=target_hh.sort_values(\"starttime\")\n",
    "#hh_index give an index to all trips within the household for tracking purpose\n",
    "hh_num_trips=sorted_trips.shape[0]\n",
    "sorted_trips[\"hh_index\"]=(range(hh_num_trips))\n",
    "# sorted_trips=sorted_trips.loc[sorted_trips.tripmode<=6]\n",
    "\n",
    "# for num_cav in [2]: #range(1,4):\n",
    "#     for share_ride_factor in [1]: #[1,1.25,1.5]:\n",
    "#         for time_window_flag in [0]:\n",
    "num_cav=2\n",
    "share_ride_factor=1.5\n",
    "time_window_flag=0\n",
    "#         time_window_flag=1\n",
    "# num_cav=1\n",
    "# share_ride_factor=1.5\n",
    "# time_window_flag=0\n",
    "print('**************')\n",
    "print('Num_CAV',num_cav,share_ride_factor,time_window_flag)\n",
    "print('**************')\n",
    "darp_solutions1.extend([sod.solve_with_schedule_partition(sorted_trips,Vehicular_Skim,Transit_AB_Cost_Skim,superzone_map,min_length,max_length,\n",
    "                            reward_mode,drivingcost_per_mile,share_ride_factor,output_flag,run_mode,num_cav,\n",
    "                          cav_use_mode,time_window_flag,single_model_runtime)])"
   ]
  },
  {
   "cell_type": "code",
   "execution_count": null,
   "metadata": {
    "collapsed": true,
    "scrolled": false
   },
   "outputs": [],
   "source": [
    "#!/usr/bin/env python\n",
    "import random\n",
    "import pylab\n",
    "from matplotlib.pyplot import pause\n",
    "\n",
    "pylab.ion()\n",
    "Gnormal=nx.Graph()\n",
    "color_map=[]\n",
    "for i in node_detail:\n",
    "    color_map.append('blue')\n",
    "# nx.draw_networkx_nodes(Gnormal, pos,node_list=[1,2,4],node_color='red',node_size=4)\n",
    "def get_fig():\n",
    "    global color_map\n",
    "    for nodeinf in node_detail:\n",
    "        node=nodeinf[0,0]\n",
    "        Gnormal.add_node(node,pos=(nodexy[node][0],nodexy[node][1]))\n",
    "    for linkinf in link_detail: \n",
    "        Gnormal.add_edge(linkinf[0,0],linkinf[0,1])\n",
    "\n",
    "    pos=nx.get_node_attributes(Gnormal,'pos')\n",
    "    nx.draw(Gnormal,pos,node_size=10,node_color=color_map )\n",
    "num_plots = 50;\n",
    "pylab.show()\n",
    "for i in range(num_plots):\n",
    "    color_map[i]='red'\n",
    "    get_fig()\n",
    "    pylab.draw()\n",
    "    pause(2)"
   ]
  },
  {
   "cell_type": "code",
   "execution_count": null,
   "metadata": {
    "collapsed": true
   },
   "outputs": [],
   "source": [
    "target_hh=traveler_trips[traveler_trips['hh_id']==target_hh_id].drop_duplicates(subset=['orig_maz','dest_maz','orig_purpose','dest_purpose','starttime','joint_trip_flag'])\n",
    "#Sort all trips based on start time. This step could reduce the solving time and make it easier to track\n",
    "sorted_trips=target_hh.sort_values(\"starttime\")\n",
    "#hh_index give an index to all trips within the household for tracking purpose\n",
    "hh_num_trips=sorted_trips.shape[0]"
   ]
  },
  {
   "cell_type": "code",
   "execution_count": null,
   "metadata": {
    "collapsed": true
   },
   "outputs": [],
   "source": [
    "analyzed_results4"
   ]
  },
  {
   "cell_type": "code",
   "execution_count": null,
   "metadata": {
    "collapsed": true
   },
   "outputs": [],
   "source": [
    "analyzed_results4=pd.DataFrame()\n",
    "for solution in darp_solutions4:\n",
    "        analyzed_results4=analyzed_results4.append(pod.analysis_result(solution,sorted_trips,Vehicular_Skim,superzone_map),ignore_index=True)"
   ]
  },
  {
   "cell_type": "code",
   "execution_count": null,
   "metadata": {
    "collapsed": true
   },
   "outputs": [],
   "source": [
    "analyzed_results"
   ]
  },
  {
   "cell_type": "code",
   "execution_count": null,
   "metadata": {
    "collapsed": true
   },
   "outputs": [],
   "source": [
    "for i in range(1,4):\n",
    "    line_label=str(i)+' CAV'\n",
    "    plt.pyplot.plot(analyzed_results.loc[analyzed_results.num_cav==i,'share_ride_factor'],analyzed_results.loc[analyzed_results.num_cav==i,'total_AV_driving_time'],'-o',label=line_label)\n",
    "plt.pyplot.legend()"
   ]
  },
  {
   "cell_type": "code",
   "execution_count": null,
   "metadata": {
    "collapsed": true
   },
   "outputs": [],
   "source": [
    "sorted_trips.head()"
   ]
  },
  {
   "cell_type": "code",
   "execution_count": null,
   "metadata": {
    "collapsed": true
   },
   "outputs": [],
   "source": [
    "for i in range(1,4):\n",
    "    line_label=str(i)+' CAV'\n",
    "    plt.pyplot.plot(analyzed_results.loc[analyzed_results.num_cav==i,'share_ride_factor'],analyzed_results.loc[analyzed_results.num_cav==i,'total_AV_driving_distance'],'-o',label=line_label)\n",
    "plt.pyplot.legend()"
   ]
  },
  {
   "cell_type": "code",
   "execution_count": null,
   "metadata": {
    "collapsed": true
   },
   "outputs": [],
   "source": [
    "analyzed_results.columns"
   ]
  },
  {
   "cell_type": "code",
   "execution_count": null,
   "metadata": {
    "collapsed": true
   },
   "outputs": [],
   "source": [
    "analyzed_results4"
   ]
  },
  {
   "cell_type": "code",
   "execution_count": null,
   "metadata": {
    "collapsed": true
   },
   "outputs": [],
   "source": [
    "len(darp_solutions4[0]['route_info'])"
   ]
  },
  {
   "cell_type": "code",
   "execution_count": null,
   "metadata": {
    "collapsed": true
   },
   "outputs": [],
   "source": [
    "analyzed_results4.loc[analyzed_results4.share_ride_factor==1].transpose()"
   ]
  },
  {
   "cell_type": "code",
   "execution_count": null,
   "metadata": {
    "collapsed": true
   },
   "outputs": [],
   "source": [
    "zz.hh_vehicle_id.unique()"
   ]
  },
  {
   "cell_type": "code",
   "execution_count": null,
   "metadata": {
    "collapsed": true
   },
   "outputs": [],
   "source": [
    "for i in range(3):\n",
    "    print(len(zz.loc[zz.hh_vehicle_id==i]))"
   ]
  },
  {
   "cell_type": "code",
   "execution_count": null,
   "metadata": {
    "collapsed": true,
    "scrolled": false
   },
   "outputs": [],
   "source": [
    "zz=darp_solutions4[-1]['route_info']\n",
    "# zz=darp_solutions4[5]['route_info']\n",
    "# zz['origin_network_node','dest_network_node']=zz.apply(lambda row: dy.find_orign_destination_node(row['orig_zone'],row['dest_zone'],origins,destinations))\n",
    "for car_id in range(3):\n",
    "    nodes=[]\n",
    "    for index, row in zz.loc[zz.hh_vehicle_id==car_id].iterrows():\n",
    "        nodes.extend(dy.find_orign_destination_node(row['orig_zone'],row['dest_zone'],origins,destinations))\n",
    "    av.zone_node_highlight(nodes,node_detail,link_detail,nodexy,'r')"
   ]
  },
  {
   "cell_type": "code",
   "execution_count": null,
   "metadata": {
    "collapsed": true
   },
   "outputs": [],
   "source": [
    "darp_solutions4[-1]['route_info'].head()"
   ]
  },
  {
   "cell_type": "code",
   "execution_count": null,
   "metadata": {
    "collapsed": true
   },
   "outputs": [],
   "source": [
    "pod.plot_route_info_schedule(darp_solutions4[-1]['route_info'],sorted_trips,3)"
   ]
  },
  {
   "cell_type": "code",
   "execution_count": null,
   "metadata": {
    "collapsed": true
   },
   "outputs": [],
   "source": [
    "analyzed_results4.columns"
   ]
  },
  {
   "cell_type": "code",
   "execution_count": null,
   "metadata": {
    "collapsed": true
   },
   "outputs": [],
   "source": [
    "# for factor in ['num_cav_trips','num_shared_trips','num_unoccupied_trips','total_schedule_penalty','total_travel_cost','num_pickup_trips']:\n",
    "factor='total_schedule_penalty'\n",
    "plt.pyplot.figure()\n",
    "plt.pyplot.xlabel('Ridesharing Tolerance Factor')\n",
    "plt.pyplot.ylabel('Total Late/Early Arrival')\n",
    "for i in range(1,4):\n",
    "    line_label=str(i)+' AV'\n",
    "    plt.pyplot.plot(analyzed_results4.loc[analyzed_results4.num_cav==i,'share_ride_factor'],analyzed_results4.loc[analyzed_results4.num_cav==i,'Total_early_time'].apply(lambda x: abs(x))+analyzed_results4.loc[analyzed_results4.num_cav==i,'total_delayed_time'].apply(lambda x: abs(x)),'-o',label=line_label)\n",
    "plt.pyplot.legend()"
   ]
  },
  {
   "cell_type": "code",
   "execution_count": null,
   "metadata": {
    "collapsed": true
   },
   "outputs": [],
   "source": [
    "# for factor in ['num_cav_trips','num_shared_trips','num_unoccupied_trips','total_schedule_penalty','total_travel_cost','num_pickup_trips']:\n",
    "factor='total_travel_cost'\n",
    "plt.pyplot.figure()\n",
    "plt.pyplot.xlabel('Ridesharing Tolerance Factor ')\n",
    "plt.pyplot.ylabel('Total Generalized Travel Cost')\n",
    "for i in range(1,4):\n",
    "    line_label=str(i)+' AV'\n",
    "    plt.pyplot.plot(analyzed_results4.loc[analyzed_results4.num_cav==i,'share_ride_factor'],analyzed_results4.loc[analyzed_results4.num_cav==i,factor].apply(lambda x: abs(x)),'-o',label=line_label)\n",
    "plt.pyplot.legend()"
   ]
  },
  {
   "cell_type": "code",
   "execution_count": null,
   "metadata": {
    "collapsed": true,
    "scrolled": true
   },
   "outputs": [],
   "source": [
    "len(darp_solutions4[-1]['route_info'])"
   ]
  },
  {
   "cell_type": "code",
   "execution_count": null,
   "metadata": {
    "collapsed": true
   },
   "outputs": [],
   "source": []
  },
  {
   "cell_type": "code",
   "execution_count": null,
   "metadata": {
    "collapsed": true
   },
   "outputs": [],
   "source": [
    "for factor in ['num_cav_trips','num_shared_trips','num_unoccupied_trips','total_schedule_penalty','total_travel_cost','num_pickup_trips']:\n",
    "    plt.pyplot.figure()\n",
    "    plt.pyplot.xlabel('share ride factor')\n",
    "    plt.pyplot.ylabel(factor)\n",
    "    for i in range(1,4):\n",
    "        line_label=str(i)+' Cav'\n",
    "        plt.pyplot.plot(analyzed_results.loc[analyzed_results.num_cav==i,'share_ride_factor'],analyzed_results.loc[analyzed_results.num_cav==i,factor].apply(lambda x: abs(x)),'-o',label=line_label)\n",
    "    plt.pyplot.legend()"
   ]
  },
  {
   "cell_type": "code",
   "execution_count": null,
   "metadata": {
    "collapsed": true
   },
   "outputs": [],
   "source": [
    "for i in darp_solutions:\n",
    "    print(i['num_cav'],i['share_ride_factor'])"
   ]
  },
  {
   "cell_type": "code",
   "execution_count": null,
   "metadata": {
    "collapsed": true
   },
   "outputs": [],
   "source": [
    "\n",
    "route_info.apply(lambda row: prd.estimate_single_car_trip_cost(row.orig_zone,row.dest_zone,row.start_time,row.value_of_time,Vehicular_Skim,2,superzone_map,drivingcost_per_mile),axis=1).sum()/60\n",
    "route_info.apply(lambda row:prd.estimate_single_car_trip_cost(row.orig_zone,row.dest_zone,row.start_time,row.value_of_time,Vehicular_Skim,1,superzone_map,drivingcost_per_mile) ,axis=1).sum()"
   ]
  },
  {
   "cell_type": "code",
   "execution_count": null,
   "metadata": {
    "collapsed": true
   },
   "outputs": [],
   "source": [
    "from Modules import Preprocess_DARP as prd"
   ]
  },
  {
   "cell_type": "code",
   "execution_count": null,
   "metadata": {
    "collapsed": true
   },
   "outputs": [],
   "source": [
    "for j in [2,5,8] :   \n",
    "    z=darp_solutions4[j]['route_info']\n",
    "    for i in range(3):\n",
    "        zz=z.loc[z.hh_vehicle_id==i]\n",
    "        if len(zz)>0:\n",
    "            total_driving_time_temp=zz.apply(lambda row: prd.estimate_single_car_trip_cost(row.orig_zone,row.dest_zone,row.start_time,row.value_of_time,Vehicular_Skim,2,superzone_map,drivingcost_per_mile),axis=1).sum()/60\n",
    "            total_driving_distance_temp=zz.apply(lambda row: prd.estimate_single_car_trip_cost(row.orig_zone,row.dest_zone,row.start_time,row.value_of_time,Vehicular_Skim,1,superzone_map,drivingcost_per_mile),axis=1).sum()\n",
    "            num_pickup_trips=len(zz.loc[zz.orig_node_index<=len(sorted_trips)])\n",
    "            print(i,j,len(zz),num_pickup_trips,total_driving_time_temp,total_driving_distance_temp)"
   ]
  },
  {
   "cell_type": "code",
   "execution_count": null,
   "metadata": {
    "collapsed": true
   },
   "outputs": [],
   "source": [
    "42/63"
   ]
  },
  {
   "cell_type": "code",
   "execution_count": null,
   "metadata": {
    "collapsed": true
   },
   "outputs": [],
   "source": [
    "29/63"
   ]
  },
  {
   "cell_type": "code",
   "execution_count": null,
   "metadata": {
    "collapsed": true,
    "scrolled": false
   },
   "outputs": [],
   "source": [
    "plt.pyplot.figure(1,figsize=[14.5,10])\n",
    "plt.pyplot.subplot(131)\n",
    "pod.plot_route_info_schedule(darp_solutions4[2]['route_info'],sorted_trips,darp_solutions4[2]['num_cav'])\n",
    "plt.pyplot.subplot(132)\n",
    "pod.plot_route_info_schedule(darp_solutions4[5]['route_info'],sorted_trips,darp_solutions4[5]['num_cav'])\n",
    "plt.pyplot.subplot(133)\n",
    "pod.plot_route_info_schedule(darp_solutions4[8]['route_info'],sorted_trips,darp_solutions4[8]['num_cav'])\n",
    "\n"
   ]
  },
  {
   "cell_type": "code",
   "execution_count": null,
   "metadata": {
    "collapsed": true
   },
   "outputs": [],
   "source": [
    "plt.pyplot.figure(1,figsize=[14.5,10])\n",
    "plt.pyplot.subplot(131)\n",
    "pod.plot_route_info_schedule(darp_solutions[2]['route_info'],sorted_trips,darp_solutions[2]['num_cav'])\n",
    "plt.pyplot.subplot(132)\n",
    "pod.plot_route_info_schedule(darp_solutions[5]['route_info'],sorted_trips,darp_solutions[5]['num_cav'])\n",
    "plt.pyplot.subplot(133)\n",
    "pod.plot_route_info_schedule(darp_solutions[8]['route_info'],sorted_trips,darp_solutions[8]['num_cav'])\n"
   ]
  },
  {
   "cell_type": "code",
   "execution_count": null,
   "metadata": {
    "collapsed": true,
    "scrolled": true
   },
   "outputs": [],
   "source": [
    "Vehicular_Skim.loc[18,15,1,1]"
   ]
  },
  {
   "cell_type": "code",
   "execution_count": null,
   "metadata": {
    "collapsed": true
   },
   "outputs": [],
   "source": [
    "zz1=solution['route_info']"
   ]
  },
  {
   "cell_type": "code",
   "execution_count": null,
   "metadata": {
    "collapsed": true
   },
   "outputs": [],
   "source": [
    "zz1.dest_zone=zz1.dest_zone.apply(lambda x: int(x))"
   ]
  },
  {
   "cell_type": "code",
   "execution_count": null,
   "metadata": {
    "collapsed": true
   },
   "outputs": [],
   "source": [
    "analyzed_results3=pd.DataFrame()\n",
    "for solution in darp_solutions3:\n",
    "    analyzed_results3=analyzed_results3.append(pod.analysis_result(solution,sorted_trips,Vehicular_Skim,superzone_map),ignore_index=True)"
   ]
  },
  {
   "cell_type": "code",
   "execution_count": null,
   "metadata": {
    "collapsed": true
   },
   "outputs": [],
   "source": [
    "analyzed_results3.transpose().to_csv('Output/hh_level_result3.csv')"
   ]
  },
  {
   "cell_type": "code",
   "execution_count": null,
   "metadata": {
    "collapsed": true
   },
   "outputs": [],
   "source": [
    "analyzed_results.transpose().to_csv('hh_level_result.csv')"
   ]
  },
  {
   "cell_type": "code",
   "execution_count": null,
   "metadata": {
    "collapsed": true
   },
   "outputs": [],
   "source": [
    "analyzed_results.transpose()"
   ]
  },
  {
   "cell_type": "markdown",
   "metadata": {},
   "source": [
    "### Basic Statistics"
   ]
  },
  {
   "cell_type": "code",
   "execution_count": null,
   "metadata": {
    "collapsed": true
   },
   "outputs": [],
   "source": [
    "traveler_trips.head()"
   ]
  },
  {
   "cell_type": "code",
   "execution_count": null,
   "metadata": {
    "collapsed": true
   },
   "outputs": [],
   "source": [
    "traveler_trips.columns"
   ]
  },
  {
   "cell_type": "code",
   "execution_count": null,
   "metadata": {
    "collapsed": true
   },
   "outputs": [],
   "source": [
    "#Num of household\n",
    "print('Number of household: \\t',len(traveler_trips.hh_id.unique()))\n",
    "print('Number of traveler: \\t',len(traveler_trips.person_id.unique()))\n",
    "print('Number of trips: \\t',len(traveler_trips))\n",
    "print('Number of indiv trip: \\t',len(traveler_trips[traveler_trips.joint_trip_flag==0]))\n",
    "print('Number of joint trip: \\t',len(traveler_trips[traveler_trips.joint_trip_flag==1]))"
   ]
  },
  {
   "cell_type": "code",
   "execution_count": null,
   "metadata": {
    "collapsed": true
   },
   "outputs": [],
   "source": [
    "traveler_trips['orig_purpose'].value_counts().plot(kind='bar',title='Histogram of Origin Purpose')"
   ]
  },
  {
   "cell_type": "code",
   "execution_count": null,
   "metadata": {
    "collapsed": true
   },
   "outputs": [],
   "source": [
    "traveler_trips.tripmode.hist()"
   ]
  },
  {
   "cell_type": "code",
   "execution_count": null,
   "metadata": {
    "collapsed": true
   },
   "outputs": [],
   "source": [
    "traveler_trips.num_trips.hist()\n",
    "plt.pyplot.title('Histogram of trip per person')"
   ]
  },
  {
   "cell_type": "code",
   "execution_count": null,
   "metadata": {
    "collapsed": true
   },
   "outputs": [],
   "source": [
    "traveler_trips.groupby('hh_id')['num_trips'].count().hist()\n",
    "plt.pyplot.title('Histogram of trip per household')"
   ]
  },
  {
   "cell_type": "markdown",
   "metadata": {},
   "source": [
    "### Sample Household\n",
    "Select household 2287301 for intial analysis"
   ]
  },
  {
   "cell_type": "code",
   "execution_count": null,
   "metadata": {
    "collapsed": true,
    "scrolled": true
   },
   "outputs": [],
   "source": [
    "target_hh_id=2287301\n",
    "people_in_hh=traveler_trips[traveler_trips['hh_id']==target_hh_id]['person_id'].unique()\n",
    "for person in people_in_hh:\n",
    "    #creat trip-chain-origin-destination-list\n",
    "    num_trips=traveler_trips[traveler_trips['person_id']==person]['num_trips'].iloc[0]\n",
    "    print(num_trips)\n",
    "    trip_chain_or=traveler_trips[traveler_trips['person_id']==person][['origin_node','destination_node']]\n",
    "    trip_chain_or['origin_node'].iloc[1:num_trips-1]=trip_chain_or['destination_node'].iloc[0:num_trips-2].tolist()\n",
    "    trip_chain_or['origin_node'].iloc[num_trips-1]=trip_chain_or['destination_node'].iloc[num_trips-2]\n",
    "    #draw the graph\n",
    "    av.trip_chain_highlight(trip_chain_or,node_detail,link_detail,nodexy)\n",
    "#traveler_trips[traveler_trips['hh_id']==2105189]"
   ]
  },
  {
   "cell_type": "markdown",
   "metadata": {},
   "source": [
    "### Solve the optimization for a household \n",
    "\n",
    "The factors need to know about:  \n",
    "1. Decision variable X <sub>ij</sub> and T<sub>j</sub> (departure time from node j)  \n",
    "2. R <sub>i</sub> reward of visiting node i\n",
    "3. S <sub>i</sub> penalty for late/early arrival\n",
    "4. C <sub>ij</sub> travel time between node i and j  \n",
    "5. "
   ]
  },
  {
   "cell_type": "markdown",
   "metadata": {},
   "source": [
    "#### Solve with heuristic"
   ]
  },
  {
   "cell_type": "markdown",
   "metadata": {},
   "source": [
    "## Estimate travel time and cost"
   ]
  },
  {
   "cell_type": "markdown",
   "metadata": {},
   "source": [
    "## Solve the optimization with Gurobi"
   ]
  },
  {
   "cell_type": "code",
   "execution_count": null,
   "metadata": {
    "collapsed": true
   },
   "outputs": [],
   "source": [
    "drivingcost_per_mile=1\n",
    "transit_fare=2\n",
    "transit_asc=2"
   ]
  },
  {
   "cell_type": "markdown",
   "metadata": {},
   "source": [
    "##### Try to solve the problem for a single household"
   ]
  },
  {
   "cell_type": "markdown",
   "metadata": {},
   "source": [
    "#### Solve with exact method"
   ]
  },
  {
   "cell_type": "code",
   "execution_count": null,
   "metadata": {
    "collapsed": true,
    "scrolled": true
   },
   "outputs": [],
   "source": [
    "print('prepare input for dial n ride model at ',datetime.datetime.now())\n",
    "output_flag=1\n",
    "target_hh_id=2287301\n",
    "target_hh=traveler_trips[traveler_trips['hh_id']==target_hh_id].drop_duplicates(subset=['orig_maz','dest_maz','orig_purpose','dest_purpose','starttime','joint_trip_flag'])\n",
    "#Sort all trips based on start time. This step could reduce the solving time and make it easier to track\n",
    "sorted_trips=target_hh.sort_values(\"starttime\")\n",
    "#hh_index give an index to all trips within the household for tracking purpose\n",
    "hh_num_trips=sorted_trips.shape[0]\n",
    "sorted_trips[\"hh_index\"]=(range(hh_num_trips))\n",
    "num_hh_member,hh_num_trips,C,TT,expected_arrival_time,expected_leave_time,early_penalty,late_penalty,early_penalty_threshold,late_penalty_threshold,visit_candidate_zone=extract_hh_information(sorted_trips,Vehicular_Skim,Transit_AB_Cost_Skim,superzone_map)\n",
    "# R=estimate_transit_cost(sorted_trips,TransitMazTazFlag,WalkSpeed,TransitSkimTimeIntervalLength,Transit_AB_Cost_Skim,Transit_AB_Time_Skim,transit_zone_candidates,three_link_walk)\n",
    "R=estimate_trip_reward(hh_num_trips,sorted_trips,Vehicular_Skim)\n",
    "print('start sovling problem at ',datetime.datetime.now())\n",
    "m1,x,T=dial_n_ride_model(num_hh_member,hh_num_trips,C,TT,sorted_trips,expected_arrival_time,early_penalty,late_penalty,early_penalty_threshold,late_penalty_threshold,R,share_ride_factor,output_flag,run_mode=)\n",
    "print('finish solving problem at ',datetime.datetime.now())\n",
    "route_info=extract_route_from_model_solution(x,T,sorted_trips,visit_candidate_zone,hh_num_trips,expected_arrival_time,expected_leave_time)\n",
    "print('extract solution at',datetime.datetime.now())\n",
    "route_info.to_csv('route_info_yingjie.csv')"
   ]
  },
  {
   "cell_type": "code",
   "execution_count": null,
   "metadata": {
    "collapsed": true
   },
   "outputs": [],
   "source": [
    "T_sol=np.ones(2*hh_num_trips+2)\n",
    "for i in range(2*hh_num_trips+2):\n",
    "#     print(int(T[i].x),'\\t',expected_arrival_time[i],'\\t',T[i].x-expected_arrival_time[i])\n",
    "    T_sol[i]=T[i].x\n",
    "schedule_deviation=T_sol-expected_arrival_time\n",
    "analysis_result(all_trips_route_info_partition,sorted_trips,Vehicular_Skim,schedule_deviation)"
   ]
  },
  {
   "cell_type": "markdown",
   "metadata": {},
   "source": [
    "#### Solve with the schedule partition heuristic"
   ]
  },
  {
   "cell_type": "code",
   "execution_count": null,
   "metadata": {
    "collapsed": true
   },
   "outputs": [],
   "source": [
    "def analysis_result(route_info,sorted_trips,Vehicular_Skim,schedule_deviation):\n",
    "    print('Number of CAV Trips',len(route_info))\n",
    "    print('Number of Occupied trips',len(route_info.loc[route_info.person_id>0]))\n",
    "    print('Number of unoccupied trips',len(route_info.loc[route_info.person_id==0]))\n",
    "    print('Number of pickup trips',len(route_info.loc[route_info.orig_node_index<=len(sorted_trips)]))\n",
    "    print('Number of shared trips',len(route_info.loc[(route_info.orig_node_index<=len(sorted_trips)) &(route_info.dest_node_index<=len(sorted_trips))]))\n",
    "    print('Number of convention car trips',len(sorted_trips.loc[sorted_trips.tripmode<=6]))\n",
    "    # Compare the VHT between convention vehicle and CAV\n",
    "    \n",
    "    total_convention_vehicle_driving_time=sorted_trips.loc[sorted_trips.tripmode<=6].apply(lambda row:estimate_single_car_trip_cost(row.orig_taz,row.dest_taz,row.starttime,row.value_of_time,Vehicular_Skim,2),axis=1).sum()\n",
    "    total_AV_driving_time=route_info.apply(lambda row: estimate_single_car_trip_cost(row.orig_zone,row.dest_zone,row.start_time,row.value_of_time,Vehicular_Skim,2),axis=1).sum()\n",
    "    total_AV_unoccupied_driving_time=route_info.loc[route_info.person_id==0].apply(lambda row: estimate_single_car_trip_cost(row.orig_zone,row.dest_zone,row.start_time,row.value_of_time,Vehicular_Skim,2),axis=1).sum()\n",
    "    print('Convention car trips VHT: \\t',total_convention_vehicle_driving_time/60,\n",
    "          '\\nAV driving time: \\t',total_AV_driving_time/60,\n",
    "          '\\nAV unoccupied driving_time: \\t',total_AV_unoccupied_driving_time/60)\n",
    "    # Compare the VMT between convention vehicle and CAV\n",
    "    total_convention_vehicle_driving_distance=sorted_trips.loc[sorted_trips.tripmode<=6].apply(lambda row: estimate_single_car_trip_cost(row.orig_taz,row.dest_taz,row.starttime,row.value_of_time,Vehicular_Skim,1),axis=1).sum()\n",
    "    total_AV_driving_distance=route_info.apply(lambda row:estimate_single_car_trip_cost(row.orig_zone,row.dest_zone,row.start_time,row.value_of_time,Vehicular_Skim,1) ,axis=1).sum()\n",
    "    total_AV_unoccupied_driving_distance=route_info.loc[route_info.person_id==0].apply(lambda row:estimate_single_car_trip_cost(row.orig_zone,row.dest_zone,row.start_time,row.value_of_time,Vehicular_Skim,1),axis=1).sum()\n",
    "    print('Convention VMT: \\t',total_convention_vehicle_driving_distance,\n",
    "          '\\nAV driving distance: \\t',total_AV_driving_distance,\n",
    "          '\\nAV unoccupied driving_distance: \\t',total_AV_unoccupied_driving_distance)\n",
    "    print('Number of delayed trips\\t',sum(1 for i in schedule_deviation if i >1))\n",
    "    print('Number of early trips\\t',sum(1 for i in schedule_deviation if i <-1))\n",
    "    print('Total delayed time\\t',sum(i for i in schedule_deviation if i >0))\n",
    "    print('Total_early_time\\t',sum(i for i in schedule_deviation if i <0))\n",
    "    plt.pyplot.figure(1,figsize=[2.3,10])\n",
    "    plot_route_info_schedule(route_info,sorted_trips)\n",
    "    return"
   ]
  },
  {
   "cell_type": "code",
   "execution_count": null,
   "metadata": {
    "collapsed": true
   },
   "outputs": [],
   "source": [
    "def plot_route_info_schedule(route_info,sorted_trips):\n",
    "#     z=traveler_trips[traveler_trips.hh_id==route_info.hh_id[0]]\n",
    "    sorted_trips.loc[:,'p_id']=sorted_trips.groupby(['person_id']).ngroup()\n",
    "    hh_num_trips=len(sorted_trips)\n",
    "    person_id_and_inhouse_p_id_map=dict(zip(sorted_trips.person_id,sorted_trips.p_id))\n",
    "    person_id_and_inhouse_p_id_map[0]=-1\n",
    "    route_info['p_id']=route_info.person_id.apply(lambda x: person_id_and_inhouse_p_id_map[x])\n",
    "    \n",
    "    plt.pyplot.scatter(route_info.loc[(route_info.p_id!=-1) & (route_info.orig_node_index<1+hh_num_trips),'p_id'],\n",
    "                route_info.loc[(route_info.p_id!=-1) & (route_info.orig_node_index<1+hh_num_trips),'origin_arrival_time'])\n",
    "    plt.pyplot.plot(route_info.loc[(route_info.p_id!=-1) & (route_info.orig_node_index<1+hh_num_trips),'p_id'],\n",
    "                    route_info.loc[(route_info.p_id!=-1) & (route_info.orig_node_index<1+hh_num_trips),'origin_arrival_time'])\n",
    "#     plt.pyplot.scatter(route_info.loc[(route_info.p_id!=-1) & (route_info.orig_node_index<1+hh_num_trips) & (route_info.dest_node_index<1+hh_num_trips),'p_id'],\n",
    "#                     route_info.loc[(route_info.p_id!=-1) & (route_info.orig_node_index<1+hh_num_trips) &(route_info.dest_node_index<1+hh_num_trips),'origin_arrival_time'])\n",
    "    plt.pyplot.xlabel('Traveler Index')\n",
    "    plt.pyplot.ylabel('Time')\n",
    "    plt.pyplot.grid()\n",
    "    plt.pyplot.xticks(np.arange(min(sorted_trips.p_id), max(sorted_trips.p_id)+1, 1))\n",
    "    plt.pyplot.yticks(np.arange(0,1441,30))\n",
    "#     plt.pyplot.title(title)\n",
    "    return "
   ]
  },
  {
   "cell_type": "markdown",
   "metadata": {},
   "source": [
    "#### All trips take CAV"
   ]
  },
  {
   "cell_type": "code",
   "execution_count": null,
   "metadata": {
    "collapsed": true,
    "scrolled": true
   },
   "outputs": [],
   "source": [
    "output_flag=1\n",
    "target_hh_id=2287301\n",
    "# target_hh_id=2744264\n",
    "min_length=15\n",
    "max_length=20\n",
    "run_mode=0\n",
    "reward_mode=0\n",
    "share_ride_factor=2\n",
    "time_window_flag=0\n",
    "single_model_runtime=60*3\n",
    "target_hh=traveler_trips[traveler_trips['hh_id']==target_hh_id].drop_duplicates(subset=['orig_maz','dest_maz','orig_purpose','dest_purpose','starttime','joint_trip_flag'])\n",
    "#Sort all trips based on start time. This step could reduce the solving time and make it easier to track\n",
    "sorted_trips=target_hh.sort_values(\"starttime\")\n",
    "#hh_index give an index to all trips within the household for tracking purpose\n",
    "hh_num_trips=sorted_trips.shape[0]\n",
    "sorted_trips[\"hh_index\"]=(range(hh_num_trips))\n",
    "all_trips_route_info_partition,all_trips_schedule_deviation=sod.solve_with_schedule_partition(sorted_trips,Vehicular_Skim,Transit_AB_Cost_Skim,superzone_map,min_length,max_length)"
   ]
  },
  {
   "cell_type": "code",
   "execution_count": null,
   "metadata": {
    "collapsed": true
   },
   "outputs": [],
   "source": []
  },
  {
   "cell_type": "code",
   "execution_count": null,
   "metadata": {
    "collapsed": true
   },
   "outputs": [],
   "source": [
    "analysis_result(all_trips_route_info_partition,sorted_trips,Vehicular_Skim,all_trips_schedule_deviation)"
   ]
  },
  {
   "cell_type": "markdown",
   "metadata": {},
   "source": [
    "#### Strict time window"
   ]
  },
  {
   "cell_type": "code",
   "execution_count": null,
   "metadata": {
    "collapsed": true
   },
   "outputs": [],
   "source": [
    "output_flag=1\n",
    "target_hh_id=2287301\n",
    "# target_hh_id=2744264\n",
    "min_length=15\n",
    "max_length=20\n",
    "run_mode=0\n",
    "reward_mode=2\n",
    "time_window_flag=1\n",
    "num_poav=2\n",
    "single_model_runtime=60*5\n",
    "target_hh=traveler_trips[traveler_trips['hh_id']==target_hh_id].drop_duplicates(subset=['orig_maz','dest_maz','orig_purpose','dest_purpose','starttime','joint_trip_flag'])\n",
    "#Sort all trips based on start time. This step could reduce the solving time and make it easier to track\n",
    "sorted_trips=target_hh.sort_values(\"starttime\")\n",
    "#hh_index give an index to all trips within the household for tracking purpose\n",
    "hh_num_trips=sorted_trips.shape[0]\n",
    "sorted_trips[\"hh_index\"]=(range(hh_num_trips))\n",
    "all_trips_route_info_stricttw,all_trips_schedule_deviation_stricttw=solve_with_schedule_partition(sorted_trips,Vehicular_Skim,Transit_AB_Cost_Skim,superzone_map,min_length,max_length)"
   ]
  },
  {
   "cell_type": "code",
   "execution_count": null,
   "metadata": {
    "collapsed": true
   },
   "outputs": [],
   "source": [
    "analysis_result(all_trips_route_info_stricttw,sorted_trips,Vehicular_Skim,all_trips_schedule_deviation_stricttw)"
   ]
  },
  {
   "cell_type": "markdown",
   "metadata": {},
   "source": [
    "##### Only car trips take CAV"
   ]
  },
  {
   "cell_type": "code",
   "execution_count": null,
   "metadata": {
    "collapsed": true
   },
   "outputs": [],
   "source": [
    "len(sorted_car_trips)"
   ]
  },
  {
   "cell_type": "code",
   "execution_count": null,
   "metadata": {
    "collapsed": true
   },
   "outputs": [],
   "source": [
    "output_flag=1\n",
    "target_hh_id=2287301\n",
    "# target_hh_id=2744264\n",
    "min_length=15\n",
    "max_length=20\n",
    "run_mode=0\n",
    "reward_mode=0\n",
    "time_window_flag=0\n",
    "single_model_runtime=60*3\n",
    "target_hh=traveler_trips[traveler_trips['hh_id']==target_hh_id].drop_duplicates(subset=['orig_maz','dest_maz','orig_purpose','dest_purpose','starttime','joint_trip_flag'])\n",
    "#Sort all trips based on start time. This step could reduce the solving time and make it easier to track\n",
    "sorted_trips=target_hh.sort_values(\"starttime\")\n",
    "sorted_car_trips=sorted_trips.loc[sorted_trips.tripmode<=6]\n",
    "#hh_index give an index to all trips within the household for tracking purpose\n",
    "hh_num_trips=sorted_car_trips.shape[0]\n",
    "sorted_car_trips[\"hh_index\"]=(range(hh_num_trips))\n",
    "car_trips_route_info_partition,car_trips_schedule_deviation=solve_with_schedule_partition(sorted_car_trips,Vehicular_Skim,Transit_AB_Cost_Skim,superzone_map,min_length,max_length)"
   ]
  },
  {
   "cell_type": "code",
   "execution_count": null,
   "metadata": {
    "collapsed": true
   },
   "outputs": [],
   "source": [
    "analysis_result(car_trips_route_info_partition,sorted_car_trips,Vehicular_Skim,car_trips_schedule_deviation)"
   ]
  },
  {
   "cell_type": "markdown",
   "metadata": {},
   "source": [
    "#### Ban Shared Rides"
   ]
  },
  {
   "cell_type": "code",
   "execution_count": null,
   "metadata": {
    "collapsed": true,
    "scrolled": true
   },
   "outputs": [],
   "source": [
    "output_flag=1\n",
    "target_hh_id=2287301\n",
    "# target_hh_id=2744264\n",
    "min_length=15\n",
    "max_length=20\n",
    "target_hh=traveler_trips[traveler_trips['hh_id']==target_hh_id].drop_duplicates(subset=['orig_maz','dest_maz','orig_purpose','dest_purpose','starttime','joint_trip_flag'])\n",
    "#Sort all trips based on start time. This step could reduce the solving time and make it easier to track\n",
    "sorted_trips=target_hh.sort_values(\"starttime\")\n",
    "# sorted_trips=sorted_trips.loc[sorted_trips.tripmode<=6]\n",
    "#hh_index give an index to all trips within the household for tracking purpose\n",
    "hh_num_trips=sorted_trips.shape[0]\n",
    "sorted_trips[\"hh_index\"]=(range(hh_num_trips))\n",
    "all_trips_route_info_ban_sharerides,all_trips_schedule_deviation_ban_sharerides=solve_with_schedule_partition(sorted_trips,Vehicular_Skim,Transit_AB_Cost_Skim,superzone_map,min_length,max_length)"
   ]
  },
  {
   "cell_type": "code",
   "execution_count": null,
   "metadata": {
    "collapsed": true
   },
   "outputs": [],
   "source": [
    "analysis_result(all_trips_route_info_ban_sharerides,sorted_trips,Vehicular_Skim,all_trips_schedule_deviation_ban_sharerides)"
   ]
  },
  {
   "cell_type": "markdown",
   "metadata": {},
   "source": [
    "#### Share ride factor 1.25"
   ]
  },
  {
   "cell_type": "code",
   "execution_count": null,
   "metadata": {
    "collapsed": true
   },
   "outputs": [],
   "source": [
    "output_flag=1\n",
    "target_hh_id=2287301\n",
    "# target_hh_id=2744264\n",
    "min_length=15\n",
    "max_length=20\n",
    "share_ride_factor=1.25\n",
    "target_hh=traveler_trips[traveler_trips['hh_id']==target_hh_id].drop_duplicates(subset=['orig_maz','dest_maz','orig_purpose','dest_purpose','starttime','joint_trip_flag'])\n",
    "#Sort all trips based on start time. This step could reduce the solving time and make it easier to track\n",
    "sorted_trips=target_hh.sort_values(\"starttime\")\n",
    "# sorted_trips=sorted_trips.loc[sorted_trips.tripmode<=6]\n",
    "#hh_index give an index to all trips within the household for tracking purpose\n",
    "hh_num_trips=sorted_trips.shape[0]\n",
    "sorted_trips[\"hh_index\"]=(range(hh_num_trips))\n",
    "all_trips_route_info_sharerides125,all_trips_schedule_deviation_sharerides125=solve_with_schedule_partition(sorted_trips,Vehicular_Skim,Transit_AB_Cost_Skim,superzone_map,min_length,max_length)"
   ]
  },
  {
   "cell_type": "code",
   "execution_count": null,
   "metadata": {
    "collapsed": true,
    "scrolled": true
   },
   "outputs": [],
   "source": [
    "analysis_result(all_trips_route_info_sharerides125,sorted_trips,Vehicular_Skim,all_trips_schedule_deviation_sharerides125)"
   ]
  },
  {
   "cell_type": "code",
   "execution_count": null,
   "metadata": {
    "collapsed": true,
    "scrolled": false
   },
   "outputs": [],
   "source": [
    "plt.pyplot.figure(1,figsize=[21,10])\n",
    "plt.pyplot.subplot(141)\n",
    "plt.pyplot.scatter(sorted_trips.person_id.apply(lambda x: person_id_and_inhouse_p_id_map[x]),sorted_trips.starttime)\n",
    "plt.pyplot.scatter(sorted_trips.loc[(sorted_trips.tripmode<=6),'p_id'],\n",
    "                   sorted_trips.loc[(sorted_trips.tripmode<=6),'starttime'],\n",
    "                   c='r')\n",
    "plt.pyplot.xlabel('Traveler Index')\n",
    "plt.pyplot.ylabel('Time')\n",
    "plt.pyplot.grid()\n",
    "plt.pyplot.xticks(np.arange(min(sorted_trips.p_id), max(sorted_trips.p_id)+1, 1))\n",
    "plt.pyplot.yticks(np.arange(0,1441,30))\n",
    "plt.pyplot.subplot(142)\n",
    "plot_route_info_schedule(car_trips_route_info_partition,sorted_car_trips)\n",
    "plt.pyplot.subplot(143)\n",
    "plot_route_info_schedule(all_trips_route_info_partition,sorted_trips)\n",
    "plt.pyplot.subplot(144)\n",
    "plot_route_info_schedule(all_trips_route_info_ban_sharerides,sorted_trips)"
   ]
  },
  {
   "cell_type": "markdown",
   "metadata": {},
   "source": [
    "#### Probability Mode Choice"
   ]
  },
  {
   "cell_type": "code",
   "execution_count": null,
   "metadata": {
    "collapsed": true
   },
   "outputs": [],
   "source": [
    "drivingcost_per_mile=1\n",
    "transit_fare=1.4\n",
    "transit_asc=2"
   ]
  },
  {
   "cell_type": "code",
   "execution_count": null,
   "metadata": {
    "collapsed": true
   },
   "outputs": [],
   "source": [
    "output_flag=1\n",
    "target_hh_id=2287301\n",
    "# target_hh_id=2744264\n",
    "min_length=15\n",
    "max_length=20\n",
    "run_mode=1\n",
    "share_ride_factor=1.5\n",
    "target_hh=traveler_trips[traveler_trips['hh_id']==target_hh_id].drop_duplicates(subset=['orig_maz','dest_maz','orig_purpose','dest_purpose','starttime','joint_trip_flag'])\n",
    "#Sort all trips based on start time. This step could reduce the solving time and make it easier to track\n",
    "sorted_trips=target_hh.sort_values(\"starttime\")\n",
    "# sorted_trips=sorted_trips.loc[sorted_trips.tripmode<=6]\n",
    "#hh_index give an index to all trips within the household for tracking purpose\n",
    "hh_num_trips=sorted_trips.shape[0]\n",
    "sorted_trips[\"hh_index\"]=(range(hh_num_trips))\n",
    "mode_choice_route_info,mode_choice_schedule_deviation=solve_with_schedule_partition(sorted_trips,Vehicular_Skim,Transit_AB_Cost_Skim,superzone_map,min_length,max_length)"
   ]
  },
  {
   "cell_type": "code",
   "execution_count": null,
   "metadata": {
    "collapsed": true
   },
   "outputs": [],
   "source": [
    "sorted_trips=compare_mode_utlity(sorted_trips)"
   ]
  },
  {
   "cell_type": "code",
   "execution_count": null,
   "metadata": {
    "collapsed": true
   },
   "outputs": [],
   "source": [
    "min_length=15\n",
    "max_length=20\n",
    "run_mode=0\n",
    "share_ride_factor=1.5\n",
    "force_serve_factor=1\n",
    "car_sorted_trips=sorted_trips.loc[sorted_trips.expected_mode=='Car']\n",
    "# sorted_trips=sorted_trips.loc[sorted_trips.tripmode<=6]\n",
    "#hh_index give an index to all trips within the household for tracking purpose\n",
    "hh_num_trips=sorted_trips.shape[0]\n",
    "sorted_trips[\"hh_index\"]=(range(hh_num_trips))\n",
    "car_only_mode_choice_route_info,car_only_mode_choice_schedule_deviation=solve_with_schedule_partition(car_sorted_trips,Vehicular_Skim,Transit_AB_Cost_Skim,superzone_map,min_length,max_length)\n",
    "force_serve_factor=0"
   ]
  },
  {
   "cell_type": "code",
   "execution_count": null,
   "metadata": {
    "collapsed": true,
    "scrolled": true
   },
   "outputs": [],
   "source": [
    "sorted_trips[['transit_time','transit_walk_time','car_time','toll_cost','car_dist','transit_utility','car_utility','expected_mode','actual_mode','value_of_time']]"
   ]
  },
  {
   "cell_type": "code",
   "execution_count": null,
   "metadata": {
    "collapsed": true,
    "scrolled": true
   },
   "outputs": [],
   "source": [
    "# sub_sorted_trips=[item for sublist in schedule_partition(sorted_trips,Vehicular_Skim,min_length,max_length) for item in sublist]\n",
    "# sub_sorted_trips=flatten(schedule_partition(sorted_trips,Vehicular_Skim,min_length,max_length))\n",
    "# route_info=pd.DataFrame()\n",
    "\n",
    "# total_previous_sub_trips_length=0\n",
    "# total_tailing_sub_trips_length=0\n",
    "# schedule_deviation=[]\n",
    "# x_list=[]\n",
    "# for sub_sorted_trip in sub_sorted_trips:\n",
    "\n",
    "#     num_hh_member,hh_num_trips,C,TT,expected_arrival_time,expected_leave_time,early_penalty,late_penalty,early_penalty_threshold,late_penalty_threshold,visit_candidate_zone=extract_hh_information(sub_sorted_trip,Vehicular_Skim,Transit_AB_Cost_Skim,superzone_map)\n",
    "#     # R=estimate_transit_cost(sorted_trips,TransitMazTazFlag,WalkSpeed,TransitSkimTimeIntervalLength,Transit_AB_Cost_Skim,Transit_AB_Time_Skim,transit_zone_candidates,three_link_walk)\n",
    "#     R=estimate_trip_reward(hh_num_trips,sub_sorted_trip,Vehicular_Skim)\n",
    "#     print('start sovling problem at ',datetime.datetime.now())\n",
    "#     m1,x,T=dial_n_ride_model(num_hh_member,hh_num_trips,C,TT,sub_sorted_trip,expected_arrival_time,early_penalty,late_penalty,early_penalty_threshold,late_penalty_threshold,R,output_flag)\n",
    "#     x_list.extend([x])\n",
    "#     print('finish solving problem at ',datetime.datetime.now())\n",
    "#     sub_route_info=extract_route_from_model_solution(x,T,sub_sorted_trip,visit_candidate_zone,hh_num_trips,expected_arrival_time,expected_leave_time)\n",
    "#     total_tailing_sub_trips_length=len(sorted_trips)-total_previous_sub_trips_length-len(sub_sorted_trip)\n",
    "#     sub_route_info['orig_node_index']=sub_route_info.orig_node_index.apply(lambda x: x+total_previous_sub_trips_length if x<=hh_num_trips else x+2*total_previous_sub_trips_length+total_tailing_sub_trips_length) \n",
    "#     sub_route_info['dest_node_index']=sub_route_info.dest_node_index.apply(lambda x: x+total_previous_sub_trips_length if x<=hh_num_trips else x+2*total_previous_sub_trips_length+total_tailing_sub_trips_length) \n",
    "#     total_previous_sub_trips_length=total_previous_sub_trips_length+len(sub_sorted_trip)\n",
    "#     route_info=route_info.append(sub_route_info)\n",
    "# #         for index, row in route_info.iterrows():\n",
    "# #             print(route_info.dest_expected_arrival_time,'\\t',row.dest_arrival_time,'\\t',row.start_time,'\\t',T[row.dest_node_index].x)\n",
    "# #         #Estimate the delay and early arrival\n",
    "# T_sol=np.ones(2*hh_num_trips+2)\n",
    "# for i in range(2*hh_num_trips+2):\n",
    "# #     print(int(T[i].x),'\\t',expected_arrival_time[i],'\\t',T[i].x-expected_arrival_time[i])\n",
    "#     T_sol[i]=T[i].x\n",
    "#     print(T_sol[i],expected_arrival_time[i])\n",
    "# schedule_deviation.extend(T_sol-expected_arrival_time)"
   ]
  },
  {
   "cell_type": "code",
   "execution_count": null,
   "metadata": {
    "collapsed": true
   },
   "outputs": [],
   "source": [
    "sorted_trips.loc[:,'p_id']=sorted_trips.groupby(['person_id']).ngroup()\n",
    "hh_num_trips=len(sorted_trips)\n",
    "person_id_and_inhouse_p_id_map=dict(zip(sorted_trips.person_id,sorted_trips.p_id))\n",
    "person_id_and_inhouse_p_id_map[0]=-1\n",
    "plt.pyplot.figure(1,figsize=[21,10])\n",
    "plt.pyplot.subplot(141)\n",
    "plot_route_info_schedule(car_only_mode_choice_route_info,car_sorted_trips)\n",
    "z1=[sorted_trips.iloc[i-1].p_id for i in temp3]\n",
    "z2=[sorted_trips.iloc[i-1].starttime for i in temp3]\n",
    "print(z1,z2)\n",
    "plt.pyplot.scatter(z1,z2)"
   ]
  },
  {
   "cell_type": "code",
   "execution_count": null,
   "metadata": {
    "collapsed": true
   },
   "outputs": [],
   "source": [
    "analysis_result(mode_choice_route_info,sorted_trips,Vehicular_Skim,mode_choice_schedule_deviation)"
   ]
  },
  {
   "cell_type": "code",
   "execution_count": null,
   "metadata": {
    "collapsed": true,
    "scrolled": true
   },
   "outputs": [],
   "source": [
    "sub_sorted_trips=flatten(schedule_partition(sorted_trips,Vehicular_Skim,min_length,max_length))\n",
    "#     route_info=pd.DataFrame()\n",
    "for sub_sorted_trip in sub_sorted_trips:\n",
    "#     sub_sorted_trip=sub_sorted_trips[1]\n",
    "    num_hh_member,hh_num_trips,C,TT,expected_arrival_time,expected_leave_time,early_penalty,late_penalty,early_penalty_threshold,late_penalty_threshold,visit_candidate_zone=extract_hh_information(sub_sorted_trip,Vehicular_Skim,Transit_AB_Cost_Skim,superzone_map)\n",
    "    # R=estimate_transit_cost(sorted_trips,TransitMazTazFlag,WalkSpeed,TransitSkimTimeIntervalLength,Transit_AB_Cost_Skim,Transit_AB_Time_Skim,transit_zone_candidates,three_link_walk)\n",
    "    # R=np.ones(hh_num_trips+1)*10\n",
    "    R=estimate_trip_reward(hh_num_trips,sub_sorted_trip,Vehicular_Skim)\n",
    "    print('start sovling problem at ',datetime.datetime.now())\n",
    "    m1,x,T=dial_n_ride_model(num_hh_member,hh_num_trips,C,TT,sub_sorted_trip,expected_arrival_time,early_penalty,late_penalty,early_penalty_threshold,late_penalty_threshold,R,share_ride_factor,output_flag,run_mode)\n",
    "    print('finish solving problem at ',datetime.datetime.now())\n",
    "    sub_route_info_temp=extract_route_from_model_solution(x,T,sub_sorted_trip,visit_candidate_zone,hh_num_trips,expected_arrival_time,expected_leave_time)\n",
    "    \n",
    "    T_sol=np.ones(2*hh_num_trips+2)\n",
    "    for i in range(2*hh_num_trips+2):\n",
    "    #     print(int(T[i].x),'\\t',expected_arrival_time[i],'\\t',T[i].x-expected_arrival_time[i])\n",
    "        T_sol[i]=T[i].x\n",
    "    schedule_deviation.extend(T_sol-expected_arrival_time)\n",
    "    analysis_result(sub_route_info_temp,sub_sorted_trips,Vehicular_Skim,schedule_deviation)"
   ]
  },
  {
   "cell_type": "code",
   "execution_count": null,
   "metadata": {
    "collapsed": true
   },
   "outputs": [],
   "source": [
    "analysis_result(sub_route_info,sub_sorted_trip,Vehicular_Skim,schedule_deviation)"
   ]
  },
  {
   "cell_type": "code",
   "execution_count": null,
   "metadata": {
    "collapsed": true,
    "scrolled": false
   },
   "outputs": [],
   "source": [
    "z=traveler_trips[traveler_trips.hh_id==2287301]\n",
    "z.loc[:,'p_id']=z.groupby(['person_id']).ngroup()\n",
    "z.loc[:,'expected_arrival']=z.starttime+z.travel_time\n",
    "person_id_and_inhouse_p_id_map=dict(zip(z.person_id,z.p_id))\n",
    "person_id_and_inhouse_p_id_map[0]=-1\n",
    "sorted_trips.loc[:,'p_id']=sorted_trips.person_id.apply(lambda x: person_id_and_inhouse_p_id_map[x])\n",
    "route_info['p_id']=route_info.person_id.apply(lambda x: person_id_and_inhouse_p_id_map[x])\n",
    "route_info_partition['p_id']=route_info_partition.person_id.apply(lambda x: person_id_and_inhouse_p_id_map[x])\n",
    "\n",
    "plt.pyplot.figure(1,figsize=[21,14])\n",
    "plt.pyplot.subplot(131)\n",
    "plt.pyplot.scatter(sorted_trips.person_id.apply(lambda x: person_id_and_inhouse_p_id_map[x]),sorted_trips.starttime)\n",
    "\n",
    "# plt.pyplot.scatter(z.person_id.apply(lambda x: person_id_and_inhouse_p_id_map[x]),z.starttime,marker='o',facecolors='none', edgecolors='r')\n",
    "\n",
    "# plt.pyplot.plot(route_info.loc[(route_info.p_id!=-1) & (route_info.orig_node_index<1+hh_num_trips),'p_id'],\n",
    "#                 route_info.loc[(route_info.p_id!=-1) & (route_info.orig_node_index<1+hh_num_trips),'start_time']\n",
    "#                )\n",
    "plt.pyplot.scatter(sorted_trips.loc[(sorted_trips.tripmode<=6),'p_id'],\n",
    "                   sorted_trips.loc[(sorted_trips.tripmode<=6),'starttime'],\n",
    "                   c='r')\n",
    "plt.pyplot.xlabel('Traveler Index')\n",
    "plt.pyplot.ylabel('Time')\n",
    "plt.pyplot.grid()\n",
    "plt.pyplot.xticks(np.arange(min(sorted_trips.p_id), max(sorted_trips.p_id)+1, 1))\n",
    "plt.pyplot.yticks(np.arange(0,1441,30))\n",
    "plt.pyplot.subplot(132)\n",
    "# plt.pyplot.scatter(sorted_trips.person_id.apply(lambda x: person_id_and_inhouse_p_id_map[x]),sorted_trips.starttime)\n",
    "# plt.pyplot.scatter(sorted_trips.loc[(sorted_trips.tripmode<=6),'p_id'],\n",
    "#                    sorted_trips.loc[(sorted_trips.tripmode<=6),'starttime'],\n",
    "#                    c='r')\n",
    "\n",
    "plt.pyplot.scatter(route_info.loc[(route_info.p_id!=-1) & (route_info.orig_node_index<=1+hh_num_trips),'p_id'],\n",
    "                route_info.loc[(route_info.p_id!=-1) & (route_info.orig_node_index<=1+hh_num_trips),'origin_arrival_time'])\n",
    "plt.pyplot.plot(route_info.loc[(route_info.p_id!=-1) & (route_info.orig_node_index<=1+hh_num_trips),'p_id'],\n",
    "                route_info.loc[(route_info.p_id!=-1) & (route_info.orig_node_index<=1+hh_num_trips),'origin_arrival_time'])\n",
    "plt.pyplot.grid()\n",
    "plt.pyplot.xticks(np.arange(min(sorted_trips.p_id), max(sorted_trips.p_id)+1, 1))\n",
    "plt.pyplot.yticks(np.arange(0,1441,30))\n",
    "plt.pyplot.subplot(133)\n",
    "plt.pyplot.scatter(route_info_partition.loc[(route_info_partition.p_id!=-1) & (route_info_partition.orig_node_index<=1+hh_num_trips),'p_id'],\n",
    "                route_info_partition.loc[(route_info_partition.p_id!=-1) & (route_info_partition.orig_node_index<=1+hh_num_trips),'origin_arrival_time'])\n",
    "plt.pyplot.plot(route_info_partition.loc[(route_info_partition.p_id!=-1) & (route_info_partition.orig_node_index<=1+hh_num_trips),'p_id'],\n",
    "                route_info_partition.loc[(route_info_partition.p_id!=-1) & (route_info_partition.orig_node_index<=1+hh_num_trips),'origin_arrival_time'])\n",
    "\n",
    "plt.pyplot.xlabel('Traveler Index')\n",
    "plt.pyplot.ylabel('Time')\n",
    "plt.pyplot.grid()\n",
    "plt.pyplot.xticks(np.arange(min(sorted_trips.p_id), max(sorted_trips.p_id)+1, 1))\n",
    "plt.pyplot.yticks(np.arange(0,1441,30))"
   ]
  },
  {
   "cell_type": "code",
   "execution_count": null,
   "metadata": {
    "collapsed": true
   },
   "outputs": [],
   "source": [
    "sorted_trips=target_hh.sort_values(\"starttime\")\n",
    "sub_sorted_trips=[item for sublist in schedule_partition(sorted_trips,Vehicular_Skim,min_length,max_length) for item in sublist]"
   ]
  },
  {
   "cell_type": "code",
   "execution_count": null,
   "metadata": {
    "collapsed": true
   },
   "outputs": [],
   "source": []
  },
  {
   "cell_type": "code",
   "execution_count": null,
   "metadata": {
    "collapsed": true
   },
   "outputs": [],
   "source": [
    "plot_route_info_schedule(sub_route_info,traveler_trips)"
   ]
  },
  {
   "cell_type": "code",
   "execution_count": null,
   "metadata": {
    "collapsed": true
   },
   "outputs": [],
   "source": [
    "sub_route_info.groupby('person_id').count()"
   ]
  },
  {
   "cell_type": "code",
   "execution_count": null,
   "metadata": {
    "collapsed": true
   },
   "outputs": [],
   "source": [
    "sub_sorted_trip.groupby('person_id').count()"
   ]
  },
  {
   "cell_type": "code",
   "execution_count": null,
   "metadata": {
    "collapsed": true
   },
   "outputs": [],
   "source": [
    "sub_route_info"
   ]
  },
  {
   "cell_type": "markdown",
   "metadata": {},
   "source": [
    "##### Solve the problem for all households"
   ]
  },
  {
   "cell_type": "code",
   "execution_count": null,
   "metadata": {
    "collapsed": true,
    "scrolled": true
   },
   "outputs": [],
   "source": [
    "route_infos=get_route_info_allhh(traveler_trips,0)"
   ]
  },
  {
   "cell_type": "code",
   "execution_count": null,
   "metadata": {
    "collapsed": true
   },
   "outputs": [],
   "source": [
    "route_infos.to_csv('Output/route_infos_fullconversion_lessthan40triphh.csv')"
   ]
  },
  {
   "cell_type": "code",
   "execution_count": null,
   "metadata": {
    "collapsed": true
   },
   "outputs": [],
   "source": [
    "route_infos.to_csv('Output/route_infos_partconversion.csv')"
   ]
  },
  {
   "cell_type": "code",
   "execution_count": null,
   "metadata": {
    "collapsed": true,
    "scrolled": true
   },
   "outputs": [],
   "source": [
    "route_infos_full_adoption=pd.read_csv('D:/alex/Autonomous-V-demand/Output/route_infos_fullconversion.csv')\n",
    "route_infos_part_adoption=pd.read_csv('D:/alex/Autonomous-V-demand/Output/route_infos_partconversion.csv')"
   ]
  },
  {
   "cell_type": "code",
   "execution_count": null,
   "metadata": {
    "collapsed": true
   },
   "outputs": [],
   "source": [
    "route_infos_full_adoption.head()"
   ]
  },
  {
   "cell_type": "markdown",
   "metadata": {},
   "source": [
    "#### Compare the new route with the old one"
   ]
  },
  {
   "cell_type": "code",
   "execution_count": null,
   "metadata": {
    "collapsed": true
   },
   "outputs": [],
   "source": [
    "initial_trips=traveler_trips.drop_duplicates(subset=['hh_id','orig_maz','dest_maz','orig_purpose','dest_purpose','starttime'])\n",
    "len1=[]\n",
    "len2=[]\n",
    "origin_num_car_trips=[]\n",
    "num_empty_car_trips=[]\n",
    "num_initial_car_trips=0\n",
    "for name, group in route_infos_full_adoption.groupby(['hh_id']):\n",
    "    num_initial_car_trips=num_initial_car_trips+len(initial_trips.loc[(initial_trips.hh_id==name) & ((initial_trips.tripmode<=6) | (initial_trips.tripmode==13))])\n",
    "#     len1.extend([len(group)])\n",
    "#     len2.extend([len(initial_trips.loc[initial_trips.hh_id==name])])\n",
    "#     origin_num_car_trips.extend([len(initial_trips.loc[(initial_trips.tripmode<=6) | (initial_trips.tripmode==13)])])\n",
    "#     num_empty_car_trips.extend([len(group[group.person_id==0])])"
   ]
  },
  {
   "cell_type": "code",
   "execution_count": null,
   "metadata": {
    "collapsed": true
   },
   "outputs": [],
   "source": [
    "zz=traveler_trips.drop_duplicates(subset=['hh_id','orig_maz','dest_maz','orig_purpose','dest_purpose','starttime']).groupby('hh_id').count() "
   ]
  },
  {
   "cell_type": "code",
   "execution_count": null,
   "metadata": {
    "collapsed": true
   },
   "outputs": [],
   "source": [
    "zz1=traveler_trips.groupby('hh_id').count() "
   ]
  },
  {
   "cell_type": "code",
   "execution_count": null,
   "metadata": {
    "collapsed": true
   },
   "outputs": [],
   "source": [
    "traveler_trips.columns"
   ]
  },
  {
   "cell_type": "code",
   "execution_count": null,
   "metadata": {
    "collapsed": true
   },
   "outputs": [],
   "source": [
    "zz[zz.person_id>30].person_id.sum()"
   ]
  },
  {
   "cell_type": "code",
   "execution_count": null,
   "metadata": {
    "collapsed": true
   },
   "outputs": [],
   "source": [
    "print('The new route plan has ',sum(len1),' trips')\n",
    "print('The origin trip plan has ',sum(len2),' trips')\n",
    "print('The origin trip plan has',len(initial_trips.loc[initial_trips.tripmode<=6]),'car trips')\n",
    "print('The origin trip plan has',len(initial_trips.loc[initial_trips.tripmode==13]),'taxi trips')\n",
    "print('The new route plan has',sum(num_empty_car_trips),'empty car trips')"
   ]
  },
  {
   "cell_type": "markdown",
   "metadata": {},
   "source": [
    "### Route result analysis"
   ]
  },
  {
   "cell_type": "markdown",
   "metadata": {},
   "source": [
    "##### Estimate how many trips are satisfied"
   ]
  },
  {
   "cell_type": "code",
   "execution_count": null,
   "metadata": {
    "collapsed": true
   },
   "outputs": [],
   "source": [
    "route_infos.head()"
   ]
  },
  {
   "cell_type": "code",
   "execution_count": null,
   "metadata": {
    "collapsed": true
   },
   "outputs": [],
   "source": [
    "def calculate_num_pick_up_trips(route_infos,traveler_trips):\n",
    "    total_num_pickup_trip=0\n",
    "    total_num_joint_trip=0\n",
    "    for target_hh_id in route_infos.hh_id.unique():\n",
    "        target_hh=traveler_trips[traveler_trips['hh_id']==target_hh_id].drop_duplicates(subset=['orig_maz','dest_maz','orig_purpose','dest_purpose','starttime'])\n",
    "        #Sort all trips based on start time. This step could reduce the solving time and make it easier to track\n",
    "        sorted_trips=target_hh.sort_values(\"starttime\")\n",
    "        hh_num_trips=len(sorted_trips)\n",
    "        total_num_pickup_trip=total_num_pickup_trip+len(route_infos.loc[(route_infos.hh_id==target_hh_id)& (route_infos.orig_node_index<hh_num_trips)])\n",
    "        total_num_joint_trip=total_num_joint_trip+len(route_infos.loc[(route_infos.hh_id==target_hh_id)& (route_infos.orig_node_index<hh_num_trips)& (route_infos.dest_node_index<hh_num_trips)])\n",
    "    return total_num_pickup_trip,total_num_joint_trip\n",
    "    #     print(target_hh_id)"
   ]
  },
  {
   "cell_type": "code",
   "execution_count": null,
   "metadata": {
    "collapsed": true
   },
   "outputs": [],
   "source": [
    "# Calculate the number of trips with/without passenger\n",
    "full_adoption_num_pickup,full_adoption_extra_joint=calculate_num_pick_up_trips(route_infos_full_adoption,traveler_trips)\n",
    "full_adoption_empty_trips=len(route_infos_full_adoption.loc[route_infos_full_adoption.person_id==0])\n",
    "partial_adoption_num_pickup,partial_adoption_extra_joint=calculate_num_pick_up_trips(route_infos_part_adoption,traveler_trips)\n",
    "partial_adoption_empty_trips=len(route_infos_part_adoption.loc[route_infos_part_adoption.person_id==0])"
   ]
  },
  {
   "cell_type": "code",
   "execution_count": null,
   "metadata": {
    "collapsed": true
   },
   "outputs": [],
   "source": [
    "full_adoption_num_pickup"
   ]
  },
  {
   "cell_type": "code",
   "execution_count": null,
   "metadata": {
    "collapsed": true
   },
   "outputs": [],
   "source": [
    "partial_adoption_num_pickup"
   ]
  },
  {
   "cell_type": "code",
   "execution_count": null,
   "metadata": {
    "collapsed": true
   },
   "outputs": [],
   "source": [
    "full_adoption_extra_joint"
   ]
  },
  {
   "cell_type": "code",
   "execution_count": null,
   "metadata": {
    "collapsed": true
   },
   "outputs": [],
   "source": [
    "len(route_infos_part_adoption)"
   ]
  },
  {
   "cell_type": "code",
   "execution_count": null,
   "metadata": {
    "collapsed": true
   },
   "outputs": [],
   "source": [
    "partial_adoption_extra_joint"
   ]
  },
  {
   "cell_type": "code",
   "execution_count": null,
   "metadata": {
    "collapsed": true,
    "scrolled": true
   },
   "outputs": [],
   "source": [
    "print('The full conversion plan pickup ',full_adoption_num_pickup,'trips (',round(full_adoption_num_pickup/sum(len2),2),')out of ',sum(len2))\n",
    "print('The full conversion plan incurs ', full_adoption_empty_trips,'empty trips. The ratio beween empty and occupy trips is', full_adoption_empty_trips/full_adoption_num_pickup)\n",
    "print('The partial conversion plan pickup ',partial_adoption_num_pickup,'trips (',round(partial_adoption_num_pickup/sum(len2),2),')out of ',sum(len2))\n",
    "print('The partial conversion plan incurs ', partial_adoption_empty_trips,'empty trips. The ratio beween empty and occupy trips is' ,partial_adoption_empty_trips/partial_adoption_num_pickup)"
   ]
  },
  {
   "cell_type": "code",
   "execution_count": null,
   "metadata": {
    "collapsed": true
   },
   "outputs": [],
   "source": [
    "route_infos_full_adoption.columns"
   ]
  },
  {
   "cell_type": "code",
   "execution_count": null,
   "metadata": {
    "collapsed": true
   },
   "outputs": [],
   "source": [
    "z=route_infos_full_adoption.groupby('hh_id').apply(lambda x: (x==0).sum())"
   ]
  },
  {
   "cell_type": "code",
   "execution_count": null,
   "metadata": {
    "collapsed": true
   },
   "outputs": [],
   "source": [
    "z['num_hh_member']=traveler_trips.groupby('hh_id')['person_id'].nunique()"
   ]
  },
  {
   "cell_type": "code",
   "execution_count": null,
   "metadata": {
    "collapsed": true
   },
   "outputs": [],
   "source": [
    "def plot_num_trips_by_timeinterval(route_infos):\n",
    "    route_infos['occupy_flag']=['Occupied' if x >0 else 'Empty' for x in route_infos['person_id']]\n",
    "    route_infos['start_time_interval']=[math.floor(x/36) for x in route_infos['start_time']]\n",
    "    z=route_infos.groupby(['start_time_interval', 'occupy_flag'])['start_time'].count().unstack('occupy_flag').fillna(0)\n",
    "#     fig, axes = plt.pyplot.subplots(nrows=1 ,ncols=1,figsize=(16,6))\n",
    "    \n",
    "    z[['Occupied','Empty']].plot(kind='bar',stacked=True,figsize=(16,6))\n",
    "    z['Empty_percentage']=z['Empty']/(z['Occupied']+z['Empty'])\n",
    "#     z['Empty_percentage'].plot(kind='bar',ax=axes[1])\n",
    "    return z"
   ]
  },
  {
   "cell_type": "code",
   "execution_count": null,
   "metadata": {
    "collapsed": true
   },
   "outputs": [],
   "source": [
    "z1=plot_num_trips_by_timeinterval(route_infos_full_adoption)"
   ]
  },
  {
   "cell_type": "code",
   "execution_count": null,
   "metadata": {
    "collapsed": true
   },
   "outputs": [],
   "source": [
    "z2=plot_num_trips_by_timeinterval(route_infos_part_adoption)"
   ]
  },
  {
   "cell_type": "code",
   "execution_count": null,
   "metadata": {
    "collapsed": true
   },
   "outputs": [],
   "source": []
  },
  {
   "cell_type": "code",
   "execution_count": null,
   "metadata": {
    "collapsed": true
   },
   "outputs": [],
   "source": [
    "fig = plt.pyplot.figure()\n",
    "ax = fig.add_subplot(111)\n",
    "ax2 = ax.twinx()\n",
    "z1.Empty_percentage.plot(kind='bar',ax=ax,color='r',position=0)\n",
    "z2.Empty_percentage.plot(kind='bar',ax=ax2,color='blue',position=1)"
   ]
  },
  {
   "cell_type": "markdown",
   "metadata": {},
   "source": [
    "#### Write the route to DYNASMART input file vehicle.dat"
   ]
  },
  {
   "cell_type": "code",
   "execution_count": null,
   "metadata": {
    "collapsed": true
   },
   "outputs": [],
   "source": [
    "vehicledat_filepath='Output/vehicle_partconversion.dat'\n",
    "path_filepath='Output/path_partconversion.dat'"
   ]
  },
  {
   "cell_type": "code",
   "execution_count": null,
   "metadata": {
    "collapsed": true
   },
   "outputs": [],
   "source": [
    "def read_vehicledat(vehicledat_filepath):\n",
    "    '''\n",
    "    This function read all sort of vehicledat file. It returns a dataframe vehicle_info that \n",
    "    contains all the information. Each row is corresponding to one vehicle in the vehicle.dat. \n",
    "    \n",
    "    '''\n",
    "    feature_list=['counter','iutmp','idtmp','StartTime','ivcltmp','ivcl2tmp','ihovtmp','veh_pathnodenum','NonrepetitiveCarNumTrip','infotmp','ribftmp','comptmp','TAZMap','value_of_time','value']\n",
    "    i=0 #line number of vehicle.dat\n",
    "    j=0 #line number of vehicle_info\n",
    "    dest_chain=[]\n",
    "    activity_chain=[]\n",
    "    with open(vehicledat_filepath) as f: #Open the file\n",
    "        for line in f:\n",
    "            if i ==0: #Read the num_vehicle and max number of unit from the first line\n",
    "                num_vehicle=int(line.split()[0])\n",
    "                max_num_trips=int(line.split()[1])\n",
    "                vehicle_info = pd.DataFrame(0,index=np.arange(num_vehicle), columns=feature_list)\n",
    "            elif i >1:\n",
    "                if (len(line)>30): #If the line is the first line of a vehicle, read the general information about vehicle\n",
    "                    vehicle_info.iloc[j]=[float(k) for k in line.split()]\n",
    "                    dest_chain.append([])\n",
    "                    activity_chain.append([])\n",
    "                    j=j+1\n",
    "                else:\n",
    "                    taz_temp,activity_time=line.split()\n",
    "                    dest_chain[j-1].extend([taz_temp])\n",
    "                    activity_chain[j-1].extend([activity_time])\n",
    "                    \n",
    "            i=i+1\n",
    "        vehicle_info['dest_chain']=dest_chain\n",
    "        vehicle_info['activity_time']=activity_chain\n",
    "    return vehicle_info\n",
    "def read_pathdat(pathdat_filepath):\n",
    "    path_bank=[]\n",
    "    with open(pathdat_filepath) as f:\n",
    "        for line in f:\n",
    "            path_bank.append([int(i) for i in line.split()])\n",
    "    return path_bank"
   ]
  },
  {
   "cell_type": "code",
   "execution_count": null,
   "metadata": {
    "collapsed": true
   },
   "outputs": [],
   "source": [
    "def read_intrasuperzone_files(intrasuperzone_vehicle_filepath,intrasuperzone_path_filepath):\n",
    "    feature_list=['counter','iutmp','idtmp','StartTime','ivcltmp','ivcl2tmp','ihovtmp','veh_pathnodenum',\n",
    "                  'NonrepetitiveCarNumTrip','infotmp','ribftmp','comptmp','TAZMap','value_of_time','value']\n",
    "    i=0 #line number of vehicle.dat\n",
    "    j=0 #line number of vehicle_info\n",
    "    dest_chain=[]\n",
    "    activity_chain=[]\n",
    "    key=[]\n",
    "    with open(intrasuperzone_vehicle_filepath) as f: #Open the file\n",
    "        for line in f:\n",
    "            if i ==0: #Read the num_vehicle and max number of unit from the first line\n",
    "                num_vehicle=int(line.split()[0])\n",
    "                max_num_trips=int(line.split()[1])\n",
    "                vehicle_info = pd.DataFrame(0,index=np.arange(num_vehicle), columns=feature_list)\n",
    "            elif i >1:\n",
    "                if (len(line)>30): #If the line is the first line of a vehicle, read the general information about vehicle\n",
    "                    vehicle_info.iloc[j]=[float(k) for k in line.split()]\n",
    "                    \n",
    "                    j=j+1\n",
    "                else:\n",
    "                    taz_temp,activity_time=line.split()\n",
    "                    dest_chain.extend([taz_temp])\n",
    "                    activity_chain.extend([activity_time])\n",
    "                    key.append(tuple([int(vehicle_info.iloc[j-1]['TAZMap']),int(taz_temp)]))\n",
    "            i=i+1\n",
    "        print(dest_chain)\n",
    "        vehicle_info['dest_chain']=dest_chain\n",
    "        vehicle_info['activity_time']=activity_chain\n",
    "        \n",
    "    intrasuperzone_path=read_pathdat(intrasuperzone_path_filepath)\n",
    "    intrasuperzone_info=vehicle_info\n",
    "    intrasuperzone_info['path']=intrasuperzone_path\n",
    "    intrasuperzone_path_dic=dict(zip(tuple(key),intrasuperzone_path))\n",
    "    return intrasuperzone_info,intrasuperzone_path_dic"
   ]
  },
  {
   "cell_type": "code",
   "execution_count": null,
   "metadata": {
    "collapsed": true
   },
   "outputs": [],
   "source": [
    "intrasuperzone_vehicle_filepath='Input/intrasuperzone_vehicle.dat'\n",
    "intrasuperzone_path_filepath='Input/intrasuperzone_path.dat'\n",
    "intrasuperzone_info,intrasuperzone_path_dic=read_intrasuperzone_files(intrasuperzone_vehicle_filepath,intrasuperzone_path_filepath)"
   ]
  },
  {
   "cell_type": "code",
   "execution_count": null,
   "metadata": {
    "collapsed": true
   },
   "outputs": [],
   "source": [
    "Output_folder='Output/'\n",
    "if not os.path.exists(Output_folder):\n",
    "    os.makedirs(Output_folder)\n",
    "vehicle_filepath=Output_folder+'vehicle_partconversion.dat'"
   ]
  },
  {
   "cell_type": "code",
   "execution_count": null,
   "metadata": {
    "collapsed": true
   },
   "outputs": [],
   "source": [
    "def route_to_vehiclepathdat(route_infos,origin_links,vehicle_filepath,path_filepath,superzone_map,\n",
    "                            intrasuperzone_path_dic,external_vehicle_filepath,average_value_of_time):\n",
    "    '''\n",
    "    This function write all the route information in the format of vehicle.dat\n",
    "    '''\n",
    "    vehicledat=open(vehicle_filepath,'w')\n",
    "    pathdat=open(path_filepath,'w')\n",
    "    if os.path.isfile(external_vehicle_filepath):\n",
    "        external_vehicle=open(external_vehicle_filepath,'r')\n",
    "        num_external_vehicle=int(next(external_vehicle).split()[0])\n",
    "        next(external_vehicle)\n",
    "        excounter,exusec,exdsec,exstime,exusrcls,exvehtype,exioc,exonode,exintde,exinfo,exribf,excomp,exoz=next(external_vehicle).split()\n",
    "        exTAZMap,exactivitytime=next(external_vehicle).split()\n",
    "        exstime=float(exstime)+180 #External vehicle start from 0:00am but the abm file start from 3 am\n",
    "    else:\n",
    "        exstime=1555\n",
    "    \n",
    "    num_veh_seg=len(route_infos['veh_seg_index'].unique())\n",
    "    max_num_trip=route_infos.groupby('veh_seg_index')['start_time'].count().max()\n",
    "    total_veh_seg=num_veh_seg+num_external_vehicle\n",
    "    vehicledat.write(str(total_veh_seg)+'\\t'+str(max_num_trip)+'\\t'+'# of vehicles in the file, Max # of stops\\n')\n",
    "    vehicledat.write('counter  iutmp  idtmp  StartTime  ivcltmp  ivcl2tmp  ihovtmp  veh_pathnodenum  NonrepetitiveCarNumTrip  infotmp  ribftmp  comptmp  TAZMap  value_of_time  1\\n')\n",
    "    counter=1\n",
    "    multiindex_route_infos=route_infos.set_index(['veh_seg_index'])\n",
    "    for veh_seg in route_infos.sort_values('origin_arrival_time')['veh_seg_index'].unique():\n",
    "        target_seg=multiindex_route_infos.loc[[veh_seg]]\n",
    "        \n",
    "        while target_seg.origin_arrival_time.min()>exstime:\n",
    "            vehicledat.write(str(counter)+'\\t'+exusec+'\\t'+exdsec+'\\t'+str(exstime)+'\\t'+\n",
    "                             exusrcls+'\\t'+exvehtype+'\\t'+exioc+'\\t'+\n",
    "                             '1'+'\\t'+exintde+'\\t'+exinfo+'\\t'+exribf+'\\t'+excomp+'\\t'+\n",
    "                             exoz+'\\t'+str(average_value_of_time)+'\\t'+'1'+'\\n')\n",
    "            vehicledat.write(exTAZMap+'\\t'+exactivitytime+'\\n')\n",
    "            pathdat.write('\\n')\n",
    "            counter +=1\n",
    "            line_listtemp=next(external_vehicle).split()\n",
    "            if len(line_listtemp)>3:\n",
    "                excounter,exusec,exdsec,exstime,exusrcls,exvehtype,exioc,exonode,exintde,exinfo,exribf,excomp,exoz=line_listtemp\n",
    "                exTAZMap,exactivitytime=next(external_vehicle).split()\n",
    "                exstime=float(exstime)+180 #External vehicle start from 0:00am but the abm file start from 3 am\n",
    "            else: \n",
    "                exstime=1555\n",
    "        if counter==23300:\n",
    "            print(veh_seg,exstime,target_seg.start_time.min(),target_seg)\n",
    "        write_one_veh_seq(target_seg,vehicledat,pathdat,counter,origin_links,superzone_map,intrasuperzone_path_dic)\n",
    "        counter +=1\n",
    "        if counter%1000==0: \n",
    "            print(counter,datetime.datetime.now())\n",
    "    vehicledat.close()\n",
    "    pathdat.close()\n",
    "    return\n",
    "def write_one_veh_seq(route_info,file_obj,path_file_obj,counter,origin_links,superzone_map,intrasuperzone_path_dic):\n",
    "    '''\n",
    "    This function convert the route information of one segment into vehicle.dat format. The function is called by route_to_vehiclepathdat\n",
    "    '''\n",
    "    ivcl2tmp=1        #Standard Input for Vehicle Specifications \n",
    "    ihovtmp=1         #Standard Input for Vehicle Specifications  \n",
    "    veh_pathnodenum=1 #Standard Input for Vehicle Specifications\n",
    "    ndestmp=1         #Standard Input for Vehicle Specifications\n",
    "    infotmp=0         #Standard Input for Vehicle Specifications \n",
    "    ribftmp=0.0       #Standard Input for Vehicle Specifications  \n",
    "    comptmp=0.0       #Standard Input for Vehicle Specifications  \n",
    "    if (route_info.iloc[0].intrasuperzone_flag==1):\n",
    "        path_temp=intrasuperzone_path_dic[(route_info.iloc[0]['orig_zone'],route_info.iloc[0]['dest_zone'])]\n",
    "        orig_u_node,orig_d_node=path_temp[0:2]\n",
    "        ivcltmp=1\n",
    "        veh_pathnodenum=len(path_temp)\n",
    "        path_file_obj.write(''.join( str(j).rjust(7) for j in intrasuperzone_path_dic[(route_info.iloc[0]['orig_zone'],route_info.iloc[0]['dest_zone'])])+'\\n')\n",
    "    else:\n",
    "        target_zone=origin_links.loc[origin_links.zone_id==route_info.iloc[0]['orig_zone']]\n",
    "        generateion_link_index=np.random.randint(0,len(target_zone))\n",
    "        orig_u_node= target_zone.iloc[generateion_link_index]['u_node'] #Upstream node of the generation link \n",
    "        orig_d_node= target_zone.iloc[generateion_link_index]['d_node'] #Downstream node of the generation link\n",
    "        ivcltmp=3\n",
    "        veh_pathnodenum=1\n",
    "        path_file_obj.write('\\n')\n",
    "    \n",
    "    file_obj.write(str(counter)+'\\t'+str(int(orig_u_node))+'\\t'\n",
    "                   +str(int(orig_d_node))+'\\t'+str(round(route_info.iloc[0]['origin_arrival_time'],1))+'\\t'\n",
    "                   +str(ivcltmp)+'\\t'+str(ivcl2tmp)+'\\t'+str(ihovtmp)+'\\t'+str(veh_pathnodenum)+'\\t'\n",
    "                   +str(len(route_info))+'\\t'+str(infotmp)+'\\t'+str(ribftmp)+'\\t'\n",
    "                   +str(comptmp)+'\\t'+ str(route_info.iloc[0]['orig_zone'])+'\\t'\n",
    "                   +str(route_info.iloc[0]['value_of_time'])+'\\t'+'1'+'\\n')\n",
    "    for (index,row) in route_info.iloc[:-1].iterrows():\n",
    "        file_obj.write(str(row['dest_zone'])+'\\t'+str(row['Activity_Time'])+'\\n')\n",
    "    file_obj.write(str(route_info['dest_zone'].iloc[-1])+'\\t'+'0.0\\n')\n",
    "    if (route_info.dest_zone.iloc[-1]<1):\n",
    "        print('error')\n",
    "    return"
   ]
  },
  {
   "cell_type": "code",
   "execution_count": null,
   "metadata": {
    "collapsed": true
   },
   "outputs": [],
   "source": [
    "route_infos[route_infos.hh_id==869256]"
   ]
  },
  {
   "cell_type": "code",
   "execution_count": null,
   "metadata": {
    "collapsed": true,
    "scrolled": false
   },
   "outputs": [],
   "source": [
    "vehicledat_filepath='Output/vehicle_partconversion.dat'\n",
    "path_filepath='Output/path_partconversion.dat'\n",
    "external_vehicle_filepath='Input/external_vehicle.dat'\n",
    "average_value_of_time=round(traveler_trips.value_of_time.mean(),4)\n",
    "route_to_vehiclepathdat(route_infos,origin_links,vehicle_filepath,path_filepath,superzone_map,\n",
    "                            intrasuperzone_path_dic,external_vehicle_filepath,average_value_of_time)"
   ]
  },
  {
   "cell_type": "code",
   "execution_count": null,
   "metadata": {
    "collapsed": true
   },
   "outputs": [],
   "source": []
  },
  {
   "cell_type": "code",
   "execution_count": null,
   "metadata": {
    "collapsed": true
   },
   "outputs": [],
   "source": [
    "# new_path='Output/newpath.dat'\n",
    "# path_fileobj=open(new_path,'w')\n",
    "# with open('Output/path.dat') as f:\n",
    "#     for line in f: \n",
    "#         if len(line)>1:\n",
    "#             for node in line.split():\n",
    "#                 path_fileobj.write(node.rjust(7))\n",
    "#             path_fileobj.write('\\n')\n",
    "#         else: \n",
    "#             path_fileobj.write('\\n')\n",
    "# path_fileobj.close()"
   ]
  },
  {
   "cell_type": "markdown",
   "metadata": {},
   "source": [
    "#### Result Analysis"
   ]
  },
  {
   "cell_type": "code",
   "execution_count": null,
   "metadata": {
    "collapsed": true
   },
   "outputs": [],
   "source": []
  }
 ],
 "metadata": {
  "kernelspec": {
   "display_name": "Python 3",
   "language": "python",
   "name": "python3"
  },
  "language_info": {
   "codemirror_mode": {
    "name": "ipython",
    "version": 3
   },
   "file_extension": ".py",
   "mimetype": "text/x-python",
   "name": "python",
   "nbconvert_exporter": "python",
   "pygments_lexer": "ipython3",
   "version": "3.6.2"
  }
 },
 "nbformat": 4,
 "nbformat_minor": 2
}
