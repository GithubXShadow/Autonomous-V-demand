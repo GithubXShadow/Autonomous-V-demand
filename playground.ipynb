{
 "cells": [
  {
   "cell_type": "code",
   "execution_count": 1,
   "metadata": {},
   "outputs": [],
   "source": [
    "import numpy as np\n",
    "import pandas as pd\n",
    "import matplotlib as plt\n",
    "import networkx as nx\n",
    "%matplotlib inline\n",
    "# from DYNASMART_Process import *\n",
    "from Modules import DYNASMART_Process as dy\n",
    "# import preprocessing_read_skim_file as rs\n",
    "from Modules import AV_functions as av\n",
    "from Modules import Solve_DARP as sod\n",
    "from Modules import Postprocess_DARP as pod\n",
    "from Modules import Preprocess_DARP as prd\n",
    "from Modules import DARP_to_DYNA as dtd\n",
    "from gurobipy import *\n",
    "from Modules import *\n",
    "import datetime\n",
    "import requests\n",
    "import math\n",
    "import importlib\n",
    "import random\n",
    "%load_ext autoreload\n",
    "%autoreload 2"
   ]
  },
  {
   "cell_type": "code",
   "execution_count": 2,
   "metadata": {
    "scrolled": true
   },
   "outputs": [
    {
     "name": "stdout",
     "output_type": "stream",
     "text": [
      "56 57 72\n"
     ]
    }
   ],
   "source": [
    "#Read in the basic traveler and trips informationa and joint the houshold id\n",
    "# traveler_info=pd.read_csv('input/traveler.csv')\n",
    "personData=pd.read_csv('input/personData_1.csv')\n",
    "person_type_dic=dict(zip(personData.person_id,personData.type))\n",
    "traveler_trips=pd.read_csv('input/traveler_trip_info_improved.csv',index_col=0)\n",
    "num_zones,num_nodes,num_links,node_detail,node_id,link_detail,link_id=dy.read_network('input/network.dat')\n",
    "nodexy=dy.read_xy('input/xy.dat')\n",
    "superzone_filepath='Input/SuperZone.dat'\n",
    "linktraveltime_filepath='Input/output_td_linktraveltime.dat'\n",
    "superzone_map=dy.read_superzone_info(superzone_filepath)\n",
    "origin_path='Input/origin.dat'\n",
    "destination_path='Input/destination.dat'\n",
    "origins,destinations,origin_links=dy.read_origin_destion(origin_path,destination_path)\n",
    "origin_links['length']=origin_links.apply(lambda row: \n",
    "                                          link_detail[int(link_id[node_id[row.u_node],node_id[row.d_node]])][0,4],axis=1)\n",
    "VPNRSkim_folder_filepath='Input/vehicularPNRSkim'\n",
    "Vehicular_Skim,Vehicular_Skim_Dict=dy.read_vehicle_skim(VPNRSkim_folder_filepath)\n",
    "transit_skim_folderpath='Input/'\n",
    "TransitMazTazFlag,drivingweight,walkingweight,\\\n",
    "TransitSkimTimeIntervalLength,MaxNumTransitSkimTimeInterval,WalkSpeed,transit_zone_candidates,\\\n",
    "Transit_AB_Cost_Skim,Transit_AB_Time_Skim,three_link_walk=dy.read_transitskim(transit_skim_folderpath)\n",
    "Transit_AB_Cost_Skim_Dict=dy.convert_skim_dataframe_to_dict(Transit_AB_Cost_Skim,TransitSkimTimeIntervalLength)\n",
    "Transit_AB_Time_Skim_Dict=dy.convert_skim_dataframe_to_dict(Transit_AB_Time_Skim,TransitSkimTimeIntervalLength)\n",
    "transit_zone_dict={}\n",
    "for link_zone in three_link_walk.three_link_zone.unique():\n",
    "    transit_zone_dict[link_zone]=list(three_link_walk[three_link_walk.three_link_zone==link_zone]['transit_zone'].astype(int))\n",
    "three_link_walk_dict={}\n",
    "for index,group in three_link_walk.groupby(['three_link_zone']):\n",
    "    three_link_walk_dict[index]={}\n",
    "    for inx,row in group.iterrows():\n",
    "        three_link_walk_dict[index][row.transit_zone]=row.distance\n",
    "intrasuperzone_vehicle_filepath='Input/intrasuperzone_vehicle.dat'\n",
    "intrasuperzone_path_filepath='Input/intrasuperzone_path.dat'\n",
    "drivingcost_per_mile=0.5\n",
    "intrasuperzone_info,intrasuperzone_path_dic=dtd.read_intrasuperzone_files(intrasuperzone_vehicle_filepath,intrasuperzone_path_filepath)\n",
    "traveler_trips=prd.compare_mode_utlity(traveler_trips,TransitMazTazFlag,\n",
    "                        three_link_walk_dict,Transit_AB_Cost_Skim_Dict,\n",
    "                        Transit_AB_Time_Skim_Dict,TransitSkimTimeIntervalLength,\n",
    "                        Vehicular_Skim_Dict,superzone_map,drivingcost_per_mile,transit_zone_dict)"
   ]
  },
  {
   "cell_type": "code",
   "execution_count": 3,
   "metadata": {
    "collapsed": true
   },
   "outputs": [],
   "source": [
    "car_trips=traveler_trips.loc[(traveler_trips.tripmode<=6) &(traveler_trips.driver_passenger_flag>=1)]\n",
    "car_trips=car_trips.loc[(car_trips.orig_taz !=car_trips.dest_taz) | (car_trips.trip_counter==1)]\n",
    "car_transit_trips=car_trips.append(traveler_trips[traveler_trips.tripmode>8])\n",
    "# car_transit_trips=prd.compare_mode_utlity(car_transit_trips,TransitMazTazFlag,\n",
    "#                         three_link_walk_dict,Transit_AB_Cost_Skim_Dict,\n",
    "#                         Transit_AB_Time_Skim_Dict,TransitSkimTimeIntervalLength,\n",
    "#                         Vehicular_Skim_Dict,superzone_map,drivingcost_per_mile,transit_zone_dict)\n",
    "random.seed(100)\n",
    "car_transit_trips_sample=car_transit_trips[car_transit_trips.hh_id.isin(random.sample(list(car_transit_trips.hh_id.unique()),3000))]\n",
    "car_trips_sample=car_trips[car_trips.hh_id.isin(random.sample(list(car_transit_trips.hh_id.unique()),3000))]"
   ]
  },
  {
   "cell_type": "code",
   "execution_count": 7,
   "metadata": {},
   "outputs": [
    {
     "name": "stdout",
     "output_type": "stream",
     "text": [
      "2018-07-31 16:45:28.276685\n",
      "2018-07-31 16:45:58.916628\n",
      "10000 2018-07-31 16:46:29.306554\n",
      "30000 2018-07-31 16:47:22.702940\n",
      "40000 2018-07-31 16:48:00.370332\n",
      "70000 2018-07-31 16:49:01.952231\n",
      "80000 2018-07-31 16:49:18.488279\n",
      "90000 2018-07-31 16:49:45.373984\n",
      "100000 2018-07-31 16:50:13.143608\n",
      "170000 2018-07-31 16:51:36.169007\n",
      "190000 2018-07-31 16:52:16.271287\n"
     ]
    }
   ],
   "source": [
    "route_info_mv=pd.read_csv('Output/AllHH/MV/route_info.csv')\n",
    "darp_solutions_mv=pod.load_obj('darp_solutions','Output/AllHH/MV/' )\n",
    "external_factor='50'\n",
    "average_value_of_time=round(car_trips.value_of_time.mean(),4)\n",
    "dtd.write_darp_solution_to_file('MV/','Output/AllHH/',route_info_mv,darp_solutions_mv,origin_links,\n",
    "        superzone_map,intrasuperzone_path_dic,average_value_of_time,external_factor)"
   ]
  },
  {
   "cell_type": "code",
   "execution_count": 244,
   "metadata": {
    "scrolled": true
   },
   "outputs": [
    {
     "name": "stdout",
     "output_type": "stream",
     "text": [
      "********************************\n",
      "1.5\n",
      "Estimate Route for the  0 th household  2018-07-18 16:59:29.499307\n",
      "Estimate Route for the  1000 th household  2018-07-18 17:12:34.755412\n",
      "Estimate Route for the  2000 th household  2018-07-18 17:26:20.331311\n",
      "Estimate Route for the  3000 th household  2018-07-18 17:42:36.361520\n",
      "Estimate Route for the  4000 th household  2018-07-18 17:55:20.704049\n",
      "Estimate Route for the  5000 th household  2018-07-18 18:05:54.989238\n",
      "Estimate Route for the  6000 th household  2018-07-18 18:15:23.216393\n",
      "Estimate Route for the  7000 th household  2018-07-18 18:25:45.629890\n",
      "Estimate Route for the  8000 th household  2018-07-18 18:35:53.389913\n",
      "Estimate Route for the  9000 th household  2018-07-18 18:45:02.511539\n",
      "Estimate Route for the  10000 th household  2018-07-18 18:54:07.769634\n",
      "Estimate Route for the  11000 th household  2018-07-18 19:03:15.186383\n",
      "Estimate Route for the  12000 th household  2018-07-18 19:12:31.852060\n",
      "Estimate Route for the  13000 th household  2018-07-18 19:24:28.160746\n",
      "Estimate Route for the  14000 th household  2018-07-18 19:33:27.237399\n",
      "Estimate Route for the  15000 th household  2018-07-18 19:42:23.641852\n",
      "Estimate Route for the  16000 th household  2018-07-18 19:53:15.162891\n",
      "Estimate Route for the  17000 th household  2018-07-18 20:02:31.789500\n",
      "Estimate Route for the  18000 th household  2018-07-18 20:11:24.115768\n",
      "Estimate Route for the  19000 th household  2018-07-18 20:20:45.353423\n",
      "Estimate Route for the  20000 th household  2018-07-18 20:29:58.290074\n",
      "Estimate Route for the  21000 th household  2018-07-18 20:38:46.143053\n",
      "Estimate Route for the  22000 th household  2018-07-18 20:47:42.928557\n",
      "Estimate Route for the  23000 th household  2018-07-18 20:56:17.187799\n",
      "Estimate Route for the  24000 th household  2018-07-18 21:04:40.419366\n",
      "Estimate Route for the  25000 th household  2018-07-18 21:12:49.100147\n",
      "Estimate Route for the  26000 th household  2018-07-18 21:21:01.305129\n",
      "Estimate Route for the  27000 th household  2018-07-18 21:28:50.398760\n",
      "Estimate Route for the  28000 th household  2018-07-18 21:36:13.254937\n",
      "Estimate Route for the  29000 th household  2018-07-18 21:43:05.350072\n",
      "Estimate Route for the  30000 th household  2018-07-18 21:49:08.421969\n"
     ]
    },
    {
     "ename": "NameError",
     "evalue": "name 'route_info_mo' is not defined",
     "output_type": "error",
     "traceback": [
      "\u001b[1;31m---------------------------------------------------------------------------\u001b[0m",
      "\u001b[1;31mNameError\u001b[0m                                 Traceback (most recent call last)",
      "\u001b[1;32m<ipython-input-244-53f2937c969b>\u001b[0m in \u001b[0;36m<module>\u001b[1;34m()\u001b[0m\n\u001b[0;32m     34\u001b[0m                          TransitSkimTimeIntervalLength )\n\u001b[0;32m     35\u001b[0m \u001b[0moutput_filepath\u001b[0m\u001b[1;33m=\u001b[0m\u001b[1;34m'Output/AllHH/'\u001b[0m\u001b[1;33m\u001b[0m\u001b[0m\n\u001b[1;32m---> 36\u001b[1;33m \u001b[0mdtd\u001b[0m\u001b[1;33m.\u001b[0m\u001b[0msave_run_result\u001b[0m\u001b[1;33m(\u001b[0m\u001b[1;34m'MO/'\u001b[0m\u001b[1;33m,\u001b[0m\u001b[0mroute_info_mo\u001b[0m\u001b[1;33m,\u001b[0m\u001b[0mdarp_solutions_mo\u001b[0m\u001b[1;33m,\u001b[0m\u001b[0moutput_filepath\u001b[0m\u001b[1;33m)\u001b[0m\u001b[1;33m\u001b[0m\u001b[0m\n\u001b[0m\u001b[0;32m     37\u001b[0m \u001b[1;31m# pod.analysis_network_level_results(route_info,darp_solutions,car_trips_sample,\u001b[0m\u001b[1;33m\u001b[0m\u001b[1;33m\u001b[0m\u001b[0m\n\u001b[0;32m     38\u001b[0m \u001b[1;31m#                                    Vehicular_Skim_Dict,superzone_map,drivingcost_per_mile)\u001b[0m\u001b[1;33m\u001b[0m\u001b[1;33m\u001b[0m\u001b[0m\n",
      "\u001b[1;31mNameError\u001b[0m: name 'route_info_mo' is not defined"
     ]
    }
   ],
   "source": [
    "output_flag=0\n",
    "# target_hh_id=2744264\n",
    "min_length=15\n",
    "max_length=20\n",
    "single_model_runtime=60*3\n",
    "drivingcost_per_mile=0.5\n",
    "reward_mode=1\n",
    "run_mode=0\n",
    "darp_solutions=[]\n",
    "cav_use_mode=0\n",
    "num_time_interval=1\n",
    "TL=[i*1440/num_time_interval for i in range(num_time_interval)]\n",
    "TU=[(i+1)*1440/num_time_interval for i in range(num_time_interval)]\n",
    "num_cav=1\n",
    "share_ride_factor=1.5\n",
    "time_window_flag=0\n",
    "# target_trips=traveler_trips.loc[(traveler_trips.tripmode<=6) &(traveler_trips.driver_passenger_flag>0)]\n",
    "# target_trips=target_trips[(target_trips.orig_taz!=target_trips.dest_taz) | (target_trips.trip_counter==1)]\n",
    "# target_trips=target_trips.append(traveler_trips[traveler_trips.tripmode>8])\n",
    "# target_trips.value_of_time=target_trips.value_of_time*0.8\n",
    "# car_transit_trips_sample.value_of_time=car_transit_trips_sample.value_of_time*0.7\n",
    "# for share_ride_factor in [1,1.25,1.5]:\n",
    "print('********************************')\n",
    "print(share_ride_factor)\n",
    "# target_trips=car_trips_sample[car_trips_sample.hh_id==1486727]\n",
    "\n",
    "route_info_modechoice,darp_solutions_modechoice=\\\n",
    "bsod.get_route_info_allhh(car_transit_trips,\n",
    "                         output_flag,min_length,max_length,single_model_runtime,drivingcost_per_mile,\n",
    "                         reward_mode,run_mode,cav_use_mode,num_time_interval,num_cav,share_ride_factor\n",
    "                         ,time_window_flag,Vehicular_Skim_Dict,\n",
    "                         Transit_AB_Cost_Skim_Dict,Transit_AB_Time_Skim_Dict,three_link_walk_dict,\n",
    "                         superzone_map,TL,TU,\n",
    "                         transit_zone_dict,transit_zone_candidates,TransitMazTazFlag,\n",
    "                         TransitSkimTimeIntervalLength )\n",
    "output_filepath='Output/AllHH/'\n",
    "dtd.save_run_result('MO/',route_info_modechoice,darp_solutions_modechoice,output_filepath)\n",
    "# pod.analysis_network_level_results(route_info,darp_solutions,car_trips_sample,\n",
    "#                                    Vehicular_Skim_Dict,superzone_map,drivingcost_per_mile)"
   ]
  },
  {
   "cell_type": "code",
   "execution_count": 245,
   "metadata": {
    "collapsed": true
   },
   "outputs": [],
   "source": [
    "output_filepath='Output/AllHH/'\n",
    "dtd.save_run_result('MO/',route_info_modechoice,darp_solutions_modechoice,output_filepath)"
   ]
  },
  {
   "cell_type": "code",
   "execution_count": 247,
   "metadata": {},
   "outputs": [
    {
     "name": "stdout",
     "output_type": "stream",
     "text": [
      "********************************\n",
      "1.5\n",
      "Estimate Route for the  0 th household  2018-07-19 06:40:34.474386\n",
      "Estimate Route for the  1000 th household  2018-07-19 06:52:51.166434\n",
      "Estimate Route for the  2000 th household  2018-07-19 07:05:24.917075\n",
      "Estimate Route for the  3000 th household  2018-07-19 07:19:34.272205\n",
      "Estimate Route for the  4000 th household  2018-07-19 07:31:00.229322\n",
      "Estimate Route for the  5000 th household  2018-07-19 07:41:26.836525\n",
      "Estimate Route for the  6000 th household  2018-07-19 07:50:11.262119\n",
      "Estimate Route for the  7000 th household  2018-07-19 08:00:14.068038\n",
      "Estimate Route for the  8000 th household  2018-07-19 08:09:45.963410\n",
      "Estimate Route for the  9000 th household  2018-07-19 08:18:33.922419\n",
      "Estimate Route for the  10000 th household  2018-07-19 08:27:15.391969\n",
      "Estimate Route for the  11000 th household  2018-07-19 08:35:43.590920\n",
      "Estimate Route for the  12000 th household  2018-07-19 08:44:29.074603\n",
      "Estimate Route for the  13000 th household  2018-07-19 08:55:50.432494\n",
      "Estimate Route for the  14000 th household  2018-07-19 09:04:00.908008\n",
      "Estimate Route for the  15000 th household  2018-07-19 09:12:19.127666\n",
      "Estimate Route for the  16000 th household  2018-07-19 09:22:38.656459\n",
      "Estimate Route for the  17000 th household  2018-07-19 09:31:12.800182\n",
      "Estimate Route for the  18000 th household  2018-07-19 09:39:27.818799\n",
      "Estimate Route for the  19000 th household  2018-07-19 09:49:48.244000\n",
      "Estimate Route for the  20000 th household  2018-07-19 09:58:30.184702\n",
      "Estimate Route for the  21000 th household  2018-07-19 10:06:45.103838\n",
      "Estimate Route for the  22000 th household  2018-07-19 10:15:03.298124\n",
      "Estimate Route for the  23000 th household  2018-07-19 10:23:00.829273\n",
      "Estimate Route for the  24000 th household  2018-07-19 10:30:37.521241\n",
      "Estimate Route for the  25000 th household  2018-07-19 10:38:01.136419\n",
      "Estimate Route for the  26000 th household  2018-07-19 10:45:14.363048\n",
      "Estimate Route for the  27000 th household  2018-07-19 10:52:23.208016\n",
      "Estimate Route for the  28000 th household  2018-07-19 10:58:51.610054\n",
      "Estimate Route for the  29000 th household  2018-07-19 11:05:04.523254\n",
      "Estimate Route for the  30000 th household  2018-07-19 11:10:52.777053\n"
     ]
    }
   ],
   "source": [
    "output_flag=0\n",
    "# target_hh_id=2744264\n",
    "min_length=15\n",
    "max_length=20\n",
    "single_model_runtime=60*3\n",
    "drivingcost_per_mile=0.5\n",
    "reward_mode=1\n",
    "run_mode=0\n",
    "darp_solutions=[]\n",
    "cav_use_mode=0\n",
    "num_time_interval=1\n",
    "TL=[i*1440/num_time_interval for i in range(num_time_interval)]\n",
    "TU=[(i+1)*1440/num_time_interval for i in range(num_time_interval)]\n",
    "num_cav=1\n",
    "share_ride_factor=1.5\n",
    "time_window_flag=0\n",
    "# target_trips=traveler_trips.loc[(traveler_trips.tripmode<=6) &(traveler_trips.driver_passenger_flag>0)]\n",
    "# target_trips=target_trips[(target_trips.orig_taz!=target_trips.dest_taz) | (target_trips.trip_counter==1)]\n",
    "# target_trips=target_trips.append(traveler_trips[traveler_trips.tripmode>8])\n",
    "# target_trips.value_of_time=target_trips.value_of_time*0.8\n",
    "# car_transit_trips_sample.value_of_time=car_transit_trips_sample.value_of_time*0.7\n",
    "# for share_ride_factor in [1,1.25,1.5]:\n",
    "print('********************************')\n",
    "print(share_ride_factor)\n",
    "# target_trips=car_trips_sample[car_trips_sample.hh_id==1486727]\n",
    "car_transit_trip_07vot=car_transit_trips.copy()\n",
    "car_transit_trip_07vot.value_of_time=car_transit_trip_07vot.value_of_time*0.7\n",
    "route_info_modechoice07vot,darp_solutions_modechoice07vot=\\\n",
    "sod.get_route_info_allhh(car_transit_trip_07vot,\n",
    "                         output_flag,min_length,max_length,single_model_runtime,drivingcost_per_mile,\n",
    "                         reward_mode,run_mode,cav_use_mode,num_time_interval,num_cav,share_ride_factor\n",
    "                         ,time_window_flag,Vehicular_Skim_Dict,\n",
    "                         Transit_AB_Cost_Skim_Dict,Transit_AB_Time_Skim_Dict,three_link_walk_dict,\n",
    "                         superzone_map,TL,TU,\n",
    "                         transit_zone_dict,transit_zone_candidates,TransitMazTazFlag,\n",
    "                         TransitSkimTimeIntervalLength )\n",
    "output_filepath='Output/AllHH/'\n",
    "dtd.save_run_result('MO07vot/',route_info_modechoice07vot,darp_solutions_modechoice07vot,output_filepath)\n",
    "\n",
    "# pod.analysis_network_level_results(route_info,darp_solutions,car_trips_sample,\n",
    "#                                    Vehicular_Skim_Dict,superzone_map,drivingcost_per_mile)"
   ]
  },
  {
   "cell_type": "code",
   "execution_count": 689,
   "metadata": {
    "scrolled": true
   },
   "outputs": [
    {
     "name": "stdout",
     "output_type": "stream",
     "text": [
      "********************************\n",
      "1.5\n",
      "Estimate Route for the  0 th household  2018-07-30 14:38:04.900221\n",
      "Estimate Route for the  1000 th household  2018-07-30 14:50:52.501584\n",
      "Estimate Route for the  2000 th household  2018-07-30 15:03:31.017248\n",
      "Estimate Route for the  3000 th household  2018-07-30 15:16:26.989522\n",
      "Estimate Route for the  4000 th household  2018-07-30 15:28:44.597907\n",
      "Estimate Route for the  5000 th household  2018-07-30 15:38:58.604430\n",
      "Estimate Route for the  6000 th household  2018-07-30 15:48:00.986873\n",
      "Estimate Route for the  7000 th household  2018-07-30 15:58:13.806061\n",
      "Estimate Route for the  8000 th household  2018-07-30 16:08:01.504473\n",
      "Estimate Route for the  9000 th household  2018-07-30 16:17:17.828064\n",
      "Estimate Route for the  10000 th household  2018-07-30 16:26:04.551008\n",
      "Estimate Route for the  11000 th household  2018-07-30 16:34:32.638894\n",
      "Estimate Route for the  12000 th household  2018-07-30 16:43:00.219719\n",
      "Estimate Route for the  13000 th household  2018-07-30 16:54:18.452277\n",
      "Estimate Route for the  14000 th household  2018-07-30 17:02:29.128566\n",
      "Estimate Route for the  15000 th household  2018-07-30 17:10:30.248481\n",
      "Estimate Route for the  16000 th household  2018-07-30 17:20:59.046230\n",
      "Estimate Route for the  17000 th household  2018-07-30 17:29:32.419621\n",
      "Estimate Route for the  18000 th household  2018-07-30 17:37:47.803542\n",
      "Estimate Route for the  19000 th household  2018-07-30 17:47:36.022426\n",
      "Estimate Route for the  20000 th household  2018-07-30 17:56:22.578881\n",
      "Estimate Route for the  21000 th household  2018-07-30 18:04:28.462504\n",
      "Estimate Route for the  22000 th household  2018-07-30 18:12:36.023667\n",
      "Estimate Route for the  23000 th household  2018-07-30 18:20:31.836235\n",
      "Estimate Route for the  24000 th household  2018-07-30 18:28:10.505311\n",
      "Estimate Route for the  25000 th household  2018-07-30 18:35:38.232770\n",
      "Estimate Route for the  26000 th household  2018-07-30 18:43:10.495440\n",
      "Estimate Route for the  27000 th household  2018-07-30 18:50:15.737616\n",
      "Estimate Route for the  28000 th household  2018-07-30 18:56:44.128695\n",
      "Estimate Route for the  29000 th household  2018-07-30 19:03:01.332750\n",
      "Estimate Route for the  30000 th household  2018-07-30 19:09:10.752690\n"
     ]
    }
   ],
   "source": [
    "output_flag=0\n",
    "# target_hh_id=2744264\n",
    "min_length=15\n",
    "max_length=20\n",
    "single_model_runtime=60*3\n",
    "drivingcost_per_mile=0.5\n",
    "reward_mode=1\n",
    "run_mode=0\n",
    "darp_solutions=[]\n",
    "cav_use_mode=0\n",
    "num_time_interval=1\n",
    "TL=[i*1440/num_time_interval for i in range(num_time_interval)]\n",
    "TU=[(i+1)*1440/num_time_interval for i in range(num_time_interval)]\n",
    "num_cav=1\n",
    "share_ride_factor=1.5\n",
    "time_window_flag=0\n",
    "# target_trips=traveler_trips.loc[(traveler_trips.tripmode<=6) &(traveler_trips.driver_passenger_flag>0)]\n",
    "# target_trips=target_trips[(target_trips.orig_taz!=target_trips.dest_taz) | (target_trips.trip_counter==1)]\n",
    "# target_trips=target_trips.append(traveler_trips[traveler_trips.tripmode>8])\n",
    "# target_trips.value_of_time=target_trips.value_of_time*0.8\n",
    "# car_transit_trips_sample.value_of_time=car_transit_trips_sample.value_of_time*0.7\n",
    "# for share_ride_factor in [1,1.25,1.5]:\n",
    "print('********************************')\n",
    "print(share_ride_factor)\n",
    "# target_trips=car_trips_sample[car_trips_sample.hh_id==1486727]\n",
    "car_transit_trip_05vot=car_transit_trips.copy()\n",
    "car_transit_trip_05vot.value_of_time=car_transit_trip_05vot.value_of_time\n",
    "car_transit_trip_05vot_sample=car_transit_trip_05vot\\\n",
    "[car_transit_trip_05vot.hh_id.isin(random.sample(list(car_transit_trip_05vot.hh_id.unique()),1000))]\n",
    "route_info_modechoice05vot,darp_solutions_modechoice05vot=\\\n",
    "sod.get_route_info_allhh(car_transit_trip_05vot,\n",
    "                         output_flag,min_length,max_length,single_model_runtime,drivingcost_per_mile,\n",
    "                         reward_mode,run_mode,cav_use_mode,num_time_interval,num_cav,share_ride_factor\n",
    "                         ,time_window_flag,Vehicular_Skim_Dict,\n",
    "                         Transit_AB_Cost_Skim_Dict,Transit_AB_Time_Skim_Dict,three_link_walk_dict,\n",
    "                         superzone_map,TL,TU,\n",
    "                         transit_zone_dict,transit_zone_candidates,TransitMazTazFlag,\n",
    "                         TransitSkimTimeIntervalLength )\n",
    "output_filepath='Output/AllHH/'\n",
    "dtd.save_run_result('MO05vot/',route_info_modechoice05vot,darp_solutions_modechoice05vot,output_filepath)\n",
    "\n",
    "# pod.analysis_network_level_results(route_info,darp_solutions,car_trips_sample,\n",
    "#                                    Vehicular_Skim_Dict,superzone_map,drivingcost_per_mile)"
   ]
  },
  {
   "cell_type": "code",
   "execution_count": 709,
   "metadata": {},
   "outputs": [
    {
     "data": {
      "text/plain": [
       "1.1787082975171714"
      ]
     },
     "execution_count": 709,
     "metadata": {},
     "output_type": "execute_result"
    }
   ],
   "source": [
    "deviation_list=[]\n",
    "num_trips=[]\n",
    "hh_id_list=[]\n",
    "target_darp_solutions=darp_solutions_modechoice05vot\n",
    "for hh_id in car_transit_trips.hh_id.unique():\n",
    "    hh_id_list.extend([hh_id])\n",
    "    num_trips.extend([target_darp_solutions[hh_id]['num_pickup_trips']])\n",
    "    deviation_list.extend([target_darp_solutions[hh_id]['schedule_deviation']])\n",
    "deviation=pd.DataFrame({'hh_id':hh_id_list,'num_trips':num_trips,'deviation_list':deviation_list})\n",
    "deviation.deviation_list.sum()/deviation.num_trips.sum()"
   ]
  },
  {
   "cell_type": "code",
   "execution_count": 693,
   "metadata": {},
   "outputs": [
    {
     "name": "stdout",
     "output_type": "stream",
     "text": [
      "2018-07-30 22:09:01.105899\n",
      "2018-07-30 22:09:40.721146\n",
      "20000 2018-07-30 22:10:38.059407\n",
      "30000 2018-07-30 22:11:07.079056\n",
      "40000 2018-07-30 22:11:44.485182\n",
      "50000 2018-07-30 22:12:22.442340\n",
      "60000 2018-07-30 22:12:59.786469\n",
      "70000 2018-07-30 22:13:28.310085\n",
      "80000 2018-07-30 22:13:41.674845\n",
      "100000 2018-07-30 22:14:17.465879\n",
      "110000 2018-07-30 22:14:46.400524\n",
      "120000 2018-07-30 22:15:16.113213\n",
      "140000 2018-07-30 22:15:58.317612\n",
      "160000 2018-07-30 22:16:24.431097\n",
      "170000 2018-07-30 22:16:40.283998\n",
      "180000 2018-07-30 22:16:56.083896\n",
      "200000 2018-07-30 22:17:38.326298\n",
      "220000 2018-07-30 22:18:25.631987\n",
      "230000 2018-07-30 22:18:53.814590\n",
      "240000 2018-07-30 22:19:19.443046\n",
      "250000 2018-07-30 22:19:54.492039\n"
     ]
    }
   ],
   "source": [
    "run_name='modechoice05vot/'\n",
    "output_filepath='Output/'+run_name\n",
    "\n",
    "average_value_of_time=round(traveler_trips.value_of_time.mean(),4)\n",
    "output_filepath=output_filepath\n",
    "external_factor='50'\n",
    "dtd.write_darp_solution_to_file(run_name,output_filepath,route_info_modechoice05vot,darp_solutions_modechoice05vot,origin_links,\n",
    "    superzone_map,intrasuperzone_path_dic,average_value_of_time,external_factor)\n"
   ]
  },
  {
   "cell_type": "code",
   "execution_count": 692,
   "metadata": {},
   "outputs": [
    {
     "ename": "NameError",
     "evalue": "name 'vehicle_filepath' is not defined",
     "output_type": "error",
     "traceback": [
      "\u001b[1;31m---------------------------------------------------------------------------\u001b[0m",
      "\u001b[1;31mNameError\u001b[0m                                 Traceback (most recent call last)",
      "\u001b[1;32m<ipython-input-692-52b3394e2c4d>\u001b[0m in \u001b[0;36m<module>\u001b[1;34m()\u001b[0m\n\u001b[1;32m----> 1\u001b[1;33m \u001b[0mvehicle_filepath\u001b[0m\u001b[1;33m\u001b[0m\u001b[0m\n\u001b[0m",
      "\u001b[1;31mNameError\u001b[0m: name 'vehicle_filepath' is not defined"
     ]
    }
   ],
   "source": [
    "vehicle_filepath"
   ]
  },
  {
   "cell_type": "code",
   "execution_count": null,
   "metadata": {
    "collapsed": true
   },
   "outputs": [],
   "source": [
    "dtd.route_to_vehiclepathdat(route_info_modechoice05vot,origin_links,output_filepath,\n",
    "                            vehicle_filepath,path_filepath,superzone_map,\n",
    "                                intrasuperzone_path_dic,external_vehicle_filepath,average_value_of_time)"
   ]
  },
  {
   "cell_type": "code",
   "execution_count": 691,
   "metadata": {},
   "outputs": [
    {
     "name": "stdout",
     "output_type": "stream",
     "text": [
      "Number of AV Trips: \t 235695\n",
      "Number of Shared Rides: \t 3311.0\n",
      "Total VMT: \t 614834.6835000353\n",
      "Number of occupied trips: \t 184002\n",
      "Number of unoccupied trips: \t 51693\n",
      "Number of transit trips: \t 11517.0\n",
      "total_convention_vehicle_driving_time: \t 13194.786666664204\n",
      "total_convention_vehicle_driving_distance: \t 495547.5679999958\n",
      "total_AV_driving_time: \t 16315.058333330155\n",
      "total_AV_unoccupied_driving_time: \t 3327.008333333454\n",
      "total_AV_driving_distance: \t 615104.0325000385\n",
      "total_AV_unoccupied_driving_distance: \t 125234.23600001671\n",
      "Number of pickup trips: \t 180672.0\n"
     ]
    }
   ],
   "source": [
    "pod.analysis_network_level_results(route_info_modechoice05vot,darp_solutions_modechoice05vot,car_transit_trip_05vot,\n",
    "                                   Vehicular_Skim_Dict,superzone_map,drivingcost_per_mile)"
   ]
  },
  {
   "cell_type": "code",
   "execution_count": null,
   "metadata": {
    "collapsed": true
   },
   "outputs": [],
   "source": []
  },
  {
   "cell_type": "code",
   "execution_count": 686,
   "metadata": {},
   "outputs": [
    {
     "data": {
      "text/html": [
       "<div>\n",
       "<style>\n",
       "    .dataframe thead tr:only-child th {\n",
       "        text-align: right;\n",
       "    }\n",
       "\n",
       "    .dataframe thead th {\n",
       "        text-align: left;\n",
       "    }\n",
       "\n",
       "    .dataframe tbody tr th {\n",
       "        vertical-align: top;\n",
       "    }\n",
       "</style>\n",
       "<table border=\"1\" class=\"dataframe\">\n",
       "  <thead>\n",
       "    <tr style=\"text-align: right;\">\n",
       "      <th></th>\n",
       "      <th>person_id</th>\n",
       "      <th>num_trips</th>\n",
       "      <th>value_of_time</th>\n",
       "      <th>trip_counter</th>\n",
       "      <th>ActivityTime</th>\n",
       "      <th>tripmode</th>\n",
       "      <th>orig_purpose</th>\n",
       "      <th>dest_purpose</th>\n",
       "      <th>orig_maz</th>\n",
       "      <th>orig_taz</th>\n",
       "      <th>...</th>\n",
       "      <th>Diff_bet_starttime</th>\n",
       "      <th>travel_time</th>\n",
       "      <th>person_type</th>\n",
       "      <th>earlyarr_penalty</th>\n",
       "      <th>latearr_penalty</th>\n",
       "      <th>early_penalty_threshold</th>\n",
       "      <th>late_penalty_threshold</th>\n",
       "      <th>transit_utility</th>\n",
       "      <th>car_utility</th>\n",
       "      <th>actual_mode</th>\n",
       "    </tr>\n",
       "    <tr>\n",
       "      <th>predicted_mode</th>\n",
       "      <th></th>\n",
       "      <th></th>\n",
       "      <th></th>\n",
       "      <th></th>\n",
       "      <th></th>\n",
       "      <th></th>\n",
       "      <th></th>\n",
       "      <th></th>\n",
       "      <th></th>\n",
       "      <th></th>\n",
       "      <th></th>\n",
       "      <th></th>\n",
       "      <th></th>\n",
       "      <th></th>\n",
       "      <th></th>\n",
       "      <th></th>\n",
       "      <th></th>\n",
       "      <th></th>\n",
       "      <th></th>\n",
       "      <th></th>\n",
       "      <th></th>\n",
       "    </tr>\n",
       "  </thead>\n",
       "  <tbody>\n",
       "    <tr>\n",
       "      <th>Car</th>\n",
       "      <td>5781</td>\n",
       "      <td>5781</td>\n",
       "      <td>5781</td>\n",
       "      <td>5781</td>\n",
       "      <td>5781</td>\n",
       "      <td>5781</td>\n",
       "      <td>5781</td>\n",
       "      <td>5781</td>\n",
       "      <td>5781</td>\n",
       "      <td>5781</td>\n",
       "      <td>...</td>\n",
       "      <td>5781</td>\n",
       "      <td>5781</td>\n",
       "      <td>5781</td>\n",
       "      <td>5781</td>\n",
       "      <td>5781</td>\n",
       "      <td>5781</td>\n",
       "      <td>5781</td>\n",
       "      <td>5781</td>\n",
       "      <td>5781</td>\n",
       "      <td>5781</td>\n",
       "    </tr>\n",
       "    <tr>\n",
       "      <th>NonCar</th>\n",
       "      <td>371</td>\n",
       "      <td>371</td>\n",
       "      <td>371</td>\n",
       "      <td>371</td>\n",
       "      <td>371</td>\n",
       "      <td>371</td>\n",
       "      <td>371</td>\n",
       "      <td>371</td>\n",
       "      <td>371</td>\n",
       "      <td>371</td>\n",
       "      <td>...</td>\n",
       "      <td>371</td>\n",
       "      <td>371</td>\n",
       "      <td>371</td>\n",
       "      <td>371</td>\n",
       "      <td>371</td>\n",
       "      <td>371</td>\n",
       "      <td>371</td>\n",
       "      <td>371</td>\n",
       "      <td>371</td>\n",
       "      <td>371</td>\n",
       "    </tr>\n",
       "  </tbody>\n",
       "</table>\n",
       "<p>2 rows × 30 columns</p>\n",
       "</div>"
      ],
      "text/plain": [
       "                person_id  num_trips  value_of_time  trip_counter  \\\n",
       "predicted_mode                                                      \n",
       "Car                  5781       5781           5781          5781   \n",
       "NonCar                371        371            371           371   \n",
       "\n",
       "                ActivityTime  tripmode  orig_purpose  dest_purpose  orig_maz  \\\n",
       "predicted_mode                                                                 \n",
       "Car                     5781      5781          5781          5781      5781   \n",
       "NonCar                   371       371           371           371       371   \n",
       "\n",
       "                orig_taz     ...       Diff_bet_starttime  travel_time  \\\n",
       "predicted_mode               ...                                         \n",
       "Car                 5781     ...                     5781         5781   \n",
       "NonCar               371     ...                      371          371   \n",
       "\n",
       "                person_type  earlyarr_penalty  latearr_penalty  \\\n",
       "predicted_mode                                                   \n",
       "Car                    5781              5781             5781   \n",
       "NonCar                  371               371              371   \n",
       "\n",
       "                early_penalty_threshold  late_penalty_threshold  \\\n",
       "predicted_mode                                                    \n",
       "Car                                5781                    5781   \n",
       "NonCar                              371                     371   \n",
       "\n",
       "                transit_utility  car_utility  actual_mode  \n",
       "predicted_mode                                             \n",
       "Car                        5781         5781         5781  \n",
       "NonCar                      371          371          371  \n",
       "\n",
       "[2 rows x 30 columns]"
      ]
     },
     "execution_count": 686,
     "metadata": {},
     "output_type": "execute_result"
    }
   ],
   "source": [
    "car_transit_trip_05vot_sample.groupby('predicted_mode').count()"
   ]
  },
  {
   "cell_type": "code",
   "execution_count": 687,
   "metadata": {},
   "outputs": [
    {
     "data": {
      "text/html": [
       "<div>\n",
       "<style>\n",
       "    .dataframe thead tr:only-child th {\n",
       "        text-align: right;\n",
       "    }\n",
       "\n",
       "    .dataframe thead th {\n",
       "        text-align: left;\n",
       "    }\n",
       "\n",
       "    .dataframe tbody tr th {\n",
       "        vertical-align: top;\n",
       "    }\n",
       "</style>\n",
       "<table border=\"1\" class=\"dataframe\">\n",
       "  <thead>\n",
       "    <tr style=\"text-align: right;\">\n",
       "      <th></th>\n",
       "      <th>person_id</th>\n",
       "      <th>num_trips</th>\n",
       "      <th>value_of_time</th>\n",
       "      <th>trip_counter</th>\n",
       "      <th>ActivityTime</th>\n",
       "      <th>tripmode</th>\n",
       "      <th>orig_purpose</th>\n",
       "      <th>dest_purpose</th>\n",
       "      <th>orig_maz</th>\n",
       "      <th>orig_taz</th>\n",
       "      <th>...</th>\n",
       "      <th>Diff_bet_starttime</th>\n",
       "      <th>travel_time</th>\n",
       "      <th>person_type</th>\n",
       "      <th>earlyarr_penalty</th>\n",
       "      <th>latearr_penalty</th>\n",
       "      <th>early_penalty_threshold</th>\n",
       "      <th>late_penalty_threshold</th>\n",
       "      <th>transit_utility</th>\n",
       "      <th>car_utility</th>\n",
       "      <th>predicted_mode</th>\n",
       "    </tr>\n",
       "    <tr>\n",
       "      <th>actual_mode</th>\n",
       "      <th></th>\n",
       "      <th></th>\n",
       "      <th></th>\n",
       "      <th></th>\n",
       "      <th></th>\n",
       "      <th></th>\n",
       "      <th></th>\n",
       "      <th></th>\n",
       "      <th></th>\n",
       "      <th></th>\n",
       "      <th></th>\n",
       "      <th></th>\n",
       "      <th></th>\n",
       "      <th></th>\n",
       "      <th></th>\n",
       "      <th></th>\n",
       "      <th></th>\n",
       "      <th></th>\n",
       "      <th></th>\n",
       "      <th></th>\n",
       "      <th></th>\n",
       "    </tr>\n",
       "  </thead>\n",
       "  <tbody>\n",
       "    <tr>\n",
       "      <th>Car</th>\n",
       "      <td>5791</td>\n",
       "      <td>5791</td>\n",
       "      <td>5791</td>\n",
       "      <td>5791</td>\n",
       "      <td>5791</td>\n",
       "      <td>5791</td>\n",
       "      <td>5791</td>\n",
       "      <td>5791</td>\n",
       "      <td>5791</td>\n",
       "      <td>5791</td>\n",
       "      <td>...</td>\n",
       "      <td>5791</td>\n",
       "      <td>5791</td>\n",
       "      <td>5791</td>\n",
       "      <td>5791</td>\n",
       "      <td>5791</td>\n",
       "      <td>5791</td>\n",
       "      <td>5791</td>\n",
       "      <td>5791</td>\n",
       "      <td>5791</td>\n",
       "      <td>5791</td>\n",
       "    </tr>\n",
       "    <tr>\n",
       "      <th>NonCar</th>\n",
       "      <td>361</td>\n",
       "      <td>361</td>\n",
       "      <td>361</td>\n",
       "      <td>361</td>\n",
       "      <td>361</td>\n",
       "      <td>361</td>\n",
       "      <td>361</td>\n",
       "      <td>361</td>\n",
       "      <td>361</td>\n",
       "      <td>361</td>\n",
       "      <td>...</td>\n",
       "      <td>361</td>\n",
       "      <td>361</td>\n",
       "      <td>361</td>\n",
       "      <td>361</td>\n",
       "      <td>361</td>\n",
       "      <td>361</td>\n",
       "      <td>361</td>\n",
       "      <td>361</td>\n",
       "      <td>361</td>\n",
       "      <td>361</td>\n",
       "    </tr>\n",
       "  </tbody>\n",
       "</table>\n",
       "<p>2 rows × 30 columns</p>\n",
       "</div>"
      ],
      "text/plain": [
       "             person_id  num_trips  value_of_time  trip_counter  ActivityTime  \\\n",
       "actual_mode                                                                    \n",
       "Car               5791       5791           5791          5791          5791   \n",
       "NonCar             361        361            361           361           361   \n",
       "\n",
       "             tripmode  orig_purpose  dest_purpose  orig_maz  orig_taz  \\\n",
       "actual_mode                                                             \n",
       "Car              5791          5791          5791      5791      5791   \n",
       "NonCar            361           361           361       361       361   \n",
       "\n",
       "                  ...        Diff_bet_starttime  travel_time  person_type  \\\n",
       "actual_mode       ...                                                       \n",
       "Car               ...                      5791         5791         5791   \n",
       "NonCar            ...                       361          361          361   \n",
       "\n",
       "             earlyarr_penalty  latearr_penalty  early_penalty_threshold  \\\n",
       "actual_mode                                                               \n",
       "Car                      5791             5791                     5791   \n",
       "NonCar                    361              361                      361   \n",
       "\n",
       "             late_penalty_threshold  transit_utility  car_utility  \\\n",
       "actual_mode                                                         \n",
       "Car                            5791             5791         5791   \n",
       "NonCar                          361              361          361   \n",
       "\n",
       "             predicted_mode  \n",
       "actual_mode                  \n",
       "Car                    5791  \n",
       "NonCar                  361  \n",
       "\n",
       "[2 rows x 30 columns]"
      ]
     },
     "execution_count": 687,
     "metadata": {},
     "output_type": "execute_result"
    }
   ],
   "source": [
    "car_transit_trip_05vot_sample.groupby('actual_mode').count()"
   ]
  },
  {
   "cell_type": "code",
   "execution_count": 688,
   "metadata": {},
   "outputs": [
    {
     "name": "stdout",
     "output_type": "stream",
     "text": [
      "Number of AV Trips: \t 7510\n",
      "Number of Shared Rides: \t 96\n",
      "Total VMT: \t 19752.675500000045\n",
      "Number of occupied trips: \t 5852\n",
      "Number of unoccupied trips: \t 1658\n",
      "Number of transit trips: \t 397\n",
      "total_convention_vehicle_driving_time: \t 429.5233333333312\n",
      "total_convention_vehicle_driving_distance: \t 16096.766499999869\n",
      "total_AV_driving_time: \t 524.9533333333317\n",
      "total_AV_unoccupied_driving_time: \t 110.03166666666667\n",
      "total_AV_driving_distance: \t 19757.737000000037\n",
      "total_AV_unoccupied_driving_distance: \t 4130.406500000006\n",
      "Number of pickup trips: \t 5755\n"
     ]
    }
   ],
   "source": [
    "pod.analysis_network_level_results(route_info_modechoice05vot,darp_solutions_modechoice05vot,car_transit_trip_05vot_sample,\n",
    "                                   Vehicular_Skim_Dict,superzone_map,drivingcost_per_mile)"
   ]
  },
  {
   "cell_type": "code",
   "execution_count": 677,
   "metadata": {},
   "outputs": [
    {
     "data": {
      "text/plain": [
       "2307"
      ]
     },
     "execution_count": 677,
     "metadata": {},
     "output_type": "execute_result"
    }
   ],
   "source": [
    "len(route_info_modechoice05vot)"
   ]
  },
  {
   "cell_type": "code",
   "execution_count": 248,
   "metadata": {},
   "outputs": [
    {
     "name": "stdout",
     "output_type": "stream",
     "text": [
      "2018-07-19 13:57:00.835109\n",
      "2018-07-19 13:57:43.918843\n",
      "10000 2018-07-19 13:58:48.255822\n",
      "30000 2018-07-19 14:00:27.349458\n",
      "40000 2018-07-19 14:01:12.135002\n",
      "50000 2018-07-19 14:02:14.122526\n",
      "60000 2018-07-19 14:03:10.051706\n",
      "70000 2018-07-19 14:03:30.685880\n",
      "80000 2018-07-19 14:03:54.474237\n",
      "90000 2018-07-19 14:04:31.316326\n",
      "100000 2018-07-19 14:05:07.947408\n",
      "110000 2018-07-19 14:05:49.202757\n",
      "120000 2018-07-19 14:06:10.122943\n",
      "140000 2018-07-19 14:07:03.531981\n",
      "150000 2018-07-19 14:07:30.096489\n",
      "160000 2018-07-19 14:08:01.892297\n",
      "170000 2018-07-19 14:08:32.942063\n",
      "180000 2018-07-19 14:09:06.130950\n",
      "190000 2018-07-19 14:09:42.002988\n",
      "200000 2018-07-19 14:10:18.126043\n",
      "2018-07-19 14:10:33.845937\n",
      "2018-07-19 14:11:15.136285\n",
      "20000 2018-07-19 14:12:25.143263\n",
      "30000 2018-07-19 14:13:06.770631\n",
      "40000 2018-07-19 14:14:02.264785\n",
      "50000 2018-07-19 14:14:45.846268\n",
      "60000 2018-07-19 14:15:27.401625\n",
      "70000 2018-07-19 14:15:50.170920\n",
      "80000 2018-07-19 14:16:20.133624\n",
      "90000 2018-07-19 14:16:59.947887\n",
      "100000 2018-07-19 14:17:40.259178\n",
      "130000 2018-07-19 14:19:09.833508\n",
      "140000 2018-07-19 14:19:32.031921\n",
      "150000 2018-07-19 14:19:59.182638\n",
      "180000 2018-07-19 14:21:38.311926\n",
      "190000 2018-07-19 14:22:17.159384\n",
      "200000 2018-07-19 14:23:02.396257\n",
      "2018-07-19 14:23:15.882110\n",
      "2018-07-19 14:24:08.422212\n",
      "10000 2018-07-19 14:24:47.731443\n",
      "30000 2018-07-19 14:26:01.275627\n",
      "40000 2018-07-19 14:26:47.302243\n",
      "50000 2018-07-19 14:27:35.105959\n",
      "60000 2018-07-19 14:28:27.331931\n",
      "90000 2018-07-19 14:29:36.604866\n",
      "100000 2018-07-19 14:30:14.367014\n",
      "110000 2018-07-19 14:30:52.308170\n",
      "160000 2018-07-19 14:32:53.466058\n",
      "170000 2018-07-19 14:33:25.542884\n",
      "180000 2018-07-19 14:33:53.409465\n",
      "190000 2018-07-19 14:34:29.351509\n",
      "200000 2018-07-19 14:35:05.817584\n",
      "210000 2018-07-19 14:35:44.796798\n",
      "220000 2018-07-19 14:36:26.561173\n",
      "2018-07-19 14:36:47.674373\n",
      "2018-07-19 14:37:32.455920\n",
      "20000 2018-07-19 14:38:43.845977\n",
      "30000 2018-07-19 14:39:28.229503\n",
      "40000 2018-07-19 14:40:16.266234\n",
      "50000 2018-07-19 14:41:09.834278\n",
      "60000 2018-07-19 14:41:55.238859\n",
      "80000 2018-07-19 14:42:42.191527\n",
      "90000 2018-07-19 14:43:23.726890\n",
      "100000 2018-07-19 14:44:12.649927\n",
      "110000 2018-07-19 14:44:58.370827\n",
      "130000 2018-07-19 14:46:21.000065\n",
      "140000 2018-07-19 14:46:40.962330\n",
      "150000 2018-07-19 14:47:01.392629\n",
      "180000 2018-07-19 14:48:15.051295\n",
      "190000 2018-07-19 14:48:51.667496\n",
      "220000 2018-07-19 14:50:47.221065\n",
      "2018-07-19 14:51:06.823181\n",
      "2018-07-19 14:51:51.180707\n",
      "20000 2018-07-19 14:53:06.622991\n",
      "30000 2018-07-19 14:53:39.193843\n",
      "40000 2018-07-19 14:54:21.447246\n",
      "50000 2018-07-19 14:55:03.697647\n",
      "60000 2018-07-19 14:55:48.772209\n",
      "100000 2018-07-19 14:57:43.524732\n",
      "110000 2018-07-19 14:58:23.223990\n",
      "190000 2018-07-19 15:01:23.038212\n",
      "200000 2018-07-19 15:01:49.463720\n",
      "210000 2018-07-19 15:02:18.498370\n",
      "220000 2018-07-19 15:02:49.928152\n",
      "230000 2018-07-19 15:03:46.967486\n",
      "240000 2018-07-19 15:04:19.115526\n",
      "2018-07-19 15:04:51.946602\n",
      "2018-07-19 15:05:36.485426\n",
      "10000 2018-07-19 15:06:23.395399\n",
      "20000 2018-07-19 15:06:48.324980\n",
      "30000 2018-07-19 15:07:24.860295\n",
      "40000 2018-07-19 15:08:10.317181\n",
      "60000 2018-07-19 15:09:57.536036\n",
      "70000 2018-07-19 15:10:26.230667\n",
      "90000 2018-07-19 15:10:54.967301\n",
      "110000 2018-07-19 15:12:05.911339\n",
      "120000 2018-07-19 15:13:00.922461\n",
      "160000 2018-07-19 15:14:28.327430\n",
      "170000 2018-07-19 15:15:04.448484\n",
      "190000 2018-07-19 15:15:50.279090\n",
      "210000 2018-07-19 15:17:02.657205\n",
      "220000 2018-07-19 15:17:45.662654\n",
      "230000 2018-07-19 15:18:20.666639\n",
      "240000 2018-07-19 15:18:50.660344\n"
     ]
    }
   ],
   "source": [
    "average_value_of_time=round(car_trips.value_of_time.mean(),4)\n",
    "for external_factor in [30,40,50]:\n",
    "    dtd.write_darp_solution_to_file('MO07vot/',output_filepath,route_info_modechoice07vot,darp_solutions_modechoice07vot,origin_links,\n",
    "        superzone_map,intrasuperzone_path_dic,average_value_of_time,external_factor)\n",
    "    dtd.write_darp_solution_to_file('MO/',output_filepath,route_info_modechoice,darp_solutions_modechoice,origin_links,\n",
    "        superzone_map,intrasuperzone_path_dic,average_value_of_time,external_factor)\n",
    "#     dtd.write_darp_solution_to_file('CA15/',output_filepath,route_info_ca15,darp_solutions_ca15,origin_links,\n",
    "#         superzone_map,intrasuperzone_path_dic,average_value_of_time,external_factor)"
   ]
  },
  {
   "cell_type": "code",
   "execution_count": 251,
   "metadata": {},
   "outputs": [
    {
     "name": "stdout",
     "output_type": "stream",
     "text": [
      "Number of AV Trips: \t 231697\n",
      "Number of Shared Rides: \t 3281.0\n",
      "Total VMT: \t 1665283.395999958\n",
      "Number of occupied trips: \t 182473\n",
      "Number of unoccupied trips: \t 49224\n",
      "Number of transit trips: \t 13011.0\n",
      "total_convention_vehicle_driving_time: \t 13194.786666664204\n",
      "total_convention_vehicle_driving_distance: \t 1351117.135999888\n",
      "total_AV_driving_time: \t 15962.67833333344\n",
      "total_AV_unoccupied_driving_time: \t 3142.688333333233\n",
      "total_AV_driving_distance: \t 1665842.013999959\n",
      "total_AV_unoccupied_driving_distance: \t 334629.6349999963\n",
      "Number of pickup trips: \t 179178.0\n"
     ]
    }
   ],
   "source": [
    "pod.analysis_network_level_results(route_info_modechoice,darp_solutions_modechoice,car_transit_trips,\n",
    "                                   Vehicular_Skim_Dict,superzone_map,drivingcost_per_mile)"
   ]
  },
  {
   "cell_type": "code",
   "execution_count": 252,
   "metadata": {},
   "outputs": [
    {
     "name": "stdout",
     "output_type": "stream",
     "text": [
      "Number of AV Trips: \t 232405\n",
      "Number of Shared Rides: \t 3053.0\n",
      "Total VMT: \t 1671813.256999961\n",
      "Number of occupied trips: \t 182816\n",
      "Number of unoccupied trips: \t 49589\n",
      "Number of transit trips: \t 12443.0\n",
      "total_convention_vehicle_driving_time: \t 13194.786666664204\n",
      "total_convention_vehicle_driving_distance: \t 1351117.135999888\n",
      "total_AV_driving_time: \t 16030.25333333336\n",
      "total_AV_unoccupied_driving_time: \t 3156.2033333332442\n",
      "total_AV_driving_distance: \t 1672348.4359999613\n",
      "total_AV_unoccupied_driving_distance: \t 336406.75299999537\n",
      "Number of pickup trips: \t 179746.0\n"
     ]
    }
   ],
   "source": [
    "pod.analysis_network_level_results(route_info_modechoice07vot,darp_solutions_modechoice07vot,car_transit_trips,\n",
    "                                   Vehicular_Skim_Dict,superzone_map,drivingcost_per_mile)"
   ]
  },
  {
   "cell_type": "code",
   "execution_count": 237,
   "metadata": {
    "collapsed": true
   },
   "outputs": [],
   "source": [
    "output_filepath='Output/3000SampleHH/'\n",
    "dtd.save_run_result('MV2option/',route_info_2avoption,darp_solutions2avoption,output_filepath)\n"
   ]
  },
  {
   "cell_type": "code",
   "execution_count": 198,
   "metadata": {},
   "outputs": [
    {
     "name": "stdout",
     "output_type": "stream",
     "text": [
      "Number of AV Trips: \t 22262\n",
      "Number of Shared Rides: \t 317.0\n",
      "Total VMT: \t 162213.32200000455\n",
      "Number of occupied trips: \t 18044\n",
      "Number of unoccupied trips: \t 4218\n",
      "Number of transit trips: \t 0.0\n",
      "total_convention_vehicle_driving_time: \t 1310.4933333333283\n",
      "total_convention_vehicle_driving_distance: \t 133666.38099999996\n",
      "total_AV_driving_time: \t 1563.466666666677\n",
      "total_AV_unoccupied_driving_time: \t 265.24333333333254\n",
      "total_AV_driving_distance: \t 162229.25300000454\n",
      "total_AV_unoccupied_driving_distance: \t 28434.717999999888\n",
      "Number of pickup trips: \t 17727.0\n"
     ]
    }
   ],
   "source": [
    "pod.analysis_network_level_results(route_info_2avoption,darp_solutions2avoption,car_trips_sample,\n",
    "                                   Vehicular_Skim_Dict,superzone_map,drivingcost_per_mile)"
   ]
  },
  {
   "cell_type": "code",
   "execution_count": 166,
   "metadata": {},
   "outputs": [
    {
     "name": "stdout",
     "output_type": "stream",
     "text": [
      "Number of AV Trips: \t 22544\n",
      "Number of Shared Rides: \t 327\n",
      "Total VMT: \t 164440.83500000494\n",
      "Number of occupied trips: \t 18054\n",
      "Number of unoccupied trips: \t 4490\n",
      "Number of transit trips: \t 0\n",
      "total_convention_vehicle_driving_time: \t 1310.4933333333283\n",
      "total_convention_vehicle_driving_distance: \t 133666.38099999996\n",
      "total_AV_driving_time: \t 1585.196666666684\n",
      "total_AV_unoccupied_driving_time: \t 286.83833333333297\n",
      "total_AV_driving_distance: \t 164437.4640000048\n",
      "total_AV_unoccupied_driving_distance: \t 30597.37699999986\n",
      "Number of pickup trips: \t 17727\n"
     ]
    }
   ],
   "source": [
    "pod.analysis_network_level_results(route_info15,darp_solutions15,car_trips_sample,\n",
    "                                   Vehicular_Skim_Dict,superzone_map,drivingcost_per_mile)"
   ]
  },
  {
   "cell_type": "code",
   "execution_count": 167,
   "metadata": {},
   "outputs": [
    {
     "name": "stdout",
     "output_type": "stream",
     "text": [
      "Number of AV Trips: \t 22545\n",
      "Number of Shared Rides: \t 160\n",
      "Total VMT: \t 165421.28700000534\n",
      "Number of occupied trips: \t 17887\n",
      "Number of unoccupied trips: \t 4658\n",
      "Number of transit trips: \t 0\n",
      "total_convention_vehicle_driving_time: \t 1310.4933333333283\n",
      "total_convention_vehicle_driving_distance: \t 133666.38099999996\n",
      "total_AV_driving_time: \t 1598.4633333333506\n",
      "total_AV_unoccupied_driving_time: \t 298.04666666666617\n",
      "total_AV_driving_distance: \t 165415.2230000052\n",
      "total_AV_unoccupied_driving_distance: \t 31763.401999999864\n",
      "Number of pickup trips: \t 17727\n"
     ]
    }
   ],
   "source": [
    "pod.analysis_network_level_results(route_info125,darp_solutions125,car_trips_sample,\n",
    "                                   Vehicular_Skim_Dict,superzone_map,drivingcost_per_mile)"
   ]
  },
  {
   "cell_type": "code",
   "execution_count": 168,
   "metadata": {},
   "outputs": [
    {
     "name": "stdout",
     "output_type": "stream",
     "text": [
      "Number of AV Trips: \t 22524\n",
      "Number of Shared Rides: \t 0\n",
      "Total VMT: \t 166272.4850000058\n",
      "Number of occupied trips: \t 17727\n",
      "Number of unoccupied trips: \t 4797\n",
      "Number of transit trips: \t 0\n",
      "total_convention_vehicle_driving_time: \t 1310.4933333333283\n",
      "total_convention_vehicle_driving_distance: \t 133666.38099999996\n",
      "total_AV_driving_time: \t 1611.8316666666835\n",
      "total_AV_unoccupied_driving_time: \t 305.7849999999991\n",
      "total_AV_driving_distance: \t 166272.55500000567\n",
      "total_AV_unoccupied_driving_distance: \t 32606.173999999843\n",
      "Number of pickup trips: \t 17727\n"
     ]
    }
   ],
   "source": [
    "pod.analysis_network_level_results(route_info1,darp_solutions1,car_trips_sample,\n",
    "                                   Vehicular_Skim_Dict,superzone_map,drivingcost_per_mile)"
   ]
  },
  {
   "cell_type": "code",
   "execution_count": 50,
   "metadata": {},
   "outputs": [
    {
     "name": "stdout",
     "output_type": "stream",
     "text": [
      "********************************\n",
      "1.5\n",
      "Estimate Route for the  0 th household  2018-07-17 20:35:09.885699\n",
      "Estimate Route for the  100 th household  2018-07-17 20:36:14.097354\n",
      "Estimate Route for the  200 th household  2018-07-17 20:37:19.342058\n",
      "Estimate Route for the  300 th household  2018-07-17 20:38:25.071795\n",
      "Estimate Route for the  400 th household  2018-07-17 20:39:28.883425\n",
      "Estimate Route for the  500 th household  2018-07-17 20:40:19.255286\n",
      "Estimate Route for the  600 th household  2018-07-17 20:41:13.022447\n",
      "Estimate Route for the  700 th household  2018-07-17 20:41:55.376132\n",
      "Estimate Route for the  800 th household  2018-07-17 20:42:44.050220\n",
      "Estimate Route for the  900 th household  2018-07-17 20:43:26.872935\n",
      "Estimate Route for the  1000 th household  2018-07-17 20:44:05.224370\n",
      "Estimate Route for the  1100 th household  2018-07-17 20:44:42.103702\n",
      "Estimate Route for the  1200 th household  2018-07-17 20:45:29.148685\n",
      "Estimate Route for the  1300 th household  2018-07-17 20:46:07.979075\n",
      "Estimate Route for the  1400 th household  2018-07-17 20:46:46.081247\n",
      "Estimate Route for the  1500 th household  2018-07-17 20:47:18.798101\n",
      "Estimate Route for the  1600 th household  2018-07-17 20:47:52.007988\n",
      "Estimate Route for the  1700 th household  2018-07-17 20:48:22.403719\n",
      "Estimate Route for the  1800 th household  2018-07-17 20:48:58.905792\n",
      "Estimate Route for the  1900 th household  2018-07-17 20:49:36.091906\n",
      "Estimate Route for the  2000 th household  2018-07-17 20:50:04.864541\n",
      "Estimate Route for the  2100 th household  2018-07-17 20:50:46.865930\n",
      "Estimate Route for the  2200 th household  2018-07-17 20:51:19.523793\n",
      "Estimate Route for the  2300 th household  2018-07-17 20:51:50.194531\n",
      "Estimate Route for the  2400 th household  2018-07-17 20:52:17.198071\n",
      "Estimate Route for the  2500 th household  2018-07-17 20:52:47.018766\n",
      "Estimate Route for the  2600 th household  2018-07-17 20:53:11.159133\n",
      "Estimate Route for the  2700 th household  2018-07-17 20:53:32.305335\n",
      "Estimate Route for the  2800 th household  2018-07-17 20:53:52.024456\n",
      "Estimate Route for the  2900 th household  2018-07-17 20:54:09.852470\n",
      "Number of Trips 21827\n",
      "Number of Shared Rides 327\n",
      "Total VMT 160581.2780000041\n",
      "Number of occupied trips   18057\n",
      "Number of unoccupied trips  3770\n",
      "Number of transit trips 0\n",
      "total_convention_vehicle_driving_time 1310.4933333333283\n",
      "total_convention_vehicle_driving_distance 133666.38099999996\n",
      "total_AV_driving_time 1554.0033333333445\n",
      "total_AV_unoccupied_driving_time 255.59166666666633\n",
      "total_AV_driving_distance 160599.42900000414\n",
      "total_AV_unoccupied_driving_distance 26749.142999999953\n"
     ]
    }
   ],
   "source": [
    "output_flag=0\n",
    "# target_hh_id=2744264\n",
    "min_length=15\n",
    "max_length=20\n",
    "single_model_runtime=60*3\n",
    "drivingcost_per_mile=0.5\n",
    "reward_mode=1\n",
    "run_mode=0\n",
    "darp_solutions=[]\n",
    "cav_use_mode=0\n",
    "num_time_interval=1\n",
    "TL=[i*1440/num_time_interval for i in range(num_time_interval)]\n",
    "TU=[(i+1)*1440/num_time_interval for i in range(num_time_interval)]\n",
    "num_cav=1\n",
    "share_ride_factor=1.5\n",
    "time_window_flag=0\n",
    "# target_trips=traveler_trips.loc[(traveler_trips.tripmode<=6) &(traveler_trips.driver_passenger_flag>0)]\n",
    "# target_trips=target_trips[(target_trips.orig_taz!=target_trips.dest_taz) | (target_trips.trip_counter==1)]\n",
    "# target_trips=target_trips.append(traveler_trips[traveler_trips.tripmode>8])\n",
    "# target_trips.value_of_time=target_trips.value_of_time*0.8\n",
    "# car_transit_trips_sample.value_of_time=car_transit_trips_sample.value_of_time*0.7\n",
    "# for share_ride_factor in [1,1.25,1.5]:\n",
    "print('********************************')\n",
    "print(share_ride_factor)\n",
    "route_infomodechoice,darp_solutionsmodechoice=\\\n",
    "sod.get_route_info_allhh(car_transit_trips_sample,\n",
    "                         output_flag,min_length,max_length,single_model_runtime,drivingcost_per_mile,\n",
    "                         reward_mode,run_mode,cav_use_mode,num_time_interval,num_cav,share_ride_factor\n",
    "                         ,time_window_flag,Vehicular_Skim_Dict,\n",
    "                         Transit_AB_Cost_Skim_Dict,Transit_AB_Time_Skim_Dict,three_link_walk_dict,\n",
    "                         superzone_map,TL,TU,\n",
    "                         transit_zone_dict,transit_zone_candidates,TransitMazTazFlag,\n",
    "                         TransitSkimTimeIntervalLength )\n",
    "\n"
   ]
  },
  {
   "cell_type": "code",
   "execution_count": 59,
   "metadata": {},
   "outputs": [
    {
     "name": "stdout",
     "output_type": "stream",
     "text": [
      "Number of AV Trips 22404\n",
      "Number of Shared Rides 310.0\n",
      "Total VMT 162222.538000003\n",
      "Number of occupied trips   18081\n",
      "Number of unoccupied trips  4323\n",
      "Number of transit trips 1291.0\n",
      "total_convention_vehicle_driving_time 1311.3933333333218\n",
      "total_convention_vehicle_driving_distance 134187.67900000012\n",
      "total_AV_driving_time 1559.418333333341\n",
      "total_AV_unoccupied_driving_time 286.98333333333375\n",
      "total_AV_driving_distance 162270.12600000302\n",
      "total_AV_unoccupied_driving_distance 30273.89699999995\n"
     ]
    }
   ],
   "source": [
    "pod.analysis_network_level_results(route_infomodechoice,darp_solutionsmodechoice,car_transit_trips_sample,\n",
    "                                   Vehicular_Skim_Dict,superzone_map,drivingcost_per_mile)"
   ]
  },
  {
   "cell_type": "code",
   "execution_count": 619,
   "metadata": {
    "collapsed": true
   },
   "outputs": [],
   "source": [
    "darp_solutions_ca15=pod.load_obj('darp_solutions','Output/AllHH/CA15/')"
   ]
  },
  {
   "cell_type": "code",
   "execution_count": 633,
   "metadata": {},
   "outputs": [
    {
     "name": "stdout",
     "output_type": "stream",
     "text": [
      "409230 22 22 21 22\n",
      "1486572 18 18 17 18\n",
      "1972428 19 19 18 19\n",
      "2034250 19 19 18 19\n",
      "2034295 20 20 18 20\n",
      "2175294 24 24 22 24\n",
      "2175411 22 22 20 22\n",
      "2177257 10 10 9 10\n",
      "2177266 12 12 11 12\n",
      "2238733 21 25 19 21\n",
      "2285480 20 20 19 20\n",
      "2285535 16 16 15 16\n",
      "2285539 25 25 24 25\n",
      "2287028 19 19 17 19\n",
      "2287487 23 23 22 23\n",
      "3132925 31 31 29 31\n",
      "3474720 14 14 13 14\n"
     ]
    }
   ],
   "source": [
    "potential_hh=[]\n",
    "for hh_id,group in car_trips.groupby('hh_id'):\n",
    "    if darp_solutions_ca15[hh_id]['num_pickup_trips']-darp_solutions_modechoice[hh_id]['num_pickup_trips']>0\\\n",
    "    and (darp_solutions_ca15[hh_id]['num_pickup_trips']-darp_solutions_modechoice[hh_id]['num_pickup_trips']<3):\n",
    "        if darp_solutions_ca15[hh_id]['num_shared_trips']>2:\n",
    "            if darp_solutions_ca15[hh_id]['num_cav_trips'] >15:\n",
    "                if len(group.person_id.unique())>2:\n",
    "                    print(hh_id,len(group),len(car_transit_trips[car_transit_trips.hh_id==hh_id]),\n",
    "                          darp_solutions_modechoice[hh_id]['num_pickup_trips'],darp_solutions_ca15[hh_id]['num_pickup_trips'])\n",
    "                    potential_hh.extend([hh_id])"
   ]
  },
  {
   "cell_type": "code",
   "execution_count": 635,
   "metadata": {},
   "outputs": [
    {
     "name": "stderr",
     "output_type": "stream",
     "text": [
      "C:\\Users\\xax538\\AppData\\Local\\Continuum\\anaconda3\\lib\\site-packages\\pandas\\core\\indexing.py:337: SettingWithCopyWarning: \n",
      "A value is trying to be set on a copy of a slice from a DataFrame.\n",
      "Try using .loc[row_indexer,col_indexer] = value instead\n",
      "\n",
      "See the caveats in the documentation: http://pandas.pydata.org/pandas-docs/stable/indexing.html#indexing-view-versus-copy\n",
      "  self.obj[key] = _infer_fill_value(value)\n",
      "C:\\Users\\xax538\\AppData\\Local\\Continuum\\anaconda3\\lib\\site-packages\\pandas\\core\\indexing.py:517: SettingWithCopyWarning: \n",
      "A value is trying to be set on a copy of a slice from a DataFrame.\n",
      "Try using .loc[row_indexer,col_indexer] = value instead\n",
      "\n",
      "See the caveats in the documentation: http://pandas.pydata.org/pandas-docs/stable/indexing.html#indexing-view-versus-copy\n",
      "  self.obj[item] = s\n"
     ]
    },
    {
     "name": "stdout",
     "output_type": "stream",
     "text": [
      "25\n",
      "num_cav_trips 31\n",
      "num_occupied_trips 21\n",
      "num_unoccupied_trips 10\n",
      "num_pickup_trips 19\n",
      "num_shared_trips 2\n",
      "num_convention car trips 21\n",
      "total_convention_vehicle_driving_time 2.145\n",
      "total_AV_driving_time 2.338333333333333\n",
      "total_AV_unoccupied_driving_time 0.7133333333333333\n",
      "total_convention_vehicle_driving_distance 82.03799999999998\n",
      "total_AV_driving_distance 88.72500000000001\n",
      "total_AV_unoccupied_driving_distance 26.402\n",
      "total_reward 14908.270852293203\n",
      "total_schedule_penalty 1.1440000000000055\n",
      "total_travel_cost 141.99196\n",
      "reward_mode 1\n",
      "drivingcost_per_mile 0.5\n",
      "share_ride_factor 1.5\n",
      "run_mode 0\n",
      "num_cav 1\n",
      "cav_use_mode 0\n",
      "time_window_flag 0\n"
     ]
    },
    {
     "data": {
      "image/png": "[encoded data removed]",
      "text/plain": [
       "<matplotlib.figure.Figure at 0x189542a2d68>"
      ]
     },
     "metadata": {},
     "output_type": "display_data"
    }
   ],
   "source": [
    "target_hh_id=2238733 \n",
    "pod.analysis_one_hh_result_new_darpsolution(target_hh_id,darp_solutions_modechoice,car_transit_trips,num_cav,\n",
    "    Vehicular_Skim_Dict,superzone_map)"
   ]
  },
  {
   "cell_type": "code",
   "execution_count": 661,
   "metadata": {},
   "outputs": [
    {
     "name": "stderr",
     "output_type": "stream",
     "text": [
      "C:\\Users\\xax538\\AppData\\Local\\Continuum\\anaconda3\\lib\\site-packages\\pandas\\core\\indexing.py:337: SettingWithCopyWarning: \n",
      "A value is trying to be set on a copy of a slice from a DataFrame.\n",
      "Try using .loc[row_indexer,col_indexer] = value instead\n",
      "\n",
      "See the caveats in the documentation: http://pandas.pydata.org/pandas-docs/stable/indexing.html#indexing-view-versus-copy\n",
      "  self.obj[key] = _infer_fill_value(value)\n",
      "C:\\Users\\xax538\\AppData\\Local\\Continuum\\anaconda3\\lib\\site-packages\\pandas\\core\\indexing.py:517: SettingWithCopyWarning: \n",
      "A value is trying to be set on a copy of a slice from a DataFrame.\n",
      "Try using .loc[row_indexer,col_indexer] = value instead\n",
      "\n",
      "See the caveats in the documentation: http://pandas.pydata.org/pandas-docs/stable/indexing.html#indexing-view-versus-copy\n",
      "  self.obj[item] = s\n"
     ]
    },
    {
     "name": "stdout",
     "output_type": "stream",
     "text": [
      "21\n",
      "num_cav_trips 34\n",
      "num_occupied_trips 25\n",
      "num_unoccupied_trips 9\n",
      "num_pickup_trips 21\n",
      "num_shared_trips 4\n",
      "num_convention car trips 21\n",
      "total_convention_vehicle_driving_time 2.145\n",
      "total_AV_driving_time 2.891666666666666\n",
      "total_AV_unoccupied_driving_time 0.7266666666666667\n",
      "total_convention_vehicle_driving_distance 82.03799999999998\n",
      "total_AV_driving_distance 109.4595\n",
      "total_AV_unoccupied_driving_distance 27.372\n",
      "total_reward 3150.0\n",
      "total_schedule_penalty 5.14850000000016\n",
      "total_travel_cost 177.00476\n",
      "reward_mode 2\n",
      "drivingcost_per_mile 0.5\n",
      "share_ride_factor 1.5\n",
      "run_mode 0\n",
      "num_cav 1\n",
      "cav_use_mode 0\n",
      "time_window_flag 0\n"
     ]
    },
    {
     "data": {
      "image/png": "[encoded data removed]",
      "text/plain": [
       "<matplotlib.figure.Figure at 0x1894aecea90>"
      ]
     },
     "metadata": {},
     "output_type": "display_data"
    }
   ],
   "source": [
    "pod.analysis_one_hh_result_new_darpsolution(target_hh_id,darp_solutions_ca15,car_trips,num_cav,\n",
    "    Vehicular_Skim_Dict,superzone_map)"
   ]
  },
  {
   "cell_type": "code",
   "execution_count": 652,
   "metadata": {
    "collapsed": true
   },
   "outputs": [],
   "source": [
    "car_transit_trips_double_transit=car_transit_trips.copy()\n",
    "car_transit_trips_double_transit.transit_utility=car_transit_trips_double_transit.transit_utility*1.3"
   ]
  },
  {
   "cell_type": "code",
   "execution_count": 653,
   "metadata": {},
   "outputs": [
    {
     "name": "stdout",
     "output_type": "stream",
     "text": [
      "********************************\n",
      "1.5\n",
      "Estimate Route for the  0 th household  2018-07-25 21:29:16.179771\n"
     ]
    }
   ],
   "source": [
    "output_flag=0\n",
    "# target_hh_id=2744264\n",
    "min_length=15\n",
    "max_length=20\n",
    "single_model_runtime=60*3\n",
    "drivingcost_per_mile=0.5\n",
    "reward_mode=1\n",
    "run_mode=0\n",
    "darp_solutions=[]\n",
    "cav_use_mode=0\n",
    "num_time_interval=1\n",
    "TL=[i*1440/num_time_interval for i in range(num_time_interval)]\n",
    "TU=[(i+1)*1440/num_time_interval for i in range(num_time_interval)]\n",
    "num_cav=1\n",
    "share_ride_factor=1.5\n",
    "time_window_flag=0\n",
    "# target_trips=traveler_trips.loc[(traveler_trips.tripmode<=6) &(traveler_trips.driver_passenger_flag>0)]\n",
    "# target_trips=target_trips[(target_trips.orig_taz!=target_trips.dest_taz) | (target_trips.trip_counter==1)]\n",
    "# target_trips=target_trips.append(traveler_trips[traveler_trips.tripmode>8])\n",
    "# target_trips.value_of_time=target_trips.value_of_time*0.8\n",
    "# car_transit_trips_sample.value_of_time=car_transit_trips_sample.value_of_time*0.7\n",
    "# for share_ride_factor in [1,1.25,1.5]:\n",
    "print('********************************')\n",
    "print(share_ride_factor)\n",
    "route_infomodechoice_double_utility,darp_solutionsmodechoice_double_utility=\\\n",
    "sod.get_route_info_allhh(car_transit_trips_double_transit[car_transit_trips_double_transit.hh_id==target_hh_id],\n",
    "                         output_flag,min_length,max_length,single_model_runtime,drivingcost_per_mile,\n",
    "                         reward_mode,run_mode,cav_use_mode,num_time_interval,num_cav,share_ride_factor\n",
    "                         ,time_window_flag,Vehicular_Skim_Dict,\n",
    "                         Transit_AB_Cost_Skim_Dict,Transit_AB_Time_Skim_Dict,three_link_walk_dict,\n",
    "                         superzone_map,TL,TU,\n",
    "                         transit_zone_dict,transit_zone_candidates,TransitMazTazFlag,\n",
    "                         TransitSkimTimeIntervalLength )\n",
    "\n"
   ]
  },
  {
   "cell_type": "code",
   "execution_count": 654,
   "metadata": {},
   "outputs": [
    {
     "name": "stderr",
     "output_type": "stream",
     "text": [
      "C:\\Users\\xax538\\AppData\\Local\\Continuum\\anaconda3\\lib\\site-packages\\pandas\\core\\indexing.py:337: SettingWithCopyWarning: \n",
      "A value is trying to be set on a copy of a slice from a DataFrame.\n",
      "Try using .loc[row_indexer,col_indexer] = value instead\n",
      "\n",
      "See the caveats in the documentation: http://pandas.pydata.org/pandas-docs/stable/indexing.html#indexing-view-versus-copy\n",
      "  self.obj[key] = _infer_fill_value(value)\n",
      "C:\\Users\\xax538\\AppData\\Local\\Continuum\\anaconda3\\lib\\site-packages\\pandas\\core\\indexing.py:517: SettingWithCopyWarning: \n",
      "A value is trying to be set on a copy of a slice from a DataFrame.\n",
      "Try using .loc[row_indexer,col_indexer] = value instead\n",
      "\n",
      "See the caveats in the documentation: http://pandas.pydata.org/pandas-docs/stable/indexing.html#indexing-view-versus-copy\n",
      "  self.obj[item] = s\n"
     ]
    },
    {
     "name": "stdout",
     "output_type": "stream",
     "text": [
      "25\n",
      "num_cav_trips 36\n",
      "num_occupied_trips 24\n",
      "num_unoccupied_trips 12\n",
      "num_pickup_trips 22\n",
      "num_shared_trips 2\n",
      "num_convention car trips 21\n",
      "total_convention_vehicle_driving_time 2.145\n",
      "total_AV_driving_time 2.8133333333333335\n",
      "total_AV_unoccupied_driving_time 0.825\n",
      "total_convention_vehicle_driving_distance 82.03799999999998\n",
      "total_AV_driving_distance 106.08900000000001\n",
      "total_AV_unoccupied_driving_distance 30.311\n",
      "total_reward 19338.55633837532\n",
      "total_schedule_penalty 1.799000000000003\n",
      "total_travel_cost 81.55228999999999\n",
      "reward_mode 1\n",
      "drivingcost_per_mile 0.5\n",
      "share_ride_factor 1.5\n",
      "run_mode 0\n",
      "num_cav 1\n",
      "cav_use_mode 0\n",
      "time_window_flag 0\n"
     ]
    },
    {
     "data": {
      "image/png": "[encoded data removed]",
      "text/plain": [
       "<matplotlib.figure.Figure at 0x189ae8b49b0>"
      ]
     },
     "metadata": {},
     "output_type": "display_data"
    }
   ],
   "source": [
    "target_hh_id=2238733\n",
    "pod.analysis_one_hh_result_new_darpsolution(target_hh_id,darp_solutionsmodechoice_double_utility,car_transit_trips_double_transit,num_cav,\n",
    "    Vehicular_Skim_Dict,superzone_map)"
   ]
  },
  {
   "cell_type": "code",
   "execution_count": 615,
   "metadata": {},
   "outputs": [
    {
     "name": "stderr",
     "output_type": "stream",
     "text": [
      "C:\\Users\\xax538\\AppData\\Local\\Continuum\\anaconda3\\lib\\site-packages\\pandas\\core\\indexing.py:337: SettingWithCopyWarning: \n",
      "A value is trying to be set on a copy of a slice from a DataFrame.\n",
      "Try using .loc[row_indexer,col_indexer] = value instead\n",
      "\n",
      "See the caveats in the documentation: http://pandas.pydata.org/pandas-docs/stable/indexing.html#indexing-view-versus-copy\n",
      "  self.obj[key] = _infer_fill_value(value)\n",
      "C:\\Users\\xax538\\AppData\\Local\\Continuum\\anaconda3\\lib\\site-packages\\pandas\\core\\indexing.py:517: SettingWithCopyWarning: \n",
      "A value is trying to be set on a copy of a slice from a DataFrame.\n",
      "Try using .loc[row_indexer,col_indexer] = value instead\n",
      "\n",
      "See the caveats in the documentation: http://pandas.pydata.org/pandas-docs/stable/indexing.html#indexing-view-versus-copy\n",
      "  self.obj[item] = s\n"
     ]
    },
    {
     "name": "stdout",
     "output_type": "stream",
     "text": [
      "26\n",
      "num_cav_trips 29\n",
      "num_occupied_trips 23\n",
      "num_unoccupied_trips 6\n",
      "num_pickup_trips 22\n",
      "num_shared_trips 1\n",
      "num_convention car trips 21\n",
      "total_convention_vehicle_driving_time 1.5116666666666665\n",
      "total_AV_driving_time 1.7699999999999998\n",
      "total_AV_unoccupied_driving_time 0.33666666666666667\n",
      "total_convention_vehicle_driving_distance 59.531000000000006\n",
      "total_AV_driving_distance 68.102\n",
      "total_AV_unoccupied_driving_distance 13.4475\n",
      "total_reward 15450.869542468408\n",
      "total_schedule_penalty 0.8859999999999932\n",
      "total_travel_cost 123.0495\n",
      "reward_mode 1\n",
      "drivingcost_per_mile 0.5\n",
      "share_ride_factor 1.5\n",
      "run_mode 0\n",
      "num_cav 1\n",
      "cav_use_mode 0\n",
      "time_window_flag 0\n"
     ]
    },
    {
     "data": {
      "image/png": "[encoded data removed]",
      "text/plain": [
       "<matplotlib.figure.Figure at 0x18985447908>"
      ]
     },
     "metadata": {},
     "output_type": "display_data"
    }
   ],
   "source": [
    "pod.analysis_one_hh_result_new_darpsolution(target_hh_id,darp_solutions_modechoice07vot,car_transit_trips,num_cav,\n",
    "    Vehicular_Skim_Dict,superzone_map)"
   ]
  },
  {
   "cell_type": "code",
   "execution_count": 563,
   "metadata": {},
   "outputs": [
    {
     "name": "stderr",
     "output_type": "stream",
     "text": [
      "C:\\Users\\xax538\\AppData\\Local\\Continuum\\anaconda3\\lib\\site-packages\\pandas\\core\\indexing.py:337: SettingWithCopyWarning: \n",
      "A value is trying to be set on a copy of a slice from a DataFrame.\n",
      "Try using .loc[row_indexer,col_indexer] = value instead\n",
      "\n",
      "See the caveats in the documentation: http://pandas.pydata.org/pandas-docs/stable/indexing.html#indexing-view-versus-copy\n",
      "  self.obj[key] = _infer_fill_value(value)\n",
      "C:\\Users\\xax538\\AppData\\Local\\Continuum\\anaconda3\\lib\\site-packages\\pandas\\core\\indexing.py:517: SettingWithCopyWarning: \n",
      "A value is trying to be set on a copy of a slice from a DataFrame.\n",
      "Try using .loc[row_indexer,col_indexer] = value instead\n",
      "\n",
      "See the caveats in the documentation: http://pandas.pydata.org/pandas-docs/stable/indexing.html#indexing-view-versus-copy\n",
      "  self.obj[item] = s\n"
     ]
    },
    {
     "name": "stdout",
     "output_type": "stream",
     "text": [
      "21\n",
      "num_cav_trips 27\n",
      "num_occupied_trips 22\n",
      "num_unoccupied_trips 5\n",
      "num_pickup_trips 21\n",
      "num_shared_trips 1\n",
      "num_convention car trips 21\n",
      "total_convention_vehicle_driving_time 1.5216666666666667\n",
      "total_AV_driving_time 1.6266666666666671\n",
      "total_AV_unoccupied_driving_time 0.10166666666666666\n",
      "total_convention_vehicle_driving_distance 56.964\n",
      "total_AV_driving_distance 60.36450000000001\n",
      "total_AV_unoccupied_driving_distance 3.500000000000001\n",
      "total_reward 19118.86664624838\n",
      "total_schedule_penalty 0.3120000000000004\n",
      "total_travel_cost 112.43656000000003\n",
      "reward_mode 1\n",
      "drivingcost_per_mile 0.5\n",
      "share_ride_factor 1.5\n",
      "run_mode 0\n",
      "num_cav 1\n",
      "cav_use_mode 0\n",
      "time_window_flag 0\n"
     ]
    },
    {
     "data": {
      "image/png": "[encoded data removed]",
      "text/plain": [
       "<matplotlib.figure.Figure at 0x1894f266828>"
      ]
     },
     "metadata": {},
     "output_type": "display_data"
    }
   ],
   "source": [
    "target_hh_id=2066778\n",
    "pod.analysis_one_hh_result_new_darpsolution(target_hh_id,darp_solutions_modechoice,car_transit_trips,num_cav,\n",
    "    Vehicular_Skim_Dict,superzone_map)"
   ]
  },
  {
   "cell_type": "code",
   "execution_count": 436,
   "metadata": {},
   "outputs": [
    {
     "name": "stderr",
     "output_type": "stream",
     "text": [
      "C:\\Users\\xax538\\AppData\\Local\\Continuum\\anaconda3\\lib\\site-packages\\pandas\\core\\indexing.py:337: SettingWithCopyWarning: \n",
      "A value is trying to be set on a copy of a slice from a DataFrame.\n",
      "Try using .loc[row_indexer,col_indexer] = value instead\n",
      "\n",
      "See the caveats in the documentation: http://pandas.pydata.org/pandas-docs/stable/indexing.html#indexing-view-versus-copy\n",
      "  self.obj[key] = _infer_fill_value(value)\n",
      "C:\\Users\\xax538\\AppData\\Local\\Continuum\\anaconda3\\lib\\site-packages\\pandas\\core\\indexing.py:517: SettingWithCopyWarning: \n",
      "A value is trying to be set on a copy of a slice from a DataFrame.\n",
      "Try using .loc[row_indexer,col_indexer] = value instead\n",
      "\n",
      "See the caveats in the documentation: http://pandas.pydata.org/pandas-docs/stable/indexing.html#indexing-view-versus-copy\n",
      "  self.obj[item] = s\n",
      "D:\\alex\\Autonomous-V-demand\\Modules\\Postprocess_DARP.py:103: SettingWithCopyWarning: \n",
      "A value is trying to be set on a copy of a slice from a DataFrame.\n",
      "Try using .loc[row_indexer,col_indexer] = value instead\n",
      "\n",
      "See the caveats in the documentation: http://pandas.pydata.org/pandas-docs/stable/indexing.html#indexing-view-versus-copy\n",
      "  route_info['p_id']=route_info.person_id.apply(lambda x: person_id_and_inhouse_p_id_map[x])\n",
      "D:\\alex\\Autonomous-V-demand\\Modules\\Postprocess_DARP.py:104: SettingWithCopyWarning: \n",
      "A value is trying to be set on a copy of a slice from a DataFrame\n",
      "\n",
      "See the caveats in the documentation: http://pandas.pydata.org/pandas-docs/stable/indexing.html#indexing-view-versus-copy\n",
      "  route_info.sort_values(by=['origin_arrival_time'],inplace=True)\n"
     ]
    },
    {
     "data": {
      "image/png": "[encoded data removed]",
      "text/plain": [
       "<matplotlib.figure.Figure at 0x189a7fe3f28>"
      ]
     },
     "metadata": {},
     "output_type": "display_data"
    }
   ],
   "source": [
    "target_hh_id=2066778 \n",
    "pod.plot_route_info_schedule(route_info_modechoice[route_info_modechoice.hh_id==target_hh_id],\n",
    "                             car_transit_trips[car_transit_trips.hh_id==target_hh_id],num_cav)\n"
   ]
  },
  {
   "cell_type": "code",
   "execution_count": null,
   "metadata": {
    "collapsed": true
   },
   "outputs": [],
   "source": [
    "route_inf"
   ]
  },
  {
   "cell_type": "code",
   "execution_count": null,
   "metadata": {
    "collapsed": true
   },
   "outputs": [],
   "source": [
    "drivingcost_per_mile=0.5"
   ]
  },
  {
   "cell_type": "code",
   "execution_count": null,
   "metadata": {
    "collapsed": true
   },
   "outputs": [],
   "source": [
    "modechoice_target_trips=traveler_trips.loc[(traveler_trips.tripmode<=6) &(traveler_trips.driver_passenger_flag>0)]\n",
    "modechoice_target_trips=modechoice_target_trips[(modechoice_target_trips.orig_taz!=modechoice_target_trips.dest_taz) | (modechoice_target_trips.trip_counter==1)]\n",
    "modechoice_target_trips=modechoice_target_trips.append(traveler_trips[traveler_trips.tripmode>8])"
   ]
  },
  {
   "cell_type": "code",
   "execution_count": null,
   "metadata": {
    "collapsed": true
   },
   "outputs": [],
   "source": [
    "modechoice_target_trips=prd.compare_mode_utlity(modechoice_target_trips,TransitMazTazFlag,\n",
    "                                               three_link_walk_dict,Transit_AB_Cost_Skim_Dict,\n",
    "                                               Transit_AB_Time_Skim_Dict,TransitSkimTimeIntervalLength,\n",
    "                                               Vehicular_Skim_Dict1,superzone_map,drivingcost_per_mile,transit_zone_dict)"
   ]
  },
  {
   "cell_type": "code",
   "execution_count": null,
   "metadata": {
    "collapsed": true
   },
   "outputs": [],
   "source": [
    "modechoice_target_trips.value_of_time=modechoice_target_trips.value_of_time*0.8"
   ]
  },
  {
   "cell_type": "code",
   "execution_count": null,
   "metadata": {
    "collapsed": true
   },
   "outputs": [],
   "source": [
    "modechoice_target_trips['car_utility']=modechoice_target_trips.apply(lambda row: \n",
    "        (prd.estimate_single_car_trip_cost(row.orig_taz,row.dest_taz,row.starttime,row.value_of_time,\n",
    "        Vehicular_Skim_Dict,0,superzone_map,drivingcost_per_mile)), axis=1)\n",
    "    \n",
    "modechoice_target_trips['predicted_mode']=modechoice_target_trips.apply(lambda row:\n",
    "    'NonCar' if row.transit_utility<row.car_utility else 'Car',axis=1)"
   ]
  },
  {
   "cell_type": "code",
   "execution_count": null,
   "metadata": {
    "collapsed": true,
    "scrolled": true
   },
   "outputs": [],
   "source": [
    "modechoice_target_trips.groupby(['predicted_mode']).count()"
   ]
  },
  {
   "cell_type": "code",
   "execution_count": null,
   "metadata": {
    "collapsed": true
   },
   "outputs": [],
   "source": [
    "run_name='allhhcartrip1.5/'\n",
    "output_filepath='Output/'+run_name\n",
    "route_info_allcar=pd.read_csv(output_filepath+'route_info.csv')\n",
    "darp_solution=pod.load_obj('darp_solutions',output_filepath)\n",
    "average_value_of_time=round(traveler_trips.value_of_time.mean(),4)\n",
    "external_factor='50'\n",
    "dtd.write_darp_solution_to_file(run_name,output_filepath,route_info_allcar,darp_solution,origin_links,\n",
    "    superzone_map,intrasuperzone_path_dic,average_value_of_time,external_factor)"
   ]
  },
  {
   "cell_type": "code",
   "execution_count": null,
   "metadata": {
    "collapsed": true,
    "scrolled": true
   },
   "outputs": [],
   "source": [
    "run_name='allhhcartrip1.5/'\n",
    "output_filepath='Output/'+run_name\n",
    "route_info_allcar15=pd.read_csv(output_filepath+'route_info.csv')\n",
    "darp_solution_callcar15=pod.load_obj('darp_solutions',output_filepath)\n",
    "average_value_of_time=round(traveler_trips.value_of_time.mean(),4)\n",
    "external_factor='50'\n",
    "dtd.write_darp_solution_to_file(run_name,output_filepath,route_info_allcar15,darp_solution_callcar15,origin_links,\n",
    "    superzone_map,intrasuperzone_path_dic,average_value_of_time,external_factor)"
   ]
  },
  {
   "cell_type": "code",
   "execution_count": null,
   "metadata": {
    "collapsed": true,
    "scrolled": true
   },
   "outputs": [],
   "source": [
    "run_name='allhhcartrip1.25/'\n",
    "output_filepath='Output/'+run_name\n",
    "route_info_allcar125=pd.read_csv(output_filepath+'route_info.csv')\n",
    "darp_solution_allcar125=pod.load_obj('darp_solutions',output_filepath)\n",
    "average_value_of_time=round(traveler_trips.value_of_time.mean(),4)\n",
    "external_factor='50'\n",
    "dtd.write_darp_solution_to_file(run_name,output_filepath,route_info_allcar,darp_solution_allcar125,origin_links,\n",
    "    superzone_map,intrasuperzone_path_dic,average_value_of_time,external_factor)"
   ]
  },
  {
   "cell_type": "code",
   "execution_count": null,
   "metadata": {
    "collapsed": true
   },
   "outputs": [],
   "source": [
    "run_name='modechoice1.1/'\n",
    "output_filepath='Output/'+run_name\n",
    "route_info_modechoice10=pd.read_csv(output_filepath+'route_info.csv')\n",
    "darp_solution_modechoice10=pod.load_obj('darp_solutions',output_filepath)\n",
    "average_value_of_time=round(traveler_trips.value_of_time.mean(),4)\n",
    "output_filepath=output_filepath\n",
    "external_factor='50'\n",
    "dtd.write_darp_solution_to_file(run_name,output_filepath,route_info_modechoice10,darp_solution_modechoice10,origin_links,\n",
    "    superzone_map,intrasuperzone_path_dic,average_value_of_time,external_factor)\n",
    "\n",
    "# dtd.route_to_vehiclepathdat(route_info_modechoice10,origin_links,output_filepath,\n",
    "#                             vehicle_filepath,path_filepath,superzone_map,\n",
    "#                                 intrasuperzone_path_dic,external_vehicle_filepath,average_value_of_time)"
   ]
  },
  {
   "cell_type": "code",
   "execution_count": null,
   "metadata": {
    "collapsed": true
   },
   "outputs": [],
   "source": [
    "community_solution_allcar15=pod.load_obj('community_allcar15','Output/')"
   ]
  },
  {
   "cell_type": "code",
   "execution_count": null,
   "metadata": {
    "collapsed": true
   },
   "outputs": [],
   "source": [
    "community_solution_allcar15"
   ]
  },
  {
   "cell_type": "code",
   "execution_count": null,
   "metadata": {
    "collapsed": true,
    "scrolled": true
   },
   "outputs": [],
   "source": [
    "target_trips=traveler_trips.loc[(traveler_trips.tripmode<=6) &(traveler_trips.driver_passenger_flag>0)]\n",
    "target_trips=target_trips[(target_trips.orig_taz!=target_trips.dest_taz) | (target_trips.trip_counter==1)]\n",
    "target_trips=target_trips.append(traveler_trips[traveler_trips.tripmode>6])\n",
    "target_trips=target_trips[(target_trips.orig_taz!=target_trips.dest_taz) | (target_trips.trip_counter==1)]\n",
    "community_hh_list=[972044,972024,2212041,2212030,937968,2285653,1309779,1738127,2034377,2066988]\n",
    "community_trips=pd.DataFrame()\n",
    "for hh_id in community_hh_list:\n",
    "#     print(len(target_trips[target_trips.hh_id==hh_id]))\n",
    "    community_trips=community_trips.append(target_trips[target_trips.hh_id==hh_id])\n",
    "sorted_trips=community_trips.sort_values('starttime')\n",
    "pod.analysis_one_hh_result(937968,[community_solution_allcar15],community_trips,5,Vehicular_Skim_Dict,superzone_map)"
   ]
  },
  {
   "cell_type": "code",
   "execution_count": null,
   "metadata": {
    "collapsed": true
   },
   "outputs": [],
   "source": [
    "pod.plot_route_info_schedule(community_solution_allcar15['route_info'],community_trips,5)"
   ]
  }
 ],
 "metadata": {
  "kernelspec": {
   "display_name": "Python 3",
   "language": "python",
   "name": "python3"
  },
  "language_info": {
   "codemirror_mode": {
    "name": "ipython",
    "version": 3
   },
   "file_extension": ".py",
   "mimetype": "text/x-python",
   "name": "python",
   "nbconvert_exporter": "python",
   "pygments_lexer": "ipython3",
   "version": "3.6.2"
  }
 },
 "nbformat": 4,
 "nbformat_minor": 2
}
