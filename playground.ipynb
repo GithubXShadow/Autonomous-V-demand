{
 "cells": [
  {
   "cell_type": "code",
   "execution_count": 24,
   "metadata": {
    "collapsed": true
   },
   "outputs": [],
   "source": [
    "import numpy as np\n",
    "import pandas as pd\n",
    "import matplotlib as plt\n",
    "import networkx as nx\n",
    "%matplotlib inline\n",
    "# from DYNASMART_Process import *\n",
    "from Modules import DYNASMART_Process as dy\n",
    "# import preprocessing_read_skim_file as rs\n",
    "from Modules import AV_functions as av\n",
    "from Modules import Solve_DARP as sod\n",
    "from Modules import Postprocess_DARP as pod\n",
    "from Modules import Preprocess_DARP as prd\n",
    "from Modules import DARP_to_DYNA as dtd\n",
    "from gurobipy import *\n",
    "from Modules import *\n",
    "import datetime\n",
    "import requests\n",
    "import math\n",
    "import importlib\n",
    "%load_ext autoreload\n",
    "%autoreload 2"
   ]
  },
  {
   "cell_type": "code",
   "execution_count": 136,
   "metadata": {},
   "outputs": [
    {
     "name": "stdout",
     "output_type": "stream",
     "text": [
      "56 57 72\n"
     ]
    }
   ],
   "source": [
    "#Read in the basic traveler and trips informationa and joint the houshold id\n",
    "# traveler_info=pd.read_csv('input/traveler.csv')\n",
    "personData=pd.read_csv('input/personData_1.csv')\n",
    "person_type_dic=dict(zip(personData.person_id,personData.type))\n",
    "traveler_trips=pd.read_csv('input/traveler_trip_info_improved.csv',index_col=0)\n",
    "num_zones,num_nodes,num_links,node_detail,node_id,link_detail,link_id=dy.read_network('input/network.dat')\n",
    "nodexy=dy.read_xy('input/xy.dat')\n",
    "superzone_filepath='Input/SuperZone.dat'\n",
    "linktraveltime_filepath='Input/output_td_linktraveltime.dat'\n",
    "superzone_map=dy.read_superzone_info(superzone_filepath)\n",
    "origin_path='Input/origin.dat'\n",
    "destination_path='Input/destination.dat'\n",
    "origins,destinations,origin_links=dy.read_origin_destion(origin_path,destination_path)\n",
    "origin_links['length']=origin_links.apply(lambda row: \n",
    "                                          link_detail[int(link_id[node_id[row.u_node],node_id[row.d_node]])][0,4],axis=1)\n",
    "VPNRSkim_folder_filepath='Input/vehicularPNRSkim'\n",
    "Vehicular_Skim,Vehicular_Skim_Dict=dy.read_vehicle_skim(VPNRSkim_folder_filepath)\n",
    "transit_skim_folderpath='Input/'\n",
    "TransitMazTazFlag,drivingweight,walkingweight,\\\n",
    "TransitSkimTimeIntervalLength,MaxNumTransitSkimTimeInterval,WalkSpeed,transit_zone_candidates,\\\n",
    "Transit_AB_Cost_Skim,Transit_AB_Time_Skim,three_link_walk=dy.read_transitskim(transit_skim_folderpath)"
   ]
  },
  {
   "cell_type": "code",
   "execution_count": 112,
   "metadata": {},
   "outputs": [],
   "source": [
    "output_flag=1\n",
    "target_hh_id=2287301\n",
    "# target_hh_id=2744264\n",
    "min_length=15\n",
    "max_length=20\n",
    "single_model_runtime=60*0.5\n",
    "drivingcost_per_mile=1\n",
    "transit_fare=1\n",
    "reward_mode=2\n",
    "run_mode=0\n",
    "\n",
    "cav_use_mode=1\n",
    "num_time_interval=1"
   ]
  },
  {
   "cell_type": "code",
   "execution_count": 115,
   "metadata": {},
   "outputs": [
    {
     "name": "stderr",
     "output_type": "stream",
     "text": [
      "D:\\alex\\Autonomous-V-demand\\Modules\\Preprocess_DARP.py:222: SettingWithCopyWarning: \n",
      "A value is trying to be set on a copy of a slice from a DataFrame.\n",
      "Try using .loc[row_indexer,col_indexer] = value instead\n",
      "\n",
      "See the caveats in the documentation: http://pandas.pydata.org/pandas-docs/stable/indexing.html#indexing-view-versus-copy\n",
      "  sorted_trips['transit_walk_time']=sorted_trips.apply(lambda row: estimate_single_transit_trip_cost(row.orig_maz,row.dest_maz,row.starttime,row.value_of_time,\n"
     ]
    },
    {
     "ename": "UnboundLocalError",
     "evalue": "(\"local variable 'opt_walk_time' referenced before assignment\", 'occurred at index 3')",
     "output_type": "error",
     "traceback": [
      "\u001b[1;31m---------------------------------------------------------------------------\u001b[0m",
      "\u001b[1;31mUnboundLocalError\u001b[0m                         Traceback (most recent call last)",
      "\u001b[1;32m<ipython-input-115-53045a1a74e3>\u001b[0m in \u001b[0;36m<module>\u001b[1;34m()\u001b[0m\n\u001b[0;32m      3\u001b[0m                         \u001b[1;33m,\u001b[0m\u001b[0mthree_link_walk\u001b[0m\u001b[1;33m,\u001b[0m\u001b[0mTransit_AB_Cost_Skim\u001b[0m\u001b[1;33m,\u001b[0m\u001b[0mTransit_AB_Time_Skim\u001b[0m\u001b[1;33m,\u001b[0m\u001b[1;33m\u001b[0m\u001b[0m\n\u001b[0;32m      4\u001b[0m                            \u001b[0mTransitSkimTimeIntervalLength\u001b[0m\u001b[1;33m,\u001b[0m\u001b[0mWalkSpeed\u001b[0m\u001b[1;33m,\u001b[0m\u001b[0mVehicular_Skim_Dict1\u001b[0m\u001b[1;33m,\u001b[0m\u001b[1;33m\u001b[0m\u001b[0m\n\u001b[1;32m----> 5\u001b[1;33m                            superzone_map,drivingcost_per_mile)\n\u001b[0m",
      "\u001b[1;32mD:\\alex\\Autonomous-V-demand\\Modules\\Preprocess_DARP.py\u001b[0m in \u001b[0;36mcompare_mode_utlity\u001b[1;34m(sorted_trips, TransitMazTazFlag, three_link_walk, Transit_AB_Cost_Skim, Transit_AB_Time_Skim, TransitSkimTimeIntervalLength, WalkSpeed, Vehicular_Skim_Dict, superzone_map, drivingcost_per_mile)\u001b[0m\n\u001b[0;32m    222\u001b[0m         TransitMazTazFlag,three_link_walk,Transit_AB_Cost_Skim,Transit_AB_Time_Skim,TransitSkimTimeIntervalLength,WalkSpeed,1),axis=1)\n\u001b[0;32m    223\u001b[0m     sorted_trips['transit_walk_time']=sorted_trips.apply(lambda row: estimate_single_transit_trip_cost(row.orig_maz,row.dest_maz,row.starttime,row.value_of_time,\n\u001b[1;32m--> 224\u001b[1;33m         TransitMazTazFlag,three_link_walk,Transit_AB_Cost_Skim,Transit_AB_Time_Skim,TransitSkimTimeIntervalLength,WalkSpeed,2),axis=1)\n\u001b[0m\u001b[0;32m    225\u001b[0m     sorted_trips['transit_utility']=sorted_trips.apply(lambda row: estimate_single_transit_trip_cost(row.orig_maz,row.dest_maz,row.starttime,row.value_of_time,\n\u001b[0;32m    226\u001b[0m         TransitMazTazFlag,three_link_walk,Transit_AB_Cost_Skim,Transit_AB_Time_Skim,TransitSkimTimeIntervalLength,WalkSpeed,0),axis=1)\n",
      "\u001b[1;32m~\\AppData\\Local\\Continuum\\anaconda3\\lib\\site-packages\\pandas\\core\\frame.py\u001b[0m in \u001b[0;36mapply\u001b[1;34m(self, func, axis, broadcast, raw, reduce, args, **kwds)\u001b[0m\n\u001b[0;32m   4260\u001b[0m                         \u001b[0mf\u001b[0m\u001b[1;33m,\u001b[0m \u001b[0maxis\u001b[0m\u001b[1;33m,\u001b[0m\u001b[1;33m\u001b[0m\u001b[0m\n\u001b[0;32m   4261\u001b[0m                         \u001b[0mreduce\u001b[0m\u001b[1;33m=\u001b[0m\u001b[0mreduce\u001b[0m\u001b[1;33m,\u001b[0m\u001b[1;33m\u001b[0m\u001b[0m\n\u001b[1;32m-> 4262\u001b[1;33m                         ignore_failures=ignore_failures)\n\u001b[0m\u001b[0;32m   4263\u001b[0m             \u001b[1;32melse\u001b[0m\u001b[1;33m:\u001b[0m\u001b[1;33m\u001b[0m\u001b[0m\n\u001b[0;32m   4264\u001b[0m                 \u001b[1;32mreturn\u001b[0m \u001b[0mself\u001b[0m\u001b[1;33m.\u001b[0m\u001b[0m_apply_broadcast\u001b[0m\u001b[1;33m(\u001b[0m\u001b[0mf\u001b[0m\u001b[1;33m,\u001b[0m \u001b[0maxis\u001b[0m\u001b[1;33m)\u001b[0m\u001b[1;33m\u001b[0m\u001b[0m\n",
      "\u001b[1;32m~\\AppData\\Local\\Continuum\\anaconda3\\lib\\site-packages\\pandas\\core\\frame.py\u001b[0m in \u001b[0;36m_apply_standard\u001b[1;34m(self, func, axis, ignore_failures, reduce)\u001b[0m\n\u001b[0;32m   4356\u001b[0m             \u001b[1;32mtry\u001b[0m\u001b[1;33m:\u001b[0m\u001b[1;33m\u001b[0m\u001b[0m\n\u001b[0;32m   4357\u001b[0m                 \u001b[1;32mfor\u001b[0m \u001b[0mi\u001b[0m\u001b[1;33m,\u001b[0m \u001b[0mv\u001b[0m \u001b[1;32min\u001b[0m \u001b[0menumerate\u001b[0m\u001b[1;33m(\u001b[0m\u001b[0mseries_gen\u001b[0m\u001b[1;33m)\u001b[0m\u001b[1;33m:\u001b[0m\u001b[1;33m\u001b[0m\u001b[0m\n\u001b[1;32m-> 4358\u001b[1;33m                     \u001b[0mresults\u001b[0m\u001b[1;33m[\u001b[0m\u001b[0mi\u001b[0m\u001b[1;33m]\u001b[0m \u001b[1;33m=\u001b[0m \u001b[0mfunc\u001b[0m\u001b[1;33m(\u001b[0m\u001b[0mv\u001b[0m\u001b[1;33m)\u001b[0m\u001b[1;33m\u001b[0m\u001b[0m\n\u001b[0m\u001b[0;32m   4359\u001b[0m                     \u001b[0mkeys\u001b[0m\u001b[1;33m.\u001b[0m\u001b[0mappend\u001b[0m\u001b[1;33m(\u001b[0m\u001b[0mv\u001b[0m\u001b[1;33m.\u001b[0m\u001b[0mname\u001b[0m\u001b[1;33m)\u001b[0m\u001b[1;33m\u001b[0m\u001b[0m\n\u001b[0;32m   4360\u001b[0m             \u001b[1;32mexcept\u001b[0m \u001b[0mException\u001b[0m \u001b[1;32mas\u001b[0m \u001b[0me\u001b[0m\u001b[1;33m:\u001b[0m\u001b[1;33m\u001b[0m\u001b[0m\n",
      "\u001b[1;32mD:\\alex\\Autonomous-V-demand\\Modules\\Preprocess_DARP.py\u001b[0m in \u001b[0;36m<lambda>\u001b[1;34m(row)\u001b[0m\n\u001b[0;32m    222\u001b[0m         TransitMazTazFlag,three_link_walk,Transit_AB_Cost_Skim,Transit_AB_Time_Skim,TransitSkimTimeIntervalLength,WalkSpeed,1),axis=1)\n\u001b[0;32m    223\u001b[0m     sorted_trips['transit_walk_time']=sorted_trips.apply(lambda row: estimate_single_transit_trip_cost(row.orig_maz,row.dest_maz,row.starttime,row.value_of_time,\n\u001b[1;32m--> 224\u001b[1;33m         TransitMazTazFlag,three_link_walk,Transit_AB_Cost_Skim,Transit_AB_Time_Skim,TransitSkimTimeIntervalLength,WalkSpeed,2),axis=1)\n\u001b[0m\u001b[0;32m    225\u001b[0m     sorted_trips['transit_utility']=sorted_trips.apply(lambda row: estimate_single_transit_trip_cost(row.orig_maz,row.dest_maz,row.starttime,row.value_of_time,\n\u001b[0;32m    226\u001b[0m         TransitMazTazFlag,three_link_walk,Transit_AB_Cost_Skim,Transit_AB_Time_Skim,TransitSkimTimeIntervalLength,WalkSpeed,0),axis=1)\n",
      "\u001b[1;32mD:\\alex\\Autonomous-V-demand\\Modules\\Preprocess_DARP.py\u001b[0m in \u001b[0;36mestimate_single_transit_trip_cost\u001b[1;34m(origin_zone, dest_zone, trip_start_time, vot, TransitMazTazFlag, three_link_walk, Transit_AB_Cost_Skim, Transit_AB_Time_Skim, TransitSkimTimeIntervalLength, WalkSpeed, output_flag)\u001b[0m\n\u001b[0;32m    166\u001b[0m         \u001b[1;32mreturn\u001b[0m \u001b[0mopt_transit_time\u001b[0m\u001b[1;33m\u001b[0m\u001b[0m\n\u001b[0;32m    167\u001b[0m     \u001b[1;32mif\u001b[0m \u001b[0moutput_flag\u001b[0m\u001b[1;33m==\u001b[0m\u001b[1;36m2\u001b[0m\u001b[1;33m:\u001b[0m\u001b[1;33m\u001b[0m\u001b[0m\n\u001b[1;32m--> 168\u001b[1;33m         \u001b[1;32mreturn\u001b[0m \u001b[0mopt_walk_time\u001b[0m\u001b[1;33m\u001b[0m\u001b[0m\n\u001b[0m\u001b[0;32m    169\u001b[0m \u001b[1;31m# def estimate_single_transit_trip_cost(origin_zone,dest_zone,trip_start_time,vot,TransitMazTazFlag,three_link_walk,Transit_AB_Cost_Skim,TransitSkimTimeIntervalLength,WalkSpeed,output_flag):\u001b[0m\u001b[1;33m\u001b[0m\u001b[1;33m\u001b[0m\u001b[0m\n\u001b[0;32m    170\u001b[0m \u001b[1;31m#     min_transit_gc=1440\u001b[0m\u001b[1;33m\u001b[0m\u001b[1;33m\u001b[0m\u001b[0m\n",
      "\u001b[1;31mUnboundLocalError\u001b[0m: (\"local variable 'opt_walk_time' referenced before assignment\", 'occurred at index 3')"
     ]
    }
   ],
   "source": [
    "zz=prd.compare_mode_utlity(traveler_trips.loc\n",
    "                         [(traveler_trips.tripmode !=7) & (traveler_trips.tripmode !=8)],1\n",
    "                        ,three_link_walk,Transit_AB_Cost_Skim,Transit_AB_Time_Skim,\n",
    "                           TransitSkimTimeIntervalLength,WalkSpeed,Vehicular_Skim_Dict1,\n",
    "                           superzone_map,drivingcost_per_mile)"
   ]
  },
  {
   "cell_type": "code",
   "execution_count": 47,
   "metadata": {},
   "outputs": [
    {
     "data": {
      "text/plain": [
       "4.2805619834710811"
      ]
     },
     "execution_count": 47,
     "metadata": {},
     "output_type": "execute_result"
    }
   ],
   "source": [
    "sum(z1)/len(z1)"
   ]
  },
  {
   "cell_type": "code",
   "execution_count": 48,
   "metadata": {},
   "outputs": [
    {
     "data": {
      "text/plain": [
       "5.6534876033057895"
      ]
     },
     "execution_count": 48,
     "metadata": {},
     "output_type": "execute_result"
    }
   ],
   "source": [
    "sum(z)/len(z)"
   ]
  },
  {
   "cell_type": "code",
   "execution_count": 42,
   "metadata": {},
   "outputs": [],
   "source": [
    "z=[]\n",
    "for i in range(1,56):\n",
    "    for j in range(1,56):\n",
    "        z.extend([Vehicular_Skim1.loc[i,j,:,1].Time.max()-Vehicular_Skim1.loc[i,j,:,1].Time.min()])"
   ]
  },
  {
   "cell_type": "code",
   "execution_count": 43,
   "metadata": {
    "collapsed": true
   },
   "outputs": [],
   "source": [
    "z1=[]\n",
    "for i in range(1,56):\n",
    "    for j in range(1,56):\n",
    "        z1.extend([Vehicular_Skim.loc[i,j,:,1].Time.max()-Vehicular_Skim.loc[i,j,:,1].Time.min()])"
   ]
  },
  {
   "cell_type": "code",
   "execution_count": 30,
   "metadata": {
    "scrolled": true
   },
   "outputs": [
    {
     "data": {
      "text/plain": [
       "<matplotlib.axes._subplots.AxesSubplot at 0x23cb4950ac8>"
      ]
     },
     "execution_count": 30,
     "metadata": {},
     "output_type": "execute_result"
    },
    {
     "data": {
      "image/png": "[encoded data removed]",
      "text/plain": [
       "<matplotlib.figure.Figure at 0x23cb49288d0>"
      ]
     },
     "metadata": {},
     "output_type": "display_data"
    }
   ],
   "source": [
    "traveler_trips[traveler_trips.tripmode<=6].groupby(['hh_id']).count().person_id.hist(range=(0,20))"
   ]
  }
 ],
 "metadata": {
  "kernelspec": {
   "display_name": "Python 3",
   "language": "python",
   "name": "python3"
  },
  "language_info": {
   "codemirror_mode": {
    "name": "ipython",
    "version": 3
   },
   "file_extension": ".py",
   "mimetype": "text/x-python",
   "name": "python",
   "nbconvert_exporter": "python",
   "pygments_lexer": "ipython3",
   "version": "3.6.2"
  }
 },
 "nbformat": 4,
 "nbformat_minor": 2
}
