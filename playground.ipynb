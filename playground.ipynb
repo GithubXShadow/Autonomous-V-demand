{
 "cells": [
  {
   "cell_type": "code",
   "execution_count": null,
   "metadata": {
    "collapsed": true
   },
   "outputs": [],
   "source": [
    "import os"
   ]
  },
  {
   "cell_type": "code",
   "execution_count": null,
   "metadata": {
    "collapsed": true
   },
   "outputs": [],
   "source": [
    "os.getcwd()"
   ]
  },
  {
   "cell_type": "code",
   "execution_count": null,
   "metadata": {
    "collapsed": true
   },
   "outputs": [],
   "source": [
    "from Modules import Misc as misc"
   ]
  },
  {
   "cell_type": "code",
   "execution_count": null,
   "metadata": {
    "collapsed": true
   },
   "outputs": [],
   "source": [
    "import Preprocessing_DARP"
   ]
  },
  {
   "cell_type": "code",
   "execution_count": 3,
   "metadata": {},
   "outputs": [
    {
     "ename": "NameError",
     "evalue": "name 'read_vehicle_skim' is not defined",
     "output_type": "error",
     "traceback": [
      "\u001b[1;31m---------------------------------------------------------------------------\u001b[0m",
      "\u001b[1;31mNameError\u001b[0m                                 Traceback (most recent call last)",
      "\u001b[1;32m<ipython-input-3-40490ba3414d>\u001b[0m in \u001b[0;36m<module>\u001b[1;34m()\u001b[0m\n\u001b[0;32m      2\u001b[0m \u001b[1;32mfrom\u001b[0m \u001b[0mModules\u001b[0m \u001b[1;32mimport\u001b[0m \u001b[1;33m*\u001b[0m\u001b[1;33m\u001b[0m\u001b[0m\n\u001b[0;32m      3\u001b[0m \u001b[0mVPNRSkim_folder_filepath\u001b[0m\u001b[1;33m=\u001b[0m\u001b[1;34m'Input/vehicularPNRSkim'\u001b[0m\u001b[1;33m\u001b[0m\u001b[0m\n\u001b[1;32m----> 4\u001b[1;33m \u001b[0mread_vehicle_skim\u001b[0m\u001b[1;33m(\u001b[0m\u001b[0mVPNRSkim_folder_filepath\u001b[0m\u001b[1;33m)\u001b[0m\u001b[1;33m\u001b[0m\u001b[0m\n\u001b[0m",
      "\u001b[1;31mNameError\u001b[0m: name 'read_vehicle_skim' is not defined"
     ]
    }
   ],
   "source": [
    "# from Modules import DYNASMART_Process as rs\n",
    "from Modules import *\n",
    "VPNRSkim_folder_filepath='Input/vehicularPNRSkim'\n",
    "read_vehicle_skim(VPNRSkim_folder_filepath)"
   ]
  },
  {
   "cell_type": "code",
   "execution_count": null,
   "metadata": {
    "collapsed": true
   },
   "outputs": [],
   "source": [
    "transit_skim_folderpath='Input/'\n",
    "TransitMazTazFlag,drivingweight,walkingweight,TransitSkimTimeIntervalLength,MaxNumTransitSkimTimeInterval,WalkSpeed,transit_zone_candidates,Transit_AB_Cost_Skim,Transit_AB_Time_Skim,three_link_walk=rs.read_transitskim(transit_skim_folderpath)"
   ]
  },
  {
   "cell_type": "code",
   "execution_count": null,
   "metadata": {
    "collapsed": true
   },
   "outputs": [],
   "source": [
    "drivingweight,walkingweight,TransitSkimTimeIntervalLength,MaxNumTransitSkimTimeInterval,WalkSpeed,transit_zone_candidates,Transit_AB_Cost_Skim,Transit_AB_Time_Skim,three_link_walk"
   ]
  },
  {
   "cell_type": "code",
   "execution_count": 17,
   "metadata": {},
   "outputs": [
    {
     "name": "stdout",
     "output_type": "stream",
     "text": [
      "0.0 -500\n",
      "0.4 -500\n",
      "0.8 -500\n",
      "1.2 -500\n",
      "1.6 -500\n",
      "2.0 -500\n",
      "2.4 -500\n",
      "2.8 -500\n",
      "3.2 -500\n",
      "3.6 -500\n",
      "4.0 -500\n",
      "4.4 -500\n",
      "4.8 -500\n",
      "5.2 -500\n",
      "5.6 -500\n",
      "6.0 -500\n",
      "6.4 -500\n",
      "6.8 -500\n",
      "7.2 -500\n",
      "7.6 -500\n",
      "8.0 -500\n",
      "8.4 -500\n",
      "8.8 -500\n",
      "9.2 -500\n",
      "9.6 -500\n",
      "10.0 -500\n",
      "10.4 -500\n",
      "10.8 -500\n",
      "11.2 -500\n",
      "11.6 -500\n",
      "12.0 -500\n",
      "12.4 -500\n",
      "12.8 -500\n",
      "13.2 -500\n",
      "13.6 -500\n",
      "14.0 -500\n",
      "14.4 -500\n",
      "14.8 -500\n",
      "15.2 -500\n",
      "15.6 -500\n",
      "16.0 -500\n",
      "16.4 -500\n",
      "16.8 -500\n",
      "17.2 -500\n",
      "17.6 -500\n",
      "18.0 -500\n",
      "18.4 -500\n",
      "18.8 -500\n",
      "19.2 -500\n",
      "19.6 -500\n",
      "20.0 -500.0\n",
      "20.4 -539.9999999999999\n",
      "20.8 -580.0000000000001\n",
      "21.2 -619.9999999999999\n",
      "21.6 -660.0000000000001\n",
      "22.0 -700.0\n",
      "22.4 -739.9999999999999\n",
      "22.8 -780.0\n",
      "23.2 -820.0\n",
      "23.6 -860.0000000000001\n",
      "24.0 -900.0\n",
      "24.4 -939.9999999999999\n",
      "24.8 -980.0\n",
      "25.2 -1019.9999999999999\n",
      "25.6 -1060.0\n",
      "26.0 -1100.0\n",
      "26.4 -1140.0\n",
      "26.8 -1180.0\n",
      "27.2 -1220.0\n",
      "27.6 -1260.0\n",
      "28.0 -1300.0\n",
      "28.4 -1340.0\n",
      "28.8 -1380.0\n",
      "29.2 -1420.0\n",
      "29.6 -1460.0\n",
      "30.0 -1500.0\n",
      "30.4 -1539.9999999999998\n",
      "30.8 -1580.0\n",
      "31.2 -1620.0\n",
      "31.6 -1660.0000000000002\n",
      "32.0 -1700.0\n",
      "32.4 -1739.9999999999998\n",
      "32.8 -1779.9999999999998\n",
      "33.2 -1820.0000000000002\n",
      "33.6 -1860.0000000000002\n",
      "34.0 -1900.0\n",
      "34.4 -1939.9999999999998\n",
      "34.8 -1979.9999999999998\n",
      "35.2 -2020.0000000000002\n",
      "35.6 -2060.0\n",
      "36.0 -2100.0\n",
      "36.4 -2140.0\n",
      "36.8 -2180.0\n",
      "37.2 -2220.0\n",
      "37.6 -2260.0\n",
      "38.0 -2300.0\n",
      "38.4 -2340.0\n",
      "38.8 -2380.0\n",
      "39.2 -2420.0\n",
      "39.6 -2460.0\n",
      "40.0 -2500.0\n",
      "Optimize a model with 4 rows, 4 columns and 8 nonzeros\n",
      "Model has 2 piecewise-linear objective terms\n",
      "Coefficient statistics:\n",
      "  Matrix range     [2e-02, 1e+00]\n",
      "  Objective range  [3e+01, 3e+01]\n",
      "  Bounds range     [9e+02, 1e+03]\n",
      "  RHS range        [4e+01, 4e+01]\n",
      "Presolve removed 2 rows and 0 columns\n",
      "Presolve time: 0.08s\n",
      "Presolved: 2 rows, 4 columns, 6 nonzeros\n",
      "\n",
      "Iteration    Objective       Primal Inf.    Dual Inf.      Time\n",
      "       0    5.8440000e+04   1.165000e+01   0.000000e+00      0s\n",
      "       2    4.5690000e+04   0.000000e+00   0.000000e+00      0s\n",
      "\n",
      "Solved in 2 iterations and 0.10 seconds\n",
      "Optimal objective  4.569000000e+04\n"
     ]
    }
   ],
   "source": [
    "from gurobipy import *\n",
    "\n",
    "def cost(x, limithours, penalty):\n",
    "    if x < limithours:\n",
    "        return basecost\n",
    "    else:\n",
    "        return basecost + (x-limithours)*penalty\n",
    "\n",
    "# Example data\n",
    "rate = [50,40]; revenue = [25,32]; limit = [1200,920];\n",
    "limithours = 20; maxhours = 40; penalty = 100; basecost = 500;\n",
    "\n",
    "n = len(rate) # number of products\n",
    "\n",
    "m = Model()\n",
    "\n",
    "# Add variables\n",
    "x = {}\n",
    "\n",
    "for i in range(n):\n",
    "    x[i] = m.addVar(ub = limit[i], vtype=GRB.CONTINUOUS, name=\"x%d\" % i)\n",
    "\n",
    "t = m.addVar(vtype=GRB.CONTINUOUS, name=\"t\")\n",
    "t1= m.addVar(vtype=GRB.CONTINUOUS, name=\"t1\")\n",
    "m.update()\n",
    "\n",
    "# Add constraints\n",
    "m.addConstr(t == quicksum( x[j]/rate[j] for j in range(n)))\n",
    "\n",
    "m.addConstr(t <= maxhours)\n",
    "\n",
    "m.addConstr(t1 == quicksum( x[j]/rate[j] for j in range(n)))\n",
    "\n",
    "m.addConstr(t1 <= maxhours)\n",
    "\n",
    "# Set objective\n",
    "m.setObjective( quicksum(revenue[i]*x[i] for i in range(n)), GRB.MAXIMIZE)\n",
    "\n",
    "# Set piecewise linear objective\n",
    "nPts = 101\n",
    "ti = []\n",
    "costi = []\n",
    "lb = 0\n",
    "ub = maxhours;\n",
    "\n",
    "for i in range(nPts):\n",
    "    ti.append(lb + (ub - lb) * i / (nPts - 1))\n",
    "    \n",
    "    costi.append(-cost(ti[i], limithours, penalty))\n",
    "    print(ti[i],costi[i])\n",
    "m.setPWLObj(t, ti, costi)\n",
    "\n",
    "m.setPWLObj(t1, ti, costi)\n",
    "m.optimize()"
   ]
  },
  {
   "cell_type": "code",
   "execution_count": 19,
   "metadata": {},
   "outputs": [
    {
     "data": {
      "text/plain": [
       "list"
      ]
     },
     "execution_count": 19,
     "metadata": {},
     "output_type": "execute_result"
    }
   ],
   "source": [
    "type(ti)"
   ]
  },
  {
   "cell_type": "code",
   "execution_count": 20,
   "metadata": {},
   "outputs": [
    {
     "data": {
      "text/plain": [
       "[0, 1, 2, 3, 4, 5, 6, 7, 8]"
      ]
     },
     "execution_count": 20,
     "metadata": {},
     "output_type": "execute_result"
    }
   ],
   "source": [
    "list(range(9))"
   ]
  },
  {
   "cell_type": "code",
   "execution_count": 7,
   "metadata": {},
   "outputs": [
    {
     "name": "stdout",
     "output_type": "stream",
     "text": [
      "25 850.0\n",
      "32 920.0\n"
     ]
    }
   ],
   "source": [
    "total=0\n",
    "for i in range(n):\n",
    "    print(revenue[i],x[i].x)\n",
    "    total+=revenue[i]*x[i].x"
   ]
  },
  {
   "cell_type": "code",
   "execution_count": 18,
   "metadata": {},
   "outputs": [
    {
     "data": {
      "text/plain": [
       "45689.99999999991"
      ]
     },
     "execution_count": 18,
     "metadata": {},
     "output_type": "execute_result"
    }
   ],
   "source": [
    "m.ObjVal"
   ]
  }
 ],
 "metadata": {
  "kernelspec": {
   "display_name": "Python 3",
   "language": "python",
   "name": "python3"
  },
  "language_info": {
   "codemirror_mode": {
    "name": "ipython",
    "version": 3
   },
   "file_extension": ".py",
   "mimetype": "text/x-python",
   "name": "python",
   "nbconvert_exporter": "python",
   "pygments_lexer": "ipython3",
   "version": "3.6.2"
  }
 },
 "nbformat": 4,
 "nbformat_minor": 2
}
