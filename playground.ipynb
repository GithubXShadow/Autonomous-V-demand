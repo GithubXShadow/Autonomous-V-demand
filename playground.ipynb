{
 "cells": [
  {
   "cell_type": "code",
   "execution_count": 1,
   "metadata": {},
   "outputs": [],
   "source": [
    "import numpy as np\n",
    "import pandas as pd\n",
    "import matplotlib as plt\n",
    "import networkx as nx\n",
    "%matplotlib inline\n",
    "# from DYNASMART_Process import *\n",
    "from Modules import DYNASMART_Process as dy\n",
    "# import preprocessing_read_skim_file as rs\n",
    "from Modules import AV_functions as av\n",
    "from Modules import Solve_DARP as sod\n",
    "from Modules import Postprocess_DARP as pod\n",
    "from Modules import Preprocess_DARP as prd\n",
    "from Modules import DARP_to_DYNA as dtd\n",
    "from gurobipy import *\n",
    "from Modules import *\n",
    "import datetime\n",
    "import requests\n",
    "import math\n",
    "import importlib\n",
    "import random\n",
    "%load_ext autoreload\n",
    "%autoreload 2"
   ]
  },
  {
   "cell_type": "code",
   "execution_count": 2,
   "metadata": {
    "scrolled": true
   },
   "outputs": [
    {
     "name": "stdout",
     "output_type": "stream",
     "text": [
      "56 57 72\n"
     ]
    }
   ],
   "source": [
    "#Read in the basic traveler and trips informationa and joint the houshold id\n",
    "# traveler_info=pd.read_csv('input/traveler.csv')\n",
    "personData=pd.read_csv('input/personData_1.csv')\n",
    "person_type_dic=dict(zip(personData.person_id,personData.type))\n",
    "traveler_trips=pd.read_csv('input/traveler_trip_info_improved.csv',index_col=0)\n",
    "num_zones,num_nodes,num_links,node_detail,node_id,link_detail,link_id=dy.read_network('input/network.dat')\n",
    "nodexy=dy.read_xy('input/xy.dat')\n",
    "superzone_filepath='Input/SuperZone.dat'\n",
    "linktraveltime_filepath='Input/output_td_linktraveltime.dat'\n",
    "superzone_map=dy.read_superzone_info(superzone_filepath)\n",
    "origin_path='Input/origin.dat'\n",
    "destination_path='Input/destination.dat'\n",
    "origins,destinations,origin_links=dy.read_origin_destion(origin_path,destination_path)\n",
    "origin_links['length']=origin_links.apply(lambda row: \n",
    "                                          link_detail[int(link_id[node_id[row.u_node],node_id[row.d_node]])][0,4],axis=1)\n",
    "VPNRSkim_folder_filepath='Input/vehicularPNRSkim'\n",
    "Vehicular_Skim,Vehicular_Skim_Dict=dy.read_vehicle_skim(VPNRSkim_folder_filepath)\n",
    "transit_skim_folderpath='Input/'\n",
    "TransitMazTazFlag,drivingweight,walkingweight,\\\n",
    "TransitSkimTimeIntervalLength,MaxNumTransitSkimTimeInterval,WalkSpeed,transit_zone_candidates,\\\n",
    "Transit_AB_Cost_Skim,Transit_AB_Time_Skim,three_link_walk=dy.read_transitskim(transit_skim_folderpath)\n",
    "Transit_AB_Cost_Skim_Dict=dy.convert_skim_dataframe_to_dict(Transit_AB_Cost_Skim,TransitSkimTimeIntervalLength)\n",
    "Transit_AB_Time_Skim_Dict=dy.convert_skim_dataframe_to_dict(Transit_AB_Time_Skim,TransitSkimTimeIntervalLength)\n",
    "transit_zone_dict={}\n",
    "for link_zone in three_link_walk.three_link_zone.unique():\n",
    "    transit_zone_dict[link_zone]=list(three_link_walk[three_link_walk.three_link_zone==link_zone]['transit_zone'].astype(int))\n",
    "three_link_walk_dict={}\n",
    "for index,group in three_link_walk.groupby(['three_link_zone']):\n",
    "    three_link_walk_dict[index]={}\n",
    "    for inx,row in group.iterrows():\n",
    "        three_link_walk_dict[index][row.transit_zone]=row.distance\n",
    "intrasuperzone_vehicle_filepath='Input/intrasuperzone_vehicle.dat'\n",
    "intrasuperzone_path_filepath='Input/intrasuperzone_path.dat'\n",
    "drivingcost_per_mile=0.5\n",
    "intrasuperzone_info,intrasuperzone_path_dic=dtd.read_intrasuperzone_files(intrasuperzone_vehicle_filepath,intrasuperzone_path_filepath)\n",
    "traveler_trips=prd.compare_mode_utlity(traveler_trips,TransitMazTazFlag,\n",
    "                        three_link_walk_dict,Transit_AB_Cost_Skim_Dict,\n",
    "                        Transit_AB_Time_Skim_Dict,TransitSkimTimeIntervalLength,\n",
    "                        Vehicular_Skim_Dict,superzone_map,drivingcost_per_mile,transit_zone_dict)"
   ]
  },
  {
   "cell_type": "code",
   "execution_count": 14,
   "metadata": {},
   "outputs": [],
   "source": [
    "car_trips=traveler_trips.loc[(traveler_trips.tripmode<=6) &(traveler_trips.driver_passenger_flag>=1)]\n",
    "car_trips=car_trips.loc[(car_trips.orig_taz !=car_trips.dest_taz) | (car_trips.trip_counter==1)]\n",
    "car_transit_trips=car_trips.append(traveler_trips[traveler_trips.tripmode>8])\n",
    "# car_transit_trips=prd.compare_mode_utlity(car_transit_trips,TransitMazTazFlag,\n",
    "#                         three_link_walk_dict,Transit_AB_Cost_Skim_Dict,\n",
    "#                         Transit_AB_Time_Skim_Dict,TransitSkimTimeIntervalLength,\n",
    "#                         Vehicular_Skim_Dict,superzone_map,drivingcost_per_mile,transit_zone_dict)\n",
    "random.seed(100)\n",
    "car_transit_trips_sample=car_transit_trips[car_transit_trips.hh_id.isin(random.sample(list(car_transit_trips.hh_id.unique()),3000))]\n",
    "car_trips_sample=car_trips[car_trips.hh_id.isin(random.sample(list(car_transit_trips.hh_id.unique()),3000))]"
   ]
  },
  {
   "cell_type": "code",
   "execution_count": 54,
   "metadata": {},
   "outputs": [
    {
     "data": {
      "text/html": [
       "<div>\n",
       "<style>\n",
       "    .dataframe thead tr:only-child th {\n",
       "        text-align: right;\n",
       "    }\n",
       "\n",
       "    .dataframe thead th {\n",
       "        text-align: left;\n",
       "    }\n",
       "\n",
       "    .dataframe tbody tr th {\n",
       "        vertical-align: top;\n",
       "    }\n",
       "</style>\n",
       "<table border=\"1\" class=\"dataframe\">\n",
       "  <thead>\n",
       "    <tr style=\"text-align: right;\">\n",
       "      <th></th>\n",
       "      <th>person_id</th>\n",
       "      <th>num_trips</th>\n",
       "      <th>value_of_time</th>\n",
       "      <th>trip_counter</th>\n",
       "      <th>ActivityTime</th>\n",
       "      <th>tripmode</th>\n",
       "      <th>orig_purpose</th>\n",
       "      <th>dest_purpose</th>\n",
       "      <th>orig_maz</th>\n",
       "      <th>orig_taz</th>\n",
       "      <th>...</th>\n",
       "      <th>Diff_bet_starttime</th>\n",
       "      <th>travel_time</th>\n",
       "      <th>person_type</th>\n",
       "      <th>earlyarr_penalty</th>\n",
       "      <th>latearr_penalty</th>\n",
       "      <th>early_penalty_threshold</th>\n",
       "      <th>late_penalty_threshold</th>\n",
       "      <th>transit_utility</th>\n",
       "      <th>car_utility</th>\n",
       "      <th>predicted_mode</th>\n",
       "    </tr>\n",
       "    <tr>\n",
       "      <th>actual_mode</th>\n",
       "      <th></th>\n",
       "      <th></th>\n",
       "      <th></th>\n",
       "      <th></th>\n",
       "      <th></th>\n",
       "      <th></th>\n",
       "      <th></th>\n",
       "      <th></th>\n",
       "      <th></th>\n",
       "      <th></th>\n",
       "      <th></th>\n",
       "      <th></th>\n",
       "      <th></th>\n",
       "      <th></th>\n",
       "      <th></th>\n",
       "      <th></th>\n",
       "      <th></th>\n",
       "      <th></th>\n",
       "      <th></th>\n",
       "      <th></th>\n",
       "      <th></th>\n",
       "    </tr>\n",
       "  </thead>\n",
       "  <tbody>\n",
       "    <tr>\n",
       "      <th>Car</th>\n",
       "      <td>17869</td>\n",
       "      <td>17869</td>\n",
       "      <td>17869</td>\n",
       "      <td>17869</td>\n",
       "      <td>17869</td>\n",
       "      <td>17869</td>\n",
       "      <td>17869</td>\n",
       "      <td>17869</td>\n",
       "      <td>17869</td>\n",
       "      <td>17869</td>\n",
       "      <td>...</td>\n",
       "      <td>17869</td>\n",
       "      <td>17869</td>\n",
       "      <td>17869</td>\n",
       "      <td>17869</td>\n",
       "      <td>17869</td>\n",
       "      <td>17869</td>\n",
       "      <td>17869</td>\n",
       "      <td>17869</td>\n",
       "      <td>17869</td>\n",
       "      <td>17869</td>\n",
       "    </tr>\n",
       "    <tr>\n",
       "      <th>NonCar</th>\n",
       "      <td>1187</td>\n",
       "      <td>1187</td>\n",
       "      <td>1187</td>\n",
       "      <td>1187</td>\n",
       "      <td>1187</td>\n",
       "      <td>1187</td>\n",
       "      <td>1187</td>\n",
       "      <td>1187</td>\n",
       "      <td>1187</td>\n",
       "      <td>1187</td>\n",
       "      <td>...</td>\n",
       "      <td>1187</td>\n",
       "      <td>1187</td>\n",
       "      <td>1187</td>\n",
       "      <td>1187</td>\n",
       "      <td>1187</td>\n",
       "      <td>1187</td>\n",
       "      <td>1187</td>\n",
       "      <td>1187</td>\n",
       "      <td>1187</td>\n",
       "      <td>1187</td>\n",
       "    </tr>\n",
       "  </tbody>\n",
       "</table>\n",
       "<p>2 rows × 30 columns</p>\n",
       "</div>"
      ],
      "text/plain": [
       "             person_id  num_trips  value_of_time  trip_counter  ActivityTime  \\\n",
       "actual_mode                                                                    \n",
       "Car              17869      17869          17869         17869         17869   \n",
       "NonCar            1187       1187           1187          1187          1187   \n",
       "\n",
       "             tripmode  orig_purpose  dest_purpose  orig_maz  orig_taz  \\\n",
       "actual_mode                                                             \n",
       "Car             17869         17869         17869     17869     17869   \n",
       "NonCar           1187          1187          1187      1187      1187   \n",
       "\n",
       "                  ...        Diff_bet_starttime  travel_time  person_type  \\\n",
       "actual_mode       ...                                                       \n",
       "Car               ...                     17869        17869        17869   \n",
       "NonCar            ...                      1187         1187         1187   \n",
       "\n",
       "             earlyarr_penalty  latearr_penalty  early_penalty_threshold  \\\n",
       "actual_mode                                                               \n",
       "Car                     17869            17869                    17869   \n",
       "NonCar                   1187             1187                     1187   \n",
       "\n",
       "             late_penalty_threshold  transit_utility  car_utility  \\\n",
       "actual_mode                                                         \n",
       "Car                           17869            17869        17869   \n",
       "NonCar                         1187             1187         1187   \n",
       "\n",
       "             predicted_mode  \n",
       "actual_mode                  \n",
       "Car                   17869  \n",
       "NonCar                 1187  \n",
       "\n",
       "[2 rows x 30 columns]"
      ]
     },
     "execution_count": 54,
     "metadata": {},
     "output_type": "execute_result"
    }
   ],
   "source": [
    "car_transit_trips_sample.groupby('actual_mode').count()"
   ]
  },
  {
   "cell_type": "code",
   "execution_count": null,
   "metadata": {},
   "outputs": [],
   "source": [
    "for index, group in car_transit_trips.groupby('hh_id'):\n",
    "    if abs(len(group[group.actual_mode=='Car'])-len(group[group.predicted_mode=='Car']))<10 and len(group)>25:\n",
    "        print(index,len(group),abs(len(group[group.actual_mode=='Car'])-len(group[group.predicted_mode=='Car'])))"
   ]
  },
  {
   "cell_type": "code",
   "execution_count": 49,
   "metadata": {
    "scrolled": true
   },
   "outputs": [
    {
     "name": "stdout",
     "output_type": "stream",
     "text": [
      "********************************\n",
      "1\n",
      "Estimate Route for the  0 th household  2018-07-17 19:47:11.267191\n",
      "Estimate Route for the  100 th household  2018-07-17 19:47:44.857613\n",
      "Estimate Route for the  200 th household  2018-07-17 19:48:16.442831\n",
      "Estimate Route for the  300 th household  2018-07-17 19:48:43.405578\n",
      "Estimate Route for the  400 th household  2018-07-17 19:49:11.361257\n",
      "Estimate Route for the  500 th household  2018-07-17 19:49:33.479510\n",
      "Estimate Route for the  600 th household  2018-07-17 19:49:56.472819\n",
      "Estimate Route for the  700 th household  2018-07-17 19:50:21.207222\n",
      "Estimate Route for the  800 th household  2018-07-17 19:50:44.445544\n",
      "Estimate Route for the  900 th household  2018-07-17 19:51:05.834766\n",
      "Estimate Route for the  1000 th household  2018-07-17 19:51:27.047965\n",
      "Estimate Route for the  1100 th household  2018-07-17 19:51:46.743085\n",
      "Estimate Route for the  1200 th household  2018-07-17 19:52:10.358428\n",
      "Estimate Route for the  1300 th household  2018-07-17 19:52:29.097493\n",
      "Estimate Route for the  1400 th household  2018-07-17 19:52:47.909563\n",
      "Estimate Route for the  1500 th household  2018-07-17 19:53:05.243549\n",
      "Estimate Route for the  1600 th household  2018-07-17 19:53:24.220628\n",
      "Estimate Route for the  1700 th household  2018-07-17 19:53:42.244653\n",
      "Estimate Route for the  1800 th household  2018-07-17 19:53:57.705531\n",
      "Estimate Route for the  1900 th household  2018-07-17 19:54:16.839681\n",
      "Estimate Route for the  2000 th household  2018-07-17 19:54:35.887893\n",
      "Estimate Route for the  2100 th household  2018-07-17 19:54:54.162050\n",
      "Estimate Route for the  2200 th household  2018-07-17 19:55:10.946116\n",
      "Estimate Route for the  2300 th household  2018-07-17 19:55:27.962189\n",
      "Estimate Route for the  2400 th household  2018-07-17 19:55:43.053149\n",
      "Estimate Route for the  2500 th household  2018-07-17 19:55:57.923090\n",
      "Estimate Route for the  2600 th household  2018-07-17 19:56:12.589018\n",
      "Estimate Route for the  2700 th household  2018-07-17 19:56:27.150941\n",
      "Estimate Route for the  2800 th household  2018-07-17 19:56:38.338653\n",
      "Estimate Route for the  2900 th household  2018-07-17 19:56:48.251279\n",
      "Number of Trips 21761\n",
      "Number of Shared Rides 0\n",
      "Total VMT 162182.32800000472\n",
      "Number of occupied trips   17727\n",
      "Number of unoccupied trips  4034\n",
      "Number of transit trips 0\n",
      "total_convention_vehicle_driving_time 1310.4933333333283\n",
      "total_convention_vehicle_driving_distance 133666.38099999996\n",
      "total_AV_driving_time 1578.9266666666817\n",
      "total_AV_unoccupied_driving_time 272.88833333333275\n",
      "total_AV_driving_distance 162204.1780000047\n",
      "total_AV_unoccupied_driving_distance 28537.796999999897\n",
      "********************************\n",
      "1.25\n",
      "Estimate Route for the  0 th household  2018-07-17 19:57:02.032154\n",
      "Estimate Route for the  100 th household  2018-07-17 19:58:45.306699\n",
      "Estimate Route for the  200 th household  2018-07-17 19:59:53.391716\n",
      "Estimate Route for the  300 th household  2018-07-17 20:00:48.369841\n",
      "Estimate Route for the  400 th household  2018-07-17 20:01:49.427990\n",
      "Estimate Route for the  500 th household  2018-07-17 20:02:36.117356\n",
      "Estimate Route for the  600 th household  2018-07-17 20:03:20.860625\n",
      "Estimate Route for the  700 th household  2018-07-17 20:04:09.047068\n",
      "Estimate Route for the  800 th household  2018-07-17 20:04:54.940395\n",
      "Estimate Route for the  900 th household  2018-07-17 20:05:49.593167\n",
      "Estimate Route for the  1000 th household  2018-07-17 20:06:29.701197\n",
      "Estimate Route for the  1100 th household  2018-07-17 20:07:11.119299\n",
      "Estimate Route for the  1200 th household  2018-07-17 20:08:04.516003\n",
      "Estimate Route for the  1300 th household  2018-07-17 20:08:33.389467\n",
      "Estimate Route for the  1400 th household  2018-07-17 20:09:05.374088\n",
      "Estimate Route for the  1500 th household  2018-07-17 20:09:37.259705\n",
      "Estimate Route for the  1600 th household  2018-07-17 20:10:12.016472\n",
      "Estimate Route for the  1700 th household  2018-07-17 20:10:45.380159\n",
      "Estimate Route for the  1800 th household  2018-07-17 20:11:11.815588\n",
      "Estimate Route for the  1900 th household  2018-07-17 20:11:43.738404\n",
      "Estimate Route for the  2000 th household  2018-07-17 20:12:13.970122\n",
      "Estimate Route for the  2100 th household  2018-07-17 20:12:43.666810\n",
      "Estimate Route for the  2200 th household  2018-07-17 20:13:19.998876\n",
      "Estimate Route for the  2300 th household  2018-07-17 20:13:50.170591\n",
      "Estimate Route for the  2400 th household  2018-07-17 20:14:17.644153\n",
      "Estimate Route for the  2500 th household  2018-07-17 20:14:43.443621\n",
      "Estimate Route for the  2600 th household  2018-07-17 20:15:08.107022\n",
      "Estimate Route for the  2700 th household  2018-07-17 20:15:32.571413\n",
      "Estimate Route for the  2800 th household  2018-07-17 20:15:51.863509\n",
      "Estimate Route for the  2900 th household  2018-07-17 20:16:09.521513\n",
      "Number of Trips 21796\n",
      "Number of Shared Rides 160\n",
      "Total VMT 161376.90100000435\n",
      "Number of occupied trips   17888\n",
      "Number of unoccupied trips  3908\n",
      "Number of transit trips 0\n",
      "total_convention_vehicle_driving_time 1310.4933333333283\n",
      "total_convention_vehicle_driving_distance 133666.38099999996\n",
      "total_AV_driving_time 1565.833333333347\n",
      "total_AV_unoccupied_driving_time 265.42499999999956\n",
      "total_AV_driving_distance 161395.6380000044\n",
      "total_AV_unoccupied_driving_distance 27741.29699999992\n",
      "********************************\n",
      "1.5\n",
      "Estimate Route for the  0 th household  2018-07-17 20:16:24.906393\n",
      "Estimate Route for the  100 th household  2018-07-17 20:17:53.532426\n",
      "Estimate Route for the  200 th household  2018-07-17 20:19:01.717303\n",
      "Estimate Route for the  300 th household  2018-07-17 20:19:52.207173\n",
      "Estimate Route for the  400 th household  2018-07-17 20:20:48.782390\n",
      "Estimate Route for the  500 th household  2018-07-17 20:21:34.789258\n",
      "Estimate Route for the  600 th household  2018-07-17 20:22:16.382895\n",
      "Estimate Route for the  700 th household  2018-07-17 20:23:03.359867\n",
      "Estimate Route for the  800 th household  2018-07-17 20:23:46.803627\n",
      "Estimate Route for the  900 th household  2018-07-17 20:24:35.131686\n",
      "Estimate Route for the  1000 th household  2018-07-17 20:25:13.026087\n",
      "Estimate Route for the  1100 th household  2018-07-17 20:25:53.880676\n",
      "Estimate Route for the  1200 th household  2018-07-17 20:26:42.082438\n",
      "Estimate Route for the  1300 th household  2018-07-17 20:27:11.038084\n",
      "Estimate Route for the  1400 th household  2018-07-17 20:27:42.726886\n",
      "Estimate Route for the  1500 th household  2018-07-17 20:28:14.082675\n",
      "Estimate Route for the  1600 th household  2018-07-17 20:28:48.448628\n",
      "Estimate Route for the  1700 th household  2018-07-17 20:29:21.930526\n",
      "Estimate Route for the  1800 th household  2018-07-17 20:29:48.441039\n",
      "Estimate Route for the  1900 th household  2018-07-17 20:30:20.228840\n",
      "Estimate Route for the  2000 th household  2018-07-17 20:30:50.728574\n",
      "Estimate Route for the  2100 th household  2018-07-17 20:31:20.447263\n",
      "Estimate Route for the  2200 th household  2018-07-17 20:31:55.085233\n",
      "Estimate Route for the  2300 th household  2018-07-17 20:32:25.076944\n",
      "Estimate Route for the  2400 th household  2018-07-17 20:32:53.306543\n",
      "Estimate Route for the  2500 th household  2018-07-17 20:33:21.682550\n",
      "Estimate Route for the  2600 th household  2018-07-17 20:33:47.365013\n",
      "Estimate Route for the  2700 th household  2018-07-17 20:34:15.482606\n",
      "Estimate Route for the  2800 th household  2018-07-17 20:34:35.575748\n",
      "Estimate Route for the  2900 th household  2018-07-17 20:34:53.380760\n",
      "Number of Trips 21827\n",
      "Number of Shared Rides 327\n",
      "Total VMT 160581.2780000041\n",
      "Number of occupied trips   18057\n",
      "Number of unoccupied trips  3770\n",
      "Number of transit trips 0\n",
      "total_convention_vehicle_driving_time 1310.4933333333283\n",
      "total_convention_vehicle_driving_distance 133666.38099999996\n",
      "total_AV_driving_time 1554.0033333333445\n",
      "total_AV_unoccupied_driving_time 255.59166666666633\n",
      "total_AV_driving_distance 160599.42900000414\n",
      "total_AV_unoccupied_driving_distance 26749.142999999953\n"
     ]
    }
   ],
   "source": [
    "output_flag=0\n",
    "# target_hh_id=2744264\n",
    "min_length=15\n",
    "max_length=20\n",
    "single_model_runtime=60*3\n",
    "drivingcost_per_mile=0.5\n",
    "reward_mode=2\n",
    "run_mode=0\n",
    "darp_solutions=[]\n",
    "cav_use_mode=0\n",
    "num_time_interval=1\n",
    "TL=[i*1440/num_time_interval for i in range(num_time_interval)]\n",
    "TU=[(i+1)*1440/num_time_interval for i in range(num_time_interval)]\n",
    "num_cav=1\n",
    "share_ride_factor=1.5\n",
    "time_window_flag=0\n",
    "# target_trips=traveler_trips.loc[(traveler_trips.tripmode<=6) &(traveler_trips.driver_passenger_flag>0)]\n",
    "# target_trips=target_trips[(target_trips.orig_taz!=target_trips.dest_taz) | (target_trips.trip_counter==1)]\n",
    "# target_trips=target_trips.append(traveler_trips[traveler_trips.tripmode>8])\n",
    "# target_trips.value_of_time=target_trips.value_of_time*0.8\n",
    "# car_transit_trips_sample.value_of_time=car_transit_trips_sample.value_of_time*0.7\n",
    "for share_ride_factor in [1,1.25,1.5]:\n",
    "    print('********************************')\n",
    "    print(share_ride_factor)\n",
    "    route_info,darp_solutions=\\\n",
    "    sod.get_route_info_allhh(car_trips_sample,\n",
    "                             output_flag,min_length,max_length,single_model_runtime,drivingcost_per_mile,\n",
    "                             reward_mode,run_mode,cav_use_mode,num_time_interval,num_cav,share_ride_factor\n",
    "                             ,time_window_flag,Vehicular_Skim_Dict,\n",
    "                             Transit_AB_Cost_Skim_Dict,Transit_AB_Time_Skim_Dict,three_link_walk_dict,\n",
    "                             superzone_map,TL,TU,\n",
    "                             transit_zone_dict,transit_zone_candidates,TransitMazTazFlag,\n",
    "                             TransitSkimTimeIntervalLength )\n",
    "\n",
    "    pod.analysis_network_level_results(route_info,darp_solutions,car_trips_sample,\n",
    "                                       Vehicular_Skim_Dict,superzone_map,drivingcost_per_mile)"
   ]
  },
  {
   "cell_type": "code",
   "execution_count": 50,
   "metadata": {},
   "outputs": [
    {
     "name": "stdout",
     "output_type": "stream",
     "text": [
      "********************************\n",
      "1.5\n",
      "Estimate Route for the  0 th household  2018-07-17 20:35:09.885699\n",
      "Estimate Route for the  100 th household  2018-07-17 20:36:14.097354\n",
      "Estimate Route for the  200 th household  2018-07-17 20:37:19.342058\n",
      "Estimate Route for the  300 th household  2018-07-17 20:38:25.071795\n",
      "Estimate Route for the  400 th household  2018-07-17 20:39:28.883425\n",
      "Estimate Route for the  500 th household  2018-07-17 20:40:19.255286\n",
      "Estimate Route for the  600 th household  2018-07-17 20:41:13.022447\n",
      "Estimate Route for the  700 th household  2018-07-17 20:41:55.376132\n",
      "Estimate Route for the  800 th household  2018-07-17 20:42:44.050220\n",
      "Estimate Route for the  900 th household  2018-07-17 20:43:26.872935\n",
      "Estimate Route for the  1000 th household  2018-07-17 20:44:05.224370\n",
      "Estimate Route for the  1100 th household  2018-07-17 20:44:42.103702\n",
      "Estimate Route for the  1200 th household  2018-07-17 20:45:29.148685\n",
      "Estimate Route for the  1300 th household  2018-07-17 20:46:07.979075\n",
      "Estimate Route for the  1400 th household  2018-07-17 20:46:46.081247\n",
      "Estimate Route for the  1500 th household  2018-07-17 20:47:18.798101\n",
      "Estimate Route for the  1600 th household  2018-07-17 20:47:52.007988\n",
      "Estimate Route for the  1700 th household  2018-07-17 20:48:22.403719\n",
      "Estimate Route for the  1800 th household  2018-07-17 20:48:58.905792\n",
      "Estimate Route for the  1900 th household  2018-07-17 20:49:36.091906\n",
      "Estimate Route for the  2000 th household  2018-07-17 20:50:04.864541\n",
      "Estimate Route for the  2100 th household  2018-07-17 20:50:46.865930\n",
      "Estimate Route for the  2200 th household  2018-07-17 20:51:19.523793\n",
      "Estimate Route for the  2300 th household  2018-07-17 20:51:50.194531\n",
      "Estimate Route for the  2400 th household  2018-07-17 20:52:17.198071\n",
      "Estimate Route for the  2500 th household  2018-07-17 20:52:47.018766\n",
      "Estimate Route for the  2600 th household  2018-07-17 20:53:11.159133\n",
      "Estimate Route for the  2700 th household  2018-07-17 20:53:32.305335\n",
      "Estimate Route for the  2800 th household  2018-07-17 20:53:52.024456\n",
      "Estimate Route for the  2900 th household  2018-07-17 20:54:09.852470\n",
      "Number of Trips 21827\n",
      "Number of Shared Rides 327\n",
      "Total VMT 160581.2780000041\n",
      "Number of occupied trips   18057\n",
      "Number of unoccupied trips  3770\n",
      "Number of transit trips 0\n",
      "total_convention_vehicle_driving_time 1310.4933333333283\n",
      "total_convention_vehicle_driving_distance 133666.38099999996\n",
      "total_AV_driving_time 1554.0033333333445\n",
      "total_AV_unoccupied_driving_time 255.59166666666633\n",
      "total_AV_driving_distance 160599.42900000414\n",
      "total_AV_unoccupied_driving_distance 26749.142999999953\n"
     ]
    }
   ],
   "source": [
    "output_flag=0\n",
    "# target_hh_id=2744264\n",
    "min_length=15\n",
    "max_length=20\n",
    "single_model_runtime=60*3\n",
    "drivingcost_per_mile=0.5\n",
    "reward_mode=1\n",
    "run_mode=0\n",
    "darp_solutions=[]\n",
    "cav_use_mode=0\n",
    "num_time_interval=1\n",
    "TL=[i*1440/num_time_interval for i in range(num_time_interval)]\n",
    "TU=[(i+1)*1440/num_time_interval for i in range(num_time_interval)]\n",
    "num_cav=1\n",
    "share_ride_factor=1.5\n",
    "time_window_flag=0\n",
    "# target_trips=traveler_trips.loc[(traveler_trips.tripmode<=6) &(traveler_trips.driver_passenger_flag>0)]\n",
    "# target_trips=target_trips[(target_trips.orig_taz!=target_trips.dest_taz) | (target_trips.trip_counter==1)]\n",
    "# target_trips=target_trips.append(traveler_trips[traveler_trips.tripmode>8])\n",
    "# target_trips.value_of_time=target_trips.value_of_time*0.8\n",
    "# car_transit_trips_sample.value_of_time=car_transit_trips_sample.value_of_time*0.7\n",
    "# for share_ride_factor in [1,1.25,1.5]:\n",
    "print('********************************')\n",
    "print(share_ride_factor)\n",
    "route_infomodechoice,darp_solutionsmodechoice=\\\n",
    "sod.get_route_info_allhh(car_transit_trips_sample,\n",
    "                         output_flag,min_length,max_length,single_model_runtime,drivingcost_per_mile,\n",
    "                         reward_mode,run_mode,cav_use_mode,num_time_interval,num_cav,share_ride_factor\n",
    "                         ,time_window_flag,Vehicular_Skim_Dict,\n",
    "                         Transit_AB_Cost_Skim_Dict,Transit_AB_Time_Skim_Dict,three_link_walk_dict,\n",
    "                         superzone_map,TL,TU,\n",
    "                         transit_zone_dict,transit_zone_candidates,TransitMazTazFlag,\n",
    "                         TransitSkimTimeIntervalLength )\n",
    "\n"
   ]
  },
  {
   "cell_type": "code",
   "execution_count": 55,
   "metadata": {},
   "outputs": [
    {
     "name": "stdout",
     "output_type": "stream",
     "text": [
      "Number of AV Trips 22404\n",
      "Number of Shared Rides 310.0\n",
      "Total VMT 162222.538000003\n",
      "Number of occupied trips   18081\n",
      "Number of unoccupied trips  4323\n",
      "Number of transit trips -38.0\n",
      "total_convention_vehicle_driving_time 1310.4933333333283\n",
      "total_convention_vehicle_driving_distance 133666.38099999996\n",
      "total_AV_driving_time 1559.418333333341\n",
      "total_AV_unoccupied_driving_time 286.98333333333375\n",
      "total_AV_driving_distance 162270.12600000302\n",
      "total_AV_unoccupied_driving_distance 30273.89699999995\n"
     ]
    }
   ],
   "source": [
    "pod.analysis_network_level_results(route_infomodechoice,darp_solutionsmodechoice,car_trips_sample,\n",
    "                                   Vehicular_Skim_Dict,superzone_map,drivingcost_per_mile)"
   ]
  },
  {
   "cell_type": "code",
   "execution_count": 43,
   "metadata": {
    "scrolled": true
   },
   "outputs": [
    {
     "data": {
      "text/plain": [
       "Index(['orig_zone', 'dest_zone', 'orig_node_index', 'dest_node_index',\n",
       "       'person_id', 'origin_arrival_time', 'dest_arrival_time',\n",
       "       'dest_expected_arrival_time', 'value_of_time', 'start_time',\n",
       "       'Activity_Time', 'hh_id', 'hh_vehicle_id', 'shared_ride_flag',\n",
       "       'pickup_trip_flag', 'transit_utility', 'car_utility',\n",
       "       'intrasuperzone_flag', 'seg_index', 'veh_seg_index'],\n",
       "      dtype='object')"
      ]
     },
     "execution_count": 43,
     "metadata": {},
     "output_type": "execute_result"
    }
   ],
   "source": [
    "route_info.columns"
   ]
  },
  {
   "cell_type": "code",
   "execution_count": 48,
   "metadata": {
    "scrolled": true
   },
   "outputs": [
    {
     "name": "stdout",
     "output_type": "stream",
     "text": [
      "Number of Trips 21827\n",
      "Number of Shared Rides 327\n",
      "Total VMT 160581.2780000041\n",
      "Number of occupied trips   18057\n",
      "Number of unoccupied trips  3770\n",
      "Number of transit trips 0\n",
      "total_convention_vehicle_driving_time 1310.4933333333283\n",
      "total_convention_vehicle_driving_distance 133666.38099999996\n",
      "total_AV_driving_time 1554.0033333333445\n",
      "total_AV_unoccupied_driving_time 255.59166666666633\n",
      "total_AV_driving_distance 160599.42900000414\n",
      "total_AV_unoccupied_driving_distance 26749.142999999953\n"
     ]
    }
   ],
   "source": []
  },
  {
   "cell_type": "code",
   "execution_count": 28,
   "metadata": {},
   "outputs": [
    {
     "data": {
      "text/plain": [
       "17727"
      ]
     },
     "execution_count": 28,
     "metadata": {},
     "output_type": "execute_result"
    }
   ],
   "source": [
    "route_info.pickup_trip_flag.sum()"
   ]
  },
  {
   "cell_type": "code",
   "execution_count": 29,
   "metadata": {},
   "outputs": [
    {
     "data": {
      "text/plain": [
       "327"
      ]
     },
     "execution_count": 29,
     "metadata": {},
     "output_type": "execute_result"
    }
   ],
   "source": [
    "route_info.shared_ride_flag.sum()"
   ]
  },
  {
   "cell_type": "code",
   "execution_count": null,
   "metadata": {
    "collapsed": true
   },
   "outputs": [],
   "source": [
    "route_info."
   ]
  },
  {
   "cell_type": "code",
   "execution_count": null,
   "metadata": {},
   "outputs": [],
   "source": [
    "len(route_info_modechoice)"
   ]
  },
  {
   "cell_type": "code",
   "execution_count": null,
   "metadata": {},
   "outputs": [],
   "source": [
    "len(car_transit_trips_sample)"
   ]
  },
  {
   "cell_type": "code",
   "execution_count": null,
   "metadata": {},
   "outputs": [],
   "source": [
    "len(route_info_modechoice)"
   ]
  },
  {
   "cell_type": "code",
   "execution_count": null,
   "metadata": {},
   "outputs": [],
   "source": [
    "total_num_pickup_trip=0\n",
    "for keys,value in darp_solutions_modechoice.items():\n",
    "#     print(value)\n",
    "    total_num_pickup_trip+=value['num_pickup_trips']\n"
   ]
  },
  {
   "cell_type": "code",
   "execution_count": null,
   "metadata": {},
   "outputs": [],
   "source": [
    "total_num_pickup_trip"
   ]
  },
  {
   "cell_type": "code",
   "execution_count": null,
   "metadata": {},
   "outputs": [],
   "source": [
    "target_trips.groupby('predicted_mode').count()"
   ]
  },
  {
   "cell_type": "code",
   "execution_count": null,
   "metadata": {
    "collapsed": true
   },
   "outputs": [],
   "source": [
    "route_info_modechoice08.to_csv('route_info_modechoice08')\n"
   ]
  },
  {
   "cell_type": "code",
   "execution_count": null,
   "metadata": {
    "collapsed": true
   },
   "outputs": [],
   "source": [
    "pod.save_obj(darp_solutions_modechoice08,'darp_solutions_modechoice08','Output/')"
   ]
  },
  {
   "cell_type": "code",
   "execution_count": null,
   "metadata": {
    "collapsed": true
   },
   "outputs": [],
   "source": [
    "pickle.dump(darp_solutions_modechoice08,'darp_solutions_modechoice09',)"
   ]
  },
  {
   "cell_type": "code",
   "execution_count": null,
   "metadata": {},
   "outputs": [],
   "source": [
    "len(route_info_modechoice08[route_info_modechoice08.person_id==0])"
   ]
  },
  {
   "cell_type": "code",
   "execution_count": null,
   "metadata": {
    "collapsed": true
   },
   "outputs": [],
   "source": [
    "drivingcost_per_mile=0.5"
   ]
  },
  {
   "cell_type": "code",
   "execution_count": null,
   "metadata": {
    "collapsed": true
   },
   "outputs": [],
   "source": [
    "modechoice_target_trips=traveler_trips.loc[(traveler_trips.tripmode<=6) &(traveler_trips.driver_passenger_flag>0)]\n",
    "modechoice_target_trips=modechoice_target_trips[(modechoice_target_trips.orig_taz!=modechoice_target_trips.dest_taz) | (modechoice_target_trips.trip_counter==1)]\n",
    "modechoice_target_trips=modechoice_target_trips.append(traveler_trips[traveler_trips.tripmode>8])"
   ]
  },
  {
   "cell_type": "code",
   "execution_count": null,
   "metadata": {
    "collapsed": true
   },
   "outputs": [],
   "source": [
    "modechoice_target_trips=prd.compare_mode_utlity(modechoice_target_trips,TransitMazTazFlag,\n",
    "                                               three_link_walk_dict,Transit_AB_Cost_Skim_Dict,\n",
    "                                               Transit_AB_Time_Skim_Dict,TransitSkimTimeIntervalLength,\n",
    "                                               Vehicular_Skim_Dict1,superzone_map,drivingcost_per_mile,transit_zone_dict)"
   ]
  },
  {
   "cell_type": "code",
   "execution_count": null,
   "metadata": {
    "collapsed": true
   },
   "outputs": [],
   "source": [
    "modechoice_target_trips.value_of_time=modechoice_target_trips.value_of_time*0.8"
   ]
  },
  {
   "cell_type": "code",
   "execution_count": null,
   "metadata": {
    "collapsed": true
   },
   "outputs": [],
   "source": [
    "modechoice_target_trips['car_utility']=modechoice_target_trips.apply(lambda row: \n",
    "        (prd.estimate_single_car_trip_cost(row.orig_taz,row.dest_taz,row.starttime,row.value_of_time,\n",
    "        Vehicular_Skim_Dict,0,superzone_map,drivingcost_per_mile)), axis=1)\n",
    "    \n",
    "modechoice_target_trips['predicted_mode']=modechoice_target_trips.apply(lambda row:\n",
    "    'NonCar' if row.transit_utility<row.car_utility else 'Car',axis=1)"
   ]
  },
  {
   "cell_type": "code",
   "execution_count": null,
   "metadata": {
    "scrolled": true
   },
   "outputs": [],
   "source": [
    "modechoice_target_trips.groupby(['predicted_mode']).count()"
   ]
  },
  {
   "cell_type": "code",
   "execution_count": null,
   "metadata": {},
   "outputs": [],
   "source": [
    "run_name='allhhcartrip1.5/'\n",
    "output_filepath='Output/'+run_name\n",
    "route_info_allcar=pd.read_csv(output_filepath+'route_info.csv')\n",
    "darp_solution=pod.load_obj('darp_solutions',output_filepath)\n",
    "average_value_of_time=round(traveler_trips.value_of_time.mean(),4)\n",
    "external_factor='50'\n",
    "dtd.write_darp_solution_to_file(run_name,output_filepath,route_info_allcar,darp_solution,origin_links,\n",
    "    superzone_map,intrasuperzone_path_dic,average_value_of_time,external_factor)"
   ]
  },
  {
   "cell_type": "code",
   "execution_count": null,
   "metadata": {
    "scrolled": true
   },
   "outputs": [],
   "source": [
    "run_name='allhhcartrip1.5/'\n",
    "output_filepath='Output/'+run_name\n",
    "route_info_allcar15=pd.read_csv(output_filepath+'route_info.csv')\n",
    "darp_solution_callcar15=pod.load_obj('darp_solutions',output_filepath)\n",
    "average_value_of_time=round(traveler_trips.value_of_time.mean(),4)\n",
    "external_factor='50'\n",
    "dtd.write_darp_solution_to_file(run_name,output_filepath,route_info_allcar15,darp_solution_callcar15,origin_links,\n",
    "    superzone_map,intrasuperzone_path_dic,average_value_of_time,external_factor)"
   ]
  },
  {
   "cell_type": "code",
   "execution_count": null,
   "metadata": {
    "scrolled": true
   },
   "outputs": [],
   "source": [
    "run_name='allhhcartrip1.25/'\n",
    "output_filepath='Output/'+run_name\n",
    "route_info_allcar125=pd.read_csv(output_filepath+'route_info.csv')\n",
    "darp_solution_allcar125=pod.load_obj('darp_solutions',output_filepath)\n",
    "average_value_of_time=round(traveler_trips.value_of_time.mean(),4)\n",
    "external_factor='50'\n",
    "dtd.write_darp_solution_to_file(run_name,output_filepath,route_info_allcar,darp_solution_allcar125,origin_links,\n",
    "    superzone_map,intrasuperzone_path_dic,average_value_of_time,external_factor)"
   ]
  },
  {
   "cell_type": "code",
   "execution_count": null,
   "metadata": {},
   "outputs": [],
   "source": [
    "run_name='modechoice1.1/'\n",
    "output_filepath='Output/'+run_name\n",
    "route_info_modechoice10=pd.read_csv(output_filepath+'route_info.csv')\n",
    "darp_solution_modechoice10=pod.load_obj('darp_solutions',output_filepath)\n",
    "average_value_of_time=round(traveler_trips.value_of_time.mean(),4)\n",
    "output_filepath=output_filepath\n",
    "external_factor='40'\n",
    "dtd.write_darp_solution_to_file(run_name,output_filepath,route_info_modechoice10,darp_solution_modechoice10,origin_links,\n",
    "    superzone_map,intrasuperzone_path_dic,average_value_of_time,external_factor)\n",
    "\n",
    "# dtd.route_to_vehiclepathdat(route_info_modechoice10,origin_links,output_filepath,\n",
    "#                             vehicle_filepath,path_filepath,superzone_map,\n",
    "#                                 intrasuperzone_path_dic,external_vehicle_filepath,average_value_of_time)"
   ]
  },
  {
   "cell_type": "code",
   "execution_count": null,
   "metadata": {
    "collapsed": true
   },
   "outputs": [],
   "source": [
    "community_solution_allcar15=pod.load_obj('community_allcar15','Output/')"
   ]
  },
  {
   "cell_type": "code",
   "execution_count": null,
   "metadata": {},
   "outputs": [],
   "source": [
    "community_solution_allcar15"
   ]
  },
  {
   "cell_type": "code",
   "execution_count": null,
   "metadata": {
    "scrolled": true
   },
   "outputs": [],
   "source": [
    "target_trips=traveler_trips.loc[(traveler_trips.tripmode<=6) &(traveler_trips.driver_passenger_flag>0)]\n",
    "target_trips=target_trips[(target_trips.orig_taz!=target_trips.dest_taz) | (target_trips.trip_counter==1)]\n",
    "target_trips=target_trips.append(traveler_trips[traveler_trips.tripmode>6])\n",
    "target_trips=target_trips[(target_trips.orig_taz!=target_trips.dest_taz) | (target_trips.trip_counter==1)]\n",
    "community_hh_list=[972044,972024,2212041,2212030,937968,2285653,1309779,1738127,2034377,2066988]\n",
    "community_trips=pd.DataFrame()\n",
    "for hh_id in community_hh_list:\n",
    "#     print(len(target_trips[target_trips.hh_id==hh_id]))\n",
    "    community_trips=community_trips.append(target_trips[target_trips.hh_id==hh_id])\n",
    "sorted_trips=community_trips.sort_values('starttime')\n",
    "pod.analysis_one_hh_result(937968,[community_solution_allcar15],community_trips,5,Vehicular_Skim_Dict,superzone_map)"
   ]
  },
  {
   "cell_type": "code",
   "execution_count": null,
   "metadata": {},
   "outputs": [],
   "source": [
    "pod.plot_route_info_schedule(community_solution_allcar15['route_info'],community_trips,5)"
   ]
  }
 ],
 "metadata": {
  "kernelspec": {
   "display_name": "Python 3",
   "language": "python",
   "name": "python3"
  },
  "language_info": {
   "codemirror_mode": {
    "name": "ipython",
    "version": 3
   },
   "file_extension": ".py",
   "mimetype": "text/x-python",
   "name": "python",
   "nbconvert_exporter": "python",
   "pygments_lexer": "ipython3",
   "version": "3.6.2"
  }
 },
 "nbformat": 4,
 "nbformat_minor": 2
}
