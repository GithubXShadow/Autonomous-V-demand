{
 "cells": [
  {
   "cell_type": "code",
   "execution_count": 1,
   "metadata": {
    "collapsed": true
   },
   "outputs": [],
   "source": [
    "import numpy as np\n",
    "import pandas as pd\n",
    "import matplotlib as plt\n",
    "import networkx as nx\n",
    "%matplotlib inline\n",
    "# from DYNASMART_Process import *\n",
    "from Modules import DYNASMART_Process as dy\n",
    "# import preprocessing_read_skim_file as rs\n",
    "from Modules import AV_functions as av\n",
    "from Modules import Solve_DARP as sod\n",
    "from Modules import Postprocess_DARP as pod\n",
    "from Modules import Preprocess_DARP as prd\n",
    "from Modules import DARP_to_DYNA as dtd\n",
    "from gurobipy import *\n",
    "from Modules import *\n",
    "import datetime\n",
    "import requests\n",
    "import math\n",
    "import importlib\n",
    "import random\n",
    "%load_ext autoreload\n",
    "%autoreload 2"
   ]
  },
  {
   "cell_type": "code",
   "execution_count": 2,
   "metadata": {
    "scrolled": true
   },
   "outputs": [
    {
     "name": "stdout",
     "output_type": "stream",
     "text": [
      "56 57 72\n"
     ]
    }
   ],
   "source": [
    "#Read in the basic traveler and trips informationa and joint the houshold id\n",
    "# traveler_info=pd.read_csv('input/traveler.csv')\n",
    "personData=pd.read_csv('input/personData_1.csv')\n",
    "person_type_dic=dict(zip(personData.person_id,personData.type))\n",
    "traveler_trips=pd.read_csv('input/traveler_trip_info_improved.csv',index_col=0)\n",
    "num_zones,num_nodes,num_links,node_detail,node_id,link_detail,link_id=dy.read_network('input/network.dat')\n",
    "nodexy=dy.read_xy('input/xy.dat')\n",
    "superzone_filepath='Input/SuperZone.dat'\n",
    "linktraveltime_filepath='Input/output_td_linktraveltime.dat'\n",
    "superzone_map=dy.read_superzone_info(superzone_filepath)\n",
    "origin_path='Input/origin.dat'\n",
    "destination_path='Input/destination.dat'\n",
    "origins,destinations,origin_links=dy.read_origin_destion(origin_path,destination_path)\n",
    "origin_links['length']=origin_links.apply(lambda row: \n",
    "                                          link_detail[int(link_id[node_id[row.u_node],node_id[row.d_node]])][0,4],axis=1)\n",
    "VPNRSkim_folder_filepath='Input/vehicularPNRSkim'\n",
    "Vehicular_Skim,Vehicular_Skim_Dict=dy.read_vehicle_skim(VPNRSkim_folder_filepath)\n",
    "transit_skim_folderpath='Input/'\n",
    "TransitMazTazFlag,drivingweight,walkingweight,\\\n",
    "TransitSkimTimeIntervalLength,MaxNumTransitSkimTimeInterval,WalkSpeed,transit_zone_candidates,\\\n",
    "Transit_AB_Cost_Skim,Transit_AB_Time_Skim,three_link_walk=dy.read_transitskim(transit_skim_folderpath)\n",
    "Transit_AB_Cost_Skim_Dict=dy.convert_skim_dataframe_to_dict(Transit_AB_Cost_Skim,TransitSkimTimeIntervalLength)\n",
    "Transit_AB_Time_Skim_Dict=dy.convert_skim_dataframe_to_dict(Transit_AB_Time_Skim,TransitSkimTimeIntervalLength)\n",
    "transit_zone_dict={}\n",
    "for link_zone in three_link_walk.three_link_zone.unique():\n",
    "    transit_zone_dict[link_zone]=list(three_link_walk[three_link_walk.three_link_zone==link_zone]['transit_zone'].astype(int))\n",
    "three_link_walk_dict={}\n",
    "for index,group in three_link_walk.groupby(['three_link_zone']):\n",
    "    three_link_walk_dict[index]={}\n",
    "    for inx,row in group.iterrows():\n",
    "        three_link_walk_dict[index][row.transit_zone]=row.distance\n",
    "intrasuperzone_vehicle_filepath='Input/intrasuperzone_vehicle.dat'\n",
    "intrasuperzone_path_filepath='Input/intrasuperzone_path.dat'\n",
    "drivingcost_per_mile=0.5\n",
    "intrasuperzone_info,intrasuperzone_path_dic=dtd.read_intrasuperzone_files(intrasuperzone_vehicle_filepath,intrasuperzone_path_filepath)\n",
    "traveler_trips=prd.compare_mode_utlity(traveler_trips,TransitMazTazFlag,\n",
    "                        three_link_walk_dict,Transit_AB_Cost_Skim_Dict,\n",
    "                        Transit_AB_Time_Skim_Dict,TransitSkimTimeIntervalLength,\n",
    "                        Vehicular_Skim_Dict,superzone_map,drivingcost_per_mile,transit_zone_dict)"
   ]
  },
  {
   "cell_type": "code",
   "execution_count": 3,
   "metadata": {
    "collapsed": true
   },
   "outputs": [],
   "source": [
    "car_trips=traveler_trips.loc[(traveler_trips.tripmode<=6) &(traveler_trips.driver_passenger_flag>=1)]\n",
    "car_trips=car_trips.loc[(car_trips.orig_taz !=car_trips.dest_taz) | (car_trips.trip_counter==1)]\n",
    "car_transit_trips=car_trips.append(traveler_trips[traveler_trips.tripmode>8])\n",
    "# car_transit_trips=prd.compare_mode_utlity(car_transit_trips,TransitMazTazFlag,\n",
    "#                         three_link_walk_dict,Transit_AB_Cost_Skim_Dict,\n",
    "#                         Transit_AB_Time_Skim_Dict,TransitSkimTimeIntervalLength,\n",
    "#                         Vehicular_Skim_Dict,superzone_map,drivingcost_per_mile,transit_zone_dict)\n",
    "random.seed(100)\n",
    "car_transit_trips_sample=car_transit_trips[car_transit_trips.hh_id.isin(random.sample(list(car_transit_trips.hh_id.unique()),3000))]\n",
    "car_trips_sample=car_trips[car_trips.hh_id.isin(random.sample(list(car_transit_trips.hh_id.unique()),3000))]"
   ]
  },
  {
   "cell_type": "code",
   "execution_count": 709,
   "metadata": {},
   "outputs": [
    {
     "data": {
      "text/plain": [
       "1.1787082975171714"
      ]
     },
     "execution_count": 709,
     "metadata": {},
     "output_type": "execute_result"
    }
   ],
   "source": [
    "deviation_list=[]\n",
    "num_trips=[]\n",
    "hh_id_list=[]\n",
    "target_darp_solutions=darp_solutions_modechoice05vot\n",
    "for hh_id in car_transit_trips.hh_id.unique():\n",
    "    hh_id_list.extend([hh_id])\n",
    "    num_trips.extend([target_darp_solutions[hh_id]['num_pickup_trips']])\n",
    "    deviation_list.extend([target_darp_solutions[hh_id]['schedule_deviation']])\n",
    "deviation=pd.DataFrame({'hh_id':hh_id_list,'num_trips':num_trips,'deviation_list':deviation_list})\n",
    "deviation.deviation_list.sum()/deviation.num_trips.sum()"
   ]
  },
  {
   "cell_type": "code",
   "execution_count": 693,
   "metadata": {},
   "outputs": [
    {
     "name": "stdout",
     "output_type": "stream",
     "text": [
      "2018-07-30 22:09:01.105899\n",
      "2018-07-30 22:09:40.721146\n",
      "20000 2018-07-30 22:10:38.059407\n",
      "30000 2018-07-30 22:11:07.079056\n",
      "40000 2018-07-30 22:11:44.485182\n",
      "50000 2018-07-30 22:12:22.442340\n",
      "60000 2018-07-30 22:12:59.786469\n",
      "70000 2018-07-30 22:13:28.310085\n",
      "80000 2018-07-30 22:13:41.674845\n",
      "100000 2018-07-30 22:14:17.465879\n",
      "110000 2018-07-30 22:14:46.400524\n",
      "120000 2018-07-30 22:15:16.113213\n",
      "140000 2018-07-30 22:15:58.317612\n",
      "160000 2018-07-30 22:16:24.431097\n",
      "170000 2018-07-30 22:16:40.283998\n",
      "180000 2018-07-30 22:16:56.083896\n",
      "200000 2018-07-30 22:17:38.326298\n",
      "220000 2018-07-30 22:18:25.631987\n",
      "230000 2018-07-30 22:18:53.814590\n",
      "240000 2018-07-30 22:19:19.443046\n",
      "250000 2018-07-30 22:19:54.492039\n"
     ]
    }
   ],
   "source": [
    "run_name='modechoice05vot/'\n",
    "output_filepath='Output/'+run_name\n",
    "\n",
    "average_value_of_time=round(traveler_trips.value_of_time.mean(),4)\n",
    "output_filepath=output_filepath\n",
    "external_factor='50'\n",
    "dtd.write_darp_solution_to_file(run_name,output_filepath,route_info_modechoice05vot,darp_solutions_modechoice05vot,origin_links,\n",
    "    superzone_map,intrasuperzone_path_dic,average_value_of_time,external_factor)\n"
   ]
  },
  {
   "cell_type": "code",
   "execution_count": null,
   "metadata": {
    "collapsed": true,
    "scrolled": true
   },
   "outputs": [],
   "source": [
    "target_trips=traveler_trips.loc[(traveler_trips.tripmode<=6) &(traveler_trips.driver_passenger_flag>0)]\n",
    "target_trips=target_trips[(target_trips.orig_taz!=target_trips.dest_taz) | (target_trips.trip_counter==1)]\n",
    "target_trips=target_trips.append(traveler_trips[traveler_trips.tripmode>6])\n",
    "target_trips=target_trips[(target_trips.orig_taz!=target_trips.dest_taz) | (target_trips.trip_counter==1)]\n",
    "community_hh_list=[972044,972024,2212041,2212030,937968,2285653,1309779,1738127,2034377,2066988]\n",
    "community_trips=pd.DataFrame()\n",
    "for hh_id in community_hh_list:\n",
    "#     print(len(target_trips[target_trips.hh_id==hh_id]))\n",
    "    community_trips=community_trips.append(target_trips[target_trips.hh_id==hh_id])\n",
    "sorted_trips=community_trips.sort_values('starttime')\n",
    "pod.analysis_one_hh_result(937968,[community_solution_allcar15],community_trips,5,Vehicular_Skim_Dict,superzone_map)"
   ]
  },
  {
   "cell_type": "code",
   "execution_count": null,
   "metadata": {
    "collapsed": true
   },
   "outputs": [],
   "source": [
    "pod.plot_route_info_schedule(community_solution_allcar15['route_info'],community_trips,5)"
   ]
  }
 ],
 "metadata": {
  "kernelspec": {
   "display_name": "Python 3",
   "language": "python",
   "name": "python3"
  },
  "language_info": {
   "codemirror_mode": {
    "name": "ipython",
    "version": 3
   },
   "file_extension": ".py",
   "mimetype": "text/x-python",
   "name": "python",
   "nbconvert_exporter": "python",
   "pygments_lexer": "ipython3",
   "version": "3.6.2"
  }
 },
 "nbformat": 4,
 "nbformat_minor": 2
}
